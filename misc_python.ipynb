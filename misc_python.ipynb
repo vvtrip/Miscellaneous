{
  "cells": [
    {
      "cell_type": "markdown",
      "metadata": {
        "id": "view-in-github",
        "colab_type": "text"
      },
      "source": [
        "<a href=\"https://colab.research.google.com/github/vvtrip/Miscellaneous/blob/master/misc_python.ipynb\" target=\"_parent\"><img src=\"https://colab.research.google.com/assets/colab-badge.svg\" alt=\"Open In Colab\"/></a>"
      ]
    },
    {
      "cell_type": "markdown",
      "source": [
        "# Basic Data types"
      ],
      "metadata": {
        "id": "FimjXajgfchz"
      },
      "id": "FimjXajgfchz"
    },
    {
      "cell_type": "code",
      "execution_count": 1,
      "id": "203decd8",
      "metadata": {
        "colab": {
          "base_uri": "https://localhost:8080/",
          "height": 0
        },
        "id": "203decd8",
        "outputId": "01352521-4e14-4026-b370-a4335a0713bd"
      },
      "outputs": [
        {
          "output_type": "execute_result",
          "data": {
            "text/plain": [
              "'aceg'"
            ],
            "application/vnd.google.colaboratory.intrinsic+json": {
              "type": "string"
            }
          },
          "metadata": {},
          "execution_count": 1
        }
      ],
      "source": [
        "#jump characters in string by specifying step, here step is 2 (default is 1)\n",
        "x = 'abcdefgh'\n",
        "x[::2]"
      ]
    },
    {
      "cell_type": "code",
      "execution_count": 2,
      "id": "9f98dda0",
      "metadata": {
        "colab": {
          "base_uri": "https://localhost:8080/"
        },
        "id": "9f98dda0",
        "outputId": "2f9200f0-0d62-418e-8a59-6acd1badb278"
      },
      "outputs": [
        {
          "output_type": "stream",
          "name": "stdout",
          "text": [
            "5.551115123125783e-17\n"
          ]
        }
      ],
      "source": [
        "print(0.1 + 0.2 - 0.3)\n",
        "#this has to do with floating point accuracy and computer's abilities to represent\n",
        "#numbers in memory. CHECK - https://docs.python.org/2/tutorial/floatingpoint.html"
      ]
    },
    {
      "cell_type": "code",
      "source": [
        "#formatted string\n",
        "print('The {}'.format('fox'))\n",
        "print('The {} {} {}'.format('fox','brown','quick'))\n",
        "print('The {1} {2} {0}'.format('fox','brown','quick')) #using index position\n",
        "print('The {q} {b} {f}'.format(f='fox',b='brown',q='quick'))\n",
        "f='fox';b='brown';q='quick'\n",
        "print(f'The {f} {q} {b}') #known as f strings"
      ],
      "metadata": {
        "colab": {
          "base_uri": "https://localhost:8080/"
        },
        "id": "Tma2m84TGm3v",
        "outputId": "e67c610d-9f4c-4d5a-c41c-d42b2c0e1e50"
      },
      "id": "Tma2m84TGm3v",
      "execution_count": 3,
      "outputs": [
        {
          "output_type": "stream",
          "name": "stdout",
          "text": [
            "The fox\n",
            "The fox brown quick\n",
            "The brown quick fox\n",
            "The quick brown fox\n",
            "The fox quick brown\n"
          ]
        }
      ]
    },
    {
      "cell_type": "code",
      "source": [
        "#float fomratting\n",
        "\n",
        "# {value:width.precision f}\n",
        "x = 100/77\n",
        "\n",
        "print(f'value is {x:1.9f}') #can be used as an alternative of round()"
      ],
      "metadata": {
        "colab": {
          "base_uri": "https://localhost:8080/"
        },
        "id": "qhEfBi0tNoxl",
        "outputId": "9b6a3b9e-9a84-4e6b-9bb0-d2241480ffd8"
      },
      "id": "qhEfBi0tNoxl",
      "execution_count": 4,
      "outputs": [
        {
          "output_type": "stream",
          "name": "stdout",
          "text": [
            "value is 1.298701299\n"
          ]
        }
      ]
    },
    {
      "cell_type": "code",
      "source": [
        "num_list = [1,2,3,4,5,6,7]\n",
        "print(num_list.pop()) #returns last elements and also deletes it from the list\n",
        "print(num_list)"
      ],
      "metadata": {
        "colab": {
          "base_uri": "https://localhost:8080/"
        },
        "id": "9UIQo3lIP_8B",
        "outputId": "e6f57424-7b17-4822-9667-d30ffb249824"
      },
      "id": "9UIQo3lIP_8B",
      "execution_count": 5,
      "outputs": [
        {
          "output_type": "stream",
          "name": "stdout",
          "text": [
            "7\n",
            "[1, 2, 3, 4, 5, 6]\n"
          ]
        }
      ]
    },
    {
      "cell_type": "code",
      "source": [
        "print(num_list.pop(0)) #position to delete\n",
        "num_list"
      ],
      "metadata": {
        "colab": {
          "base_uri": "https://localhost:8080/"
        },
        "id": "Sj4lDrcoTfdu",
        "outputId": "41e9b363-b220-401f-84f3-b3dfcfe4b92c"
      },
      "id": "Sj4lDrcoTfdu",
      "execution_count": 6,
      "outputs": [
        {
          "output_type": "stream",
          "name": "stdout",
          "text": [
            "1\n"
          ]
        },
        {
          "output_type": "execute_result",
          "data": {
            "text/plain": [
              "[2, 3, 4, 5, 6]"
            ]
          },
          "metadata": {},
          "execution_count": 6
        }
      ]
    },
    {
      "cell_type": "code",
      "source": [
        "my_list = ['a','e','b','x','c']\n",
        "print(my_list.sort()) #doesn't return anything as it sorts IN-PLACE\n",
        "print(my_list)\n",
        "\n",
        "#incorrect way of assignment\n",
        "my_list = ['a','e','b','x','c']\n",
        "my_sorted_list = my_list.sort()\n",
        "print(my_sorted_list)\n",
        "\n",
        "#but sort() makes changes to the list and that list can be stored or assigned or used\n",
        "my_list = ['a','e','b','x','c']\n",
        "my_list.sort()\n",
        "my_sorted_list = my_list\n",
        "print(my_sorted_list)"
      ],
      "metadata": {
        "colab": {
          "base_uri": "https://localhost:8080/"
        },
        "id": "uYqWWH79UkTI",
        "outputId": "6482c34b-4558-45c6-b35f-06bd813b6d34"
      },
      "id": "uYqWWH79UkTI",
      "execution_count": 7,
      "outputs": [
        {
          "output_type": "stream",
          "name": "stdout",
          "text": [
            "None\n",
            "['a', 'b', 'c', 'e', 'x']\n",
            "None\n",
            "['a', 'b', 'c', 'e', 'x']\n"
          ]
        }
      ]
    },
    {
      "cell_type": "code",
      "source": [
        "my_list = ['a','e','b','x','c']\n",
        "my_list.reverse()\n",
        "print(my_list)\n",
        "\n",
        "my_num_list = [1,4414235,4651353,43,3535,25,46,4365,6]\n",
        "my_num_list.sort()\n",
        "print(my_num_list)\n",
        "\n",
        "my_num_list = [1,4414235,4651353,43,3535,25,46,4365,6]\n",
        "print(my_num_list.reverse()) #reverse is jus tlike sort, INPLACE reversal\n",
        "print(my_num_list)"
      ],
      "metadata": {
        "colab": {
          "base_uri": "https://localhost:8080/"
        },
        "id": "K3vyqsjtUy6g",
        "outputId": "90516d6f-4f3f-4cd0-b6a7-de003edc1325"
      },
      "id": "K3vyqsjtUy6g",
      "execution_count": 8,
      "outputs": [
        {
          "output_type": "stream",
          "name": "stdout",
          "text": [
            "['c', 'x', 'b', 'e', 'a']\n",
            "[1, 6, 25, 43, 46, 3535, 4365, 4414235, 4651353]\n",
            "None\n",
            "[6, 4365, 46, 25, 3535, 43, 4651353, 4414235, 1]\n"
          ]
        }
      ]
    },
    {
      "cell_type": "code",
      "source": [
        "#tuple has lesser felxibility than lists since it is immutableand also lesser functionality\n",
        "# still it is useful for scenarios where we won't want values to be altered by mistake\n",
        "\n",
        "t = ('a','a','b')\n",
        "print(t.count('a'))\n",
        "print(t.index('a'))#returns first index\n",
        "print(t.index('b'))"
      ],
      "metadata": {
        "colab": {
          "base_uri": "https://localhost:8080/"
        },
        "id": "xaZr76ECYE_-",
        "outputId": "e87d7b86-19e9-4c03-da78-6b50968cf5dc"
      },
      "id": "xaZr76ECYE_-",
      "execution_count": 9,
      "outputs": [
        {
          "output_type": "stream",
          "name": "stdout",
          "text": [
            "2\n",
            "0\n",
            "2\n"
          ]
        }
      ]
    },
    {
      "cell_type": "code",
      "source": [
        "# magic function to create new file with content\n",
        "\n",
        "%%writefile my_new_file.txt\n",
        "ONE ON FIRST\n",
        "TWO ON SECOND\n",
        "THREE ON THIRD"
      ],
      "metadata": {
        "colab": {
          "base_uri": "https://localhost:8080/"
        },
        "id": "2Nbq6FGXbmFV",
        "outputId": "408a5d6e-89a0-479b-97af-d9f2b2ee91ca"
      },
      "id": "2Nbq6FGXbmFV",
      "execution_count": 10,
      "outputs": [
        {
          "output_type": "stream",
          "name": "stdout",
          "text": [
            "Writing my_new_file.txt\n"
          ]
        }
      ]
    },
    {
      "cell_type": "code",
      "source": [
        "import os;os.listdir()"
      ],
      "metadata": {
        "colab": {
          "base_uri": "https://localhost:8080/"
        },
        "id": "Z5Di9lGqdcW0",
        "outputId": "ef96d040-934b-43c3-8771-82554144fb5c"
      },
      "id": "Z5Di9lGqdcW0",
      "execution_count": 11,
      "outputs": [
        {
          "output_type": "execute_result",
          "data": {
            "text/plain": [
              "['.config', 'my_new_file.txt', 'sample_data']"
            ]
          },
          "metadata": {},
          "execution_count": 11
        }
      ]
    },
    {
      "cell_type": "code",
      "source": [
        "#tuple unpacking\n",
        "\n",
        "mylist = [(1,2), (3,4), (5,6), (7,8)]\n",
        "for (a, b) in mylist:\n",
        "  print(a)\n",
        "  print(b)\n",
        "\n",
        "#works  same without brackets as well\n",
        "mylist = [(1,2), (3,4), (5,6), (7,8)]\n",
        "for a,b in mylist:\n",
        "  print(a)\n",
        "  print(b)"
      ],
      "metadata": {
        "colab": {
          "base_uri": "https://localhost:8080/"
        },
        "id": "9cFX-9ixJuuA",
        "outputId": "74ede245-4605-4749-ad60-11dcf39caa79"
      },
      "id": "9cFX-9ixJuuA",
      "execution_count": 12,
      "outputs": [
        {
          "output_type": "stream",
          "name": "stdout",
          "text": [
            "1\n",
            "2\n",
            "3\n",
            "4\n",
            "5\n",
            "6\n",
            "7\n",
            "8\n",
            "1\n",
            "2\n",
            "3\n",
            "4\n",
            "5\n",
            "6\n",
            "7\n",
            "8\n"
          ]
        }
      ]
    },
    {
      "cell_type": "code",
      "source": [
        "lst1 = [1, 2, 3, 4, 5, 6, 7] #takes elements based on smallest list which is passed to zip function. so takes 3 in lst1 as per lst2\n",
        "lst2 = ['a', 'b', 'c']\n",
        "for item in zip(lst1, lst2):\n",
        "  print(item)"
      ],
      "metadata": {
        "colab": {
          "base_uri": "https://localhost:8080/"
        },
        "id": "kaIvMe4L85ko",
        "outputId": "e7b49efc-9c7b-4075-8d99-4e9edc9c987f"
      },
      "id": "kaIvMe4L85ko",
      "execution_count": 13,
      "outputs": [
        {
          "output_type": "stream",
          "name": "stdout",
          "text": [
            "(1, 'a')\n",
            "(2, 'b')\n",
            "(3, 'c')\n"
          ]
        }
      ]
    },
    {
      "cell_type": "code",
      "source": [
        "['EVEN' if x%2==0 else 'ODD' for x in lst1]"
      ],
      "metadata": {
        "colab": {
          "base_uri": "https://localhost:8080/"
        },
        "id": "TyCO8wBFA-Ae",
        "outputId": "b327cc99-d7af-485b-b8c1-c7f4aa435bb7"
      },
      "id": "TyCO8wBFA-Ae",
      "execution_count": 14,
      "outputs": [
        {
          "output_type": "execute_result",
          "data": {
            "text/plain": [
              "['ODD', 'EVEN', 'ODD', 'EVEN', 'ODD', 'EVEN', 'ODD']"
            ]
          },
          "metadata": {},
          "execution_count": 14
        }
      ]
    },
    {
      "cell_type": "code",
      "source": [
        "[x*y for x in [2,4,6] for y in [1,10,1000]]"
      ],
      "metadata": {
        "colab": {
          "base_uri": "https://localhost:8080/"
        },
        "id": "Al_PRXLAELfV",
        "outputId": "1b4022e1-0397-4948-c85d-2125f6d50872"
      },
      "id": "Al_PRXLAELfV",
      "execution_count": 15,
      "outputs": [
        {
          "output_type": "execute_result",
          "data": {
            "text/plain": [
              "[2, 20, 2000, 4, 40, 4000, 6, 60, 6000]"
            ]
          },
          "metadata": {},
          "execution_count": 15
        }
      ]
    },
    {
      "cell_type": "code",
      "source": [
        "def myfunc(*args):\n",
        "  print(args)\n",
        "  return sum(args)\n",
        "\n",
        "myfunc(1,2,3,4,5,6)"
      ],
      "metadata": {
        "id": "Z3ttVJiGEZoc",
        "colab": {
          "base_uri": "https://localhost:8080/"
        },
        "outputId": "1f9ede9e-bcbe-4570-b944-dc8b37db9917"
      },
      "id": "Z3ttVJiGEZoc",
      "execution_count": 16,
      "outputs": [
        {
          "output_type": "stream",
          "name": "stdout",
          "text": [
            "(1, 2, 3, 4, 5, 6)\n"
          ]
        },
        {
          "output_type": "execute_result",
          "data": {
            "text/plain": [
              "21"
            ]
          },
          "metadata": {},
          "execution_count": 16
        }
      ]
    },
    {
      "cell_type": "code",
      "source": [
        "def myfunc(**kwargs):\n",
        "  print(kwargs)\n",
        "  if 'fruit' in kwargs:\n",
        "    print(f\"my fruit choice is {kwargs['fruit']}\")\n",
        "  else:\n",
        "    print('i did not find my fruit here')\n",
        "\n",
        "myfunc(fruit='apple', veggie = 'potato')"
      ],
      "metadata": {
        "colab": {
          "base_uri": "https://localhost:8080/"
        },
        "id": "YSPL5yN_9iwy",
        "outputId": "3ab4f223-1992-4179-ebe8-ca70e39dc439"
      },
      "id": "YSPL5yN_9iwy",
      "execution_count": 17,
      "outputs": [
        {
          "output_type": "stream",
          "name": "stdout",
          "text": [
            "{'fruit': 'apple', 'veggie': 'potato'}\n",
            "my fruit choice is apple\n"
          ]
        }
      ]
    },
    {
      "cell_type": "code",
      "source": [
        "string = 'all lower'\n",
        "string.capitalize()"
      ],
      "metadata": {
        "colab": {
          "base_uri": "https://localhost:8080/",
          "height": 0
        },
        "id": "8ES8z8jI-VXb",
        "outputId": "09b6865b-1c3f-4842-c3ec-f8e3677f24fe"
      },
      "id": "8ES8z8jI-VXb",
      "execution_count": 18,
      "outputs": [
        {
          "output_type": "execute_result",
          "data": {
            "text/plain": [
              "'All lower'"
            ],
            "application/vnd.google.colaboratory.intrinsic+json": {
              "type": "string"
            }
          },
          "metadata": {},
          "execution_count": 18
        }
      ]
    },
    {
      "cell_type": "code",
      "source": [
        "# comparison of current and next element\n",
        "# check if 3 comes with 3 in a list\n",
        "def has_33(nums):\n",
        "  for i in range(len(nums)-1):\n",
        "    if nums[i:i+2] == [3,3]:\n",
        "      return True\n",
        "  return False\n",
        "\n",
        "has_33([1,3,1,3,3])"
      ],
      "metadata": {
        "colab": {
          "base_uri": "https://localhost:8080/"
        },
        "id": "9U5Zipm0Gt09",
        "outputId": "a0753a6e-46f3-4af3-f39b-27d75a8c3736"
      },
      "id": "9U5Zipm0Gt09",
      "execution_count": 19,
      "outputs": [
        {
          "output_type": "execute_result",
          "data": {
            "text/plain": [
              "True"
            ]
          },
          "metadata": {},
          "execution_count": 19
        }
      ]
    },
    {
      "cell_type": "code",
      "source": [
        "nums = [1,2,3,4,5]\n",
        "def square_it(num):\n",
        "  return num**2\n",
        "\n",
        "list(map(square_it, nums))"
      ],
      "metadata": {
        "colab": {
          "base_uri": "https://localhost:8080/"
        },
        "id": "UD6JH8-cH_jl",
        "outputId": "d0e30e77-9e5f-422f-debd-890d7f52bdd9"
      },
      "id": "UD6JH8-cH_jl",
      "execution_count": 20,
      "outputs": [
        {
          "output_type": "execute_result",
          "data": {
            "text/plain": [
              "[1, 4, 9, 16, 25]"
            ]
          },
          "metadata": {},
          "execution_count": 20
        }
      ]
    },
    {
      "cell_type": "code",
      "source": [
        "def check_even(num):\n",
        "  return num%2==0\n",
        "\n",
        "nums = [1,2,3,4,5,6]\n",
        "\n",
        "list(filter(check_even, nums))"
      ],
      "metadata": {
        "colab": {
          "base_uri": "https://localhost:8080/"
        },
        "id": "rgL_EttBOK72",
        "outputId": "64d273d2-cf1e-4855-d704-b7f31f1dd3a7"
      },
      "id": "rgL_EttBOK72",
      "execution_count": 21,
      "outputs": [
        {
          "output_type": "execute_result",
          "data": {
            "text/plain": [
              "[2, 4, 6]"
            ]
          },
          "metadata": {},
          "execution_count": 21
        }
      ]
    },
    {
      "cell_type": "code",
      "source": [
        "# lambda same as function\n",
        "def square(num): return num**2\n",
        "squaree = lambda x: x**2\n",
        "print(square(2))\n",
        "print(squaree(2))"
      ],
      "metadata": {
        "colab": {
          "base_uri": "https://localhost:8080/"
        },
        "id": "kImpENF_Sfs6",
        "outputId": "4bd9529e-1c17-4364-c081-cc29f02f43d2"
      },
      "id": "kImpENF_Sfs6",
      "execution_count": 22,
      "outputs": [
        {
          "output_type": "stream",
          "name": "stdout",
          "text": [
            "4\n",
            "4\n"
          ]
        }
      ]
    },
    {
      "cell_type": "code",
      "source": [
        "print(list(map(lambda x:x**2, nums)))\n",
        "print(list(filter(lambda x:x%2==0, nums)))"
      ],
      "metadata": {
        "colab": {
          "base_uri": "https://localhost:8080/"
        },
        "id": "PbFTiHPxTTwp",
        "outputId": "603e325e-a537-4b19-ad4f-1fddafe0722f"
      },
      "id": "PbFTiHPxTTwp",
      "execution_count": 23,
      "outputs": [
        {
          "output_type": "stream",
          "name": "stdout",
          "text": [
            "[1, 4, 9, 16, 25, 36]\n",
            "[2, 4, 6]\n"
          ]
        }
      ]
    },
    {
      "cell_type": "code",
      "source": [
        "# variable scope are checked in priority defined as LEGB:Local, Enclosed(function within function so parent function), Global and then Built in"
      ],
      "metadata": {
        "id": "3NtpOclKT1Tb"
      },
      "id": "3NtpOclKT1Tb",
      "execution_count": 24,
      "outputs": []
    },
    {
      "cell_type": "markdown",
      "source": [
        "# OOPS"
      ],
      "metadata": {
        "id": "jCWKyFUb2oG3"
      },
      "id": "jCWKyFUb2oG3"
    },
    {
      "cell_type": "code",
      "source": [
        "class abc():\n",
        "  def __init__(self, p1, p2):\n",
        "    self.p1 = p1\n",
        "    self.p2 = p2\n",
        "\n",
        "  def show(self):\n",
        "    print(self.p1, self.p2)\n",
        "\n",
        "\n",
        "obj = abc(10,15)\n",
        "obj.show()"
      ],
      "metadata": {
        "colab": {
          "base_uri": "https://localhost:8080/"
        },
        "id": "DVSGoVcpIFMK",
        "outputId": "ddcfef31-bc93-4080-af64-0f903ad467f4"
      },
      "id": "DVSGoVcpIFMK",
      "execution_count": 25,
      "outputs": [
        {
          "output_type": "stream",
          "name": "stdout",
          "text": [
            "10 15\n"
          ]
        }
      ]
    },
    {
      "cell_type": "markdown",
      "source": [
        "INHERITANCE"
      ],
      "metadata": {
        "id": "XE7MfytV52nj"
      },
      "id": "XE7MfytV52nj"
    },
    {
      "cell_type": "code",
      "source": [
        "class Animal():\n",
        "\n",
        "    def __init__(self):\n",
        "        print('ANIMAL CREATED')\n",
        "\n",
        "    def who_am_i(self):\n",
        "        print('I am an animal')\n",
        "    def eat(self):\n",
        "        print('I am eating')\n",
        "\n",
        "myanimal = Animal()\n",
        "myanimal.eat()"
      ],
      "metadata": {
        "colab": {
          "base_uri": "https://localhost:8080/"
        },
        "id": "U3CX9aIS32QL",
        "outputId": "d7233409-dcfb-494b-8fa8-b5879ef25382"
      },
      "id": "U3CX9aIS32QL",
      "execution_count": 26,
      "outputs": [
        {
          "output_type": "stream",
          "name": "stdout",
          "text": [
            "ANIMAL CREATED\n",
            "I am eating\n"
          ]
        }
      ]
    },
    {
      "cell_type": "code",
      "source": [
        "myanimal.who_am_i()"
      ],
      "metadata": {
        "colab": {
          "base_uri": "https://localhost:8080/"
        },
        "id": "AvRaWV7v38e5",
        "outputId": "eeb30f89-eed2-4b8d-989b-6a106e4669b1"
      },
      "id": "AvRaWV7v38e5",
      "execution_count": 27,
      "outputs": [
        {
          "output_type": "stream",
          "name": "stdout",
          "text": [
            "I am an animal\n"
          ]
        }
      ]
    },
    {
      "cell_type": "code",
      "source": [
        "class Dog(Animal):\n",
        "\n",
        "    def __init__(self):\n",
        "        Animal.__init__(self)\n",
        "        print('Dog Created')\n",
        "\n",
        "    def eat(self):\n",
        "        print('I am a dog and eating')\n",
        "\n",
        "    def bark(self):\n",
        "        print('WOOF')\n",
        "\n",
        "mydog = Dog()\n",
        "mydog.eat()"
      ],
      "metadata": {
        "colab": {
          "base_uri": "https://localhost:8080/"
        },
        "id": "x_iRJcvj3_my",
        "outputId": "8acaa1ca-e642-445d-fb6e-2ae29e709e3d"
      },
      "id": "x_iRJcvj3_my",
      "execution_count": 28,
      "outputs": [
        {
          "output_type": "stream",
          "name": "stdout",
          "text": [
            "ANIMAL CREATED\n",
            "Dog Created\n",
            "I am a dog and eating\n"
          ]
        }
      ]
    },
    {
      "cell_type": "code",
      "source": [
        "mydog.who_am_i()"
      ],
      "metadata": {
        "colab": {
          "base_uri": "https://localhost:8080/"
        },
        "id": "CHc6tHKp4EOd",
        "outputId": "4385a419-7f70-40ea-bb30-6af0d1509b7d"
      },
      "id": "CHc6tHKp4EOd",
      "execution_count": 29,
      "outputs": [
        {
          "output_type": "stream",
          "name": "stdout",
          "text": [
            "I am an animal\n"
          ]
        }
      ]
    },
    {
      "cell_type": "code",
      "source": [
        "mydog.bark()"
      ],
      "metadata": {
        "colab": {
          "base_uri": "https://localhost:8080/"
        },
        "id": "FI8WV_j_4Fqt",
        "outputId": "a4fec4fe-74ac-46fb-c794-9afb4aa21e19"
      },
      "id": "FI8WV_j_4Fqt",
      "execution_count": 30,
      "outputs": [
        {
          "output_type": "stream",
          "name": "stdout",
          "text": [
            "WOOF\n"
          ]
        }
      ]
    },
    {
      "cell_type": "markdown",
      "source": [
        "POLYMORPHISM"
      ],
      "metadata": {
        "id": "QFCQgbcN56gz"
      },
      "id": "QFCQgbcN56gz"
    },
    {
      "cell_type": "code",
      "source": [
        "class Animal():\n",
        "\n",
        "    def __init__(self, name):\n",
        "        self.name = name\n",
        "\n",
        "    def speak(self):\n",
        "      raise NotImplementedError('Subclass must implement this abstract method')\n",
        "\n",
        "myanimal = Animal('tom')\n",
        "myanimal.speak()"
      ],
      "metadata": {
        "id": "eXdMOjDh4JAl",
        "colab": {
          "base_uri": "https://localhost:8080/",
          "height": 306
        },
        "outputId": "8460710d-b76b-402c-df08-623b35d0cb33"
      },
      "id": "eXdMOjDh4JAl",
      "execution_count": 31,
      "outputs": [
        {
          "output_type": "error",
          "ename": "NotImplementedError",
          "evalue": "Subclass must implement this abstract method",
          "traceback": [
            "\u001b[0;31m---------------------------------------------------------------------------\u001b[0m",
            "\u001b[0;31mNotImplementedError\u001b[0m                       Traceback (most recent call last)",
            "\u001b[0;32m<ipython-input-31-1bb4eb990d7d>\u001b[0m in \u001b[0;36m<cell line: 10>\u001b[0;34m()\u001b[0m\n\u001b[1;32m      8\u001b[0m \u001b[0;34m\u001b[0m\u001b[0m\n\u001b[1;32m      9\u001b[0m \u001b[0mmyanimal\u001b[0m \u001b[0;34m=\u001b[0m \u001b[0mAnimal\u001b[0m\u001b[0;34m(\u001b[0m\u001b[0;34m'tom'\u001b[0m\u001b[0;34m)\u001b[0m\u001b[0;34m\u001b[0m\u001b[0;34m\u001b[0m\u001b[0m\n\u001b[0;32m---> 10\u001b[0;31m \u001b[0mmyanimal\u001b[0m\u001b[0;34m.\u001b[0m\u001b[0mspeak\u001b[0m\u001b[0;34m(\u001b[0m\u001b[0;34m)\u001b[0m\u001b[0;34m\u001b[0m\u001b[0;34m\u001b[0m\u001b[0m\n\u001b[0m",
            "\u001b[0;32m<ipython-input-31-1bb4eb990d7d>\u001b[0m in \u001b[0;36mspeak\u001b[0;34m(self)\u001b[0m\n\u001b[1;32m      5\u001b[0m \u001b[0;34m\u001b[0m\u001b[0m\n\u001b[1;32m      6\u001b[0m     \u001b[0;32mdef\u001b[0m \u001b[0mspeak\u001b[0m\u001b[0;34m(\u001b[0m\u001b[0mself\u001b[0m\u001b[0;34m)\u001b[0m\u001b[0;34m:\u001b[0m\u001b[0;34m\u001b[0m\u001b[0;34m\u001b[0m\u001b[0m\n\u001b[0;32m----> 7\u001b[0;31m       \u001b[0;32mraise\u001b[0m \u001b[0mNotImplementedError\u001b[0m\u001b[0;34m(\u001b[0m\u001b[0;34m'Subclass must implement this abstract method'\u001b[0m\u001b[0;34m)\u001b[0m\u001b[0;34m\u001b[0m\u001b[0;34m\u001b[0m\u001b[0m\n\u001b[0m\u001b[1;32m      8\u001b[0m \u001b[0;34m\u001b[0m\u001b[0m\n\u001b[1;32m      9\u001b[0m \u001b[0mmyanimal\u001b[0m \u001b[0;34m=\u001b[0m \u001b[0mAnimal\u001b[0m\u001b[0;34m(\u001b[0m\u001b[0;34m'tom'\u001b[0m\u001b[0;34m)\u001b[0m\u001b[0;34m\u001b[0m\u001b[0;34m\u001b[0m\u001b[0m\n",
            "\u001b[0;31mNotImplementedError\u001b[0m: Subclass must implement this abstract method"
          ]
        }
      ]
    },
    {
      "cell_type": "code",
      "source": [
        "class Dog(Animal):\n",
        "    #  no __init__ required\n",
        "    def speak(self):\n",
        "      return f\"{self.name} says WOOF!\"\n",
        "\n",
        "dg = Dog('tommy')\n",
        "dg.speak()"
      ],
      "metadata": {
        "colab": {
          "base_uri": "https://localhost:8080/",
          "height": 36
        },
        "id": "RGXCyNRi9Hrw",
        "outputId": "a2424195-7d29-4f86-fdd6-13a2d89dd176"
      },
      "id": "RGXCyNRi9Hrw",
      "execution_count": 32,
      "outputs": [
        {
          "output_type": "execute_result",
          "data": {
            "text/plain": [
              "'tommy says WOOF!'"
            ],
            "application/vnd.google.colaboratory.intrinsic+json": {
              "type": "string"
            }
          },
          "metadata": {},
          "execution_count": 32
        }
      ]
    },
    {
      "cell_type": "markdown",
      "source": [
        "SPECIAL (MAGIC/DUNDER) METHODS"
      ],
      "metadata": {
        "id": "-HJf1Y1_Eflq"
      },
      "id": "-HJf1Y1_Eflq"
    },
    {
      "cell_type": "code",
      "source": [
        "class Book():\n",
        "\n",
        "    def __init__(self, title, author, pages):\n",
        "\n",
        "        self.title = title\n",
        "        self.author = author\n",
        "        self.pages = pages\n",
        "\n",
        "    def __str__(self):\n",
        "        return f\"{self.title} by {self.author}\"\n",
        "\n",
        "    def __len__(self):\n",
        "        return self.pages\n",
        "\n",
        "    def __del__(self):\n",
        "        print('A book object has been deleted')\n",
        "\n",
        "b = Book('Python rocks', 'Jose', 200)\n",
        "print(b, len(b))"
      ],
      "metadata": {
        "colab": {
          "base_uri": "https://localhost:8080/"
        },
        "id": "QSNC_-47DO2y",
        "outputId": "6f4c0059-5295-473f-a834-b2bcf3ca93a8"
      },
      "id": "QSNC_-47DO2y",
      "execution_count": 33,
      "outputs": [
        {
          "output_type": "stream",
          "name": "stdout",
          "text": [
            "Python rocks by Jose 200\n"
          ]
        }
      ]
    },
    {
      "cell_type": "code",
      "source": [
        "del b"
      ],
      "metadata": {
        "id": "9Il1lraqE030"
      },
      "id": "9Il1lraqE030",
      "execution_count": 34,
      "outputs": []
    },
    {
      "cell_type": "code",
      "source": [
        "b"
      ],
      "metadata": {
        "colab": {
          "base_uri": "https://localhost:8080/",
          "height": 145
        },
        "id": "dymfiB15E2uc",
        "outputId": "c8a9815a-dbbd-4d41-cebe-42adaca5e3cf"
      },
      "id": "dymfiB15E2uc",
      "execution_count": 35,
      "outputs": [
        {
          "output_type": "error",
          "ename": "NameError",
          "evalue": "name 'b' is not defined",
          "traceback": [
            "\u001b[0;31m---------------------------------------------------------------------------\u001b[0m",
            "\u001b[0;31mNameError\u001b[0m                                 Traceback (most recent call last)",
            "\u001b[0;32m<ipython-input-35-89e6c98d9288>\u001b[0m in \u001b[0;36m<cell line: 1>\u001b[0;34m()\u001b[0m\n\u001b[0;32m----> 1\u001b[0;31m \u001b[0mb\u001b[0m\u001b[0;34m\u001b[0m\u001b[0;34m\u001b[0m\u001b[0m\n\u001b[0m",
            "\u001b[0;31mNameError\u001b[0m: name 'b' is not defined"
          ]
        }
      ]
    },
    {
      "cell_type": "code",
      "source": [
        "#one.py\n",
        "\n",
        "def func():\n",
        "  print(\"func() in one.py\")\n",
        "\n",
        "print('top level in one.py')\n",
        "\n",
        "if __name__ == '__main__':\n",
        "  print('one.py is being run directly')\n",
        "else:\n",
        "  print('one.py has been imported')\n",
        "\n"
      ],
      "metadata": {
        "colab": {
          "base_uri": "https://localhost:8080/"
        },
        "id": "oZH9JXVrE44s",
        "outputId": "ebd10971-44a6-4068-f334-10ffe32fc178"
      },
      "id": "oZH9JXVrE44s",
      "execution_count": 36,
      "outputs": [
        {
          "output_type": "stream",
          "name": "stdout",
          "text": [
            "top level in one.py\n",
            "one.py is being run directly\n"
          ]
        }
      ]
    },
    {
      "cell_type": "code",
      "source": [
        "class ONEE():\n",
        "\n",
        "  def func(self):\n",
        "    print(\"func() in one.py\")\n",
        "\n",
        "print('top level in one.py')\n",
        "\n",
        "if __name__ == '__main__':\n",
        "  print('one.py is being run directly')\n",
        "else:\n",
        "  print('one.py has been imported')"
      ],
      "metadata": {
        "colab": {
          "base_uri": "https://localhost:8080/"
        },
        "id": "vexIPwnkL4Pz",
        "outputId": "67129bb7-f5b5-43ca-9165-669e9ba770c1"
      },
      "id": "vexIPwnkL4Pz",
      "execution_count": 37,
      "outputs": [
        {
          "output_type": "stream",
          "name": "stdout",
          "text": [
            "top level in one.py\n",
            "one.py is being run directly\n"
          ]
        }
      ]
    },
    {
      "cell_type": "code",
      "source": [
        "\n",
        "one = ONEE() # can import python files in notebook but this file name is two.py and instead pf creating above object we we import one.py as import one and output would be different\n",
        "\n",
        "print('top level in two.py')\n",
        "\n",
        "one.func()\n",
        "\n",
        "if __name__ == '__main__':\n",
        "  print('two.py is being run directly')\n",
        "else:\n",
        "  print('two.py has been imported')"
      ],
      "metadata": {
        "colab": {
          "base_uri": "https://localhost:8080/"
        },
        "id": "4O8EEaywLDVx",
        "outputId": "9fe500fc-0892-45e0-e4fa-575fb32af4cc"
      },
      "id": "4O8EEaywLDVx",
      "execution_count": 38,
      "outputs": [
        {
          "output_type": "stream",
          "name": "stdout",
          "text": [
            "top level in two.py\n",
            "func() in one.py\n",
            "two.py is being run directly\n"
          ]
        }
      ]
    },
    {
      "cell_type": "markdown",
      "source": [
        "# ERRORS AND EXCEPTION HANDELING"
      ],
      "metadata": {
        "id": "vfES906sNITB"
      },
      "id": "vfES906sNITB"
    },
    {
      "cell_type": "code",
      "source": [
        "try:\n",
        "  result = 10+'10'\n",
        "except:\n",
        "  print('incorrect addition')\n",
        "else:\n",
        "  print('correct addition')\n",
        "  print(result)\n"
      ],
      "metadata": {
        "colab": {
          "base_uri": "https://localhost:8080/"
        },
        "id": "CTSYXhe0MU7A",
        "outputId": "02658049-6a69-4763-a8f9-edfba8a228a9"
      },
      "id": "CTSYXhe0MU7A",
      "execution_count": 39,
      "outputs": [
        {
          "output_type": "stream",
          "name": "stdout",
          "text": [
            "incorrect addition\n"
          ]
        }
      ]
    },
    {
      "cell_type": "code",
      "source": [
        "try:\n",
        "  result = 10+10\n",
        "except:\n",
        "  print('incorrect addition')\n",
        "else:\n",
        "  print('correct addition')\n",
        "  print(result)\n"
      ],
      "metadata": {
        "colab": {
          "base_uri": "https://localhost:8080/"
        },
        "id": "wzFHxX8DOa2m",
        "outputId": "27b45fd0-d452-46fc-a7a7-83b3d0773973"
      },
      "id": "wzFHxX8DOa2m",
      "execution_count": 40,
      "outputs": [
        {
          "output_type": "stream",
          "name": "stdout",
          "text": [
            "correct addition\n",
            "20\n"
          ]
        }
      ]
    },
    {
      "cell_type": "code",
      "source": [
        "try:\n",
        "  result = 10+'10'\n",
        "except:\n",
        "  print('incorrect addition')\n",
        "finally:\n",
        "  print('executing anyway')\n",
        "  print(result)\n"
      ],
      "metadata": {
        "colab": {
          "base_uri": "https://localhost:8080/"
        },
        "id": "zYlSzdmwOgoW",
        "outputId": "76042c0e-6fc6-4407-b453-bbacf668ed85"
      },
      "id": "zYlSzdmwOgoW",
      "execution_count": 41,
      "outputs": [
        {
          "output_type": "stream",
          "name": "stdout",
          "text": [
            "incorrect addition\n",
            "executing anyway\n",
            "20\n"
          ]
        }
      ]
    },
    {
      "cell_type": "code",
      "source": [
        "def ask_for_int():\n",
        "\n",
        "  while True:\n",
        "    try:\n",
        "      result = int(input('please provide number'))\n",
        "    except:\n",
        "      print('whoops! that is not a number')\n",
        "      continue\n",
        "    else:\n",
        "      print('thank you!')\n",
        "      break\n",
        "    finally:\n",
        "      print('end of try/except/finally')\n",
        "      print('i will always run at the end!')\n",
        "\n",
        "ask_for_int()"
      ],
      "metadata": {
        "colab": {
          "base_uri": "https://localhost:8080/"
        },
        "id": "P6BtIlrgPImC",
        "outputId": "dcee2c7f-bac5-4eb7-b614-f3fae3f21871"
      },
      "id": "P6BtIlrgPImC",
      "execution_count": 42,
      "outputs": [
        {
          "output_type": "stream",
          "name": "stdout",
          "text": [
            "please provide number\n",
            "whoops! that is not a number\n",
            "end of try/except/finally\n",
            "i will always run at the end!\n",
            "please provide number1\n",
            "thank you!\n",
            "end of try/except/finally\n",
            "i will always run at the end!\n"
          ]
        }
      ]
    },
    {
      "cell_type": "code",
      "source": [
        "s = 'monty python'\n",
        "print(s.capitalize())\n",
        "print(s.title())"
      ],
      "metadata": {
        "colab": {
          "base_uri": "https://localhost:8080/"
        },
        "id": "MS9ZjlCHWhh9",
        "outputId": "cb638b4a-8880-49e5-beed-ceb3fd5b6343"
      },
      "id": "MS9ZjlCHWhh9",
      "execution_count": 43,
      "outputs": [
        {
          "output_type": "stream",
          "name": "stdout",
          "text": [
            "Monty python\n",
            "Monty Python\n"
          ]
        }
      ]
    },
    {
      "cell_type": "markdown",
      "source": [
        "DECORATOR"
      ],
      "metadata": {
        "id": "KMyTuxgunF5m"
      },
      "id": "KMyTuxgunF5m"
    },
    {
      "cell_type": "code",
      "source": [
        "def a_decorator(a_func):\n",
        "  def wrap_function():\n",
        "    print('something above')\n",
        "    a_func()\n",
        "    print('something below')\n",
        "\n",
        "  return wrap_function\n",
        "\n",
        "@a_decorator #comment out this line to revert the changes. useful when want to switch on/off new changes to an existing function during dev/experimentation\n",
        "def sample_func():\n",
        "  print('i want to be decorated')\n",
        "\n",
        "sample_func()"
      ],
      "metadata": {
        "colab": {
          "base_uri": "https://localhost:8080/"
        },
        "id": "UMH6n6pUfsfS",
        "outputId": "6dc86bf9-823f-4c33-b6e2-de09a7ab9a54"
      },
      "id": "UMH6n6pUfsfS",
      "execution_count": 44,
      "outputs": [
        {
          "output_type": "stream",
          "name": "stdout",
          "text": [
            "something above\n",
            "i want to be decorated\n",
            "something below\n"
          ]
        }
      ]
    },
    {
      "cell_type": "markdown",
      "source": [
        "GENERATOR"
      ],
      "metadata": {
        "id": "LolP9C7vnDDA"
      },
      "id": "LolP9C7vnDDA"
    },
    {
      "cell_type": "code",
      "source": [
        "def gen_fibon(n):\n",
        "\n",
        "  a = 1\n",
        "  b = 1\n",
        "\n",
        "  for i in range(n):\n",
        "    yield a\n",
        "    a,b = b,a+b\n",
        "\n",
        "for number in gen_fibon(10):\n",
        "  print(number)"
      ],
      "metadata": {
        "colab": {
          "base_uri": "https://localhost:8080/"
        },
        "id": "hHux8z_mkRvp",
        "outputId": "7f9f077d-e0c2-49bf-d8e8-adb33b1ec863"
      },
      "id": "hHux8z_mkRvp",
      "execution_count": 45,
      "outputs": [
        {
          "output_type": "stream",
          "name": "stdout",
          "text": [
            "1\n",
            "1\n",
            "2\n",
            "3\n",
            "5\n",
            "8\n",
            "13\n",
            "21\n",
            "34\n",
            "55\n"
          ]
        }
      ]
    },
    {
      "cell_type": "code",
      "source": [
        "def simple_gen():\n",
        "  for x in range(3):\n",
        "    yield x"
      ],
      "metadata": {
        "id": "0pQI3Zo4l39S"
      },
      "id": "0pQI3Zo4l39S",
      "execution_count": 46,
      "outputs": []
    },
    {
      "cell_type": "code",
      "source": [
        "for number in simple_gen():\n",
        "  print(number)"
      ],
      "metadata": {
        "colab": {
          "base_uri": "https://localhost:8080/"
        },
        "id": "OOzeUuJumUAV",
        "outputId": "7b9c2db5-f820-47ff-8c7c-fdd62e6f13db"
      },
      "id": "OOzeUuJumUAV",
      "execution_count": 47,
      "outputs": [
        {
          "output_type": "stream",
          "name": "stdout",
          "text": [
            "0\n",
            "1\n",
            "2\n"
          ]
        }
      ]
    },
    {
      "cell_type": "code",
      "source": [
        "g=simple_gen()"
      ],
      "metadata": {
        "id": "63jcTa64maZG"
      },
      "id": "63jcTa64maZG",
      "execution_count": 48,
      "outputs": []
    },
    {
      "cell_type": "code",
      "source": [
        "g"
      ],
      "metadata": {
        "colab": {
          "base_uri": "https://localhost:8080/"
        },
        "id": "hWFqFzEwmdol",
        "outputId": "b2559fbc-7260-41ef-d0c2-ae0b73700193"
      },
      "id": "hWFqFzEwmdol",
      "execution_count": 49,
      "outputs": [
        {
          "output_type": "execute_result",
          "data": {
            "text/plain": [
              "<generator object simple_gen at 0x7dc99f12f7d0>"
            ]
          },
          "metadata": {},
          "execution_count": 49
        }
      ]
    },
    {
      "cell_type": "code",
      "source": [
        "print(next(g))"
      ],
      "metadata": {
        "colab": {
          "base_uri": "https://localhost:8080/"
        },
        "id": "hMSwpGgImfJd",
        "outputId": "983cb0ef-b042-4f91-86f2-9d21ddb442d1"
      },
      "id": "hMSwpGgImfJd",
      "execution_count": 50,
      "outputs": [
        {
          "output_type": "stream",
          "name": "stdout",
          "text": [
            "0\n"
          ]
        }
      ]
    },
    {
      "cell_type": "code",
      "source": [
        "s = 'string'\n",
        "s = iter(s) #makes it a generator sort of\n"
      ],
      "metadata": {
        "id": "lJIrGlipmgqm"
      },
      "id": "lJIrGlipmgqm",
      "execution_count": 51,
      "outputs": []
    },
    {
      "cell_type": "code",
      "source": [
        "next(s)"
      ],
      "metadata": {
        "colab": {
          "base_uri": "https://localhost:8080/",
          "height": 36
        },
        "id": "1h2JT0T5m1oC",
        "outputId": "279b6c95-18bc-4b8c-916f-1443c87695f0"
      },
      "id": "1h2JT0T5m1oC",
      "execution_count": 52,
      "outputs": [
        {
          "output_type": "execute_result",
          "data": {
            "text/plain": [
              "'s'"
            ],
            "application/vnd.google.colaboratory.intrinsic+json": {
              "type": "string"
            }
          },
          "metadata": {},
          "execution_count": 52
        }
      ]
    },
    {
      "cell_type": "code",
      "source": [
        "my_list = [1,2,3,4,5]\n",
        "\n",
        "gencomp = (item for item in my_list if item>3) #a generator instead of list\n",
        "\n",
        "print(next(gencomp))\n",
        "print(list(gencomp))"
      ],
      "metadata": {
        "colab": {
          "base_uri": "https://localhost:8080/"
        },
        "id": "o_cpONlrm25J",
        "outputId": "dee2af2b-01a8-4504-dbe2-48c3ff10d3f4"
      },
      "id": "o_cpONlrm25J",
      "execution_count": 53,
      "outputs": [
        {
          "output_type": "stream",
          "name": "stdout",
          "text": [
            "4\n",
            "[5]\n"
          ]
        }
      ]
    },
    {
      "cell_type": "markdown",
      "source": [
        "# Collections Module - Counter"
      ],
      "metadata": {
        "id": "Kk8Q2qUzCGGH"
      },
      "id": "Kk8Q2qUzCGGH"
    },
    {
      "cell_type": "code",
      "source": [
        "# counter\n",
        "from collections import Counter"
      ],
      "metadata": {
        "id": "wtF9GYXkoK2J"
      },
      "id": "wtF9GYXkoK2J",
      "execution_count": 54,
      "outputs": []
    },
    {
      "cell_type": "code",
      "source": [
        "l = [1,1,1,1,1,1,12,12,2,2,2,23,3,3,3,4,4,4,44]\n",
        "Counter(l)"
      ],
      "metadata": {
        "colab": {
          "base_uri": "https://localhost:8080/"
        },
        "id": "UpA497_fCJM0",
        "outputId": "f3bc1600-448d-4f7d-e943-85a7103f4ce3"
      },
      "id": "UpA497_fCJM0",
      "execution_count": 55,
      "outputs": [
        {
          "output_type": "execute_result",
          "data": {
            "text/plain": [
              "Counter({1: 6, 12: 2, 2: 3, 23: 1, 3: 3, 4: 3, 44: 1})"
            ]
          },
          "metadata": {},
          "execution_count": 55
        }
      ]
    },
    {
      "cell_type": "code",
      "source": [
        "s = 'sgoadgjksnfkjskjdnfksjdfnksdjfnksdjn'\n",
        "Counter(s)"
      ],
      "metadata": {
        "colab": {
          "base_uri": "https://localhost:8080/"
        },
        "id": "qx5XUZ5KCMKt",
        "outputId": "07e77198-2435-419c-ac33-1a67ff2267cd"
      },
      "id": "qx5XUZ5KCMKt",
      "execution_count": 56,
      "outputs": [
        {
          "output_type": "execute_result",
          "data": {
            "text/plain": [
              "Counter({'s': 6,\n",
              "         'g': 2,\n",
              "         'o': 1,\n",
              "         'a': 1,\n",
              "         'd': 5,\n",
              "         'j': 6,\n",
              "         'k': 6,\n",
              "         'n': 5,\n",
              "         'f': 4})"
            ]
          },
          "metadata": {},
          "execution_count": 56
        }
      ]
    },
    {
      "cell_type": "code",
      "source": [
        "s = 'How many times does each word show up in this sentence show show up up and tell me me me'\n",
        "words = s.split()\n",
        "\n",
        "Counter(words)"
      ],
      "metadata": {
        "colab": {
          "base_uri": "https://localhost:8080/"
        },
        "id": "CrLy1j8PCMc8",
        "outputId": "66fe4cc0-52e0-47ad-a577-d845a0bdd414"
      },
      "id": "CrLy1j8PCMc8",
      "execution_count": 57,
      "outputs": [
        {
          "output_type": "execute_result",
          "data": {
            "text/plain": [
              "Counter({'How': 1,\n",
              "         'many': 1,\n",
              "         'times': 1,\n",
              "         'does': 1,\n",
              "         'each': 1,\n",
              "         'word': 1,\n",
              "         'show': 3,\n",
              "         'up': 3,\n",
              "         'in': 1,\n",
              "         'this': 1,\n",
              "         'sentence': 1,\n",
              "         'and': 1,\n",
              "         'tell': 1,\n",
              "         'me': 3})"
            ]
          },
          "metadata": {},
          "execution_count": 57
        }
      ]
    },
    {
      "cell_type": "code",
      "source": [
        "c = Counter(words)\n",
        "c.most_common(2)"
      ],
      "metadata": {
        "colab": {
          "base_uri": "https://localhost:8080/"
        },
        "id": "thF5cjGCCNDs",
        "outputId": "c63c414a-a82c-426c-f94f-7ac2ac0ac7e0"
      },
      "id": "thF5cjGCCNDs",
      "execution_count": 58,
      "outputs": [
        {
          "output_type": "execute_result",
          "data": {
            "text/plain": [
              "[('show', 3), ('up', 3)]"
            ]
          },
          "metadata": {},
          "execution_count": 58
        }
      ]
    },
    {
      "cell_type": "code",
      "source": [
        "sum(c.values())"
      ],
      "metadata": {
        "colab": {
          "base_uri": "https://localhost:8080/"
        },
        "id": "Mp8CUBHyCNY2",
        "outputId": "2006fc27-af7c-4140-9a5d-e44b323a016b"
      },
      "id": "Mp8CUBHyCNY2",
      "execution_count": 59,
      "outputs": [
        {
          "output_type": "execute_result",
          "data": {
            "text/plain": [
              "20"
            ]
          },
          "metadata": {},
          "execution_count": 59
        }
      ]
    },
    {
      "cell_type": "markdown",
      "source": [
        "# Collections Module - Defaultdict"
      ],
      "metadata": {
        "id": "7-4SSG4rCYRI"
      },
      "id": "7-4SSG4rCYRI"
    },
    {
      "cell_type": "code",
      "source": [
        "from collections import defaultdict"
      ],
      "metadata": {
        "id": "M7LeNYnhCNsV"
      },
      "id": "M7LeNYnhCNsV",
      "execution_count": 60,
      "outputs": []
    },
    {
      "cell_type": "code",
      "source": [
        "d = {'k1':1}"
      ],
      "metadata": {
        "id": "d5kwul0vCOAN"
      },
      "id": "d5kwul0vCOAN",
      "execution_count": 61,
      "outputs": []
    },
    {
      "cell_type": "code",
      "source": [
        "d['k1']"
      ],
      "metadata": {
        "colab": {
          "base_uri": "https://localhost:8080/"
        },
        "id": "t8A44U-dCOJV",
        "outputId": "88d8e723-27db-4926-86eb-45c38c7d3c87"
      },
      "id": "t8A44U-dCOJV",
      "execution_count": 62,
      "outputs": [
        {
          "output_type": "execute_result",
          "data": {
            "text/plain": [
              "1"
            ]
          },
          "metadata": {},
          "execution_count": 62
        }
      ]
    },
    {
      "cell_type": "code",
      "source": [
        "d['k2']"
      ],
      "metadata": {
        "colab": {
          "base_uri": "https://localhost:8080/",
          "height": 145
        },
        "id": "gMumKs-DCOU0",
        "outputId": "fe6c8079-a933-425b-9bbb-ea200d0ef3b8"
      },
      "id": "gMumKs-DCOU0",
      "execution_count": 63,
      "outputs": [
        {
          "output_type": "error",
          "ename": "KeyError",
          "evalue": "'k2'",
          "traceback": [
            "\u001b[0;31m---------------------------------------------------------------------------\u001b[0m",
            "\u001b[0;31mKeyError\u001b[0m                                  Traceback (most recent call last)",
            "\u001b[0;32m<ipython-input-63-b2441cdc6b89>\u001b[0m in \u001b[0;36m<cell line: 1>\u001b[0;34m()\u001b[0m\n\u001b[0;32m----> 1\u001b[0;31m \u001b[0md\u001b[0m\u001b[0;34m[\u001b[0m\u001b[0;34m'k2'\u001b[0m\u001b[0;34m]\u001b[0m\u001b[0;34m\u001b[0m\u001b[0;34m\u001b[0m\u001b[0m\n\u001b[0m",
            "\u001b[0;31mKeyError\u001b[0m: 'k2'"
          ]
        }
      ]
    },
    {
      "cell_type": "code",
      "source": [
        "d = defaultdict(object)"
      ],
      "metadata": {
        "id": "SYfuJeRCCOe0"
      },
      "id": "SYfuJeRCCOe0",
      "execution_count": null,
      "outputs": []
    },
    {
      "cell_type": "code",
      "source": [
        "d['one']"
      ],
      "metadata": {
        "id": "4dEgE1paCOok",
        "colab": {
          "base_uri": "https://localhost:8080/",
          "height": 145
        },
        "outputId": "4da3a14f-9a53-4b98-be36-ec3c5446a182"
      },
      "id": "4dEgE1paCOok",
      "execution_count": 64,
      "outputs": [
        {
          "output_type": "error",
          "ename": "KeyError",
          "evalue": "'one'",
          "traceback": [
            "\u001b[0;31m---------------------------------------------------------------------------\u001b[0m",
            "\u001b[0;31mKeyError\u001b[0m                                  Traceback (most recent call last)",
            "\u001b[0;32m<ipython-input-64-195257aa2718>\u001b[0m in \u001b[0;36m<cell line: 1>\u001b[0;34m()\u001b[0m\n\u001b[0;32m----> 1\u001b[0;31m \u001b[0md\u001b[0m\u001b[0;34m[\u001b[0m\u001b[0;34m'one'\u001b[0m\u001b[0;34m]\u001b[0m\u001b[0;34m\u001b[0m\u001b[0;34m\u001b[0m\u001b[0m\n\u001b[0m",
            "\u001b[0;31mKeyError\u001b[0m: 'one'"
          ]
        }
      ]
    },
    {
      "cell_type": "code",
      "source": [
        "for item in d:\n",
        "    print (item)"
      ],
      "metadata": {
        "id": "gLj1eCtPCOyc"
      },
      "id": "gLj1eCtPCOyc",
      "execution_count": null,
      "outputs": []
    },
    {
      "cell_type": "code",
      "source": [
        "d = defaultdict(lambda:0)\n",
        "d['one']"
      ],
      "metadata": {
        "id": "nzBDaro3CO9M"
      },
      "id": "nzBDaro3CO9M",
      "execution_count": null,
      "outputs": []
    },
    {
      "cell_type": "code",
      "source": [
        "d['two'] = 2"
      ],
      "metadata": {
        "id": "QdK869fyCPHM"
      },
      "id": "QdK869fyCPHM",
      "execution_count": 65,
      "outputs": []
    },
    {
      "cell_type": "code",
      "source": [
        "d"
      ],
      "metadata": {
        "id": "tytnnDPqCPRN",
        "colab": {
          "base_uri": "https://localhost:8080/"
        },
        "outputId": "f44b6905-a5e3-477e-e01e-ee71f079643b"
      },
      "id": "tytnnDPqCPRN",
      "execution_count": 66,
      "outputs": [
        {
          "output_type": "execute_result",
          "data": {
            "text/plain": [
              "{'k1': 1, 'two': 2}"
            ]
          },
          "metadata": {},
          "execution_count": 66
        }
      ]
    },
    {
      "cell_type": "markdown",
      "source": [
        "# Collections Module - OrderedDict"
      ],
      "metadata": {
        "id": "DTD6-bFwCsNh"
      },
      "id": "DTD6-bFwCsNh"
    },
    {
      "cell_type": "code",
      "source": [
        "d = {}\n",
        "\n",
        "d['a'] = 1\n",
        "d['b'] = 2\n",
        "d['c'] = 3\n",
        "d['d'] = 4\n",
        "d['e'] = 5"
      ],
      "metadata": {
        "id": "wO0JB59pCo1p"
      },
      "id": "wO0JB59pCo1p",
      "execution_count": 67,
      "outputs": []
    },
    {
      "cell_type": "code",
      "source": [
        "d"
      ],
      "metadata": {
        "id": "G9GrUGgJCpH5",
        "colab": {
          "base_uri": "https://localhost:8080/"
        },
        "outputId": "87983112-d9d8-4a1b-9958-770b741aac50"
      },
      "id": "G9GrUGgJCpH5",
      "execution_count": 68,
      "outputs": [
        {
          "output_type": "execute_result",
          "data": {
            "text/plain": [
              "{'a': 1, 'b': 2, 'c': 3, 'd': 4, 'e': 5}"
            ]
          },
          "metadata": {},
          "execution_count": 68
        }
      ]
    },
    {
      "cell_type": "code",
      "source": [
        "for k,v in d.items():\n",
        "    print (k,v)"
      ],
      "metadata": {
        "id": "oCCuqpUqCpZJ",
        "colab": {
          "base_uri": "https://localhost:8080/"
        },
        "outputId": "6511ce1a-7287-4078-ef6d-43df82dd70d1"
      },
      "id": "oCCuqpUqCpZJ",
      "execution_count": 69,
      "outputs": [
        {
          "output_type": "stream",
          "name": "stdout",
          "text": [
            "a 1\n",
            "b 2\n",
            "c 3\n",
            "d 4\n",
            "e 5\n"
          ]
        }
      ]
    },
    {
      "cell_type": "code",
      "source": [
        "from collections import OrderedDict"
      ],
      "metadata": {
        "id": "H27cQnTzCpmw"
      },
      "id": "H27cQnTzCpmw",
      "execution_count": 70,
      "outputs": []
    },
    {
      "cell_type": "code",
      "source": [
        "d = OrderedDict()"
      ],
      "metadata": {
        "id": "920ueiO2Cpxh"
      },
      "id": "920ueiO2Cpxh",
      "execution_count": 71,
      "outputs": []
    },
    {
      "cell_type": "code",
      "source": [
        "d['a'] = 1\n",
        "d['b'] = 2\n",
        "d['c'] = 3\n",
        "d['d'] = 4\n",
        "d['e'] = 5"
      ],
      "metadata": {
        "id": "oEQIt-pfCp9B"
      },
      "id": "oEQIt-pfCp9B",
      "execution_count": 72,
      "outputs": []
    },
    {
      "cell_type": "code",
      "source": [
        "for k,v in d.items():\n",
        "    print(k,v)"
      ],
      "metadata": {
        "colab": {
          "base_uri": "https://localhost:8080/"
        },
        "id": "tswd9Qn6CqHy",
        "outputId": "671c941c-1006-4659-fe3d-6c15dcaf3099"
      },
      "id": "tswd9Qn6CqHy",
      "execution_count": 73,
      "outputs": [
        {
          "output_type": "stream",
          "name": "stdout",
          "text": [
            "a 1\n",
            "b 2\n",
            "c 3\n",
            "d 4\n",
            "e 5\n"
          ]
        }
      ]
    },
    {
      "cell_type": "code",
      "source": [
        "d1 = OrderedDict()\n",
        "d1['a'] = 1\n",
        "d1['b'] = 2\n",
        "\n",
        "d2 = OrderedDict()\n",
        "d2['b'] = 2\n",
        "d2['a'] = 1"
      ],
      "metadata": {
        "id": "Xvq6sC5zCqqA"
      },
      "id": "Xvq6sC5zCqqA",
      "execution_count": 74,
      "outputs": []
    },
    {
      "cell_type": "code",
      "source": [
        "print (d1 == d2)"
      ],
      "metadata": {
        "id": "IfmhrJkSCq0o",
        "colab": {
          "base_uri": "https://localhost:8080/"
        },
        "outputId": "681f6b4e-02fb-4eb4-ea38-941498fe6022"
      },
      "id": "IfmhrJkSCq0o",
      "execution_count": 75,
      "outputs": [
        {
          "output_type": "stream",
          "name": "stdout",
          "text": [
            "False\n"
          ]
        }
      ]
    },
    {
      "cell_type": "markdown",
      "source": [
        "# Collections Module - namedtuple"
      ],
      "metadata": {
        "id": "fos_HN5RC_ak"
      },
      "id": "fos_HN5RC_ak"
    },
    {
      "cell_type": "code",
      "source": [
        "t = (1,2,3)"
      ],
      "metadata": {
        "id": "lOSn41lmCq-w"
      },
      "id": "lOSn41lmCq-w",
      "execution_count": 76,
      "outputs": []
    },
    {
      "cell_type": "code",
      "source": [
        "t[0]"
      ],
      "metadata": {
        "id": "PmHyg9c4CrIh",
        "colab": {
          "base_uri": "https://localhost:8080/"
        },
        "outputId": "a9d66c7f-2f8f-4fff-f832-d3ce01a65d3c"
      },
      "id": "PmHyg9c4CrIh",
      "execution_count": 77,
      "outputs": [
        {
          "output_type": "execute_result",
          "data": {
            "text/plain": [
              "1"
            ]
          },
          "metadata": {},
          "execution_count": 77
        }
      ]
    },
    {
      "cell_type": "code",
      "source": [
        "from collections import namedtuple"
      ],
      "metadata": {
        "id": "7oaTYVOQCrSJ"
      },
      "id": "7oaTYVOQCrSJ",
      "execution_count": 78,
      "outputs": []
    },
    {
      "cell_type": "code",
      "source": [
        "Dog = namedtuple('Dog', 'age breed name')"
      ],
      "metadata": {
        "id": "UhopcdysCrbS"
      },
      "id": "UhopcdysCrbS",
      "execution_count": 79,
      "outputs": []
    },
    {
      "cell_type": "code",
      "source": [
        "sam = Dog(age=2, breed='Lab', name='Sammy')"
      ],
      "metadata": {
        "id": "Xwe5tIAxDHiS"
      },
      "id": "Xwe5tIAxDHiS",
      "execution_count": 80,
      "outputs": []
    },
    {
      "cell_type": "code",
      "source": [
        "sam"
      ],
      "metadata": {
        "colab": {
          "base_uri": "https://localhost:8080/"
        },
        "id": "PQtx7pEVDH2b",
        "outputId": "29772f76-599c-4824-f050-0e2d0c39cff5"
      },
      "id": "PQtx7pEVDH2b",
      "execution_count": 81,
      "outputs": [
        {
          "output_type": "execute_result",
          "data": {
            "text/plain": [
              "Dog(age=2, breed='Lab', name='Sammy')"
            ]
          },
          "metadata": {},
          "execution_count": 81
        }
      ]
    },
    {
      "cell_type": "code",
      "source": [
        "sam.age"
      ],
      "metadata": {
        "id": "IaYFgV0RDIDs",
        "colab": {
          "base_uri": "https://localhost:8080/"
        },
        "outputId": "982d588b-40ed-46bd-cc0b-48c7d1fc55e5"
      },
      "id": "IaYFgV0RDIDs",
      "execution_count": 82,
      "outputs": [
        {
          "output_type": "execute_result",
          "data": {
            "text/plain": [
              "2"
            ]
          },
          "metadata": {},
          "execution_count": 82
        }
      ]
    },
    {
      "cell_type": "code",
      "source": [
        "sam[0]"
      ],
      "metadata": {
        "id": "uhCkNJxMDIaF",
        "colab": {
          "base_uri": "https://localhost:8080/"
        },
        "outputId": "050c15d8-5b2c-49ee-de3e-ff26c5e59bb0"
      },
      "id": "uhCkNJxMDIaF",
      "execution_count": 83,
      "outputs": [
        {
          "output_type": "execute_result",
          "data": {
            "text/plain": [
              "2"
            ]
          },
          "metadata": {},
          "execution_count": 83
        }
      ]
    },
    {
      "cell_type": "code",
      "source": [
        "Cat = namedtuple('Cat', 'fur claws name')"
      ],
      "metadata": {
        "id": "qIchVidlDIzB"
      },
      "id": "qIchVidlDIzB",
      "execution_count": 84,
      "outputs": []
    },
    {
      "cell_type": "code",
      "source": [
        "\n",
        "c = Cat(fur='Fuzzy', claws=False, name='Kitty')"
      ],
      "metadata": {
        "id": "9sTSRhaYDJDi"
      },
      "id": "9sTSRhaYDJDi",
      "execution_count": 85,
      "outputs": []
    },
    {
      "cell_type": "code",
      "source": [
        "c"
      ],
      "metadata": {
        "colab": {
          "base_uri": "https://localhost:8080/"
        },
        "id": "-SwyzlzeDJdY",
        "outputId": "5fa49f69-b01f-4e48-ae84-8d916068953a"
      },
      "id": "-SwyzlzeDJdY",
      "execution_count": 86,
      "outputs": [
        {
          "output_type": "execute_result",
          "data": {
            "text/plain": [
              "Cat(fur='Fuzzy', claws=False, name='Kitty')"
            ]
          },
          "metadata": {},
          "execution_count": 86
        }
      ]
    },
    {
      "cell_type": "markdown",
      "source": [
        "# Datetime"
      ],
      "metadata": {
        "id": "ln8jZ0q2DWnH"
      },
      "id": "ln8jZ0q2DWnH"
    },
    {
      "cell_type": "code",
      "source": [
        "import datetime"
      ],
      "metadata": {
        "id": "W2cxIH17DJv2"
      },
      "id": "W2cxIH17DJv2",
      "execution_count": 87,
      "outputs": []
    },
    {
      "cell_type": "code",
      "source": [
        "\n",
        "t = datetime.time(5,25,1)"
      ],
      "metadata": {
        "id": "imWtWU4sDJ_P"
      },
      "id": "imWtWU4sDJ_P",
      "execution_count": 88,
      "outputs": []
    },
    {
      "cell_type": "code",
      "source": [
        "print (t)"
      ],
      "metadata": {
        "colab": {
          "base_uri": "https://localhost:8080/"
        },
        "id": "zcG2hTdvDKmi",
        "outputId": "88490489-27d7-455e-f0a2-c7f6cc5a6d39"
      },
      "id": "zcG2hTdvDKmi",
      "execution_count": 89,
      "outputs": [
        {
          "output_type": "stream",
          "name": "stdout",
          "text": [
            "05:25:01\n"
          ]
        }
      ]
    },
    {
      "cell_type": "code",
      "source": [
        "t.min"
      ],
      "metadata": {
        "colab": {
          "base_uri": "https://localhost:8080/"
        },
        "id": "xH3L-NhJDLBk",
        "outputId": "b1bcd51e-42e2-45c5-b0d1-c89b8ea0a794"
      },
      "id": "xH3L-NhJDLBk",
      "execution_count": 90,
      "outputs": [
        {
          "output_type": "execute_result",
          "data": {
            "text/plain": [
              "datetime.time(0, 0)"
            ]
          },
          "metadata": {},
          "execution_count": 90
        }
      ]
    },
    {
      "cell_type": "code",
      "source": [
        "datetime.time"
      ],
      "metadata": {
        "colab": {
          "base_uri": "https://localhost:8080/"
        },
        "id": "HEzqSLgsDLRm",
        "outputId": "a0b92bf9-02cb-44d7-ec58-d351e5e2dc1f"
      },
      "id": "HEzqSLgsDLRm",
      "execution_count": 91,
      "outputs": [
        {
          "output_type": "execute_result",
          "data": {
            "text/plain": [
              "datetime.time"
            ]
          },
          "metadata": {},
          "execution_count": 91
        }
      ]
    },
    {
      "cell_type": "code",
      "source": [
        "print(datetime.time.min)"
      ],
      "metadata": {
        "colab": {
          "base_uri": "https://localhost:8080/"
        },
        "id": "7kzWvPGpDLiG",
        "outputId": "01557b66-c399-457e-d8d3-83cc2f8ac8ed"
      },
      "id": "7kzWvPGpDLiG",
      "execution_count": 92,
      "outputs": [
        {
          "output_type": "stream",
          "name": "stdout",
          "text": [
            "00:00:00\n"
          ]
        }
      ]
    },
    {
      "cell_type": "code",
      "source": [
        "print(datetime.time.max)"
      ],
      "metadata": {
        "colab": {
          "base_uri": "https://localhost:8080/"
        },
        "id": "0u2TU-vvDL-5",
        "outputId": "dfda5fdd-6557-4b12-8b84-9f31fdd73ddb"
      },
      "id": "0u2TU-vvDL-5",
      "execution_count": 93,
      "outputs": [
        {
          "output_type": "stream",
          "name": "stdout",
          "text": [
            "23:59:59.999999\n"
          ]
        }
      ]
    },
    {
      "cell_type": "code",
      "source": [
        "today = datetime.date.today()"
      ],
      "metadata": {
        "id": "QhZuMmxuDin5"
      },
      "id": "QhZuMmxuDin5",
      "execution_count": 94,
      "outputs": []
    },
    {
      "cell_type": "code",
      "source": [
        "print(today)"
      ],
      "metadata": {
        "colab": {
          "base_uri": "https://localhost:8080/"
        },
        "id": "FY0Fl2fzDizh",
        "outputId": "aa592e19-242c-401f-8b54-31cb2d2422b6"
      },
      "id": "FY0Fl2fzDizh",
      "execution_count": 95,
      "outputs": [
        {
          "output_type": "stream",
          "name": "stdout",
          "text": [
            "2024-02-21\n"
          ]
        }
      ]
    },
    {
      "cell_type": "code",
      "source": [
        "today.timetuple()"
      ],
      "metadata": {
        "colab": {
          "base_uri": "https://localhost:8080/"
        },
        "id": "n_F_fh1mDi-R",
        "outputId": "d25b612d-3af9-4981-ad6e-cd9b576de68a"
      },
      "id": "n_F_fh1mDi-R",
      "execution_count": 96,
      "outputs": [
        {
          "output_type": "execute_result",
          "data": {
            "text/plain": [
              "time.struct_time(tm_year=2024, tm_mon=2, tm_mday=21, tm_hour=0, tm_min=0, tm_sec=0, tm_wday=2, tm_yday=52, tm_isdst=-1)"
            ]
          },
          "metadata": {},
          "execution_count": 96
        }
      ]
    },
    {
      "cell_type": "code",
      "source": [
        "today.day"
      ],
      "metadata": {
        "colab": {
          "base_uri": "https://localhost:8080/"
        },
        "id": "MkylqLw9DjJ4",
        "outputId": "138fab90-127b-42ea-fc75-2993b4efb2c9"
      },
      "id": "MkylqLw9DjJ4",
      "execution_count": 97,
      "outputs": [
        {
          "output_type": "execute_result",
          "data": {
            "text/plain": [
              "21"
            ]
          },
          "metadata": {},
          "execution_count": 97
        }
      ]
    },
    {
      "cell_type": "code",
      "source": [
        "print(datetime.date.min)"
      ],
      "metadata": {
        "colab": {
          "base_uri": "https://localhost:8080/"
        },
        "id": "8C5w8rwXDjUB",
        "outputId": "f1682596-406d-4c83-dcfa-326a6c3fcf0b"
      },
      "id": "8C5w8rwXDjUB",
      "execution_count": 98,
      "outputs": [
        {
          "output_type": "stream",
          "name": "stdout",
          "text": [
            "0001-01-01\n"
          ]
        }
      ]
    },
    {
      "cell_type": "code",
      "source": [
        "d1 = datetime.date(2015, 3, 11)\n",
        "print(d1)"
      ],
      "metadata": {
        "colab": {
          "base_uri": "https://localhost:8080/"
        },
        "id": "C7006hclDjcS",
        "outputId": "24e54623-e817-4f2a-aa80-5cdc3963267e"
      },
      "id": "C7006hclDjcS",
      "execution_count": 99,
      "outputs": [
        {
          "output_type": "stream",
          "name": "stdout",
          "text": [
            "2015-03-11\n"
          ]
        }
      ]
    },
    {
      "cell_type": "code",
      "source": [
        "d2 = d1.replace(year=1990)"
      ],
      "metadata": {
        "id": "l73BQxVzDjjh"
      },
      "id": "l73BQxVzDjjh",
      "execution_count": 100,
      "outputs": []
    },
    {
      "cell_type": "code",
      "source": [
        "d2"
      ],
      "metadata": {
        "colab": {
          "base_uri": "https://localhost:8080/"
        },
        "id": "bkpv4BMKDjqB",
        "outputId": "8e257b65-bb18-470d-95e4-4399886ed921"
      },
      "id": "bkpv4BMKDjqB",
      "execution_count": 101,
      "outputs": [
        {
          "output_type": "execute_result",
          "data": {
            "text/plain": [
              "datetime.date(1990, 3, 11)"
            ]
          },
          "metadata": {},
          "execution_count": 101
        }
      ]
    },
    {
      "cell_type": "code",
      "source": [
        "d1-d2"
      ],
      "metadata": {
        "colab": {
          "base_uri": "https://localhost:8080/"
        },
        "id": "vznDYpCzDjww",
        "outputId": "0a959cb3-a605-4057-c00d-423652445006"
      },
      "id": "vznDYpCzDjww",
      "execution_count": 102,
      "outputs": [
        {
          "output_type": "execute_result",
          "data": {
            "text/plain": [
              "datetime.timedelta(days=9131)"
            ]
          },
          "metadata": {},
          "execution_count": 102
        }
      ]
    },
    {
      "cell_type": "markdown",
      "source": [
        "# Timing your code - timeit module"
      ],
      "metadata": {
        "id": "eLIjVZYeD4D6"
      },
      "id": "eLIjVZYeD4D6"
    },
    {
      "cell_type": "code",
      "source": [
        "import timeit"
      ],
      "metadata": {
        "id": "fBf_EXnIDj3Y"
      },
      "id": "fBf_EXnIDj3Y",
      "execution_count": 103,
      "outputs": []
    },
    {
      "cell_type": "code",
      "source": [
        "'0-1-2-3-....-99'"
      ],
      "metadata": {
        "colab": {
          "base_uri": "https://localhost:8080/",
          "height": 36
        },
        "id": "iusN_XA5Dj-E",
        "outputId": "d11efc5b-aa60-42b1-ed0a-093060445964"
      },
      "id": "iusN_XA5Dj-E",
      "execution_count": 104,
      "outputs": [
        {
          "output_type": "execute_result",
          "data": {
            "text/plain": [
              "'0-1-2-3-....-99'"
            ],
            "application/vnd.google.colaboratory.intrinsic+json": {
              "type": "string"
            }
          },
          "metadata": {},
          "execution_count": 104
        }
      ]
    },
    {
      "cell_type": "code",
      "source": [
        "\n",
        "timeit.timeit('\"-\".join(str(n) for n in range(100))',number=10000)"
      ],
      "metadata": {
        "colab": {
          "base_uri": "https://localhost:8080/"
        },
        "id": "t8C0AK98DkDw",
        "outputId": "7d3bcb9a-7cca-4ea7-d3b5-94b4e800388b"
      },
      "id": "t8C0AK98DkDw",
      "execution_count": 105,
      "outputs": [
        {
          "output_type": "execute_result",
          "data": {
            "text/plain": [
              "0.1839803220000249"
            ]
          },
          "metadata": {},
          "execution_count": 105
        }
      ]
    },
    {
      "cell_type": "code",
      "source": [
        "timeit.timeit('\"-\".join([str(n) for n in range(100)])',number=10000)"
      ],
      "metadata": {
        "colab": {
          "base_uri": "https://localhost:8080/"
        },
        "id": "bLS6RKK9DkJ7",
        "outputId": "6600f585-7dcc-4f17-f112-13fb098c941f"
      },
      "id": "bLS6RKK9DkJ7",
      "execution_count": 106,
      "outputs": [
        {
          "output_type": "execute_result",
          "data": {
            "text/plain": [
              "0.16384079099998416"
            ]
          },
          "metadata": {},
          "execution_count": 106
        }
      ]
    },
    {
      "cell_type": "code",
      "source": [
        "%timeit \"-\".join(str(n) for n in range(100))"
      ],
      "metadata": {
        "colab": {
          "base_uri": "https://localhost:8080/"
        },
        "id": "w-wZ2FJhDkQZ",
        "outputId": "8b2377f8-b898-464b-ab15-f1bc715f13a5"
      },
      "id": "w-wZ2FJhDkQZ",
      "execution_count": 107,
      "outputs": [
        {
          "output_type": "stream",
          "name": "stdout",
          "text": [
            "20.9 µs ± 3.91 µs per loop (mean ± std. dev. of 7 runs, 100000 loops each)\n"
          ]
        }
      ]
    },
    {
      "cell_type": "code",
      "source": [
        "%timeit \"-\".join([str(n) for n in range(100)])"
      ],
      "metadata": {
        "colab": {
          "base_uri": "https://localhost:8080/"
        },
        "id": "2IjJTJrtDkWJ",
        "outputId": "7ebc14c0-380c-4f8c-9e68-12e177935b69"
      },
      "id": "2IjJTJrtDkWJ",
      "execution_count": 108,
      "outputs": [
        {
          "output_type": "stream",
          "name": "stdout",
          "text": [
            "20 µs ± 5.69 µs per loop (mean ± std. dev. of 7 runs, 10000 loops each)\n"
          ]
        }
      ]
    },
    {
      "cell_type": "markdown",
      "source": [
        "# Regular Expressions"
      ],
      "metadata": {
        "id": "HOKTlIYLEGpj"
      },
      "id": "HOKTlIYLEGpj"
    },
    {
      "cell_type": "code",
      "source": [
        "import re"
      ],
      "metadata": {
        "id": "1wnvXSPgDkcK"
      },
      "id": "1wnvXSPgDkcK",
      "execution_count": 109,
      "outputs": []
    },
    {
      "cell_type": "code",
      "source": [
        "\n",
        "patterns = ['term1', 'term2']"
      ],
      "metadata": {
        "id": "r-EceR72DkiA"
      },
      "id": "r-EceR72DkiA",
      "execution_count": 110,
      "outputs": []
    },
    {
      "cell_type": "code",
      "source": [
        "text = 'This is a string with term1, but not the other term'"
      ],
      "metadata": {
        "id": "xvmTX-bqDkoL"
      },
      "id": "xvmTX-bqDkoL",
      "execution_count": 111,
      "outputs": []
    },
    {
      "cell_type": "code",
      "source": [
        "for pattern in patterns:\n",
        "    print('Searching for \"%s\" in:\\n \"%s\"\\n' %(pattern,text))\n",
        "\n",
        "    #Check for match\n",
        "    if re.search(pattern,text):\n",
        "        print('Match was found. \\n')\n",
        "    else:\n",
        "        print('No Match was found.\\n')"
      ],
      "metadata": {
        "colab": {
          "base_uri": "https://localhost:8080/"
        },
        "id": "ZgJbY7_eDlQV",
        "outputId": "6e8a4dac-986a-4559-af9a-06867d61864a"
      },
      "id": "ZgJbY7_eDlQV",
      "execution_count": 112,
      "outputs": [
        {
          "output_type": "stream",
          "name": "stdout",
          "text": [
            "Searching for \"term1\" in:\n",
            " \"This is a string with term1, but not the other term\"\n",
            "\n",
            "Match was found. \n",
            "\n",
            "Searching for \"term2\" in:\n",
            " \"This is a string with term1, but not the other term\"\n",
            "\n",
            "No Match was found.\n",
            "\n"
          ]
        }
      ]
    },
    {
      "cell_type": "code",
      "source": [
        "print(re.search('h', 'w'))"
      ],
      "metadata": {
        "colab": {
          "base_uri": "https://localhost:8080/"
        },
        "id": "nlMYa2BSDlVi",
        "outputId": "abd64d14-3c8d-4ba9-ee36-7c36645f60ab"
      },
      "id": "nlMYa2BSDlVi",
      "execution_count": 113,
      "outputs": [
        {
          "output_type": "stream",
          "name": "stdout",
          "text": [
            "None\n"
          ]
        }
      ]
    },
    {
      "cell_type": "code",
      "source": [
        "match = re.search(patterns[0],text)\n"
      ],
      "metadata": {
        "id": "v6B4oyafDlaj"
      },
      "id": "v6B4oyafDlaj",
      "execution_count": 114,
      "outputs": []
    },
    {
      "cell_type": "code",
      "source": [
        "type(match)"
      ],
      "metadata": {
        "colab": {
          "base_uri": "https://localhost:8080/"
        },
        "id": "ZJc9jrwODle0",
        "outputId": "87f68a41-617b-49ca-c93e-6b14812979c9"
      },
      "id": "ZJc9jrwODle0",
      "execution_count": 115,
      "outputs": [
        {
          "output_type": "execute_result",
          "data": {
            "text/plain": [
              "re.Match"
            ]
          },
          "metadata": {},
          "execution_count": 115
        }
      ]
    },
    {
      "cell_type": "code",
      "source": [
        "match.start()"
      ],
      "metadata": {
        "colab": {
          "base_uri": "https://localhost:8080/"
        },
        "id": "X941m5WpDliy",
        "outputId": "6716629a-4319-4877-fb3e-eb610187e749"
      },
      "id": "X941m5WpDliy",
      "execution_count": 116,
      "outputs": [
        {
          "output_type": "execute_result",
          "data": {
            "text/plain": [
              "22"
            ]
          },
          "metadata": {},
          "execution_count": 116
        }
      ]
    },
    {
      "cell_type": "code",
      "source": [
        "match.end()"
      ],
      "metadata": {
        "colab": {
          "base_uri": "https://localhost:8080/"
        },
        "id": "Lcy90-wNDlnh",
        "outputId": "a9172fc3-03ee-4901-a667-53f619eadd64"
      },
      "id": "Lcy90-wNDlnh",
      "execution_count": 117,
      "outputs": [
        {
          "output_type": "execute_result",
          "data": {
            "text/plain": [
              "27"
            ]
          },
          "metadata": {},
          "execution_count": 117
        }
      ]
    },
    {
      "cell_type": "code",
      "source": [
        "split_term = '@'\n",
        "\n",
        "phrase = 'What is your email, is it hello@gmail.com?'"
      ],
      "metadata": {
        "id": "K24u32hhDlri"
      },
      "id": "K24u32hhDlri",
      "execution_count": 118,
      "outputs": []
    },
    {
      "cell_type": "code",
      "source": [
        "re.split(split_term, phrase)"
      ],
      "metadata": {
        "colab": {
          "base_uri": "https://localhost:8080/"
        },
        "id": "yqyFaJ9fDlvt",
        "outputId": "ce9dcf3e-bdce-4260-e09c-b5e324cd07e1"
      },
      "id": "yqyFaJ9fDlvt",
      "execution_count": 119,
      "outputs": [
        {
          "output_type": "execute_result",
          "data": {
            "text/plain": [
              "['What is your email, is it hello', 'gmail.com?']"
            ]
          },
          "metadata": {},
          "execution_count": 119
        }
      ]
    },
    {
      "cell_type": "code",
      "source": [
        "'hello world'.split()"
      ],
      "metadata": {
        "colab": {
          "base_uri": "https://localhost:8080/"
        },
        "id": "iNRaui58Dl0x",
        "outputId": "2d7abbf2-ea73-48e5-e5de-db324beb569c"
      },
      "id": "iNRaui58Dl0x",
      "execution_count": 120,
      "outputs": [
        {
          "output_type": "execute_result",
          "data": {
            "text/plain": [
              "['hello', 'world']"
            ]
          },
          "metadata": {},
          "execution_count": 120
        }
      ]
    },
    {
      "cell_type": "code",
      "source": [
        "re.findall('match', 'Here is one match, here is another match')"
      ],
      "metadata": {
        "colab": {
          "base_uri": "https://localhost:8080/"
        },
        "id": "Bg9Q1HZXDl5S",
        "outputId": "b1def848-fee9-4572-93a8-8eedf4aad8ac"
      },
      "id": "Bg9Q1HZXDl5S",
      "execution_count": 121,
      "outputs": [
        {
          "output_type": "execute_result",
          "data": {
            "text/plain": [
              "['match', 'match']"
            ]
          },
          "metadata": {},
          "execution_count": 121
        }
      ]
    },
    {
      "cell_type": "code",
      "source": [
        "def multi_re_find(patterns,phrase):\n",
        "    '''\n",
        "    Takes in a list of regex patterns\n",
        "    Prints a list of all matches\n",
        "    '''\n",
        "    for pattern in patterns:\n",
        "        print('Searching the phrase using the re check: %r' %(pattern))\n",
        "        print(re.findall(pattern,phrase))\n",
        "        print('\\n')"
      ],
      "metadata": {
        "id": "LLCm35vkDl89"
      },
      "id": "LLCm35vkDl89",
      "execution_count": 122,
      "outputs": []
    },
    {
      "cell_type": "code",
      "source": [
        "test_phrase = 'sdsd..sssddd...sdddsddd...dsds...dsssss...sdddd'\n",
        "\n",
        "test_patterns = [ 'sd*',     # s followed by zero or more d's\n",
        "                'sd+',          # s followed by one or more d's\n",
        "                'sd?',          # s followed by zero or one d's\n",
        "                'sd{3}',        # s followed by three d's\n",
        "                'sd{2,3}',      # s followed by two to three d's\n",
        "                ]\n",
        "\n",
        "multi_re_find(test_patterns,test_phrase)"
      ],
      "metadata": {
        "colab": {
          "base_uri": "https://localhost:8080/"
        },
        "id": "J5QvuS3gDmBZ",
        "outputId": "52af2bf4-04d3-4601-c9c9-7c9e7fc742f3"
      },
      "id": "J5QvuS3gDmBZ",
      "execution_count": 123,
      "outputs": [
        {
          "output_type": "stream",
          "name": "stdout",
          "text": [
            "Searching the phrase using the re check: 'sd*'\n",
            "['sd', 'sd', 's', 's', 'sddd', 'sddd', 'sddd', 'sd', 's', 's', 's', 's', 's', 's', 'sdddd']\n",
            "\n",
            "\n",
            "Searching the phrase using the re check: 'sd+'\n",
            "['sd', 'sd', 'sddd', 'sddd', 'sddd', 'sd', 'sdddd']\n",
            "\n",
            "\n",
            "Searching the phrase using the re check: 'sd?'\n",
            "['sd', 'sd', 's', 's', 'sd', 'sd', 'sd', 'sd', 's', 's', 's', 's', 's', 's', 'sd']\n",
            "\n",
            "\n",
            "Searching the phrase using the re check: 'sd{3}'\n",
            "['sddd', 'sddd', 'sddd', 'sddd']\n",
            "\n",
            "\n",
            "Searching the phrase using the re check: 'sd{2,3}'\n",
            "['sddd', 'sddd', 'sddd', 'sddd']\n",
            "\n",
            "\n"
          ]
        }
      ]
    },
    {
      "cell_type": "code",
      "source": [
        "# character sets\n",
        "test_phrase = 'sdsd..sssddd...sdddsddd...dsds...dsssss...sdddd'\n",
        "\n",
        "test_patterns = ['[sd]',    # either s or d\n",
        "                's[sd]+']   # s followed by one or more s or d\n",
        "\n",
        "multi_re_find(test_patterns,test_phrase)"
      ],
      "metadata": {
        "colab": {
          "base_uri": "https://localhost:8080/"
        },
        "id": "8ZfoYfrZDmF6",
        "outputId": "df4ac011-640f-4750-fad9-9a075d9c3fa2"
      },
      "id": "8ZfoYfrZDmF6",
      "execution_count": 124,
      "outputs": [
        {
          "output_type": "stream",
          "name": "stdout",
          "text": [
            "Searching the phrase using the re check: '[sd]'\n",
            "['s', 'd', 's', 'd', 's', 's', 's', 'd', 'd', 'd', 's', 'd', 'd', 'd', 's', 'd', 'd', 'd', 'd', 's', 'd', 's', 'd', 's', 's', 's', 's', 's', 's', 'd', 'd', 'd', 'd']\n",
            "\n",
            "\n",
            "Searching the phrase using the re check: 's[sd]+'\n",
            "['sdsd', 'sssddd', 'sdddsddd', 'sds', 'sssss', 'sdddd']\n",
            "\n",
            "\n"
          ]
        }
      ]
    },
    {
      "cell_type": "code",
      "source": [
        "# exclusion\n",
        "test_phrase = 'This is a string! But it has punctuation. How can we remove it?'"
      ],
      "metadata": {
        "id": "Axq4eoJLDmJi"
      },
      "id": "Axq4eoJLDmJi",
      "execution_count": 125,
      "outputs": []
    },
    {
      "cell_type": "code",
      "source": [
        "re.findall('[^!.? ]+',test_phrase)"
      ],
      "metadata": {
        "colab": {
          "base_uri": "https://localhost:8080/"
        },
        "id": "ULc_fzdgDmNA",
        "outputId": "a21f5590-4fec-43d4-c96c-d02735d1f042"
      },
      "id": "ULc_fzdgDmNA",
      "execution_count": 126,
      "outputs": [
        {
          "output_type": "execute_result",
          "data": {
            "text/plain": [
              "['This',\n",
              " 'is',\n",
              " 'a',\n",
              " 'string',\n",
              " 'But',\n",
              " 'it',\n",
              " 'has',\n",
              " 'punctuation',\n",
              " 'How',\n",
              " 'can',\n",
              " 'we',\n",
              " 'remove',\n",
              " 'it']"
            ]
          },
          "metadata": {},
          "execution_count": 126
        }
      ]
    },
    {
      "cell_type": "code",
      "source": [
        "# character ranges\n",
        "test_phrase = 'This is an example sentence. Lets see if we can find some letters.'\n",
        "\n",
        "test_patterns=['[a-z]+',      # sequences of lower case letters\n",
        "               '[A-Z]+',      # sequences of upper case letters\n",
        "               '[a-zA-Z]+',   # sequences of lower or upper case letters\n",
        "               '[A-Z][a-z]+'] # one upper case letter followed by lower case letters\n",
        "\n",
        "multi_re_find(test_patterns,test_phrase)"
      ],
      "metadata": {
        "colab": {
          "base_uri": "https://localhost:8080/"
        },
        "id": "0PRPyDfIDmQT",
        "outputId": "2bddfb91-861b-4d2f-a9e2-957511dd5a26"
      },
      "id": "0PRPyDfIDmQT",
      "execution_count": 127,
      "outputs": [
        {
          "output_type": "stream",
          "name": "stdout",
          "text": [
            "Searching the phrase using the re check: '[a-z]+'\n",
            "['his', 'is', 'an', 'example', 'sentence', 'ets', 'see', 'if', 'we', 'can', 'find', 'some', 'letters']\n",
            "\n",
            "\n",
            "Searching the phrase using the re check: '[A-Z]+'\n",
            "['T', 'L']\n",
            "\n",
            "\n",
            "Searching the phrase using the re check: '[a-zA-Z]+'\n",
            "['This', 'is', 'an', 'example', 'sentence', 'Lets', 'see', 'if', 'we', 'can', 'find', 'some', 'letters']\n",
            "\n",
            "\n",
            "Searching the phrase using the re check: '[A-Z][a-z]+'\n",
            "['This', 'Lets']\n",
            "\n",
            "\n"
          ]
        }
      ]
    },
    {
      "cell_type": "code",
      "source": [
        "# escape codes\n",
        "test_phrase = 'This is a string with some numbers 1233 and a symbol #hashtag'\n",
        "\n",
        "test_patterns=[ r'\\d+', # sequence of digits\n",
        "                r'\\D+', # sequence of non-digits\n",
        "                r'\\s+', # sequence of whitespace\n",
        "                r'\\S+', # sequence of non-whitespace\n",
        "                r'\\w+', # alphanumeric characters\n",
        "                r'\\W+', # non-alphanumeric\n",
        "                ]\n",
        "\n",
        "multi_re_find(test_patterns,test_phrase)"
      ],
      "metadata": {
        "colab": {
          "base_uri": "https://localhost:8080/"
        },
        "id": "sWSvP6q3DmTP",
        "outputId": "69eb877c-9422-4e0b-c308-f31ffb9e20dd"
      },
      "id": "sWSvP6q3DmTP",
      "execution_count": 128,
      "outputs": [
        {
          "output_type": "stream",
          "name": "stdout",
          "text": [
            "Searching the phrase using the re check: '\\\\d+'\n",
            "['1233']\n",
            "\n",
            "\n",
            "Searching the phrase using the re check: '\\\\D+'\n",
            "['This is a string with some numbers ', ' and a symbol #hashtag']\n",
            "\n",
            "\n",
            "Searching the phrase using the re check: '\\\\s+'\n",
            "[' ', ' ', ' ', ' ', ' ', ' ', ' ', ' ', ' ', ' ', ' ']\n",
            "\n",
            "\n",
            "Searching the phrase using the re check: '\\\\S+'\n",
            "['This', 'is', 'a', 'string', 'with', 'some', 'numbers', '1233', 'and', 'a', 'symbol', '#hashtag']\n",
            "\n",
            "\n",
            "Searching the phrase using the re check: '\\\\w+'\n",
            "['This', 'is', 'a', 'string', 'with', 'some', 'numbers', '1233', 'and', 'a', 'symbol', 'hashtag']\n",
            "\n",
            "\n",
            "Searching the phrase using the re check: '\\\\W+'\n",
            "[' ', ' ', ' ', ' ', ' ', ' ', ' ', ' ', ' ', ' ', ' #']\n",
            "\n",
            "\n"
          ]
        }
      ]
    },
    {
      "cell_type": "markdown",
      "source": [
        "# Philosphy"
      ],
      "metadata": {
        "id": "vAO22FZAqaS3"
      },
      "id": "vAO22FZAqaS3"
    },
    {
      "cell_type": "code",
      "source": [
        "import this"
      ],
      "metadata": {
        "colab": {
          "base_uri": "https://localhost:8080/"
        },
        "id": "O0CeCcTCqiXn",
        "outputId": "01fb695e-6d1f-4838-add4-573ff0051127"
      },
      "id": "O0CeCcTCqiXn",
      "execution_count": 129,
      "outputs": [
        {
          "output_type": "stream",
          "name": "stdout",
          "text": [
            "The Zen of Python, by Tim Peters\n",
            "\n",
            "Beautiful is better than ugly.\n",
            "Explicit is better than implicit.\n",
            "Simple is better than complex.\n",
            "Complex is better than complicated.\n",
            "Flat is better than nested.\n",
            "Sparse is better than dense.\n",
            "Readability counts.\n",
            "Special cases aren't special enough to break the rules.\n",
            "Although practicality beats purity.\n",
            "Errors should never pass silently.\n",
            "Unless explicitly silenced.\n",
            "In the face of ambiguity, refuse the temptation to guess.\n",
            "There should be one-- and preferably only one --obvious way to do it.\n",
            "Although that way may not be obvious at first unless you're Dutch.\n",
            "Now is better than never.\n",
            "Although never is often better than *right* now.\n",
            "If the implementation is hard to explain, it's a bad idea.\n",
            "If the implementation is easy to explain, it may be a good idea.\n",
            "Namespaces are one honking great idea -- let's do more of those!\n"
          ]
        }
      ]
    },
    {
      "cell_type": "markdown",
      "source": [
        "# indentation and sequence"
      ],
      "metadata": {
        "id": "yY21JqCGvOw_"
      },
      "id": "yY21JqCGvOw_"
    },
    {
      "cell_type": "code",
      "source": [
        "import platform\n",
        "\n",
        "def main():\n",
        "    message()\n",
        "\n",
        "def message():\n",
        "    print('This is python version {}'.format(platform.python_version()))\n",
        "    print('line2')\n",
        "    print('line3')\n",
        "print('line4')\n",
        "\n",
        "if __name__ == '__main__': main()\n"
      ],
      "metadata": {
        "colab": {
          "base_uri": "https://localhost:8080/"
        },
        "id": "Hs8wcECIqkff",
        "outputId": "7060b8fe-9a64-4e8e-fb8e-35515b2d94b0"
      },
      "id": "Hs8wcECIqkff",
      "execution_count": 130,
      "outputs": [
        {
          "output_type": "stream",
          "name": "stdout",
          "text": [
            "line4\n",
            "This is python version 3.10.12\n",
            "line2\n",
            "line3\n"
          ]
        }
      ]
    },
    {
      "cell_type": "markdown",
      "source": [
        "# blocks and scope"
      ],
      "metadata": {
        "id": "X-RB9bvlycI6"
      },
      "id": "X-RB9bvlycI6"
    },
    {
      "cell_type": "code",
      "source": [
        "#blocks do not define scope of the variable\n",
        "x = 42\n",
        "y = 73\n",
        "\n",
        "if x < y:\n",
        "    z = 112\n",
        "    print('x < y: x is {} and y is {}'.format(x, y))\n",
        "\n",
        "print(z)"
      ],
      "metadata": {
        "colab": {
          "base_uri": "https://localhost:8080/"
        },
        "id": "cV5WLBppvYn9",
        "outputId": "6345812f-4999-49cc-af4c-1efb39817417"
      },
      "id": "cV5WLBppvYn9",
      "execution_count": 131,
      "outputs": [
        {
          "output_type": "stream",
          "name": "stdout",
          "text": [
            "x < y: x is 42 and y is 73\n",
            "112\n"
          ]
        }
      ]
    },
    {
      "cell_type": "markdown",
      "source": [
        "# None"
      ],
      "metadata": {
        "id": "8Vr1Q89G2cPk"
      },
      "id": "8Vr1Q89G2cPk"
    },
    {
      "cell_type": "code",
      "source": [
        "def func(n = 1):\n",
        "  print(n)\n",
        "\n",
        "x = func(42)\n",
        "print(x)"
      ],
      "metadata": {
        "colab": {
          "base_uri": "https://localhost:8080/"
        },
        "id": "z6DwCZ4VyqNt",
        "outputId": "7523fcb8-d9e8-4e8a-8494-d2a81070ca82"
      },
      "id": "z6DwCZ4VyqNt",
      "execution_count": 132,
      "outputs": [
        {
          "output_type": "stream",
          "name": "stdout",
          "text": [
            "42\n",
            "None\n"
          ]
        }
      ]
    },
    {
      "cell_type": "code",
      "source": [
        "def func(n = 1):\n",
        "  print(n)\n",
        "  return n\n",
        "\n",
        "x = func(42)\n",
        "print(x)"
      ],
      "metadata": {
        "colab": {
          "base_uri": "https://localhost:8080/"
        },
        "id": "8kzhhfZF2nm4",
        "outputId": "9b60a12f-130a-4628-cb6e-c723ec675dcb"
      },
      "id": "8kzhhfZF2nm4",
      "execution_count": 133,
      "outputs": [
        {
          "output_type": "stream",
          "name": "stdout",
          "text": [
            "42\n",
            "42\n"
          ]
        }
      ]
    },
    {
      "cell_type": "markdown",
      "source": [
        "# String format\n"
      ],
      "metadata": {
        "id": "7V7MGxe1in4J"
      },
      "id": "7V7MGxe1in4J"
    },
    {
      "cell_type": "code",
      "source": [
        "print(\"{} {}\".format(8,9))"
      ],
      "metadata": {
        "id": "zs7KUN_c2quw",
        "colab": {
          "base_uri": "https://localhost:8080/"
        },
        "outputId": "8e8af965-058d-4375-8d9d-73524a52ad98"
      },
      "id": "zs7KUN_c2quw",
      "execution_count": 134,
      "outputs": [
        {
          "output_type": "stream",
          "name": "stdout",
          "text": [
            "8 9\n"
          ]
        }
      ]
    },
    {
      "cell_type": "code",
      "source": [
        "print(\"{1} {0}\".format(8,9)) #swapping positions"
      ],
      "metadata": {
        "colab": {
          "base_uri": "https://localhost:8080/"
        },
        "id": "UsDJvTW9irGz",
        "outputId": "d1a2e7dc-b6f1-4d49-b44d-466e5fedbcbf"
      },
      "id": "UsDJvTW9irGz",
      "execution_count": 135,
      "outputs": [
        {
          "output_type": "stream",
          "name": "stdout",
          "text": [
            "9 8\n"
          ]
        }
      ]
    },
    {
      "cell_type": "code",
      "source": [
        "print(\"'{0:10}' '{1:10}'\".format('8','9')) # adds 9 space afer the character by default"
      ],
      "metadata": {
        "colab": {
          "base_uri": "https://localhost:8080/"
        },
        "id": "n81MxadUiji9",
        "outputId": "2a0672cb-2700-471a-be70-c990681ac43d"
      },
      "id": "n81MxadUiji9",
      "execution_count": 136,
      "outputs": [
        {
          "output_type": "stream",
          "name": "stdout",
          "text": [
            "'8         ' '9         '\n"
          ]
        }
      ]
    },
    {
      "cell_type": "code",
      "source": [
        "print(\"'{0:>10}' '{1:<10}'\".format('8','9')) #> adds before (left) align), < adds after (right align)"
      ],
      "metadata": {
        "colab": {
          "base_uri": "https://localhost:8080/"
        },
        "id": "6Yi6SvDni7JG",
        "outputId": "3dd18c8d-9942-411c-feb7-a6a3c0bee42c"
      },
      "id": "6Yi6SvDni7JG",
      "execution_count": 137,
      "outputs": [
        {
          "output_type": "stream",
          "name": "stdout",
          "text": [
            "'         8' '9         '\n"
          ]
        }
      ]
    },
    {
      "cell_type": "code",
      "source": [
        "print(\"'{0:>10}' '{1:<10}'\".format('8','98765'))"
      ],
      "metadata": {
        "colab": {
          "base_uri": "https://localhost:8080/"
        },
        "id": "rzOUmlEejoSy",
        "outputId": "b0c4875f-8008-4374-fff5-c31ec6b6c8c6"
      },
      "id": "rzOUmlEejoSy",
      "execution_count": 138,
      "outputs": [
        {
          "output_type": "stream",
          "name": "stdout",
          "text": [
            "'         8' '98765     '\n"
          ]
        }
      ]
    },
    {
      "cell_type": "code",
      "source": [
        "print(\"'{0:0>10}' '{1:<10}'\".format('8','98765')) #adds remaining space with 0"
      ],
      "metadata": {
        "colab": {
          "base_uri": "https://localhost:8080/"
        },
        "id": "90B4FJ-Pj7fK",
        "outputId": "cc61ee50-e4f7-49f6-82b0-58cb32aab854"
      },
      "id": "90B4FJ-Pj7fK",
      "execution_count": 139,
      "outputs": [
        {
          "output_type": "stream",
          "name": "stdout",
          "text": [
            "'0000000008' '98765     '\n"
          ]
        }
      ]
    },
    {
      "cell_type": "code",
      "source": [
        "print(\"'{0:0>10}' '{1:<10}'\".format('8','987654321010101010101'))"
      ],
      "metadata": {
        "colab": {
          "base_uri": "https://localhost:8080/"
        },
        "id": "m-lUfshdj_kq",
        "outputId": "98064d58-07de-42a8-862a-2ffedebae51c"
      },
      "id": "m-lUfshdj_kq",
      "execution_count": 140,
      "outputs": [
        {
          "output_type": "stream",
          "name": "stdout",
          "text": [
            "'0000000008' '987654321010101010101'\n"
          ]
        }
      ]
    },
    {
      "cell_type": "code",
      "source": [
        "a=8;b=987654321010101010101\n",
        "\n",
        "print(f\"'{a:0>10}' '{b:<10}'\") #alternate way with f string"
      ],
      "metadata": {
        "colab": {
          "base_uri": "https://localhost:8080/"
        },
        "id": "Hl1oyJRikLFz",
        "outputId": "6f99f3e0-a3f2-4592-fcc0-f3a73c3fe441"
      },
      "id": "Hl1oyJRikLFz",
      "execution_count": 141,
      "outputs": [
        {
          "output_type": "stream",
          "name": "stdout",
          "text": [
            "'0000000008' '987654321010101010101'\n"
          ]
        }
      ]
    },
    {
      "cell_type": "code",
      "source": [
        "a = 0.1; b= 0.1 ; c = 0.1 ; d = 0.3\n",
        "\n",
        "print( a + b + c - d) #python by default sacrificing accuracy for precison for such floating point calculation ex - upto 17 places afer decimal it is precise"
      ],
      "metadata": {
        "colab": {
          "base_uri": "https://localhost:8080/"
        },
        "id": "eG5wAgL4kz-x",
        "outputId": "e0fe83dc-2564-40c1-ca72-d6d1c68778e3"
      },
      "id": "eG5wAgL4kz-x",
      "execution_count": 142,
      "outputs": [
        {
          "output_type": "stream",
          "name": "stdout",
          "text": [
            "5.551115123125783e-17\n"
          ]
        }
      ]
    },
    {
      "cell_type": "code",
      "source": [
        "#above problem is solved by sing decimal object provind nuber as a string\n",
        "from decimal import *\n",
        "\n",
        "a = Decimal('0.1'); b= Decimal('0.1') ; c = Decimal('0.1') ; d = Decimal('0.3')\n",
        "print( a + b + c - d)"
      ],
      "metadata": {
        "colab": {
          "base_uri": "https://localhost:8080/"
        },
        "id": "YuA1CuYblwmn",
        "outputId": "01b81e01-7a51-42b7-bffa-4a7616ad98f5"
      },
      "id": "YuA1CuYblwmn",
      "execution_count": 143,
      "outputs": [
        {
          "output_type": "stream",
          "name": "stdout",
          "text": [
            "0.0\n"
          ]
        }
      ]
    },
    {
      "cell_type": "markdown",
      "source": [
        "# id and type"
      ],
      "metadata": {
        "id": "NY-QzfTPpt0I"
      },
      "id": "NY-QzfTPpt0I"
    },
    {
      "cell_type": "code",
      "source": [
        "x = (1, 'two', 3.0, [4, 'four'], 5)\n",
        "y = (1, 'two', 3.0, [4, 'four'], 5)\n",
        "\n",
        "# == checks for the value\n",
        "\n",
        "if x == y:\n",
        "  print(True)\n",
        "else:\n",
        "  print(False)\n",
        "\n",
        "# is checks for id\n",
        "print(id(x))\n",
        "print(id(y))\n",
        "if x is y:\n",
        "  print(True)\n",
        "else:\n",
        "  print(False)\n",
        "\n",
        "# but literals have same id  so literal 1 has same id\n",
        "if x[0] == y[0]:\n",
        "  print(True)\n",
        "else:\n",
        "  print(False)\n",
        "\n",
        "print(id(x[0]))\n",
        "print(id(y[0]))\n",
        "if x[0] is y[0]:\n",
        "  print(True)\n",
        "else:\n",
        "  print(False)\n",
        "\n",
        "x = (1, 'ram', 3.0, [4, 'four'], 5)\n",
        "y = (1, 'ram', 3.0, [4, 'four'], 5)\n",
        "\n",
        "if x[1] is y[1]:\n",
        "  print(True)\n",
        "else:\n",
        "  print(False)\n",
        "\n",
        "if type(x) == tuple: #this one depends on python version\n",
        "  print('yes')\n",
        "else:\n",
        "  print('no')\n",
        "\n",
        "if isinstance(x,tuple):\n",
        "  print('yes')\n",
        "else:\n",
        "  print('no')\n"
      ],
      "metadata": {
        "colab": {
          "base_uri": "https://localhost:8080/"
        },
        "id": "GCoulR-9nLMh",
        "outputId": "7f56369f-b88f-4197-a9d3-12aad2555a7c"
      },
      "id": "GCoulR-9nLMh",
      "execution_count": 144,
      "outputs": [
        {
          "output_type": "stream",
          "name": "stdout",
          "text": [
            "True\n",
            "138304911152672\n",
            "138304321835136\n",
            "False\n",
            "True\n",
            "138305341014256\n",
            "138305341014256\n",
            "True\n",
            "True\n",
            "yes\n",
            "yes\n"
          ]
        }
      ]
    },
    {
      "cell_type": "markdown",
      "source": [
        "# Conditional one line check"
      ],
      "metadata": {
        "id": "vWW0AqSzu5wE"
      },
      "id": "vWW0AqSzu5wE"
    },
    {
      "cell_type": "code",
      "source": [
        "hungry = 0\n",
        "\n",
        "x = 'yes hungry' if hungry else 'not hungry'\n",
        "print(x)"
      ],
      "metadata": {
        "colab": {
          "base_uri": "https://localhost:8080/"
        },
        "id": "KKLi9seKsDd5",
        "outputId": "19fe0a5c-592b-4ada-927b-015e19130508"
      },
      "id": "KKLi9seKsDd5",
      "execution_count": 145,
      "outputs": [
        {
          "output_type": "stream",
          "name": "stdout",
          "text": [
            "not hungry\n"
          ]
        }
      ]
    },
    {
      "cell_type": "markdown",
      "source": [
        "# Operator precedence\n",
        "\n",
        "![image.png](data:image/png;base64,iVBORw0KGgoAAAANSUhEUgAABR8AAALMCAYAAABtzMXTAAAAAXNSR0IArs4c6QAAAARnQU1BAACxjwv8YQUAAAAJcEhZcwAAEnQAABJ0Ad5mH3gAAP+lSURBVHhe7P1ndxzJkiYIGxIJrbUgAWpNVrG01lW3+4ru2/f2TI/Y2Tln9+zsOx/e9zf0/In9tGd3Psx0T4vbc/UtxdJkURS1JkEFgoTWIiFS4H0es/CMyCRAgCRAAmA8gGdERribm5ubm7tbenjkpFKpWQkRIkSIECFChAgRIsSqxuysDetzcnJkFn/853mIxwlI/imUu+keQ06ocyFChAgR4h5EvGOIEMsCDkTcQDjE4rAWx2tOD0JdCBEiRIj5YTYytJMhHh4cQzjHTw7++L/asfrGD2twILcImNrR8ahfQ4QIESJEiAysWedj6OhYOXjaf/180Mnko6jtStf7x6UKa7XtB+t3rZYxRIiVBGtnj7uthTP3EPPD9QPz9wGZ+qMOyAdANn07Pu42kInVOI58Ose+bsXjyih7ti4/DjyJPEOECBFitWDNOh9dnx8a/yeLtTn4evBBhUV/FF1c3QMZ6sFKGpCufoR2LUSItYin02ERYuX3709eL8O2cT+Ezq6VgOw6COskRIgQITKxhh+79pf9h+OVEI+K4KB3sWMJN+hwaR9lDJKddr4BDfN62gfolA1lsBYHfX79hkYtRIjFINMc0iY8mF0I21uIlQbXD5huzoUH1/MgsunPn8/SInTUPDxC0d0fj0uHHR53fiFChAixWrDG93y0wVPYKYd4/Agq3aMrIPX43sFMqNj3IlMma3kyEw5uQ4RYGEETwPOlNQlr176EeDxgH+V+MFsqLI2ek8Dj0+/Q8fhomHuMGOJxyyWY3+POO0SIECFWA8K3XYcIscxwg+rHNQhhPuFAPkSIECGWF4/btocIsRgE+/+H0c250ofjihAhQoQIESLEoyJ0Pj4CHnWAFyJEiJWL0LEwN0K5hFh6cPWX6VTo5Aix9KA+Pai98nUyxNpE2JetHgTrKuwjQoQIEWL1Yomdj2t/sJY5WEF5eR7uBxViiUE9c+3ocQ6QNS9kE+p0iPlhVi/EWoX144SZnKWv6+DE0bdroV6tRjzO/mkpsHh+Q+fj04HQ7qwGrDY7EyLEoyDU9xDzYe7x8+rCku35SGE8DQO1zPLRRRMahhDLA2tTrgPSw+MBsgwatxAhMhHavLWNzD5uOZFp10K9Wq14nP2T3y+GfVSIpUBod1YDaGMe6zg4xKrHatYZ9TWE+h7iPljN9nBJnI9Pm6Mi/CUixHIjqGN2+nh0zuW71CoeThbXHnwnQIi1iOXs50jb6Pt5hLq0OmFqsny6Mh+oLou1QcE4i9frx1+mECFCzAe2x7BNhlg8rI/wviwRHuc4JVzcFGIuuDHMY1TFJceSvu16OScrIUI8afgTncfT4ueaoD8OPIk8Q9wfj1PvQjwOhPUZYq3g8fdP7KK0m/K+L4TsOItJQyw2XoinE/6YMESIx49Q9x43nqy8n5b6DvV6+WCyffLyXRLnow0Gw0FaiJWPpVDT0C4+OMw+zCX8lSTMlVqxxtdK07vQ7j88WJdWnytT555EvYa6FGLxsP4k1JnFYmXamdWMcIL8dGLlmJyl0r9QjxePJ9/nPH67c7/8lo+X0L7eH9TDxepidrSVINrwbdchQoR4YmAHY4ZxZXToK3Eyu1J5W8kyWw0I5Rdi9WG+4eJCOjxfumyEbWEpQJPimZfQzoQIsSbBVbeP3q5D+7C68Djqi7RdPvfLT+/hcs4y9NuhXq5tLOlj1yFChAixENipZHYsT75zIR9hJ7d4UFShzB4OTv9D+YVYnaDtDoaF4OJkp8sOhDuGCBEiRIjlROjgCfEooN5Elkl3wvHx0sHJ0c09XLt/kghXPoZ4qvAonW2wwYZG8VFBWYYyXBzsF24i1LvVjUexPyFCPBpgR7wzw8PoICkEqTwIjczcs2GUHL2wfSwtKPtQpkuJlTYezO5bwr5m+bBcsn0wnbJx4aPxwPxC/VgteDJtOtSRtQNnX558fYYrH0OseNDgBjtlO/e/Pyge1XA/Vru/ApFdHw+HsDPLxvxyNVk97Xp3P2TL7tH1c/nweAaOS9FGQ6wlmDbw81H1gvrrAuFo3i8QwXT3BovJv+AxxNKAMg6xlHi8DoCFMRc/K43HtYRlka1HcnGklyL/UD9WGx5/mw51ZO2Adfk46nPh+cdTsfKRQgg74dUMp6JWh2F9Plk4o7J26oCGcvHlMf3jmR/f6eRc9xaLR0n7tCNbJ119PK3IlkeIEL5bj3B68aj6YTTnJaOZLZyX3fFoZcWfP1WIECFChAgRIkSIlQQ3B5tvXvsUrXzUUXCIVYtwCrJSQIOylpwanp9G4Zw2CyEzWmaaRZK4ByZTX66h42jxcLLKdrottj7XGkLVCXE/UD2WLuAPzWzOoH/B49zBR/AbBq3huC1EiBAhQoQIEWLVYKH5a7jyMcSKx1wOBTt9mDq1VW4OD08nxFpBtoPqwWwF07pfd+xIGI3MewvD4jswSRZrIRZAtqz9+tBPPV+7yNSfECGCCK58dM7ApdGXxRiphfNJ6Sfar0fP528peAwRIkSIJwc3BnFjkhAhQoRYywjOibPxVKx8XNzEP8RKBesvWId2/nB1mt0OwnHAg2EtNiXVJ69cD2IraFSd/rh0PDL49xavYIwfNNSB0xCLxFz1x0vZsl2LeBrKGGKlYbH6tni9DDU4RIgQaw1h/xwiRIinAW4adj97t+wrH13mDzKpXw4EhfCkeQkRIsTjxXK1/5Vi3xbCauEzxOIR1mmIB8HyrHw0mguD+dw/r3Dl44OB7T7YrwURtA2hnQgRIkSIpwvZdj/sB55usP5XUt0/FY9dG1wxw4YXIsTTiaW3Aau1Q7eOiGehPVzdoP6FdRhiYSyP85EuQ2dX5wPzcGF+GBVHi07I7PiPyuvTg2C/FE46Q6x0hPoaIsSTg2tzRNju1iq8p/FQvfeOrR4/nqIXzlDY1rG5ECJEiLUPv737NmCp4Drq1WlPnnwHFOJREdZhiKWFby8fBIx/v7BYOH2GncYnONFPw4PQWfkIyvnhZD4/2C25OWQ4mQwRIkSIpxN+37JQ/7K2+tcQ2fDGASukmpfF+biUg6gQIUKEeBQs99xrNU7uwgnpWsDSOixCPB3wf/We3wYs3jwsnR1xlNyD1+Z4dFjZeu4meI+rPS6cH6Xp101o70OsdDgdDVU1RIjlwEINC/fDtrdm4cYKK2UssCyPXbOQ4WDn8YBS9iswc7i+eLi6ClLzj5k1yevuiuWn31Dfs7PB9A685oKjxTjBeHbVP86PpW1AHLwvFa0QawOLbUMulk3lVS8X1CO7H2rbo8Gvn8XVlA9f8nZ2b3r/ymJraT4e5qrrbN3i3fuX4f6PRzxO+2V5EaG9XK0I6p9fh/fWJmNlX8V3XHbpH00FfC6ywTt2185yfKUDB8z0kTJeVjzc2IRpLP6DjpuXdiwU4mnCg+paiBAhQjwdeJzj6seHlWbzn6I9H9ceVI282qPfz6YWwQnGQnCKyGNQKY0OA9cgqL56A10DpgHMD9f4R4WelQgC4dIygqPJBbZu6sB7bp8oL146EO44N/wBt37q+YNA+fXShYP3FQxWiVXPY8X92xCvOl3xdMd9py5pO5gPjLfSp88rEzmeUJ054Ve75J8tDCf5dOvH8d70dsXFXQgubTYPfj4+FbOVdka4u5bjXCAFS+9TeVJwtjKItW43s/VurcD00LTfFW3hIiIGEjg1SCRmZXIyKfE4LgT0QM8YVePOSm5ujhQW5iJAl9PRPCJzgHfsrp1pEpxaWn6kiYR4ikF9mMMkhVgkHsfYl3n47TZEiBBLB2f8wra11Aj9Ao8HofNxlYMTpFlvlsTPbLfJws3HxQjGzKZhT+en2yJve+duAKjHOTPLpsXvLgTBxC4sH0LDEmJuBFtO9hk/oS/UHdUb77v36a5kw11zLqTsmP71EPeD7wQK1lFQlv7V+4NpTOa+5DPTeu6ORcDFm5uHe+nb0Y9lP8jYlcy0PnwqduZ/f3JAHXjsrvWJ5Vp1PhJsSSye06uFi+jFQKJ4YlZ6e0bk0sWb0tM7JjmRYuhCrt1URLSfTaVmpKKyWLZtWy+tLZVSXOTRyEmlY/ocGHjd7tkZr7t7duZ/CxEixMNjOcfCRpuBPzqEbTZEiKVEdtvl0V0LEWI1IHQ+rgnYVMIzR4HP+RCM6YNDfX+c4OjQqNHYCSYTyAMnfsB9JIgg5ERskBHBnJopLQeDnadISc8ywWsMbjKezVWIEEsFX2ezgTv6aVikDmp0/rpv8V3qINhO7D6DxWBebFeWapF5PfVwNWSyM/gyXQwY209hNObSBWLxVOcCeQQFKptScsHlxSPs3SxiBX44mht+Or/cIZ5WZE8w5tPfheDbuwfTLeYXm4jL6dNt8k//+Cc5fea65OaWQ53z7b5+5CqfifikbNzUJH/5F+/JW2/tkrraAi8CnY/WksmCpeG/P0Jw/PGe3ldkfgsRIsTDw9mSh7Uh90PQTi0H/RAhnmZkt10es8cGIUKsZITOxzUAG8i7arQBun3OBRfPM17ep02XLR1tWDKZkkQiiQlEUiYmUjI+npJYbFomxmP4PimTk9O4n5LCwkIpKSmVstISKSnNk9KyHCkujkg0mqshNxrB5AQ5gDDp+uMQ5s/gHsGm85HhXizlQMbxsZwDrxAPjmB9LHXdLIZesA2xFVhLuBekpXcCtJjKfcvOK/O7lwtO6XO6XysNkQmrG/v0a8dkalhYjuraQH1wi4gUzA76Pi/1fLW9CGhCpEf96g8v2YSQgearTkbLzR28xNCHuXNXXfEiW5kfmssQi0a6coC1K2+nVz78sqq+ZsDdo54L+v+4nD55Tf7hf/xRjp9sk0i0SnIiBek4MmsrHxOJmGzeuk5++YsP5e23tkldXZ5SmvX6fM+SBqj70rcjYngXzH66mCFChHgULGZMFCJEiBBPA2gHnU0M8XgQOh/XALInqW6QPtewQhsYRvQuRk6OOfw4GY/HkxKLJWVoOCGdncPS3n5XOm53SVdnr0xNxSVJZ2QilXZMklRuLp2MUT3m5kaksKhAqqsrZf36BtmwcZ20tNRJTU2ulJTkSkEB4/h86SSEswsQspfVGC/zjYeCA6ZHHzxZep+bEE8WrA+/Lli/SzswzqSfDb8NuRZkcVU93R3yQ77w5x7FdPcivObpJBHk3S+LxQ6djw8Ok7J9EjleBWSqyP1laU6VHJmZSUlf36jcvTskkzGkycmXCD2Hmt7yWRikRvuZI3l5USkpLpCS0qgUFgq+0xGZA1uXI1HYxLx8BFwjrz6HsH2ztH9Gh3f0HrI2LcHReV4A3vVihFhWuPp3sl49Mvf7RP3U8/nh65bpn4NHI3Df+mWLQ9oT4zNy5vQ1+R90Pp5ok0genY+FiME4DHQ+pmQmHpMtW9bJL39pzsfaWnM+uh8cgznYdQ/uhl50Wp8RY83g0ccxy4+l74tDPGksR50aTZ49PN2lag8PVz7YJGQf6vrygGL1qjdEiKcCS2ETnyzMJhL3K4ez20TQft7PDofOxzUAm6xaNS40STUlcQphK4BmZpIyNDQtV6/elcuX70hHx6D0D4zI4NCYjI1OSGxiSlJJj7amCzpa7DtBHnIx6S4szJPS8mIpryiW6qoyaW5ulO3bN8q2bU3S3BiVouJcieYhlSYzfuh8zFTye+HyJA+m1PpNr4UI8SjIbEGmVc734+6pvuHE1M6m5/49XKV+8r5F4EcGLKYXX4N9hlgY2bJz3t+ctINuYVnyLqyGjA5Pyg/HL8rXX52Q/r64pKRAIpGoxQA9y+U+wG3HCf9yI3QuRiW/ACE/T4qKCmDjCnU1eE1NpTQ1V0tzU7lUVubiXq7kqyOS6fkDDvP0eKdNM/LGgfJisJx4N8TywUnbl7qF1QDoCtg220Pcn293lyV1gZ923R0dfOcjD7G08/EPcvzkNW/lYyHyxk3+mKkrH33n4y+48vHtbVJXGzUqdLqj1Tkpk2hmfszfXeEx8+7agi+FlVrOcKz15OCPsyF9v3GvOATH5g+Lhcq62Dx438Xl0aIvjq8HjR/i8WEh/QgRYqXB7MmT0dWlai+Ozv1oWBwGjNw0no1HifnShc7HNQBOUV0lspr9qg5WuovBgX2usNb5tsr+/hm5caNTLly8Lleu3JRbt3pkaGhS4skk4vKR6ahEdELBtFzRwzVePjVzArh8PE4wuUjNJiWRnIHiiVRUlMn65mbZvq1Vdu/cjOM6aVqXL6WlEUxcvKQAJyxUWNNVR5PIVuR07h7s/txKPte1lY7s8jlkyuTpwvKWnRSNqk17XW70EXGFrt/CvHuerrnrqnvpKEEKBrvFzyCdzDiPhqWktRTwy7kUcNR4NOnyMzuP+8vAUuTIQP+YfP75YfmXfzkgnZ0x2KpCW/mYrtOFEehrPeALnSr4np+fLwUFBVJUVAjbVy51tZXS0FAjG1ubZMf2FmlpKcP1XMnlDzCa0iOmRHFFadK5bX/2zf582PWHg+U6N+53by0gKEMHV965yj1X/JUCTzs8tucb5N2LzDrOLPV8MrBApzkfuz5zync+5mY4Hxk/gqZA5+NU2vn4jud8NPKe8xHnxrJ+ZCDzyr33Hy/ul/9c8poPQToPm+5h8SD5PSged/3MV5YnrSdLj5XvcIEN8lhcbv4WMwnOBtPMZ2Pmw8PkE2L5sfLbQogQKwePs73cm5f1C/fLN/dv//Zv/4t3HmLVghVslcwpqztz1xw4caAyJJIig4PTcvFSl3z77Rn56usT8v3hs3LzZp/EJqExkQKJYGacG43imKuPEOo0R0niA99tWRiPDKpqetRFEpzH00kZYdqoTE/zMcdhud3eLZ0dAzI0FJOZ6YiUlpRKYWEEeXhkcjgpIUiIweD02imyKbWe2Xfv6N0OIJPO6oJX6DRcOYLlyY7jZOGH1Vr6TMxVj/eW/dFh+Vgb8vLzso5ELD/64U1X/cD76hpim3AXNBgcpzzee3cpsPQUHw3BEi8lrIz66ZE2m/Ag5c+Ryck4bF2XXL7SLhMxXIkUwtbB3sFW5UTyEGD35g156ZBDG4lAWxnhjzS5+QgFkprNlemZWYnFZmRgYFxud/RIW1uHtMP+jQxPycxMVKJ5RboK0j2O7bGmgash09c8qH5phCAeRr5eJors9Pe7txYQLF82Vmt5je/7DfJ8uDiZdTyXVO6VhteXIJ+ZeEq6uwfl3Pmr0tU1iLbAt12jPaj908iIPivJVEKqqytk164tsrG1WkqKOTjQmx4t/ptWMzhuWBZHxkfwyr3cLR9cvvdy5GMx/DD9XDQWSjtfuofBw8rN8k+Ps/TTYSn5exBkl8Xx8CR4eTSYg8znO+j8CoaViOyx+XJiMXIIys4/Phhvflr91PMQj45MPXftd/HyZVom92mECLESQd1+cjrq2lkwLDfuzWvhfEPn4xoBq9mqGpXuHW2I7w30eT0nIjMJwcRhSo4fvyp/+tN3cuDAEZ2Iz85y30ZOnjnBNoejbQeJIad26JbeFAq0Xd+h8JyTPNPbOMdRlVGYJgJ6EUkmk9I3MCDX2q5J+507yKtISsurdRIejRp9y9QR9zgnnSxFDn5lLnMrOq/NdX21YqGyQG4Z9WKYWzarGXMU8r5werCYACh5p1PUdQboJQNX9ehjhX7ISdl1p+vUx7lgV+e7+7Bw1JaW6kqDL7vMci5Ot4P6QucjV3vflctXbsv4BPeToDPR6g4fMEGgySPr0tMBu27f9U/tFI8MPLVz0rFgcXKjuUjHt/+KjI2Ow9a2y+3bd2Q6npLSkkopL8+XvDyjpZY6bViZp3fKfLzj/XQ/Hf2+YCwXnmZkl391yoOasbg2EIxDXZsfma3FD/oJnebe0D3dg3L+fJt0dQ1B14vAQ9T4YNCnIZzzsUx27dwsGzfU6IvojI6NSZxWO1i+LI/mNAfc1bnvLg8Wzut+svShNeWdE5llYbOfuxp5cc4bC2BxXC2MQN66RUTwijsLxLkvFsvTYuhlx5kvzWJ5e7Jwbdg5z4jFtesnh2xH30rCo/Jk6Ve2/FcTsnXFqfmD1tPDpgsR4nFgJdnEld5GOOsJcR8EK5CKFRwcrBT4HLrhLT7TfNMLbuWYmZmV9vZx+ezAcfmHf/5CDn5/XmbiUSkoKsecgit+vElzJIX4SVDhJMHSk469IZaOGH7jOa/xjHE4aWBGFteljeQwpPTISX1uflSSubly/VaX/Pe//5385jffycWL4xKL2WNYDCZzo2sElagH5mOT9YXDWoOTiQvZsDrIDvfKZTnDYjFX2uwQxHzlnivdXIE6M39QbWU0wOTGs1mZmkrqKuHu7klMtKekuwvnXujpnpLebhx7pqSvZ1om6chyi3cD8MgCoOsdFw/GvV9YiXB8ZfP6aIGfBM983V4ITl98vUmnwgnrPK1ZvAE7ZT+kWKC951uxU7qVhN3Th/BpqBgDBz3lPcZJcR9H2E7aPV0tS1vKc9i+vDyZjUTlVkevfPrZYfnDn47JhYsD0DGjpdl75fLLZkezpvxTrryjs7KaMn188BCEUZ473moIC8FknQmXLpvW4wyLxVxpFxMc/POg/gSDS8M/P71955l/LRu4Zo3IC06XaBTnkvvc0HGWd34vXL7BfJYzuDLMHYzTueUYDHPDXYdctb3PFR4G5Mkdg2EuzJVnMBB2ThZNA7LvPQiyecoOhDvOh2DeQV7morXyYfY+eO70YWVjJfK5GmS3UueRywVX1mC9PGw9rYb6fVJ42vRqJWIl6OdqaSPhno8rFverloUVa5YK6J3zGI/PytVrg/KHP3wjh74/J719MUyI83HPW82jgZGRL42Ylz+NmTn76KDhPbum1xndS6tfNJ0dCXffgEE4TpUybyOQallJoTy3f7d8+NGL8uKLTVJWxnx4nxMWl5bgVaWo3+z7WoUnoCVBUGbLDcfzQrw7fu7H12JlsJjyLVx+5kSnkqPGEJ9JyM2bd+X4iavS2TkGlUR7yeEmpdRcpKBTSePOSmlpHvR3l+x7dr3k5eOu1wbmx1KWL8T8cDJm3bKmIjI4MC6fHzgmv/7t19LZNSmpVHDPx2C9mOxZlbxitkzPEPCpjhZ8p80kNJ53rrnpwa57l0mDzkx+r6kpl9df3Sd/8bOXZffuSvBgcUx3jJKXDLA87QoDv7tr/pl/ZT4EYzjqmTk9CLWVhexyzIeVWL4H4f3R+V5MbnNKCfo7rns+Xtc9H0+k93ws8NqHBTrg0y+c+Svu+bg9423XbInZsN9tGMO3w5mY++ryYWEp2V2W5v58PV7OF+bb4Dh6XJwthq+H5Wku2qTxuMr26HBjBn/MHCLE4hEccz5pHQp1+fEjlPn9EcpnZcGb7oRYWXCdCI/ZgXDH+wBR3CKsRGJW7naOyh9+/418f+isDPRPSG4kX9/SavtAIrJOoBHsHw3VAm7oih8+QpVIzOhLZFKzfENsXGZzEnpMzs7gPq4jDlf/YCYCmrmgE9FphgUlhjN1d9pLbHAcH5uUM2cuyeefH5ETJ7p0dSZNA2Px00rBYOmXB5bj/UOIheHklC277EC44+OAavQCgRwF+UO7SSaku7tXjh09LV8cOCxffHFEPvv8sHz2GYJ3/OTTQ/LxJwfl24Mn5ebtXoknvMSLgsvvfiHEo8HJ8EFlGZQ/9AN2bTYFu6d2zmxdEnYwOYtjKmkrI9WOIg1sG61Y2oXCf71HK5iwc2B4aFTOnbsiP/zQJr09fMGXA+87u8fgQA2d+08zeWC4dNmBcMcQj45s+c4VQiwec8kvGFYq5uI1O6x1zFXmYCDcMUSItYel9n3QqZLpePROniB0GOQxks1fiOVBUOYhMhE6HlceQufjisV8xnpxRlxj4SOZnJWengn59JOjcuzIeRnon8LQLl9flKANUV/ygokvJ9deJ2Ht1J1jYo1JdyI5hQn2FOJPSzQvIcUlOVJSGpH8giRiTkoiMYFJeAzxZ0DKJuOzmGS76TNJghoJg4YF5j+LifroyKScP3ddvvn6DI4j4NmiWSo/tYUQKxte5S4YVhru1S22AzruY5MJGR9PyOhYEseUjE0g8OgF7hs4EZuVmfiDaOhcMpkvhHg0PKgs/Xi0gXQ0ppLTsEsxHGHnNIzrMYFjQr9Pwu75P8DYyi4ENaYIsIXuGn93ieRGYCMFtnlIzpxpk7ZrnRKH/ig0e8/uqdOS6XxkuxyD4eGxdJRCPCgy6zdEiLWJbBszX3g6YeNx70uINQubXy09VH3UubISlMjnIXT4PC5ghKlz9nA8MRdCPVxZeEDnY6jYywvK1snXdSJzhbnhDA8paEyccL+6g4fOyZdfHZbe/lFcjEoOJr50OJprkDnSaHmBKUFDJ9ypKYlEpqS6Oke2bauQl17aKO+8s0vef3+PfPABwod75P0Pdsu77+6Q117bJHv21EljY1QKCidAYhjpx0FtBoH5IE99YYfjH8xxQo6vqZyUDA6Pyumzl+Srr3+Q2+1x+kIRk3FzEYLpngRcnYRYGJTVYsLKAzXMWoDjERrIfVDRXiJR7tknEs2PIOQiRBHyNOQyRHM1nvVvwXLeLyyEudI8SlirmKus2WGxMC2wMCsFBRFZv75Knt2/UV55Zau89PIGefnlFhxb5MWX1svzzzXJM/vq1D42NkSluHASKUeQdBxhBhRgyPTxbOoG13zbn73ThvvwxuXu3W652nZXhof5A5CXO+5p4AuNlH1+mEPS/8v8trhSWqrMEGJ5Ecp4abFa5bkQ36GePO1g37BSEDoylgdLLVc3VrCRw8qE8RdiOUGdophDWd+LlS8T3yY8LTb3gd527WTiKtKUPVT0pYVTvPnkyuv33mM9OKXlOf8mpxJy/ny7/PrXn8n1612Y/xZLJLcQ95kLX4zAySxp0blnDj6dxM4mJRqdldraUtm6rVn279+ECfdOeeONZ+Tll3bh+1bZt3ej7N7dKnv2bJC9ezfJzh2t0tpaJzW15VJcEhW+tGZyckK4pai+KZhOT+UNHwry6gVc5KPdsclpGR0dlZKiEmlpaZSiQpSCs3RNybjuPMTi8ThlZvrnH+eD42cp+Fqa8jkqtkmAuuAlHk/Jnbv9cuHCdenrH5PZnFw0E+oy7mpgSU2HS8sKZc/ezbJ9e5Pk5+HSkslgITqLBfNZKK/VjPvJycpupQ++7fqWjI1zpWLgTb2A1T5jzkp5eZE8//x2efe9F2ADt8PutcrefRtx3Ay7Bxu4qxV1vl42bWyUxnq+vbpQ8nJnZWZmSuIJOh5zQZY6Y45HjzSAb/pjz6ykkgkpKS6QzZubpaa6KL33o8bRBAxzlc90zwWLmc5gDmTG9wNxv3SLBW29d+phZY4PHE8rhbdgPSwE8vx4+J5TSqjPGdjFnu4hjC2uSlfXIPQ18LbrNH/cqiUu1dXlgbddoy2QBu5l0PRgErA7jkom5r765LEwXyuVc5+rlcndo2HlSn01IGi6V6YdX1lY7HyYcUJ5hlgOhHq1OuHGza7+noZ6fCDn43xGM1T45QBlOleYG6wCKrCrIzr9Ou4My1dfHZPvvz8jqdlCyc0tRATObBFRtd3R5DUeeW1KH6neuLle3nzrWfnxT96U1157Rvbu2SJbN2GCXVshtVXlUl2JUMFjpdTXVEtzY71s2LBetmzeIFu2bMCko0I3nJ+cmtCJOF+yEFHe3Mzaa22AnWEijrn69OSUzExNycbWzVJbC57zcOeeYt9z4RHA3BcKDkuZ7+MCeX6cfNvqrPsHx9NS8TVXHsFALJQX42W+CCEeT8qdzh65cPG69PWN4w4n2JkrcXPUgZ+U0tJ82bNns2zf0Sz5fCeNymEhLIYnn5+lwaPK3PH0uILDQnzf7z7vObfcws5HR4u6UFVZKi+8uFfefH2f7NpWKy3rGhAaZT1C6/omaW1plg2tdD7SCckfYTZLXV2lTE3HZGwCti9O+mb3HAeOvgJ2cSY+LQX5Edm6tVWa11VJVPWH8OORF37zg/sedDryk8f7YS75BuXs8KB05gqGlTs+mItnFxwelfe5aGeHB4HV86NhLh7uDS6XDJ1CXT5Z5yNxL6/3BmKuXJYDc3MbhLXTufjMDsTj4juIuXhxgVgKnhythbBU5V+4XkLcD2j5nu1euTZ8ZSGUU4gnhVD3Vi9Yd0+brU2vsQixuhF0PBLT03G5evW2HP/hvCTinM3maxx9MQKObsqqj0LrY4EpyYkkpLwiT15+eZf8h//wU/k3/+YDeen5VmltKpWKkqgqi7laLCRAJ4HJcwI0ub9jYX6u1NeWyd5drfKzn70l//n/8zfy7rvPSENDoUQjMcyzuSck38gRcMyAXzolIxE+thqVOIheu3Zbzp1tk6Ehrs5EHAaFO0lfWAK4DBYKIRaPueQXDEuFuWi7MJcT9H5wk0OXziH7O2FtzD6Zzl6plKHXmma5w4PAuF0aMG9X3ocJ2eXIDtlxF4Ir21KWkbQ8eo4t/5C+mwvbVZCXK2Ul+bB9pbJ9W5N8+MGL8otfvC/PPLNJf8iBNUaAxUzv3ejR9Qgnk9xTNCbDw+Myw6hp6hZMLwmL74dM+TiqCyObTnYg3HE+uLjB+gQPYCI7rCw4XucLmeVZGmTTnS88ZlAf5wtpfoIVOFdluniPDkedx3tzclccb/eT51Jhbk4eDXPx68KTwFx8zBWWCnPRDgbCHUOsBDwtk+GHAVc7Bp84CxHiSSOokyFCrFQ8kPMxW6mDzq4QjwLKdGFj4ce6f/xEIiXt7SNy5uxV6ekbRi3z5TJ8AytS6UotL606HRmSEokkpKI8X9579yX567/+UF55ebvUVPD5Ub6flW+1tsDHtd1qGxDTo65o5HfPLZmTk5LSwqjs2Lpe/u2/+Zn8xc/elk2bqiWaO40kmF3PujfKePl7emSqlCOxybj8cOK8XLvWK5Mxi5J2lt4Dd91bW8AyZYd0nGzwGley0Tnrhdm5AuKknbSOjqsDPjjp/oi58smGSxtE8JrLh82Tec8dZoNBy8HANIvhgXB5ZuWdJb855ZrmkfDT8g3nXCE4K3kI+VmB1yDPe9LOFQjGYXnmk0N2PZF2MLi0XhlwFqyrzNxcXi4t6Os1HhG0/Ti+7cxLGIBe1aOVc65Aeo6nBwXpe7LIosvVexmB1wLBl4WDlTxTFq58DnNxOD8PmcEvp8HSUU9NV714rDMXMtIH0y4Gro4fRq5zwUnF4OTE7SFSsHH2Ii7ui2uB3539Ky4ukO3bWuXZZ7dLY2M5WONLuPg2oizOVCS0exFJJJOwdXGZmXHRgmWnfeXKSa4ci84ReD1bXi4vXkNgO4YNM33w26SgTd4rby9NBrJ41/gMTOvXp62Ac8F75NzL/1674UDa2SGIue4zzA3TAZbV1zcNtJOufQSDyiQYgrKYK8/s70Fk3yMd5p+Vx5x8+LzeX//nytdHkIO5Y3p1MJ8NZQCPygP1BnHVNnjs6IEvqks7KQO5ZDguHxweZwEE6fEO5cLgePT4zQisZ9S9x3smVUdvsTy6PFknwfqxwLbH+zYCys6HcNccjTn4TZfFaFn8IJ+L5XU++On9tuHKQr3zAnjxdTEYGM/pwfxc2TX3NxeyZeGFdH/OgHturJUd0umJe7mYi7/FhhAhHgbhHDhEiBBLgaB/zY5ru2fiKGDR8B1EIZYeTtmCAywfTg1VQb1zgx/fdYLxeEIuX70hFy7eEL6BN5J+djm4QgtUMFGgo5BvqC4uzpF33n5OfvThq7Jre5Ng/qxUmRtfeuAGhNynTBkAH9yOkY5H953txfgDTUzCI4jQVF8pH7z3inzw/vOyYUM14k9qfhaZ6sdcOHQnPQxzcyOSRB7Xb3bI+Us3pa8/xScTrWzZE1nN1wuAUtKPrJCGf0GdaXpiztrp6YRMTc5IzAuTU3GZwrWZeFKSXCqK6J4Imdgo4UNrA0eWWNnQD9510JiBwAie/BXumn3XYuLDORP4tnI+ujk1HVeelL/YtB6n8H1mJqH8q0+ZQLmYlpMvyo1i9uF4CCIz3wx40fXgnadDGsEMwG9CZGY6BVmC3xh4nZjW4/RUQu+xznUP0Awi1EPSMbkYG1YO8sS6YhnvkUNGXcVlmrKImyyYWh91pc4gsMboOPKBc+RjZUYeKfKFSRYD5cebOjEqxrEAYsW5Jx/7BNwJr+fYRM3JnPlbBC94OmtlAi2tX+XCy4shkEJ5NR7Jt+mrOaB4VL1AeakDfIw4GHiN8k7MQBZccEd6/OCRf/ii5fYcBY4HL0fAiwyYyLz4ep2BvLs6nC+QV8TRukbQeqA8UZeoI8d3UJ/ZBrWt65/VneN7IRjfPvyyPDg0S+5VC2YoHWMB1PAfQVAbSB49/VIdw3d1dmims1JSUiwbWpultqYcJeEPNv5eogZGZODViMQTSRmPTaoOUwYGT+5sM9DPeWVOfhDIV/rPq2PG4BYcpD+DNkIbNwl5T6Jd8nxmhk5U8KD6T/6ZB+HoO5AePpWmo02+7I3waj/ZLidmZMILsRjrGDYUeVBfjQqgRceZHu26QS/YqSKYv7vnx/E4sT/lzbuKE11Nzwugn6TtAH98GkDLP4nyI/CcfMfJH5fxK1lSM1mb7XC5zQd31/HK76xn44OB91Joh8xnmraKtlH58Nur2nFnuzSJpdMQqNtMbgJxNGTeddfTHDp+ENTGIa8k+rc4bSf5gJ1mmEaYAU8qF9Yb/pUdD2qr1Xb4L60z8Jq7x0D4vC0Gxq2V1U/laLiQZf+od+A/2B+oPJOQp5FT/ll25Sytc+7ow8Wz8vLDApMwuCtBuGvaOgNxOD7KRaAtpw5S1yZR90E+OcagnFOB9uHy5g/FmfLVu3a6IEx+fnl44tuqFGQTh4xMH8EL6jxDH6eTqo++LQI8guTUuL33aLAYds3L24PZS5Mv5aljL9ZjVr9OOd0z/tL0RiddhQ7pPNzxwWAchwgRYi3Bt/VPD9L2PsSqgusX7Vw/9XytIifFmUmIJ4zg0IcKd6/S+THMTWAxbCDJGxzq0dnH6uzpGZV/+Kcv5ONPf8AkMIlBMFe40KHCkSSpWB785GPY0dwZee3VvfKLv3pf9u5pwcQZNwDG5H3GvJejIHzuMoBEnMglMPFtb++QTz47Jp9+9oMMDiVwvRQRyJeBTlAd1uKfA1JObN54Y7/88pcfyDPP1khRocXTCQADi43jNAbJsRgG8EyjF5mnBQJfJRczgKLiqBQWciUOLiBwssk9/UZHZuROx7D09g7JyMiETso5Cc/LL4AcCqWiokzqGyqkqblYSktzJZqXq/Qsf0wqKB9Ug043MXGnc8Iy5wnhOHHg6iiWj3Xn1R/ikhaND/NOehODWCyJupyQnu5BGRmO2YB8agbySYCPPCkoLpJSVFZ9faU0N5dLTU2u5PNNzHzrMkmTsna+RjtTKo4/n8+ZmVkZH4t7EyHExb+7S1DuJJeXF9GXCvFNwIxjzo0U0k5Le8eQdHZBluA35k1i88BrXW2lbN+xTjZsrALPoEMRcPWMx4vfWZoTRGlyYowJEOuop2dE+vtGZAx5cGJkckiiLqIoc74UFuRJSWkRZFAuDU0VUlUVkYLCqESjqBOtH+oyPpknZY2L1E3mSn2bGOdEFnoJPhgiqGM6a44euy6//+PXcvXaXaTPRVviSjOv7lQethq4vqFafvrTd+XDD/Zp+VLQL3NSqYg0TzpDiii3IughFMXVDWMwjtN/S+ABaUwenl5AJhPjcejEuHRDL0bHplTOdKxQZnlR6jnkUVQAGZRJY1O11NZCNiXQi6jprsmDf5zckjWWx/HgsmfdECYPghN+6uD0lLcdAmPqMRN8SVQBdKSwCPLPA/+IRp2ifAcGJqWjYxDtbUTGR6fUEZNMJtHecmXdujrZv3+L1DVERV/IT+JQunRe88CxYEd+QvZ67lLx08rHO4MD4/L5gWPy699+DV2dhNwKIRNk6JWTDNPusa02N1fLz37ylnz00X5pbsjzMgFPGtXlbAi2Na4WunmrS/7+f/xRvvziFHSsGNf5iw6d1Exs8p3VtjMjtVUl8uMfvyV/8bPXZH1LgdUR6HEbiinYN8o83UaQDWl43zQe4xdD3pR5hAuqEIcy50vH+vsnVOYD/eMyOjqJOqSNm5Xi4kJp3dAou3Y2Sw10JJe+YVxP58OMNBCmB0oXPNMxQZ6Gh61tDvSzbU6pE4OOHzoZ8tAmi4oLpLKyVBobKxFKpKzc00PoiGYDgvxT46Lg0fTRgrMR2WD5KSQ9tQCANXVWpOjUgJ0YAn9dnbAd4I+PtpvDNa4J8vMKwF8x+DMbX1dXLOUV0NsC8mh2g3D1ms5EzxkIl3nwHg856vxiex2fSElfXwxyGpThIfQxk6xP/miUhK3OQZ3lw3YVwnZVoA1UoC4KYFvZViPaDtKUqZMqp+w8CcvXcWVHu68x8cEjnUnkizywLXZ1Qi8GRmG7WXewIUiYlxeFbhSh7yuVBq23UsgFfYvX91GnTp26Kn//d7+VEyevS260Fm3eXmTnWKJez8QnZcuW9RhXfCjvvL1N7ZDd9vr6eWCajaCRGS/T/o3D/vXC/vX2sM9mv0jHMh3ICfCSq7avtLxYauuqpKmpTKqr8rTvZ51qv5iuz0yQf9paO7cj5WVjjDjaosUhvIOvtrhQiP6G+1rmRq2dkF863gcHpqSra1j6ekeN3xjbn6CO89GPFoG/cmlaVwUdLISdtj5LeUnLibmlc0S4l/dMBNuwHbXe0Sb0Rw70db29YwjoP7x+mnWaQvmiUcqqUErLiqGHFdLQUAq9hF3RcrHdKjmFUc7kRduyBtQiZEk+tCxeNNok6h9lOjw0I91dsB0DI+jTzPHJvp22rQB9elFxnlTCLjahD6tvwFgH4y/2ExznWhlJ0QhbrnbdXTMONdKCcLEWFztEiBArHzZ29G3ho8HGAUtH73HBjelWK/8h1iZC5+OKAKvAVQMNQ+bQnFf8GBxi2TArPUnDDQ76aFQSGICfPn1N/ulXX8sPJ27iO+PwETg6ddxEDtcwMOQD1bm5KUx4KuXf/ps/lzff3Cc1lTo6R8BAUY2V5WSf84HxLE0GvEScJE5Pz8jpszflN7/9Qg59fx68lCMJPYpWBiuT5UeVTCanZCMmxn/zNz+Wt9/ZIVVVpIQkiEKytJ+c/F671iOnUN7OzgGJ5BYjgjmUSMuMbUoqKgvk2ee2yr59rRi8ikwh3d07k3L92h25cb1D7nR0ydDQGCbPk+CTE1NMnL1BeElpsU7CGpvqpLWlSbZtbZbmdRgIl3EwboN6FkFXg3Cwja8+5pCJXgtep1PYc7bN0NGWkNu3B3XfSzpoBvqHZXBwDIPzSZ3Uz8zMYHJNpxsmU5i8FBUVSVVludTX1Uhzc61s3bJOtm6t0Ul+fkFw4E/9sOM9wA2uyrh5o0sOH7ogwyNxpOFjYHxM2qB1Ax5zcpLSvL5G9j+3DflUqxNteHharl7ulosXb8q1m53S1z8qE1xZRQchJvp5mLQ0r6uV9957CTq2Vxrqc1W3UGpQZg7kM1cdkgk6qSbpdJ2Ua9e7MGnrl/5+TpCHZWR4XCdKugoSskglubo2IlFMltXphklnOeqqpqZK6uqrZfNmvgCpXurqoiYLVTXoBeTHthLBH+uvH/yeOHFFLpxvByeF0KN80I3q5LGzq1vabnTIIPLmxDSiRLzgyZWTxCLkvWXLRtmwYZ297ToVZ6lwgk+KDnmWFEdl//PbZdeudVJeiZReezSdYWyLb1+tNZA/TmCHBmekvX1QbrdTJgPS3zcEvRgRviFeV6pgUk56dMYWgIF8OmM5sa3GpBayWL+uQTZsbJD160ulHLqRl4d8vKysBhwcP1o4gN/AGQ7ck/CHHy7JlSt3MUmkDFhQrsTMBB0nmzc3ynP7N0tDU5FMQ687u8bk4oV2uXrltty924/2NgEdmUrXIx1f27e3yL/9t38mu/fUgz9SIg9BPuaGi2FHS+Ni29ErAz5559Gcj0afe9z6oA7wYNfU1kIuN252yd///cfy1Vd0PvKlHAW4Cz13+SAWX8SVSExLTXWJ/PQn75jzcR31z5wFtAGnTrVJ29VOxKVQ2C5p46xMzJJ7RtK5/My+zbLvmQ3QrVy0oRRs3LBcuHhL9/69e3dARkYmoS9TauP4mDh/XOGj4T/56euyfVutYL6vzieyZ9rnAvOx1WbTUynp643BbvbK7Y5u8Ec9RNscGVfHo64kjNP5CE7RLvML8z09LJfGhlq0j2bZtg02tLkEtjWi9c6SmAT5w4zll25jaR7mAqSAumJ0TQ3+xvUHmxjaSq903O5VB0s/bOgo+IvFqG/24w0RRWdQmF8opaUlUllVBrtRCTvVIJs3NcvGjRXgmQ4r033COHP8OJ54k1ctEuuD9TY2kpSOjmG5efOu3IUN6+sbQRumA5Q82Mo8Ot35g0Qe2ivtB3/oqqurBg/1smnTOoQaqa1BP+Rsl8JshsvXh/HjuPJbAGOZtnCF6tDQNGzIgLRdvyO3bnVDVgMyOjqhTlnWHfmnc7iwoED7PvYtDY21kMc61FuTrFtfIrlQzjNnb0C3fy3HYTejUfYDS+h8TBOyfnEG9mN4OKn94i30L13dlOcg5Dkq4xPoF6e5So8reGdhu9F359MJWKh1Snk2oe/etnU95FkLGfv9okmJfDheXL4G8jE9MyuXLt1WZ+vgwDTah7eVQLCvR1vKy4/Ijp0b5IUXN0l1VQH44hhjWNra7sj16+AZ4xPaz4nYpPaLzJL1TgdkWVkp+qsaaVnfoNs1bN9RC92Lqg1wfPoIngf5DZbDeOc9ymR6mvLDuAL1futWp3R3o/9AmxgegfwwriA/aoehWvZjHvWRP7yWgo9K9B812q9t2lwrDQ0FuOe3W344Dlz+7A95Vf/Ah9ootIlYLKX9urZN2o6eIfAxZPoHHjhGZD0yLX+wJB/qBK2pkMZGjL82NGHM0ag6WFxsjnnLkStccWbCysJc1xbGw6UKESLESoJzvC0lloPmcsLxa0deCa1biMUAo3LtVk1fllp/QufjigCrwFVDYCKj3yz4MXjXxeCMBGe4wQEfJ9Bc1fLxx4fkt78/gsnvCK5zwupmLl4eutKJE+RpTDCi8u47++Xf//s/k/WYEEZ16R4dGTZo5DdzuNwPjOXRTsMpLgOdPDkyMDQhX3/zg/y3//Y7GRom/WJwT+cF907yysriIGE8PiWlJXnyy1/+ufz0Z6/I+vXm5FCamlcOBs4zcvDgBfn1b76Wc5gM5efTo8PJucnIPbbUvK5Cfv5X78mPf/ISJmBxuXy5U04cvyLnkebOnR51aGkKjJl1YgHZ2NSCgXRmMUnIwwC4Vnbu3Cx7926VXbuapaUFk9dCxEESx7eB6RzcZNHB3bNrKcg5HhdM4Kek/Va/tF29i8lOu1xt68DkakIn1PaoMmNzMK+pNC9SJjiBpTOyorwYE8QN8txzu2TXnhZMGOlo8lb+KQFM+oKsuTLiIp2Fhw+fk//6//wWEyXkm+Kb0ekcZjpPnursS8ozz26Vv/rFe/Lqa5slNjkpx460ybffnJZLl8HzSEwSKU7QUF9kHUKN5KQwgSmXP//x6/LjP38Zk6w8z/nonA0RTE4imIQkpKtrFBP2Hrly9Q7otavzcWIiZnIgr3Qus47SBWEmpq8OnIDSsbJp8wZ5Zt92hI2YtFRIVTVfasT65GOw9scJ+Y0b3fKrfzqAdnMEZEtRRjqjoEd0VEJmXIuBQiin9jg0dcTxggOumXxRJlwgJ8aNd4ZbqWRCqqqK5K//+gP58KPnpbkpivkrJ+GUAQFabJckyCRIE4/PSt/AlNy80StXKY+L7Tr5pjOaK4AYkfnRglv5Geyg9aUcz0pRYYHU19XqW+h37two23Y0ycYNZdCXXInCPPiPvAdh9FguLRPCnY5e+bu//0S+/vqsjMdwbZa2he0ykDfyKysrkDdef0Z++Yu3ZcOmMrl2Y1AOHTolR49ckM67Q5ho0lHgHm9nEn6fQR01y3/+z38tz7+wTjAnxz3jnxJ11OeC0kgfXRqDHY0/fvLO4p2PsB3qfHwz4HykkbAVoz78nDUn6P7k1KycO3dTfvUvn8qxY1dQ/0W44TkfGctzXtIpHU9MSn1tufz8Lz+Un/7kFdgZtFlE4apfOh3/5V++kG++PYuJeT7qg7bSfkxibqyfeHxGaqqL9CVftJWVVXlI16sy/+HYRV11hXk9ysQ0xmcylYC9jEDW2+Vv/uYDtJFm2DLGUaoqCtN46D9sd2xCpLt7TJ2OVy7fkStXbsmdu33qQKaT3ukf/1xb0HbBM97CGW1oc1Od7NmzTfbv3y47djSgrPyRB6nY1jzZaiJtY8bv/aD6jySxiaR0do/K1WvdsO+3Uf4O2PY+XdHHvodQXdZEmgFPjF89ozMyV531mze3yp5dm2X3bjoAy6WiCu3Euh+AsakbDkxv9pntdWR4RleZtl25Az7a5dq1O9LbPwb500ZZPipcnKt0SM67xntUw7LyErTVFtTJNtmzdwP4qVRHKO8pkaz8fZCifbejIx5BmzNn9LmzN+X06Ta1J33gi04np0taUa4NADxjoBNo3boG8IJ6e24bZFIvnZ2d8o//+Ds5fuKi5EYrwFuBJfWSP7TzUeVAHWK/OCsDgzG5hX7x6pUuuQj7d+PGHRkcIt+UJ0sJiuBfV8F6MCmAPm5F0S+WQ55bt6IveGYHdK8FNqlcV7hGkQTagxQM5If1aBw6mxebTMJWHNU22H5rDLpOg2njA7eyXWYTUoyxyrvvvyL/+l+/IRUVxXL+wl30i2fl/Pkb0gO9nJqGjWNUBq1D5Vyv8JvxWSzbt7TKK6/skxde2AiZF0o+24YXzw8OKIDWGc/dde+I63wr+UD/FOQ3gPrulMsYV9y4fld/aOWTCkYNfx4/AQ83buAa2gnHfnREtqxfhzHPJtmJsG17jTQ10glJGVn2ygJgP8p4POAq5TkZQ9uE3W9r65LLqMc2jG3u3OlF25y0fl3l6RBI6x1pC+mcb2quk917tqIet6Mfq5GGhnzoJlOyLJ4uBCg9CJiXn/PDUgkRIsRKg/YT2jktDZaa3nJjtfEbYmXAxgXoCz3dyf7+qMj927/92//ina8QsIBPc0Nh2f3yB7/55xxmuW9ukGYGhisYDn53CoPfWzJBB0GEsyYOUhnVpbFJf25uUpqaKjGxfl32P9ssmHuRCrUMnxaPEfWcXx8QpqyWlgPI/LwoSevA805HD+55k2hv8OkPN5mWK4JmpIG/um9sxMSlyJt84T5J4sMe5+6XixduSHfPoERyC3HbJoIsASfSfCy6pKwEE91tUlNbg4lXh/zxT1/K4cNndAXWNCY4uhcd4qusQNd40qyMI1zj40pDwyNy81Y7Jpd3hfvUFRVVSmVlkaBYypMmIpjIO50bvMk6wKRw0l4OdPTIJfn88yPqnG27elsmp5KCLAHy5MmIR30OD+kDgdlxBVUsFkOZOuVa2w0ZG5/CZB+TrLJiKSqMQDacCJBGkDGes7woXzKFcvXKCUwmx8a9lY85XPnoaoV5gCFMLrgKYfv2rSh/kRw/fl1+85vP5dy56zI+EZek8murQ1QMmgX3wMuXbdtaEdap08vAm1GZnsqRzq4J1M1N+eqr4/LFF0fl+MmL+rKk2BRoYgIzy7KTNpTAVo5ZYB52D98pCxzo2Jyanpbu7l65cbMdk60RKcwv1ceQi4vojPVkCfC3F66gOXf+mlzBpIgOotkInaPGP3VY2wRo2wSX+RK8hhiq4/yq0ziLT3418LbF5yonPga+a89m2bylScrKyAPvMD1PLLAumC42kZJb7cNy8NB5+fiTgziekps3u2R0bBq0WE7qAYOXlsd04CXEwYGBe2UOD49Cz+7I9Rs3pR9ynZ3Nl+LiMnvEFLqh8iCvTKuwEyXv8TUyOi6nz1yTG7d6ZXqG8vEdiExq+aV01WXL+mbZsnWjrjb79LOjcuDAd9CvPrQjlo+65bU1GgbIjrrFR+Zfemm3NDeV+StrIAwrkn5bNFxsO/LTUcBkGDbyxo27mAjfgq5ztRftEO5aYTUO65KlKUP72b5tg2z16sxBqWl8F/hIvjndWedDQzE5dfqGnD17E/o1ieu29UU6usL0hS+sqSgvgg3eITu2r4OOWpnpVOMjsRcuXpeb7d2wB+CLezOCDm2bC1wJzUd3t23fLC0t66Sre0A+++x7tKVj0tk9jPssH53dXttBYOn4WG9TUy0m9JulsaHMX22K+mD5qO8J1NfQYFwuXe7UHxg+++yg/PDDOemCveVj9CmtfyuU2U3SZh6Wl7nJLD/a66GhYej1benq7BH+6FJcUialpQXoGyx90InkIy0wZc99ZZ1xEePwEPi71ClfwnZ8fuCwnDhOhyv5S0E+xgvjKn1t+z6/5JEkWQ90oo6NT6B/ugsbfE16ewckmleCeofdKOYPF5Y9pK6faRo4TtK5d3dMjp+4Cn032dP5ODwyafWmjl8cPT6sHigvT2b4Sp1Lgo9JtJmurm7IqQPyGkW9FElFZbnaLuM9W0a8Zkc7s6PmA8KTsZRcu9YNu3pMvjhwVC5cgE6CryT3EXU8sHNVnjS5wQpr9TY8LLc77khf3wD0Mh91F4FtvaNbP5jjkbwhciAtHdxc8bpr52bZuKFGZWi3TWMMXia84giAZ/5AwZXeh49chs4dlW++PS5tbbdlFP2a2T+TI/ts1qm1LdLwZKS0Itr/x2KT0nGnU27eaNdtKgoLyqSstARH9gUWT/PVYPyYvrDfn5Xr1+9gPHVdBodge/mjCfJw7lPaaupOXn4+2l6LrIPdu3mrE2OMb+XQ96eEWxIkkqTPdKQPuEOaT7ZjbmkxhXEMVxTfgYwjGK/UQvfy1RYyEfXDcrXv/sE7B9h+ZlM5GPvNSvutITl69CLkd0S+/faEloPjggSNBikhb6VGHiAHs8WBa/hnVK7U7e3rl7Zr/LG2S53CpcWlUlqGdpvvdE4pWjJ+4BvriW3zwoUO+erL43LgiyNoH5dgnwZFH5Nnm2D9eX1BWg9JEf9OXnQtzsRnZGBwSG7d6pD223fAE2xzaTnGFQVoo6jzdJvIks9DgCkfPvVKgtVziIfFo+vSk8Xjrv+Vq29mSpaGN7NvqwurkecQD4vsdvho7TJbd5ZKl1ac85GDuaU0FKsPLLdfdvcteMU/twEX5UWF4CC4t3tSDh46jolLHwZsfMs1B+cc4NmgXGULGfNlCty3bw8mnh9++IrUVevM0/LiIJD5aHwlrvceDF5aByXDx3XyhPu8HTt2Gt+jOmFXZxWYstg2IacTg4/H8pG99S18XLRaH2flYJirZEibq79ud/TL5Ss3pKd3SKL5RToRIfvMmlT4V1pWgknBBn1s6n/++k+I346BPmhE8hHPZONljqNLxYz43Q+kTf0cHR3Xx4YG+sekpmadVFUVSF7UCGg6L3BiYzKwezyafisxnWC1Xe2RTz85Kp9+ekSuXOmQ6RmkIV98phvRSMmOlAhXGGHia8kVRgpDb60yc7hyo3au6KTjorSY+5nRyeTkggQKUua58UjnKp2PJ09d1D21+PKUHK7+YxrS1rRWpoamRmle1wKZxzDJ+kLOn7+GfPmoKPgmI4xPvkie/ILvktIC2bptvT5yWVHmOXsQiStY2m8NYGJ8XP7wx+/08Wfu06arxLi/InhIOwuRRHUDfJhE+J1kUAZ1yuKL1p/JiIxz38aern5d7cbJSnNThRTwsTtNhvqAwEaGzcFz7fpdzIUwkY7Y6hYtAOMwDwKTYp3kKO/GA0OKKyktKoLJ0ybHmih9r6g4X1ePbNrSKOVl1Hlc5x/v8w/l5CR0bCSBCVuX/BHy+P0fv8Ekv0/1Ije3SCJRtGmdcGsiBedwKhMNruwI1D8NjI9IuDg5xZVZ3XL9WjtuF0AmlQhR4WPYbIFKUj9coQ0s0+hoTM6fu6mPzdGJqO1X68f0z4XCwjxpaqqXiooauXTpjnz8yZfS3T0s0Wgx7jvZkmcSJnWTI52PL75ozkdbaUaOrK17ERcNF9uOlt6dP7DzcfsG2bK5GXLy4ni6QV3weUNAEjoMx8ZQf+fvYsJ/Wq61dUHHKSuUWwvMqEaboP5x39DamjJ58YVdsmVLPdqq3dfV4oPQzUs3MOHuhm7QVrFNsD4hazqNcaT+cb/TjRtbMREv0tWO33xzVFeN5eZS5nyztcsbAWnYjlhXTY01snfvZmloLIMNQ76e/lC9kkluSTAhx49fkz/84ZAcPHgWbX5U5aVtEzYqrYceXYKyU/nhGotMEbENu8DVTtzn7c7dHuG2INVVVVJZQSeCl0CJEZSDO0dZva9aBQh0XnIvxWPH2uS3v/tGvjt4GnS5apttBPZIbbvFNZAAwGser3rNi6Px8EHZ0BF0926X9PX3SXk5976r0ZVejMv7TMe6pw5MTibl+vU++eqrk/KnPx1E222HDUZEtYfsY5CZBh4sY7VRaVBa+K5vM+J3/dAV+XxElo+256Nva2iokmLuF0s6GsMTiILHdKGsLJAlf9y62taN+vtOnY98ZD4l5Av6SF58Yjgyfz8oyywjbQj++Dj90PCYPqrN/T0H0b9wFXaEesB4pONogcRinI/OtlJGKifwPBFL6EpH/mjx6adHdZsHOndpm5kXV7ZTj5ghkysJL3/VPF7wvpOknuNvIjYtnZ3dwi0fiovLpaa6FHXKfJUAPwCjaPx4zsebd+Qi+oeR0SlEy4UNtjaoLNBOISn3SqyqqVZH8/ffn5JTpy7pj2rWJ1o7sRXmVvb0OWnwnt5n2xDdwqCvfxB2tAzts1b3OtRyaFotLeD4pb7yQJ6Vsu5ffPlyl3z++Q/quG1r60Q/yDysf9Z4KhdQ1AAClhTUee4CLvAfR/LG3x65/UlPd4+2gYb6al3Nr2Vgco8GP1iOvr4pOfbDVfnNb76UQ9+flf4B6N4s26b1ASpjrx7ZGszZiPIgb7UbnmzIK88ZbxpjPsqGW+UkklGpqq5EX4rxF22HB6UCAkZtgcCPLLh7qx1+21oLpXn8cPIjVp8MzQ4+Lr6tT1yZcjKent42ELb/pwtBu/8o7ZJpgumyvz8q2KWvKFjhnt7GEujv7oEvmXtlRLFx5Qb30OHEgC9UuVdPcAEZUCH56GlBfq5OPtc18Y2+BG9iGEiFJSP3Y2aRUB48sqzbstJiaW1t1pVwMssVdm4S5jOrbyrloBTXRkbHdL8uDnyJYJHcmNlgDOvgmZ+8wQF9bq7+yn7hQpv86le/lzt3+jHh5eSZK5Ho+EQ+OsD1jjriBQUNpOPRxFHLgg+++XhsfFp+OH5B/ut//Rc5d24QkzxjRidQ2qyMD8JvtDza/anJhFy6cFf++3/7DSaFR1BvMbBARwGdX1F1SmgKnZDSucXH4+gU5CPi0+ABM29cm8U9Tlz1ISrwH0F5uTJjaialDrU//OEbOXzohkxjEkqkxa0I8OiCfmWeDIxs5TcZkH5UuL/glau35PtDJ3SfyJwI97OzVZI+SIhpeO6oZ4KrDrlX5+9+/yf5/R/+JNeut+tqnEi0EGWx1XF8nNxkx1VMKHvONM6nQDkmydkJhEncmcE1yAey0mpkvWsaALKYQVugg/pPHx+Us+d61EFEqF1GNEbV+EyCtLNeUP3BdQ338O99ZzRvQqdv1/Xg6Fl6XvHl4a4ZTQRVVusoRken5cSJ69DVT3WlyNh4EhPbIsihAKnN+c26oJPSzpGONFRveWSwOPanuSosLlcrRqWnd0R+/ZtP5be//QayGRTuy8giG2848VL4qQ2ZVBmgeV4bSf+pQ3dczp+7KseOnZXe3lEpKCiDnNDmMGn3Mkqzax92dDkTwfMnA8grhYl0wl7GNDPNwDcn84UJtpfa1BQdVSnUWxyT7Wm5eX1Mvv3mivz611/I2TPXhC+Nci/8uqdEqoB84VdEnZxVVcX66PM90LbIuEgCEip5PfIPyqxkczC5H4bunJfTZy7Dbk5LbrQYaoF2Cd1w6Shjj5LqG49edaTBiTvLzVVbBw4cl3/+1Sdy+vRVfZQ8klsEs2k2iqDjk30Jeh8cZ/AdtknbI9oq7Ltep46o4YEGghfuK0cnKvda/fabo/LJx8fk1q1R38ZTD4IMEWCV3KqG4IQrHru6R9XB8vd//zvlL5nIg45x70HyZuU0GeFPddRomLwoE7aZoBPE6ogOj0gU7QT2ZHRsWHr6umV0fFxsJbpGsTQIXKF+8dJt+e1vvkQ5DurjpbSHdDxy5ThtmLY7lJ8vpqKdmo3Ajqstp6wYTE7kjqyx6PxRjI599l1X227LH37/nRz89qKMj1HOXqS5dAqwKzm6P+e16z3y+999Kd98bS+fs37P5HMv/GvWEhFcXahhBT+wE3SEHz12Wm7jmBvlVgJz0Vo8XH2zXHzxCfes/od//EQOfH5UH/WXHNg/7RPYXxtPVrPULesTqXdJBO0jKGPco8RpJxVIyz0+4/EcOX++Tf74x2/QVm6oPH3MVw6nOS4Qpk/6Hcm4OvR2+105cvSUXEF9TaGbMmcfZe3qyZPlPTC6SlEbY6509wzJ4SNn0V/dxXjOckrXSQa4lYrpDZNPxiC/U9fkn//5E32Soqd3HFVXhOKzzXrjHSdDBCd7pWvZAN53hcUjX9oukHxqOiZ9/d0yODSKsYC/lYuNKzkOndV6O3DgmPzd3/0W9dkm8UQ+6rAENNyPT6TLEnPswnrkj0CoR689WODKataPZzuQOZ280dxC2Lox+errI/LpZyfl+s0R6CWZJyMeM4gfKNC8CMYIpl6NMPn7JfLrNsTDwMlvdcrw8fJtcjIdnBuZupmtqyEeDaEsVwaCev2k6iRos4LnKw0cFYVYIchW1cWqDHWcjhwqOx9z5Obe5uQKQnsG/JMqB3IipaVF0thYI0WcP+hVD5woZnipHqURWadkZ/am5OqqSmltacYk1JsIe4+kuZBU7xDTceXatD6G5r0jIE2L0NggYL9yYzKowdHhp10fG52Qixcu62N0dMpGuGoBtHnPfzzWZKOPNc5ikK7LyRgcLXLqDfRxibxxTza+UOC3v/1S2q5NyAwXRug9BtLNlJutduAjZXHwc0d+hQkCV8lMTGCgzbwoBt1z0wb0+pgz36ac4kQexCWGMIHzcdxDwEA9pRMtTu656hFpmTfocKLAx6X4CNjh7y/K2bP9uhqB9+YCWXMLb1RulKlXdgdOcaBm+hKH8+cvy5UrN6BvccgSEwrcU+cbwlx/lKPSC9DU/e7ikzoRz8UcLTeKeo+QSZts8I24XP2aSqKcKT66OiX5+dNSWsaXCFF/uW/dFKiPo2wTqNspjc8c1IHNwPKicDOJGblx67Z8+90J6e3DpIZlZUTIjHLTkEL5kD3bEh9j5+pg1iH5Jy1GN+6RWOGuIOCSpqGTAWlmuQ8eJmFKC+csq3PAkB+jYOdkhLnQ8Xjq5E357LPDcvbMDUnGoxJNr1ZhNKYCXQSmNZ3FGQMu6So6LyhPCpM/9dWtUHT6MTZBB/o5dTBdvjyEiSR58dKocLJh+aeDV08WHKh3Cem40y0nTp6D/nE1aRFi0DntPS5MmYBhDU5mLBfL41EhyMFcXCw/HBf2Iqb2W71y/IcOOXyoXw5/1y3ff9clh3A8iPDtN3fkiy9uysd/uiz/+A+H5f/6v34j//X//R3q7zbaBtoxHT3Qea0fj6YL9n1WykqK1R7W11fBJvKaX+p7y88rtF0EKVg7mZqalmttt9Aur0hPzxDkSkJ0fHkOawb8Ueam06BCfVCD4Os2tAQRc6Snd0y+O3gOE/zjwj0M4wnqIMqC+FqHiKv1Rr1OmeNAZvnDANrzLG0UbdUkrtG2me4zXy+l8sy/0eEJOX3qImzUJenvoxPOoFGVIwJfoPtOJZl/T8+ofPftOfn66xO6pyVXY7KsloaJ/by0jSmslFoXJhCAabL7Ab64KSlNzZXy1jsvyptv7Uc/WY5rTEA+ICUEOqG5v+Tnnx6W0yevyQhf1AU915Wp2qb5x7Kbc4X7miaS3L+W9nsM18ZBD7KinOhkUX7AI9KyWriylT9sJNAuuU3Jwe/OQVYd6A+Nd6s1B+ONYN7s5zo7h+Wbr47L8eMX1XGsTkcVgdlYcmgBf+h/LIB3r/9Ly0QTgSFWAHkjfbRbvlVcr+n9hTFXLNJSWYEUnaOnTrXLJx8fkfPn2tF+KAOuqHc/QJnt4BYWXFVJnZvlj0+pGI7j4BNH6p9MoeY9vfP+DORfJA771I5+++B3Z+XK5S5JzFgJHVxsgtdNffhxzx0EtkXUEXjiNh/Xrt6S8dFJyYvCbqMSnQwhLhwtPa9bcLnyOiLoqmM6+LkCMoX669EtWPiWevZLFt8Fx4/RZD58vP7smVuQ3/eQ33X9UcTaLO6DLlqgdb85tA24zh9fOe5Av8fAsY+rfwu4R/5BgLzzR77Siqjse3aTvPv+87J7d6OtHCVJfLBMHGN03mXbPAO7eFTuQgdnvacYlBFGJicY13C7iVTK+nbaixTaQsqrR8HYBjWF/FnPbMeElVd/ZMSAYWBwDH3MefnhB267w71dyYPHL8rLsi4UHNUgvMurDix7WqVChFhRyNRN09VQWR8WNk7xLVcoypUBp9esj7BO7o8VuOejNSzi6TBOmUMfGwZDefXTwvywuxoPHxywXr1yVy5cuC79fFkJB5D840wGIy3mRJlyMMfVNs3NVfICH/XbVJOmg5sWCF7AJHFxuF88r0F6cWKTCbl247Y+/plKchVMod6z++QPnzriT2EQH5GtW9fLrl0bMdDldY2hJ4kZvgGzXy5fuonJ8pDkRhGBA+oAtLz448oEDtCZ2jnJbEJMryYnfpwd8DvOWQvGKuC4skDoI7U6abV9J8fHxvQX+eZ166SikoPxdOI0nOORKwX4gpOP//StHDt2WcbHObDmKhk3MWQ8Kzsn7nwDbUVlkdQ3lOvLL5qaqqSmtlSKi/Mw4YnrREyrTCdBSA62bNWolkKSyG9mcgYT54isW79eN9q3sjEPAtziAt8yyb04T50ET2OUCfkxpyLFxjK5UnHyNj4W0zfnUqYmT3aGQXl6AeesAdvzsQVhve75SGcfk/GN4oVFxTI9lZCR0QnQxISSkyFmBnp8u3ZRUa401FfI5s0Nsn37etmxs1Uf4V6/vk5qasqkqDCqExl9E3iSkxWrg7TO4Z+lZV3xTbS1tbXS0lIN3QJ3mLEMDI5om7l67Tbkx60KmIb8+RN0A2nqwYfe8squdcb6dHrkB06UOVHbtXsTytEs5e7Rc6XHR4ETculSl07YTp26hok4HzPkah+URR01IK3tktqMoztP66zla/mRb56TtDGsf3aKwDJR/7mKJa6ri/miprq6Oqmu5qSZKQmWyaXNkdGxCTl7rk1u3eJ+fbxGOaO9peNbBhQB954dH48JX7Rhk106rukMsEA+c9KyiiNNXKqrSuWll3ZJc1N5+rFrDWnGFw8X246W3p0v+Ng1Dp549Yccvm396uXrcvrUeTl58iImvJflxInLcvzUJX288vRpvin9hlxtu4PJ9gDkST20lWvO0eD2L0vXuZcJX8bUUF8pr7y8T/bv3ywlxRaP4GR6cHBULl68IbfauWIXCsvHFpWmxkAwlxuduPyRhm+v5VYGKnNEUmej6p+TPdsny5yQKPSA9mTv3k3gATKPUidyZGR4So4evSTcN/LGjT7Qo/PHX8WHD3wib9DkC6iKiqP6CGtjY6XSq2+ohM0qFr71nH2SOd4p0CD4nfnN6o8k/EGmsqJU1rfU6I9SvJcNXmH+g+jbfjh2Rb7+5qRcvw5dTIA/XVEFerSfLrkG5oOAfHBXz12bsSO/u2umj9z7srGpQt58c798+OHL+tZpvgDJpaftZ1TWyYEDP8gPP1yWgQH+8FFAb5nmazEtH1hX3TKkvLxA6utLpQn9LgPteEkJ69MceZo9EyI9WdcfPGjLUSfcFmNykk6tAmlsqId8+QiyxTMwIaGF1sfPjx29LN8dPCVdXSO45jmASJNB4wJen6hBSeCDds+zf6YzPDrmGNOLb/8a9Dz9BYBM7bHrMtm1c4s+dl3iPXZtcnQwfriCuK2tW744cESOH78ioyO0EeSZbYc5M42ro6RunVFRWQh5VnjyrEZfwMeo2eYgT/QD9tIoIsCYd5pIJGQa/RdXlTc210hllfcLrCujtjHbU/T6DXvsenhkGvmzXbMctH0aM02abZBOX+4XzLTk2fUJ5MnZZuahdoDwDi5fPXrX2HZ0C4vGBtjmci3znPHBC1dm0/588vEhOXniqo4r9PF61Dmz0uxcnh4Rp5/af7DOlRbzN9qsZ4vJeAkpK8uTfc9slvfff1Gef36zVGFcomlAl6SZamBgUtvml1/9ANvBbRWQf8SrR9xXmUAepEfbQf1nvTU2VGB8wzdrV+gLe/gyLNYhnbpkIigvbRegR0d0bHJaf9zjFh91dWUYS1g+Fts/mw/Gkx/r/rFXA1Z/CVYagn1XWg9XCci7sbzcfLNd29n8MoK1WMWyXEmg6DLrNZTlSgNV/Unp+GpoZyvS+UhkNqwHhxndldwgfeUw2FAvzbPyz5P5ysDrRoODc6bjHogXLtyQi5euy9DwJAbBGPhxkIyBmtE3cPCXn58r69bVynPP7ZDW9RU2CPMUVnnAv02YHZ8u9Vxw93icL/CTQ1VO/uMY0HdI27XbGFxiBsXBqReDQdlA3hzM89LWrS26L1lxMXlkPA7mI57zsQ/lvSHdvcOe89HyCkKp4iNTHzCRyJnCRDeOASudY1yVyZU3U8iEjw1y5QSdA1zl4jlxSUlp8EjJ4A+Ddk6eJ6cmMWGtwyC60vYUdHkF6hFjZOnpi8nBQ2cwcT4h/Ziwir5Z2Z9Fmsw5qU9gcpUv23c0ywsvbpOXX9olL760Q55Hfe3evUFaW+ulpDQPNKdkajImCW6ABiL2JlzQI0HQ4iq4afCXSMV1T73Nm2uUN6cTBL/TMUfn44mTl0RfOKPOBs8h6sGVKYF6oROPemSXOIGZBs9xyS9ISnFJCvLMwURwFjLl4+JTKuNNW9ahLlulspyr4ACkLcCsvrq6UopQuVOQ4ejIsMRiXDmVwMSQ+wAWy949G+T11/fKW289K6+8vFv2P7NV9u7eJDt3tCJskJb1NboX2vT0uExMcFURBK0ypRw4GTG+ORnlpLOktBAy3AJ9MucM9/C8deu29PT2YIKcD95zdaJcXARpRhOSxOSMU0abCHt6kAZKAhp0InFPs/LyfJQfZS/GxAr6Sp0tKZ5F+ZNSXZWPfDfKpk0NUlqCiSFSU6Z8TI2PkH79zSk5euyC9PePg3U6F5gfJYWQneVsHGlnwNK0RPNmkE9KnfPRKPU2BhnYqjNGVo6R3ieh0gdY/lldNcdQWlYkG1obbJLr3bczpufKzAk5c+4GZNULW0O7QvtCOTtdskAHFnVEV0Yp2E74OOSUtrGiQugH5QL5FhbOShRtUFIxyKdAXn5xjzQ3cQUgW5dKHSQd7cXCryE7Wnp3vvCejy62N8GNTcrwyIi+dIMvnRpEGBoZlWHvODo6Bjox4UuOtMx0GNOBRhLOGQYR6Vd+UCwMkFFpcVR279wob725VzZurGTSNKBWuqcenY/tnvOR8jbHiNFT8Atkznl6gs4+1Cntkm1HMK1tsLCI+gkdgS4WQP7RXE7+ZzDZL5M9e7bofoJ0xnMf2itXO+XzL47K2bPXYDtY93lqB5mjiQiMwUYWoO7WrauEbW6FbdouL728C7ZqhzyL9rllaxNol0M3aX/GIBu2adoLMu61SciGYuAPAJPTU5JfWCQtG/jjBFcPapEsP41n6eikunKlS77++ri9VI2ru/hoa1oglDdrjwT4lbwmEKYlF22lAPapCLKgTGjrbdUVz6lr3OKAL9Qql1df2SUffvCC7NhWL4V8Ulnv00HDTCKol5h8f/iSfPftaensGtV+TPfA1LphP4fMkXduJCmVFVHZvKVenn9hC2S0Q15+eae8+Dzs+C7a8TqUtxBRZ1C2cbQrruajsrBdaeH1yLag+oX65YtIGpuqUaesDwbLizLiD098s3LbtS755tuTcvnSbZlB8WzfQfCm1ejq0UDqoisJYcNzpjE2iMP20Z5QT7gyjfaEK+9JiP/IR2mQCIUMKJt60wB+gns+bmo152P6vkvHNga9pf37/vAFOXTotHT3jCJeAURAXWccxqXsE5BnQqqqCmXbtiaMXSDPl3ZCnrvQL25HPi3S2lItpewXk+gXp9Avwt7rKn4rOCiBFuRFux9Hn8l+cx36j/UI7DJMIxHFq8cEbPONG3fkAsZU3MoAowSUne0wXRCkYLlBW/OwK9Qp/uBEe8y+r5jtroB6OAW5sI6hTyovpnHpeMko81YiSad1jjQ316NckB/6JYvE+8jVS8+30ff0sf84rvueDg6Dvq42pPwYx5KxZG78ZI8189nwSbRR2GSMf2gjclD/SW0TvG86z36kDHZq395N8v57L8gLz28Rvl0f3ZOCWTCTmZkUbGqHvjTu4sVbtk2DvoyIfHtMgCrrsaCQ5aqUZ57ZJC+9uN3GNy/slH37tmKMsE5/yGBbZJuYmeHqVjJOGsjUtY0Ix7wzOu4tLi5UBzQdovZEjVePgc/54O7eP1aIpxWm3wZtT6sM8/Hsz/f0U88fHpZ+sfJZmjyfZlB2K0d+Gb6DEGmsBHksBQ/L4U9bkc5HK+SjF5R0lkNoSwdrsH5Z7Rjkdm7eg9c4QLR43BD+7LnrcuXyTRkZ4945mMRhsOY7mjgIZ650PubpyrH9+3dIc2OJTVgxIEZsTcOJnxvAaTr83R9G/35B8wbhyam4XLvRoU7SOH8Z14Ey4xDkA18xUXKPqm7dsl6e2bdNSkqZnpRYp+Z8bO/olYsoLx811H2hggN5xvPOSdfR5gSfK0eamiqkdUONTgy3bG7UlaB0dpWX8w3WfNwtoTLlhN89pk0+SZUy5ASf3+nrmsbEsLikCDTWSW1tnuaoeTv9Q3qu7jl/4bYcwOC8ra0LNOhgsrJT3kxB/jhh5Ubur7yyR957/wV55dVdsnffJtm2tRmTuDppaeHKvTppbqrBhCEqE+Pj+tIUrrrgyk8d7GudAyCsj6lhIlNcUoyB/UZMYuyekw35o/ORbyM+eeqyOR/Vick35HqRHFgWvYjASS8m7FydWVdfJi2YYKostzTIJshzQ2u9rfCpKYFMSnG9VTZuXCflpY4u0oNGfl6eVGGSWlBYIFOTkzI0NIiJ1xRkWSMvvrhH3n3veXkFk/ad25ulqb5cqiuLMaEvxgSoTJ29XC1VV1uuj24PDw8LX4zClZvKP3WZWRE44SqJwkI6AXdgosI94sxhE0/MSGlJgWzc1CwbNzTJpo2NmPDVIW6ujIOnyWnTA1tnxtZAqqYJPHIl6tYtLfLMs9tUBhs2VKOs9aCD8411OK+TzZDJzl0bpamxWgoL2DZNnBMTM/pm5K+/OiHttwfQFvMwgYIOIStdJeh0iDlRQaB7dBDScbR+fZWuKqL+btzQoCu2+Ab2Uq6oQmrqLx//NrDOvFNcIinS5W06Nli+pqZGTPyK9brLk+D5COSa4XxUGYNJjRcI+J5ueahfTlJLy/J0srlhA+VQL5s3Qkc2QUegyw0NFVKNyew61Pczz+6QuroKrRffdruwGFhcF9uOwWuLcz7yXP9QPv44kBuNIkBfvKOFfEyQ7aj36Hyig0dpkQYtqGdFPfLaZFAu/ihAG7MR7fnNN57VHxhcuzTQMeycjze9lY9o25R5ho3z+VRdRx60TZHcWSkrL5DmddCPTZA5dHIT5E59bFlfi/YKmaNdrof8d+7cgPZZASr2OPPhw2f1BRHDw1wx7ZwHWgQNXPFYCP3jSuQ333pW3n77WXn++a2g0yJbWKetsE9o+/xxq6q6VJ0tI6P8UYE/iFEIdBZSbyAH5ddW9tEh1NBYI+vX1ehKQQOEgH+WkQ2Ce+EdOnRWjh+/rKv7bdU47R1OKVwGylcJQ/dgo9kWmqBjXO3MdrhxU4M0QS6VsCOFRWzTSYnPzMDGp9Rh+tJLe+TD91+UXTubYduoy3R82XYO5IFv+710+Y4c+OKYXLnaDduPOtcV0yyTxWIb5eOhtH37n90s77z7rLzxxl70YxtlO+z4ZrTVFtT9etgY7rvMt/aOT4xB5mOw40xvDhv9MQplok7R8cgffUrLSmUd+m6+pMce07cyE+RhYGBcjp+4oisy+UMGHWaUt6/jlLgdNR3qs6AgojaaL3bbuLFWdYXHBtiYyopC8JcPnUI/AXtCR5DSMiNudBxp/eAlrnyMe87HwMpHl4TQLxEZH5+BjnfIt9+ekqvXu1BOvlTGtpswofOHLsg/J6mr2156cae88w76BPSLvjzpoKvV0Aj7yv2s+UMUH4HmY+uu77ZyK8dajjiEXV5RjbpolDKuRte7jMo2BZmjT6XzkT8ADI/QaUhbAf31KDF4kveuIC/Ue3FxVPumDdC1rVsbtK00N1Wi7vLRByV0vMBtPqyPsl7E0dQnCXAlmaDzkU+o1Gl9VKC+WQZzClodslxjE3GM+27Kl18dg53oRxyMg3L445bTR7NCjG0rHePo1yI61mleVwGbXAv70ISxEJ8kKME4i4+6s++YAQ/oFwujsnvHRvng/ZfRD2+T2ho6HsmxF5AFad/tGpLvD5/Ttjk4OIWsaTsoK/DBmHS4gne2uc2wE2+9vV/efXe/vPDcVtm1C7bDGzOw36X94I+lieQ0+vNR/cHayUvbGYF2wXFrIs5tEnJ0RXBTo/34a23WyqwMzgN3d/4YqxvWh/JsaUpo4w9QW0KaKx/UOwurDYvheanqcnF5OTk+en4hVh5WYxtZLjxJWbh2tpQ8LHV5VuzKx0cFBeV3lCu9QTj+fD5NcfRMv2cieI1lxDATkeloOH/+urS13cakmiuNbABqgzVLozQxCMwvyMMkr1Z/aW5s4J5sBAds9mfR3fBNrywR6HxMyLXrd+Tc+TZMpjgh0aUlOFpZWG3kk3vuccKxbWurPPPMdkwO3OCH1zER4ub3Hb1y6dJNnZTyESo30CWMa9MDG7AnMDCdlabmMnkOk+U333xGHXzP798BOWyT3bs2yY4dGzAwbtGBL1+aEJsYwcSU+wqSDuWhJLOA6+CVqx3Wr2vAANrt3QYgb/LKFVE93cNyEJP6o0cvYGKUQBy+HMEmziRJLiORlJSXR2X//k3yy198oKsMGjBJKMqPYiJtsfgkfGFBISYBVdLQUCsz0zPS09MjY2N0unEy7a14UKrgC7xxIsiXt7S2rMOEoxT3cUtB/iKe89FWPrq3XetLX9IwDVHoKT+4qkNk06Z6TKyfkTff2CcvvrRbnn12u+zdgwnF7i2yc8cmfVvwtq0b1LFXW1OBCT0dVwA/SAZHOiCrqyukqKgQ8o6hngR184x88MGrmGBulmpOtHXCYxMYPyBttFCqq/jmzSrwPiW3O7p0P7aIOt8hX4916hcdHHQobt68ThqbqnSikpefj/quwrWNsnvnVujBFtm9e6ts27IRMovI3bu9+oZUPppM/dI2pcyTddUMfVTsjTdfkB/96A3ll46YXbs2W8Dkexdo7tixBfpRL6XFhSgL0oEEHzHvgl589cVROXOWLyiB5KN0qDinqU0b7Tvrnis3czGhrZfXX9+njiu+JZk/IqjMd5oOb9rYpA6DRHwSsojpKhpty2m9IE3TTdzAhJgOmCnwlof6atUVNwbcZFT8ceXj2XPXvMeuKQPP0c0IgUA+daKpq1eTkG2RrnChk+rVV3fraut9+7Yov7t3bQW/Gz0daZWWlkZM3DlpBSlS06OjvXi42Ha09O58Uc5HL40FB8bxJvTpkP3dD1Z/OEdQRwAuqC2CXLinIN8w/dJLO+Stt3bL+hYYN4WlIjjZDq585KPcaecjyQbAVDa5T0peHmjXl+pj3O+8/Zy8Bhv33P7tauv3QK937twsO7abzLdsWS9cWUWd5KPyVy61yzffnEAfchdFK4I9ohcQuqds8SMJ3lOybn2VPn75wfvPg1aTVJQVQmf4Iw11io7VXFwrkfr6auhhMWzTmPT19kEXuRLaa5f4tFqh/eSWCNNSWVkpW7e0Smkp+y2vkHqI6EslLl+5I99+e0L34ZyJ44Y6/XifWmfI8WScn5eSutpi2bd3A9rmM/Laa3vl+Rd2al/Cdrl9W6s68fIQb2pqFHlG5dn922BzXoFutqptAGMISVLFP2zrbER6+8bk0KEzsOPnZXQkjut5aM+u3zEZ6WqxsjzYwq2wCa/Kay/vlObGcikujKa3FODi2KKCItjEGqlvrFdnGPcNHBuNaba6H5/qF/61kPyRiOXijwT10J9KdQK7umEc9lHtt3vl4MEz9pZj3R7BOWxIg5EpHxxRLq6wLy3L1ZWqr762R16HHX/xJdgT2PA9aJ9sm9u2bVDnXElpAehNQk8mYFe4wpokyRyO+MhoQ7jpVj7uznA+Wv5mu3Ngd2D/ugbl6JFzup3ByMiUvhiG/FqZabMp/6SUlebLSy/ukp/85E3tF5saSqWokLK3PLmHaVEhH8Wuk+raSnWe9fcPQJ5joIH7qD9tO8Yw9ITyolMzJS3rq2Gbq5SG2UktEeTtrXxMP3btOx8drK6MVzq7y8vy1Zn29tv75S3I84UXdsizsHc7d26UVsgxLz8X/cmQOuO1rw7wpGc41epBv809sumQpz2vqi5G2+N1qz+tU+hIV9eQtonTZ67BtlG2lB8ieixqPanM/frmjxGvvLwL/fY+eRl9Np+ooD3egbreuJHbghTKzMwY8oqpo/DDD1+T117fJTW1fLs1mSM9JQxEBENPOXfuhnz37UnpuN0H/WD9QU5eHVLXUhiDcEsD/gD1zrvPyUcfPSfbtzZIOfSKP8RQN1iV1O9y3Y+8Hn1BEXRiRAb6hzzbwcZjtsNgP5zSoVqLOt+4oRbtjuNe3mcf5eI93Ujb0iUB691r7yFWLVh/VodhPYZ4NPi6FGKtwcYaS1+3a9b5GMTKbxSOv0w+bdA4F//B7/5AgI+fXLlyWx9ppvORK6jUUZKeeJAW6aYwwM/VR+12YxLWzLddax467NY/+27peMawFODkiC8puXT5ppw/fw2DVq4s8pyPgcGscoMBK8akGLRv0ElhqbfykWB5g85Hrny8x/kIIozOxsNVlJzwb9nKgfTLGPi+LK+8sl22YrDa1FApdTXlUl9XKeuaazHYbpbNm1t0NR3fojkw0KerFrnfk61EcXmY7I1tc9w21NdjgtEEXlkCxiUffCQpgTLflu++OyU3b/aCBB+3xuAc8mBMJYKJCx1zWzfVy1//4l158YUNmKiSOB+hZP4cfOM7ZzuIy4l+UWGRPnI0ODAk7e13RR//42RT6520LT5XMDB987paTCabdRJgMMPCFTV0Pp4MOh91kuXDTe/5SbolpRHZvr1Zfvznr8uf/ehleWbfelnXVC31kFsNJp01VWU4r8C1GkzuGnSloq4kIgF+4J+PCepEGOBqwLr6amlsYh00yeuv75ctm5swMWHOOsNDYJkoMZuEuIkbJ/8lmKiQ76tXb6rTRvfH01U/GgWB+j0rhYVRaW3hKrB1giSQcURlWA1+q6pKpaqyRCorSnAtTx+ppa729Y2CT048ma/pp9Wd8VaGydorr+7BRK5FaqvzlYYF0mPgCqIS1Fc+9BCplReBXsyC3075+JNvpbd3HDQLoRsoE26qvFE3yrUWny/ayZf9+7eozD94/wV5Zu96XSnWAN2tqy2TxvpKaV1fD/mt04kuHZCxyXEZHePja5xo+5M3VWV+4NxWkPCx6HzZtGmj1NQU+GquvEYgi3Hd85GOH9/5aPIPwnQUbRe6W1tXoo+Z/uwv3pQ3X9+jus32Rr3gPoHUCe552AKe1yOUlNAhz3o2vfRpZ+axEDJTGR13vjjnI5D11WC0bHuEYHAwXVYgDiWnj33iK9U8mYxDLimpbyyRlyCX9957XtujOhWsYXjlpvMx87HrZHDlYzBLAmm5PQBf2sQ9M7lNwc9++oa8/uou6HmNcE812jjKm8emhmppWVcvzY21UlpcoGwP9I/JyRMX5dgPF2VgkLpQAsLWxtQZ5Dn/S0vz9Uebn/70VdQbV6nyOh1EYBg66lY4EQX5BVJeVga7xG0dumRoiDrOdkn7Qh1igJzAP50TbEcbNjaBzxLYc1IgbepqBO1jWI4cOS9nzrTJ0DC3x/AcQSoLlTRkDdmAFh2PXMlO58pPKIfXduujuk20T3UV1k5gA7j/ah3aDleC8RHoN954TvZxiw98Jx3yZe3QZJBI5Mj1a5369ugb17lnMVeJ8ccCMuHKnpQI+hqu7P3Rj16Tl17Yoj8o8X5qNo5PyAo6bnHpcMlR+1NRUYb6HpXb7V3al2v7crZGP2Gn43F8ptQxs3FDPeqCbdluU2+oz+fP35Jjx85LdzdtFh1R1BmjomWhSLWeklJWDnvy3Db5sz9/Td57fz9seCv0oka49x77v0boSWsrVyk3y7p1dVJckgd7MoZ6HDF7wmeVSR2yMRl4oD6mH7vOXvlIBgB8mYwl5eqVDjn0PfrFWz244z3WzB9nNCblRId6RHbu2gSde12e378BdpRty+SJnECKumc6SHmyL+B+iXQ+3r3bJdOTdLy5VbyqKXpkn0in94YNjbJlC/tFlsXu8XMh56PGouMxRf2ztrFnzyb58U9ekw/f26eP7TfWl0ttDfpC6B3HBrV11ajnIenu6UM9m35bn2J5mnzYHiANjAcaUAebN63Xle5qJzS2vfQoNhlH/3FXneHt7X24g/r29j8lUA381JBKzqhj7tlnt8iHH70k73/wvDz3zGbZsL4W/UeF9tvsqzchL65aLkNdl5fl6Y+A/KG2trbE5IxyUn+Nb8qLDvlxOXr0opw6fUVG2TZz7EVBCtU1jF3QJrh35csv78UY7BnkW4VSkI45l/3APMR+wCgvlempGa1D/vg1qzbQxmHKAY7cZoWyZ9xNGDfU1pQib/BGu2tieGpB+bj+ZOlg9JaebogQIUKEWDnQAcSy2HrOHNcUdLLghaXseB3NpUU2b49Gn2UtwiQmL58DZEc7Mw8rB4Z4yZQ++jOFgR1hihCMuzRyywQH+yIzmFhNTNjLSnTSovDKjmz9KpuVaF5UV2m6/YUYwcq2MH+cDuiRmWJiwtVpf/Znb8uPf/w6JgW1kq9OLebLwa4/+OXjd3y097VX98lf/+IjeW7/NikowABa38DIZ+I8XtM8sFz2Fuu7d/v00UWCsax89tbczs5efVN0MskyeANzgOUxXukYK5DNWzbIKy9vt5t6PRf1UwC++Fg5HbUF3jEPA/QoJotNsmvHbiksKNKJl9axxyNpm4MvR2IT09LfOyIT45wMuFIol3q2MFy8pE7Wd2xvlZ//5Xvy53/2IiYv5E2ng/hL4swCz4MvGuFEkhMOe4yd9MAfz5V0SkoK82Xv7q3y9tuvYyJU7+WIz9lcTJ5yMfmmI5fynBW+pIWObBf4coDKikqpqmyQKB/bQzK3EsvogwyKyxfTDA+PSpz7VuJaApM8e3sq+WP92gSIzgFO2HRSy4S4xjJaIDjx4S27lgAD/G73fX3SdDoBQ/C2EmCNM9nk5LTcudMtfT0DOtGNYHZJnWG9BfWcznO+wGPf3q3yl3/xrrz77j6pq6HMCebHsjg5J3QSvbG1WT764DV5772X9RHPSC5XP/r6a/LHERM16gj3nuwGH23XbknCFRkfnugUwfO5gXLpZDCpzsXXX3tW/uqv3pHnn20RmCZcTaRDpp7QKWOyd85HB/dtvkC446KxcEF8kB8NqEfvTcGmCy4E69oPpkt0jkyjDXAftXHh29pbWsvV6fjTn74he/a04BqiebA6D2IxjKLdsV1FUupce/PNF+QnP3kdtJulIJ+S8fih3META89dYBm4emhwYFRu37ZJfl5eAXL29JCOILBBG8J9SJubm2T//t36khpjlx90yNDpQecHnTwM6j3U/Vw3tGyGndoAfvhyMQJ6RdYoVhDRFWc4Hxwcke6uQZmCqfVu6wfvDaHN3rp5R0aHY7jgvdBHqTGYnWW7Yl9RW1sur722H23lLdn/zHopKSEvpMZ2YlaKf4UF3HNzs/zlzz+Sn//8R/LM3i1SUoS4mjHLTRkYbYbp6Tjs+4B0d/erTWe+yj9uO04ok8IC2PHNm2Tfnk36gi0DHUYFkpsDOy2FOKejnZVPV5LIuuY62bFjs5SWlKIMznHDoB9Km6d0ng8Njsr4GPtQ5sdyM36ODA+NSHt7p4yMTMB2IX4KqRDHUjN4ZcG14iJuP7FZfvqzt+Xdd/ZJY12J2ku2QwbbF9DaJW0Pf9D4APaEq7v5+Lq+kXiWKz+VCXxfDBBXA3mm82xKurr6UeeUJ/fc5I8zrFfG8v5QSO4NvHfvbtmze4u+/IdgmU2e1FXae9M79pd50TxprG+WTRu3SmV5pcooDWbvgfaa8uzpmYDuoaxsKsBiS8MKoEQZ8qM5+iPbm2+8IC88t1kdd6ZrlCefRJlBvSbBU7O8gTiUZ14u+4UEROi1hzTAAf5Zv0m0Td1jmaZG71AvjcOxsQm02U603THE5bjPH1cQFo2E6cAV2batFf31W/LeW/tlfUO5RGEzzDaYfSC/0cistK5rkB999Kb8u3/3l/qIO1/sZnQQyJR3cJLq6e6T29C7yQnuQ8zxmuPD6pCtrgCGbl1zM+pwp9TX1Hgp+cm26cY1bmzDazlSVlYsGze0yvp1LWhThciTlDRjl7XaDtqv3t4BrUd07wrG8mI+tchUe2tLjwK1NV4Isbqh8wQvhAjxoDC9CXVnbWP5bD3HTGsK1jHacSmx9B2uo+WOrhH7jXn+PION3u5ziMtBGB9Tycvjo7cc1CKOl1zp4N/1M9wHkINu53wk/InW8oCskA3u0TM87O1F5U2a0pOidOAnX0hR4K0W00uafk6RzAXtWCmppPAlI6+++ry8+MIOqa7MRa4UBCdXGHBbJC+AOI8chEdzMclaJ++//7q0ttZKTi43Y+fqB85QGMnj1WOKbw7u6emXvv4hEkjzyT0F+YKCrs4BmRifxnU6mLyblpmWlfv8lZVVSFVlrUzEuNfRlIyOeIHnLmDSaff4gpZJicWSkp9XjUlrNSj5g34G1aEI6hWTgTjk3ts3JH2945jQOLYXW990DuRwgQfAlx6Uy/792+W5Z7dJEecLyIs6ZwI3RwKDFc/S6kqEdD0TfjyuvNNgCXQyxpU13OuJj1IPDk7KzZsTcv78qBw/3i+HDnXKF1/cko8/viq//8NF+d3vLXz5RRvKNwWCnJByPy03wHIzN9QT9J57q/EN3w6OL/7xqEH5xxVlSb8gkI5Haw543OME9aCrsBwdXNXykx6v0dmXI/39Y3Lj+i2tG3ss0OVNflx75KPYs7o/3PPP75Id21qkwPw6HhifdBHfy48OQPJZVsY953bJc8/t0pUrKegvr5v+OfmrlNThyJVpt2/3yiQXrzAGPxjpvvAKCGgdphJSkBfRifjzz22T7VvqlBZjmATIp5XP1qzwnrqkkd54MgQmmvfBwjF8aJlgJ+0FKosAKl/lk7LHBik/Br4gZFaPFngtmZxEu4rhyBd08NHZCZlNTiDPcdjkCWlqLpCPPtov/+t//LH87Gevy9Yt9Wi3nvS8QqgtciXSU6unbLgrru64opKrivlyrhdf3KV731kJPXqqH/wRw1s5xEt6z8CV2f39w+oIYntLr1piLJ3wG1h7VVU1Ul/XgHbk7NA8wbNXsYkpieZyBWQzylsGnTLHgoOV3VZfDw2NSn/fsPCN+nqVfEMJuUJscHDcHr+EXTDnBANKybaGo+oW6kvfrA858EUWLS2VuOeB+VC/EM+C2ZvcaERXJvOxTTq5aOOUJY3PE1Jmn0keRqWjo1NG0H/RpJgMg4GxI1JcVKqPkLM9UAYjsNN8pNgP/O6H0VHYccg9L1Kgdjw3kq90NONA9fNHgngiIQMDQ6ivcfTf3g0FNG18HHXYI+O6BQefKiANT9dx5KpCyptvNl+3vl5ef+052bubTmFGIP+ebdPiIGMcnf2jbKsqSnWLEu7Fyzd3p2bJgEZ4QHA/RZFh1GlXZx/4piOTP5Ix2H1XdG4XUlpaBnmSSciO8oS8GMY8HZtL76amItC3KuhDLdqfreI12mZxCH6PQ596ewYg01H073r5wQC55ES4nUdUmptr0QarMcawl6pRz6wv8PoDfOeLnTiu2LBhnTp1IxhP2Jv/kcIYVLD+ufqRL7Sbmea+zekbaYyOjAufeBgaovORbYH5kY4rCNuv0V23rgH1/bzs2d0KmbDN8B4PkDXS5tB5qXyyHYmUYizZ1FiPPqRUKRHGHcthP5KRGdIYHBxW5x/381aHt8ahTTewLHxTe0V5le5VynGU1uOc7cG/xvFNjhSh/uugs0XIi3QJlSxzV1758qD+vkEZHBiXGe7xiWsaLPKyQG2vCnDlIsgeWxRlshLh+FoNMl0rSLeRx6gUVrdh/a4FmNo8Pt1Z6XhStsvl+zjb8VJgjT52vVoqYS4+ee1B+Pfi4sDxJh9Nu3z5uvRhYpJMcT+swEoqLy6nXHQQFBfl6aOnu3Y2ZBgSDujs1H13Z48G8sDBNFcGfvLJdzIwiAm6kEebjCp/HDzjqNPC2YQ+qso3Xe/c1YLBPWkoKYCPXdsLZ+Z/7JoDY66yS2HiXye/+KsPZeeOGimgzxM55HDFgf4hjTcx0KB5mAy4CqO4uFjudvZKdw9XZ0DI3moVF1/5JpBXURFXvDSpTPUSAp1cN291y4kTF+Vmezcmj7Zqx6W3wANjz8r0ZELudsTk1Ilbcupku5w+xXBbTmno8I7tcvJEu5zB+dnTHXLu3FXp7ByQ6Tin0159gyxJ6h5RCLzGvZR27GiRhsZyyMuyZf5uz8f5H7vWYb6WkY+Nbt6yTvd43LWzLl0n5kaiE8BzBMzzp3E5wdET/Cujlo4rTyZjCenpjcnVtm45f65Dfjh2XQ5/f0WO/nAZ/F2RM2eu6d6D5xD4Vs1Ll29B52/L1at3pB1yHhqe0D2owKrmkX5jtNYZPrlCrLFK9j+3E/rl6x5XL2k0pgJP3EO1826fvkGe7cm9uMHFVzATlLu0tED27OFees2Sp/M63vfipOGuQZZKP4WJY4989+1xtNsxUGFbgG55eWg80Gc74Cb9L7+0T9566xlpWc8XwuC28uohkJ/jjZ90IkXz8qAXSci0X/pgH5IJ6oc2AqQzmSgx/JNudVWl7N61TcrLEU8fqeWNCCaCE3Lu7HXocPZj1xpD86Wjio/hcuUwXxL14gvbpa6uWONYHippDQbHty9X497LV795uvcAcLHtaDTcOVco37zRpS+quu9j15qC7YaPl9Jbz1WwCDl80zi3QHCB3+PQH+7lmNCVjHybeXV1KeqqFvZrk7zxxrPyzjsvyKuv7ZVdu1qltqYYk3GWj1l4Rw/GBm2l2/PxuurJ/I9dM31CqmtK5fnnuYftZn30366jTSp5Ol48GSMDJnckWIdjY5Ny5XK7Plbf3z+BclDHaAO8SKpfjAvLjDoegu2+eL5T7c+pk7cD9um2nAycn4ZtOnX6jpw5fUv3ImZ5zMFDx4RxobLHNzpQuX8f9/3cvn2996gy74uMjMSge23a5kf4Nl/0bfqimQw9mgXfoqs/X311nzz/3FZdfeYJwIByZOqSnXPFOB11JnvN1aOoXxR8+Qh/QDp58qLcuN4Jm8n4XOnJ+kA7tWhaHgbq2Z2OYTl79g5sNW05ZKGhPRBwHbZcZXXmjpw/3yF37tD5zxWHyBh1Q7oeC9rHsw4qK0rVedXUVKX9IiNQjdrRvxw7dkH3AdQXt7Cdkx/+eUTYH/IpADoR33xzF3S0TPNgn2v6YvH9XP1zFpX783ILEj5GT2e1ykAdwR6YEZiZ+7Fry4n0nP07c/qqvuxshvL0HmF3OWu+jA5MTorcuDkMXfNlZuGOnD6JQBmif2Q4c+Yu6N7QttPVPSjTU7Sj1BeC5fSI6pHyKFXHfXNThfaL1BJiwceueUBZWS629717uZdtK+gVgAJoKBnaO0Z0aXIkL69Q9ya+euUm9ISOdm+sxgSIxjapYxfY0rraSvDWKuua7WUq/KO+8vcl/lB0/IdLqAu+pI36SF1kPtbWdVKC8pUU5+tep2+/vU9aW1BGrrjEdeVI7YLFz4aqtkXSP/5bPOYFTnA6NZVCu7wuZ9EvjwxxNa4nI0cuTXYWYyH+yDGJ/roH7Qi2ggH1xnBC2wPqU4PfTs6evSHXr91R28EfyPhDKmVAVow0OEvSRufoS+22b2uE/XV1vXwwu2VHm/zpN722crGy+aMMV4cc1wIo48cvZ9duQjw50F4Rj1YXYT0G8aRsl+uHVxs44lhCcIBnSh1iIVBOQVlRex5eg3RICg0sKSnR1Ru6500WdPAI8A6dUbGJSenrHZRJLoa6B46/II+PBqoGJxyDAyNy9063TaTuW+ZZKSwq1JeQuMeuwTawOJ7o6GSIctP2+ipM1prSjziaLEzmPKODSvcRYkCzSDGowy4lxRi4t2KiV15erHyoM09TBYCvXBE5PTOFieOkBBbVgU5KxsdjMjo2oZumc3KnTS/t8FQOlO4E4l2+ckM++exb+fzAYYQj8tnnR+TTzxB4/PywfKLhiHz+Be59cVS++OoHOXfhlsQmOanixMjRZVnsyEA+YrEJhEmVPcEyLhZs2wx8jLKpsUHqG+owCQrcS3myXExQeeMM6akXnNjzLdtX20bliwNX5J//6Vv5l199K7/97SH5+JOj8tXXp3S/N+4pde5CGyYvN+UaJoW3Orrl9p0+6biLgEl7N1dfQKFZbhUzgnawCK6jZZl1k3rWL75rGbTeefSCB+PXL5eBZ24C665Sk1mn3lcFvnhltODH5S3ywbrgai/mwQmbOfMsAWNroMyL8nXlCldnkV/KTG0tK5JHBY7psnoriPDBN9s3NvHN4w1SUBhFG6LDjeksH4V3SucvH4Xk43y20saPY23VPu8HOpC4fx2dI3zhiMeG5mcUUFpVQL0YCA4uTz8v/8rcYXnAt4pH9G3lr7yyS9597xl5+73d8s67O+Xtd/jG3V0a3n13t/zoR3y8/DX5t//uA/kP/+FH8r/8Lx/Kv/9378vf/M27uP62/Pmfvy5vvrFftm9dL5XlRRLlrB7y0DpUBGXgSuSuBe9lgtXN1XXcH62urlof3eWjigRJ62plnNPV4Nqc+7N8aOe4ajspoxNTMsVVheTN8zr4um8puDK1B33G4SOn5MCXh+WzA98j8OgFtUleUNv1vRxAnO+PnJT22126Kom2NW1rWQCANc32Y4/BTutqL72ut+nIm0I7GcaRDiAnDeNMA8vFFWQ40pHU0lIn1TX8McqDnwhwuufATIwPd9Ty6mXGY3zYKLZXbRuw72Qvkoc45kQNyon1EQOf167flm++PQYb/r3aagtHvRD4fsALsOunYd+4IiyZoowYQBRBaYMXdf6mEpBDDHKaRBul48rAtzrHYEP5NIMufKY9UgGSK24DwC0wEsJVemVlBbqvH/e5JVQazAx9kmulDO7PfWcoKCjUF95wVVx+PldSUvZBed4PpGE2jlu/xGIx2P0xLQffpq0AH7YC0rUR2KTYjFy42CZffME+MSAz6JjKVwPPvQC9+/qb4/rjFFfR6Ypq/KXQn6coQ9YrsnPblMQmKE97jN3Ak4XLRJrUaNIqKimUyqpy2Nh8TckqME2zP7PVDLNSUhyRirJ8yI/ytry80meAK9i5TQgf99e9DRHJazLQwVmMK2bA9wzkRxq84YIDHZgipaVFwn116+tK9fFrK5nlbH2UXbkHuJyuX4uMcwa9q6DsuB8wt9Ohs9z6sCyA6Rn0uZ1dfXLk6GnYhYOop0NyAG3gANrAgQPH9O3xDF9owLjmix80HD5yAbajDzIgIToVybdfVttyIIIxRFImY1PgI57B33LAySRz8h48D/FwcPUaYi0is72EeFIIq2EheH2eBztfqFN5krZr9VXoHKOEhwUryzsNsUhkK/SjKS/fzFtTU4mBZrHwJRrZjSVNGZaHA0Tbo7Bf7t6xwZrd56fjKzP9o4J5jI/NyK32u5hwcKDvr5xKQ3nDEZF5rKzg41blOmBW4DqdRvcgXTgf+rggJlwFBVGprSuX4hIO9D1wvuBNtHTOhczcZIFBB7fKCIa2mNjX1lZLWXmx7nnGyWW2aMCV5sdHM6en+Ti7uw56iD+Fa5xUc8KlzDJTHgF7rNFy1QnZZFxfqDA0EpeB4RmEuAyOJGSQRw0zGoZwbVhDXCYm+FhgFCRscO5oKwNo5uqMgtzIh05kPP7nHgzce43RnTEuKy2BPGtwtMex9KqbkCB4h/sE/HmTP17g28+v3xyUr766KL/9jTkcv/zijK4WutbG/dUoi5RMxGYRNyVTM7OCIuhKD64GS2HyYYF1g3pU2TInHFk+BCsnAu9B1CnI2erCB+vcJjU+lF8mc8xqcHDfvWvulpdN0NFjf+66xeGFGRSEjunZFHWRbYGBN71PxCHvJSVF0L9CXfmicDQ0gLYGjY7AcphThLrHxxbpkKpCOyqgs8A2gwsQADzGWMd85DWGSZw5MLIRSDMPuAKlGBPxhnq+ZIctjClMgn5q49QPDsFYFjP7SnYg3HGxCOZ4Lxy1WZSDb67dKD/6s1fll798R37512/LL375Ns4RfuEFnv/1O/LXCP+K93/xlvzFz16VH330vLz55m555pkWaV1fIRVlUd1nVhUQctYmkFYGIksOFsH7Pjf0LuqSLxCrqa7QF1sUFkCHeCOQ1BwusDNpeqwRO9IJPjWNOod9iuvSItgQ2guPL7Zrp79sW3xJ0vAInYHTMjgEW+SFIbVJDLBfsEtDtFWIMzQ0JSOj08gD9pFOJU830/QZ2EY9hyx/oOKj1W7/PYKPVdJRxdXIhG+3NHU6cOUjX97Ct/XykXaqMHXauCe8uNy7M32NtFxwn4QX1wPt5zT6TDrCEtp8uHlHpma7FFwxx31oVU4j02qjna3WMOoCryVleBjyggzHxhIyk8iRpMrJp6fkedDuMiXTM3TQso36QqLDlu2WeftORKPA/sUckFypm5Ki4jyprCrWHzUII88UPDMbZOcueED96PYuRYVSDX2jXWJVpPlcACYro88VtNx3Wp2oKIfWqWaFcqst4jm+odB0kMcmoFdDk6Zn0C0etR/0dE/PVecYeD4t4xMJ6Az7BchTafu6oNmhLMyHffY05OfyzCxN8PxeKD20Kzpii4oLhNu1+HQIfskOInzDc14UUkZ9aE17ZQ+CbZMvH+KKQZ4H79q2JDPaXvz8GMMFwuiSr5oajIFwTNPw0phE8Icy3NuPBGkFzxHPSz85Na16xx8QbTU87YcXT5OwjJaWPz5w2xgd36B+rC6h++mxDM/RLlCP2ibQNkYQYpMY38xifMMnRjx6pp/UJeaH/h9tkuMb/sDrxjePA7Qvvj0K8TBwY8sQax9W12F9P1mE9mplgf3pymsTQZ6Wut3qUHYpsPb7jkcR/P3TursPTt1PxU9OCmprCqWurgqTCj7Gw4kJB6am2O5PJxAYsE1PJaWjvVfarnZgIKtkkAb3MRj2vnnHhcH8Ob0J/vGqOxJ09vARqHNnr4AyHx+ko8ypoIun00VM9BLCx8Pq66s05HkrFslSmraeWyDc0YHjQQY+JlZVWWmPW6eLxBPkjYmNDWNtKOuCTw1cRnKlvLxMH7+mI8fgcrZgY08M1lMRTBRSEve30lTZz+jkhisUuHoBkTW+pU23HY9hPuqtIcqQJ1EUns4Fhty8qPfdQm40H+Nx1DWdzZyZ6uwUQYWjUxpyp9c46efebtMI6nvC9Uznr6XRozv3vlMtlALqhG+lLsOkszDfyYJ5IJYJwaWeN6ibzZsc8yUDV672yp/+dEh+9S+fyxdfHZGr19ox6ZiQKUwGE5hR0OHLCR2dwDzn26IjueAlwgmrPfoaga7zsVce9Y2cFConUsjP5erAa1wp4pyP/G7x3DHIrQPvODoMwTgWT0WVhqOYGceAe/jKiR4nvBMTMUy+HS9Mx5Zk7YDnfAlEKXSvpNBfAazTQpaTFaPxXDCYKlme9OkUF6LOSksw2aWDmprg0dBgus+86Mzg6l2uNJvb+ZiZz1xgvvn5+bpqmeqlKbQufAthGfLDBSJIO/ve0sHaWzCvbIBDRGKg7eAq3107NsqzezbI/j07cNwlz+7dKc/us/AMzndu3ywbWpqlvqZaqmErKkpL0UZKtM4KIHOYZqPLPI0BzV2bmDtHWf1zF9wfALlqHD3afcqHE20+MlxaUoxQiDrWy179W6CaaD0jQ/8qAdrgJ87VVZOTkkigPWk8d1+/eX/MnVfo5LMfZfhIfzQfdgqZaqC9SgfYKtomPibJR0qhDKp5aPvqHNPCkyK/89wcblzhpSuTrYAK8sVVj1whpz/+KCOMYIF7xFLGfNFIcVGx6h/BqAEyCuo+dxNQEvcJBv+byinBH5fo4OMKdjYQButnndAod91XFMFsudlp7umbtut6zmuw4+A5F3JUW47r7BfZQ9vRzikfvZbDlcsR4ao3OnLS+wACdFDR+UK7puJkwHULrDVzwrE+uHqR+sIf5ny42J4zTL8aoUwnOeXMfRhLtU8kbCU1ZeFo+AiQMeACT9XpDfs3CZ750q80cNMezzZQjWnDIDrom/UFTrdcoN5Zf8mAfiIagSzZX0B+TMw6sZrH0ZxVznnMrLkqj04+X+ccs4Sd89Nd1ar2grvBfLnKPD1G4H3NwaKkI3rfGI/lsD7Y2oYLLp6uXEZfRVn5zNkxobpobcLiM10mqLOslwL22eWB+lZyjp7x48NdJxy/Xgje8jCNvoKrRql3bJtmrdJWywPkj3LSTrENaJ2p/rMt8JofIrjGMU0EsrFzrx61MyEP3lH5UU21c/zHMfDiCkwb3zwIjF/3txC0jat9DbF0WFjuIdYGfDv7NINCWE5BzE/bt/0PAlhGTbecPK8UZNp3fyy9POXPro6V0LXMpSNL2W7vHa08JFxnvFY7ZAr9QQQflMNi0rrbD5CFBxLHv+dI4cB8/bo6qaoqxUAPM5McPmrFQaEFG1jZQDA+PStdXQNy9nSb9PUk9KW+98I1uvnq1YbXOmTDSJwrbCwP75geBeboY7Vt1zrk3PkryJ9vp/RmyR5tSwceU/aIGAfKTY21UltbYY87ayzEVtnaoNNdyz4a8A358zFQexTd5cSjl68OZvHvVZCjjCG/prVH+XIkH+ltUuGl00AgnZ6CIiZ1OokATXdXJyfKBmixjpCPtRN3Ewec28SI5/ji6krjMjm/m0y4egXf9B4+9V4wMDYn4SodxGE8XfHCvFDnfPlNAjNWf66XPsmCMmjBKw85jICvvFzIM5+OB1zwYOVhuXgyPzSaThwwZU+k5O6dQTnw2VH55quTcvNmPyYx5BcTDU46dOJIDlluOh24+oOOUzpIMOHiHnw50zifQpgEf9MoO/feo96b3ulkSIuoOXuBNPEXnPDaFe8sCItPqAj5p5MfSsPpfnaa7CukYfGz7/FRzjjqw666ewjITFfEQN50rNBpyLbNunVwK3v9dD5cmdnOmYSP+eZzQseryJPXqONWAuOMJEiTk9kEJ7SZJPGVf9Sz+4MTTDp/OLEmNJ3qIVMyvZ1Zrk4uBK+6EIS7/+gw6vhzepGdlYL3KFv7oUAnzJAjnwrNQwXk44RtANVhAUWI4p7aDC1fMPh/pMuSaBvhSbrovOvrkfkZ+MGjXcsMSgXBnHVaDhzpKOXKVto5hdJWjdW/tMNNj44aPikL2Fw+tsgiuDfRaxp+em1a90XUU5ON71BmgB7yGm23Bnu0n/c0Q02DY0aBAuf40D+c04nBl88End9MS6ekOmFcXO/PdJi6zP4vKnlBB5AnA+/EABJWNpQJ59lB2WUIpvFAPrhKj+VjmfhWd7M1mkDpQmB6pNxov7QNMvAcGWj1BwKTKPScaeik8foa5cVFskC58E39XPFm8jAkwBdfRmMOIC8p4jOgZAjuCNsN+6o2HNkEqRtcasKl8+KQP+9IWaucXfQMIu4EN1SgPtJRKEvUdZy6p7oCuJt6dIRJg/JGX8xAuwiaLgQrb5Zvb2bQH2ZYN0yL4NHReuEfvuoVfFCGlBsd3r44yQDL7iPNtwd+12te9bv9dfkDmbtnaYyoXw8G1kFeLuJTMXCP920bAhy9Ovf5NUqEO2N7SLK+0w3F0jCn9B8LiCOdenl5sGEZRXLxCXd0SAvCgxdX+SM82QN8eaHjQ20JgnNC6riDMDbsGusa56pLStKrL6033sgMFscRwScTI7BftGuWF8dMfERdXyRHUhp7cfAop88eBM4+hnh4mAxDOT4NsHYf1rVnxpYFZoe9L3PgYerA0VsunlcDWPblKH92fawEGWfzlP39UZE5ugoxLx5U8DboM8yfNvMaB1B2nBu8Pvc9DtCMFicDra3NulqQL9aQ2YQ63+YCnWXTM0k5c/YyQoeMj9NgMa45BdWJhQHd/BzdC8vJcUq+bOLFtzXevNErp05d1kfLIrkFuM5VHffyZleSKEOlNDZVSXHG5uGkm5nGcZfNJWNRLlzRwJdlcHWnVks6ov+FfGh8/Qa+GbTe+MhXSsbHJmUy5q1c5J/KNJAjTikq/lLPVQZub0lWC1fAFBbmS2EBHTIsi58vQV3hhFYH75zYClfzTSPxBMI4wph3jiBe8M5nNYzPG0SPwXiTCHGkxy0gUALAl8DcsNg6kYGeBScyQTqOylxBgRNO+Hq6RuSzT0/I4cNn9NFEEb5RKA9BXR4a0SYVnNjwLeFTmNxNQraTUlQSl/KKWams5Eb/OVJTE5Ga2lx8z4WsWXczmk4zW0TbsxJkSiMTxk+mIyCTilJIX3C0/LhB6BV8UB+Ki/joIssapIEzjwT1YzI2qdskuHmmxb2XrrtjwUCd52qQydi0OnznSqXMUN8jEXXU8y3zOid+CNBJFc2j8ziLALIIzKEXAUZ+oATLg4At13O1icFgjje7N1dguuAl2lkLvMDbhszy8roL2TALRailUv2Jwp7nov7uVXe1WHZ0xAJEnbO4sLBQdLsOLZ8DInp86g9YdLZp4NLuKdQnXxrm2SOcaxAX3HV3L3CkbXK2TcbAcwx6w+0HxqHjEwgzQRbV0cWVtOrQ1gJmykrPwCMfn52YmNQVxenrimAaBCpiWhmZUzB46VjuAGjz8/LypAhtg+023WK9aEoZvFH/zTFD+8PXxruyuzIH5eGCu+fuj4OGHyjL1Cxkg6A2fJbbltBmsi4MdGblQz7Wbj3e0nB6Zk7cqWmuuI77TzwEPg1aGjvNBi6rTZq0FdKkzCph2edGNi8G6h33R6St4Q9NfgyPUxzIK1djM8zO8kVo3M8XeuLJwg9jc4TgvWBcBvSHLh71dHYSBWC/q1kD7iSzTPOVkFAZeOc+nJXmZzAEgISZdhHfUXiW3yQxRxrcyYONpfxsTGHXMlJ4jjvSYd8xMR7HWEhvG69p85xN28GnZ8g8V/sFFKD+Cov44yzp8Bodyc6GKCd6ZtfQJiJgIsJ24et/DgNthrYLF7zrcwRL59qQFx/tgj9GBtvEgyC7tCFChAixdPBtJmHzy/ls78qD4/dx8Gz9X6asVgKyy288hr3Gw+Ahp5chHh1Ogd3RFJgDeTtmIvg9+x7bAh1cbAh0PvLFFNwQnnt/cQ9CW73nRWZqXamBgONMIiGd3X3y7XfH5dLlUZmOkTobGFVjFnT5zYt/T86ETYORQiIYQeuP1RoPAfyQDveg6ro7Loe/PyunTl7F/QJMMiMIZmDcqhXS4JH7UuXmzkpLS4M0NNrbPJUiJr9Bg7QQmHckJxcTrJS+5XcKY1M3rzY5YyCssiCy6IIRMzI5ulJwYGAYk7VpTFZ4A5ezoruvXMVQkJ8nBQV2TcuH+HwcSwfoukTKi+0dWHduwsqFJHS21tYWSlV1RCqrUjgyCEKOOdpwXl09K1VVwYA4cwRNn44jUlEpkCcG5165TeKLgxM9V+HZ42X2/UFBOsODMTl46Lx89fURyHZSUkk+fmaPVpnYOUnmCiNb7VJUyC0F8mXLlip5/qWN8tFHz8q/+lfvyH/8jz+W//1//5n8p//0c/k//9Nf4dr7sm1rPeqAD695jmKP76WBModAohacvmdK0sVzV118wq5xNR0dKiWlJeao8/TNgXJi4KOVo2OTqn9orgG4+MF0Hi/61fJj+rFR7pc2rm0hJxJVPXV1bykQ8MFrdLDQUe7TMDoGl8/84I8aedwSIDeakXJhkLYLKwSu+E75cWCbzgx2497r9w/44P+SgDaE9catGWizCaM9lyxxI3CZ9cw2zR9IcqN8NBftDo2GzgJ1GOhqMhJjSEleQVQqqophj/hG71y1SdVqkxgiUl2D7xrcNRf4Q4EXalI4JhFwrIFtStu4CNrDrETdm8A9FMCglpeVw+5wzzoUMMN5yCP7P1j0+Ky2k1gMthpsWwy774MC8oSkcGULwvVLtJN2jxTyIF+1fZA3M1T74v4cGVzPhbyKiiJSUR6VStjcysqkF2CTM0L2dZ7HAyGh18yeUz6QY00E5xEpKuaWFGbHCXNGFaguOJ4NacYQzJlH+XD/xFjMDEowNldG+o/+GlTcdqZy5qPSw8Mj6uhlPDoSTQpzgVfdHSTWvgeyQxaUJx1obvziSdKieqAm8n5RUQFkgX6xKhdyCOocg/WNfoAe3hMnGNd+uKqETBm3EjQLCkw+Kx384Y51wBW+xSVF0Ec+IUC+Ta72Z32n/igCeU5NxmVwcFImJ119s6wMhDsG4e4HQxB+ndJusG44HtBVjNpuMuuQ4PiGL9hhHVZXw4ZA3yug3xUVDEkEvnWcISnluFaePs4RkK4sEMpJqwo64tpEsHmHCBEixBMHrKINqhXpceAyINtJttqQzf9yyelRYTyuXjk/SeSkgs/thHgCcMNAVw2mzNkq7e7y6N+zlO6MH3z0h2+7/OSzY/I/f/2FPsoqUopbeV5M0sZgnoYPZ1b7KSkrKZQPP3hT/uyjF2X7thLJL2Ljt3t+ww9yNB9cXMTG7ILOkr6ecfn8sxNy4MARudUxCHpc3cbHAyPpSS5Hi3yclY5HrnIrK8uVX/zyA31L7Pr1ReQUg2kbSJujLoKJz4x8e/C8/Mv//FLOnrsh+QWYWehekh7ACh91piNz29ZW+f/9f/9X2bmTL+3AdZSJq+M4A9K3amoqlxL5gC/dGwqfQ0MTyOOgfPrZYenumZBkqtCMjkanPHECQXLgvXHDOvlX/+pN+flf7lVJMArr4+TJq/Jr1MeJUzdkeoYrPQpRHsuP5VfHIyZYpWXFsmPHennh+R3IZxKy4JtrOGGgrPwRteaZrhby6svdQMcB4GaNCCwz9wJ95pkdsnnTenVOmxbk6Mb1339/Uf7v//t/Slc3V9lwFSKCwuin+EbSSEL27dsqf/VX78mbb26WorRjmHEWB+6Jea2tW/7xHz+Vzw6cAM1yyclFpehj+Fy1QGY5SU4JFzrV1JbKli3N8uz+zbJ7T6vU1JQJN+rPw0SGK7U41+bklE6JjtuD8qt/+UwOHjqHiTV1vljrSv0UJAt9iObG5YUXtsv/+X/8EvpQptpnkzSThXZ8+ItNTMnRY+flH//5gJy/2I3bXKFImVAvTEf08cvZuDQ0VMi//psfyV/8xQtSUojrSs/pFSXE7wS/Wx58s/DJk9cg83+WG9f7Ud+gH+EbehEftAmSSSSmpaK8WP7yLz+Un/70RWlt4X6uuIebmfXun7N9uEf3uK/m+Qtd8vs/fK0/AEzGuHq1CPeZwihoQFn4dueXX9wl/9v/9jPIvAzyBwNkAnXT0dEr//3vPpWvvjkrEzGu/CIf7tFqLZU6NkpL8+XN15/RF7Ds2lWOe548tEzIEXzxjw4O0xrHgdHgn8GuLQQXi/k4GAWnkyYHyykHk/Bx2KIf5F9+/aV0dfFNuIVqi1SoCui62pqUNDfVyE9/8qZ89NFzsq4RdgtCU3vlonrQvCnQBwJlAEKabyZBfuOPNlfb7so//+pz+fbbsxJP0HBxxbjb78Dyi8enpbqqQH76Y3vRTesGe8uzz06WXHiDuqvXUW7Yv56eEX2z7B/++K3cvDUgeQVViJP16wLSca/VlpZGee65nVJdzT1IbTUa2y1fIGZtg2DJTIbMx0TrlZN6qbrA+zzadW3vaM/rmhtk547NUl9Xoe2f6O8fk88+Oyp/+MMh6eyMSUJtsOmPSZF1ltR997ZtbZGf/eXr8u7bO9FuAjZTxcCyKzN2rjzw1F0L3mNckxLlND2TkosXbsmv/+cXcuTIRdh19FlorzkROuoRD/LR/SiRoqQkT3bs3Ci7dm8Ubos4O8slhq68/K4HwE60P0nDaGTCZEQ+KSe+6GXb1o2ydUsT+m7oBcB9IA8dOit/9z8+lrbrPdAfygj9TOCPMoqgrhrqq+S9d16Wn8GebNpcpunNhjNfnxfKTLkx4SmfXFTadrVT/v7v/wC9PI175dqfaRFAQ6mgP5yJx2BD1skvfvGRvPPmDqmrpb3gXdr4iL5o7MTJy/Kb330jp9AvTk7xMXC+xIy2i7KkvMBvZBbjgRL0Oztk+/Z10AlutcHV+15fofwiz3Qd8hptI2H3jDmCBSKPdq750GaVFMvePTsgz3WSx+GJ3mffndK3kP/Trz6T27dHEReyjqANos2YrOyphVzo6d59m+XnP39PXnl5E+pEqSOOzwey0qP2L7h44POj8j/+4TO51T4sMwnY4xzWo8cZ5JdKgm4kKdu3rEc9vSPvvLsNfSH6NJULpJjMkRMnLqMf/VhOn22XmRkyno/gdN7KSntbVVkq7733Cvh7UTZuLFOZsuwPBiuJJQNdLUeOjIxMyu9+/w1sx3fS0+WNj9Am1Lao3JkX953MxViuXnbv3Sx19dwrFGMbjPeoE7aNCW0RDk74zMidZ8H00eqR9c6xIX+/4767e3Zt0Rdv2Y8wjLEwSMmoMUv7CxEiRIjlA+1NaGfWClx/mjmWmxt+XP3U86cNuX/7t3/7X7zzVYMHqeSVCyuDD5bFhjxu4DNX6dw1/56lcORUJhh88vHfwcEhuXOnSycLnBTqqjIXH+BYndeI6alpGR0dwwA2KYWFVVJexhea+I4+ZqBiZxpNgS8cAHqDwDQDGECa44OPWs/KnY5x+erLs/Ldt2fkdscABsyYnHKjd9LU+mM6coXvOrGKY9CYlJ2YuL3zzouYvNTri2IwFFfqOuDlH458nLr9dq9cunRTenqHMAHgpJtldCCz5MVWe1RVl2Pw24DJIFdqeDlrZJbNysDvHIRaPraxf3v7kHzx5TG53T6gj6nR4aL3QVvlrZiVgvwcTPwb5PnntsnGDZUqL8c33wZ5u+Ou3L3bi0kWJ1SYrQRoKBV8cAXB9u0t8stfvC/bt7Wo023L1nWyFRPqrVtadGK9fWurHrdsxnVMTOzeBg2bN22Qbds2aVwNW9frBFCPCJs3r8eknqtJmT/yBI/Mn/tddXT0ycmTl2R8nA4F3vdm/oBGhRzpYG1oqEb9bJbW1irJ86NYGRZEjkzE4nLlSrt8f/i0dHePSm5eEeRBfdDbCBQc6yAldXVl8u47z8tHH74kL764Qza08oUeReosLykskCI+IsyVpnn54CVPX7hw6tQVTBR7JJ5g3ZucNRCgy+0Imptr5IXnd0ltbQFFwBv6yZqw+qB+JbS+Lly8Ib19fPTROds8Wh6fNrHKQ71tglzWQw+8e6BpemLn1DHTF/KjSSHrKbl1swP5dEsCk0l1LDEK7ikX3oogBq50qautkPqGCslH27SIFlknwlx1oitPcAiUeXg4pk7O4ycuSV/fGOIyD7ZBL046jxT0L6pvd379tT1SWup4B6Cno6MTcvbcdUyWIds425nZFAfySzqcZG7Y0Ci7d22Q2jpzjHgFAhjL//QupsHrdu9B4PEYgMpDj+7TUTVH+40bnXLp8k3IP4GY1p6dvAiWg3T5kobt21rRlpr0BxFCY/lRFY72gwV8ap7+dwd+o/9zYHBMLkL/2iHzVIq6ZyuEg6Bt448KO7ZtkB07WqSiwlacMmRSJaiDTmKsO8gF9c/V3f39w5BLu/ThmEMHC+qXE3uTHAISsp3W19fKq6/sl9df3Ss7d8D+0EbBxtC+qC3SI22OBbVfWzaqXdq8aaNsoo3aykD7xvS0VZQx7NOm9dKyvl4qK0sk6q0SZ+50VJO/trZbMjTMldK85/Gvf4TVOstD51xjY7XU1vAHA72JG3RWIShNxPTaiuZAmSJith54hAGcIMnk5LTcQVvtuN2lq8hUTkhr9YgoiEMHZF5+LmzBVnn//Vdl/7NbZJsnIzq3WE4rt380udGub8A1hM04h7zMlrfiGu7DdjPuNpxv2tgsjfWVUlxEx6flzVX1/QNDcvHyDa1DOqdow62uDYyqbT3Jx3bzpAl2sKmpUmVNOhwTmFwYmJIB57QDkDffOj0wOCknTlyVY0cvyODQFMYangy82IioJ0n05dXoc3ft2iIbW2ulpJhy4l2LxbPx8UnpuNMDmfbIZIw/brE8zqZQV40qtwV49tm98t57L8vePezrqFvNdoQ8VD4aPHmqvCk39ImbKU/onzpreY33vbjad7aqPOvqKtR2qQj4AfAHgBs37qIPuC4jI9OQHfsT/sDpdA7cQZ7svuobqlDnm2T9uirrAwCW1UrgSm1yJv3roHvu/HXhG9FTKdrkQGeKyEoXcq+BDLdv3ygbN9Zg7OK1fVyns20EY7Zr19t17+4433LO8Y/WBe0z82Ebjuh+rnw8u7G+Du0X/Ue+tR2zc1bfaVvv8ejsg9oAJ5C0XuCOloN7f+ZJZ2ePts0R9BGpFPOH3rEemU7Lwh8SI9C3ennpxWdhP/bJrp1s883QZ9alV3/ekXW0RdvEBox3zF5sRf1toR3BkW1gO+wMj9t4ZNjcAtvRoD/UqT4rlw8Opnz41CsfVudWNSzt0wC/zE9HeUNwPLvS6zvUxTUFrzofROdWqn7OZy+X0o5ydBHiiYEVaZVJ2IDHfWbCXcu8519xA3YqB1ePtLbUYdKzTdZhcsFVAvoLPBWHsws9eGn1gI9IVDq7B+Tbg6fk409+kKNHe6S7c0amJvkLPAlz4sBVZsyLkwIbTmvQQSsJ0dmTIzMzszIwMI0Be698/PER+eKL43Lz5oDMxDFo5y/iyMspb7D0ptcpKS0tkmf378akoRmTasbhDTd8d2EBIIrGRD5MOTwyLt9/f1KuXu2VsbEUJogsBwfyPDIBJ1g2ydIN4DFgp+Oxt2dMvj90Stqu3tHHttXxyFV2TGRFAJhDSgf0dRjY19SUa1l0UTH++Sh8TW2FNDZVS0lpAfKmc4+DfdJz+SMqsp+ejsvoyBjympLaakwW6kqkCZOiprpyhDJprC2TBg2l0lRfhsDr5VJXU4KJaK7EZyb1LdR11YiLdAxN4InxmhvKpQFxS4rz6W/S+WSgEMuGoKGiXKamkpgkj6JOJjBxxaRLeSAzVDRObviNE85cdZa+8caz8txzLVJfky95qua8y8GF50zw0tFZMz7GxwmHoYNxy2zJikf+XABMeMY5TukIHxvjWz/tKv8sDsvjpQF4xjbKwMljNepp46Z1ksdFbaoXKIve9xhHAuojVxBzEnz61A253R6TaTrBcdv0h8Fri0ygSfEBGnQkc5XS2bNXMUEcBB3EAD3jyv0ZuKqtvKJY1rfUQk85iSUrHh9paK52+kAwfiyzh0m/EFjuQHjscPXwYGG5MZck/Br3Qec5X+xF+8UfJsxGQZ+URy8gGW3a8PCoDA32wY6I1Nfmw6aUws6YHWrCuQuNtFcItF8NteVSWVYEnYfmpeK6Wq+uhvcrvUAbVSlNsFFVlcWSj4au/QqNIkCb1dhYKVVVJRLNI2dcDW730vxRr2G3R2BXrly5KefOd0hfP1fSe7FUN/glBVXkkd9hPRKzaCczMjbKN+WmIys9jaCBzr2IVFbDjjbXSWlZvvJAO842QhvAeHT6aHulPRgdU3tcURaBjIrT8mikfDzb3ay2mXa6XG17XXWpFBeiX4KMCvJypKq8CHbP5NuINI31OG8ok3r0C6WlfHrAyuNqugR9Z02N1aFdp20MgnoXkanphLS3d8qJEzfRN/NHR9wycXgnSAt56QoziIF6wJX6o2NxuXatS06euCKdXSPIn85dc4gZB/PAF6MHPlrPx8dR9gY61fJQd6gr1Ddrl3+EJsFpPB6Hzg1BrmPaLzbUFWkf6EJjbQlkxEBZ+bpXV12C/hCSSExJIbqa2spCi6/3Te5NDZVev0inIvO9b0keHiiMmtMMORgeOEf2ETiUoU01NdVKWTl/5OGvzK6+mQmdgDZu44/Kt27eQX1fx3FUx3WEjecQW/nCNQ2QV5KPaqdkeGhanewE41iuTt/sqE8nQOdq0Y4L6byl3vA+G4X+My5aSyKONjGOMArdjktDTQFsg98m0vqN0ITQzDaC6/Wo28qKAoxrbZxVBl1pwDXaFLM7ZRa3oUKqKop05arZDYYQ94MbizwteJrKGiJEiOXA3DaTo7/Fjukf1/j/YfC4bKRO5RfCSuugrOK8L2sITsI8ziXt+a7raFGDOf8IvvV0+7aN8uyz2zAg5ICUG3JzcOpR0IPFdY2Gl7p7+uX7I8flt7/7Uj7+5JycPTsiXZ0zMjKUlCmQmJnmr+iYnKYwWUBIJvMwwcqT6akIBpUp6emZlkuXBuXrry/Ir3/9tT6q3H67R2b4JlV6vDiR8SYzLm+Cj1vz0TS+qGXT5kblu66uUJPoPovusRwv/sJwkoLuIq848m9ra5dvvz0l584NygAmpfE4J1QYOc/mYRJVgLyQ+WwUZYrI5MSs3Lk9IYe/vyrfHzwng/0xlNdWe6WRrgwMirnHFwbFzc3VUovJJNl0espHgsswKeTjhFwJwsfA9aUyJMCiKQWWU2R6Mi63b3XLt1+flqEB7ttE+iwzys42qBdYn0zB61y1OCv9fZPyw5E2+d2vD8nBry/J3Y4p1AmTMA55puyYho9HMpAH8oiPxwgWYSaekIlYDJMabjoPBvDPaYVfv8YUV7u0trbq/qW2+tX410DHY9ouWVpuqt/VOSx9fROob+5bxgm40VpqpOdpUOZITp7uNdfXN4p6mFJHIfnh6g+TPSdkdLizEK4uoBs4VFQUy4aNzXrkXlVsByoN9Q6jPeObVZI5fc6duwqdvCw3rk9JDDpqPwyQHmdc9GDyOfh8tFG0x5GkXL08IIcPXcKxA/G5soiP7UHzIDd9gYgX6EThSueGxmpdceJemHQvyJFy9ZBYnvpQuo61DPaY33LludKw2HIGZWJtiC8Iqq6plHXrG9UBnUryUWp7JNLZCLa/VDIlA32DcvZMm7Rd7ZWJ9EvK2N5MXxnP/njOPolbgczK9Wt9cuDTE/LZn07K2VPdaCsJtBtSdnBprAK1aYNP+yZSXl4iTc21UlLClxlZO8kuC51m0zMz0tHRI0cOX5CjR29Kd3dcplEcWznKVXq082wHeTIzk4v7MTl5/Jb88MNN2M0x9AuI5sii8NZHmRxox5vW1UtNXYXk0gnKfkudkPbH5q4rSWGT2293yamTN2CTJtGngITSoYxYJv5Zu7PyWd/N1XWnT7bLJ386Lt98dUVuXBu1dq5+HrRz7QvxxQVjkgQUZeWl0gz+Ssu4bYYmStefy582i3U+ODgiJ09ekIMHr8j16zEZG+fbk1Fa9IE5sCER2BTaNsoqgT5/CGOAK5f6IdfLcvnybX0kmSv46XC9P1hCK6XygHJY3dJ5ViKNzfXQvQq1P2r/tFzGO2VF5ybf7H316g3U0w3p70148mS+1DvGhoyQjn9GOgqec6Svd1KOHbkmf/zdYfnumyvQi5jqombhgXWgNtCxuMRwZJeSvNGaRZsokw0b1mNcUYm6cHe8nLxOytow+o+hUTl96gLqz/RqfAT1zdWxupo6D5K2dpGMR2RoMCGXL/Ui7lW5dqUP4yEIDLrn+jTLBX84YeBq6JaWJikp5SPXvM67meAPdL09g3Lx/HW5eaMf/T9lbvlrwyEhdGjWpqyCeGkyhrEbbM1XB07DdhyX8+d60E6SgTblAnMkTS//bAZCKGxc6mT2dMDNN0I8LXA6HiLEUmJt9yvsNx3maj9+3/HoeKDHrldCYyYLTkBrx7i4ctgx85shW9/9mF4sRODQMH0Hsiks4kQrKjdv3dLVYCl1fHCgx1Eq4iGOUybS55GTCT6W2NXZIzeud2DwPoLB/gQmKnxbIh8fTulgkI9ITYwnMUiNS1/fjNy5My5XrvToyqzvvz8rX399XM5ggjqBeDkROvcwwFWHivHH/Dg8dd/oEKPzpbGxXN7/4BV5+ZVd9tgn73LwzEmTfdNPTqDu+9g18/HKZn8RDFZT0tPdh4ErHYl8IQbjY7CawvQxPivxmZRMoWwDKE/b1UE5dPCcfPXlcbl1sw+yw+A8gkE36KUbqFcW8pQbnZX166vltdefkV276nVVG6Fs2Jk63Tq7BhH6wTtpeBM3E4YGPrI3FZvBxGBSamoapaq6RPILIjaxoLeKwdUfgnM8njx+VT7+40H59utTmECjrlG+oiJ7U3hePuWA6IBx7vj2ry/82LUN6DmJsceuNy36sWvWgQMdrCOj09CVW3L+fBtkgvrKxaRHV89wpYYXF7NtrsbiI3s7d7aoLhg4OXU6QP4pC05OZ+XunRH5/sg5OXf+lkxPg2NOnFFnLGSaA6S1x66r5YUXdt//sevE3I9d22Tb44H6hvj6SDq+l5dz5RZXHlkdcZJLxwEnz1OTCcgZLCE+2WIC7tFKvbjVfkf6+kdwThkzD1uxokQZFWkovLHRGNrbkLbBaG4J9AxxUKZUkjqckumpJNplQnq6puTM6bvy1RfHUadXpLd/HPKg08Z7JBdpTI1AF6c8cKuF/fu3yXvvPi9lXtuzcuIMERZ+7Nro8tHF1tbsx659MJ7Rdmf2jUf7e1D46V0wKv7RzokHfOy6zB673hJ47FrhR10CGH9B8Bt1h49dX5rzsWvTVx7tsWv+2MTHrtfrY9dB3EvZwZ1DH6FHlMHY2KTcvt0JfR/CNTokmB/r2NMDIAkljsUmJQf81FTXQi7c8gB3cdskzj/qB3Uzoqusbt0cgC6elE/+dEjOnr0lo8Nxtb+lpaXgPRfnpAwC6ozw+XKwNhmR0fEY+ho6H2Kw59S/fI1F+0Swr6AN5QryoaFRGRwYh13nG4Ht8Wuu3KTN5D6oo6MJ2LwxOXbkqhw4cBRybkf6QtjdGq1rUwejTGcIv7O9JtGge3r7pbOzT6ZnaBe9NmACUHBfRj6izf1+iwvKYBMqpaSULwNysmFEBpMTbcTISBz9Zzvs+CG145TZzBRfBFQqpSX52g+k+1AwZRYIefPAb3orV0bHYmijnVp224eT/DGS1YxxgHpMUgYx6UXfOTFBR7OtYqTuU0a0qXxBFe91dcbk3Jk7usfjD8cuygBo5/IpBrVRzBgE08AX8Oc/dr1ZNm7wHru2u/aJdHz5FVdh9vYOom8e0h+QKGOLhftKn/Kh7RtH3zgtFWWVUlNVLgWwsb48ERDPyZarWft6JuXEDzfk008OyXffnJSO2wO4ni+FBaVSXAyd5epaytMq2FjiB0/1YP3rjRsd6ceuU3TMqn324iFQXvd77DrzjGWy1FzJfv78DX3sOvmAj10rNdCJ5uWhnxK0iV6VIbfu4A+ojGF5MZr1TTRp49CNQb48D3YvleKPu/zRCjoM+XL8wx+oeiC38+c65JuvTupTHyPD02gT1VJRWaTt3IhaDg55eQVob2OwHV2QE53t1DCrOwMLZP3gZIz7WBegDivRX/LN8SYTj1k9Zz3SMTk1mZRrbT3y1YGT8vmnh+XsmZsyPETbUapbK7CfdbbLcaR6kM73wcHc+fc0QGWtslv78MsKRXxK6jcEEdZ3iKUB+1BibdpMr3DA4yjfopyPvtFeGVhp/Dw8XBk41MksD79ll9Cpxr0xvQNCOg4Grdzjp7S0RLgJ/82bt3SQzz2bGNEcB14iHungo1xxhYP/XE4KphJy42a7nDt3Qa7faJeb7XfkxvW7cvXaHbly5a5cutQhZ85el5OnLsvRY2fl4MHjcujQCblw6bqMjU/rXn656liywaEO9AEOqpVPfDBrTp65KrO6ukheemm3/Ownb0pzozd6RyTjikcrHb9xcLmoPR8ZkAkHqPzjnoC3b9/RvTC7uoYw+RzG9yG5e3dCrl0flLMYdP9w/Kq+/fvw4dNy524/6BaCLCeONllRuTEoffA0y8l/RB03r766W+pri9XJZsXlfco0gsljgcQmZ6Tjzl0ZGhwBCUwkNHi0WDyUiy9FoaOHTqZIpAS0iyUP4uCjULjFxQG6vxMfh+ruHpejmDx/9jkG5mevYdCfr48032q/K+MTMxicl2MiXaB7kCn/nBAo3waVLr76zseL+giicz5S5k7urLeFnY8WNwimSQMTCr6N9uatDtTbdZmZhhHSfdP8SYrlZ2m4MoZ7PFVX8u3a1ATqrZOb7UE2PZ3CxGtMDh66LN98fUK6ukcRp0Dvkyv+paciLIPb8/EF2/NRL3v5aU1AIPzjno+dXb3Q5xu6qpErpThZNmrk01KQd+rw2Pg46g0TZMytpifzUc5ZdSj0909L+60huXq1Qx9/4xtKCwpZDsoTJcqNqEOso6NLRkcmQJr3vAku7tNZSb75x0n1MHSnvf22Oj96escxqR5G2hHIdEguXe6U06dvyeEj5+Xrb45Bn6+CBzAEvul4dHKmj4fnlsesPua6cUOdvPfOM/LMvkaN4+D4yHQ+8irbtcnY5IGam6XTOCqtLXQ+tkptHV/Q46CUvDP79K8Er82HoG5ZLP8Kv/vBqDha/HQxg87HG2lHu5aDcvZAXWeaOZ2PGs2P6xDkjrg3ho8g3xaPn5lX6XwcHBwN7Ploeu/0z0uoukfn4zbwuWPHOqmooEPBx7188Ip/VfUdX/l2cl7v7RuEbnXJ9Iz9cESbSs4YR7ekAKZiUzIwMIS2x36mGHaGPzDxJRh0ajHwhSMpGYP+X7nSJ18cOCHffHNcenrGIP9ZtKs+6e0fkkQyCrmWS0lp1Nq38sLS88/BdItvcqb97e5G2t5+debbii0rD/nzzvDHPYcT0tPdI7du3YatH4SNH1Vn4+3bI3Llaq+cOnldvvvupHx38KRcbetAuYdleHhC8tBv1dVVS0kJ26EyoOAjnzChKGuR9SMdnTIySicopUP9sfbAbQ145CpROsyGUIezqXwpLSmV/HzPhiNw1Zk5QhOwL1Pyw7Hr8sc/fo322wa9TMrgsDlauT1FXn6JlEMXC2E31B5oSQkrNNsddTa/gKsUE+hjuqUbMp5GH84fZ3y98VKCBuuSfAwODUG/2Cf2ot6HcRxBGMW1UcipT06dgj05fE6+PXgCfUwb+IlBDu6HHaNpRD39VQfy/M5H5dc74T6VEdT7ZGwaeffI0NAIrrOMlD1pe/RBm+UbHBxGnHHcgywLClFXqBUQM3myH4M8Uea7d8fB81Xo3VH0M7ehcyntFzvQ74/H4ipPbu9CeZIPXYHHJqV8mV3mdXM+3lHn47C35yNtMyOq3mky04v6es/52Hzvno92Zkd91BlnQecjfyy0HxUMvM+XqERyUlJTXeE5H2uluNjJA3EQiT8+5SCMT0yhnxnUH6eSrHJPHxWIp/0M6NOsDQ2jv7jTqftsciuOu52jcgfh1i2Mf863y5GjF+QQ2sQpjOs6uwbQ3vr1R8Ka2lqpqDRnoZYB9FVOCNwiJZGM6zist2dYnciz7KtV91B2FgiBTs7Y5KT09w2gf0RfkV+KOrB9S9ku2CYY6KQche24fLlHt+059P1p8MK3q1O3e8Bzj9qOklI6ITk28HhRyTE8PKxmH41GiJUK2hGqZFi/ax2ujnUoB4R1HuJRQR1aq3q0mHZi86KlaUvqfFxKgiEWCydrN8zJHO7w/H61kXkv8E0dGjzhr+acsOVLbV2NvlCg4/YdDMKncSuCe1zF5Q3YUP10lHECoyQipMFflDEhzOPG4TkYME5hYDkgN2/dwYSkXS5evq5OmctXbulEnvtFjo7xzbG5GJwWSiTKySjpkx4bLAkzD+ZgvJnDB2E2IeUV+fLCi7vk53/xtuzcXp0ukTsynj98RwB/i3Y+ps8waOYsAceRkXEty4VLbXL+wjW5cOGGnDh5EQPvs/h+XTp7BoV7V+bm8TEiK4dHSg9eMVAec5w2NVfLjz56Vfbt2YABtRfRIiBPlj+izmBuzj40OIjJXac6d9XJpCs97FGmHNYBMktikD6IiRgf3ePkoK83icl+Uh9V7O6ehsxH5PSpDvnu23Ny8OBpuX6zWxJ0TvCxWkwypqaT0oVJehfKMTWdhwF6GSZbtvKGJTDpe+c4mPOx13M+upWPnDyQH5M9645x53I+kqInlcDRh9oYJObf1HRcnRttV2/J+Oi0rqChfPyJJsEJZQoymlHnZGFhpXD/T66A4cQkPpPUt6X29U3LufN98sWXZzE5PqsvNeJ2AHSaaG5kKw180fpIaX1x5WNdbQGvAkH9sivMf2BoVK5dv4s6IF065THpJq9pul5sZMS3k/JRxtu3u+XqtQ60jQ5MLm9hEteGifAZOX36AiZLZbJufYOUl/GRRk7iBDLE5CkalZ6efunv7dfJczQtE0Swf3yn/oIHxI0nUuqEuXLlGsp/BeGanDnbJsdRf1y9erXtDiaZfGs56pBOR9VhV0LSM9pWLUmpri6R117bJx++/5KU0uli0RR6jrTmfLwht9p7PecjHQQefxaJH9D/XGlpqZdduzZIPZ2PXqZ2V2slcLTrduYf74XjnEdL4a44ODr3p+U7Hy97zkdbTeg5jbxUlAvBPdUynY/BfP0cXVvKDO6TyL7nAsFcHQWfkjqGBkd15a05H1lnrBvcVYGbLNT5WBjVF1XZykfqvsEd54fFYD1yAl9QkA96s9LV1SX9/UO4gwYOnbN69myrCoBynFbnfMedftjfaemHfertm5He3jja4bhcudwnx45ek2++OSWnTl+RoaEY6OSDXJ4kIeCh4VF1gPClJbnREn1UWFf3IS+VMuIwPysveQQ3aCuJOJ2KvbCjY8J9COm00TgamIbX2H+xfUW076LT6eKl69DfNnWgnTp9WcONm50yPhFH0biHY1TGY9PoG+iALFA7x1WZZjONL+aRB6OXjzA0PAY59aqN4grD9DYLyFOZxRVdXTgyBnvfBR4GYa+SCFxdNoX2Oym3bg2Dn7ty6NAl+ebbE/p2c74oi6vB2S9MzcSlW1dZ9uv2JuWwH3SKRqIeP8yGZeYpPjRX/pgxNa280fGpOqP9Pe0Hk9ifag/tAvp5PhXQ1zegjzafv9AGe3Id9uSqHD9+QfvFq23tqKcJlBNjgijqUHUCaZk9KKX7co82Yc7HCtm1c4ts3OCt2tMfohgA5TdHZcn9NIeHR7RfmIzNSJRvz1Z5GrRciM9+kXp5+/Zd6e4Zk75+viiJMo2jvJNo10PoF7lC8zxkekZuot3McLU55Qk7GINcujGO4Y9JiUSB/jjLfjG9+s6DnWc6H9MrH9N1rDEhE+7fm6NvEN+5w1Y+um0r0u2Zsmd5GfQ6nY+daefjLPosOlwpGk0DOelqerXNdD5u8lY+Oj305Ihzrn7Mz4+q7DogF65gZN8tuqoRR8YEjyp1JGWdx1nf/cNar2fP2xjozJkrcvzERYztMJ7qG8F4Am0Icvv/s/df33IcWWI+Gjge3nsPggBB7z3ZbHY32WwzpmfWb6ykB92HWUtv0h/Q0pL0Jr1q6UW/F73orpHUd2a6p70l2c1uetCBJAiC8N4DxwM3vh21T0ZmZVVl1amqU1Vnf0CczMoMs8Pmzp0RmeP+envu/CU/5ve7lStX+vFlpFReErUn5HFkZET0iJMnfLvzfZv3r/IAU86KX9ofO7fc9evXfd8/6U4cPy/jxZnTXMsn3NnTk76vXPft8Lz7/e8/c7/8xZu+HR50Fy+Pek2E6xj6TZ+74NsKY8fly7SVxX5s9mPHEHptaNehfBqDGgq1ZMRo/+ju+0XardXtfELG3B6qc+1/YG3ZaBZF+kkz+5IYH4nLGvFcQJkHp6WvqpOeKQZh1AVCPDw573MjC4fc2jVrvMJ3w98cnpVZBuGGJKQyM5b5belQtMMGJZLZLziMZDivBMrNgXfMBEAx5CbQK4e6bCpE4f9oVCjApOX35Xbl5pT/PemWLxt29z94u3vhRb4Mus35+5BALJh3RAESnZenPuMjmSMcP0p5uUXe+73CjHF1StwkH+TAMOPzxEwxeaLufwbVXeXxkUhYfk+5RYsH3FNP3e+eefpet2E9MvjTklduHriRCHJg+ORr1n39/V7RPueV/4teQec85cXNq3bsUN7M6mNGw8mTZ91nh47K1yRlufKHB8XAxIzTTw8ecxcu3HBT015OMTJRB6GeuGnAgIkR8vq1Ubds+Qq3Zu0iKQNSmfnrN+ll16WZj3KDiS/ySX7xy8xHZnjsmDE+hli0bMpJlFUc5X7L33Bd9TdfzEg678uY922GMihFFjz7H2P+ZvGMv1k8deqSd/6G/cQNd+QLf9P0yWm3/92j7rXfHxDjKzNwmf04zXs5xaDL1seAzCHGEKdPe+Zr1w/tE+NjkD20r+A37HGUr5R/ceSU3IDSTsI7zko3dH4v8SlR+xu2MCP14uUb7vSp8/5G6ow7fvycO336ghiT9tyx2+26bYsYskLZUsx9/sZpSGaFnD9/XgyY3PRKHmgL+MKj/xOKhbyF476H+7rHoMsyz2nHhyOmb9I/fftFVt/WtCyClEB8HCAH0/LxjHvuvs09/+X7/U3uKimzUo7kL9Auy2c+kgfaqggn0QLLrhPjI/1Byyn8Cx6D5/hXOFINlUd9asmn41CXJsnL6Oik3PinZz7S9kIo/oY2y8zHtPExGQfilIJLWhCOvyG3gfhccKH9xCWSxMBfNT4y85Eyl5mPMk5Q5uLJExsfmfkYjI/hTH1QxwMDLPMd9v0O49gZf81gVlYYj+Sdg1JGXmbZ9snsxgul5ZafHvzC98vDMh4z4/attw6499476I75cYUv3Ms1wo9RMsnMh2em043R0L+Z5Y1hcvXqFWGGnAgf1W5I1g36foKh5caNG2KEuurbJON4MITRzoNsIp84wiF7v89HeA/g+ATvhdT33ZEW1yyuYXzYiWXGN2QG8+DgiFuzZqXMjvNdqESQaWThQum3zDZjtt64vxbpNVAMP5JwqGGaEuV46uQ5d/DgEV9Gn8s4/sEHn7l33vlYZph9dOALd+78NenLcj0txcOsvgkfN+PlqRMn3bWrY758Vvg6XuSGhskn0iRw7eL9nRh5GEd4oDE6xgfnkClkApkIKP+0rPy+XPd8HigXlpPf8OMJ4wrXFgxZ8kCHa4z3L9c3ysIHDSUS1ZXEc8vX71SY+XgHMx+D8ZGkYv/8Zcbr0FB4WMT4d54vdft6SvokZ5K/jLGUJ7NnZ8rzAOV50L3tr18Yuj/99JgsDWeFQLgm+rjkutgn18WLl3zZ+PbNtW758mVuxcpFUsekAFomYnz8XGc+jvl8kwfqh7hKvv113jeFZOZjjvEx5IPfuLCvMx9ZpizvnhY9qoT3woNNwvMxl9j4GM6ny49XlJAEfen8eV674n9wHZS26OFkSNZviSPoCDyo5JrJ6oEbY/76MclrHOhHvk/0U+fI1O9GxyekT9ycHpTy4lULGCCRQx5a+y0PLgYHh/z4OibtjuX/QZfSsgoCiBHWFzYPES9cuOq++MKPHZ8ecR8zdvh65AHBm298KMZvHmzcuMGHiGgLXhbqEOfHItrA2TPnZIz0JeBWLF8iuhhZ1fE71GMtQlkq1I/WUTtQ/QiKyTu3SFPqAjkNo3dhzPCjlPVDo0spLbu2BtwZBCUEhTMPaqkep9GwNIcXgS9dttQrlhNe4b7iFTcMNbzcG6XcO/EbFEXRLuS3Vyz9br8/huGMp/vMYsSgiVGOY4kjGIMh4UIU8ifsiEMBDSKhsE77eKb8zd2Ie/jhPe755x9x9927yy1diGIcyA6s+kti8zIUNz4mKc/E4XfIh8yO8cLrzRRLwMhnOI4ffJcKUkIjH/5Z5jbtbzJuuj17N7uXXnra3X7bhtJNR0kh91vNgpSN/zfQ3++WLF4kN4hnzp72N5O+HqaImZuPEH9Q1P2eT5x4xicm5YaYG9DzFy65s/6G98LFS/L+JpZGeklCUO9kaXvJMErYyYkxNzFxzd9A33K7dq5327fx9XNI8kTY8nc+ouz7Gy18lLyiI/P+KDE+7sP4uCq17Jq4km3sgHRCWpQ3SxUxqn5x+LiPl4LGYOJvHMSr/1vKA7OwxGjubzK++OK4O/jpF+7AAb5ke8h9+OHn/ubzmMzuvH6NWbc+qM8/y6oxvCOwtCGJVISXTV/frZl3Pgbjo0JG8Rwc7YP+cPbsJZlhKDNVeSk/N3WldiDpSNy+vEtBpex932LW09TkpN/6OvKODxLddddtbvdtm4Lx0YcT47QPNjgw4M8P+xv9CZkBdOnyZVm2GYx7OJULyIQPJ4d9e5FzHupevFMG/rfkPZQ5f8id3wmOGbu3kKnP3XnnVvfclx9299+3yy0aKfWF4DmEFTnV+HiwZHykn3EjHsuGYymdGh93lIyPivqZLRpHElftmEsZ8iTGR9756MdAMRqRD85SH+Qf/znLrlOJpFPMypD+nT2b/EofVfKMj3Q22l5aDmboMkNvz+3MfNw6Y3wMfpJ8F4ExZ+HIsLwaYHxszI83Fxxf3qePhplo0rDEbxifb0k75yHBtavX5aNIGD/OnfVt+NJVd92HxaBHGAwOtBVth/L+XN9PJiauez/XfV9c4nbvpm+Er/Gr7DPt20OaI8PMhB7x8o278xcvuBvXR718tHOMKfhVFzYcIlwY00N/oN/J+C7ZCX0wsMD3Qb5cf9Vd9u19aGiRfJE5LHdGIkZb32IG+t2iRb5t+/CXL1/yfYMvW7PelXIKjrjCP8YDPxZPTcqMRIw4LB9mNtl5X78s3R4dnyyNX1yPkbEkp8h0048jvD/yshsevuW2bV/vNm7CKEpfxUfaDcjDjBGft35/nWC25XmZ6ca5mT4bEdLS63hIW6IqjW1y3MeJH8mLHGdsCg/Xgj9QGUL8Yebj0pll18H4yHnCJO2AY8z+ps0R36WLF92Vq1d8uyJelTf4Jnr889COd+VihL7sr4sYWs+duyT95Ypvh3x0CEkX+Ou5XEeJgT7tw3NdnJgc9fV11Q2P3HS7/HWb64E0z5BKSc78Zdcz43/JTzHj48yfmb/E+/77B8X4KH1bDIXIGPKKvIRPll0nxkeNji2y8tBg8eLFsn/+wnlpj1PyOoBSfZbqRGQuOdHlxPEzpIvfmX7CtjQu8mAMoyJ9Ymqqz/fRpfK+xsHSDNxSSr5NDvsyHXRjE6PS7lhiLRFI20EW4kMWSdRf43y8Y14nve7HjstX5IEs+g3G4eu+X/N+VRk3CEI2kLvkWGkwNnrNCzfh9cjFXrdZK++lxDt1D94bf2U/n+AvIAlEf9tDyA9b+SXHOhFpjyJk58poGPMDBgz+W180uhMu6UEpS12EjbkgXNaTeuC+Qp0S/BR1OjSFmyVuTF988Qn31a8+7PbuWe9v4pjVcN0rvslXsGkK3NCE24tw80EkIR6PKPD4DT4Sh2JSOqcOokzQzma+rOt17c1bVrtnn73fvfjCo+6B+3e5FctKH8Pgn7TJZkA84SYJRZn9sFQ6HAsKHzdYJaWbY30ovD5P/ubK31p7/+QPQu1gEAuGR+e2eoX3S196xJfnZrdwEX7i8uB3IHxNM6Sz2t+QPfbI3e6rzz/qdu5Y4xV2zvkbG18PcmPnw2lQbvx4Fxs3pVNe7NHxKX8TilGLFJiRU1oWyBcmkU4qkPSDcRejxMaNa2TmxObNa+UGmpDBVUNyGnZlmJChwqNhK4UngbQLN4+SsIhHW1y/fo27//673G27t7jBIX/wFm2QesFT+COp+LDM/rl6jZkuF92hz0+7Tz874w4f5j2d/qbz4oSbGCeNfl8fA27psoX+pmih8/eySZngZpTm2Cm6H7bafAnCe9Z2797u3TYvN+Xh60iM9uJVkDQIKsXk2xA3vBix/R0pRsX+fj6oEZwo795p29Cxl1kkG9avdI8+dpd78ql75UZzYGDC550bXio7SlBS9P98HOHrrv6cbydidPTH+OiGODnr/3FMwoVEac98UXRk4QKZKff00/f5utjuVqwozezz3kRM8Z9ON7gQT8BnWvv4DBomDhsT+20nWXmQI7jkDHvqKlF+TmOCIrlLUq6XaiHrjy0L7ZF+tGvnZj+uPewefmivW7d2kevv433BGMimvfOtxBcBqcn41OfbOA8PmEU+yTtYeTUCYx5G3dJsOd8XeMYg7ZLwUoY3Xd/ALd9nh93OnRvd7tu3+b4bZmYrSbNiB3fLj2lD8kX2p555wD3k5VvNqxMW8PCBvoIxWf+VwoXG7J3vv31+jCkZzSQdOrr4ZNwN4zNtmvflsvz0F7/6g3vnnSPu0iXfj0QY2krwv3LlUvfgg/vcU08/4PbcvsktXkyPGfPRMZb5NPxfEDnom8xE9o7lqBPeC1/gnp7CkMxS9LDMOhDSkH4qY+K0HyMXyAdNMEIxjo+M+GtlyGCJIJumyfsM9+3b6Z54/D63Y+daNzg44fM74YXx8WHllMAaQSmU38gRv5Xy8fWFSGITk8IKIwoPb5YuGxF5GGv5nY5LHeg2JpwXaX0wRGGsXLN2mXvkkbu8TvCg27VrrVs44mXw463z4+0ClddvEUXGUz+28u5JZsUxYw/HrG9maMo5f72X+pypYxz1PC3G5A0bKc/tbsOGFeF6UZHyPBBT0jjLzyeUzoUAulNCW2nGsZGykQtK2M8h1Db+eMDs28faFe5xX9+U3/ada8Swil5Bv010GO/dF2BwBOV4aPsSm09OLtdQEoXy5trCLNJjx8+4137/rvvdax/5/WuOD6j5syVZbkm73HXbRvf0M/e5hx/Z6/sID/f41DzXTeTBF+0b5+vKjw39vvCZgcmqE2YkU4+i2/jjzNxHVrmGibz8oy/6NuF1tOUrFrvtOzb58WOzv37xjnHkKYFIhSCXOCBQ4YBNZK7SbQwZw6VPGobRauK+pg9fwpgbsL5odBupD86Ep1qth46SpMVFrH1p10NaznaRDCls1UE9kohfkd27UsDB/kG3etVKr+Sv8TdKI17JG3PXr1/xCl94eizGH1HUdXALT6sDqmz43zLOleLOOtIs3aQF2GrYcX8zMO6WLHbutl3rxOjx/JcfcXfs9TedS5hVIz7l5kjSz5R9HCMGrVozH2dCe8V7ZHjQ3XbbNi/HqM83y4d43yIqsGaHnPpfkmZQ+BeItstvjjPLxP/k5s2X1dDQlNuydYV77rkHfR4elhmc/dyElZR8kR+DUPhVSqR03LtFCxf6MGt8eXAT6uvhBvXAVyCDWq4GO/knMoXtjCMgW2T1ftmTIhbDEje/Y26Rvxne6W88n3ryXi/n/f6GblXJ+AglgSRenfl4Lpr5SH2EpXCUAekQP37DOx93ZT44Q82F8swnBOY88vPeNF4Wz6zA02dOy+xG3ucl7c+nF2LyjjA+f/KuQzHehdk+bFluRjF46X3dT7oN65e423dv8fkeclcuXxFjrczslaRJ29/I+H2Z+bhxtRgOkpmPKnmQUbZ+h3SZaeWDuVOnTvmyue6LmF+AfKWt+Oe39hn+shUBfbp8FGTQ7bvzNn9ztsnfvGvbIK4Qlvwt9WWyfNkyXz58hOaatIvJSV6TEAwmmlZo56ENUFbyz6ct55ilFiwGyTkfVAwzvu1iqFm2vN/dddc296UvPeBv+O/wZbfU+eKUMKGs/A9JTw7Jb76M+5688/Gs70OkQfsI6cw4H4QPzmyVD85sd2tl5mPo/xRPQupHIUrSeES6ma3GlBdjGHf8OTnJH8o1mfl49Sqvfhjyh5l5FMo05In8OV8fLLve7seODWHmo0CcxBWnmEgHeiZs078Csf/4eAnq1Q8lfO36gw8/d198ccbxLtPQJ+My9/3Bt0du+sOy62TmY8h7jXQ8oW5K57x3SpX+uWzZUp//xf78tLtx46obHbvm+2toi3iUdiLOyyNbX2a+QyYz6IgwxCv73gUDhG+HCybcwADLcofdXXdvkzH00Uf3uBXLMVgiczCI0H5DHEgF4e/Q4KCXb5lbsmSRGFeu37jsboxedVO8ymMmz94v/4MgJXx5eRf6SKhv6h0BNQXSpp9MTV/z49uk27xlpR/r1vqy0BmZPrj3T+jFCxe5FStWyHsLJyduyPV0YoLZXgw+wS9IPiSNUrq+jIJjTPMeSn0NH1JtUk6TPr1xeTi1ZfMK99RT97rnn3/Yt8V1bjj+jlMWHx9yjvh+uHTZYqmLq1eZSXbNTU3yfkoVLIwXOm6EWZQltDykjDju5XG8f3fSrVw5ItfsbdvWubHR636s9ddTefem70OMt+KfLEy7lfLBGd75WJr5KGcUwoQjjFSs0Fi6eIkvz+Uye3NifFTGQMpTjE2lAg3vZg1yiezIKmXJ1p/RShIfIW+hMjBMj3s5nNvlr4tPPnWPe/bZB7xsa2eMVjMhQ6WIcY2P7PFOaN4v6PxYwQxg+iBeSIG4Cc87H/fesSMz8zH4CDF7GbRcvfuMmY9+PL10CQMh7x6m34ZzzPhkSy7DOx93uB07V4WZj1p9AqUS4sQAyTssly1fJtfG8fFrvt+G64c+1FTSfYJTpBeurzr+JQEYv+nzzOAf8+U75tvAoNu2fYPXYZb5fhxEEgOxD8IS+mVLecc01/cJd/3aZTc+xkNuyg9/xOk9lvQKZFFH3THLVmZcSvqlWudP6BjSLxb4frFq1ZC7775dooM9+OAut3p1+KK99H+/DaVCHEUJ6YW/RpZsm4G8YwbQZygf9q2MWk1Kh6mTch2x01D5qstmfdHoJkrvfAwX/vaQ7uilft+BHadYh28umpYqTYnL/q7lxH+pbEsbyQvK3bKli93GjWu94uiV5GGWzY2KkjgxMSbLXFA8RannybuPRtS/UkVpfYV0ytGjLAVkUEdp5SaEJVrMDNm0aZm7+54d7vmvPOqe+9KDbvs2vgxJCuFijbSVylyPskW+WsZHuaiUZOB9QC9946v+ZmzAK8Pn3Q2WnbOsFX/i2TtJN0pFjFxB+Q158TeUbtItWtwvMzOeffY+mUm6eeNir/iLJx+K8tM4IOyLUu/jknrx/6mHJYsWuo2bMGosdNNTY/7m/oavgwm/X7px9eUfykV+SDyAmBKX3mT5U8FPUMz7+6dEEb9j31b3pWcfdM8+c6/buXN1kDFEzI4n5I24eP/SsWNn3ZtvfigfYJCXxfuyTJb1hTRoFjPvfNy60g3OzBgRIbxXyqAckbm0j1/yv3jRsL+JWebr4pq7cOmSv1GiHZL34FnaoEdKLWRaXKiTUB83b/kb4v5Jt27dIvfYY/vcQw/f429Yr7qjR4/6m1dfF/5mGN+aNm1hwYIpt2Ejy673uXWpZdcBqaOwI2XMO1NX+hti2vGpU6fdqMhJ3PhBHupJmQkt+WAfsXm/KV+4vmPfLnfb7s1u6RLNW5rBgX5pq+s3rPY3kYvlxnvct4vJiXHHctBQHz5sKU0pF8FvJSHNrd/Kvvd10//16ftbaTc8fNOX1VL30IO73de//oQvrz1u3dqlM+9ZlWYUUcqiDxuWXWN85CMOkxPkm7tOApYC+cDc5PLi/21b1rk771Tjo5yUeAJBvuDqQ+SRf/G2SEzIi6/wZfHPDh13B/y4cQVDO0spKVNikfLFUYq35CHN7Xu2ut2lZddylj/CzE4JLXl1uge6BS3kkJssobz7/Fjs3IXz4YMzh/04Nz1N+sEoEdq/j8HLy1jLEtw7+Nr1ntLXrjUJQdMpTwuSNuRh18fJhi8nr1270reX1fIhmMnJG26sNEZh8JSHM6V4Q//0u5IWjnHQy4gB0R8Xg6NcEzAOTspy/y1+/GDm4leef8g98tBut2q574timWCc1QyE9hwkKiVR+otxbfWaFW6D7ysYezCQjvlr2OSkH7/kAYH61riAmBLjCnKLLz8uMDaIkcWPD7xOY/2GFe6BB/a6Rx65023dstr3nVInCSEk1mAwWyhltGLFYnmohRxcS6emMGyX5JAyDnmRYxziH+XDP9KWfx6ZWT3pBvqn3aqVI26Pr9Nnnn3APf/lB93u3evcoBi2KF9ciDdNiIl32zIDcsOGdTLW8qqVGzcw5mHsok60zbNfikX+hB+hNXPOy3Zz0o9NvHJjibv/vtvd008/4JavGHGfH/pcljuHdyGGtklk/MMovFI+OLPLbd++OrzLU2JUMr98WWBAW75sqR+f14brotdLGP8mxn29YgmkgKgz76RoPdIMSc//EyMbv5CBcY+td9M3J3x5YOxmRuhW98wz94vD8DgwGPxw7S61Bokf+VhhwPJo3s/JsmteeyBf4hZflBMFOS3XVpZd771juxiK+ao5SB2Lb4TFv/7G+Fj62vWlMV/lvAuV+kAWv6F9+ozxoIyl68zQTL3zUTyFeAI+nP+LSrB8GdePNWIsn/K63egoS8zRK2iP3hN5EzlKoSlAfku+ojYhMSLPtC+/cX9+yl8HR/w1bJt75NE73B17N/tr1IikCaGf+XL09Tg8NOjWrF4heiazSjE+Sh3ymhjRMUkyBJT+EPZKjvOhHIILx6R+ZNbqArd583L36GN3iDH+gQd2udW+XtMzcJEn5LE4wXf94eYfMm6W6s8oZ6ZJe6yc2kMo5tmVdWfWVe2+Zm3M6DZSMx9bT1AoQkcJnYX9ZnccVWY03sbin6uLK2kGF/+Ljxd1M+EkHyjrcschhh8+fLJp43q3d+9ut2vXNtffz3KXG14xZKmnd9PjorCHmVLcDAYDYthnS0WiJAYXliej3Hpt3TtmGNxyo2IYGlno5EMn9927w33960+5b37jOXf33TvcyuXMJEHF9XF5ubL1lkWPSm68ol77nY8hTgwvvLvtxRefdQ/6m1y3gBmfl9z4+HV/c4NRh3xyU4z85M8ryOTB5905ysPfHCwY90r0tFuxcsDde+8ueccjiu96ny+5z5Vy0Ns1/paU+BkXkDohuz4QL15f5G8KN23c4DZtDkZI3n82NsZMEmTyNzvUhVf8kS3MTGVWI+XLjViQ8eZNZkyOu8HBSX+z2edv3Ja4Lz3zkPv2t593jz56l1u3ZpHjC+bc/EvigsrEzUKfv8li5uMp98ab77grV5lB5OMlHVnKyJJGHDN6Rt269ctK73xcExkfFZ/DJLu5iFHMO5baLV600K1cs1La05ivDxx1Iu1I8uzrxMsis1ZKbWsBZUDZ+HpctHDabd22SpZ5fe1rj/mbnRXuww8/cJ8d/NTHxbu0KEdmzvBeuDE37bfM/NuwYZl7GOOjrz8pElxJ8BnxS7/FULx4oVu7bo3cQF2/zgdhgsGemzKRUWVlmSD15NvTApy/YaNupqdvuIWLFrh9d+6U9wcuW4bBK/TQkGLYQwzKhRlnW7Zs9jftW30eh3xb9zeQvn9O+bKR5a++XUrdSzmVygoDD2mW5CC/zIBltvHwEDOWhtwdd2x2X/3qY+6lbzwTZhwv5ava9BPahkoR/gpeIJHOlwXvEXt3/0fu4KFDYuQhfWkbN0P5irt5w7eJKTHW7Ltzmy/fJSEeH1EoTomt5IqjrRZ0ZCsSB3Kr03T5iNBnhw67Dz46IHmalr5PHwvt3NFWnB8L/ZYHJrffvlneRcgXykUOGac0vsqE0SC4cp/pHMWorLwXlfcCvv/hx+7Q4cO+7nkogGGNr+7SnkOZT01dldlxe7yce+9g5iNGPOIJ8QVCnMUI/gjPKxJ4QLB16yYxsPX300+vSbunP+r1IrR7X46l9shv/MgYIm11zMfn2+HwtI9v2N1513bfXx93X/3KY27f3i1uySJeuUGZZMslcboXCHuDg16+Vcvdtu1bpH+yFHN8wvcT318YR6anaaeMGaFPyrJj+qeMJ8hFmYbydL6fDA1Nu+UrhnwfXe++4mVjnN+ze4PvgxiDJMkZMNRQVzqOr9+wzo+JfExqiciAuyVlwBgdyoj0ZsqqVF4iw0zb89eZgSnf7pzv/8vc44/d7b71zS+5p5+6161ndrKI4QWZuV5q24ZEQAxBOGRbvGSR27x5o1u7drU/wYepwmxCqR/qEXn8OCVjmIxXoQ5FburNlwuzBbdt9ePsU/e7l77+pLt9zxZ3+vQJP9a+786eOye6goxBPsw044EfB6Zv3XArxFi1XYx8i30di94QyRkIx8iG1LHfYbzdvGmDL4ONYkCdmhrz5Xnd9wE/hssYSHpB7nRZUqelNukdbW7Aj0f0Dx58MtPxG9941j3y8D5/7V7ifPP2fn36fvwjXW1loUhZajztryWH3fsffCTvIQx6Au2FdhWuiTd9Pkln7bolbt++bW7L5lXyACbEILF5v6X8ScTh3GeHjrj97xHvRdFBkJkyk/Lz8bJ/yzv6yx5f3jt2MHuU60aMCFpKJ/zBgLvU1/mmTet8vW9wixeiV7DiA/0ulF1o81pnOPpEKEeRw+sUoW3460f/uNcXb/pr6zL36GP73AsvPOkefeQOx3sW+3xWQtr+rwgQQKcY9MrB6lUrfN/c6tauWeXHDl9jpX4pdVRqfzpezNSlP4dD1xEdyMswMDDpZcAQO+L2+TGOfokce/ds8m0Fg7Bew8Koq2UciVSA4Ju/oR0YRmPIWFJyRusJ5dxYWVtdGUb7aZvxsZJhqZbBqRFsICnhi4BS8KUx80+Us5Luz3vp5KZp/Rp35523y9Ke1WuWuf5BnnRjaGKZNAYUljyhmJYUflFWY6U13Kzgt69/Uox0wyNTbtnyPrfrtrXuscfvct/85rOiLN7lb0RWrRyS5bo610NmVpRkEhnlP7Km0SNsixgf2arxcdHiYffEE/e5vXesdLfv3uG2b9/gb0icGx27LIr4ACsv+6bFLfCuf2DaK8/B8e6kFXLDvM3n4Sn34tefcvfec1vpHZXc4ElCkmCQWx0KsO6X8N4II7XhA3Jm0N+o8FXQnTu3yLLcLVvW+KO+/Lnx82XeP8A7Mm/6suUGyZe5V8qZ3Tjkjw0P3XQjopT7G5S9G92XvvSg+9a3nnNPP32/vxFe7RaO+DRIRMo3fP08kau0ueXL0t9knTl9xn3yycdyczK8cIEbWYSR2rmFi26JGx6Z9uV4y8vHsusdbvOWddGya80j6bFfw1EO3h/v5Vq5YpkYwHfs3Oxvuofc2PhVMe5h2Oyn7fl2xTvncAOleiHPGzcudY8/eaf79ref9fl+SG6Ob4ze8DeLn/gb4pPSjjH4ITMf3BnxN9DcRC9Z2i+G0/vv3+vWrF4q5aM3hxBqpfTDI1XrfzJ7CDl5/yPvPOMjGSzhp93TXhb0TYqsfV7mvn7fhnwdYUjAGEc5rl231N13325fzxu8HMFqm6QC/leYxiPpsZRztW8Xt/n2unfvDh9+uW8rzCQON76kRxr90m59P6V8fLqkOdA/4f1OuqVL+9ymzbybbrf7+ktPyo33gw/e7tatXezrThpFIoNPW8tAScbSBbJs89NDB90ZX7bIwbJ+ylPbhzpm3u3ctc7fJPrxZPUyaXohXo08k0idUD8hhmLxZK8xfBzl+Inj7uixI/4Gf9y3pT6Re9jfYC9cFNwI+96tXjPiy36b27XT3+QuGZa2EP5ouVSD80UkzZwt/bx1c4F8TOPzw4fcuQunfP+jPyJrny93ytrXgXeMtctXDPg+uc3t2b1V3sMn4UO2PRp/dSlmUG8+AmYbBePaiMxiumPfbW73Ht7N6MvCj0MYnmmHob3T7m/68OEBAX1iYPCmb8c3fd9xbtMm2uFe9/WvP+1e9OPovffscmvWLJIxZEZUvxOS528sd6j1UPNSCaX8hXrgIzkYW/bescvddttWef8bRgvk6/OyMH4iH45+IjJ7+WScH+LDS07q+q67g1H0299+zj32yB3ycIJlpUFAymNG0hn0CLOWly9f6sexrXI9ZRwfHEZO+ivX0lAmUk5cY/wWuXD0J97BvGLFoLv99g2OdyG/5K8zz/hx/LZdjBfRbLsZSuUi7ZDj4ZwcldlspV/+/PDQkBiPefXIth0bfd8dmDFycc1O5OIaznjmZWL89H1gy5YV/tp5jxh8nn36PhlnF9yacCd8Hzpy5HM3NnEttE25XvhxdsZNu/UbWXbtr7db17rFC/1FVmTKliHlyqmwlfN+Z2Cw3193l/qxZKss3d64caXoFsGQzRJwL6t3YfwLdSllWWpzjPmrV4346+Im99yXH3B/5K8TTz11v3yYRL+8jQ4ClKEYk0sSSJH6/ampKXf8+DGvZ3zhJqbGS/n0Y57kL2xxS5YskOX5e/ds9XIyEzdcGIkmxAjhl44bR44edYc+P+ivIaNuSOPVfr047HPt2rBhqXxMavt2L/eIL8OZ4vNxlfbZcGknaj3N8mdes7PLl9+dXq/YuGmVlB99AgOq1LPUOe/xRM/j+sVKAn/98H1i2Jff0mV8PGyFe8a3xz/906+45557WD5ch8Fvpqzkb0hb8iY6BgZXX6J+l+smYwfvnQ59k3cGYIS87v2PS70F3cvrNzPtL1w3h/w1bMkS3g++XK5bL7zwhHvpm8+4++7fJUbZwX7ajMrBvuo2erQIwb+WHCHrCW0YRneS6P3hAZHslcZnwzBax4KbYX1SwxTpsIkf+Sv7aTg/9x2+VwefsDzOQ/7QzfwGg1/QEflz09+E+Fu18Ql35dqou3x11F28eN2dPHnOfXH4hDtx/Iy7dOmafJGQL4xi9OPGWFQ9H16Wpvqbv8X+BpWlouvXr3bbtm90W7dt8AriEjnGhztQnAf7Va3DBBf+8V+Rsve/Y+VP/ekRtiwRun59wv3mlffd//m/v3D73zvkhoZX+TMoxQl8ERFD1vr1K9y//bf/2j362EY3PHjLXR+ddJfkS6CX3anTF9zRY2dk+dj162NufJx3bfmb/IXDskSd91Zt37HFbdq8zq1ZvdwtXTLsb+b6XL/cuvC0PcgcEOlKLgYPwZM0MxRz8ipBuWEPt0EsLbvm64DyvnTpujt16oIv/3PuwkW+UD4uS5Onpv2NwdCwzI5jidqatavc5k3r/U1K+ADA0qUjsiSRGXQzZSdpUoa+3krtm3RZFrngVp8vpwXuiq/3U6fOunHqF8FK/iQM/25yg+D8jcdiXw6kNVx6T2DIU7qfV0Hbo9+wVE6q3AcdHRtzF32+T5666E6d8Hm+wFdhL/u8X3Zjo/4mpZ8vhS/2N6Qr3GZfF9u2bfR5X+JWrvBty9fVoM/v+OSkO32Gr2UyOwupad8Q9uUG06e3BGPKBpYCDvgj/lwQXZjpL6UN+eJfyFf4+vjFi9ek3Rw7dk4M31eu3nB8xfba9Ru+vfH10wE3PDwofWLVqhVuw/q1btOmtb5PrPe/F/ubYzJNElHC/JKfIa0wDiEbs5In3dVrfPF8zJcH7eKsO3b8lG8jV6XNjo1NslrTDQ4NuYUjI/6mdViWpFJO69au9P1wkW8ri2RGEUYSjEpS/6QqS9NLmZUjaZlCvsP4cPrseXfx8nVftsiny1cllhDKZ4B3/pHWOp/+4oVhCTBxaPuonxAu1IJIJL8TmfMR36UkdUxni6H9om9TZ31/H58kI+GjBsiHtyTWW2IAXrVyuW9jS6XP04/CTNFSxCmSY2GPMglSpiVVf2zjM+E4UYdxsM/dGJ1wZ89fdBeuXPFjNGPGoD9Hi/WVzUMb/vl2zlf01/h+scaPVXxMI4Ccpd06keQpj5JMKibXiRvj4zI28ZXec+f8+HnqnDtz+rz/fb3UFn1f9W1goW9rfBV3uS+7DetXSftf7cdPPiqzZPGI4yNLobyDnOyTnKYpeZOEQ+KUZDgXzofjGigc47UhfD33ypUwhp4/d0WuY2fOnHdX+aq0H0dGfTsmH0PDw16ORTK+b9y0xl8jVomxnA/JLF+60A3xJV/i9sLNyOdBKgUDi/xkHPW7oW5oY2Ecv3z5moxFZ/yYdOL4WfkS+I0bXgYv47QfZwcG/XXTy7DElwllQxmxjHwV101/neFdnpSliCExl4TwhPoh0dIBEUR/Sqn6rS5ERrYFUj43fP1cunRDvrRN3R07dlrq8fo1X3e+vckrMbxM1BtGo+3bN3uZVvk+sNiPs4O+rfnRw/ch8nb2wkXfHpi5Rln5dlcaO0mbcYsxcM0qP/54HUDGPDkzI1FpG6QN9QthXKJAJQ/+P2PqNca/K9fD2HvyvK/XM37/qh9zuS6ygoEZjiOO9x4y+5TXynBdXO+viyuW0xb9ddvL0y91RFuWVDykDUECqXN/gD2WCDNWnPF6wug4x30+9ZLiIQbRpfweYz11SNth9mE4K1EJklypEVEXF/01/fTZC/56wmy/0G7CybAR/z5uDOtShv46h/6UnASfst+Xciq1QS0z0sBR3lwXr10bF92O98ieOnVe3EXfBq75axdfpeZVIsxW5H3UGNHXrV8n7ZH3Oq5aybskFwa9wudfioBkSkv3Q7b8gRJh/GIn/Eammb7pxwm+8M4rJY6fOO1Oy9hxw133dTjhr61cP3jYwYzX5b7dbPJtkHpc5fsmuuRif20L5eDbkc97qDNNyOe3tFsPUmalv6n4DKNOVDeQvhftG51INEgZhtE2mmJ8DONqtQ7sL+o+ldYMwM2MW4ui9wYj7s3InRbTzEWR+5rSCTZhSSxGsFtu1CuDV65yQ3lDDHK8S2tqcsoriBP+9wR6sRv2yj7GjAF/kz4wMOBv0AfdwkXD8qL7pUuZXcWHQZJ02YS0Q/pZkpJP9lAJ+adH2BYxPrLlPX0s9eFLwv/23/1r98hDLKELcaIM867DsdFJd9XnEcWY/N3EsuJDDwz2+RumQZ/HIceHQIb9jdcg9/U+4lJphe3MDZeiEmTBR0mtlTB+32/CzZg/Vyokidmf54Zr9MaEz+eov6GfEKPvlL+p5aYJw+LQ4JDMbsBIirKO0YEoxPlYQtzExe8YTYezEJRtRgIMWByNb7A0rBwnbu+4t+K4xF268dc2lYSohoSWf5I6kXqmfRTUCUYCboQxeI1zoz49LX5oZ3wAZvHiheIGBjB2EZ22D38T5+PQUW1GpDJCOMlPylOIJZk5FPIlcnJIjtFHFrgJLyc3vTiMgxP0kSlmg/m4fQHy4nyWrQbD/EKpJ75ay81biCUHFaV0UpcpSkvzu7yLU9qFLx8MnfRDlsxPld5BKR/m8WnSJ2m3lBE33Bh6pM5wEp/3LPkmoVD/IXF1SkmQEpSryOL3Q1l45FgJ2aE+S21Eop052wBJ2HQsabnKUd9sNX8lvFC+60s/UlkhHX+AU5zX0KFf+dITz+Uh0kck9MxemtgnZ5PfxB36Q6hz2p+MEP5QOBqYCcEJj/ZJzU/ko0FCeKKT9uL3kEvGCe+QbWKCj9GMiZP27/uBvA/V+xvwYydj1PDwkB+f/Bi1cMgfC+UdZAzxs2FvRmwhpBgfZS/tJwfvIZRZWLYexhIv33Uvnx/beZ+uvDvV/+v3fWXAj5/ykMD3E76izYee6J8hHYkobCPSv0jQu9IYKO1M/vty8r+5RpIe47eO43zcCzlknEAGf90c9HKM+PEBA9bwiL+W+utMGCaQVOVAKlwlVDL1E37zlzZE3Wm7ov4mZRyZEKOeXl+m/TG88MEhri2LFo/IAwuWEct4OROj/+sjkbEgVGaCPx18BMI4ICXjEWlkL5ZT99iWYp/5G8pU+0IwRGqdjnldZNLXK7JTnox9XLNpd3Jd9PLzAay+fsyjSmhbEl8p5dKIVtoPkC2pR++R8SKRMh/8x2MevTYJoXtJSsRHPcgB3SQBAqXzlD1xB8JBicO3vVJuOBHS9oSaKf2YOca1EcN4qPcbpfaIwW+q9D5IrlmDvj0ODdFnF4peMTTs22hJhwvSE1lpyxG/q+mWw4lENs0z/WJiYspd17HDy8BDIdG9vEeum3INow36sWOhlwNdMlzr+U8k/I/yObNthFCKShKnYdSHjrVK9ne3ovno/vz4vu47ey/UiWF0K7M2PrYSBjmoNUjEg2HRMEY++eVGmZZmI/g/GIK4yQSelPf1B6NXlqwCF6qm/npBLQxKZoBtYePjLS/rxJjbsH6F+3f/7v/jHnlovb8p4SwxYmlDKFTZECqkE1yCpFhylSEE96HV4B41lEs1j9qeYxmCbDFl5avnU95qpZVP5XaghP3yvtfs9FKZKUP7ewyzj6oT4i0PWlz2WN60DCHuYtRKrzyukGwxGdPtoVZaUJ5eilLw0O6y/uLfmhaKqhyYBbFMpTj939rRJr6QN9tXqL+47RYhqefKEsQ+8tJtDOQM28qEdDAutAeVKU16jNL8q2yVy6xazpQkpvpI13Gx1CQfRYSqIlVIl0jEDMmhKuTHk5ajclpF0Pau5VGpPhI4X9tPeR9KhwnJlKxGsyLEm/feyLjdJW2ulE89FwXxUpd+VpMpGCzLslcTn2JaPE8iT0x52ZWTrif2k996rkg8JF8+HsUlV34+SbpA/FVROWVTk7w6S0NEs5XJMIyi6PVDt9UIftjrrD4aj6WFxkzDMFpCrbv0rkAHRGP2hHLMOo77gTrsuv7+AbdwITNFFsm+LL32TSnr4gtPUj1xvNXcXILcWdduysuEG4P4XyCck3pTr00gvx3guJEON9PN7HOV02sElbGSy7s5rA/kVddOQnJaNpUd/2Z+NguJrxR3BDLxCCtxlEs43hyyfVBNB2nHscQRoryfKFpv2XbHb5Zaxi68kzYJC3kSgKaWpNsc0qnn07zyLkZoB2mnZR7+KaFc545YRiU+lnaSL3ZnCXmuL9+JDDgJmwqu5xpD9aT65apG6AeKiOx1hXg8CL2xGYR4tHfHLq13qFpLTYoAwTUAj1xv+v5fnyueWKiHyq559eTxUUl5pFwoPf0XCOcS2ZpHrfziZltnhmE0RrXxRo111Yx2cfhmDl3NxmwGhjG3NM34mCg1zYMBotpAl4XBpN4wRjmMyWmn9Uq5hrKV5T7+MBNnqw3i6i+BH7XcXKJtR/Oqv9sLZUq5xS6UTdol55pPnHaQJy1Ts4njrtamapGOJ991M3n5yTppHi3B9wfp04nTY4kLS9+bA/ErYZ+/PmVxPjFx+jvtEr/BXz6pcsshezzEHLZxSrrV2/jwtxn4eEQ+n0YVJ/7aSVRuSfnxR118fO6I5SviSqI3jbw0irhW0PybLtpmtg2GYynXTKR8kjRDump0DCrtTBk2I6saTz2uDlTWPNd0ctPgT+KS480kaQNx2nlOxDAMo61krwu9eBud2AdskDGMuaQpxkcZtPg/h/1ZDY7NVayNAGWbdQEpd7kBCPWfdYF0mOoU9ddMsmmqvFk3t1Qu39agF+pKrtlFUhZ/g2TjyXNGo2gZ9iXOX0ZSv5texsSVH1/1M4FgIGRbjsqauLxjeSloyonjX/pY80iXb55rbnqNkh6fKpX6fCLbJiq59tHsthL6SNwO499x29T2MBuXD20tds2glJOZPNTjipIXNnbtgOKKXWtpT54Mw6iP7JjTyFig4ds5fhUlfW3oPPkMYz7RFOOjDjRz3ZnnSoZmKrydCWWa71DM/Z/cc4050G07iNPMuvmNtutKrsq9YEPkpVHL5ZHnL+uMxqH4Uk6Otrvv+LEnSi/eDw6y++WUt43SiSpkY8+PubmUy1nujE4mbi15rlvJtsPS4RR6kG07XLOI6yVbX7FrnHTZlbveQssqW35ZZxiG0Vzmwj7Qm+O4Ycyevrk2GEK3d1Ad1DQfnVCmnYkql7Vcu8mTQZ1hGJ1F0j/1X3wscWqKYOZjcqwZxKk0N2aj98hrLXnO6Dzy6inPGcXIK7vYGYZh9AZqGzCMVqA2p260n/XxQn2jOegg03tl2qyG3YkdpJbiaxcOw6iPzunn2nutF3c3Vn/dTNwLO8WBbquRDVfJGYZhGIZhtJPuMzxCU5ZdzxZ7MNAN0MBn65pFfQ1mxnfFpwOV4uO4uiYgyTcpLsOYE+L+XMl1Fk3uxUab6dx6a7dknVgSRWXCX2c5/nYnkeQ9qTz3Yp4Mw5iPdOvMNKNb6M7rZUcsuxZFsIeUqF6fZu2H0kL/mmmI0FuFuGTZx3qOW+CT4jdbjIwLbjH71P+oKIL4Drvek+7ptpz0GUmm5GJEjkquQCoJRfzUohlxxOTFF3/Mox3ptYpmpUU86ipRxI9SxE8t6omjlt9myGP0BkXaSrH2oj7znBLvz57ZxqbhmylVtbhakV4ROlGm2RNLXslBuLpVQ89riDyqnauXRLKZvy3VN4vF3bwb7HT+INEvgOOtzK9hGPONMHY1Y/wyjPahl/5utDl1xMzHXqLXDY9KYmLM/xd8NAeMdkHlDH/F+cgx6MnW/xEjZOnYgpISLBeUsCuwGzuJRwhHotgz+JS9lwW3Yh/Je+RCXOzV+hf81Eb9hBCNO9DtbInji50nKVCP+pstGk+cVjtcM9B4snGrA91WI/Y7Gwe6rUbst5ID3Rrzl7gtVHO1yQuV55qHxpZNoR4Hum0GcZx5DnTbLuJ08xzotvvI5ibPBfQCl+eUvNDqQLfNII4z0Sxa69qJphfSlvxldK/gOoG4DXQTXj83g4theEIfaMqzkxywCcwXu0D7qFVZ82Nsy7bZbmpnZnw0aqDmxHRnjlXAPKckocO/ximPPXmzZpBNYqfz8QVu748vcYe+6M/M+soSpx+cKMWlvwlpP+WuKHlhG3HNJC/+rGsmefG3yjWbvDRiV5S8sI24ouSFzTrDgLy2EbtOJk/eel2zyUsjdnNBnhyxMxLyykdds8lLoxWuGHrT05zZj5CWI8Qf0ugUyGurDBatJsjdvfIbRrPQPmAGwu6BOqt2rQnnSz96GNps3G6bd/1tPWZ8NKqSNOXEdBiauiqD1Rxhkn+BJnWOUhI3/b/pm1PBTU+WHPvT7qbf3vTHb/lj/o/33viHgG75Dh7PjYwNj/rLMAzDMAyjGQQDV/fcUMwXtE6622BhWqthqAGn3WNt0fSy/rp6yGkQ7AfpMgh1Vola5425x4yPRgHo+jHB3FbtX6thHLp5kwFpyi3on3J9A5Our3/c74/5bXD9/aOuv89vBybcgHcLFkyUQsfUIWvJq5aFDW2GYRiGYbSCbrp/apesRW7YW02339wG+cPWMOYrYSwJ40m7+3TR9IK/0g9PBwx/bceXQKoMapE12Bqdx4KbWHAMoyJpwyODQDGyBstA8fC1WOBGRyfc+x9+6l797Rvu0OfHXf/AIn+8z58JKbNlALo5PelWrVzu/uw733K379nshod0ANeZkEVlSt7vCCFU6cM2AkealT+jKHqRqXQhz57nd5GLfidSK6+GMR+wfmDMH2jr3dLOu0lWwzDmM918L9AsyH5JneohvaqUIbsWdSxmfDS6EsbG6emb7sLFK+7k6bPu8tXrrq9vkDP+HwukQ7NmML1186YbHh5yt+3a7pYtW+z6GWzDWflbD4TA6ZAW0tF4OGqDXbupfcHECJ2cDwoHe91XV61WDkLZJOUE3a+I1I+Ww3wug04j2zatTgzDMIxOIlyb2Ibfdp0yuof0vZJRG+3vvtTkt1EMMz4aXUhiELh1a4Gbmr7ppBX39cmpeAhg/qUMDn5/cIBZkUo9zT7xyx6xqXGzfLixAag2yQVutkaERgb+br5YIDu0SjmI66PVaXUqmu+Y+VYGnUjcNg3DMAyj08jqUHbNMozeJfRx9mbfz+fTeGHGR6ML8R3Ud1Lp6/Jla1BzYHoICMeSJq7B6oPwGhPpqPGRPdAY6495PsIAm6XRAVfjKhIeP/jvpQG+2XlJx0fZ9kY5FSdtGIdeaSu9hY4hVjeGYRhGJzIfdajOwHRZox006x5M7zf6+rj3kN2exj44Y3Ql0jf5I72U+Y28ezE43WcbHAaF8H7HYDScDX6gKcURhhsddOzCVhQGah2rddDWgbfVhLR7ra6aVXbpeKiSdtVL55C0j+5pK/OtjkLbpK4Mo/Ohsc6/PmoY8xl0p3mnPnUIWb2Vn/NPlzXaRTPalt5vzJdm2nMzH7URdMdN4/xmdnVV3mz1SBxb1lc4V296xJLExJ4fJsIPIexb2zMagXYTmoy1G6N+rP0YRufSPL0gmZXdTZheZBiGYXQ6vX6talX+Gom3B4yP3amQzVeoplI77SIQOE9o2lyldtdd7RI5dQAx2oW2Efa7o50YnYPd1BtGL1OuQ9Dnu62/2zhlGIbRWuwezugmemDZdVqhofNZB+xctGqSeuqdukq3ve67QUjL33nEMiaydm/7EfEFuykz6kdv5kM/MAyj20n35fLXPpgBzzAMwzCMemnlvUJyT16MnnjnY7mCVtoxuoDeqqy47dmNQnPJL87uLWMzHhmzxcYYw+gdrD8bhmF0D/UaXVqF3UfMjlB+VoazoR71RZZdU+ghkCk+hlFOpQGpkf7ChSrs2Y2GAWH8nT9tQS7yPrvp96Z2P/OtHg3DMIqB0tOqsTHoVDb29jaiN3jietZjMdnz4ae1DaM15LXL4qTHrvmgQ3ZqHls/Vth1KkZmPobCsAIxjHzy+kdj/YXBxzBi6r0YcZGMXTcxI28P9gNTKgxj7rDu18k0t3LCdUQvIlbxzad3LtBdpiK1lW7THzsR9L5GdT8r/s6h1XYwq+s0Pfe1a8MwjF4lT1kMek933ICp/L1oqCNPpswbhmG0A8ba3ruOdAJcxzrtGt2I7tDL+kYzsPIxDGMuMOOjYRiG0TZM4TWMuSUYF9izPmgYRjmddp02vaH5WJkahjEXmPHRMOYIvfCDXfwNo3u5xSwc/9/6sdFdhPcQQTe3XbuWzldC+7U6732KGMrMmGYYRsfCsJSoKvMaMz4axhxhilLnYze1RnFoK+VtxPq50cnQPnuhbTYjHzbezyVmSDSaQf51uNOwscYwjPmKfHDG6Czii1Kg+z4sYdQGhcOUjs4l2+esDxrVye/L1seNTqZX2mcz8mF9dXZUu0Zyrvo1FH2otGsYVYjbUXm76pxGVL29Q63zRvsJ7al23c0PQjn0bllYPc+ORsvPjI9dgRmpDGOuoO9Z/zNmg7Ufw+gObLxvnGrlVqxMrdyN4nDjS7PqxP5a66Y8iGztvbPA6Fja9fS64S2f3ja8krdezl+3YMbHDqSXFF/r5Ea3Qj+M+2Iv9Uuj/dhYaHQjjSrr3dneQ16tr7aGvGuolXfn0ql1k25HnamX1dYXg35pemXnoIrlfEcAAP/0SURBVE19PtdLtruHcujdsrD+NzsaLT9756PRUlRxsQ5uGMZ8hrHQxkGj25hv1/D5qbOQ57nLr42NhmEYhjE/MOOjYXQwZrw1DMMwDMMwjNqgL6vubBiGYaSZa9uCGR8NwYxchmEYhmEYhmEYhmH0OmHmPXuN2T/MfpJPtXI146NhHccwDMMwDMMwDMMwDKMQ2FDMflJO5XKxD84YghkeDcMwDMMwDMPoVnRChWEYRqthuJlvY06R/FbzYsbHeUvyFTszPBpzDW2Rf4ZhGIZRL3INEZ3GriNGr9KZX582jF4mubYYRj5mRqmPeW98nK+DSvuzTII2eM8n6u5XXdI8Qr6CM4WkuSRlaxiGURx7iGp0P6ZTNAMbCwzDaBdhvJlfY06RMbaan3lufNQb3fl3wadRtPMCTfGaTjWf0BfNFqPd7dHoXOJxwpqEYRhFCdcQGzSM7sDfeci9R3L/UavtoieVdg3DaAt6f2L3KLWwm3yjGPPc+KiK6vwaUNLKjmG0gt69UCc3uKaMNJusgmfDlGEYzcL0HqOjyGmOtXQKa8KGMVdY56tEsCuUfhhGDexr10bdqAJvhhdjPmLtv3VY2RqGMZfYGGS0D7396q62VquPWB8yeglrz/Wh5QXdXGbIfvPmTb+VX3LMqE2R/mLGR6NBaDbWGQ2j1ZjiYxiG0S7ao9vIuO6TWWB6lDFPoQ/k6zVhFlWv6Tymyxnzg9DO23EdbYT6+iF+rb/WT/Vys69dGw3C8sjSbg3o6NrZjdaidWJlbhiGYRjFCdfNsG013Pi00vBoOoDRvaT7RWe35WKyqR8zPBq9D228c9s5XbB4N7T+2hjVy82Mj0bDFNUF6uvoxmzI1ondfBiGYRhGbXrJMGA6l9G5BINdtf7GuVh/7YX2bH3SMDoBOqJ1xrnEjI9GwxQ3bNXf0c1oNjvs6aphGIZh1IddO1tJMDqZfje/qaf6aSuhTzbWL0Nba2V7Ky6XNXujEXTMVNfa9mwYrafHjY/WQVtJ65V0q7/ZQP3YjVRvYNVoGIbRHnrjutmJebALmVFcN038zO5eoJVGv2AMqo3mpah/wwiUtxdrQka307MfnNEBvjeUSMMwDMMwDMMwDMMwDMPoPnp25iNGx74+MzwahmEYhmEYhmEYhmEYxlzR48uuzfhoGIZhGIZhGIZhGIZhGHNFDxsfb7mbN2+W9g3DMAzDMAzDMAzDMAzDaDc9+85HjI+89rEd73zMvl8SoyeO361JP+TNMAzDMAxjPoFeZR9umDuK6LW9XD+t0evnM3ZPYxiGMRdwre7r6xPXLnrY+Ng+YuPj9PS0u3Hjhrty5YobGhqSY83WU0jOFG/DmHtC38528PYp0pVugmx8MBql6I21tTGjXdAmaW881EVB1jY6H9tgkTG/aB/OJ339yourSPSdUTXVr8UhH7MpqzSzKvZ5DHVk1xPDMIz2oNc+xt3JyUm3dOlSt2jRItff3y/nW40ZH5vM+Pi4O3HihDty5IhbtmxZSyrSLtKG0Tlkb87a3T/zbg5tjDBmQy3jhbUvo13QFmlvPNidmpoSnWpgYGDm+Hwjv2/WNhgWI0TSnLjmmvK8ZAlZazx/cfvr3nKae+x6YhiG0R7iaxV61dWrV92mTZvc5s2b3MjIwrZcy8z42GSuX7/uPvvsM3fo0CGpzMHBAX+0uRVpF2rDMAzDMHoZVYLReSYmJsRheBweHm7rEqFOI230kr+yn6b+GfhFbjrq0T/nm0HOdHPDMAyjk+G6jON6xaxHJsxt377N3XbbbpkB2Y7rthkfm8zY2Jg7duyYO3nyhNuzZ68bGRkpnUkzGyXFFBzD6AzyBul298+sDDY+GLOhqOJh7cxoNdoWaWvoVhMT425wcEj0qmrGRxsTm0ej17ii40i3Ym3KMAzD6Fa4RvNA95NPPnFr1qxxW7ducQsXLmrLtduMj01mdHR0xvi4d+9eNzxczfjYWNGbzmMYnUM8Ts9F38xeJ2x8MGZLLd3D2pjRDmiHtDXe9cgrbTA+Dg0Nl4yP1Rpp8rE/NRJ1urGoVp+bO/IEK1KWHZuhJmGDoGEYhtGNBB0J4+PHH3/s1q5d67Zu3SrvfTTjYxcSjI9H3YkTJ8X4iJKcp/TaU1PDMAzDMIzqYHwMMx8nZMk1elU1BTmcCue7x/jY68Y6wzAMwzA6gdj4uG4dxsdtM8ZH1JFWqkzz96U5LUQrDGU3q/DmHTMMwzAMwzBmDypWVtcKCnXnOsMwDMMwjF7HjI8tIlZ6VQmOjxmGYRiGYRiGYRiGYRhGr2PGxxZhT7INwzAMwzCaCQ9xKz/IjR/2dpMzDMMwDMPodbrc+NiZCpvaHc0AaRiGYRiG0Ryw0yW2OnYa0wPjJc+tcFny/MTOMAzDaA5FHu6U+2nsWmIYRn10rfExDBZhaxiGYRiGYRidgBkUDcMwDMMw0nSt8bE7nhibYdQwDMMwDKMtdJBKaAZIwzAMwzCMhK4zPnbu1Og8ufRY3jljrrHbAsMwDMPobOqx4YnXGv5DfKaTGYZhGIZhtJMunfnYSWajrIGx5BbkHKvlfJgFOa7cr1Gc/LLTFhS26XPNZ7bxVwurcTeaRhymkfCtpNE81UteGkXTrRS2Hrljv/WGnStUzjx5a/3uBhqVOa88lHqPN0ocXzV5YpotA+TFWSkdlTM+X8lvJ5CVtRr1+G0lnSJHI9S3ygWfeK/kErRMZuuM7qAZdVUpjvTxutprca910MntEtlmI99sw9dDXjrNTrtafI2eawWkp66zof/19VVfIVl+vCUdcZY0s6zbVW+V00nKvNmyZONrR14bTaN5slGcldp3JzMnxsfZvKexMws5zg/76iD6jSGxmvN+8v6l/YBujepQTnllF/aTlrRA3h/aCpK2nt9ua/UFzlfzwrlwnvgb6RtxmOrhZ9NvsxSJS/MVBlc51CLyIq+cYFb2+LfWVziU9leZOC32q6ddpOxaj8qZJ2+5/CpzWvbW5WP2ZVSeh2LklYfWW7Ifw8/ZyxsT0g99Jl+ecor4qY+8LFXOpsoZy5Hs55VPKNPq5dbcco3JylqNevxWpkh+a1OfHLXSbI5MlSDeRuPWsDVcrFs14oyOQtti5TY5+36YF0foB6UfJerpF3V4rYNm5LUSaYHrHQPUe6N6HeFbU2Z55AmZHKs37/mE+PLjqlZIDRZgw5CeuvYwm/ItErQdNgU/OpT2GqE58lGOWh7kubX5LhJ3s9PPxtfK/CmNptE82ajTbB9pzpjUWuZw5mPnF05xtCGxreJuFXG+SlIuc17QrVEdX04ywJac/89FQAZh+Ved2XbgJDzp51P5AhDChouE7OZS6SJSv+y1/deStVWQlfLsNCPN2nFIW4lcOaH8ceXnQ3mlw85Obqqgcj00yuxkSqgUT34bzi3OmhQJ1Kz8IOPs4tK6D/UWjqXrL32uMYKMWVmLiV7NU3IuxF07QvWXyJIOE/JZO54seW0+lNusCq7NhLJpB5R/eZ1ly0rP1y9TEn+6DuLjcwfy1GoXJT9Z/apeJ+jWaD9xWwtjadjOdZ3U2wc6od/UQ7p884q72liAf84UyXK7y6V6euXnkrY2ezkrNds8mdpXLvnpkH47ZMjvy6Qbu3JUtiIykkalsu8liuaxVeNneZupXTf5aDzp8Nn421Gn5XlqJ+VlAHN//avNnBgfQ8F0fuEUQ/OheSo5UUzrc5RLX1+fuAULkm25X6MQvqi8GppxoWq0y2a7bb0DV7WBJz0ABH/V/IOcF6nisMl+rfB5aJjq4fKMZ9VJ4ixQUA1SWW5Nsz6Z04Q46s133sCejaPy4B8fL5ZuOu5m5FvROGYfZ5AxxMN++K3xJeeyxHlL5zMhiQ/y40nAr/dVy1tBKtdjPmlZY8L4ng/HZyNwCBvHn5VDf4djsXyEqSyzEuJOfufhYyl5SfwRbTpujScvvZha5yGkky97mthPEf+torw86qdIeOqrdtPVulCPxJuOO2lTlY7ng4yzL+dYtuIgGnrTggX9VVwl3aoRV50gT+mH0UJCfVTqY9omZ98ui1BvhVe7PnQOlco1lHs4l81HXpnLT+/y4oPU8Y4qlkrCIG8og0p5yqPcf4i/ehycw8AefgXqSTf2l1c3+TJlmYvmmshF4rErp4h8RfI5NyRyldcHeWtMVo1G48zGC0Stxyv5qYYPUdorp5rY9aWZr99wLC6bOkXvGCrlv7xsyKvmt/66mkvmxPjYe8QNwG9LhsdbKQNkuaIb2kl0zPu/ddO58fEJd/36dTd6Y9RNTU3jSc4nCrNRiLgflvYZmGRsUldCB6xo3PIkClUenAvxpQLNoOeVyn6TQUP8RII1czCpJKeSnE+niQx5cmh+miljFk0jj5Au5+pPP85TNv7sudg1Sn7Y2u0LVx5W8z1bsnFk5aksWxZkzOYl/GyWrEl5VIPTobgqp1krnvhcvXWO/zhM+B32a4jeFlS2dP4rt+1sWenv7HHB//QxlX4kZZEfd/pYWVwR5elV9luJWAbdT8fZDkK6+eVRHeSMy7KY3PTJyn41/7XiSuTFn7pOAdmy5anHKrugR6k+pS7fbzFXjSJ+qkMd3bx5s2ZdzZYi7aETSGQsL9d0e02I+0+9FC+XxE+1pMrjKhJ3cYrLWz+14tXzcVlnyz1bFypvElY2gvfp/zY/L0XzoejvWM6EynmtRlwOcZzZskn/Lu2U0gzh4vLMypYliSuEK+2WiGXKI8l/dX/NJC6b4gTZqsnYLvkbSUXzHNeHHmusPMrzm5d/os5Luyg+hGzzZczGlR93tTSJNzh+5cWX1z9ro/HWA/4bKSMoTy/ZrxRf+nhW1vb1x2awwCs09deSkUEr/JYbHR1zR48ecydOnHB79+51IyPDvoGVTme4deumNBbOj42NuosXL7lLly56d9ldvXrFDQ0OueXLl7vlK5a7FStWulWrVrn+/n7vPxgktfGGOGo33DzSjT8/bJH44nh0n3BxWI7j0vHhN/yunQ7h02nFVAs/k668p8nHI0dLw6QYiStTLnNA5ah0rpA8Oei5WnHEZGWp9BuqpQvVzmfPxcfyzsfUij9LcXnwVyzOItTKR6NUilfzqeSnnZ/H8jgTf3oOl00ji57PT3v25Mefn6dmMpt8afkp2d+NkBdHrXgrnWcUK41gBWUL42fwVj29mDx5lfhcVoZqMmkclf1zvlhcSp6fWjLUirMz0fKvLDt5A/Kn+9CM/MbxQV6ZK80qXwxvY2NjbmJiwg0NDXm9akRWhmTh2PT0tLty5aroU+hVsbj9/X1ucHDQLRxZ6BYvWeIWLVrkBgcGEDTI7V06d0UgRLFQtcomex5Hni9eRC+85BYuXOjWrl0r29hvvK9o/HquVl2cP39eHHGvWbNGtoTJxp2NV6l0vJ2k88p+kudYrryySIdtlDDGQhKN7qTlqUQsB/tFZA3+5Ij8bhXlZZTOU1reaucC8bHyuKuTF18zqRR/vXJCOq50uTSDrKyVZUzSVj+Av2yY8jjUfzbOWoQ0VcbKsuWlGY7FMsX7UCSeOFyzKE+f342lUZ98yRhDcqoDFiWkxV71cOn8pfNWnvd86stX1n/xNCunk46jnai8oLJVy0M18uLK5k3LoHJZJH4U9tEvPv74Y7du3Vq3des20Yk4jrco2abTkPERoQgW8pCfyflFUgbB+Hi0ZHzc40aGR6SJ5MGXuJjZiML30Ucfut/+9nfu008/cePj475s+6ShoCyjbN5zz73uqaeeclu2bPFK4XAphtCY4gbFPlRqfFlQ6mOQqZE6DTKwl4TlWFg6vkBuHHAcQ6nlBoLjKi9k81BONOhWoTzvBNJjfn9BfIPhO1kB4yMULdOiEG9enHq8aLpZf5XiVYrGm0+og3rCxvlhq/u1qJWP5pG0q0rpxfI2KlMz4qgFLTutjJBmO8qwMkEm8p/NdyKblk3RchH/3ms1xWu27ScvfL1yZskLP1s5K5OUb0xIj736FJWYbD70d/U6yZcnof6xJSYrUxEaCdMdlOpDyjsZ32C2eS1aZs0s2yLGR9Lh4ezly1fc66+/4X7961+5zz77zOtYU94vS60XuOHh8EB3w4YNbs+evW7fHXe4rdu2eoV7cSkWL3P4H35JHnDhukVW4rIMEIBRLpwI2S3PM3FpmUC1conPnT59yr388ivud7/7ndu2bZv71re+5Xbu3Fl6EF0mTBn4CbInehhlx4PxgYFB8UO5/uQnP3G//OUv3Y4dO9zXvvY1d9ttt0lZJ2haleXOUjS/rQc58sc7fqqYeeeLE9KI0fzXE2eRMEFO9hqVtflUK7tGyrVWOTQS52ygf1fTN1pFrXKAdFkk7TA+HvbZS+LRuCGOPx1fZX/FSMsDReJI/LIvuw2kXT9xXqFSmtkyiql2rh5CPOxV1tVU3naUzWyI81KJdF7YL5anpGwqh2mknKqFSdJMo2GA81l/7KPP5IVVKsU9G/Li5PdcGR/LHx0XIBGouYXTvWiBsMVh0Cvtl2baVXKnTp0UJfn//t//495883VpCMuXL3Nbtmxy69evE+UPQ+bPf/5T9/d///8VIyXGyVjxjhsUx9XgVwT1ry6vTokr9hMaZtqhCKPgB+NlQM/R0U6ePOlvCF53b7zxhjtz5oz4V9SfEqeFS0RCjrQs6jSOJB7KNxDaq5Y5G/zErjqxbEresXISGfIIcURyldDjbNPpqN84TNjGftNhQP0G4vNxuDTpMAmV/Fbyn5CkU9sv5MkVD+z1oTLGLpC0j9rEMsWy1JYrqc+8fKUhrkrxVTuXR620moXKVS4bEtQqnmLlkiD+Q8wlV0498c0ljcupea9UuEm8cfskPf1ZLe1a53LPS7yVZMJ/9nj6d7U080nCzyZs76FlQR5DXVWss0IQTyivyvEkfmB26RWHJDSZkN4td+PGNXfW6xlnz571OtW4GNp4aEs/OHfunHvnnXfc97//T+7/9w/fc+/t3+/9X5dwEtzrbAtKeluIm3z4n/536Edpx7m+/j7RaYIehD7iT2Ugnko6S+yyfqanb7rJyQnvJkU/ZKv9ORs2doFw3SEuZoSqHvbWW2+JHsbqGzViavzol+xr3gKkR7yJ3DHZ8SXOg7psmNmjdRCTdwz5wjZPhkj0zPnyeKpTHjfx5ec7X04o91/uL/ETzvEzPx2oNx/Np7JslSFMNhztLG77bWWOijGvHIoR+r4S9nFkRF1M8jubnsqQPV6MRsKkqZ52Xl4aJ85rtTQrn6ufEFd5PsLx5qXTCuKxP59wvmhetFxrRhuR1EXl+PGT+Js9leLSdGIXo+VVXm51ZLgileMIcjQjjebQ/93vfvffl/brIlugRmBqatJduXLFXb16VZauDLCkJ6fCKb8bN264N9543f385z93hw4dcps3b3Zf+9pX3bPPPuseeeQRd/fdd7vt27d5xW2BO3bsmPv888+9otgnT7+XLl0qCh2GPdpwUO6CQZLfNOxQRZXrKW78yEMcMZxXC72eCxNlw4xGjI3Ej78Ql25DhwsyMbtzyr3//vvuN7/5jTty5Au3fv16mcEJnI/RuEI84bz6ifc5H/ZD+sgJSR6SeEOQIFfAb0thS79SxOlAvF8c8lA7bCmbQtpvXjiOxQ7i8pFNDjknOFRKOytjXPYxWubZ4yGy7LGEcv+N03hcKmNw5XWTl68EzmXPx7+rhQ2E8DW9ebRN5MfJseqR+FRKe+1E5aohW5Sn8jpohNppzoY8+WYjs4atFEcyrhWjeltJyJ6vJUe9EI+6RCb5K/sJ6d+hDbCX1ydrEcZY0HD1hQ80EqbTqTSGz4bq9aPXO/abX57kBz0CAxrGMvSqbJ2TPueY2XfkyBHRqTj32GOPuRdffME9+OCDbvfu3fKEH33h7NkzYozD4LZmzWq3cuVKCZ/kUfWQxCX543cA/3jDb/DP+dAXFPYT/SyElfMcLz2wTY6rv6B7IRMPoVevXu3lv93t2LHdLV60SPxAiDvEEfTBJH6c6mEYFdHDfv3rX7tTp06Jfrpu3fqZ2Y34oQz27Nnj9c7tbsmSoGP6M3I+H86RTvgVk5ZJjswcaw4h7TR5x/yRTLqpOqhItXP1QXpxWqXk5Vj2HOjvcE6OyO80RcfMWuebQ205mkc704qZq3RrkZZL9/NlTdpMuj+G3fwwsyVpx8XTQTaVszpF/DSXWv2u2rnKVM9HpTiTcpobaqddXLZsXHOZL8gvWwbvYnJVkl+Ph436Sfw2nu9a4dLnSQeditW3ixcvllUhvJaG4w2LUJCM8bGYwaQZVL+odi8oyOXGxxgMdzwh7xNjIstcUAhZWv3Nb37TfeUrX3F3sBRo61YxRm7cuFEaBAr1gQMHJO6NGzfJORrJpUshLeBpNe8FunTxkrt67arI0u/TYmlN/MSasic+3i154cIF2fIbP8gryqr/h1J+/tx5d/3GDZH52rXr8u4hlNjBwSHxyzLzixcvyPHLly+Jn+npKUkTpRm/pPHuu+/K03b8kafVq1eJvCi+xIOCigycxz/5xDjL8YGBUF7IjvHzuk8DmYmbPF69ek1kYF+nDKeJfyf7t5jhQHtPnS9v/+XxlZNWIBmcioXDj3qr7D9/sMv3H9LO8x9DniulF2Qqml57SJevkl8uWQiWDRrHFc7XjqcYaZliudn4nxnK6wv/jcpDvQZqlw2yQfPyXhmSCMkkaSXJti792eYxGy6bh/op1XcpirBJ4ovTKyI7p9KnK/ttjFpGJWRMH4/lqVXu4Xy4JiW/axH8loIUDJMH/Sxsew3KJLjSgVmTRJRf3q0tS9pHNeMjbQE/6C7oBYcPHxbjI34ff/xx99xzz4lRbdu2raJboW8RBuPjqVOnvY61Qo4vWrjYx9fnpnw616/fEH2Kd0fyDkk+BMi5/v6SjiTpMsuS93Wjt1wUXQy9ifODg96fGBLD7MVRr89cuny5FN8VkZM4Bnx8Ez5udBo+NAjoPuhB5HdoiFmbC8UYiLEQI+QCH/8N7/fq1esSNuid19yF80F3YrYn6I0EaZ0+fdrt37/fvfnmm5IOZbBs2TLRr1iOjs7GDci6devk/eJDQ2FJNoyNjbvLXj6VnTyTJ+pBDbboapSZlJX3H3Szq1IupMd5yg7nvedQ6tBt6I+kH2RI0tIxSMmeLwplkSV7LKQfjuX5V8K5WueLQv7q8Z9PfWN1LcL1BdLxhYPZc2yak279xOlSBu2Wo540q9VR9hi/wyE9XqlOGs+3Bkmnk5COk8SzfkoCRcezecyTrVo5zJbaMs+eSvLrcWg8bxpHI3pCErYWxN2oiHl5q1ynRWTCT/3CpNtW2KaP1U82vuoUL+/KlOcdGTrC+KjteTYFWi/5aTXWQDqBoATmGx+106CsMZuRJcgvv/yyGx294R577HExPvIuIvyFp8W3xDinDeKTTz6RJ9YrV65y+/btk/MY9TBejo6OekX6lFcs33Jvv/22O3jwM1H6UIJRMMPT7aAgokB++umn7q233nbvvP2OGDWPHTteMt4t9opueKp+5uxZ96tf/dr7PSjhDhz4WJYrEZ4P4PT7uAmLMotS++GHH4rCj8LOO5mWLFkiS8Y5j+Hx+PHjopjT2C9cOO8V2Otu/foNIhvKOzJRJjji+uKLL0RpJe/IxJbwn3z6iY/vHXfyxEl37uw5kYFy4BzvQiLP5dCeQpvyl1bZsheOFmtrWn9Jx0zaabodh1jzCWGIKwmTXPxT0cygB0PY2E/av8oT+4eUJyHb79LylKPny/0lZZBH4r+6P8jGHf9Op1nuV8k7zm9/eIZyP8l+pXgTauWj/Fz1+DhX7Xwa5IOQp2qylh8P/tkL59jPCx+n0ThxObFVF5M9Fiu98lf2ZytPY+FCWZF0Onytck8T+80LEseTF2/4mRNQ4HjWtY58WfLSDGNUOi+lii0oY6Xy1bYQk/gN5+I6q912Qn3KXkU/jaKyxvJVTqMROeIweeF1l3OzzV82fHl8efFXz3NRkL+a8VHhnBof9X2Pt99+u9u1a5foJITD0IgRb2Rkoegn6Bk8tNy5c5cY9tB1WJr98cefuLe9jvSu1214J9Jpr3vd9HLgl7B9Pl0Mhh9++JHoLO+8867X0T51Z06fFZmWLVsu/pABXeojr6egm7399lvuo48OiNETY+bw8IikxznCY+j77LND8puHuTz4ZYn0Rx995Ma8nrd2zVopVXQ89KQTJ0+6s14P4jxyHPj4gBgagz63SMqEfL722muih6FD6hLry5cvi6zomKyuQY9Cl1yxYoXoXJQ7ftAB3/Rh0Rk/+OBDmVnKQ190N9XNRm+Mef3vM6+PfiC63lmfJ+RDJ0UvxGCJ38WLl4hM2l4D7GtbmV17yesH5STppOXIp3pcRdH8QT3xxeGKkV8GzchDQhx3XIb1lVXit1zWdDzhfPpYLZArK0/esXL0oVt+2HC4PlkapVLZVspH7F+pnd/4fLKfDdd4vgmjrhZ5fiqHDTLmtfeE2vnX8mSvtt+YEHd+mLw60vqpLBPnwzn8pP2Fc3lh8+NL4krvA/uqN+THGciGgxAWKuVH8x6OJ+f0uG7zyY8TOBQfD/Gwx59y/2lqnc+H+Mmmppuf5/wxI4/ES22/Afyl06octtI5jqXPIWtHGB9Dgi1OsUS1tEr12jZZmgkKXyXjI5AnFC+UPxRFFEyU1C996UtiUMQ/jYHGrQ5UIZZZkl75vP/+++Xp+E9/+lNxGB4PHjwoyiV+UJZRqq9duyZLaXiaDSiSpPvzn/1ctiiRR44cFcMmCu7iRYvliThKJfH9v//j/3XvvPuO5Oe9995zH3rF89bNW27b9m3yxP2ff/jP8g4h4uFDOxgQUfzJAzMJUGhZbv3BBx+IURKFF0MjyjCKN3kmb8jy4x//WIyxKKykzc2DGixRhskHsyP5MM8///MPJY+HD3/h3nv/PS//x9J5WGKF8VHLLQvHQ7sK56UdVuzEabQ5Ju2ykfYZwhBHLEta3ORGUgn+kvSS87EM2RtQfstPQeWO44739Twk+5xP99V4n3NAPOnjgeRY+bks2fC1fkPRY6AyVjqvVD9fPWweGl+6biqXfdZfJThfqdzzCP6SMCSTF5ZjReOsTnkc1fMW0k3OJe0ZqsuEv+R8fjoaV+1yC2UTnO4TTv5WCZcl6zfKTtV4OBfOJ2VQNN2QN/Zq5xOqx48cpb2C6UOcT1B5EtRDOs44Dd2vloc4XtLEXxxO4VgcT/acHlcqpRmHU/L8BTienCMofjWOJFg6fOX4KhOHyYavlJdykutQ8F7e9uJoistZ1F9lkKMR4yP+mfGI8RGdht/oG4RnNQUzH/HLb4yUG9ZvEEX89T+8LsuTMcYd/iLMotQHqxj00EVIl4e3//T9fxIdiJUs6FzEyTsgebUMyjyGQAx/6FyvvfZ70W/Qk9CZ0FWICz3pRz/8kfv9738veh5+0OO4EUCv+fjAx+7HP/qxu3b9uqyMIRxx/upXv3IfffiR+0yMfu+LjoZehKw8fB4eHpZX9BD/z372M6+HvS+zEykj8klaPJxGV0MH+973vid6JQ9xkQu9D52Sj9H89tXfih6HbobhkziJhzzyMPratatSDr/4xS/EEEpZfPD+B+7td972Mn4oaY0sXOjLeL1btBjDZnjAPlN/suFPUp+NkNcuyvsA7To/HfypU9JhZ0OxeLTfKfWmr/4blzurk5bHFf+utK9kxxEt/zifeeFi6ok3Sxy2VjqBdP1r+8HpfiOUy5sllLuej/3nhal0LOvqpXK4+uOqheYRGpUVuTRsHB/UilPrU+OpDPEm9R8c4cPZSlRKv9LxSjJoupXIP1d+DY+pdC6dVn6asZ84vMaZRf3HfuN9iOXJnkvgOP7C+eCvkt9mEcuTzkel/FaWP30ujiumUryQ9h/KQsuXfSWOI3sOOIZONBfGx9QUMQQNwup2bmBWYLpwewfNF8ZHlDyUt4ULR9yqVSul0lGMY0c9oGjSMDAK0lBYBs2MwMmJSTc1OSVK3Xvv7RdFkfca8TXEhx9+WJa+oJyiOOIfwx2K6S9+/gvZopD/zd/8jfvrv/5reRfSgY8OuJdfedkd+vyQV/TDS81vjN4QgyX+UVKffvpp9/AjD0sjRT5mEzz00EPuO9/5jvurv/or9+ijj4qCjkEUYyTLd5AJhRlllnC8y/LLX/6yu++++yRvKKr4/8Mf/iBpMAOU+O655x5R3JEfo6Q+pVcDLwZM0mIJ+le/+lV37733yvmkHZcz0678VneLU3+7LNaPQrwh7uRiUYs8WZJ4Avo7zy/E5+N0k/1i+c2Gjyman1oQj+ZDt9m49XgelcIocfz+V2lbDv4qxVEN4o7l09+4WvFl09QwcXy10Dg0TDpsEnc2rfqZTVgoD187n+nz+M+GycuS5jV2QNiwWx5P/ZTHncSZFip9LpB3rBrBb/DPvqZbibz4Y3mJKz6fF1/sX7ch3rAlDvUTnPjgTxkaTuG3xhkT/ASPlc+H8Fnyjil5cSkaLshYXm5FSMKpaxxNX2XOylMtL3kQPI5C4ktFqXVaNO5U4DkjLhfkxvCF7oE+goGOpcI3rt9w165fE8Pfr371SzEO3nX3XaLX/Mmf/ImsSmGVBV+dPnr0mOgjb739lqwG4eEoX4hGd7nv/vtE10GfI04MlBj+Pj34qY9jvXvxxRfdCy+8IPrX8FD4CA56HboWuhyGQ5ZZo2s98MADbtXKVaLzoMOh0wX5wwdieJCLnHxYh3eBkz66FbMLMUTy4BcjIDM6H330EXfXXXf5PC8T+dCXSGPv3r1iUCU+1RNv3pyWLTMweSiMURQd9MvPfVnSIB5kxSBKefDaG/KAPopudurkKZH17nvuds9/+Xm33pfdoc8/l5mk6G34pfyT+mBHfulOQXQ8SRxk+wGk/ZUOevAbu5i8eNpBo+lWKoM478VIl0lWnmzckOcvm2YlGfLCKXG84Xh5+IR0PEocLi/9IjQarigh/nReU3mP8q3nmg3x5uWz0vFmMZPPBrMUy6dxzcTpqSR7o3lKwqXTiQnHSz88jaZVCU23UvpFIWxWNo2vEZljmTSeLMQbn+O3HkuOV0+7EdnqQWVS10zi+CrFr2WR5wL54eL4ysOk055LUsbHREi24Vg7iAsL5rJsVJZWV1AcP+/OwcVoXejXnQEFFGaMs/6/l1Se2m/auEmUwr/5m791//Jf/ksxKD755JPUZGlZ9TFRCnlyfeLkCVFGH7j/ATEAYuTDoYgz0/DzQ597RXg0zA7o431Aw+7+++53f/zHf+z+n7/4f9wzzzwj723cum2r+/a3vy2zNpk1gBGQp/0YEEkL5RR/GAaZkcjsS2aDovD+1V/9tXxYBwMmxkcUUp6+kwby/4t/8S8kD4RDKVY/lFsol3Dj8NTTT4n/P//zPxcjKOeJU8uvKrXOV6AZbUPzUQmVv1o+iKOyLOXHi8hdKc5a6XC+kpyVjueh6avLosfyzlUj+A9haskZ/FaWGX9F8hTLWEveEF8iX1qWBA7rOba14o3RcLWI0y8KciSO36UTGcrjznoM4ZXisqTj8bGU9iDsh3hCXBqnxh87JexrPMnxeso8kE4rTTq9SnHXn2YSpjzNGPxk4y4SLp/yNNNxcFzPxXmKj1cijjv4LY8nS7U4K6VZ6bhS6RxyqMujWpxKET9ZVN68sHoslq2SfN53xgWSPSWcryRr9TQag6QqJJciz0+c70SukAf9zXsP/Vl5jcvBTz+VZdLr1q4T/QgjHUbAO++8U3QiZjieOnlSjGvoJugbGAvRf9BBXvjaC+7ZZ54V3ef8hfPu/Q/el5kFPID90z/9U3ngi/vbv/1b98KLL8jHXdCxmLXJLEVWtaDP/MVf/IXocOhNzKTkwzTifCbRf/DP/oqVK0QnC3H+CzGWfuUrz7u1a9fIw1seAvPg+qWXvuHje8rrfmvcpk0bRW/7znf+VGRGlyI+jRfQ4VgRc/zYcdHrvvktr1/+7d+IvvWXf/mX7onHn5BVKRhrdYWKhl++Yrn70nNfEr9/8Zd/IQ+l0QtZiXP+wgUpN1a+JG2oVD+lsacRKrVHyDuXtIXqVIu3VSAb6aqbLc2OK6GYHhvvc//if80cgyJ1EcqEvUoPo0JcWTRdpZI/IN5qsgQZCN9YO83KEpM9Xva7VGZZ8mTWY3nn0qTPV5Kv0vFmkMTr5WisWFPyzeQ7iqya7MXzFfzFacXo8eQ8coRzkBemGtl6I3z1uiwH/7E8WarJpGErEZ+T8o5cQvqY35NtlkRGBX+V0g7ngvf8+IpTO3wim/oN9aB50vN4CS6bl3I0fBxPERK/bDWdkJamWSl9DVtLtnaR93K8Eu0TsFMKA1opiuaTp+4om7wTkS0zIPnyoipvOAj+w7RYlDaW8/BScBRUwqII0wZRfDH+oSTzZJ0n5btv2+323blPZh4S/4kTJ2VLHDyxv3L1qijF3//+990PfxiWMI+Nj8nsyYuXLoosvgn76MN7J0X53nenvCtJv7TNh21QPJmVyNNxnu6zTAmlFdl5dxBbnpjru4eQmd/MFOAYfngHEYZVZl+i7KNsowyjrLMsG7/IjL9gWAwvUl/vZeGGAD8o17yvsjJxB/f7dXX6dNhSNVYlxF1cUcG/uphqMhJ3iD9G/ZcLqbJomGzcGl95nBo22Sak45wNefJUgnPqihD8zV7GmLz6yqdo+ZT70XC6TSdXf7kH/3ky1xdPFuKNZc2Xq1i6IWh1ebTskzpI+/cSlPagelzVIOpidRxIy0ReQtps4uOVyC+3QK2wWcrjSsuWUJ5mNTnyznEsdnnEx/P9xXKlz6nfvLgrnyv3C0XqoRGqyViERsNlyeaPeNU1Ru1wmmYryjWADPlypNOsJGsYK9Whg/GubYyC6DrMBEQfuXL1ijvnjzEDkHMsOUY/+uUvfikzEjmOY4bkwOCAGOXQV3hlzauvvOp+9ctfuXf3v+tOnjopMwfRpziHvoSOhr7CDEoMk/phQfQ3lQu9jgfB6EEsAUfXIh3OgfjjX+k3ehDps5qEpdKsoEGmO++8S+Imb8yKRIckLtXDeI8k+xwbGRn28Ul0IX7vKFL0RdHNpoNudvddd7tNmzZJevy+w+tdK316rD7hQTOv4fEtQGSiPHfs2CF5xT/5JW/TN6dltQ/yaJqzATmJJy6fBNpF0jY0b4lf2VSlmW06P5r8uNP5KE6cv/ZQLK0gU8hrkeJM6igbf6Xjoa7SZH/HYcqF0PB5cXNMXelIaTt7NE5ta+qqEYfJI5ZX/eZT63wxaskLcd7y/ZfLEfyl/cbh82SfyXeBOgrhy2XJyhjvF6feck2nEbKWPVZHnCmvxFM5bKVyLIKUtTj2mRwVm5X0XMmVZGA/j6TcK6edVAV+KvsrRuXwKnMe+eeKyaNtSeOolEYeid/iYZTK6QR5Gmris6CK8bE4SYNpnHoqoLXU3yCKouVEUWGEYxYgxkEUXl5ujpIIKIdBQaR6bomyy9IaDIQY7jZs2CjvZvRSSnz44x06KLESxos+NDwkyuXg0KCkNzk5IYY7lFG2fJH62tVrojSiZBMPy3Zuu+02mRVJ+iovca5Zu8YtXhKMe1OTkxLu93/4vfvnH/yzvLcS4yBGSuRD+SQc6eD03T6xAz2P4ZHyRn4cafMbwyy/iU/9KXzsBnlQnklX46xMXJ/s11O/9YVNZFF/5f6z7UvbnDognoy3GbLhEyodDwTRgnyV46iX5sQT578+2WrVfWuoJaeeqtk0C1KeXqPl3mi42lQrj2LlQPja8mlZlJdJ66mWXlYmHQtm2wbiOJXaY16Wcrnzoqgn2vplqEb1eszmP6bauZjmyltOUTlmT3IdzZLXVloNyWm6s0m/wWAVQQ70F5zKhS5x+fIVMSbq+6lZOYLeQ5nqbMYJrzPpCo4LFy/IKpDt27aL4W3F8vDwlFmKL77wott3xz7xz/unebcjr7s5/PlhmR2pS4xFvxnx+o2PB4fegm4Tvogd4Dc6IXoN3aGsjjM/CRu+hr1I4iN/A15/4lU+HI/zw365C/HoFjgOhCEsgizyso/4OFUvJa1FixbK9ubN8D7Om17PQz5kQHfDAb8lrwPh69mabpxmoxC3FFQOmobmJ6ZauBjx1iRCmlmamECHU62+88smDX7y6rIylcehJJp0fLH/+tJqlNAPgbRjVw91em869cpbFOKNq6E1dVJb9kbzlxeOY3nHy7OGn8bSFVLlVtppKbOUtyDV6qLVfTYvfo5VSzd7rmhbanVeYtqZltIU42OlzmTEhMqNGypPpjH2UXbMIOQF4iwtFkXOK34orRj19D1DzFrcsmWz27fvDrdkKU+Rw1JtnjifOH5CzvO0HYXxwoUL8jt8kTAotLyfUd9xhOJM2iyBfvzxx+VJO+9mfOKJJ+SJPIoyMogy6f+hLLOPIXHCx3/61Gn3hz+8Lu+HXLNmtcTx3HPPybuAMECGJ9uhTcTtmrzpk2/KAaVUFG0PT9nJv55H6T916qTM+kRmZkASp5Sh/4cSjEzTU+El8nXhRWtmi21F5w3lV6/CVZ1i/ZT06kuzFfnvNsrLIJR1KPLKZRqHY3+uyrJouipj7Mhb2FamWNuLqR1ndYJcswGZi8pdO//aFhKS8msP2fzk5S0c0rJTl082fPG8FPXXPELey8ug1Wgdx272hLzUiisvvSTvHI9dPWTz0r7yrAfkCzrHhMzkQy/C4Pj6639wr776qugbrKDYs3ePW79+vczOk4e2g4Nu+bKw+uLxxx53jz76mLv/gfvlfdfoOszqwx9LrZ966in34tdflKXWLKG+dPmS279/v+hGGOSIE/2EJdCnz5x2o2OjouNcuXzFXb92XWYWxlXga1bkJky27mLwh550xeuIJ30+0BXR/dCX0KV4qIyxEP2Kh91aX8RLmfAgmi1JpPtE8IfeuGzZUmlnp5DdO8oQHTPRL6+KXrlkydJgXMw2Ax+35kGXjLcazWdM9ndxmitznmzdgsrdKvnz4tXy0nPpqggP5+uvnnz5s/U8u3pXmauXVU6W6yaIWY+sRRNtgnARWlfqihLXA/vBlQ40jdaWiW8Npb3KpNtbPengt9x/Xn9qB7NJlyLQYkjHUz3OZHxoesOIqN3u4vPI1Ow6qBSfHm92eq2kKcZHowjJoEkDQQHE+Mhy5h3bd8jSHJYu/+hHP3K//e1vZTbhG2+8Lk/QOc6XCHlnziOPPCJLalB8eSk415wxr8x+8ukn7uWXfyMfbXnzzTflReNvvfmWVxavy1Js0kIJ1ZmNKK0Y79asWes2btgoyilKJYbD1atXueHhIVGcccir/wDZUULPnzsnv1HeeYcQSihxsJRawpQcoMyjCF+9esXL+qkYW3kPJUbFnTt3iGx8nfI3Pg+83Jz8kve3335H4ty8eZMs3UFmVcpl6zA61u5wKkdMM7tpPOjpfpJmUg61CP6C32oDaTa+6vFnz5XHS/gkDs4nftLn5juNlIWWZ3m5Z8mv8yS9kPbs6sLnoLSXplp7i8l6C+HCwWa2FaIpKFIOyJDI1Rj15SORtVI49ZA+Xz5elNOsMq1OSCOpz9gFishRTNYkzkYgjfJ08tNN+81Lt4i8jVO0XxUhm5dacetpDZf2z37s6kH1mcrhgpz1le1M1poA+gHGMb4szcNbvl79i1/83P3gBz9wP/j+D9w777wrOstjjz8mr6zhwSzLlllazD5FMuT1FlZ98IBVV4NgTFy6bKkY+nif4rHjx0R/2r59m9u1c6ecRz/CCLhk8RIxSPKQlYfIvKLm96/93v3h9T+IrrP/vf3y0RgMkKJveZlV58rD1+LMP+Qj3KnTpyS+V159RfSm3732muhQJ04cF50R3Q99EZCDOmOpNPoWMmFExBCpbUTTxqC4bdt22eIXYy0PyIn7lVdeER2VfKL7rV+/TlbbQAgf4hBJo3g17soUbYe14vExRe1Tt5VlSI4Vk7MY2j2aGefs4qk/bFb2an2+UYg/G29+PmM/7KtLyMpbTtp/jIbNhq8eXx6aRuW0oDllWW8cRf0Hf/XnvRLEF7vGaZpIM1SXJymDxuT2I5FsK5Vl+fHa6aRlKvffin5ahNm1l/y86LHyuMPv9mW1PKF02rUFqb98Ev+V8jlXdT0b+r/73e/++9K+0QR4ksxSHZRellWjlAKNQxuINj4Mb0uWLPZK7YD456uEGOXef/99+TDMa15Jff3110XBRYnkCTtfVESZ5N2Pp73Sif/PDx/2v/vduXNn3ccHPnZvvfmme+PN10WpRDFkRuKDD94v6fE0+7JXPI8fO+aOHP3Cp/m5O3jwoCiUR48eEcMjyjJGSN4T+fOf/9wrw9MSB0ZM8oDRk/cloXQfOfKFPMXnKTvLwlFm9d2MzKaULzr6dFF2Pz/8ufv04GfyPiQ+ekOeb7t9t1uxYqXsH/H5//TTg+5Dn3fetYQizRN24nj22Wfk3Y6k/cEHH0pa3CDcffddMvuA9ED7YLYz8lvLPdSF37kV/OiFoRKEy8YXx5VHfDykV+4vL97wO+9YQhIOJSk//nTc6XN55MURSOLJP5+fj/bS/LQr56dWXdIu0uc5nl9GwW/2fOwvGy7sJ/7z461M7L/esAlBZnWgccXHKlHrfBwXaTVGHC7pJ/UR/GfLqXK5cSykJb8yfvidlaPSfpYQNp1u2K0cRv1XljdNVrY8ytMMbTiPdFyJv1rycB5qy5I9n+9f/eXFV0mWojIUhXhi1yi1wqvcELyVp1stfDMJ6TQvLXQrHppiBESvyssHDyd5+MlHYfhIHa+rQa/iy8/oFGw5x1eoN6xfLx+0e+65L8kDUOJEj4Lr1665416/YZYk4T/44H35qvX58+fkfYa8yxDj4yuvvOx+8pMfex3qU5lFSXo8lOVjL4888rDMqORBLrMS0ZU++eRjr7N9ILoNxrupqUl5XzXn0fvGx8fcww8/7HWenb4uw4fzeGB74KMD7sDHB+TB8YMPPShx8hCXpeMYOdGf0OOQEZ3xU7/PsuiHvF/ySBp86IOvUn/22UHRKflIzEmvh/H+R87zcRlmbLIv75z0eRweGXFXffzHjh6Tr1VTpm95ud9591131pcFM0D5cCDvF7/p6wZDL1/IRufDoLvRxzExMS6ykXdkYNl6+MgOS7bDO7y1nRRvM/l+0u0/jjNN+lgyNoGeygtXhHhMieOKnVJp/KlFI2ECjaWVlbso2fxViyPvnKYbTiXn88pNj6mrRfCT9lcpfPhZO85AaE8aR5E6xk+WomnGcRdJCyr5Uznic8l+up/kkRe+HorKj5/grX4dOEu18Hpct7PNX7Vw9caZ9Z/NB/vxsXrjnw3NSCsbh+Ylnc9km81/qyAdJaQX2mJ0WOBccPJLjnlfM8drycspjVPD1KKInxj887FjVplii8KmwkSxeuNpBDM+NhkUZJRFFMLY+BijFcuGj6RgPEPRQzHDcMlMP8LzNJrlz3v27BGj40svvSR+5cuMXjFltiSK7Fm/vfOuu2Rm4OUrl8WRxm237XLPP/+8KNfEQ3o0sNVrVksD4x2TKMwY+ABDHjMrMW6i4KOoopCy3Pmpp56Q/PT390n6zBhAuT1//oK7dOnizBIfZEB5JT2WYKOc4pcn7hgpL1y4KB+24Yn5Cq/E3333PWIgZZ93CvEupoteHsoABRYlmLw//PBD8gSeMkHmy5cvSZmxLGrdurVSHnTsalAmSafy+6V/tcjriOm48qnlp1b4SiThKsffaNzlhHhakY9OpZH8JGHSYfV4fpzJsUpp1jpe6XwlYv/1hq1Gp8YVqN1Xq5ENWz2ukFalMNXDVqc8bPW46k2zmL/qMhCHujTJ71rp5IdPU+t8lkr+qx2vN41OQOUOsnef/NXIMz7GNwKA8REdAX0EvYYwuuqCMMuXL5N3Wz/8yEPuq16veOKJx73OsmFGp2KLH15Tgz6BjsTDVB6eosfceec+Wa3CSgziRPfha9C8HgZ9jIeyzJx8+umnxPDHjEkUenQoZEOvQ3fBQMoD3ttv3+N27twucvLRQfSmBx8k/i3yoBUZ8MuDZGRAN7vv3ntd/+CA+9TrZjwAJn6Mp7f8P24iJqcm3UavUz311JOyFJz8knfSp8xGR8fCR3O8LJOTU6Kz8bEayoz84p98osexImX9+mCE5B3hl7x+ijy8UxL97oUXXvD5fNjLsEIMp2fOnBYdlvK76647ZdYoeaNsqI8VK5b7PO8WPZYH4aH+mtdmNZ4QVzn558p/VwpfhHrCNpLObGRrN7GsleTmeN659LH0+dr+q1OP30A9/mvLmgU/WVckzeAvIfu7EpX8JWnnUUyeojLkUV/Y4Hc26UFe+Er5qHR8tjQjzkryxtt20Kq0auWlXXkkHXUJ1dpF2h9k9Zb8sHnpNBfiRqfi2s+KjXYaHxfc5G3RXUaxipsbUMyOHTsqswb37t0rBrSsvEoQO7wAHcMcy29Q3FAyeZKNgsesQBoEjtmPmlcUSWZH/p//87/dm2++JQbGF154URoSiiUNCIWXZURLly4rKdeh7FDOSYf0SAflkIbHE30cSjYQD4Y+wvAFxWDADOkjM3lFMSce/CAjyirnMB6igHIMJZ00Lvp88d6gyz5tnpJv8go88WKYHBsbF6PtxQu+DC5flnygnJMHHPvkmeOUj37ghvxhwCVNwzAMwzB6C/QLdAr0JK776CjoA1ndCl0Dox3vukZHQEfBj+panEc3QpfhQSz6GTP/YvAv72Qs6UgY6TiGDoJ+hD5C+ugc6E8o7qSFXkXc6DzoPuhr/EZnQXb8orsQr+o3GPjwp+/pRva1a9fJMc0buhPhcAsXLZLZhLxX8vs/+IF75eVX5GHyC197QQx6+AFkYBUL761EBkB3Ix3yhJEROSgPjI+saqHMMF5SNjxoZosIkz598od8+EH2oJuim630+eAL2n1u0ucff+STuiEO8kg5kRbnkAHjLg+S8+rPMAzDMHqZ7HVvrmxYpIvewkpSXp3Cw00+XtcOebrS+OirzjstnHh/7qnH+KhoRaOk4RcFkQaBYoiizRZFDX+cZ8sxlun8/d//vSwnYnbgX/zFX4jSiXII+rSbGZWhjMKSQOLgKT9Vj19+E5/OJlA4jky4vHOAYowDlFzSC+nwQZjw1WqVmw/kTHu/KLO3/D7vCArx8uGYEIa0iI/9RP4k78AWhziE5bweMwzDMAyjd+DaXsv4qLoGqD6A02NBLwl76jf2r8TH0I9Uv0FHSnQxzqf9sM859ad+YvAb61waH79V/+M3Lkb1NWRDp+Qh7vd/8H15hyQzE//sz/5MZiLyUJck0Z1Ef/L+iRMHhCcddEzk4Dd6Gw+niZ9zHFMZJFwpDj7sJ/n0/5B7oN/rbiXd0vvwW8KHOIDwGCU5j/ws7wLixxmGYRjGfEOvx8pcXQ9Jd66Mj136wZlYoepkJSbdwLJkG2BQ1sKSZoyIPDUOxsdQTbF/3dc2wm/C458n1sQRFGDKKpzXLWC0QznFHw4FNPgN5YojbuLQc4qeB+IgPVxsLOSdlBpG/fb74yjOixctkrzxdUTUVu9BzodwQSbiI13SB40DtJyS/CXnDMMwDMPofVAxgot1jWCkUz1BdRIehqreEB7IBv9Z/UF/4yfWkdCtiIf4MbLhj3RinYUtv4NeItHMxMexwcG0fhPiC+eQS3UolSuRJehG+JGIvVvgN8F53c/7GfTnFxK3d+yr4VHR+IgLPYyP0OiXvX0sqTSC/KX0vaO0wut2vH7p4x8eQjcrGR1vBaMpXjWOkI9QBhKH96llT9yGYRiGYcxPutT42NmIrhVtaxM8qrKnrtoxQJFlmTNLgVAig8KoimB5GN1XYj9ZF86H2ZgJyblYgcyGxUv8u+RLXHwsORfQc1mXJTmX/m0YhmEYxvwFVSDRESq5kucqqIExdhCHzZ7T2Yv6G1RXiv3WcjH8zsqCYREDJkufl3kdkFmIrCaRsCUn+yW9C1Rli+Op5YJ/4lXH8fTvOA1/tuQHl5+WYRiGYcxX0AliNx9po/GxuUpHp1daESVL5cdr1n+srMWn+E04trzk+/7775cl1yy5qbTEO++Ykj0Xl2t8jv0q0ZSRFza45Phs6y/EW4dQhmEYhmEYVcjTK2rpGrXOB32nXLcqCmFwN73jAzB7br/dPfP0M/J17DWrV4tBUmIvRR38sw2/Ne0YjbMY+AsuCZcJWzQqwzCMDkTHttk6o/3k1UMjrpkXsiTO6sTpF/Hf7bTlnY9akLM1NnUDvPPx6FHe+XhC3vnIEptmN6TYODg9PSVPxXVJS8xs0o3Dzod6MwzDMAyj80AfyXvnoz8TPOQY1jqNWG+bDZpTZlniiJdX2lAexC3x+2OzSyUD67urcct0RMMwup/Zjs+K3Te3n+bVnfyV/dmiMtVqD1nZ29F+SKOn3/lIRuLMUMjNaiTzES0/ypR3Kw4NhXcH6XF1jTKbsLVAR63lDMMwDMMweolm6FYaAw+bB3kn+MAASrbMiOQlOZxvpgYX4sOYWc0ZhmEYhmHUZk7e+Zg1Rhr1EZcfW/RZVWqtbA3DMAzDMDqHZj3UJR4MjWIUZKv7+htPhmEYhmEYBfCqQ1tpy7Lr+UR7ll2HhqI2xjh6PdfRVLONztPWGLeRUK/VCsnoTLQOy+uu2WOAUT+d+lBmrtvGfHxYlR5vbaztdKiv/GXX83dsjdtty8qg3q5hl7mepJJOmm13eWNpK/tnu9PLYtcOwzDqpci4ycW01UMZOtTk5KQ7cOCAW7t2rdu2bdvMx4tbjRkfm0xsfLzjjjuij8BYMfcO9XZMrXtTVHoZHa/bqPsaddCZNwqtVzAMo5uh3/Juw0rGR8Mw5jumYxuG0R0UMz62HnQo3vk4F8ZH095aRHnl8dtcb7h6aTSc0V2EVyAYnUk7Z0QUxdqLYVSHfmsPcA3DqIzp2IZhdCdzpd+QLg922cYmq0Tnah0287HJMPPxyJEj7tixY+7222+PZj4avUe1eq2mCMXhKvmzNtN9xHVZpI47j+xYlfcErFvHs7l6uliLuS7PDi2WlpFX3POtDLqDpFLoI8x65Ck9Mx/Rq9L9uTvHJMPoFoqMm+0fWytF3p7xoOil264vhmEAY0befVaRsbRZqO7EFp3q008/dRs2rHfbt+8ozXwM6bfynsmMj03llhsdHXOHDx8WA+Tu3bvd4OCgNLRWVqJhGHNPfEHp1v6ezoP8lf2Y7IWzW+jUOpnr8px/16b0Une7Nnc+9BEe7I6Pj7nh4RG3cOHCmXrr1vHIaC7Wj1tLpX4Wl3sRP71E0bHH2qZhGEreuJEdI1qp12habDE+fvbZZ27jxo1u584dbvHiJW0Zr8T4SEKtzOh8QMsPBRnj46lTp9yePXu8ojzkz8kpw8ilSEcvMlhBkX7cjoGlVylSD0XryjDaTTe3zXaPbdaPm0OReqsGZT49Pe0uXrzoLl++7JYtW+ZWrlzpBgYGJO7Zxm/0BtY3DcMwDKMYXDLHx8PMx3Xr1sk7HxcvXtyW92nPeuajKn6zufBn44iVyW5TKDA+suT6/Pnz7u6775YXo/sc+TyF84aRJTTx6u087wYrr28UuREzJb1xatVDpfK3MjfmGmubxlxQ5JpUDdrn1NSUO378uDzU5cXoW7ZskeXXMNv4DcNoHtnryXzsn6EIauuFhmEY7YYxWscoPuT3/vvvuxUrVohetXjxIjneaubU+JgOy77GEYx1jcQ5F5APlRXjI0oyT+nvueceMz4aNdFBoBp5ykte/yii5HRLv+pc4jKuVJZF/BjGXGBt05gLal+b0iRtE+Mjr7I5ceKEW79+vduxY4cYH7neFbnmGb2PqTWdQBF9qNfJKwMbowzDyKeSCtO6a1pifORd2vv373fLly93mzdvdosWLZTjrUaMj6q8NWKUIKxmon60xEPYEFfrM91sYrl15uOlS5fE+Mi7iW7d4mtCjZWvYRiGYRjGfKWa8dEwDMMwDMOoTWyLwvj4/vvvuSVLlpaMj3xwJhgnW6lezSzsbtQuFjLRqFGtelgUS3XdC7I3Wj6G0Tjd33cMo36s3RtGb5D04/L+bH28PVQr596vA7uWzBVW7oZhdCOMXUXGL/XX7rEuTi+bvv6ODrUEMT7OzoDYPKrNDMwWUCeRlbuvL/4d9qvlzTCaSaf2E8Owttl5JNdWq5u5IqmDgPWTgOpNFEe2jIz2UE137XW9tp7mZu2zucRNy8rWMIzuoDvGqXg8DbvNk7vIeN36T9rMAhSb4EoHhO6oWMOYW8KrAHr95sDoLlrXHJPrgrX7xkgUELvGdgJ2s20Y3YNdc5pNUp7dXbY2jhvG/EHtVtXGrDAmqL/uHt/SFNVbO9r4mBBXUO9UkmEYxvyiNeN3fL3roet4W4iVn1COVoBzQVYBzf42jE5AZzX0snFc8xePjUWwPts6urFsQzsq/TAMw3C9PSboNbPWeN0lxkfDMIoSOv2CGQXaMHqd+EJnTb4xiigMRmvIlrvVg9F5VDLIMeD21qBr/c+YLaZ7G8b8Q++7K/f/ztazZytb9bwnzFvjY9ECMows3dJ2ym8SDMMwDKO3CNfjytdk0/eaQVqfSOsWc69nNLt+TXcyZkPQv9mWDhjGLLDrV3fQbf0+7zpX77VP9Stto0WCz1vjoykWRqNY0zGM1hJfyAzDMKoR9Lnkwhwrw/njiI0tzSIU79yXp+n0RueRHpcMY7ZUvqYZnUN39vvZtCuuv1yCw2W4dt7n9bJrU1aMxrAZhYbRSsKFzPqYYRj1o+OHuL4Frq+vLzOe2NjSbPSm2G6MDaM7sD7bPZg+bHQqSdtkW6ydzmvjow24RlGsrRQjlJOVlWEYnYvdcPUeWqc3b95009PTiZuadlNTUzO/OQ92L9ccwo2HPSwyDMNoFaavGJ1K0ja9Dlbw/n/+vvOxIwwkWRnSv0OF6rH4XPVwc0+75WlXenNVzp1Wv9Wxa6SRxgw99UN5WZm1EjOW9AbUI44x5sqVy+6LLw67AwcOuA8//DDlPvjgA9keO3bMjY2NlUKHsanS+FSug4V9DZM+X5skTLPJxqm/g3xpeZX0MbpDeZfIxlud+vtUkM8wjPajY2f9/bYTqD1ulI953U/31pfRGjqjfYe+xk74XYsFN2/e7K2eOceMjo66EyeOuwsXLrp77rnHLVy4sOrgxzkdSHQfxz5P6OPfLB2qFlcnoPJpnlpNu9NrF1rn0Kt5NOYLtF9ru0WJx3jr84bh3OTkpDty5IjXrU64DRs2uB07drjBwUE5p30Eg+Lbb7/tfvazn7nDhz/3YaZS/Yd+RZiHHnrIvfTSS2779u0zx/GX1a+S665shOj0DOF8tX6qgZJrOunh4vSagcYZx4t84Sd/gpzZtPmdB34qnWsWKker0zEMozcoNmaUjCGe4M3GF6O3iPsBLr6mF4Ew4+Pjbv/+/W7ZsqVu06bNbvHixTX6VXOY18uu5xJtLFrJeY0mnEsaVyU/Gkcn0E55il2AupO4rjutjg2jFrTfpA1b2zUMozXoOMPS6k8//dT94Ac/8O6f3e9///uZ2Y5s33//fffRR+mZj1xX+/rC9TW+5up+uO7q+JVch9mqS87nQ1TBpePP+x0fj/fzqHZO5QwkcrLRcyq//j5z5owYbS9evCBlCXrOp1Y1PcMwjHYRj1uVice3Wn4No7vptuuzzXxsMrVmPrKvgyZbZjdevnzZ3bhx3a1atdqNjIzMnA/hcMlAyzuLLl26JNulS5fOxM/5bmt8s0Xzq2VjGEZnEMYk9qxvGoYxO6rNfAR0gGvXrrnvfe977n/+z//phoaG3HPPPefuuOMONzAwMPOex/7+Prd+/Qa3a9cut2zZMjkWk+gUsvG/wzZLVuco1734Hfyo39hPNv74d57/agT/GAfj30n4rKx5UD7/8A//IIbaJ5543D388MO+fJYXlmE21COnYRitJIwj1hcNo/ehn8/VzMf+7373u/++tG80AZ4YX7161Y2Ojnkld31GQZa/omyhTFPBKH1U/NtvvyP+MSjSGIBlQPi/eXN6xj/n3nrrLffFF1+4JUuWiAI9MTEhcfb397el0VSi3UpknMxc5tuohCky85VQ5Um9MzZYO2gE60OGoQ9p0a3Qe1asWCH6DuhYg4700UcfuY8//tht27bNvfTS192TTz7lbrvtNrdjx3bvdopDz+IhL/6DrjYqcan+hA5348aNmdmR6GHso3sxjqFvEe7KlSvij2MYOIO+poQHxqSBP9z169flN/7wr35IDxnGx4MeR5wXL16ULQ+ZkSuOW8MQn8aNbPjRPBAPaREvW+LBP/FyjPJEBvySDnF8//vfd6+88opbtWqVGGjRXbNpNxvkBOQwDGNuKXXHmTEkdMvO65tFx43En/yVfcMwAvQfdIPTp0+74eFhsScNDg7V7FfNwIyPTaa68TFUKMrf0aNHZ5RL3lP07rvvuttvv12UvYMHD4piSGMAlG6e+KM84v/11193x48fdytXrpQn/OwTN0p5J9COhhtAeS/ttS1NozihTorWTafdiKg8YO2rXtLl1anlpwq2VnXnyZnMei+CtdnmYjcvnUFl46M+1EiMj8ze4/x9990vsyQh7t+EI76zZ8+K7kUY9CjCoF+ha/FAmJmW6GDoYp988oks6cZ4x4PfN998U/Swjz8+4K5cuSr+WIUSG/+YiUmY1157zf3hD3+Qpd/EzTnyQJr4RQ7S++yzzySPfCwHIyDLxElvZGTYLV68ZMZYiCFUZXjjjTfEH7JigGTWAoZV8ode+N5774lf4mGfeIkf3RO/yKvp/fSnP/X5/NiHDQ+7ccuXL3eLFi0KhZeiOQ9FCD/bOIxWYw/A5gtax9ltp6FiFZVv7vNhfcjoPGiPifFxpGR8HGxLOxXjo96AeVHk4GwIcc3fDlbL+Ej5YEREcUQZxC9P6lEQ16xZI0okiui6devEuEgY3sXzzjvviENpxDh57tw5SevUqVPye+3ateIY5OYKZG1/3Zvy2sk0UjedWJ/WxnqTuFrDfnfUM9cRqNQuO6W9ipxeFD9Kz/zu1r7UqNy16sqoTWXjI9d/fATjI4Y0DIo84MUYODEx7k6ePCnvecTxyhrCoZehQ/3mN79xP/vZTyUssyUx7P32t791P/7xj8Vgx/JsjIS//OUv3U9+8hMxIO7f/6537/m0PnLvv/+B6F8Y/tDXMNYxUxBZeeckS5lJA7nwh66HHMiGjkfcHP+nf/on9+tf/9odOnRI/JAHHAZJ4tuwYb3cGKDzEdc///M/u1dffVX0RvJHOPySN/ROwqBH/uM//qP73e9+5w4fDl8AZ9UMDsMkRsUlSxaL8fJXv/qV6KPnz5/3aUxLfigjyoSZkFlKTTrVppN2Hs5be+8N8ura6F20nju7vovd9+Gnk/LR2WVq9DpZ/Zt9NT7ykHPp0jYbH0v7TUlwvneuasZHRZ+6Y2hEedQn1zSMq1eveCVzudu9e7cosyiRKIL4R7nEP0/2MTpynPJG4WXWJFtfAyERw+gyaMudNH6oPJ0kk9FsQt2m67g76juWWW/8lU5qs7Es3dqXZit3t+a7U6hsfAxQvpOTEzJDEaMfxjhmGX700QGZHYhj9iGGP15tg+EvGCDPut/97jXRv1avXi3Gt1/84hdirLvrrrvk3Yco5y+//Bv3k5/8VPyRfljKvVMMeKSFYybh1q1bRS4Mef/rf/0v99Zbb0paxLV582YxiqLvkc7GjRvlgfHnn3/ufvjDH4pREDB44kiXcyyJ3rx5i3ebRA/83//7f4vhkTK499573Z49eyRN4mVFDQZDHmSjJxIvW+TEH+eID3mJX9/xxPihq2vwd99997m9e/fKF8EpryzanuN2nW3j1uZ7C6tPw2gUu48wOoPQDENbpE3OqfGRhBpNLHnamWRmPlPJ+BiXE0+79ak3T6dRbDEs3rp10z311FPuxRdfFCWW8yiVKI4oqcSF0skTcl12/fjjj7uvfOUrM0+7IVsnhmEYRj6x3a5bxsxacnZKPrr9GoT8s81Dt5dBJ1DM+Dgpxsc333zDnT9/QfQldCJmM2L0wxEWwx76FTP60KGuXLns3n13vzzYZZk0Bry7777bffvb3xYjI2m++eZbYsTDgPjnf/7n7s/+7M/cM8884x544AF5BySvzWHLQ2Nk+elPf+J+/vNfyAdv/vW//tfuW9/6luhqpIsBFEMoecAoycoWZieSzgsvvOD+9m//1n35y1+WtJjViK63adNGt3PnTtEX//7v/14Mgn/5l3/pvv71r7v777/fbdu21fs9JUvBMTzyMBoDKr8pJ/Ly13/91+5LX/qSD7vEHTr0ucwCxdD4xBNPyMcRjxz5QsoYGb7zne+IAVJncuaR1645ps7oLaxODcMwupNk/E7GcY7NlfFx1m+SRshY0OwMDCOg5YRjxiIKLsou+zx5RpkcGVnoFdGz8lSaJT8YMlG6eXcQT6VRJmkoKM3410bzxReHRWmk7HHZOjGMbkLb8VyjcnSCLEbriMfmbqWT82B9yGglcZtHX1q0aLF79NFH3d/93d+5//Af/oP7z//5P7v/+B//o/tP/+k/uX/zb/6NnEN/4h2KmzZtcn/0R38sxkaWR7O0GgMlX8rGkKiGN+LFqPfYY4+5Rx55ZGY5MgbBp595WvxeuHBBdDdmR3744Udi9COehx56SB4eEx6D3pNPPiG6HYZOZiESN7LwQJqZlhgEMfox61BnUl69ek3eLclMSIyVhGf1C7Mleack761El8SgiAzIgh/eRUk8Dz74oNuyZYss3d6+fYe8CxP9kTDcbHB84cJF8sCbsiF9fSekMb/p5uuiYcwV1m+MTqLTdPDWfcbO8IMPf5MKZzCiAaBwvvzyy/IOHpTCb3zjm+7ZZ591f/VXf+VWr14l7+nhCT6KIQokT77xz7uAXnrpJfcnf/In7pvf/IY8xUY55P1Ehw9/LvHbgGd0O53SjoMc80mJSIxEZixKCGXRPeXRae21U/qz0dvQT9WQp7P/mNHH0mSMfrqUmHO6IqW/v0+MbRgH+VAL+hSGOGZEYogD4p2+OS3nMThilNP2zHb5suUyixFdDd2OGYw8MEYOlnITTiHdFStWShzMxMQfRkD8hgfQiV8MnxxnS76Y2UkYHkwzc/J//I//4f7rf/2v7r/8l//i/tt/+28ye5LwGE/xi9xDw8GYqB8vBOLEITt+cJofZOGDMxxrFpqG0b00b/ye27Zg7bD7ac540vp2aG2ts5B200V6fLtpd3M142NLQbkr7QrhB8uoWYLzp3/6p2JA5Mk0Si1LdDBE/vEf//HMi85RPFGMn376aVmOw1N7lljzlBzDJctpvv71l9yGDRslbk3DMIxmMJ+MJomRqHk3G91PtihMqTSMTiT0S8YujIgY+gYG+sXQhi6FAY5j6FT4oR9fvnxFPuzCw170KpY664xCljxj9IO+BeHd28ws5L2IepwtxkaMjqSJURH9Dsc5/LPsW8cMlmazzJstH53BH+GQSbcxyInjOLLjH+MihlWWXLP0muXUf/3Xf+P+1b/6VzKz8xvf+IbkRQ2Mmt8YTUduyLzjNI796embM/Iq4ff8GPe0TGJnNIu5fRA1l2n3GlaWRtfhh/JOGM8785rSXpnM+NhWwmCN0onyeOedd8ryF5waIFF+WXqjyiMKKU/VWYrD+4F4ao9/XhTOluU/PN3HQEnjuWmKkmEYRtNgSI2HVVO6DaNzYfYexsD4K9c4XnXDkmheVYMBEaOhfpQF/3/0R38kq0rQz37721dldiHH6e/oYRgS+do1YViNwkdjiBPj5bFjR0VPY2kzH5LhXZGAEfPDDz+QpdJ8LIal1nwpG8MkfpmViCEwz9AVft8Uv+xjfETnQwfEAInuxwNo3tnIex/RHXfs2CFLwTmP3LduFjOeIQP6JkZRlmzjKJ/p6Sk5H8a8xsY9wnbTmNlNshr1U6Q/GJXR8gvbbjXOWx+fb3TquE7/mY9jUupr18bsYekNSlv44Mw6UegUbft0AjUsss9SGRRWlEf2eUrPce0s+NOn2OwvXrxIXkCOgRL/GhdoI9awhmEUI3sBCF1o/vUjyoHxI2w5YmOJjaeGMXdggKv0wRntmxMT4YMzfNma2Yv4573afHmaD8KowxDILEgMbLyyBiMjH45hFiEPeTEy8s5Gwm/dusXxDkk+9EI8GCOZycjSZ+JmqTPvikTve/LJJ8Whl2E05PzBg5+JX76qfeDAx/L6HOJiZcs3v/lNeQiNkRQjJXlkZQvGQyCv+MXAiVGRZeMsCUd+3gHOTEwMrcjLK3n4uAzLuPGLv4MHD8oXsCkvHmjzfkvA+PrOO+9I/nigTZ553yNpUXYTE+My7k9NTfuwS2U2ZyPodaQbQe7YtZL0dZYb0d693qiONXf5m5v0Nd8x3VzHKrtmq515Ia04vfrHmd7uY0Y+M33QV7tvQWF/jshre3PRHkkTHQKdAJ0IvYGHnO2QxYyPTSa89wfj46jbsCH52nUgPeix5YkzL/fmiXZ430/oIJUu0hgaV65cJU+/8R/7E6/avzLhDKMbqdQPmk+p42SYj/0ozrONI1YG9VL/zYBhVKea8RFob/p+bAyQGB8x0mG4++yzz8QQp473IfJOR86/+eabon/xdWdmERIvOhbniGPNmtXy3kZmPGIkZB9ZMCzykReOA+/s/trXviqGP4yVxMlD5HPnzslHYkgXuYiDh8y8WgdDJXlB8ccPyj8fp+EjM3DjxnV/PHxMkJmU+/btk4fUzJbE4MiHZXDMpiR+DKM7d+5wd955lxgMKQscMmNcxSgKGEMJx00HxkfiVmMsHy88ceKkl/u89GPyQ/hGCEOAjQO1SMZKtmG/V8dPzdfc5a90n9TmdpmX326t41hu9jshH/XIULql6Nrybx16D9S75UKVz7XhMUsz+1C9ujd+E+PjiNdbls2867rVmPGxySQzH0dF2UsbH4s3sqINMuuvaDjD6DZa265Dv8m6+cx8z7/ROK1sO2bcnH8UMT6CPszlNTbMKuQr1BjXmGnIVo14GNUwuGGEfOaZZ2RmIPGirxGe19iQBrMFOf7e+++5a1eviV++ds0rcjhOfM8//7x74YUXfHp75IEwsmD8Iw39wjQGQwyH4QOD35B3fhM/fmnPLPVGRj6IQ/rATTKGUB5McxyjJWmG1+5skngJx5awvD/8a197QfJOvDjSoByQk7Ah3ltezmG3des2iZf3h5MOMvNQmzLB4Ij8lJ/KUz/WR4uTlJW25daAgWFu66W1+SvC3KSvfVKd0RzqLUsr/3y43kCvlk3IV+/Xez31h181PqIThJmP7TE+LvBKnZq7jSaA0ZGnzTxF5iuLKIcoe4ZhGIbR65hx0Gg2zFbkfY0sN8b4hmEsfrDbyvbG+xz/+3//7+69996XGZIsl8ZIh9JOuvHHW4IYtWWpx281VLdsZv4x9OLIV5w369fdS9LewOqwW7E+aBhGs2As4fUtvHKFWY884GTlRjuwD84YhmEYhmEYXYkax3C18L5Ke+lwsYvhJ8/oMcixsgWjIzDzUo1znOM9j3nhs4Tz6i/2G/Y5HuKrHg9w8xAbIwiTxJsOXyk+DaPnyRMzIfv6Qrx63Iwe3UuoO3VGNxH3W+uDhmEUIb6mdyJmfDQMoyOJB85OH0gNo7vpjv5lY4CRh14fcGq4U6fMnJMvQCdfkc76g2w4DI5qeCScwrnkd2Lc0eO6jffZql92+R3OJbKokSH8TsuZxJGFY+E4p4NLh9Fwuh87Pe7/lp3T40Y3ovVndCNmcDRaTTLGG91EXr3JsS64VneB8bF3OoWomz4rs3IhKsOYX/iGbzpYd2PKTSfTvPcgtfJmqVrcoX1ZG5uPlLeLpC2IMp4z9hRtpsTNS9h5nyMzArNp6e/ax+Olr+XouWw8/khpG9Dzmq/EyVk5lyWOs6ws/Kn0+dJOieRcftxGp8PYXtrtAMrbbXnfNFpfLtk6aHV6RmfTSWOEUYxKdeZH/Lrrk+4fXHvGgY43PvbKeCjtoBl56ZHyMIxaxDdEDKalXmR0KdkbYFN2jdmQ34ZsjJivML6oC+2gvC1kz6fDpNG2xXu777zzTvfEE4/Lx1wwQmbJCx+TTTOf6nHMlkrpeolKe1mS47XyZ3Q6nVN/1paKwDhR2m0RVg+GEtqCtYfuo1yfSH5X0zXyaO/9WMcbH7Xwuv1GtWnS2/hgGIZhGHUqV4ZRH+idfKn6ySefdN/+9h+5u+++2y1evKh01uh2vdyYGxi3Y2fk0fpysXowDGMu6Ip3Puqg2PUGSJ+NWbtSXIZhGN0DI5eOXmFruq4xG9I3S+m2ZfQYVPUcjRfDw0My43Hfvn1u/fr1bnBwqHRmvmN9zjCaB/3I+pJhGL1P/3e/+91/X9rvaPRGI2zmSAstwNTUlLt69aobHR0tKaqDpTOdiF3oDMNoB+mxxgyPRrOxNtW78MGUy5cvi261ZMkSt2LFcvnadPt0mPh9jWokMP1pAS8iNwyjCfAaEbuONQ8bow2jMmG2Mx/RO336tBseHnbLli0Tm1U7ZkF3jfERQoF09sjcXcZHsMHZMAzDMIzOZMb4eO2qW7K0ZHwcaKfxEexm1jCM1mGGx+Ygo3RppaSVqWFkCbY0bGroVnNhfOyKZdfG/IMl9uJM2TcMwzCMeYrdPRqGYRh1smCB3UEaLYX2FWwVRj0suHnzppVZE2HG4/Hjx92FCxfcvffeK19KbEXDbIY63sndZeb9nj6jC+zmwzAMwzDmIQvc5NSkO3LkiDtx4oTbsGGD27F9uxscGkJRKPkxDMMwjIBcGfwfm/lotBK1o3SbnQJ5meE4MTHh3n33Xbds2VK3efMWt2jRorbMfDTjY5Opx/iYd6xolTejaXRyxScdOvlrtIZmtwOrLcMwOhUb77oMX8CTk1PuyNGS8XF9MD4ODQ0FPaGTFRnDMAzDMHoSdJBOtlPkqUdIKs6Mj90NxsVQVwtyjY/qJ9s28x7aF63zZjQNq3gDmj15pA3jlmEYRkM0dbzzY50Nd61nanLKfREZH7dv3+aG2vHVaatcwzAMwzC6kFw7E650oz4+Pu7279+fMT6GcK00QprxsQnoEmEqCuPjsWPH3NmzZ93dd9/tFi5chA/xk61IDRfTDouzYSg6c6RZgwCt19qwYRidiF5zmzbe+aHOXgvSeqamJt3Ro8fcqVOn3Lp169yWrVvCx/yaVZGVsPo1uoxm6F959yaGYRhG95EdzcMVIiy7Hh8fcx988IFbvny52+r1qsWLF/vxHx/lNqtmYsbHJnPt2g332WcH3ReHD7ut27Z5BZmn8/UUsVWH0X6aoWyGcap1g5VhGEYzaM54Z2NdK4nLd3p6yp0/f8FdvHhRlOTVq1e7/n6+dt16rJ4NwzAMw+gOiuosC0oPdo+4LVu2uNtu2+2WLl1a0nlaa4sy42NTwIIcbmiuXLnmDhw4IG7VqlVeQe7zx0veyqh0wqrEaC9mfDQMY37ASoTS7iyw8a59cH26fv26u3btmiwLQkHu60O3Ml3JMAzDMIz5juqjeXppWlcKBsYFbnp62p0/d87t2bvH7dt3p1u2bJnXrTR86/QrMz42AZblhEK85UZvjLovjhxxp0+fcXfcsdcNDw9XNT7G58LNDFiVGO3FZgIZhjFfsPGue6CcUZB53+OZM2dk1iNP6QcGBqQeW2WAtPo1DMMwDKM7UJ0lq7uUP3DHwNjndRze+fjRRwfcmjVr3PYd293ixbwqUMO3zhYlxkdV3kzZmgWlOhobH5N3PrI86J577nEjI3xwRiuwvEEYhmEYhmEY5aCXTk6yNOioO3nyhFu3br3brl+7bpHh0TAMwzAMo/uIbU2VdKSwYnd8fCJ8cGbpUrdl61a3aNHCYAv0weSbEC1ixvgY7I5Z45hRFC3DsbFxd+z4UXfh/EV33333ZoyPRbF6MAzDMAxjfhI/FFfjo3ztesMGt23bNjM+GoZhGIZh1EGw90GY+fjee+/Jq2y2bNnsFi1aPHO+leqVLbtuCmHpz4zx8dhRd+HCBXfvvfe5hQtHGqhAMz4ahmEYhjE/qWZ8ZOYjX7s246NhGIZhGIZSXS8KxkX92jXGx/1ifNy8eYu8U1tmPrbYDtVX2hoNo5Wc3YJOWuVvUWcYhmEYhjF/CQpwIN5XOJZ33DAMwzAMY36RZ1Mqd8EyhYOwTY5lXWuwmY+zJhRfmPm4wI2NhXc+yszH++51C0cWlp7OFylm/XBNdYXa1G3DMAzDMOYDU1NT7siRI6mZj7bs2jAMwzAMA1QfKmZvwmbFzMf9LLteskQ+5BdmPobzgdZYnCrMfAzLiI0iZCuG3405NTyyreRAt4ZhGIZhGIZhGIZhGMZ8BFuSbos6zy2/JxbHzPGZbfOpYHwMX8HpRDCKqmE03p9bshVWIiVa7Keyq5WbTsitYRiGYRiGYRiGYRiGMdfk25bKnRLvK1k/zafKOx9bm7BhGIZhGIZhGIZhGIZhGL1NR39wRmc2xg50Vmanzs40DMMwDMMwDMMwDMMwDKMLv3adrEuHzvnaocqhBtJG0dxVc4ZhGIZhGEb8Cp7q+ldRf7MlqwdqunnHkSXvnFGcyuVnZWoYhmEYnURHGx8x6GVdpzMbBTJrZKzmDMMwDMMw5juxbsiuuvA70R112yo7n6al6UCeTpj2Vx7GqI9QfqUfKaxMDcMwDKOT6LqZj4ZhGIZhGIYBsSEvdrFBT/0kfptH0Tiz/vR39rjRCOXlGmPlaxiGYRhzz4KbN2/auoQmcuPGDXfixAl34cIFd++997qFCxfWORuyiIJkVWYYhmEYRu8zNTXljhw5IrrVhg0b3Pbt293Q0NCMboVhaXp62l28eNGdPHnSXbt2zXnddsYINTg46JYsWeJWrVrlVqxYIb+bBfEjx+joqDt//rzogMuXL3erV6+WdDiHU1mU0bFRd+b0GTc2NuZWrlwpbmBgoHTWmC3nz59z586dl3ayfv16t3jx4jp1ccMwDMPoTdBHxsfH3f79+92yZUvd5s1b3KJFi1J6Sqvo/+53v/vvS/tGE0BJvnr1qiiiKDz1K7m983RWFe48qp0zDMMwDMMADImXL18W3QojIgbE/v5+Oad6xMTEhCjR//AP/+B+8YtfyP5HH33o3n//fffee++5Tz/91F25ckUeCGOIapahj/SRD8Poq6++6n73u9+JIXTjxo1ueHjYTU5OissaIE+dPOV+9vOfuTdef0OOrVmzRhT/InS7/tQs+Sln6h29m/hoE2z5/eabb7of/vCHvl6Oi8Ea4y6Y7mkYhmHMd7gOcg09ffq06CrLli0Tm1U7ro+27HqOQRFCecJYicLkj5S5W7dueuV2WrbaJmgc7KP0qutEyB+ysU0I+3pOZSdPaX+tgTTUGYZhGIbRWdR7jcYvswiZeYiBct++O9xjjz3uHnnkEbd7926ZDYlx8LXXXnPnzp0rFHfwE/wFnavcxfT19Ynyzpaw6HSnTp10H3/8sTt27JjIp3C+v6+/TNnXfc6ri9Hf2eNKnlxFyEsL4vjUT+y3Vlp5cVYjK3/2t8Ix6vTQoUPuk08+kVmvqkuSptZFf//ATPg8WYrKRxRBFn7Vl6degvKqt06N9mN1NDf0frn3Xv8P+Ql5Yr9a/mqdNxKqlZPNfGwy9c58xPDIE/OTJ0+4oaFheSofgzKFgnX27FmJkyfjKFUwNTUtswFYXjI1NSmW61hJi/fniuvXr4vsTO1lpkGYbRDk0nxRBpTTXCw56oQyMgzDMAyjHK7R6EG1Zj6ie7E0G4fu9eSTT7qHH35YDI+33XabxIGRilmIO3bskJmGGgdKMudx7BOnuhj1x2yBWLHGH/oLMweY8Uj8LLtGZ3vnnXfdW2+9JfJxTGc3shx46VKWOm12O3fulDyh2xE/ZGXIpqfHY7khCSc/q6J5Bd3G6bDPg2/ezqRxJvEHp+mnZcAFPTX2G+JLP4zW47qPUyhnnIaJz/Obuv7DH/7gPv/885ll9dQD5Uj5rlu3TuqeOkHHJB6I02CfuLIy6PHyvKVlnG+E/Mue/DY6k2wbjduv0VooY8q7N/tJyE+vtSPNj2arUv5qne8myEOrZz5WisuMj02mXuMjBrg33njDffDB+14xXSPKEpWljviOHj3qXn/9dXlyzvIRfY8k7xd6//33fNgP5enu2rVrS8o0F5m5V5CQ8dSpU7L8hfcw0bhRsJGL8vnggw+8Yv6O3AygNGYNr60iLl/DMAzDMDoTrtMYf+oxPqJP3HPPPW7btm2iUOMfXevAgQMS1549e0SXIg4ejF68eMGdPXtOZs/hD4Wcc8nD0qCLkT6zJtG9WMLNg1P8oedh8GJ/ZGTYy7hU5ELvwfDIkm9AFvQg4sU4FvyPyDsiCU/6xEt8nNe8kQ7552FuX18wdLISht8XLlwUeTiPXgWDg8EAV4tYB0JfI+/EQ5mMjt6QcuG9iaTDec2nhkN3wz9lguyUD2ExPKoREL+E1TycO3dWZNZyxj/7k5MT3n+/lAnHKQfenY67dOnSjAxDQ8GIePnyJV+fH4sOeebMGWkXupxe5WRLmS9cOOLD35C4CMtx0kE2fodyvCDparkjL+lStpo3bRfIGZfd/GM+5737oN9Ap7fZtJw8EOh8mbPE8ia73ZWHWvTa2JfOT2XbgG+R/OmZ/JMPrmmtMj5Wi8eMj02mqPGRQZaKwS/Guc8+O+h27dolyjLH1aEYofh8+OGH7t1335XGQbykg/Hut7/9rShNe/fuleMoRkq1im8XLIFCzo8/PiAyo/CjHB4+fNj99Kc/9Qr/Gbd161a3ZctWafxaLq1FL2rsz30ZGYZhGIZRjupBGK7Ql2oZH5kFhy6xZcsW0ZdQrjGkHTx4UN4BuXjxEnf33XeLvsQyaPxjIMSI9dFHH4lugs5F/MxSRIdDL8EIxbsj0dd4nyTxcYyHpsxgRNdhCTAOoxwGNXQ2wmAcw8iGH4xa5AFYjv3FF1+IoYww4T2VH0m6GFA5Tr54iEtcx48fl7CLFi0WGQm/f/+7Xj/8SNLlQTV5IjxGTcLXhhv+UMYYZ5GBpeJHjx4T3e3dd9/xcX8u8pFP8ku85IMVO/jHYWCl7Mgr5YUhkHqgfpAJ2cjDm2++JfosfjEwkrfPPvtMyou8ET9544E88TJblbIOeRv1fpaWyuo9eShPvomH8qV9kCbvd8Twy/s+Occxyo4H/ejmnFfZbty4LkZMZKOtcI4tbYljlAEy0E4wRtIukLGZN2ndQtDP2TO9uZugnc51Wy1yb6fnwzbe7wbCOKogN/eZut8rYIDzran0qzdIt81SpeXlscfqk3y00vhYjQ4zPqY7bzdSy/hII6eyUZ7Yx6++r+b222+X5SHEgR8aAIY6lEj2Ue5QwFguhH+Wm6Do3X///e7RRx8VhTM0mtBDtAG1QmEg7kpOQUFV2VE0jx8/5stjSMrkN7/5jSjZ99//gJf9EVmOhJwQx9EKSskIrU7LMAzDMIz6iPWJosZH9CP0JPQvzjOjDaMTq0MwVGEs3LPndnffffeLAQmjFh+nwfiIToUBDEWcVSYYmjCgYYzCsIUhCr2FMDorj/gwyKG3IRsGTAxm6Dg4NUbiH/0GnYh0N23aJDLzcRoMiKr0kwZyosvxRW9uCMgLxrqXX/6Nz881t2vXbZLnt99+W3TA48dPiCEQGckrsrMSZtWq1ZJWNR0n1rkov9///vdSHhhEyRszFDHiUaaUD+WuK2zQ51599bciB3VDHV29esWnf1weKlMu6HXEjeHu5ZdflviRjzxRXhge1bgHLEGnLHgY//rrb8j56ekpMdqePHlK4qZMyBdxYixl1iV5Z0aoz4no3TzkJs5XXnlZZjxyjPr8+c9/Lv4xTOsHaEgD2T788APvb4OExfBI3aCj0oZ0EgDlwm9k1DqbTyRtqXKbMow8QtOp3W7i8ara2NVJVLp35Xe35KEI7bpHnwtClqobjHutPsnL7I2PFFi+/2rxdJDxMZliXauB63mlvoJqLRgVKxsfwwvRecfjoc8PidKDkoPyiUKEUk1D4DyNgeUfKKFJoxjwyul+eU8iihfKEO8z+trXviZPySUFXzbBUS4c4U+w6ms5zXYAUQMryinKOvvqUAJRTDXf7CMbaR458oU8QUdRRdlntiay83n3mFbXp5ZFq9MxjJjZ9jvDKII1L6PXQC9Cb9DZcZWMjxi2MBhhMMM4iDEOwxkGLvSV22/f7Z588ikx7KE//eY3vxYjF8bA559/3j344INifCItZuORLisz0OdeeeUViYv3M37pS19yd911lyyXxj8OP4RBr8O4tW/fPrdy5Qp340b4mCArWx5//HF39913iZGLYxgVkYsVL8hAHBjU0CNJBwMZcmKURHcijnvvvVce5mIwQ5984IEH3DPPPCOzOTGW6oxMjIQY/3iAXYlYF0IeygkDKr/JHw+1WaKO8Y+yJX7KA2McM0D5eA9Gxueee8499thjIh/Lp9FpyQP54rqHP4x5yPLEE0+4p556Sh624wd5WUJNmXCMPF+6dFkMtXfccYd76KGH5L2N6LH4vXbtupQNceOHMkNPfvDBh0RezlEvwTj5sZd5UakuVkp5kw+MnDhkI06MoiMjC0U2ZGRFEfVAXilbPlq0ffs20cspe/Rb6ovy0PbXqTRf75h9PMjU6eVWlF7KS2vp/TLq9XZA/jolj80c10IcIZ5OymOrIZ+zNT5SDcF7fWXWQV+7Tiq8aOUX9dcp8NJuXYb805/81P3oRz+SJ+k85aXyMcj9+Mc/dj/5yU/cL3/5S1GSaBjkEWUK5eq+++4TRZSn6yiWjz32qCiZCh2y1CdntuHF34lFX2mk6FA6eYLMUpzvfe977h/+4R/cP/3TP7p//Md/lH0UYmZjgg4OGFF5/9Jdd90t53iyTgNH2UeBI39BbruIG4ZhzIbsOG+0Br2+GZ2D6hCsuECRRkdCx8BA961vfct9+9t/JDoU+gcPeT///LAYDjmHPoJx8Ctf+Yrso1dhaEIP05UqGKZQ0jF+YhjDHytPMIhiCCNttug8rFDhASsGOeTA4InhcO/eO0Q2/KojDEY8HiaTLrIxsxDDGg+m0ZsIQ1wYXTGsYVxFduLV5dAY3giPARTZmaVXD8iCQQ0jIAZFDG9PP/2UfLyH95Fj/EX/Qx5kQD9FZgx5lDkPmrdv3+HLaEQMtWoE5iE772rE6PjCCy+Ike/pp5+WfQy+vO9cb3ooY8oNv+QNKH9WzQwMDEr6pEtZ3HnnnTLrdN26tVIf1DOyaFzBhXc/Uh/ki2PMkMXATPlQVhhxMWaSR/JG2SEHHw6iPAm/du068cMsU84jh40BjUEd9ArpvNAerE3MN3SsURgXbGxoLdkyN+aGUAf110MHGR8DocPq7L38zkteu7HRITKKI4oiSiNKEwoR7yBShVafoqMEoUwq5BelEEUI5QfH7+XLwwdcFPZxqgjzpUIUWJQrFDb1A40MjoRhdiMKGk+3eWr86ae4T2WZC0pdrPDiH1l4+kz+SJslSDypJu8odaByl0QzjJ4jadumlBhGt5HVSfQ6aswtcZ2wjy6FYerLX/6y+5M/+RP3ne98R9zXv/51MVZhKESHYXYgWwxKzFRUXQQj2qZNG0UPQ28KswKGxHCF/oUhjeW7P/zhD2WJNMYrjGMQt4nQXhL5VMfJ4n3JVg1kGBB5yHvkyFGf9ikxRGLoQifEsIY+x+oXVppgGGXW3s9+9jNxr776qshDvtDDmM1YbztFr2TVjs7qw+jHDE70UeLjATqzMXEYI9EBeYj+85//TBzLsNHx8Ie7dCl8rGXZsuUzswUV8svsQv3gDumhp5I/3s9IOfOwWpenEy9lTfkoWs5kM5vX+Df1ygxI0qRM0VWpW3RZ9FHaDHIgK+nQPnhf569//WuRAVnQc3nv5MTEuGxZEh63v3YxF2kaRaC91dffjN4jbywyupdwjSkfc+M6ruSn19F815v3jjM+BkKFVu67ndupq483wYDIchaWG7/44ovydJknxyiWPAHmSTDHefqOQqxLi1AmWULEsh6Wj/CEGeWPJ7AoyIoOejgaA35QoHifDUqWKsnQSD/RJ/R33LFP8vDVr35VZFXHEhldAh7kCMuhTp8+I8oe+eFpNk+dWdaihkqVmTIyjN5EjevWxo3mEy7+OqjPT0WoldB3wzXKaDdFy542rw94ebiLYQuDHUZDjI7MZlN/asDimOpZwLsD+a1+0ZkwTrF6Q5dbowfxsPUXv/i5LClGt9JVKjjte5oOW3XKzG/+l44jI7P+eFDL+wVZQo6BETDccZx00KnY8hAaAx96FI7fGE1Zgo3+iCEWirZb/GEExVCXLpM+KReVmTzhkEMNnSyH5v2K+MWASjmhq7LiB7/Ii9O8QhyXlhvGP4y6LHPHOEjZYwxFR2Y/W77JflKO5YQvddMeKEfeTYkhEcMpdYfOSjuhvDRf1DsGRi1bHAbY22/f43X2270uv0TSnAuK1mfl8pg74jozjNZQYaxtG/NLT5iLPt3aNEPcGj/jbd6YG6dfcEjuWYpek5SOMz5qBsK2G2uzksyhkerTbZZz6BN3nrai1KBgYZjjHFuW2aDIBePdaXkPDQY83j+DkY8n4CzVZvkLClMg6SSE4wXdP/jBD2Q5N8oyiiLn620oCuFQkDGYooizdCZ2LGlS4yOgeGIA5Wk4MwZ4uozBlTjIT3iSnBhPWzeYJIQ0Wp9OJ2NlMFd045hmdANhSE/aV6NjvFEJK8+5Iyl7rl2xy6LHqrV/9DAMlGx19huGO/Qo9JHz58PHZDBAYvBj9h96Gga1Z599VnQd3oV45cpV+aIyy4vRtyArE3JwjPNTU+lZezH4wfiF7ofh9MyZ0/JlaHQ+ZN26dYvoTeiK/GaLUfWuu+6U9y0+8cTjXjd8WHRDdERmamKsIz01ELLNKzPVBTiHvOr0GOXPhn2MksTLg/SFC5klukmWnrOUmmXrDz8cZEAmzqmsPHDGkMosTl29Q7lzDIMjcWOc5BivFsI/hliNl/ImzVh+lVENsvllG/zjl7rEMMry7U8++VhegYTxVg27+KEOML4uXbrE6+I7JS/IQH5Y1k3ZsnyepfSxgbYT0fLRbSfQSbK0nvwxymg1jF+lXQ9trt3Njnqf73Uf8q9l0Ovl0bhdpZsJfSvOd1LPleqb4x0687EXSVdQXClaeekKDKBM6exFXvCNUorxDsMfT2pR3FiSwjKVbEWjkHGcLyJipETJVgV5NqBwoUyijKNYohBjKEV5Yx+FHpAHxY73U6JMchylnfcHocCxPIglQxglKynuraIdybQrL43S4eIZhlEX8fVj/ilBhnHrVphFl51lxzbsh98YmPT1Nugh6EjhtTFHZEUGH11Bd+KBMA+IMZQxSw7HQ18esOoHBfmNUY90SUO3OB4e8/5HNaodPXpM4sU/qD8coFsRNw+gJyfDB2DwzwNrPshCXOhc+tAavamvL4ThnYQYSVkKTXoY6pAPHYwVM+iA6FrkBRJ9k/RLu56sTMFf2CdvKiMGu6GhYTHWIheGUGY6Eg4ZKGOMlBzDL7KixzKrkQ+/fPDB+7K0mnJnmbOWG+WJ4ZF00SmXLw/vxyROXKzDIgth1LDJ6iDi0ronTh6Al7IiMu3aFT7kc/jwF7KUmzLCIIkOCxgVaRsYKIlnyZKwDB1ZwmzIMUmXuKjf2YKcuFaR1HPn0IkytQa7Ds8d2bKf27poZR+fDXly1Ssr/blSn25VtqulOXsq22SM6pTXt17f9ETYtuxr1/O1zlCMeIqLAqXKaTXwj3KIksZsQhQfhQrjaTVP1vkADQor7zDia4koTyg+KM7MHuQJPQppnB4yoEjzPh6UQwx/KLUoTUD8s+lchCWOSgMVeWPZEO8iunHjunv0UZ7OPyGyo1CeOnVaFE+grFCq20F7BpVQJp06eLWnDAzDMAxjdmBEwsCEbsUDTgxBGIBAr2UYhngNDStBMLzxhWT0qWAgiq/H6WXVGAUPHTokMwwPHvzMvffe+2KkQ09hthuz79DRePjLao1gpDwqYZCJdFjxQZwslSY+dDGOo3fxwZVDhz6TOPl4DHqZrmpBP2MmILMdCcOMO+QiLxgMyQ+GPmbfoR/qecJSFuHDNMdl5iX+ech77NhRiZ/4eEiMPHwIEMMf5cYDbORKrv9hq/oaRjyMhRjpWFpM2Z88eUoMdYRhRiXnyS/5IV/oochCfjAskmd0Oox4yKDyErcudyYtwmFQBOIkj9QdeTp16qScw/hKWZO/c+fOiuwsgcc/9UJdcI58Ig86MPVOWtQV7YWP0VCOyI/cJ08GWTEk8h5IHoZj4AXiJ8/ERRzIyAoi8oXMGG/JF2nU0u+LoPWQ1IfRS1i9zk+od617vUfu1LYQxMqXdTYix2VA/J2a/8agnLo7P9QHD9iYmIZdCL2Ba9ps6ild5+G3EvbD+ZYZH6HTO1wrqMf4SLlwHqVn584d8hReFWKg/FC+VGl9+OGH5OuDPG1GmdNZhihgwJJmjJicIyxh9u9/1ytZH8u5b33rmz6ttXJeaaRutF4V4igfsMLNAAory5dYrvToo4+KwsY55ER+lHfyTFlxjngakakTSJdBrw20hmEYhtF+ihgf8cN59A6MQzxoxV/Qh/CXvjajbGNg5KEnD3ZZYcKsOeDdgCz1xajIDEP8o9PhB4csKO3MmGMlx+237xY/PCxGnyFtVqZgLCTJ8fEJ0eWIg3SJn3RJj9/Egw6E4Qt5iQOZOIdx7N577xH9UPOMgY4bBXQO4kDXQyZkIK67775H4uM3BlGMpuiJLBcmbeKJ9Tj8UX7kjX3kV2MoEJa8oaNhVGWWI2VLHihvjI2ExQ+yYbDFUb7oqJSh7pMvHHnFkMlxypK4MT5iHCX/vEOSj9WQL0BPpkzJF/74TVkhN/HpsnLCIzuGRf2NzMhKnkMYPr64QM6xZJwy07xS5uQNoyn1xRJ8ypcyQNZ9d+5zu2/bPWNAbgaUeSN0m77cbfIaxmzIjrGdShAtyIec1kero/Xa7eWE/M02PsZoPGyzcS7wF+6kdxizBmWFp7YoYyh6KDDxABQTV0beRZljPGVFoUaxWrFiuVfiVpTOBoUchSgoZ7e88rZmRoHCCMqSnb//+7+Xp7V/9mffcX/0R38sijsQFrJpNkrcGTVOVWZVIUUBVeOq5g2lDjiHH8I0S6GrRizvfMXKwDAMw+h00Gd4CMvsOoxPzBTEeMU1THUOdAcMfNevX/N6RninIwp1QHUw/IYtEB6dDR0qvIsQo9iw6CMYoNCn0Efwh66lhkeMWijpGKOYUYeeh4ykzzl9uEpY9BzC8BCWtDiO0Yu4Oc55dB+cGhe5IeAc8Y2MhJuC4eGg2wH5nZxEN7wm/tARQfUs8k75cJxlzj/60Y/EcPenf/qn8q7xPCg/DJkY7cgPcqq+htyc6+/ng4PLJG5kGB8f8+V2WcqFfONfjcPIwm/KjrLBSEnclCN55hz55bVBvJpn9+7b3HPPfVnebXnjxqjohhgfqSvygyNNyoZ9yph99Ev0bcoBaB8YJkmL8iMdvakCrXPyQ56RF6dlDxwnPG3iypXL3v9Y6eZsqejgpK3+ic8wEsIyf9pq50KbNb2/Hej40NntwaiHXqnTcA0fl+sv17bNm7fIta0d+UoZH62TzB4UKxTkIsbHGIq8kjfC41Bks3XDcRQltihDeh7ljvfpfO9735Pjf/d3f+eVzq0+jlhhwjWrrsvjQhaUQ5U9a1SMZc/LmzE7Qh1bfzaKEpRmsDZTHfqWlZHRCNZ2ihFfvxLj43HHuw9j46P6AfQJHL/r0Sl4V+T0tIbl6879ZToLaaHPxGmgW8VGK/zgsmkTTsNyDoMYW37jX+WN0XQgG59CWPwQN+Av1gMxeGJ8ZDk2S5X5WA6GO8Lloell5dF0iHbBgkSWOH22hIkd8MVoli1jHMQwirEWQx5hqNOf/vSnIiczTXktj66A4Tz1DtlyJv1YBvxqGahRM5E5+FX/wDl1HCZPSuxP49W8YXylbeCHsIZhGLVhrEjGlW5Cx7l4XDSge+tUoU47wvhIYdLOrJE1TqPGx0rk1UWR+FDaeN8NLxlniczzzz8vyjq0S2mq1I7i9PHD7+wxI4/6+idlGrxaeTaTbP/ppfYa2oy1l1rE5aTtwcrNMJpH3K/U+MiqEpZUVzI+FkXDAWGz4bPnq4HfRuVohDitaulhMGN2H+WGPkqZMetRDXO4vPDNzANpMCuS2Y3vvbffjYwsFDmYMcrsQ97/yHsVWQqOYZSl2rp6B1pfrkGnylIkPZXN6H0q9RXD6HWs7fcu1GuHGB8bI74Iz/dG2mzjYx5F4sMPiifLRlhSsnYtL9Pu1Ke1QQFU2fSJuZElUZTtYjA3ZPuP1cP8hHYQqp4/tAlrB0Y+oa1Y+6gXHWspu2YbH6EsrHblClRKI8STb8RqBtl0s3Kz1WMxHNOlzszeYxm0PoAOECY/T81A5WNZNDc3r732mnwYh5mJyEGdIhfLwR988EF5tyUzI9H/8vJjGIZhGEZz4Brd1TMfY0WhHUJ3Mp1ifFTwS510tkJHu0va3nxvQ7XQOi2nsf5rFEf7UG+WcXIDbW2oFhSUlZFRm94eM1pHXG6tMD42Ql4yOmaCytNMZpc35EnCIx/xEWULRE2hcjMDkyXXfJWaWY76fkjewci7GalLPhDDQ/K+PgypEswwDMMwOhq9pnYjyG3vfOwRWmF8zNZHffHhNxj0ZitHK4lls/bXKGZ8NGaDtR/DaDZc26xP1Y/qBJRdq4yPBCtF0TTaUd/EH+tMnUpcDshLPbLcmneSU3/ox8yEVH/V8tSKMm00vW4oe8MwDKO16LWgFdenVoPMc2V8TK1vJcFuLMBeh8Ydu/oI9Vl/uPaibc/a32yw8jNmg7Ufw2g21qc6l1aoRe2o707X55Ss3spsR748zYxHthgeIfZTiTiuZrlq5PlXZxiGYRhc703Hqx97uZ5hGIZhGIZhGC3DjHiGYRiGMb8x46NhGIZhGIZhGC0ibXg046NhGIZhzD/mnfHRlB7DMAzDMIzuwpY3dTMsTyvtGoZhGIYxL+kQ46MZBA3DMAzDMIzkXUpZgyM/zYjVrSR1mq1XwzAMwzB6n56a+VjEgGlKj2EYhmEYRm+gK1p6zRlGp5DXPpvljNaTV+6NuF4nL8+NuGaSF7+5ctep5Mlar/OxhMh6hA4xPjbHIBji6IwKio2cZus0DMMwDMMoTqwXJjpVcPq7l51hdAp57bNZzmg9eeXeiOt18vLciGsmefGbK3edSp6s9TofS4isSUiUJVoRfy0W3Lx5s6q1LlhcVbjOBhlV3rnixo0b7uTJE+7SpcvunnvuccPDw6UzhmEYhmEYRj1MTU25Y8eOuRMnTrj169e7bdu2ucHBwdJZwzAMwzAMox4mJibce++955YsWeI2b97sFi1a1BZ7X03jYxFma6DsJgNnLa5fv+4OHz7sTp486W677TY3MDAw5wZRwzAMw6iHXrgeG73B9PS0O3PmjDt//rxbtWqVW7dunehW0Cz9qlJ7n0v9LYjUrH7I8q3Sbom8PJu+2n66YaxtZbuwa02rKe/7jdLbddXMcpK/sj87midTr9OJbbOZ42bz8odMIS4e7B46dMitXbvW7dy5U4yQ7SjHphgfjdDAqK+rV6+5AwcOuE8++UQqU42PeQ0wb3DK+svzYxiGYRiG0dsEJdnrqe7KlSvu2rVrbvHixW7ZsmVet+r3+lLw1QtUuklpjg5Y+QY2vtGoJIPRWrrBoFO0bdg9i2EYRifDWB6Wc2N8PHv2rEyWu/POO93SpUvbcj3qSeOjXiTbdUEnPb3gMvMRKzJLhHbs2CFLg2aj0HWDUmIYhmEYhtEKmPmIgnzx4kW3YsWKmQe7zVSPUNOyuhr6VyNpEE294WahJhqGYRiGYRQi6DYL3Pj4uPviiy/cxo0bxQDJzMd2MC+Mj8E42DojXhz/6OioGB7PnTvn7rrrLnnnY6PGx1bKbBiGYRiG0elMT/POx+Pu1KlTbv36dW7z5i2zfudjVr1SNS2rP1byV4si4WI/DaqJhmEYhmEYhVH9ZmJi3H3wwYfyUHfr1q3yzsd2MC+WXbfa+BiD8ZGXol+4cMHdd9999sEZwzAMwzCMOlHdjaVBR48eFd1qw4YNs/7gTKUHwkFNTHTFyv6q6ZOzW+LcLl3VMAzDMIz5Cx+c2b9/v1u2bKk81DXjY4QqaZ2ulCHn2NiYO378uBgf7733XjcyMlI62zimjBqGYRiVqGTIyKPe60m1uO3aZLQK2h2ONobx8ciRI2J8ZHlQM752nW3XoSmXt+dyf0XafLkBMi9cY3EbvUgn1X22XRqGYRi9g15vWHadNT6241rU8cbH+CLYyYqZytkK46NhGIZhGMZ8QXUq9L7JyUkxPp48eVJmPm7fvn3WxkfDMAzDMIz5CLrVXBkf+0rbjoVCUGcYhmEYhmEYhmEYhmEYRvfQ0cZHnnzHMx/DfvLbMAzDMAzDMAzDMAzDMIzOpaONj2HGY+nHDDYD0jAMwzAMYz5gq18MwzAMwzC6n45fdh0bGztZ+UxEs5mZhmEYhmH0PvNtRUq8GidLrXPtKCsz0jZGtbrLovVIUVt59z71tI120qlyGYZhVKMLjI/dQlBA7FpgGIZhGMZ8INheOscAU+8sSW7g1RVB485Lp1q6sX821fzWIo4rixkk6ieUWf1tIHgPYZI2VDkOjb9a/Rmdg9Zpp9aVtSHDMLoRMz4ahmEYhmEYDTD3N8CJ4Seh1o35zOk2iZ8YnNSFY41AXm/evMme5KOdRggt62x5dweJ8S9Gy7C+cgx+tRjS4fPLRs93Z9nNP+pvE4ZhGEYtzPhoGIZhGIZh9BSVDAfheDAs9C3oc319wdUiNrqxnZiYcBcvXnQXLlxw4+PjcrwWWZnqMW6Q5vXr193Zs2fd5cuXffqT/lg4Rzz1xNUoIZ0kvXJX8tiBaFlNT0+7q1evunPnzskWQ+4C3w6Qv14IEuff/yq56lCXIWxwRuOky7+5jI2NufPnz0t/o90YhmEYs8OMj4YxS/RmxDAMwzDmG3N9DcTogAzXrl1zx48fd0ePHhGDAcbBSkxOTooR7/Dhw+7EiRMStlY+YuMGfjE6vv766+73v/+9O3PmjJueniqdLQcDF4YM0sToxX6RcsNP7A95f/Ob37gPPvhAZJ6amhLDyKlTp/zvq95HO+oiKYfR0VHJO+WNARZRW2EEagZqoELmjz/+2L366iuyvXFjVGQ/e5Z8FK8bmJ6+6a5cuTJjEKY+aqFt4fTpMz7cOZ92aKeNlFu2fWR/9wrV8kU/oA3yIKBI+eeRFzfGxmPHjrmXX37Zvf3225LOXLftXqxbwzDmjrkYU/q/+93v/vvSvtEEuPDxJBXlZv369W5gYKB0prvgAkteUKh40j48POT6+/tLZ9sPSgAXfhRc5MBVUgLoSMh+6dIlkZ0ZDUNDQ6WzzUU7rcqCUslNDVvqnuOxMwyjvN8YRi8St3P2Q3PvvTbfyn5M3FxPMeygWy1ZssStWLFiRh8hafxgPPrkk0/EMPfuu+/KtX/p0qXiPyn/cB1Gn8BYh1EB/ydPnvT+FruVK1fV1HM0DmQ6efLETPgtW7a41avXzOh8mp6CTnL06FExVGJAXLx4scinMy7zxkQ9BhzHL0aQV199VX5v27bV+3Fy7A9/+INPu9+tWbO2bBZnHGd1MPCUdj2Ey+Yju3/o0CEpA8qTsqYcST/Jj/yVbRS0RJJecq7MU4PEcYc4dUs7euutt7x7W3TDrVu3iiH517/+tTty5IhbtCjUjdYl4fIc0M72798vdYDev2zZMrdw4UI5n1engFEcI/mvf/0r3yaOueXLl8+0hRA3voL8cVpQrZ3Ex+L9WsThq8Wfh/rLhqsUpzrISysP/OFCWI4k/tG3P/roI2n/3B+sWrXK19+isjSgVjqgftgS94EDB6Rd3Lhxw+3evVvqF1SemGx++N3XVzvNeiiSh7khGju8iL6mSj+6i3S9Jn3Q6C2yfbUIjYTpRLSN427eRBc67YaHh2VsGxwcbEv+bOZjB0BD0EY916gcKOdnzpx2P/nJT+TJ/tWr1+T4XIBMPFl+66033U9/+lN5wpn3dFP7C/5Pnz4tSv5rr70mBtRWQkclTW6OPvvsM7nxYVYCsylQXoDzyIyiiuJL+bZrACNtnO4bhtGbSF/Xfx3S13X8me9jTxjvu1tp7UxCmXKtxaDDdf/nP/+5GOi++OKLmeXQ8fWW6/Cnn34qRjN0CvSEEydOFrsuR6dp06SLY5+wGJaY2cj1n2u9Huf6j3GEmXYYNNiP9Rj8ZNPOO4aM5ImwxI3B6/PPPxcDGHnQ46Bb0LjiODmvfsKhdFqcwy/5O3furBhZ4zwBRrv3339f8sQD36mpsDRVz6fjTKcfE2Qp/ZhhNuMG6SBH6adH42JLOVGOWnfIjt6GIYs8ad3kyRozPj4mxmTCYrikbWGYhiSvpJvkgzpklt6HH34o6bHPMc1vEDPID/5I2PGEOEs/PPxOjJaJK0qt8g3yaD1k5SieTiAbR4gnJp1ecj6kJ7up89QThm/K8uDBg2IkhNhPQjr9GE0nG0bbCf1a6zU/7rSMwG+8Jf6DywvbvWh+kvbg92TbjWgeAo208frprfbQ2WhfzPbVIjQSxsjHjI8dQ2cMPjrQcgFHmWJmAEpZrEy1i9DRwywFbip++9vfesX9gMiSJwfjN8dRElBCeLLNzYcqka2A9BjImJX53nvvyc0Mcv7ud7+Tmx/k5jxPFzCCoqBjoOSGwTDmK3TfvD5szA4pV7ZtUprrwerbaCVcZ7nWox9gLMBQhjGIB5dA+9PrtT4oxMjEb3QG9Az21W8xiDMx/ADGpw8+eF+u/8x0VN2JWXRr1651d999t7g1a5JZkqBxVHN5MMuLGVkPP/ywzL6MV1zERqksejw5Xx5GHfrg/v3viZGWZaiUl7Ju3Tr30EMPSZ5WrlyZmjlK2IS0DOFcOBbSyTOg6bZRkjRiyCMz0pJ0nMyYe+CBB9w999xbVjeVIOzIyEK3a9cud99997mdO3fK7M98Y2BIh31ml5DGAw886O69915Jm3IrNT/vJ/ijTISy24MkrtjFx4qiXuMw2X1cyFN5vspdiDM+puXhj4ZIZzIUh0ucnCnFA3nlqf6op02bNkn533HHHTMznau5SoTzSbqx/2zY2G9w4Xx8XNHjfk9c2O8VQn6V3spbe9Ai0+uP0S4aaavWvpuBGR/nGAYbDFGXL1+RJ7BzDRcOlGVmF6JsIhOKlS5jaPfgSHoY9rhR4Kn+1q3bUkuusiA7T5FZfoXCjLKPYtcquGiEacunZOYBNzXr1q31CumIGEAxSI6NUb+X3UcffSgGXeRr5wWapDQ9UwyMzsDaYWtIZlp0EvN93KE+Oq1OehWWM2MQQ0fAUMYqiDCrLIDhDP0G4yR+0REwBqmBA78YL3FxOHQLwo6NjqVmxamjfjnPjMYDBz527777jhg/mSnIceThVTwYuDDWbdjAa3n6Z9LDD/oWegsGU8LxXkDOV+4/C8TYcuedd7onn3zS7dixo5SXtEzERZzoUqSlBlH8ED9poqPwoFnl1TbLPkZaZmyi46hBl+PEs2HDBvf444+7+++/35flGjcwmBg/iZs8kC5hMMzqTENF00AunWWm8hJWZW0ELQPiRAbiRd8O9RcbxZy0g0ceeUTqhvbDcdIP5ZW0A+IjPOdwLFfbu3eve+yxx9yePXtmlk8jd5KXq1LGmnfqiLag6ZE27SMpt5updpDITJ5kkyo3tqGcQ7kRtni5hQiJT7fEp460qTf2AfmIm+NaT5Stykd8RBW3axwy4Z/3azI7lngIk20bEoNkMjj8aFjuk65dS9oQ/jA+btu2TcrynnvukfIH0qZM8Ev6xB/qYTS3bDTfxI8//JM2acTtBHSfd3WyKgy5yANphnIMsrPPMRxxhToKfTD46xWSsjGKQxvQ9tJb7aEbMJ0M5qoI2vDOR83Z/BicuMCospB95yMNnYuWNnj2uQiizDFDj/e+YORTf+0imx4XepbR8A4VDI9f+cpXRLZ2yYQ8XOyB8mRJEU/cuXB/4xvfEEUjGB8ZPChHfAalDeWB2YVvvPGGyIxCuGPH9qbLHtchX5z87LODUmYo/88884xXgJb4ej0qhsbt27e5w4e/kOU1yI2iSttoV3nOl75nNB9t59C+9jrf0HGseeXbSXWVlaXd17dOwfpPfVBeWmboSRjH0K0wtqXf+Rj8cO3nISUPAjFAYBRCZ0AP2Lx5s/wGrsm8GoV3FWL0QdcgLDP3tm/fLkYHdDKMiLwPUN/fh8GAlQw4QFcjLvQNDC2kgR+Wf77zzjti3EzA4DQk+gxLskmPfPT3D8iKCPQ/DH86I5M4MZwiCzoksmt+WS6OH2RnxiNyYBxEXvbJO/JidEE+8qkrLigblgmTLwxg+OEYD2txLB/GMMtx0iRflAVGR/KEIZe6oA8jD2VDXtTAK+U+FMpZ48ZoiSNunWnKw1nyhZzUKWngl33KTeXFoIOcpKP5rzR+ZI+zT3lTLjwIRv9Cl6RM0HEpX+oC4yl6Lu2AtJEb+ZAl1MtFmd04MkK+gs5OnMRFnSEb8ZE38qQzHzlHHmgPhw59JvVMGeEff5QbbYkt5UadID4GrdOnT/kyCMvzv/giKTf8DAwEQzltG/mQmXLi/aOUM3nFGIZf8qG6NOGVbPnxOxxaIG2QNPkYjuaTuiMe8gbkhXS0zfA7rlfKCJk5RzlQ5rRb/BNneA/iApGdB/LERRywcCFxhPeOaRsiLHmjLdPWKDPSIo9a1tQloHsTFr/ah2jTlCXpkD4yapvCL/JS34ShnVBvfHxodHRMwlIGvA/trrvuki3+SZPj5An/vGZhYmJc+o3KpXGST+4JSZ/fhKfOkUPrRcu/XYT+wh5/tG20L/3KBH0Isu2019D8sVVntJZsOc/XMtdy4JrEGMe41c53PrbI+MjIEYSfL4OIUsn4mFxgwgWVCxeVzm8uijhees0FiYstxwnbznLjYslFkYsoS4dpkC+99JJXcG8TZSC5QLUPFAde5P3hhx+4HTt2ui9/+cuiNIRyQZ7Q1pCdMqZckZ2L/b59+2SWAbMbWgXLUKhzZmVigGQpDUtvqH9+o+gPD4+I8oSiwxKb22+/XTq6YXQL7RyH5iNJ+YbxbDZ0el0l4vV+m6Iu1BmNg66EUYRZQ5WMjxj+MAJgnFi9erUo0hhl8IdupQ9QMXTxHmsMRugIGHHQG5g1hT/0Lx68Yrjgeo4D4sJouX//u6KgY7RC18NYgXwYAzG4YKTDyIDuQhq4oaGg2JPOa6/9TnQs4sWAgu7H623UcIQxhn2MGsiKfBgVg7GyP2V8RJdgzHjzzTe9zK9LHll6rXoc77985ZVXZAUGcRMn5TM4iPFlkRhi8IOOhSGMMBhU8ENZoYOSP8oDQxflT75wyISOi6HsV7/6tcTFb3RYjEPIyGtoeHBMHvlN3BiZKD/qECMNuhoy8JoczuOPNHmYe/jw514OlkT//9l7Dy45jjNNN+Btw3tLwpAEDUAneifKUxppRrOrmbl3zp75J9Rv2N+w5+xdaWYkraSRSIreewIgQAeChPfeA93AzeeL+jqjsqu6q7vL1/sA0ZWVGRk+I796MyJyocXndV3pekqP4agT8kT8pIPwyANT4ckn9YudRp2vX7/e6uaVV16xvDN9nPZGukgPIyFpU4TLOQiKhEt5UA/UCekHvpP/Tz752NYepc3s2vW1hUNbIN/UJYLcc889Z2mhLdE+OA9x6rXXXs/s2DdLwtZu20f5Uv/UMfbjmTOnrd3woJ184Xfnzs9syj/nALN+sH+9TMA/hxL9UC5vvPGmtSnqjbZB/IRFOqkvlhUiv7RPvpM3yo10kT9scfbxohbaM9uff06d7sjqmLyczK6VExYG4bvgR/n09c2xsiAtXIvkEX8u/JMW0si1Q5poS5wf6+NcWLZ8eZg0cZLVJfVHGjmHOuM64NqibXCuC8Vct8Tx0ksv2fWLaLpnTxTEiYuyZ1Svi48Ik5TPO++8a3WPP+oAx/VIHkgfZUI6CJu2TRq5DomX6xQ/ERfOq9VN/cnbQYyXn6jV20YzydPQHulpLL2Qx/akd+0yzzef9IX0Uzxco29rlvjYkGnXUWezP5aJXq3gFC8HbsoYGNwAuTHyyRM7DB1uYLxUhRuUP31uBmnaMOC5UXPD5kk+xjlP7CHWa+Px9sJFgWEThbvJNq2Hm7Yfz3ya8++IgPv37zMjDAMIw5zPnPpngDLDQMfoxjgl7t///vdmMDF1AwMfw4gfAxgurEmDEc15QrQ73jeIRpKXb290C/GHjvpA0Qhu3LhudgKzELgnI+4gCmBPIRzxHTEB8Q8bBwEsbYsIINhi2B5sO9gXiBT79x8IjIbjO3gfifDiYSJszJw5w8Qa0oF4xXGExAMHDloaSAthIEJhIyBQEC9+t2zZbKMwOYbQg1hKmivBzIujR4+ZYIIghZ1DOhF1eBCL2IfQQZjLly8z+xMhlfg9DdgvTP9lpsjSpUvM/kNcwd/y5cstLS7W8J08IbLxQ4Vpqgg0lBfhXeuPo9UQ/N5//z0rG+wepoZj+2Dzvvzyy2bXkZZYJgcGRSqmojM7hDiPHz+RpeMjs0nxB9XuR14PDmVAuWGLsU14CMzkFZub8kI8dKhr8kFaKBOEIURW6ob241NlESlJ58GDB8z2w1E3nEt9scwOYSAKYo9SXoyqpV45n3bING7yQznjl23sXYRR0vvhhx+YzUuZ8cAaAZF0UKaUBeVGvZMGRqWyj/Z1yy0bs3zeZOVP3hG8CDuWTfWyAz+Gf86jPRIu1wcP1Cm3U1m7Zy1T4qTuSd+9995rAi62r69zTh5pO9QxYh5C46pVq22kLummTf/1r1F4pW3SPiibKO5vM1Gf75Q5jrZGPEzv5/qiPsgf+aTc+P1E+TNa8+qVuH7r4cNxVCXpwv5GYMZR5/zGoh2SV+oYwfall1608ieftBPyjF/qmvDpIigj2glvSScM8kieHnroQTuHfMa16b+wa4HwCZN8IXwCM7doC5RfTvV6aSx5vMO1jWYT22v7pEcIUV8aIj7GTiN2HNxAcCJC2fD0kqdtGGvcmLk58vR4+/Zt2U1qmxk+HG9W5+vxcIPGKMNgYJtRgz5aoHnEtkKc3Lhj2RyxBaVZT8dHO3ibwh+O7xgsTFXBIMA4xiDCMHTq2Qw9XiBN/MjAcCed0QC9bAYGRhBlifGJkIvxLoQQEPuxvGPyPkUIMTauX79hQgwiBcIG9gAiCkKCTxdF/Fm37mYTNdxGze/pvCCOqcXl68K5v3gsv2Z9m1ED3OMfffTRwaVV7r//vvCDH/zAhAkehBI+NkHxfBy21mOPPRb++3//7+Ef//G/hV/96lfhiSeeMBsGm8xFHSj2EzE8HFNIb5gQg1gFLAPzT//0T5n75/Av//L/hL//+7+3F51gs/iyOj/60Y/shTUIXZs23W6jFxHssEV5kQczThBZENLw9/3vf99sGkQx4qZMALv14oWLJr4wao46ID7yhPvFL35hZbNv314TZBB1yAvxIMZs2nRblpYfD55DuVFvLtYW853i5egg7DHakXOeeuopK89//Md/DL/85S+tnKkfjqXnkA8c+UC4xo4ExDjKg7rDHiU9M2fOsvLDpkvzf+1avwmUOI5RfswgIv4f/vCHJmoxEtbLjU9sSPL31VdMf//C0kZZcQ51R7qxf4mXWUBebtQ17YMH7cSBP87jQTfhkVY+Y9mQwjyvw0E7oz4I55/+6VdZu/kX2967Z6/V67x5sa3SLp588snw4x//2MRdRqoi1iEYkrf+/mvW7p944kkrdxxrMyJoIqByfbCP8FmzlDwhqCLwkS/sacrspz/9qdnXlKW/oIffTwzSoO2AlyVh4Fg3E6gjrsF/+Id/sPJBwKRNIQpSNvQJrG9/8uQpS1u8/v7R3NNPPx3WrFld9nuMeGlX1DPXAukjf6Txvvvut3ZCH0O/Q3poMzgE1n/+Z67BfzEhFSEePL1cu6L8Gk63hRgtsd8rb1OiPWj4C2fyjlU4PFH1J5rcOONUk902NcNFLD7Ln4w1Di5MqgiDg5smhitP8DGkMRKaixsOcR2CXbu+sh8S3LgxzlPStkXaMc550knab731Fps64zSy8yENs2bNzIyzO8Pf/d3fmfGCIcX0cIwwDFiMJdLohmCadiFE++LGS+rqRewDYj9Qz3DbHe//6l2eQnh7QgxEEEEAwqZB8GItO+yEWbNm2zH8VGp/8dY89P6ct1fab9wH7ENAwrZDkJs2fVpgqRoEKoQ8bBhv745fAzjSiJ3goiXnILxgJ/LJg1VGefFQE/85Mby4Ly4/gwjDQ2RG42F3YDshGhImYixCFfYl9gkQJiPJ4tTt90zoRNxiP/YpIpDlKcsD24gmfMc2JD7S4MIPIBwh/GHrYBORB4Q8HEJQfIg82eqEeIBwEKk4ThrZZoQYeQfCrCa8Rog7L1vSgwiEyER5YstSBtS3fyeuOO012r9puOSF8mKkHGWIoEZ6L168YOITwhLCNQ+YqXfPu7cD4pk3j6nbZ21QAaPefE3CSZOGDiwgvYSJzcv2+vUbLH3YsJ4OxD/qgOnAXm7Ehb1L2yFfxEmZ8eCd+qHcTAi8cX2wjZBGT281qGfCo+2sW7fe6o7zyTuja1kLkW2ESGzuOBrziuWXPDCakHxwDTDaFuGadFJetD3yxTbppBwJn3RzHbDmpQuKxEn6fSQu7RNhG2F3MG9ZPJDnK7evaaeUDW2JeiRu2hftjfMRQBkswIhF6uz22zdZmmh/pIn801Zmzc6XbuK6wtG+SQfXC6M1KQfaGzOeEDS5ZvkdQ1zki8Ec1CHlyrUXr53W4WUVqe99OK+L0RLrzUm3hRDdw7h6v/LOSwyHd8R0ptyQuEmdzm7ibGMk4DAkuCH6yDm/qTp5P5zfZOsFT1CJN05RGDADEePAGelGMrYbTXUwKnhyz5NbpgGl6yQW43LDDSMA/xhqGBuUKX45zmf5TS1+sj8eS8u3FvLyj+dPNEMHgwXDAsMXYxMjCwOHJ6VMNSFPGCyc09vEclc5NIa0XFXO46PYLzTKIO5FQzv2u72Xb9E46Ou452MvYAesWrXSxACmaXIfRjRYvXpVZt8MfSFghPY4tE16P5r6K7bdwe8lL3yv1L59vztsFR6u5utZR2EJ4Qm7AhsCm9FFGYhpKX3J8LDYTx45h6nfCB+EBeQXwY0H29hYiEasSffyyy+ZQIbAhn3CuW43eX7TbU9jJRAJEV7wgv2TrtVIPskTn55GwkSIIe+zZ/cNPnTnkzrkGHayxz1YuCXifsLP04R/bGj8ehl6GbgYxP4YV/m5QJj4RyhCjMI2RrjmJYKI15QjohZ1hl93xEuYjPhEbGKU46lTp8Obb74R/uu//iu88cbrJqSRby8TPhhlS3pxCHaE6/YuUDYIYsRL2VJ3QF7IW56XWG7UO8doL6SpUGRGmu4U0jJ16hQT6xAMPR2kGVGRtzszahAxkGngr7zysk23Zoo8D+HxH98OHt/qTZ2yj/zynW3aIHnkIYDXC22C497uaEdMjad94hD40vZJvvCbEss0lqu3qbRsvP0TJ3FQPrRDRjHSThEgWQ8VCIt2gqA71ZaeiuVEHVEO/NbgmmGaPMsIsF4kA0mIi5fmAHEQF3lF/KauSJcfayVpWfFpX+sEYcfwc1qdX9EcqOd2qetiGxSRYv3EOit9aRKtffTSg1DJ3OwYYXj0yNHBp9sbNm6wofjcmHmClq756B05jYObLtMDePKGMcoNuB4XGHEh3nFz96fl3LihUkdCnNz4MYQw7HkSS9rGi4eLeMcTzokTJ5kBhxAayyCmJV4scZu08xQW/9zceVI5f/4CO+Z+0jJiE7EVAwKBEGOGJ7nZkTJ/w0GwpaAN4sGQId0IuBhN8al6sKkolCtPiXlyy6cbj9mZJddrxHKutbzF+FA5j4fYL7gT9UTlKeoL92JsCH70M6qKF9UNDPSHDz740F54gbCCTYGdU+l6Rhzgbbycg03jAgd2BjYDn25XROI2+9L9bFcXSMrBH2sFus0HnIedQBpIE6JGeq73R+zCefzswy/5R1RJ00uYxMV3BDWmPmNvIhA98MADNkUb0cxn3vh5KR5PTt4v8km8LlilAiMQN3ni09PIMT+PfHpY4EJNCrabi2rV0sd5iFk8FPYy9HrgOKP0EJEIpxgG330fYhSj9sgPQu3HH39kU599ZCb2pvv1T9KP2MTMJqZCMzWZ0YMXLpzPzv/EpvjysNz9chrppDxYX5100hZIm0MdUpYcw65MRXPKDeflxid2M6R5Y9vLbTgoX84nHhcNgThJI+XKtcM1FEcG3m6/YVgz9Mknn7LRfYh25Il6mDS5PG0xfTG/pNuJx+I2+eQ3BfYyAh/lzJRoliFgqjNCHiNIs1zFE6rgZeOkdcQ2n6SD9NBOLl9mJGUeJu2Gck/LzMsBUZNRlIxWvuOO2+13B8sEMMWfsmAgAnETNuVIubENab20D/l1JxpDe9Z7feGaaidiv6K2XY1WFc24xMdYoarU0cINiJs3owvjwsY3hWVLlw3evLihcbP1m2bssKJBhLj17rvv2BsMv/jiSxMgx4NflIiIjMrDyMFY96kJ1SAtjNJESOONdqxdiSDK/tFc6J438PO44X/xxef2hBkjGMPN10dx8IvDSKEMMAyZOsQIybimTj5dfGh64hvHeUrJk1sMHMRLN05HC3lwYwkBlCk6GG6k49y5s2ak8LIcRmRidPLWP/Y7VgQ9yGjaiRgdlC3tcrTXoxBCdCrRnsjhASoj1BYvXmL2BA9KFy5cFFasWGnHvI+MjqmpIUydFmeiYN8w1dmn7/JAmNFO7Mdv+bm5DYPDdkLowa7C5QJc9FvskgmTF9HwkBJRkPh4MIqNQpoRcxBSETE4H3vD48SeYZPvOOJGHEM448EqI/YIy8MkD9gqxIOQRjoR2LBREFIY7YbtSRwej+cLu4k3Cg8VYeMn/rF9GDGISINdFl+Ec8ZsH8qTPHIuD5T7+oZfA9vzlDpEQ/Jw9Ghcz7ASpN9HD5JnRht6PfJJuR44sN8EJ+qCcB22yQeQF6Y/I3Yx3Zk3ipMX7FLEJRcB0/MRqqKQfNX8YNOzPiJ2NeVGGXi6PU+ULXYiI0X5vm/ffqsbyow0U2aUJeVGWmgPfq6fn1LpGHFj52Kn0x6BQ5XOTfHjXBPkJ04pn2vlwoAJRGvWYkSMxcZlpCjLDQxSHlwp/OgKUQ+mmfInvdjSlBXrs9I++c1E+0T8o90X8bC5PmMdxvCKeDxcK7STuXPn2HXKbwifMs21Q9ulrcRrPp7LteXXFyNcyTtLZSGKYvNv3LjB6ppwo0Aaf/MVy7nX6PX8Q6+UgepajMQYxMehHbkYGb8YueFh9LKwNk9G4zo03PzmmvHBzYsFkdkfb7ARbnzcTDGAX3jhBZvCwVNrf4I6HjA+MWxwGBcIeBg3UOnGTV64uSOgMfXiT3/6k027wCCs5H84YrHkTyY4nzxt3/6pbVMelEVRCHX/pB1jDiMF/CU5TrET9O8YnTt37gx//OMfw4svvmhGR5wqMjYwThg5ioCL4YtRRrpZ9Jq3/LE4O0+JKVfWxeEJa0RPZYQQQoixkNsc8dNvp+zHbkAgQChBKOIhJmKkj3rkno8/HPdqgpo9K061ZO027BuWS+GBL9suWA1GmeHbHg52Gw+P8Yc9wFuDsS8Y+eaiFue4fxxiEMIQccW3RL9vD3XfeutNE7sQdhB1ENOc9PzUeZ6xnRBweFDNtFAesjI19G9/+9vg+nSUCWIZAh1CCzYRDpuK9Ht68YcQh53DQ+9t27ba1FuEwCwlWbzRPiV+8o5IhMDLw1jsVexD3gLM9FniRmRjhBzlDJznn9W2AfENIRGb7e233wknThy3OkxtKN/G/kK0Is3ET9yUAeXBuYiJvBAFGywS4/DziZN8I/oiqiGCIUQhwlEf2Ov48Xx7GqnLb7/dk8X3anj++edtujBCIumYNm2qlQ/h+nl84tjv9i7thTqjzGgT1Bvlhh8EYsSvNE7/BN/v+2gP1DH1S3p4CzfCc4zfvAwhPd8/gfTxAhauDQYeYPOSVtoMbRY7nDZX6VzwcNntLqfcL/VAeyedx47F9sn15OWJ7R8ZGgejFz2e4cAPYuYtt9xqcfk1wvVOm6GtMJMpXvMxTERzxHrKlfyTd8qA7bi0ww4TuClz4ueclOL33oK893L+c5Iuq+tI+2MhKjEq8TF2vqUvYtRQflyUiFNMr/BtFj5P3yyNkcd+tlPH+RiM33zzrRl+PJ3jxjxeMIq4ofNJWjByiX84SAsCGgazP53HMCyKhCNT3klhuCGCYsT4jwYXQouQBgwd4scgxSBg9CiGXWyrlRsr+0krBjdxkYdoyIytw0SIPXUqTrcGntBiWPMDhzqlrj7++GMzUkgv+/xHRFatQjQE7zeEEKLbYZona631zZljIqPbMIhE2AYIYgg3bCPiZHdus1ewLxBz/J7M9sZbNpoIxIgzxIjXXnvdHq6ynAuj3gifvhVbg/BxbANhI05x/0cwQUBEODp9+kwWX1zHkTjdTvFzEOR48PrOO2+H5577q60ld+LESRO+mMbJaELSSzqxIUgD30kH22ke8Ms55JeHnYgof/1rDBNBkHgY7eVlwdTW5557zoRP7CLS7iPMSCPh+4s4sLdef/2NQXsGW9bzRJmTBuw2pnCTDkQZ1gVE9CQejvNCPkYEEi7lwLmMJEPY83sW8WILk1fWEiRsbFREL0QeRrLG6bDRNnZ8m3p68MGHzCZktB95I48ITAiJHGfdT/JPOZIO0lBMB2lgWjF1Sv4RrykL9gP+2OY8BhYQFvYkNjF2H+LrX/7yF7NRmVGEbYjfyZPji2koO6b5U9bUNW9Lp+1hT1JmCIaUG2XF1GPy43VPuXF+TK8lZzA91K+XL/klPMRM2rQ/aMdvWnbg9UG4pMnLAcj7I488avXK0lGIwN6uEKy5poAwOZf8ebtwSGt+DeT7Weuyry+WB+dS79jSXBdcP8QT15Y8ntXDXGujvDWc+qdNeVxcY142bmuneeA79Rj7gDi1nt9flC2/P959912rM64Z4mJABm2FdJEP0hPr4TYbHUm7YjAIdUWZIFR6fGnb9jJIktKD9HTmE7pbSyn2KUIUmfTss8/+urQ9InSoaScuhoLRgSjIzd6nnjjFsuMC5SbJDZKnaTwVpXOudOFyLoIZhhw3R26eTHfAkHEjaLQQJunFmOTGyc2cMBEguVFW60A4D9ETYwNjhvxiSDLajxv1WCE+jESe+CLYPfzwwzZi0I2END2edvx98MH7ZiQ8/fTTZphxDL98FvG045+Ro0xJwlD+wQ9+YGmvdE4l8Od+ecp6/jwLcZ8z45E0UycYUBjnvuYjT2+pa6ZpYMTRNqoUsRBCCCEyuGczApCHr/yYx/5JBY14L+aeH6ccY8MsW7bU7sMc4xP7hlkd3O+xKfCbnWn3YR50ciwKGlPDnDl9mT2wwOJC+PLZC9gX3ON99CRpQMzgfAQpF04In20+FyyIbyBGwOA7Dr8IUfhl1BQzWlxkRNxA0EOAwqZiSifHfA1uQMwgDYRJ/LwkY9GixZY30kWesDU4zndEKBwCGkILYhrhc8zLEofgSB457mkkHMLn5SDkiXBII8cIg7L1sNnHNmWI/ctxplaTdsoBMZSZPdhAxAvULWHgl3ojb9jFfoz4GXG3ZMlim22DeMjIO6a5kta0XFK8DEiHlwFlT1icyzp9a9feZHGSb/xTluQbF4WsuG6h1yd5JO0cd4GSpocf7EfCIh+Uz/z587Jz5liY5AnxG/s6zoDBpo2iGefgiIO8kBbqjXOmT49CGW2TduBinJcP9bJs2XJLDzOo/JogXcRPGyH/iM2M3GXEI2m49dbbLOwifh2RDuqSdu3lgE1NeyWfpJE8UAZe94RL+2WJA9LBOZQZeaP9k9cYfhTbeRGUL3/AfuqasIiX/CCeEhfxEy/1wyhU2uZtt91qcRI25cP5Xj/ERXsifuqCa4KyIE3+G4Iw2e/tl++UOfkiDUwbJx333nvP4JRyytLDpl2RFuLmdxsiKOdSP/xuwS/+iI8y8pHIhE299za9nn9QGYjWQp+J4wHe4cNHBu9T9LXeT9cb738t7qzDl/xRJyhYREemBDDsnmnV3ICqkVZEhO95pXPcj7GN4fC73/0u/OEPf7Cwf/WrX5no54bB6LlhT+N5GszTfRZKRsDjJuzHKwVLmphugxH4P//n/7Sb/i9/+UtbDJqb8mjSkuaPMBmB+Zvf/MbCIUyMVS6GNExO4StiH+InbxCcO3de+Ld/+zczCPCLy8s1h308mWSNyt///nfh6693hx//+MfhX//1X81IqJbnykS/RHP1KmshnbcLGEMGuKj5UcGTep6Cu6GJ0cNFPrq4hBBCiN7Dp9sySwH7hPsodkER7rmIGNznowCCDRCFjThKLopSqd3BQ0w+8e/iTdzPSz7iS0mwDVw84Rg2VxQzrmfHY7gxvigK4YdRVNiDxM25OI6n6eDhJA9b33nnHbN1vv/975tQhi1EXJxDPjnP08z5OE9D3NefxVOeByBuyo60kA+OITrFHxgTB497Oivl0+PmOOGQNraxbd2+JWwgT7HMIT/Hp60SPo50eH7wQ344Hs/PZ88QLsfZxycPyv/zP//T9v/85z83IapoH6Z4uskjaSCemMf8Qb/nETwfpC9NB/48LcUyBkYSMm2fNf78ZS/ERbxeXpQr5eV5J0yOQzHffq6XG3kkzZMmxbbr+fX0pnkAzve04v/LL78If/rTn7P9/eEnP3nGRNt4/UQblPDw5+WFP8rHz8/+Z/tzP4Sf1qu3U/yTDvbFcOKUePLnpPvdf7of0v3E4WUYy4H2GdNMeeCP83Bse5opv+gnhsU+Txfllvr1Y+wnLj49LvxxDpAP/AL+vY7wzzHaFuel/Q7H8FusYyGEaAX0R97v8fK1Tz7ZapqEPzz0Pq4WYlhsjXwOfoHw1RO2AVRIXin2YaTb3MR48s9UEwQ2fzHNeG5m3KxZhwjRjLVxeDLrT6OhlKQhkFZu0AisGCA+nQkRcrTEfMeICIs88iSUp/MrV66wG7mXDXiZsA//GM0Ij4ixPHksp3IGyDcjHy9ejAtZM7oAowGq5bky8eLlk/N5Is0TXYe6oa6YosGPiieffHJw3UfSNrq4hBBCCFEJ7sWpAMB37rHYCtyL2ZeKIG5XsC8KBlE08f2MPsQgRwz00VeIFamIgIDHfkagFc9HuMCe4nzsAs7zNHr6HD+HMBCoOI8HsC5WgYftefH9Mcz4FmL2pWnAL+nANsM+IT+M0oqjPvPjxXQSTrFM0rT5SEL24Ygbh+hC1DH6/BzywnmcQ/h2tBQu6Scuzo91FvfjPB1+Dp/YvYxCZUSf55e4KsEx0kAeybvbaJSX1wNheF2wD+ffPR18xS/hpMc9XkSwWP7xGI5wsWWJ00fwpefyyTmEy7bHBZyblpunmVPdD3Cu5yGF7zE98cVB1Dej9jZv3hKWL19m6Sji8VNetH3CZTsei+mN27FeyBtpI39er54PvHoaPH+Ot5divtn2/ODH91PmlAPx+HVIXLE8YrjExX4+gfPw42Xg+8Dbg8cPafx+raTXPJ+pf2Cb8N0/n4Sbl1kMk7fr48/3CyFEr9OU3jC7hVhHnDr29jrcmHLHzSq6nHhjBj4xIrjhMw0A44sb8nggaG6KvJ3tiSeetKkCfI/HqtePP83jZoqYhlDIaAQ3GEaLn8JNHoOS9YA2b74ru5kzOjCmJS+H3D/GACMgmO7BE3DKMRKNH8qviIdDWplycffd99i6RzCWtKd4/Gl6MYAwYjDWMdQwTvA3zqiEEEIIUSK3EVJ7Yeg+KPqJ2/EzfZO149+ru+in5Dv+Hfwecb++7WBP8UCUT/eT+kv9FvdXc5mP0meOfy/3Z3vMpfvLj0dq2V84ZJQfj67I0OPRT7oPm43ps0ztxeacl227oGOnVCENYyRX9O+wme73Y6WPIcdSV6SSH3cjHc/+D8GPZVvJdtzPPuxNxE/KDLuah/W5rer+Ivn55WH4d8f9VXLx+FA/KZX2Qeo/ddWOFfdn3yoecyrvL9+X74+k+6u51F/ctg+D7fSYEEK0C/XploZqLSMxqjUfx0yFzFUTh+oNHX4uSjUeRLlqaz7WQrW0RsEqPnFkpCFTdxEiYTw3NZ7KsYg6T0V5ckf4I4cX3wwJnMe6kzz5c0NwrHA+Qh2i4MKFcQ0eL49iueCX46QZ4ZP4y9M+fDli6GOQUZbEVy8Iu1odCiGEEGJ0cL8ebs3Haox0L+a4++Ejbvr34rn+UDNSPexq+yN5fEx5umprPjKdnJkbrO2ITVMONk1+TvoJldIRdw3d79RipwyNK09Hdar5iXYZ5lmleIs2ZzFuPrH5eDjOQ3fc1Cn5S2EqhZmS5reWuNLPaoymDIuk56Z+Kvn39I4Ul2er6I/vPnqQ0Z88tC+CH3fxu32UPvlTHiYU01X8jOBn6LmjIQ0vjbM8ngi7fHfl40P3ZXtLn9WpVtfV9hdxP7X4FUKIRkNfhOPBJ8vDcY/w+8No+qna/ZZuUBkWd2bU5Xu6Dp42Na/D50Y0mjUfayG9uSFsskYQBhjh1itfHo7f2GuBBuvrvfj0m9GcX41iWqqlbWjeY12PBOfxQ4Zp4+SBC66W0Z5CCCGEaD6srVbLmo+dBLYI9iJvMuYN1LyUgtFpPEh1ZJOAl8FQwUnlUxtD7eVYdl5+HK/kx1E5CyFEd0Gfj47DuzZ4yd7KlaNf87FW4j0EF+81Xb4IxfA31E4gTT/Gtq+bw/7UeBgLfj7Op/zUCqMOWIeGUQielnrg6XGK3x3fn7vSgRHAL+ll1CgjDCQ8CiGEEKLZYH+w7A3rQbOONzaVI5skQjFEV24Lqnxqx8uu6LIj0UNGpePuhBBCiPGR61laAbcDKRoEYzUO0DVxoz3f48e5aDnaMGolhlvJjQ1PayPTLIQQQghRDewPHuKy7M2aNWvs5XTpw1DZKBEeFrutCiqXsZG2KZWfEEKIZhHv4/mAwK4VH9vzBkt6RnLD43lKK3GsEBSOYNyNlfGmpRqez9Rle5P6HbnMKmHBlGi/diKEEEKIbqaS7ZHbNiIn2n1i7ETbGdxuVhsTQgjRfLpOfHTDLQpVpZ1tQXrDr+bAP4dSySDNDYrRk5/Lp7uRiWWb+x1PGmqBbKcOiDJGO7q487TH82TkCyGEEKIVuM3qDtymarRtJXqL3PbNnZqYEEKIZtK24mNqiI2FeH7pS8cwtgSPx0Adr3HbOuM4Gk5CCCGE6GIGb/e987BQwqNoBLSr1MmOFkII0UwmPfvss78ubbccBMOiwVX8PhLjPX+88Ebqc+fO2VsMly5dGiZPnlw6Uiukd7g0N9j4Hil6IYQQQohmkNlwrC195szpcD6zrXjJ3bx5c8OkyVqyXAghhBBidMSHTwMDA+HIkSNh2rRpYc6cOfZi42boZhMyo65tHiVXEh/HhmepuSoa6Ud0PHjwYDh58mTYvHlzmD59uh8tuZEYSf2rNZwx4lE3MAohhBBCiBHJbML+a9fC3r17w8FDB8OyZcvC2jVrwxReztJ501uEEEIIIVpE1JnQ265cuRK2bdsW5szpCytXrgozZ87sPfFxrFBQ6RRt325GARZBfDxw4ICJj1u2ID7OSNJWS1HXkubGVJkXl4XemCiEEEIIIUYms0kyEzlcu3Yt7Nu3Nxw6dCgsXbYsrFmzNkydMiUzUzJDRbaKEEIIIUQNRLEHjezq1ath69atYe7cuWHFihVNEx+7Yt5KKjwCBVdb4eXrSvJZDKdW0nOJNw9zaNramZheNuJ3IYQQQohmY/bI9cQuMYM5czdwpX22XwghhBBCjIZyjapW7Wz8dMXIx3bA64+Rj3v27AlHjx4Jt956a5g2bXqhcoUQQgghxEhgDLOWNqMejx49GhYtWmRP6FmbSLaVEEIIIUTtoDFiW125ci18+eUXYeHCBTajZPbsWaVBdPhqnH0l8bEuuFJ8I5w/fzHs2rUrfPPNN2HVqlWZgTx5UJgUQgghhBAj4wZyf/9AOHnyRDh9+owtio6hPGnSaF/mJ4QQQgjR68R3rGBbHTiwP6xetTps2Lgxs69mZ8dyTatR9JT4mD4lp9DrRyo+XghffRXFx5UrV4TJk/V0XgghhBCiVqKJxoqPIfQPDIRTp06WxMe+sGDBwsy2QnxkyRv8CSGEEEKIWojiY7+9JHnN6tVh4y0bQ19fH0cylxlW2YerW/VG4mPdiJV14cJFeysj04NuvfWWMAXxMXoQHQ21ONo2M5ZzWkXaSjslzfWmU8ug2MOMJe2jaavF+Ir0avsR1RlN+2oF9biGamU8caXndv91ZjnMbLWBgf5w+PDhzK46FhYuXBiWL19u064pD4mPQvQ69bq/1Kt/rVd66kE7pUXUr421A56XeudjuHDVnusFMhgjH5l2zQPdtWvXhJkz47RrK+caijl6GX19aNp1HUHcZM1HVOTTp0+HLVu2hKlTp5aONofMFLfPsTYIMZS8TClP/+bfI/Uu9/I4h1IeH98j1fwLMZS81bSK/GpS2+1O0hruvjoub7/533JGLgNdB8PTP9Af9u/bHw4cPBCWLV1qaxNF8VEI0TuM737SK/2s51P3ku6gXeuz/Hrie0TtbnjaqT4Z+cjbrvv6ZocVK1eGmTNmxgNZ0tL6rURMPbkYfT4kPtaRVHw8efKkiY/Tpk0rHc0Ke5yjLb0hDGkQlWqw9W26e8jKlzK3+rOyLhV4Wp/V9jeKND6rbLazzyZELbqApKl6K2oJaeRqu91JN9dx8eKplr+RykDXQVUwbPuv9Ye9+/aEAwcOhKVLl4Wb1q4NUzPbalxL2qichegsBq/35OIdzXXcK/1shWISHUzxNtcu9Trk9suOLHFqd8PTBtenS4aXr14x8XHunDlh1arVYebMGdGDHR1SwQViBiQ+tpih4uPmsrdd12OqdzUBkjjqP5VcOOXl62VfLG/216cOPKpBW6sq1dIixMiY+DhiGxNCiNbAfTeKj3vNtmLk49q1ceTj9bF2Xlm/F++Yum8K0TmM1cYe63lCtA/t/ztf19nYaH650YwmZv9cfORFfrwkeebM0sjHLEm1tLWxCI8wsfQpGoDbxVRgozuM9u6QOp/y8mW7UnnXpw5iXJkrtZ/hqZYWIUZGwqNoFPZklXtfqX9Kt4WoheLdzdpP6V5sranUpsbyrzxkIUS7Y1cu1/yo7yXNu9bHnsb6YD1bi+LuRqwkrTxbX7bE3d6ozY2NFpSb/faLbdnbFX9Le4Z8r/ZvrGjkYx0pjnzcvHlzmD59eulo/Rgy7VoIIYQQoosw0zYzjK9du2Yv8jt08FBYtmyZLYw+ZQrracsaEkIIIYQYDRMnTAxXrl4J27ZuC31z+mzk46yZs+xYo0fZSnysI80SH4UQQgjR+WA3QNHQ8/0p7T/yoTEMio+HXHzUC2eEEEIIIcYC9uTVq1dL0677wsqVq8KsWc0RHzXtWgghhBCiSRSFxVqMvF4VHoUQQgghRHcg8VEIIYQQokmkOmI1UZH9qRNCCCGEEKKTkfgohBBCCNE0JCY2n2avMKQVjcZOo8qOcIcLe6TjnUCnp18IIUQ3I/FRCCGEEEJ0FeWjRkcWfJkOn67BWe5s94i4f4+vUhjxeHVGOt5NlJdPo/NdHj7RRef7+Sz303l0evqFEEJ0MxIfhRBCCCFEV5AKWdevX08ERfsYsuamUxS/OPfw4cNh586dYd++/fZCweHO5cU4R48eDZ999pm9IIfF3IFzYjqGxlGJNM29wIULF8I333wTPv/883DixIks/43LuxfrwMBAOHbseBbnF+Hbb78Nly9frqlu2hnSj6Pt9FL7EUII0TlIfBRCCCGEEB2PC0j9/f3h+PHj4dNPPw3btm0Lx44dy/YN2DG8DCciehgIVF988UX429/+Zm+EPH36tAmDKWk4iJNffvml+f/kk0/CxYsXw7lz58KuXbvC559/VkpDf8n3UG7cuB7Onz9vYezYscPSj/9uFZJKxRxOnjwZ3n333fDiiy+GPXv2WLlDvUU0wvL6vXLlstULcb733nvhzJkzJV+dC/mjvSHiIpiP1N6EEJ1JvftGIZqJxEchhBBCCNE1IAQi4P3+978Lv/3tb008ZIRdJKpeI/14Q2g8e/ZsOHTokAlkjGws4kIlYSH0nD17Jhw8eND8I6IdOXIkvP766+GFF/5mYlccDXnDPhEn+fR0cP6RI4fDyy+/HJ577rmwe/duO+5xdB8xX1euXDGhjHJDfPXycKGwEQwMxLo9cOCAibw+SnU4SBdpLdZbKyi2H8qJ9ko5vvTSS9Z+vv76axNZhRDdRdottrIfEmIstER87KULZSTDyYyZq1fMUMbwdP+xjNShCCGEEEJUZqidhAhz6tSp8NVXX9nIRUY/MhWakYs+qq4WsMewxRAd/bxKNh37fD9Tht0/6bh+fcBsO99HeAhfhw4dtBGOPjotxhVHW+J35DijGyuV7HD2Vdo/fmK4MezK4Xs5jTX+9Ly0PlKK+72svZyh0nnAfvwikNKu0norhlvE0za8v5HLiFM5Hz8I4oxwZJo/6XBocwiSiKSxvfl5JQ8V8PT558jU6k8I0RjoS0pbw13cQrQhLRv5WPtNrnuhw8CYOXzosD3h5ilsOepQhBBCCCEqkws6bleyfh8j2hCKZs6cGaZPnx72799v3zkGnJP+eEvDiKJNPkW3mnP/UWSM07HTY3wuXrwkPPjgg+GJJ54I69atC1OnTjW7b8eOneG1116z0WmMYCOcyZMnhyVLloRHH300fPe73w0333xzmDZtmoWVEuOMDtL4fBs/jqeRT/fj/lKKx/w8d+n5leC4u+xb3Gmk4UbxjPC8nM3HhIlVw40MzY+nCWL4tlm23+E709o55uRpilQKF/DDd+qJ6cxvvPGGjWKlLbm/1L/j+zwevnv4xTgyX/Fvya/7dxeJ+wYG+m1ULyNkEde9TU+cODFrb4vD448/Hp566qlw0003ldpPLHfCBMJI4/f9kMcV8XR4mkt7S59CiNah61B0JpOeffbZX5e2m056w+sWeALJmiuMZFy6dGmYMmVK6UjE8+w3dPx+8MEHtibRggUL7Bw/LoQQQgjRyyB6sCYfU3Jnz54d5s2bFyZNmmTHUluJbRzTaD/++OOwb9++cNNNN4f58+fbSLVZs2aFVatW2Wc8Lz+3v/9aZo+dt+nSxOUjx3gZCcIlog5i4Jw5c+xcBEQeGDPCkk8EIOw+XlDDy2YWLlwQbrvtNvOP+Ema+/r67DzS8s4775hwRFo4hq2Imz59xqB/3+95ZEQbaSNOPl10QrT0vJNmppfjiIs0MeITR57wg3+EqiJEw3FsU/x6XJxLeIRNuXvZEz9+iMdtX/yeP3/O/E6ePMX8etoIl3Pwc+rUSfPPPsJAzKN+N2zYEFavXj0YB+CH84F4KO+TJ09k58VyT/PEd46TpjSftKGzZ7HNL1rYjLTkJUK86IY62rBhvYVD/Z89F8/HXyzbYGlFvP7www9t5CN1tHDhQjuOP9JFGVFungbyRZgIzsSPeOnlSXj4I31pGeEQlfGLv1ie5y18r5eTJ0+Ft956ywRIxPVFixYNpgOxccaMGdbmaT98J0yg/RCv5fHsmSyO+AIlPxf47u2HOIkv1tepQlnHMIUQQnQe9OXcp1kahvsE90HuVY7fNxqBxMc64wZYUXx048mdg1GB+Igxs379ejO6in6EEEIIIXqR4cRHSO0lbDBGE/LCF/Y/9NBDmS22xPYhKK1Zs8aEmcmT8/MRVb79dk94//337cUnTNPmxScISAiPiIXYcy4+4h/RiheV4B8RCKETUYe3NeOfEY+33nqr+WXK9/79+zJD/7qFx3nbt283kRRxh3j4JOzMWgwff/yJiZ4IS+QXgYq8M02bc0lnTOO3tn/q1GnmlzJBtCI+jiOWkc6PP/7I7EzyRJkQZipKFSHMb77ZnZ3zoZUjo/2wUckfwhPnExd5Ji3kCdGVPBHPzp1McT9jYqunnzpExCKst99+28ImnZTXiRPHB98Ofsstt5hAXKxfkspx4qLM3377HXtoT54oO+JBdCNNpIEynTsX4XeGnY9N/sknH9vbrSkr/DI6lllHpA9bnWnMlO/OHTut7Egz4U6dOiVs3brNBD/qgHojPGx90kR7pH1S5pRTLPOPLX38mEOkRLyjfD766CP7JC7q2NOOmEk6aKO0H9YoRaCm/CknplkTH58cI2ymXHM+Yi9rO/b1zbH2j0BKOSFs47xdkFfKjjySVuIn3bQFyoS6jaM7d1ibpgyoF8KjnskXkN7h2o8QQoj2hv5b4mOXUE189LwiQlLZGBgYNhh5GCsYZbfeektYtmyZHcdxTjeWkRBCCCFELYwkPjrYS9hSCDaIjYhY999/f1i0aGE4cGB/ZmQfNSEI2wyxBbDF8MsUVkQrDHHsN+JjG8GFUWCIlozKw0hnlB4v9fjgg/fDsWPHTbDBP8IQghbpXLt2rYmPpAfR6ptvopiIX2w+xCHCJc3khXwtX77cBErelo3ItXLlSpuGTXo+/XR7lsZXTDQiTOxM8nPgwEELkzLhxwNxI+699tqrYe/efSZ6nThx0vJPugmLMsB/+kPDoawRvxC3GJmJf99H3hC7OJf0ksYXXnjBxDEEOcRJBDEEQUQrBDVsWoQ+r5dXXnnFBEi3kxEfEWYRuiZNmhw2bdpUUXykXAib85n2zDYCI8Ll1avXbGQqs4cQ9ahL0kkdIEAC5fLiiy+Z8Eea8I9gStoJi/TxGcXjo2Hfvr2WZ+p7/vwFVnakmzZBWEAaEVipJ/L/6quvmrD39e6vLf+0CdKwYsUKKxMESdoIbY704Yd80y5ID+Ifx2kvvKTIBXDCJl7KDDGbbc7lu4+cjO1nhR1//vnn7TjpIlziIu2UC/mnnsgD+aVOL1w4n9Xp/FL7OWft58033zRxEr+MMqWdffXVlyW/80zAr9R+hBBCtD/xvtpD4iP5aWSmWkk18REQHjEMeDKLsUuFY1xg4GHkYIBgYGGMeGNgH8YF5YUjDKhX+XmYGDgYGRhLpB/HPoxjDJvUEIRurT8hhBBCtA+1io/YMthXiDzYYJs3b7apz3PnxpFp2F2AuEUYgDjH2ouM7mL66sMPPxy+853vmNh49eoVO4fRbcxMwV2+fCm89dab5h9hkLUc77nnHhOYEHkQrZjOilDJKD5sqM8+25nZU+dsDT7CQBDCxkKEuvPOOy0+hEoXiuLIvTNh06bbLQ6EpFdffSX73GfhPvLII5Y3RETsNvLMjwbSgA2KcPjZZ5+b/bhlyxYTYMkPoxHJ79y5c03o5LhD2bldR34JBxv2rrvuytyd2Q+TuWaXHj9x3IQnjiGUkVbywqjQu+++O9x+++0myJFmhKooAM418Y5yxr6lTig30kY9IPgdPnwos5enhjvuuKNs2rWnibIizL/+9a9ZPk5l9fSIraVJ+IxsJe/Eg2CGwEYaiIfwCQOBljpDcKOsESBJv4u5tIl7773XHHmhzREfdjAiHvklTNoVP9jIJ/VAHLQbBELC55wF8xeEe+6+x+oVMZU0cB6/BzZu3Gh1RxzAaETwWU/UHSIm5U+9kUfWCl2wYL6Jq+vXr7N2RLoI8/bbN2XpeDTLU0wH1wh1Qjsln0uWLDWhmzBpy8RLGycNtC3CQRjndwZlmJW4Cd0Iy9OmTc3CvyPLx/0WfhTYDw8KrlyL+i0ghBCdB313q8THFr1wpndvVv7Umye3GANMZcBYwXBhmgNPOzHQePKIMYYBBBiGbhxGR8OwQ+MGIwdD48UXXzTD7rnnnht0PN33J7VCCCGEEO0CdhFgF2Ff8UCXEW2MukMcQUhD0EM8Q/xB/EKMwa8b3ghWGN+IRY899piJPkzXxiHW+JRYwjp8mIfGe206Ky+G4eUe7v+BBx6wNSYJy223FOJH9ENwdAGU8PnOJ2Kg5wew8RCYsBEZeca5Tz75ZEkgvX8wbmDEHw+xo204wdKHaMVxHGLd5s132Y8LxDZE0UppJJ+kC5GMNOGf8vM1/s6fO28iFGUBvPwE0QsBlvJDLCN9iHuMuMQvYixljvCHwEUZU14IfWzfd999gWnqxJ3mH9LvbFNnPKRnlCDiGSIgQhrx5TONYhmUwdfCfsIjToRF0k19khZERdJFmJQ9NjDbXm8IgQiACKWIn4zsJCzKkx9wpOd73/uehYFIR3sg31EMXGJ+san9PARh6oTfAbRf6hzRl7r2dBEe3wkbR7hz5vSFNWvWWjqoK+o8zR8v8WHAA+2bcJeviO2H/HlbJ7+UJVOtiT/WQbA2f/PN68zffffdPyh4IwqTVsIl7UIIIcRoaNnbrnsVbtwYHDyhxfEEEcMEo2nmzFlmuGD48clTYEhv8Bg30Zi+mhkv/aW944MwMTowUHg6zdNRPnFMOeJJKgZfNOjKjTchhBBCiFaAPeImCSIO9gsCY9zeVVof8G0bYYbgiNiIbcNxBCCmlDJyDwENsY7RhC5cIuwgMrmog+3FeQh3iFH4ZxSg23QIU4hR+C8XZmIaEfAQerD5+EToQdxzG5Dv7g/hiPMQeRjdSFoRsIgDu5G1DBkpSRoQoY4ePZKl7aTFRtikB7GS0XLkB7sSgY+4yAfhVRKPsAcpJ6bjsrbgu+++E1if8csv45qPnDvQ728DJ62TrOxWrVppcZB34iR+7EamRCNeMsKOsEkTwhn+SAvlTZmRFxcPK4HtTPiMJiX/1OE777xtU7ldTCb8SGwQZUIc+0rZ9f3kgTgRH0mDl5WP7COtjH5lpCV+qWf8kxbqzbcJz8NCXEQIpH0QDvtIF4Idafb1ExmdSRkzQpEBAAiO+Dlz5rS1PUbIki4EaX4PMIKR77NnU/fTrY5pI0PbD22H/MVPwkX0pc2SR9oz4ZEX6o0RsYipvMQGP94mSAP5p17wi6N8iIu2Q926X2A7/S6EEEJUQuJjHSnZM1XBEMDgYhrGd7/73fD000+HRx59xAwVbvBMQWE/jikpGJoYEznxDXiMnGSqNk/3MUyjoTF2MJ4wQHgCytNonrS648k0BgqGDcZMdEKITkY/EoQQ3YALLQgijFBjpBoiCmIXLxfx9euwmRDBeJjKQ9UjRw7bOQg/vPmYl4pg56T2FN8RerCRABGJc/hE9ME5nId/xBmEoUrEbjeKNO4Iq7w/zu0s9seRfnEN8GLY2Ie+j4fROA+KtCEYuX/8ss0nceIqwYtLKB/WHWQK8OXLV0xEQ/hDkCovo7heJWXEw3Lfz6fH6/nz+EiXl6eDX8JN7d08jlgOnIOdzGhP7GOEsIMH4/qIrOXIyE+ENj/Py5Tv7CJ+E06zsqQOPHiOV0sT+zne3z8wWGapS+uNbfwjuiLuef4B0ZYXzSCEI5QSF+UZ102cNlg+tEVGdcZ2N60sTWl5pPEX00HeUqIAfNX8TJ8WRUuH8iYu6s7D9P3khXpN64T08D1NixBCCDEaOkp8LL/BthOervikcbh0ckPn6SVTWli7Z93NrOWywERJxEb2cYynnhgxfpPn8/r1G/bUnsXI//znP4etWz8xA3u8YIwQL0YdgqgLoGwzLYP0pgaL6CRoi+163YhWMb7fDrW0J/ej9idE59F51y2jF3kwy8hERnix/iAPehkZyANetnmYyshB7CZmely8eCEwHRsBiFFnPsIQsOPwx6wQn2KKHYStxid+OccFG0QehE38pyJYTvyOecixeLxcPMr350QharqFT3yE7SAqkY4LFy6aMEjawMNJhSMohp3aqn6MPDNCj/LBNmUKdZyOfK+NBiQ9N5K2QRzFeBxPB+cgkpJXpmGneUBwI85z584Oln0lCIdywFbFNv3JT35iD8jJN2ll6SDCoW7ICmG5UIygx/qTvs5mFlrJxXrjPBxpcXjQT3lTRIw+TG1gbPFY73k5UJaIc+SVz7SsGeHISEfaB+0Qu5oyZbo0dj5wDvFQTrEdnTCx3EEgJ61pW2E7rUPH9+P4zeFiKGtrUgZ+DvklLvKOP5yTpl8IIYSoFx0lPrbrvbDCvb8qRUMBAwZjiKkdGBY5Q40KvmMMMW3jnXfeselFGEjjwePAqMNA8ae2fLqLxpwMkU6E6i00IyEyxn4919KeYrujD+Ob+g4hOolOu24RURj1iPiIiMPai4hTzzzzjLmf/vSn9vmzn/3MBCvMGcQqppoyPXbJ0iXhyNGjZlvx9mOmbSNo8eZiRv8hmGGrIQwxrTaOujtgU5IZUYl/7DHO37HjUxNzijZT7A9j5+kjyM6fv2AzWJgWSxxRGMuFI/AH03wSF1N2SZu/LIU0IrgynZYHxSkeBhRNuPJjuejJkj6kBeGLkXm8CIX8Mn0a+9OmNw9E4S0No4jnAYd9GacQzzBhk1GAjFDlYTprnfOCFF6mg5haDY6RZ85l/UJGY5JnRkNSN4holB9iJFPSCZvyIh5Gcr7//gc26jDa2TFdZJlwmZLPqERGTxIH/omHOsUeps5TUZGRtYyc5U3niHmpaAmxXPKyoTwR/jifqcwrViy3tuT1jn/sbMqZcqKMKRPaHsIl6fn4409sijnh4J+wSDtiN+HQ5sh/jDvCNoImM5uoS/JHeyE88skbsGmzrBXqfvw8yjQNC/he7ZgQQghRCx0lPnbLj9j0po1Bw02fN8pheEC8wec3eodtfxrLU9AZM2aaUTd2CDuG73FVcqKzkXAs6kkt7cl/zKrtNQb1zZVRmdSHTrluSSd1jvCCEIe4hBjF7BFGOLKNmINDQGJEpK8ZiF9EPMQZ3ky8dMlSG532+9//PvzHf/xH+MMf/mACFKIWcSBaER9vVr777i1h0aLFJhD99re/Cf/5n/8Z/vjHP5qQc+7ceUubj1LDIU4hDPk+hCam3bIfQYmX+/FA2YUl/HGMT0QqZsIw8hB4CSDpwxEnAhuCFqM6Fy5aWBYfIpGT7Ta7sb+fdDA9O79W2PbvlAdL7UyaNNHK1F8+SPoQrPqzcwmX0X+kj3gIk7BjGITFaEM/1m92LqNP77zzLvvO7J3f/CaWG2GTB3+Q7mnx9Dich0jGFPrf/Ob/2PnPP/+8CYfYwYjICLSUBeWFKMhLFH/3u9+Fv/zlL2Hbtq0WB3XISEjC9xGMjGxFdOaFi7///e/C//k//ye88sor5ofliPzt2+SDtkO+eKM6aUe0RPzFL2nEkf80+dj2lCmjVHmpJOl54YUXTHiN+Y7lhtDJyEjaL6IpbfDf//3fLa/kw4VmLk/Cox2xLifhkQ7Kh7xR9t6GvOxpHwjevOgytp9/t7ZOHVN2LLnE9eL1hmM7rQfPI/slQHYWqqvmQ5mnTggRmfTss8/+urTd1XDhu0Edt9mqn4HtYXNjxhDGmMHg5cY/HBgPLLiNcYB/1h0qgsFAmpmqgqGB0bNq1WqbJo0hTRhjY6g4UOwgi8dFZ6H6E6L74LKOl7au75S0v/N7Wav6wPReqn54fCB0MEIMIZCRbQh3PgqNcmYk2r59+2ybtwTfdtutJuTEl7bk4J+wsNN8CRyEJUQXhCuOMRXbRSoeDCNY4o/p23wnbmaEkI44nfeC2WbYYYxQxJ+/dISReYSJH0Qrf4kIftnPyDUXeYifac2s04gIiX/ejozIhCA4b978zM9M84/ASVlMmTLZwmRqNH5nzZyVHY8jFxEtSQNiHHmlbNhPnOwjX+TD2ybH2SZtOMoIAc+nelOepH35suWWL8IgLZQVZUg6KBPsVUZJIpKRhttuu838kj/CQCgkDdjJlDVpIC0IYJTfrbfeksXDm69Z75BrKLdTSSPxcS5pI12UE2+hRlwjfcRDfilT7HBGcPKduqOeiYc0sc1x8kl+cOQHgZB1LrHLER552zPhentzcc7rjjwjdHOM9Lg9zyhCzgHyTLnEF++cyerhrOWFcqN+l1mZxrXfKSPKBP+ER9shnd5+aF9s+8hHXljDWp+0EcqPuCh72iltgvRQJqQHP5zDFHfCJQzipf3w1nDyQp6oc8IhH4RJPQLth7TQTtev50VHXGPlfVvxu2gP0nrxa71TIL1OJ6WbtJLc6Don3aI3oE1yP2OWAH08/Xmzlt6YkBlA5WpTG+EdTttftKWOnNRiLBzYvz+czG7+WzZvDtMzQzLtOCuBEQoYymQVxynsJ1zefMj2oUOHw//+3//bnnCyZszPf/5zMw5GCl8IIepFLYZrsU9q+z68w+iYe2MPk9eR/bXtTqHd2heCCCPBGHmHeIRYlT7YRdRh1Bfr+s2dG1/k4YIJpPlAPEFgQsRClEGcQYRBzDpx4rgJLLxgBBEQAYdzEWxcwME4d2EOkRChBgMeYQfxhnSRXr4TNtv445z58+eFvr45Jiwh/jBdlmOcT9gIPYTPjwHOQ5giTNLAd0Q30s4n5yAQkUZG1iFMIth5fNiiiFj8oEBMpE7JG+klDtLC9GSH48TDJ+dSnkzp9by4IMZxyoLv7o90kFfKPJbXlSxvx7LjF7M8LDa/Xo6kgXApP/ZxjPDJD2FTDpVELaCeyT/5o675+eJ1iCMdnIcwS9kiwhGup5e8YEsvWoQgN9v88YZwbG/KiDSxjzA4h3KlfCkv9pG+YtjEu3LlCmsz7KOMOIc8sQ34o9w5L+abt0nHl/hQJvhzcRBom4RFXilj4qYdkB4c5cx+wjt27GiWL9rW/ME1OWk/5JO0cR7hMzoV0ZMwvc3SximX2H5m2XVAGfk6p4icpJGyAeqOsp82bWp2Tixvh7IB0ipEPfG2BWpfQtQHriXuPwxqmzOnL7t/rLL7AHDNNfJaa2vxMct+5tq/o5lQSib94+XM2Dpw8KDd4DeXxEcOZNUYPVfA6zf2r3l1pDdzDFemCP2v//W/zDBh/SLWLsJYSTtmUX8afRGCbq6VKbZtlU1nEK8Z346fnVR3zbjmh2Pkds9xXQvtTH4NdGI9tVf7QhAZTnykrF28QmjBVbt+8YMwE+snvq2ZTw8DW8vD8Tjcrzvfh1/3TzhpWHzynW2Pz9Pm5xOfC2IIPMTHeeyH1D/gL02jx+nxQh4fD6+Hno/DL/v9nCJp2jwe0uf+/Xz359+dmAam5sZz/Rj+iN/LDcizH+e84dKV+Sidn5cB6cKlZYAf0oVj24+D58fTgvPzvGz57ucU84Vzf5xL+nHs97DSPLAfOMY5nAsevh8v5rvoH7/u8Ofp8PbDfhdJ03PSMIvnpHnEXxoun+xP08U5HON7mg7RHLysvT747tvdTi/ldSSK7aAy9FUj+ekc0vqvLf9iJCg/iY8djImPGUiMly9dGhQfGfk4rQbxsZzy6vAGgBHCouYvv/yyPYl84IHv2FPyLPZBf6JzUWdambRdq2zEaEhvnul2J9Csdt9p5SJ6k5HEx3ox0rWQXpdmepW+tt81FH941otRlcsI1DOskahXvRTTRLjjSWd5usrrikO1Bt2o/In2xOvJ653v9WoDorOore5pL93ZPtT2xw/l1yrxMX+kJ8bMDeqnVEfpLbz8dl7LzX2oH698njIyBefJJ5+0haGZysJ9KN6MaglbtDPUszrSoXiZqGzEaOnkNtPcdq/7hxCAPTWcK/mK28llU/TXeldKWJ2oHEfuRkOl81NXTyqFPxbn0B/jKvmp5KpR7i/uo6vP+/v0eHSVKPoZq3M8f1DJX9GJ5pK3j0jxu+gdaqv77m0fndP26SfVVxaR+FgnvGl5M0ubm38OPVp01WHqA4o0azwuW1b+YhrZAN3AyG2gV5GBJcZLJ7ahZqQ5RqHrS4jaGZ1A0yon6gf1XeyP69U/52Gn4dUn7FqplD/RnqiehOgcuBVHp3tyisTHOtLIplVuVPLkNe4X9acVnQRRjjVadWrtR6/XSWfkf/g09kYd6oeMEI6LMLW43P/ozmuWqyeVwk/daKh0fu5KnuoE4VWOZ3SuGpX8pq4ao/VTzV/Rz1hdJSr5KzohRGuoxT7Vb8PWo36yMhIfOxB1KI2lFZ3FeIy5ZqaXthfbn9rgcHT6DWe8fUxn5H/4NHZ6HQohRoff30Zy5XR/P1GpDFI3Giqdn7uSpzpBeJXjGZ8bL5XCzF3JUw1UPn/8rhuI+eiOvIiU+rTRTm/ntdinsmHbA+pBdVGOxMd6UmpbfstjLci8exvcO4wTor2h/4x9qDrSbkY3SiGEEEJ0ItGGkR3TKYxGDIzm6fh+M8vGFaJ1SHysA6l8OPjymaRfKxchh8NDEaJdKTRuIYQQQgghhKgBxMZUcKxVDOQUd0KIzkTiY52orR/E13BOCCFaTzQK1ScJIVoLv0n5YVr8cdrKgSudPmVPiG5G12f7M9aRh2M9ryh2CiFymn1p1E189Au7Vy9uukNzpexnpnLpn2/HvdXxY8P5EUKIxhPtO/VFQohWU60fyuwqdVFCiAJjFahEcxmPADnac9UmhHAQqlyra41uV/eRj912gSMmuqBYDXJsuS75M/9WmaUdtu3l4r6LDvxTCCFaSTP6Iu8jUyeEENVJH3K3wGbOSPsrd0IIIdoZCZBCwIQW2U45dRMfx/IkopMYS86GnsOe4ZwQQvQG3PyKTgghKpHal2y3bpZN0W7L0yWEEEII0c7k9lRr7JcJ169f10++YRgc9ZjVz0gFhTF86dKlcOjQwXDq1OmwZcvmMHXqtNJRIYQQTiXxoJsfYAkhxkZ/f3/Yt29fOHjwYFi2bFlYs2ZNmDJlSuloO8LozNJmFdTXCSGEEKJVYFt98sknoa+vL6xcuTLMmjXL9vP7rJE2St3Ex/SHZDcZVWMRHzGSjx8/Hm6/fZOJj5V+ZAshhBBCiOpgTvb3D5jweOTIkbB48WIzkidPnlzyIYQQQgghagWtDvFx586dYd68eWH16tVh9uzZdqxjxEekOTS20SbWhbl6ZLIRAuhoxccLFy6E3bu/Dnv37gtr1/J0fmpZuoQQQgghxMhgyw0MDNgD3ZMnT5qRjACJ+CjbSgghhBBidGBbXeu/FvZ8uyesWrUqrF+/3sRH9mNb1UtHq0TLp12PP4O56OmGaD0LbDTiI5w/fz589dVX4ZtvvgnLly8fNJArGcmNrFghhBBCiE4GOwnx8fTp0+HMmTM2PWjBggVh0qRJJbuqFsusSDXbqxiWbDQhhBBCdA+uP/UP9IcD+w+Em2++OWzcuNHsK9fTGqlRdcGajyS/gQXkpZNFMVxBeWVdvHjRhEemCG3YsCFMnRpHPlYWH0sbg1TLR4dXkRBCCCFEjbjJhJ00MHDdplwz+hHhkXUf6zHyMbXBqgXVQPtbCCGEEKKJRKMG3eratWs2YG7p0qVh3bp1tuZjI0VHpy3Ex6iwstV+Vp6LjzdGSJqLj77m46lTp8Jdd90Vpk+fXrOBXKnCx2tcCyGEEEJ0KqxLtH//fnuoi5Hc/i+cEUIIIYRoT9Ccrl69GrZv3x7mzJkTVq9eFWbMmNlr4mP9M+vC3bjCJohRnI74iJGM+MjbrqdPnyEBUQghhBCiRqLZFo0vns7zUPfAgQM26nHt2rWDs0qEEEIIIUTt5OLjtsG3XTdLfJxY+mwpjc4oBuqYjdRxJE12sRBCCCHE6Ij201Ajyu251AkhhBBCiNHBGMRm21JtIT42CkRNdE3XNmWkCiGEEEK0PzLZhBBCCCEaSzPtra4WH4HC9AJtxlBSIYQQQgghhBBCCCFEpMvFx1zGlfAohBBCCCGEEEIIIURz6XLxkWnX0QkhhBBCiM7Bl8uptGyO7Lvx0+y1noQQQgjR3QxnV3T9tGshhBBCCNGZuEAmkay+qDyFEEIIUU+ibeFuKBIf6wDP3f3Zu28X9wkhhBBCCNEO+MhRjR4VQgghxHjJhcfqSHysF4nIWxQfhRBCCCFE40lFNYlr1aFYysupdGCUlIcRnRBCCCF6i9wOKO2ogMTHOmD6rhdy9pnokGNmuClGYz02HjzcsYTdiPSI2lDZCyHE+BhPP9pJfXDn3i/ydFcTvnKDuLIrUiwLvtdePuX+aomvFZCfy5cvhaNHj4aTJ0+Ga9eusTcerEClfOD6+/vDqVOnwt69e8Pu3bvDkSNHwtWrV0tnQa3lJoQQzadz731C1Afu5fWDsJAYK4cp8bFOWLeVlTGfqQP/rIVKBm+RuG8kQ3g0sY6OWjvp1F+t54j6U4+yV/0JIXqbsfeBndR/dlpfT3pJ8vXr18PFixdN+EIE27Nnz6A7cOCAiWupIIb/S5cuhmPHjplwhoAGboCnhvjoyiSmJ2VgYCCcP38+HD9+PJw9e9a+txryNzBwPRw9eiy8++674dNPt4dz585n5VI9r5cuXbJypLyuXLlS2hssXx999FF46aWXwuuvvx6++OKLcOHChaQMK/8AEaI+dFafJdqLTrjnxftc7oToZCQ+thmVDN9KxL6HP+WdEOfFc+tr7Hm4efgjU6s/0ThGU1/DobocDeXXZGcbCp2cdiHqQ+z/xtYH1qsPbgadlFbwvpU0I+gdPHgwvPnmm+Evf/lL+Otf/xqef/758MILL4TnnnvORLFdu3aZCIjwiHi2Z8/e8MYbb5hwdubMmbIfdmnY4ykTzkWIQ5AjDTt37jSRtB2gzBAOP/jggyxdn2XpjGVThDwwKnL//v2Z3/etvBgtyfns37Xrq/Dee+9Z+Z47d86EXMLp7Huf6ATiNWtb9l2I0TLePr7RqB8V3YbExzbFO8NKHWK+P7rUb9zfOEYTR/Q7unNEu6Cb3VgpGsKd3PbJS2r4yAgSzSb+uFS7E0Nx2wKH2IX4+P7775v78ssvTSz79ttvw9atW8OLL74YXn755fD111/bCL7Lly+Hffv2mfD26aefhjNnTmft7LqNjjx9+rSJkT5SMo1nZKK/tM0iNiLMIdB99dVXbSM+kkZE2BMnTlh++/sHql5rlAXl+8knW8P27dttxCgiI2Ljrl1f24jIVatWhXvuuSds3LgxzJo1y8r5xInjmZ842rO28mtf1A+1H96mVDWiW/F7T+qE6GQkPrYJ9CVppzLcU2P3N3HiRPvEXzqNx8NoBKTLn4zHdNhmVeIUnhslv+owm01sQ6O3ymLTG/15wq+/7mjrxetW17BoJu3yY7+XRIex3jNaDelGSENUnDNnTrjrrrvCE088nrknwv333x+mTJkStm3bZg6hbcqUyWHBggXh5ptvNtFs5sxZdt9jJODHH39sDkHNKfaFKZX2p/umTZsWli5dGtavXx+WLVsWpk6dOhhe0VWjVn+VGO5c/170Ex1Hovg/efLkMG/evLB69WorL8p40qRJg9PJyeNtt90W7rjjjrBy5UorX6a8v/HGmzaqEiHS40lJ42tnvA/opb6gU+iE9iPaGT3gFKKZSHxsIeVGV7xxIuzxRJkn9YcPHx5chwjoHMvPCdnxa6Wn0Z+YAZiKkPWEuHnyzSgCpg1hvEfK05OC/x07doSvvopTnaCa32bTqhtNMd5GpyOW9ejLe6znCdEeNPc6E43B7xetvme0Ov5m0ul9//Tp0038uvvuu8PDDz8SHn/88fCTn/zERuQhTGIvMfJwxowZ4ZZbbgk//vGPMz+PhUWLFtn5jALEbsHldk5O2ibd+X4n7s/39fX1WXqeeeaZcN9999n3aqThONX2VdpfZLjwYhj5d8REHmrnsD8eQzBFPP3ud79rZYoAiSCJzYnj+Ny5c8PMmTMtDPrcQ4cO2ShUXkLjo0ghxpnH68T0lLt2oR3TJHJ0jxdjp3HXNe1SbVOIciY9++yzvy5tizqAWMiC4hi5POnmaXsl0o6OjgkjFwONtXTefvttExMxhpcvX24GnvvnE0MPoZFpRR999GF48823wmeffWbGIE/yMSDrDdFjsDNF6bXXXrfpTKQZsRSj05/kO2yzzhFrLpEXDH4ESPKK0e95yl2Mo9H4TSBNazMpxtuqdIjWQRvszXrn2mtevrnUdb0J0flgZ2BvMMV39uzZNgLP7Ry/prG9/EUzHN+0adOgDYZjPw9PGXnICD2EMkbjnTp1Mjs3CmjYNVu3fhI+/XSHTb1GRCNchDO+I6Zh1xAeNg99ObYYtht2X2oLnT17zuLj5SyATcj044kTJ9mUZB81SLqw35iOzYNnSG0k8k7cTBdHEGX6NnESN0JrNXvPy+XixQtZuewJ27d/autOci5hMlIReMjNNGrKY8WKFfbCHmxLpqRTPqQFv8RH3skn6zz6g3LSxPnkhXLhGP727t1no0eJkzIknZQjn1OnTsu245qbPMzGD/Hib/r0aVk4k7OUqa8WtaN7u2hHaJaxaap9ivaCPhO7h3sv93hmM3APb0ZfKvGxzgwnPlKh7tyQ4y2Mn3/+efjwww/tCTFGKCLfwoULzUBesmSJGcAYehh3PvIQEZBzvv46PlFesWK5GdsYkOVPrsePN0QaKdOQMFZJNwY3n4wUIC/kifx6nvHPouQ4DFnSjgiJIU0eCRdDPRrPlImd1hQ8T0I0h1x4y5teb7VBru9mX3ceHx9xs7fKXIhuoFbxETsDkY5tRuAxDRt7BTGNdR2xTbZs2RLWrVtn52OTMC0YGwaxDxHs448/MlGMuHAIcNOmTc38nLQHqdgz8+fPM1uLeD755OPw4ot/ywz4o5YuHLYQYuJbb72V2TunsvOnmzBK2CxFgwCK3UaaeAkNthx2oIuYhMEPAcKPL3n5wOxDhEe+I1hii5FmygM7KoUyIQ2E9dlnn4dXXnnV3mjtcWCvMfqSMkJAJB2kh7xigyImYmdSdvwomT9/vtmV33zzjQmK7AdfM5N0EZeXGfYv+Sdcygt7jzjJz5w5fZZejpMut3upN2zDOXPmZvl3O9aNQvXbQohOhL5L/ZdoP7ATJD52CRhXlcRH/+FLRfMkHGMNA2/btq1meFH5GGQ33XRTuPfee22KEFOHAOMQQw3/GH5snz17JjM6+8KGDRtsGg9TepYuXTIYXz2hIeIw1jEcly9fZiMs2UdeERQxiMkD3zFiSQdPzBFRKQcMXYxhjMv9+/eZ0coTeARVygQj2kcMNBriIC3NiEsIKBfe+Oy9tpdeb42//mKfldObZS5ENzAa8RF7CnEMQZHv/rAW+wR76d577zHxD/+IeB98+IGdj+0Fp0+fMTsGe4T1DdnPJ/4JC3ts+fIVNisFf2+//VZ45513Bx8aY+9g0zCLBf8LFy6yfaQF8Q/REvETUe6VV14xMZD84Gfy5Jgn0sfMF/yQdkQ8xLgNG9aHNWvWZDbWNQsPQY9zCdPLAygTLw/e/k28CxYuCKtWrrJwyBvx8WODcnKRELvNhM+5c8LVK1fNrkOQZFYNcVBe5MntW2w8yoBzseEoJxy2KGnA1qXOEC/Xrbs5O7bGHqgzGhPhkbpCaFy6lHUwp1geCHfRosUWHvdNz48Q1ckf7grRTmDrgvow0W7QJjtSfJSAM5Tq4mM+2pGn5//1X/9VMuKumDF2++23m4h45513hLVr14bFixfbucePHzPj829/+5sZkJMmTTTjc/Pmu8Ldd99joyMx9hADPS6n3nVDeNOnzzDjlDRjkCKQYoCSL56Ku5DKDwTygOiI4UlZrF69yj4nT55iPyQQYBlpQHnR6DHc6zdqs7IxUiwTtd9m0dvGodpZZVQuQoiRGI34yChHhEDsEkQ21sXGHhsY6LfpzsuWLc3spYV2zqFDB8OOHTttPw99/YFvHIHXFx599FGzyxADSQOjFxEfsX+Yosw07ChsRvENO4Yw8MubrXnAyotvVq5cEQ4cOGjiHQ9vN2zYaLNGGI2I8c/D43vuuTusX7/B7DlmshAeNh8PnOG+++61NK5de5OlF4EV0Y84sauYgu1QJkx/Jr2IoDzk5aU7DzzwgL1gBxuT9HMOYfBgG/889H744YfDpts2WTnzYBlxkrUeEVtJM3YeZc96meynjCkH/HMu4u6aNWtNPKUeKAP8Pfnkk+HWW2+19B49eiy88cYbZjfeffeWLN57w8aNG+w8yg+70W3Bxt8jJFx1MvF3KFuqQ9FuROHRkb0r2gnaY6vEx3ErPa7qi5GIi85iBGPQMXoRQxrRkKfxGHIYhcuWLR9sAHD+/AV7+sz0IM5F8Nu4ceOgkYrA5+sH0V68Przx8On7xlpX6XkYhDRSjH/SwhN80s4nxieGKk/yMWgxZvGPgYuwuGrVaks3Bij+CYey2P3NbjuPi6Ac4h1rmu2vbVeCcmnGBSYiI9VHrzPaa7PTm66uPyFEvaEfxa7AlnryySfCz3720/CLX/wi/P3f/0O4/fY7TDz74IMPw4GDB0ysTO9LnIc9tmjRQrNlcIh6iG7YWBxDGMPWOnr0iE17xja7cOFiFt9NZuMw0g/bh2O4mTNnWBgzZsxM+jv6vhgfcZAOBE1GXCLkYdMxq4UH04h6R44cztJ53eJlHUnEPM6J38+aCImIV4T4CI+p1Yih/MA4efKE7eOBMHEjcDoIqm6bMdoTwZC0M5MF8bJoRxIOdmBM72yLhzCwYSkLtvnE/sMfo0URJPHneSddMe+ns/zEt4+zv34PoUcCuzzmyV0zaXZ83Ui8rmRLiHakZOeqeQpRxjhGPsanTfoBWU61kY9AWWFssA4RT4QxsPDPNlNbUvGNYxiXGGf4xwHTbTA0CZ9jbjBF8XGi1UkKAiDpwYCE3NjE6Kmt7tI6Ji7CQjjFCEYUZfTinj3fWjwYjoipd951p+WffJA3jmGU89SckQmMAGA/RjCjNzF6MUzL44qfcVdtaXViOKM7RzQe9ReVUbmI5hN/eHdT2+P+pGsph/KATi8TbJ1aRj5iVyAIYnt85zvfCZs23W4j/BhJSFns2hXXFVy8eJHZHgiEn3/+hT3wZYQiwtjhw0fMTqHoeLBKWIAth+3FaEI+EcqIj/DuvPNOOxfxEZsH+wybaPHiJTZaEbENW4m0kR5GPpIP0sw5CIiEhcMeJG0Q37q90/J+5sxZe7DL7BI+OQebkfQhtjIt2qFMSAef+CEOhEzSgCMO4veRj59+ut3sL8qMfFG25JH0IA7ywJsZN4TBPuxI7DzOIf9M26aO8IfoSFmRN8qRtRxd2CRO0kT41AfLBzFqlDLFYSci9FIfqTDaOCpfF826XmqLp/v6aSF6iQn80/Ur2gzaZKtGPo5ZfCzZtIYuqpzhxUcM2PjUmVGDPFGn7DAimYLsohyGJn5nzoxGGMYg/gmPcHl6j38c28SHoYZhFw3yWB80KoxF3p6NP44xlYhpz2MB4xJDk3iZasRaQkzpIQ6egmNcPvjgAzYdnGk97EOgxFjG/zvvvBO2bdtmxi4GJsb+gw8+aJ+UBf5TKJvYturfvvQjtbmkZa1yF6LVdOcPWvUtlEFpI6HTy6VW8REBCxsKP4zcw3ZChMPm8WnIhMOahEuWLDXbiYenqfiIIY5oBqn4SHw8eGVqN1OoCRfbDVvmoYceMhuMY9g8hHvlylWziVhSh7QhGLr4iEiHHUj6EObIDw+YEQYR6wgTMZHwOIdpyIxGxC9p5RjpQgAkLJ9C7VAmOPYRB/YVn6Tf0+EjIBnViHhIGigDwiZvlDVpwV4jH9h0qfhI+TLqEWEzFR/d7h1OfPRRpqSL0ZH4JVwPm2nulAHpaDReVqlrBsPZoOXH6p0m//HWnHw2E9n1QghRG/SVrRIfx3xnJ3HuRG34jz0MSUb7PfEE04J+Fn7605+aaEfFY2y+9tpr4U9/+rMZiYBxxpP1p59+2qYQ/eQnPzEjEWP4q6++DC+99FL4y1/+YoZhevOlURHe73//+/DnP//ZRMCLFy/ZsbHASEXEQ9arZK0i1qPEeCQff/d3f2fpeuihh+0pPOst4Z91fZ5//nlbtwgjFwP2e9/7Xvj7v//78KMf/cjWU2IqU2o4j41EDa8BtdvmQrsElXvEy2MscO54zhciuxK7/lrs1WskzTZ13Gt9LiIYIpvPKMEhpCGi8fAUQYtp0NVG1rnghVjJw17CwpaiPWGjIfRxzN98jbCGDYMthGCGgIagiTHPQ2METe+z3QFhUze+HuIPf/hDs/Owk3jAS7p5GQujC4kTWwkb6+c//7nZgqzhuHnzZjsfUa8I8ZBO7ERsMs7BTuMc9iNAIsRSXmm6gG3fXyT3W34s358TyzLO9rl8+ZKJjF4/fLJ0EHl/5plnbN1L9mGzkq5KcXcLI+WtsdcsYXdnn9BrfZ3oHLq5PxNitDRrYRVRIjXQMMwQFjG6nnnmp+Gf/ulXJkbecccd5gfjNDUM8Y+By2hBDND/9t/+W/j+939gxifGHcYq/oGbMAYzRhxP0zHo4tTt0XeAfkMnbMJAWMQQZh2lX/3qV+EHP/hB2LRpkxnmafj4x5DmCTdpRjj95S9/Gb773e9amgnH8+YO/HO0jPU80XhoQjIMy6//sVyLKWrvop50W3uK3U3750nX8fjw8uMTh920f/++8OGHH9rDTx7mvvDCC+HVV1+1adYIhUwhnjULUfC62UkuLmJjIRry9J91qBEYcaxNje2DuIigyMNS7CpEPGwyBEZf5xA7jKnKjCBkZKCLmdhDxOM2HQ+LX3/9dXs4+9FHH5biuJzZRdMtHuwpRjuSXkTTbdu22gNkRhPygpj333/f1g5HZK10b0XgI0xmqPBwmtknfKd8yCNxkE/Swst4vAyAT1xMcxQM/XvucrstLUMckCZsPNZyZMTphx9+ZKIsgi0zcd588w17kM2LeRBCKV9GYyKkTps21c73sLoNqkv2kGgd3X3Pacd+o90v97Tvbhe6tf8X43zbtRgKT3arTbsugvGBwzjF6JozZ65NN2F0IAYtT7sxat14BfeP8cs0GfxgSOMfh7HnRhtP+3mjNlOjeXr+/e9/P6xevWbYNA0H8RI+BvGWLZstnRjI5SMI8s6CdJB+hEkEVYx2Rn36dKlqcN7o0Sjc9kZ1U6TYXrlm831cR5XLDD/uhKg33dOuyEfn5EXXc3UQuypPu472BmWH7YWwhdB16tRps8P4jrDFPkTBm26+KXzn/u/Y9OC4LMwJO84DUqZHY58gKCL2IQ5yPuIeL45ZsGC+CZaIbEy3Zrox4TACEZGR9LBOIlOYCJsHtNg+2GrYg7xZm3MY7cfD13PnzpqIyHI7TONGkDt16qTZavdnaWRKNekhb+Sd9BAv6UWAPH/+nAmeiJP4K9qJlIcve4NDeESUZR8v1dmyZYvZcOTvm2++tX2k18MiL5zDA2SmTJNuzkVYxa7jxTSklTr59ttvMrtyqpUHZeGiJmXJy3koE+qDsuNc6hMhMk/XfgsbwZaH8Rs2xIfT3YuuddE60HS6736T28ztmbf2Le9U5GuXsvM0dV87bR8oW+7JLVvzUZVbP0YjPkJa9mwj5PFEGuOaz2pCHX4xEP1JMf5dqOQYxh1GHU/HMezuuecem+6McTdaXBQhLbNnzwrz58c3EvKd+NKOK0tZ6TOukURjZl0hz0uaXyF6mVquBV0votmozTUXyltlPjzVxUfKLS87bBFsLsRERDAEQ+wVbDEEtHvvudcEMuwSL3OMboQ1HEIh52NXsZ9PbCYe8iK0TZs23eLFD8IfD1V9Fgf7cdg6a9euyY7lL90jXZhJCHs33bQ227/MwiIcj4/zVqxYaeIbIiDxkgbOIb2kjTR73Lfccqv5Y7Ql+4ptiHgnT55kYSMMYluSzlWrVoa77tps51JOnIa/NWvWDpYBYVHmhDF37jybtk2c5IPweEjOw2TSjD/8L1u21B6Ek1a39bwMPX+E4WVJWvwYcfLwnOWEEIFJ18SJwz+kFkKMhe4TdeJvVLa6J0/NhLbgrh0Y1BSy5GSpitui7lDfrRIfJ2SGQ6ociXHC03XEPp5ws7YOBtbghVQDtXSi0U/14xzjiTMjHv/93//dnlT/j//xP8Jjjz1mhh5TjYYLv1aK6fDNUWS3TSED4y8fIUZDsZ9oxg1ACMfbn9qdaDewZxi9yANVnx2CLZNC+2XqLiP1mHKc9qeIYRjXCGCcRxtHNMM/I/w4jsiHQMd+Hh7zENmPIQQievpx9mPrIZrFB7EIjHGqM/Hjh/0+eg8DH/+Eyzk8KAZGHSKosp9z/AcAx4kXPD2ES7zkizwQPo4fC8V7h8O5xEscxIU/4ievlAX5oQwYhcn0aM8j8CCdc326OXkhf+wD0kg6qBvSht3ESxLTHy/ExzHKknOJm7LkkynmZ8+es/BIJ2GRrjQN1fIlhBgL8SEI6D4v2pW031c7bRyULfflrVu3ZnZHX1i5Mq5R3Ywyl/hYZzCkxio+4g83cSIVX73yq4XnDcYbFGsePffcc2bM/tu//ZuNQATOx+uECcVRi6Mhv4lBN3UQXj5eB/F79+RPCCGK+L1AfZ1oN2oRH0fTbsfa1iud5/scPzZ8HCPbT5yP41jlMCLF+J00HcOd7+ThxLSl57CZRpOGDfFr+T4nPRbJ8z702NDzhRBCNJZiH99K0ntALfcuMTYo21aJj3rhTJsRK334isdPJZfCU3OMdEY78pbDVHiMjHcx76FxdgsxX3neujWfQgjhVLqPCNEpYM/U6pxKx4ZzTqV9znB+c1c6WKKSH/DrsdJxd9VIj6f+q7mcof1A2eGM4jlsDg0nkh6LrnQgY+ixoecLIYRoLO3U9botKnu0e5H42EbU62LDgGOtHtbWeeCBB2xtH6feF3S9wxNCCCGEEEIIIYQQ3YPExy7G1w/iUwghhBBCCCGEEEKIZiPxsYuxaSy2vo6msgghhBBCCCGEEEKI5iPxsUsZFBz9QwKkEEIIIYQQQgghhGgyEh+7lOI6jFqXUQghhBBCCCGEEEI0G4mPQgghhBBCCCGEEEKIhiDxUQghhBBCCCGEEEII0RAkPgohhBBCCCGEEEIIIRqCxMc642sr+gte0he9cMydEEIIIZpPI+/FjQy7V1GZ9haqbyGEEKKxFF9G3Kx77oTr16/rNch140a4fPlK2L9/fzh58mS4++67w7Rp06xyZUQJIYQQQoyO/v7+sG/fvnDgwIGwbNmysGbNmjB16tTSUSGEEEIIMRquXr0atm7dGubMmRNWrVoVZs6cafsbrVtJfKwDsX4mWGVdvnwpM5L3h+PHj4fNmzeb+IgoKYQQIlJ42FbGaO931cLS8x4hOp14EV+7ds2Ex4MHD4alS5eG1atXJ+Kj7Kux4P1mcXZO/LSPptOOaRJCCCG6jwkmPm7bvi3Mnzc/s6sQH2fZEYmPHUCsnyg+Xrx4IXzzzbdmKG/YsGFw5GNWleanHBW9EKI3SX5fljGW+12lsPRjVVSmUsOo1724kWH3GnlZDgwMhMOHD4cTJ06EBQsW2OjHyZMnl46Cyni05H1mWnZMdS5ttoB63hOEEEIIUSTeUBEXebC7a9cue6h70003hb6+2XZc4mOHcf78+fDll19aZS5fvtyezlOJlSoyipJCtCfFfkfNVdST2L6KNzf6ytLmKKh0k1T/KirRyLZSzVhTWxw9aVlmdmo4depUOHv2rE0Pmj9rAQPaAAD/9ElEQVR/fpg0aZKVq8q2e6h8T9D1I+pLsZuu1ryqdOeDqFm2L7XWsRC9httWEydONPHx0KFD4aab1oaNG28JfX19g8er2bP1QOJjnblw8ULY/fXu8O2334a1a9eGadOmZoazxEfRWVTqdNReRT2JTazYziQ+isbS6LaitlgfKEfvIxj5yFI2rKU9b968sHjxYhv56OWq8u0OvL6LqH5FPamlj67kpxJqm+1HtbpTXQmRXx+Ij0y73rt3b1i5cmVYt25dmfjYSHpGfKTTiQVKdqNR24h+6PLly7YwOobyHXfcMTjyUYhOotj5qA0LIYRoJn4f4oUzrPfIE/olS5bYwuhTpkyxY7o3CSFGSy02bi0/wtX/tCeV6k51JUTErw9GPu7YscMe6rKW9qxZcc3HeuLXHXEObvfOyEeyGQubzMdyH/nGMloQH1nvkSlC+QtnHHV8QgghhBDDk9tn/rZrBEh/27WLj0IIIYQQYnQgPvK2a0Y8NvJt16nwT7A9Ne26vDBzMXK8EKSX66VLl0x8ZHoQ4uOMGTNsf1rwQrQ/xfZav05ICCGEqAVsNgxkpgYx8tHFR80qEUIIIYQYG0y73r59e5n46HZVPcVHNAWCjUFOCBNtX09SfzGFCqtkDMtAFp0GTbbc1bMN1zOs9qAV13iMs5vKcuS8qC8VojfgWnfnFLeLx4WoJ2pb3Unad6QupdLxSk60J0PrSXUlRM7Q/i79rCfxGnQxM2pvPSU+1lfFFaJ74VopunpB19aIDq51WI5akqcYZSPjbXye4o0p3pxqia+72o4QohLV7ju6/oXfM2q5X4wVtbPuJbVrK/UxUPRTzYn2ZGg9qa7Gh/e36he7A7824r3OLhH2lq6XeM00jh4e+SiEaAVZt9bwjq35eH6ad2PObxCNK0t+fzXrR1hsEsPnpRk3RSFEe5GLTULE+wA0sknoXtM7qK6FqE68//rvgdJO0SU0vt+r1L9KfBRCiHERO9bYuXa3AdsIA71Xyk4IIUR98HuRRGkhhGgcbqPntroQ40PioxBCdBw+VbmxP7yKxoZ+6AkhhGgH/N7UiPuS7nW9jepfiCK6JsT4oF/FjUF8TH/0qiHWl8aLCUI0H7VpyPvN+sDvLj2E7DR0LXQqjbo3655fDzqrDDtt9Eg1kS/9zra7agyGU8f6IsxGlGen1VG7M1LbaDdU/0IU0TUhxoffr8cgPqaNTw2xHhRvcvEG3Tk3aSGGo4PszQ6CPsOd6BR0LXQu8TbdmArspB/l7QeiRmmzCu0ifHg6WpGWesVZSx78mP/QcBd38l/3rV5iPG0vnluftitEuzCea6JXoIxqLSf1E53FmKZdlxkSYsyk5Rg/UyNN5Su6A2/jvU5+bYteRfXfydT3vpyZ1fZPjJdYJ+mPFO9ro8u/F0n9NYNmxVMJjzvPs32tSu5vwmDZsu34sXQ7ddXIjo7oR3QXtbSLoeTCAx+1ihCiOVAfqpOxoXIbmVrLSGXZmYxJfFSnUx8ow/7+a+HixYvh7Nmz4cKFC+HatWu23+/RKmchug1d00L0PKVuoH2EmLRf6sw+CntpYGDA7Kjc9Wf7+sP169dLvmKZw/XrA5kNxvEB+944blj8xNMqm87bGekgz/39w6eFsvEydH/Fturh4cfLl32xHvoHz3fnZZ37tQ8hCvAbM26l7U20B63qw4RISdth7CfUV3QKEzIjYJS9iG4KRSgGyoQL4dKlS+HgwYPh5MmTYfPmzWHGjBnJBcJnLDMMsLNnz5i/kydP2XlTpkwJy5YtCytXrgxTp04xv5yrchais0mvY+8PdF33HurPu4FoA423HtutH4htk63KI91aCcLV3r17w6FDh8xGWrt2rdlLKQhaPMQ9fvy4PdC9cQOBK4plkyZNDDNnzgrz5s0LfX19YfLkySUb7Gw4ceJEmDZtali8eEn2OW0wz8VrNS8T+2vbtXL16tVw6tSpcP78+TBr1qywcOFCs/FKQZbgS6X4hsZVTFst4J8yOn36tOV54sQJWToWWXlMnJiPQ8DflStXLL34I64lS5aEBQsWWLl5ugC/x44dMzt29uzZYdGiRebn3Lmz4fDhI5lde3EwnRMmTMzqYVKW76lWBnPmzDH7mH1CiOqM5XpvJMU+QIhW4O1QbXBsUG7YJlu3bs3ux31h1arVmZ00s3S0sYxBfBRFaPdcA1wI1cTHePPA70TbPn36VPjggw/DZ599Zts8hcZo27Bhffjxj39iRjINI56nC0u0BtofqA0KIYRoBcOJj35vQjDbvn17ePXVV8OBAwdMcEToynzYcQS/u+66K9x5550mkmGr7dixI7z77jt27KmnvhtWrFhh4TFCj3sfNhnCnN8HnfR+WLxHFm02thFE33///fDFF1+E9evXh0ceecTiBPxXCsPD8X3FY+D7agG/zK756KMPw9tvv2Oi36OPPmp2qv/g8HARHT/44IPwxhtvWLk+9thjg2lO04P/V155Jbz33nth48aNFh4iJHbtCy+8YLYwgi5lyGmTJk024XH58uXmf8OGDRZmUUgWQkT8moTRXO+iMymvb/tr26IxUN7DX1fUR3fWAflOxceVK1eZLdCMfmZM067F6ImVGSuUJ+5ff73bjLY9e74NS5YsDffdd1+47bbbBiveO6BmNIJaID3uRO9A+2uXNiiEEKKxtPM9vlLafB+j+njo++2335rYh9A1f/4CG2GH0Pjhhx+G559/Pmzbts1GPCJoMrpv//4DpVF6lywMRiciXuIYQZneA4v3w8wiKm15Oir/kCEu0rZ//74sbcfsO3COp5/z0m0Px/f5Z+3E9ICHdeLE8bB9+6cmuL777rsmhlIWaTr45AfJ0aNHws6diLPvhtdeey18/vnn4fLly2VpA/JDOJQXx5luzejKr7/+OivXw+YXu3by5ClWntQP4f3mN7+x+ti3b99geQghyvHrLb3mRPdSXt+q80Yz/HXFfTF+9gKjtzHGzqRnn33216VtMUbStssT83Pnzpkhu3Tp0sEnulSqdygYWijNPFlev35D+PGPfxzuvffecPPNN4dly5aHuXPnlqaixIY//MXRHDzt7ZAWIUQnwo0t9h/eHwoh2gc3Ptvt2kQUPHPmjNlWTBNmZgg2UppebC+ErP3799sIxqeeespG4t1xxx02wo5RfwhijMTD1mIa8fTp021KMaPw1qxZYyMlEdEYpUg48+fPN+flwac7+86/sn15uaX+SCsj/lasWGlpYfQmcfnx1G+6DcXt1N9wlIpm8Bweeu/cudPE1zNnouBIGljmh5GgPvUavwiwe/bstdGm7MdmZf/ixYtNzE2nSiM8fvPNN5a3W265JSvTGTZClbKmTLFvH374YRt1Sl1Q9tjFnLNnzx7bJn5GTDJaVQghhGg9fr8d/l7bqbhdcOTIEbOL+vrmlNkljUR3+iaRVibbGL08DebTHUZduWBpH0LUHf/RNhy1+BGiVmJzytuU2pcQ7QVmSjMMz3pBWtP00qcgjPEAd/XqVSZ+IXbdc889YdOmTWZgM40Yg5ttpv+yn6nQ2GBnzpy2kXmIdDs/22niGKMoEeNwvm4jQqfH7esjIoyy32H0ICMAEU0R8FatWhluv/12SxPL8YA/rGaEIGLn0aNHbXQgYquHj8MfcSCuIgiyziIPuMkvxyuRng+kZdeuXSYkIgLedNNN4eSpOFKUOB0/hzQj9FI+lBNiIcIlU7JJXw7hxzg8LuB8RGLiQXAlHB6yIwr/4he/CN/73vfM37ZtW02oRBzWLUGIlPILQjZTr6B6biS6jlqPxMcm4nYZRhkiI0/CecqO4cV0FccNSncO+3XRtCudWC8jp1ntTdSXvD8TolnU497ZG31he16fRVuojMLugesDJsydPn3GBDdEO0biIQIiSmJ7ITQiwiH2se7jl19+abbYjh1xZCBC4IH9B2x2CtOOEd527/7apm7jn3BpD4hwe/fusbUROYZQyT6OIRB+/PHH5p+RBYwkZE1KwkaYRFBkTUTCf+6558J//dd/hb/97W/ho48+sinaLvAxLZrRhW+99VZ4+eWXzTFtmdkzpJ+wquFlhtiKcEk+ED63bNliIxEnT5ocvv32G5s6Xal9+yhRREO2WcsRAROhsBppXRFmGi7bPtryoYcespGSZ8+eMwGU+ikXNetDpXwJ0Z6Ut9W06aod9xLteR/uBqpdR+xPnWgsEh+bSt6hYHhOmjzJjM+PP/nYnrCnhhfGc1w/Z6CC0d27F0a7dgoxWZ1TL7FNDX+DS39EiM6iHa+TtC21pm31br8pnPG1ARml7UX2M2GwSulPbIrw1Wth/4H9Jhwi0iHW/elPfzLhjBF8t956q4mQiI+HDx+yl6V8+umnNqIP8dBHOiKwIRoiFvpbtD/55BObks1+7DVsNH+5yuuvv27iHvsQBHfv3m1hsw+x0r/zsJnjCIwIlm+++aaNtMQfnwiUiIq0NdLBWosIj+xH0PQRjO+8844JkKlQWQnCYXTlV199ZecyzRzRj5GITCmPoyn3DYqY+HdHmbIQPS+lYU1yyoGyQqil/GohDc8dL/JZtWqVjYhkqvWxY0ctbOzdekJcotfpjDZQqa223mYaHbreRLtT6TpSu20+Eh+bDEYiBiRPw3kCzLQWf8LOYuCAAcaTYARJjEan3W88zaIdO4pYN6of0R6orxgK3Yb3HTI2eovc4Bz7dZGHIdqFrEZKWxHqhwe7R4/EEY2IfQh3b7/9tglmjPpDeGRpG2yxixcvmaiIKMcyOLxFe926dba2IQ6hkinKq1evtinETLFGrEMc7O+PL6z59ts9JlCyH4dg6C9WwdbDzsOxj+/YdMTNVGumHCN6MjX5gQceMJEPcRD/+OHhNCMx/S3frJ34xBNPZOm6JYvnnOWROElXStq/YU+SXkZ3Is4SF6M/WRcTAfDChYsmfDLyMD2PbdyECRMtTYyWZG1G8hVHf54a1fVQvH4ob9bd5MVAlA15qHe/THSjSKLoMmIbLn3pAGJaOyjBCfW+doVoFn5vSp1oJDckPjYbDCyeYGO8rV2z1gzJhQsX2r6PPvrYjvMEmuk67MMoBr8Y4mfvXhhkX/2CEL2L/yh2ajV6c6NCL7sRolvwa9n7BdZ8RChkbUVeJMMoP0REhC4EP0YNpkIbIh9hsOY2/hnhh9CHY2oyohsjJpcsWRqWLl1i4iaC5blz500UZOQh8SEYIi4ygg8B0t/0TDg8ZEb4A08vs1uYckw6EDpZD5IX5CAwEh+2IA+gWeMR0ZTjONJ4++13ZPlZaKIix4vToNMyQdjDD+khHQiPTKHmBS+Ij4TNaExETPLm5wLnI14yUhFR9s4777TjjNDcvfsbSyPf03OGA29p2nB8R4D08qkfLjzVljbRfcT2VvrSIcQ223mMph9oFzotvUJ0BxMkPjYLOjmMXAxVREWMLp6oP/744+E73/mOHWfaDlNzMAB5Eo2By7bTiZ17/WnP/FOfQojGU+wHR9Mnll+numZF7bRbH697zlCwsXydQmwr3rT805/+NPzTP/0qPPzwQyY6sqYio/d8nW3vTxgNyWg8HEIi31mXG8GObQTG1avXWPgIeQiNvn7j7bdvsnUMER4ZYYkoiACJoMmoQdaYLPZbjCJkRCUCHlO5mR6ObcjISPyxn3AY/XjgwH5LN+tC/v73vx+c4k06EEArrcFIGG5zMuqREZYInky/Zp1JZtsQNuXAcZy/xMZh278zYhTxExGSMJnyTfyQ5ms4YlAxPOLl4Trh9/XNNhG0vgKk7GXhba79oa26E81B91AhWkPPiI/t0KHzBJlpOhh8GKU87fbpLHfffXc4fuJ4+Otf/2prCGEoYgRj+IIbgZU7y/TYyJ1p9XA6hfa7OctgEKL9+5Z4nfq1qmtW1E679fG9es8ZqX+hXBCyGOnIKD9EwfXrN4Q77rjTbC6EM2wwRgSmZeh9lzuEuzQu7DFGJDJiENENAZNwEBa3bLnbBE8EQ9ZoZHQl9h5Tm1lXkXjSsGHFiuU284UXrxAmoiDi4h/+8AcLAyGQdRURN8+fv2BCJCMhiZf4EUF9CjXiaCVID+Ik6SHfiKWsg0kcrIPJupGEiyN+1rL00Y/uHIRByhJ7lXLEP+s/RrE0b49pHtNwfF+217YpO16kQ3zkAXGTEZZC1A+JeUKI9ia9ZzabVsXbM+Jjqwo4JW1gFy7EdYEAI5n1fu7ODFiMueeff94MPZ6KY5CNDJZf/Cj9EUKIllG5v2Vf626yQoDaXycS+w5npDqMx8vPQaBD3OIYwiCMRphgOjdCIsIbIxwZ+YeAxrI569evN3uNOBDlmJZMXOzjATJxFsXMGTNm2ktfnnnmmfCLX/zCRmq6qMc6j8TBCEzOZ3o0M2S+//3vhx/84Afh6aefDj/84Q/Dj370w3DPPXcPsRPJF/HxsJsRkgiEjFjkrdVMKye9fCd+wiV8pmYz/ZoRiRRLpbJBaOVcpqNjo/LCnCiUXh5SJx4G5canO8Jnhs8rr7xi8TEC9Oab19kD+UpxCiGEEN2K3xt7CU27biJuvLIW0bFj8c2JPMnGGGNKD8YgT6pZ75Gn7BiiGHu1kDVd+1cLtHHZeEKIeuP9SqX+pfy3afkP1U6FH9zFH92i/SmvM9Vfu0N11XqZIbohth08eMje4oyNhUCGvcUoQEZFLlq0MPusbFv51F9ft5Hp1TwoRrBECERQ5IcCAiPTuFnTEQGNT+w7/CP4zZw5w0ZKMkKx2N74zmhDpjrjn+nd2IWMAGQkIKIhcTAzhofT5Ik+leOMdkSow1bEL/khjiKMmCS/CHwc/+53vxt++ctfhp///Ofh7/7u78whev793/+9CZCMtGSEJLNurl3rz9KIWMpbtMsLHlvV155kaSBGLyKUpnkkrQMDufhJPikvxMpXX33VRl3yMiDCuu++++xFP9i66kuFEKK9qGTPi/rSa2XcYyMfW2fYED/iI4YkT58xVnm6zShH1u95//337Mkzxi2GYlyM/IwJk/WHVq7eRAhRb/wJ3tD+pdr+ToT+PP2hrB/NnQPtMLbFiKque6BesZkQHN98883w3HN/taVs/vznP5vwxchERvvFtRuj2JU6hEeEQKZBI5zxluw33njDBDRsMh4KM/WYkYanTp20kYlMn54+fZoJaQiQhIEwiI2HczEzj8e+msiHAEcaX375JUsfL31BFEVkZEQlD6R5YQ7CJy8kJC1MlSZvH330oa0vefXqtRhgAmIlgiDlwFRqwmLEIyLfypUrLA/uEDMZyYhwun9/FGsRW0mnuxRGdJJPpl8jjlLeCJ1pOeLYh/D54osvhj/+8Y/mqAdGPBIHU9KffPKJcM8991j6sI+FEEKIXqN4n+12Jj377LO/Lm13PfH3RuN+/GL4skYPT90xVCutxcN3FtfmE+OQJ8c8XT969EhmsF41YxODEBYtimtC8mS7VjD60h9WQgjRjnRLP0U+1Od2Lqq79gcxjVGG2FYIgwh9qVhFHfo0Y2yqOCrwWrhw4aKNYLx69Yqdg2DGw19sLETBM2fPhFMnT5mthsiH8Aicz8tQCI/RhT7dGvERSAv2GkIm63UTNuHF9RnPZ9/nZvHcZ1OUsfXYz5qLhMsIRwQ/QBg8fPhQluYTZg+Sj40bN4T7749TockrIwLJG+lhlOSxY0etHIiT0YfxjdUzy9oxdiBp9xfi3HrrLbbmJQ+3J0yYaH7dUY44lgLq7x+wsiC/iIqe3nRkIucgQFIWiKLYuozERNxk3Uv8kRdGdroo6QKlP4An3Q8++GDYvPmuzMZdbGWUpl8IIYToBbhHwnjvgaPVf/DLPRw7hEFvfX1z7IFqM+7FEzKjpsf01saCIYbBh+G3efNmEw69YTl8x5D0KT2cM2XK5DB37jwzcDmOcesGb61Tr7OQs3Pjlgw5IYQQzaGR9x4C1v2sl+GhLjNDWGORUXeIYRjJKS4+Ylf5259pizhEL4RFbCpGLXIuRjd2FoY3dppPkSau06fjiwFZHgf7y6dEcxwRjTgYuUh4y5cvGxxFyWyVw4fjS1tIJ0Kbj4TEP3Yf8fNQmfQS95Ejh8O58+fDjcwUJ43YfJzLNmEi3CFcIuaRXqZCk17CXrx4iQmKqRALnEcZ+JRxhEpEvqlTi1PAI6Tv0KGDWfrPWbiIiZxPOcyZM9fSVPxRQvmRJ6Z2k9/FixdZehAmER/ZjxALXgeEQdpJM+VA2aZhVkqbEEJ0O/R9aV8oxGgZbRvCL/d+ZuHOmdMXVqxYaXZHM9qhxMc6U4v4mIIhi+GGgcrTXzcix9IReTzqwIQQQjSD9P5W73tPfk+zv7Yteo9axEenmu3k+9LjbPt3nLc3QBwkXkhtM0jPc9IwnfQ44fk5+VTs6ybiMeIw+5bFMdnimTiR8/JzOY/zsRXZRuCbNIkwcj8p1dKSfgdPjx+r9B34npJ+dz/V8ePxHE4d8ZQRKQ9TCNHLxIefxX6qnfC+VYh2gfaIBsXL85otPtZlzcfUSBGjAwOa6Ss8Acbo9ErHOB1tA3D/qgshhBDNgPuOu3qTh1v/sEVzaLY9Uq0dpnZquu3+i+lkPyMdcdhjfk7xPCgeg2I6+O52Xe6XEYGTS/FMN1ExHh8aJudiL2IrRn/Vzff0PKfa99RvedrK01wOx4fGURnOTcuqtDEuimHWJdC2phfyKMRYaPdLQ9euEOXURXzEMBlqnIix4J0Un6PtsNy/6kII0RhkRIlq1K9tjOX+12g8Te2YtvYiL5t2Lqeh9Tk0rXG0YhyxmPuL5HZW3Jceg/ScyueVU81fvj+PB0fahsP9pedWo9xv/r247fA1uvL9raIXbF7y6HXRLuUuRDvA5d/OXQDX7nDp0/Useo26iI9jRRdc/ekFI0z0FjK22wn1L62mVddCLfG6n/qlsX2v+/rntXtIy6QeNkn88VbfvmdoeOXf8zjjfjbTU/I8xh+W6bGxUEzP0HaVH6+lzY2UnuGO15IXtfvmU+9rQLQvur5GA9dFu18bunaFcFoqPraWxgkarTIQZJh0JjIyakPlJESk2ddCbfHlAtF470WcH8Non3uapyl1Tm3l0ysPUfKyScuoHalUlynlx91VYrhj5QzXBiqlI48/p9K+oRTTXiQ/XnR+bDhyv6KZqNx7gVbdJ3rh/tR+6HoWvUZLxUddcEJEeuNH6dhwY1v9hRCt+/Gp6298eBevvl4IIUR1WnGP5+FYaVMIIRpID498lJghhBBCjITulUIIIUS3Uv6bmIdkelAmhGgEPSw+CtEecMPXj3shRDX0I6Dz8X5efb0QQojhaPU9X/cqIUSjaEvxcTRPXDKfZX5Hc26j8DQ0ypHrauR+xkb5+eMLSwxF5Sl6gfJ+RIwX/QhoX/QjrXGoDxFC9CK6p4h2Qffh7sJ/n5W70sEmYeKjR94ueKdbS5oysz/zX/qS0U4/BDwdMU181sdlfy3cSow3/+Xnl5etqA/tdK0J0QjoN9R3CCFqxe3Q1DnF70IMj9qKaE/Ul4lOQm21+3BNKqXZv9cGRz6OR7BqPe2Xdi/PVMirnxue+t7cRo5PiGYT27duio1lPOVbW1/VydS3n21vasurflSJxhCN5fE9WBW9QS19UG39mRD1RW1OeN+jPkiMlfq0n9ymaoVdZeJjpYjrdVGMpYDG438s8TWaZlfseBuTn9/sdPcCFKmKdfzEtqmCbCwq3+HopT6ytrzqniHGjrexonPSbSGqEdvJ8G2l2LaEaAax3fFZ2iF6Du972rkPStPVzunsVbxO6lsvza3jCdevX7+BWFfMRKV9Y8GFwNGEFeNmq7Zz0rSOJb56cunSpbB///5w+vTpsGXLljBt2rTSESEc2mhr2qcQQgjRSfT394d9+/aFAwcOhKVLl4a1a9eGqVOnlo4KIYQQQojRcO3atbBt27Ywe/bssHLlyjBz5swx6HWj1zMGxUf70iLBrpu4ePFC2Lt3Xzh+/HjYtGmTxEchhBBCiDEyMDBgwuORI4fD4sWLMyN5VZg6dUpm+JY8CCGEEEKImkF83LlzZ1iwYIE91EV8HA3jEh9L26IOnD9/Lnz55Vfhq6++sif0kydPtv2VKsdFXyGEEEIIMZTMTg1nzpwJZ8+eDX19s8O8efPCpEmTJD4KIYQQQoyBgYH+cOjQ4bBu3bpw2223ZfZVX1MGIkp8rANUlAuJFy5cCLt27Qq7d+8OK1askPgohBBCCDFKsJtwTLs+efKkCZBz5swJCxcuNNuqfW0o1h4vbQohhBBCtBHYVoiP+/btD2vWrAm33HKL2VepptUYbkTxEV1MhlJ9YM1H1iY6evSoqcjTp0+XyCiEEEIIMQpcfGRqUJx2fcSmXa9ezbTrqaF9n51LfBRCCCFEezJx4sRw5coVm3bNA10EyFmzZpWOjg7XubDXakEjH4dhLKIs4uOBA/vtKf1dd20OM2bMkPgohBBCCDEK3JBFfNy3b284ePDQkBfOyL4SQgghhKgd7CvER144M3fu3LBq1apRr/mYgx1Wm/AIEh/rTBQfD5TEx7usImUcCyGEEELUjsRHIYQQQoj6gM2EbZWKj3Pm9NmL/Eb7tutacBstDXdi6VMIIYQQQoi2IBUW2SwKjRIehRBCCCHGRzPtKYmPZVDwMmaFEEIIIYQQQgghhBgtPsoypUXiY3sKfPHJeumLEEIIIYRoAfFhsEY3CiGEEEI0iqECYSNpifgYRb72MygrqbNCCCGEEKJ5pA+DsRfdZvTtdrQhhRBCCCE6jWbKXy0RHyXyCSGEEEKIWpHgKIQQQghRP5otyWnNRyGEEEIIIYQQQgghREOQ+CiEEEIIIYQQQgghhGgIXS8+duI0Ha1nJIQQQggxekZa2qeSfRXPKX2pM+1k09WSlurlM3K5Vgp/pPOEEEII0Rt0qfiI4eOufUmNuaITQgghhBC1UbSfUpuqeAyG7s+PjyTQDUd6LttpHHlcjYVoPN40/iIj+am0P/XvxzzPxWN+HCrtE0IIIUTv0JXiIzZQtIPa18jxdF2/fj1cvXo1XL58OVy7ds32yTgTQgghhKidgYGBcOXKlXDx4sUy5/YV9lZqX7l/P5ZZjrZ/PMIjpPZbGte1a1dDf3+/fW8016/fsHyRd/KY5j1NH+m5dOmS+SGNUOn4iRMnwsGDB8Phw4fDmTNnBsOEYrjs5zjnpa5YD0IIIYToLSZkRsD4rKw2BttmnDbkqMHAOnDgQDh58mS46667wsyZM82QjU+/SdPE0vYEM8Aw5j799NNw6tSpsHbt2nD//feHqVOnWljjNYCFEEIIIToNt3+wlRCs9u7da/bSsmXLzFZyOwncz759+8LOnTvD0aNHTTTD5po4cVKYPn16WL58edi4caOdP2XKFBPHCO+rr74Ks2fPDps2bQpz587N/EcbrV6QtvPnz4dvv/02HDp0MCxevMTSgW3YSC5cuBC++eab8MUXX1j+77777rBy5YosPfmYA+xVygtHuWzevDksWLAgTJ482cqAdH/11Zfhyy+/DMeOHTf/lA/ltHLlynDbbbeF1atXl9UFfqiHHTt2hOPHj5f2BguTciaedevWhSVLllg9yM4VQgghmgP3XOwSHHbQtm3bsnv6HLunz5gx0/Y3mknPPvvsr0vbXUszCtLB4D137pwZYEuXLjXjCmIa8qfDCI8YZq+88kp46aWXTIA8cuRIZpguDgsXLgyTJk2y87yRCCGEEEL0Em4vMdoO2woBa968eYM2kttHjCr87LPPzZ7avn17OHb8WDh9+kw4dOiQiWeIcAhynI/DRvv444/Dc889Z6P61qxZE+bPn282F0KmjwJEbBstNxhBmf13ew9b74033givvvqahYt4ShoaCXnYv39/eP/998Mnn3xi+VixYkX242KGHWfGDeLk888/b+WA6IgoOGvWLEvjwYMHLM0c3779Uyt/wjx79mzYu3ePiZL79x+wcOfMmROmTZtmeaWMETM577PPPsvq7Kw9jKceiG/Xrl32nfz39fWZKCmEEEKI5uC2Cfd6tKfp06fZfRzNiv2NpifEx2aSio/xCXu5YUWl+hPlt956y4xCnkqvWrUqM5RP26hJDEQZZUIIIYToZdxmQvQaTnzE9tq9O470Q2DbvPkuG8l38803m/8TJ46bfeWjIPnEDmNaNrbaLbdsNOGNUZOIZoyKJBziq2aMs99dCt/irniM0QWIcFk2TOREfHQRsOL5Fb4XHVAu4N9TKB/2U2Zff/21CaAIjDzg5gfGsWPHwjvvvBM+/vijLP/Lw6OPPmqjGLE7mVr9+uuvm406MHA93HHHHeHee++1z/Xr11sYxI0ISZmSl0WLFpoAydRqRnky8hEx9zvf+Y6NKr3ppptsxCQiJukhbdi9sXxLiRZCjBmuyUp9gRCi9Qx3v24FpKPR4mO1oDpafGy3ioTiyMeigEhaMc4++uij8N5775mx+8gjj4T77rvPDLcvv/zCjGEMuVmzZg8a2EIIIYQQzaIdfswSfy0jH/v7B2xqNo4pvQ899KBNNWY0Hw67CtGL6c4IaIsWLbKHvAiRcRrwUgtnz5494YMPPjCDHFESf0A8RZdSfiz/DtiB8+bNDatXIzyuybbn2z4/Dr6dfrqrRLq/kh9GJCKwYleeP3/OhFlGO5LfiRMn2Gybd999N9ueFJ544omwZcsWK1tEXh6Kc4z6f/zxx8KTTz4Vbr31VhMnEQwRUCnjS5cuh127vjZxFUEScZEfMwiSu3fvNpH1qaeeDLfffruJwMTNcaa687lhwwab6UN6hBDjI3YDupaEaBdSncrv09Xu6c2GdFy/3pqRj136tuv2BeOP9XCYY49heM8995jRhzH88MMPh/vuuz87vjfs2LHTpqZ4wxVCiEaj/kYIkdL+fUJ5+hDdENxmz+4zYxpBDAGRT9YmRPTDDw4jm/whbiJOYpshjDE9mNF7n3/+uU3ZxjhnNCD7GRHJw2XgXOw0zkG0ZMox+yiyc+fOm3/EUEZYMoKQeBAHXGzD/54934atWz8xwZPRgsSDnejwQPv06VMmnH744Yc2jRp/TGNG9BvuhwLlgGDI6EOEVNJDPO+//0H45JOPLR933nmnOcqKoMjr559/ZmljpCPrkCM4IvgiTiLYUp6IkTw4Z6YO5cZ0avIJpAnnP2goe68HHD9wiDvNpxBCCNFt5LfodrSlGi80VqIrpl03Q6WtlZFGPmJssQ4PU6x5GozRx5NfjDGeyGOYXbhw0fLEk+VoELZP/oQQ3UkUGeLNUX2OEEW4NvLrguulF66TVueR+KuPfMz7K2wvhD5EOnA/nIcwiGCHH586jG2G//fee9fWhsQvIiKzUhAeGQGImIYtN3nyJHvhytatW236MnYZjtF7rC/J2t1M13ahjbaB0MfoQV4miOh54MD+LA2f2jFsO/KEsPn222+bqMhUb9JJfKQdkc+nRDFKkXSxlqILmmfPnsnsxqk2ewb7sQhlguMYfsg7IxJxnH/y5CkTJnnozZRo/PH+Scrggw/eD4yIfPzxx01k5Jg3gzRc8sr0bc7BfmUEKYLjvn37LW99fXNslCRlTb7wy35GRVIGPHzH/k1fgiOEqJ14H/Lt1vfXQoiceD2WX5Ptco2SDrcx6jfyMT589TCq2ckdfccnQ+MrpOZDxTL95Omnnx40vHgCTwVh/DIthWMPPPCACZGdlj8hRCej/kaISmBQYVg53X9vzvPavlAHsR6oDmwpRgMiHvKylD//+c/hd7/7Xfj//r//z4Q7RukhPCJgIsadOnUyfPllHLXoowixwxiZ6KMjcVOnTjOxEH+IjRjrGO2MlkRMYwkdXtqCMMiIQZbWQWBj/UlETF7UcuTI0fD551/YiEXi5hPhEUHz/PkLJtCxLiQjCBEyiY9RlUyBZu1F/GMvIhj291+z/YyCZKQkaSmCTYkj/YiZrH+JOOhrWnIOwmL65nD2IfCSr9mzZ9majX4stv8cyopyRERkm3xShu6PNPJ2b9LJ2pKvvfZa+Nvf/mb5RVjl4TtrUJI+IcTYiPeh6Dr3ntQJ9xohxkv7XqPF+/tYqRQOdkgR3fWbDAYmBhdPg3lqHJ/exxsIju9Mj8HAxLDr3JuJEKKT8D5IfY4QQ4nXRS9dG53RF6RpZBMBjZkljO5jRB7iINOCWfcQ0Y/jbgwzFRqhkP3YZbxUhQe/PCBmNCAj/5566ilbm5CZLIzuYyQjb8e+eu1qOHL0iI0kJAxGWLKNeHfhwnmLP67fHad88wP7ypUYF/EjAiJQYvMxffmXv/xl5v4xPPnkk2YDMksGMZMRm/h/8MEHw49+9KPwve99z9LFqEJGeeLn0qWLlh8H/6nBTxyMakBMpLwImwfh2JiIi16GpO3qVQTEG2H69BnmB9Kw4nb+neWDCJ8wEVlv3GBqOW/bji8AevXVV8L//b//N/z+9783EZK4eLkN5YwoCmn4QojegWtfl78QrSZehOO1+Tg/DaP43ZH42CJihzuyE0KIdkV9lBCi0QxnD/l+Ppg2jBh2yy23hJ/85Cfhn//5n8O//uu/hv/3//1/bKQdowoZbci6jcXRgryxmVF8CH8IdYzOW7lypT0o5jujDln7EKEN4fD0qVO2hA5Ts/GDsMdIRYTJM2fO2ue0aVPD0qVLbNpzHOGXP+BB2PPpyEzlvnaNl8EsC7fddpu9vIVRhIiZTFUmbYijwP4ZM2ZamIisCKtnz56zY47H4UY/oiBiKGKnj4Qk3YiXxO1lQXoY5Uk6SU9aRl4H0ZV2ZhA2/igXwvZjhLVy5YqwZcvd4aab1tp3xE4EXqZ6MwqVfdXqVQjR/aT9lBCidTTzVizxUQghaqZ3fijV8qNQRqMQolW4GObbTFVG1Fu2bKmtp83oOoSup5/+XnjwwYdslB+CG9OymR5dJIYxYCJmGjYgQDIjhdGPiJf79x8IBzJHH8hLAxktSZiEj9CHSMioR0RLhDkPKgvVwkXYZOkdRM7t27fZyMDf/va34Y03XjfhElGPUZS+puKLL74Y/uM//sPcc889Z/H4aENGLBbxvpljiJhM3SbdTL/m7dbEy1qSTCP3F8VEgXBW6Q3Z5220KGXqAoE7hxGfpBU/hIfw69OoqYebbro5fPe73w0/+ckz9uZxwuUc/BAXpSGEEEJ0B+U2SWpDiByJj0IIUSPcR3rpZlItr7qhCiFaTVEMy8mFMoQuBEPEPsRABDtGDPJZJP5YKH3JSMNGuFy8eFGYP3+eCYKsm4ioN2dOX7jjjtttmjbn84ZsHOeuWrU6zJ1bmFpMHNk/REmmWz/zzDPhnnvutdGNu3Z9HV588SVbJxHhMfNs4SDUcbyvb7aNHmQa98aNG01cZZQnoyArka4byZqXjJ587LHHbOr2XXfdZULgRx99OChkkt358xfYaE3Wofziiy9NXAQvT3eInoi4TGunbChf0gbkFT+IjaSVtSYZ0Yk46eUTxd9KdSeE6AVkR4puIrUfvG1zHxRDkfjYYNTwhGgdjTNuGmk0tc/TsuG7r/ZIoxDtS6uvke6Pv2hj0XcijLHeIg6BDaHr9OlT9okY6esUFtNHUB4eYhzn8+mj/+bMmRuWLVtuoxoZrXjs2FGbIs10bMQ3REBGPfKiGYQ3RkqyL/4oIa7Sj5PMES6iHetJsgbiI488atO3mQbNSEemY7OuI4IhcfCW7ieffCp8//vfz/w+bKMtGd3pL9CpBPllqjkvwyF+Rj3iH6GUkYjEx5upeXFNfBHOgMV1yy23Wvp5OcwHH3xgL7XxsiDvvFwGwfLNN980ATJ9kQ+k9y+2EU4RIBkdyrmkh1GYXq71oX3um0KMjd5pv8VrtRnXLnGoj2gkvV2+fivze1r97m2NI6+v5qZV4uMQ4sVTjwtInZwQraee1yE3k3hDaURHTTrpe0rfWtx/DJfPxpWBEN1DvISbfR2Xx9fKfqQV+Uds5C3LO3Z8aqP6EM8Qyd599z0TIFnXcfny5SZAMr16YCC+hIZ0IkwiujHSkBGDjG5klB5rPCK8MbUYoTFO396dxXXFxEimZDOqEseIRcQ6/BKXr2uI0Ia4xycwevKjjz4aFOIQTKdMmZz5n2T968yZMywu0krciIOM2CR/x44dN5GTl99AnMKcw/mIhPghDs5lpCSCI+s9kkeER8RIhEHSQFkRHnnZtGmTvQkbwZGye+mll6wcEVwRJJnC/fLLL9s2/gmXt2YTLnnFUaY4FxgpC8IkfkZLMhqTMvbyGF87ze+bQnQi8bqxLfve7dAnRDsykm43grR/8T5KiPqSt+lGt+fxUil9cVdzrguJjwV6qfMXQrQP9D04bgruhBCdS7yGm3sdl9swre9HGv0bz39Ekk3WGURARCz88MMPbQrzCy+8YOsl8rKV5ctX2AtPGJGIUMbox2nTpts2ZTVx4iSbJsz0asQ7BLfXXnvNzkWIwx8vpOHN18SD2IhAOGXKVBPhGP3Ii2eY5o1oyKhF78sRCKdPn2Zp5DvhIcK9/vrrlj5ehMMoREYeMhpy4cJF4eabb7LRjYS3c+cOEwFxb7zxhgmjiHfpS2EcBL2zZ8/Ym7ARIEnHd77zHRMciR9ILy/hIXxGWX766Q6bRk55kqeHHnrIRleSTtL2/PPPh+eewz1nafj888+srFg/8r777rV8U555Xr1cYx2RB0Y+ImzyHVGX+BBd8/Y6VsrvmYTv7UKITiBvu/Yh6kzaP4hGoTLuVLzamtX/THr22Wd/XdoWg8RaGMtFxOLePPnGmMNAdUNPCNE6OuGGKONICDFeYh/SXv3IePo1zkVMO3PmjNlWTO1l9FycNh2Jfm6Y/cU206NZa5Epz/hnfUUEPdZIZH1G1jXEH8IdQhmiHCP3EMz47iJmFM1mmGiJKOjTtTlGGhDnGM03a9bMbP9k248fwmM0IAIk/n0UoAtwceQlowTDoHiIP0YH3nvvPeGuuzabYEhYc+fy5u3ZWXonhqtXr9joSfLFNGemYvOGbN5QnZYx6UY05K3bCID4Y41HxELAL2ll1CNhEQ/5Yfo08bIfv9iwiJQ+spLy5TyERsqTl/nw0pxFixYP2ro3bsQRnsTL9G6ETMLnPEaMEjZ+iY+3Yc+bh2gZw0/zMB4Ip15hCdFs1HYbh/cNKmPRy/g1gP1x5MgRs0e413Nvbsa1MSEz6vScpY4gOvI0lyfSGHsYm3oCK0Rr8GtPhoYQotHQ37RLX9MOaRlP/5uey+g4RvAxPZmRhwiFCFmpH7aZksxbmhm16NN5OYawhwCG0IYoxj6O4w//GNyIlPjzcFzsZB9iG9OoEeEw1llLEXEPIc3PAw+PsPHPccLjHGxDwvV0AOGwBiL7OYdj/ADguAt+7Ofcc+fOmn9MdvJO+MTtol8KcTJVmzTySbhpOjMfpc84PZs0kEbixSEUehmRH8qBsEgnYWDX4kirj250OAd/pJV0Ei9TyYHqSuPjGOIu8UV0nxa9S9qfCdGp0I7VhtsXrx8c9+Nt27bZQ05mbsyYMbMpdSfxsc5IfBRCtCOdbNjKmBGdgd/r1VbrSTXxsUgtfURqjxX9F/vI+B1X7m+k85xqcbG/+B3K481J9w8XR5FKcUR8u9IIoHz9xOL5CIbsy0XMyvGXh1m+HmMxvuHSXw88/KH5FEIIUX/oc9Xftit+T+ShX6vEx3Gt+UgG+CeEEKIzaPSPvYaQ3Qt1pxHtD0abjO66U2Oxmk06gkupdqz8+9CI03Nyf9X3Q3F/8TsUvzvpft9O91Wjur+8QFM/0dluI90PiI78YCnuL5IeL3opP1b5/HqRxVDaEkII0RxquFmLtqBVD+VGveZjpYTqiWJOM9Z8lDklhBg19NPuOg7dY4ToRbjymcpr06DPnwuzZs8OcwtrPgpRmU6+5wkhhBCRet/F0O6YzdCKNR/H/cKZmMbm3th5WtqKeGuh0eKjC48SIIUQo8N7jfbrN2uD9Hdq2oUQY2XAxcfSC2ckPora0D1DCCFEZ+N3sXrezVopPrbNmo9RUKwtwz5VoxkFVAs+tWNC9i+u+bg/rvm4ebMtOG4+aizlmKPh89UWFSaE6Bhin5H9ZSPrXuirOonB9Gd0WtqFEOPjWn+y5uPS6ms+CuHkU679fhFvfrp7CCGE6DTqde+yJU+yf5NY8/Hq1bBt67YwZ+6csIo1H2fOLPlq7N1yXGs+1ovRrvuC6NguwqP/II5Vmf2bkLhR/ovhjIyMJyHEaKDP4EZifWcH9iCD6e/AtAshxk689oc6IYbD7xd5m4nbQgghRCdRv3sXKlPmUo1qcDse963aFKmxobddj5tYTV5Zly+nb7veHGbOmBGP1yCwumkkE0kIIYQQIhn5eGD4t10LIYQQQohK3AjX0aMm3AgTJ5RGPm7bZlOuedv1zNLIx/xhXWP0qLYY+djZ5IJhrKrc+fda/4F/CiGEEEL0PPEJrxBCCCGEGBMlxemGa1WR0l7bE/9C4/SoloqPNu98lFOu25G80rJ/WYW6C3xm/zCa49bI/4QQQgghRAlMI5lHQgghhBDjJCpOpjyVtCr+uW5l2w2kpdOuTXjM8tfoTFYG4TOLu25rRxLOjXDp0uXBadebN28O06dPj4drIJ9nL4QQQgjR22BZpS+cWdrsF86kD8jNXGyFvSpqIq2aauZ0swY8VG0rWfzDJaEn2tgIZdCuVPy92KF5KTLW9toODKmXLqkTqFgvFfLXNu/BEG1Pqe1MnDghXLni0677wqpVq8KMGckLZxrYpHp4zcdcfEQEHZ8I6ee6+HgwnDoV13zk9eUxnpKXEWDA5NBeRQghhBCiR3AzKLOJrl0rvO36prVhypRmiI/lj4SjGVejMSeGMMQOzgq3XtZuJRt7qM7YvEf8JMcGViTpiukZPg2VzusmaimDdqRSvXRqXipROX8xZ+2eP9KdXv9dVy+Fzo38FXNXLAMhqnHjemwvEyeGQfGxr2+OiY+zZs3IfLguFv03Ar1wJsM72PELkDfCpYuXw4GDB8KpU6fCli1bwrRpU62jqDXonq8MIYQQQogSJj7uK4mPy5aHm9auGRQfG2szVQtdv/JGy3AlVo86LIZfOczmWdgxPUNzPZIkUu28bqITZaGx1menUDl/nZE7hJQi3V0vQ/NXqQyEqEip6aBLXb16LWzdGl84s2oVL5yZYW2Jl9JIfGwwucI79pJ2gfHy5cth37794cSJ4zbycdq0aRzNnJ5KCCGEEELUCg+Fo/i4Lxw+dMjedr1mDeLjlMEHx6JzSGusXiZxDDP7WxZ4DL1Tze7xDYaIVLs+6hH2WNE1K4QQrYf7wJUrV8L27dvD3LnzwurVq6P4mO2P3XTj+uqeFR/rM9oxJ4Y3IVy6dDHs3r07fPvtt2HtmrVhcmYg53H0ZFELIYQQQoySOJ7jWn9/OH78WDh16nSYP39+WLR4UZg8aXL00nBSu611ok3nc6P0gyYhK856jdixkUBJ+NHsLobdKTZ4fQYrVP4B2dqBEI3+USuEEKIW4oPdPXv22KjH9evXh9mz+0qaVWP7aI18rDPnz18In3/+efjiiy/C4kWLw0QzkFXE3UmnGraiN+mm9qq8iHZAddcoMICjETwhXL8+EM6cORPOnzsfZs2eFebMmWuLpYvOIxUgWymCjY5mX+f1EwiLgm/LyzxLT7dMia2dZrcfISrRjh2uroVmY62g1BT6+/vDsWPHw8aNG8Jtt90W5vTNGTzWyHuFxMc6c+HCpfDNN9/YG6/XrVsXpk7lhTN2tx2sUNEdFJ/Y955BJTqJtL12eltVXkQ7UF53+V9RD7LSzaxfSnhgoD8cOXI0HD9xIixYMD8sXbI0TJqsB7uieTSzn7a48ui6i6zoevE+18z2I0RluKeWNtuFHu0PWs0EyjxrDFevXgm7d39jy9msX78uzJ41q3S0fms+ls80zkImaomP9YW3Xe/ffyCcPHkybN58V5g6tRlvZBRCCCGE6Cai9TswMGB21aFD8W3Xq1avCpMnT7JjQnQn7aYS1Av95BSiNbRrn6I+oVVcu9YfPv10e+jr6xtc85F2gmBYT/ExhhUDtO8SH+tDLFzWfLxkox552/Xmzf7CGSGEEEIIUSvxSXmcGsSL/A5mttXSZcvCWnvbtV44I4QQQggxGlwMZM3Hbdu2hdmzZ4dVq1aFmTNn2vFGI/GxTrgRjPh48GAc+XjX5s1hxvTptl90H0N+92QXc/ypJER7UWyr9Xqi1QosK0l+Oj8vaeW04bQYUZVuuq7aFQRIns7v3bvXbKulS5eFm25aG6ZMmVqyuwqV0LFUvvZ7S2Bt1zIoJqqx6XHRvVvpvYcGzW0/QlQk61farWeJXYGuh6aSNQLuMRPCRJt2vXXbtjCnry+sXLkyzJw5K7kHN6a10P93oPhIctMCKX5vLXHk4/6S+HiXxEchhBBCiFHg+gRGMiMf9+7dk9lWB8OyZUvD2rU32ZI2LmJ0uVYjhBBCCFE3JkwoFx9XrFwZZg2Kj25U1de4cpttov3tIEi3J57P0qYQQgghhOgKMO5SAy81gv1Y0Y8QQgghhBieSrZTY+ypqNfF5QnNadp1PXCj+Mbgmo8nT55Ipl17EddXQRZCCCGE6Db8ITNP5+PIx71mW8WRj2sLIx9lWwkhhBBC1AJ2k4183LotzJkzpzTycWZiT9XXrkrttY4UHz0D0B5Gp6chFR/TadektzGVKYQQQgjRTaSGarn4yAtnJD4KIYQQQowF7KZcfOwLK1asDLNmMe26vvZUuZ0W9bCOm3ad0j72ZizY6nhCh09wKqoKIYQQohvJ7/W671cG+65o49VqFPu5qaPMKetK5V1tfz0pht/o+IrkeczjLS8fqJ6m/PxIMSwhhBCR8v6y8fcXIcbCeJtlre06tzHiRkeKjxig0QgdzE0bUKECbJenc2ha3ZDuZSOul/MuRH1Irx9dS0K0O0V7rVN+mDQ3nZXtpmp42nLbsJKL4LeZeUnjIn3Njr+cWA7l5QTV0lM5rZzesiwIIXoS7ztT166UfuIL0fUMdy1W0us6euRjN0CleMXEz96jje8dQrQ98fqJFxHb7WyM9TrldaN66lXSe31uA4yPZlz3MZnt2G5HTpOXc7Gsq+2vJ5XiaGB0FSHuiRMnDklHhO/uyqFZ+TnlLoYlhBCinNg3ev8Y+0zRDrS/aN1J0K7HUpYSH1uIXwD5hdB7F0M0YtUpCzEextD3ixaQ9nXU2Vhu2qKdaV19Nuc+Shztdb+O+Y52BNfT9evXw8DAQJljHy7693Pi9cfxZlyHHleejuaa314+pOHKlSvhwoUL5ljziX3VoKgqlSnO8yKEEM2Afqzo2pns1739Fe1BeqtX3dSX0VyLett1nSl74cxdd4UZM2aUjlTm+vWBcPHipXDt2rUwc+aMMG0aL6gRQgghhBD+wpmDBw+GpUvL33btP0ARws6fPx/OnDlj4pofg0mTJoXp06eHvr4+s8kmTZoYBgaum/h27ty5MGXKlDB37lz7bMSPWdJPPNiHxM+bJUlTM6F8Ll68GE6fPm3u3Lmz2b4bYfbs2Vne52Runi02P3nyZBshCZThtWtXw4kTJ62sUvBHHVCmM2fOHBxVKYQQIvafjvrG9kJ1E/ONrbRtW31eOONlWsv5Eh/rzGjFx7OZAbjj0x3h2LGj4c477wrr1q0rHRGifRlNJyOEEEKMlVrERzeiX331VfPLMQQyblETJ04Ky5cvD/fdd19mZ90Z5s+fb0Lc9u3bw1tvvRUWLVoUnn766cz4XjEoCnrYKXz3e1/mI9tmH9vV74Occ/z48fDOO++EnTt3ho0bN4YnnngiLFy40I57eMX4+I5LRb087oh/L6Yz3Y/j4fbhw4fDRx99ZGV04sQJ2wfkF/Fw06ZN4f777w9r1qwZ/AFCue/fvy/88Y9/Cjt27AjTpk3LynRSdmyilT8/WG67bVO49957rXzTN5ALIYQQ1e5TorVQH/UUH0eDpl23EIb8Xr50OezatSt8/PEnZqCK8g6KTkvGbHvRLTcSta3ORfXWHqgeRHWa2zYY2Xfq1KmwZ8+e7POkPfhFqFywYKGJaFu3bg3PP/98+OSTT8LZs2dtH59HjhwxMc5HSzJ6EvFy3759NtrP73Pxkzzl+ap0C6x0TSD0MSKTuEjj1atXS0fy+2jxfsrXiRPzaYUebuqP7eJ54Ptxly9fDl9++WX44x//GF544QUTIRl5iQh62223WRmRzzfffDP8+c9/NkH2woXzdi5xXrhwMXz77bfh0KFDJjwuXrwkc4tNaNy/f3947rnnTPAlb5SpEJ1Bfp3qPiaE6EUq2Q/NYNKzzz7769K2qAMYXz69BqOOaTxVye53GLo8Ucawu+WWW+yps8jhuojXRmsuEFGdVnVa9cJ/nInOQ/XWHqgeRHXq1zYQFhHvsK2YJjxv3jwbseftj09sLwRD3NKly2x04aOPPhLuuOOOcNNNN5mttXv3bpt+zchJRj8ioC1YsCCsX7/e9jGyj9GVH374YfZ5IItnvsWVt3PuGWm75zMX+hzf9k9GLxIvNuGGDRsGRwk6fn7xPA/btgrHc2e7hsAxRE4Ewtdee81GPZLnxx57NDzyyCPhnnvusdGOGzZstPQwEvSbb74xsZIyYRo6ZYwwu2PHp1Y2Tz31VHj88cfD5s2bw80335zlYZqVKeLlsmXLbDQn+fJ0CtGOIDbGJpqPZFabFaIxpJeWrrP2gbpg7WYeHHJ/7+ub07T7t0Y+tppSHeuCrAblorJpR/S0WAghRCsp2k488EU8Q0xEIGMpG6YF83AXERCRDaESI3vZsqU2+g8/iIMInIzy27lzR9ixY6eNgGQUJeKaryfJSEDO93gZMRnXUDxnhjz7cfjBP6MriXflypXh9ttvtwfMxAX45zyM/0OHDtrsF8S/KI7kYiNhEQfCKOLq0aNHw8VLF02UrXYbJozz58/ZzJrPPvvMplY/9thj5jZtuj2sWrXaplkhvD700EPhe9/7nk07J/+IjWfOnC6FRBlPDLNn92V5WGVCLo683H333YMjJxnRSVkIIYQQOfoNL8qR+NgGuJHphqYQ7Uyr22m9RE/Ccde9SCAeGcrInRCjRe2mlRT77xs3rts0Z0TGS5cumyCGwMcnoxgXL15k4h/CH4IZI/cQGZmOjEjHtOO9e/fZiEFGC37wwQfZ9z0myjF1+/PPPzdB0e8drPH97rvv2rpJhOf7T5w4bvs+//yzcOzYMQufuNgmbh9xQBwvvfRSeP75F8Irr7xi8SM0ejg+YvP999+3EYw4pkizVjijEgmnCPdoXmZIOExDRxxEfGUd8kWLFtsoBwRRRjYi1vLSGMREjhPeN998m517JguHsEqBZpAet1XZRhTFv4fFNHFPtxDtSrRhY8P29iyEiDSiDy9eYjF83Sd6FYmPbYDf/FInRDvTunZar5tVMZzuugm64RA/uitv9YYyyl1vl1UjjM5uJxaXyqwVVGqrTDVmyvTHH38c3njjDVuPkLUMEQ0Z2cdIR6YU4+/AgYPh7bffNlERcRDBEYdoh0P0++KLL8Px4ydsaRxERhx+iZsweInMX/7yF4uHacuInOzfvfsbC5vzEQkZgcj3r776yo4jVCI8IjgicJIGXkqDQ9BE1ENAxf/rr79u8ZIejiFqIkLy6UJlkf7+gXDmzFkTOxFbWeNxyZIlJhS6fz59m+nsq1atsrJBrCV9164xwjP6RwSlbL7+epetIUl6Sffx48dsujUjIKdPnyH7VQghOpT0XpLeH8ZP/puxfmGKTkXioxCig6iP6On3vvxmaB9tT7xpj5zYtIy65T7fKIOFskpdr+Ll28tlMBZieanM2gHqgmnL3367Z/AFKr/73e/sZStff/21CWusB4kYx5Rl1uZGnENomzVrpk2/Zk1GRDoc60Vu2bLFpnAzahL/jID00YsIfwiOiIKEv2fPtzbV2ddPZGQj07sZaYh4x3dGTXKury158uRJG5XIWorEhZDHW7q5HhEaESiJk5e8PP74Y+H73/9+uP32TRY3L89hGjZiZhHyRzpID2nwNS4r9aO+DwGSl9H4lHFGkCJWEhbpRcz93e9+H37729+G//zP/8zS/4FNcWda++rVqwenk1eDeNwJIYRoL9wOTu3ARvTXspt6G4mPQoieI725Fm+07Uj6g200dkAn5K1INUOn0/LRSXiZq4xHTyMMczF2pkyZasIhIxwRxXCsTYj4hkjIC/4Q1tK+kc+5c+eFTZtus6nHvIAFx3mcz4hJRvbhEOYYyYiYiCDHOo0IdgiGR48eC2fPnrNjjJQkXF7EwnEX8RxESM6l/TDi8MEHHww//vGPbe1FhDxGUCJmMtqQ/Dz88MPhvvvuz9J3Z3jkkUdtrUYESKZVE18RwiW+gQHivGHxj3R9p2XCuTjC8TbOJ2XHKE6mqi9fviL89Kc/szUjKV/iGA4Pf6R0CCGEaC2N6q/T8Pz+4vcY0RtIfBRCdAS9fINKjYB6GwLtVq71zp8YHq97lfvYULm1F4y+Y6Tio48+Gp555pnwD//wD+Ff/uVf7DvTiRlJyKhERjGmfR9rFs6YMcMcIwRZC5GXtMyaNcuERcQ1XhbDKEaERUY/Igwy6pARkgiGCIqMVuQYcTGSkBGLnEM7cQEQh6BIOi9dumgjChmlyTRmxD38IT4iZh44wFTnr8ObbzLq8D/Db37z2/Dcc8+ZiMqoR9JQSXwkDMqCPDAFm/QwkrFSe/U0MVISf5QFo0RJN5B/RFRExqefftrekk05USa8fCYdrTnSvWSk40IIIcZHLX1xOxDvPXE7T7PuEd2OxEchuphOuQHVQnqTEvUnaymlrfHRLe2tl6gkSHQe9W93nVcsvX3t0fcguiGMMR2Yl8swWpG3XiMQIgQyxRrxEKHNz/E+6/r1OFow3ecgQjICkpezsOYjAiZrS06fMd2mSzNlGyHyyy+/MLGQEZKMniQd6YhAD5uwnnji8fDggw9Z2IzKfPHFF239SNZ5RBy9evWKiZC8MCauO3nYRlv6Oo4If+QPobQIYiACIsIg4iRpYqQkpNe7bzNdnXKhfAibcz1c/CCkIpbed9+94YEHHjDxFOGTkZek0f2N1Jf44WL5CiFEfWi33z3NT0+lftjvPe7ah+J9Y/h7iOh8JD72ELGzqX+H06hwxfgZ4XdAB9KeGWqvG/no8B+M/BsblfKu/qBTGEksqE5ex+3Q/huRhE67rDu4GxoCbWo07crbMeewzZuXvW9DiGMUH2Ia4iIjANOw3V8xznQbAZGRfgiYjE7kZS+8sGbhgoW2TiRTpydPnhS++mqXvYSGOBkNiVjp4aaOEYmMIGSa9Y9+9MNw//33hTlz+sIXX3xhL3NhBCIjMGfNmm0C4+bNm2305iOPPGJTsJ988kkbhbh5810mFBZh9CLpRTAkHNKEQ4gkfs8zUB6Ik4ym5BjncG5WAvYdyD95Ygo5+WXa96lTJ8Mnn3xsoz0JI2e4eotxetxCCFFf2q1vaU16Oq2PTe9JoruR+NhjRDtyOMNwbJTsU9F2qDNvJvGHWu9dDP4D1X/Utp/xJ+pN8V7ibaBV9Ho/1+rybwa15JGXuVy4cD4cPXrURgoymo/RebyhmTUW46jI+PIVSNsN24h2fCLSEQYvhLl8+ZKJlgiJK1eutOMIeYwkRBhEkGRa8rx58+2lMoyKZDQjfhlFSLpj2nMxj3MZOci0a0Ynrlu33tZQZBQh6YTFi5dkx+LIScRTwkP0Y0QnQip5mDMnnx7tEAdpdKHw1ltvsfhef/01e2s26SNvxEMaEFJ56zYvtkFEZZQoL9ghqZ7ePA8TwqJFi8zPwoWL7G3en376qYVPGUXU/wvRaPzaFEOh/2sn2iE9pCG60g4hWoTExx7COz/dr3oJKlsV3mhSw6L3rq9o0MgQ7hZygWQ4YpuP7T4atLJoRWuhDTICb+/efeGtt94Ozz//vK2P+H//7/+1t18jjiHGpW9m9rZLm580aaKNSJw5c4aJju+99154++237e3ZTNN2QRERkpfOIP4xfdqneSNAAn4RFBElo5hJPBabxQWIoq+++lr4y1/+mqXtLRMzDx06mIU5xc4lPKZy33zzOpuCzVqVrAm5fft2ExBJFy9+8enjRcgPAiVi4gMPPGii5b59+61MWF+SKd4vv/xS+Otf/xr+8Ic/WLik97777rN4y0XTSNy+YccI7/bbb7f4ees2Ai/pFEKIdiHtv1rJcOko9rONR/aaaC0SH1tMsy9/N7TrSSPCFPWB+1mb3Ht7gl6/FtQPdAOd2Ybb5UdGq+j1vgcQxRAPEcRYe/H9998zwe7rr3fZ/sceeyw88cQTJiD6yEGmLLOeIaMLJ0yYaKIfaynOmjXTpkAj8vkLahASGfXHtGR/YQxhMR2Z8NlmH4IfL6dh9CAQ9owZM+07AibhIGAiWiI4vvPOOxbPyZOnwqZNt4d77rnb0kF4vAUbkY+p3q+9hlj5l7B16zara44TJuFVgqnn5I1Rij/7WXwrNdcJ06sJ6+WXXwkffvihrfNIHLygB/GRMGN5TLByYgQl5RRHi8YX5zAtm7UuN27caCNN/cU3vX4dCtEser2/H47yomltnzRcn6j+UvQiE66zwraoGxiorH/DU/O77rrLjMtq0Okw9YWn8iwwzlsZWc/HjwkhhBBC9BpuA/EDm5e37N2712wrRhf6Oob44TiOUY1M/eVlLLyghe9+zMVBBDNEPwQ1pmezriJTjwmLcJm+zMhJwvE3WrOPkZJMr2abl8qwH8EOUc73kxbC4xjpRZx0EY8wsQl5GzbxI2CSvhMnjpsNeObM2ez7QJg9u8/OYwQitiNhMg2b9Bw/TpxMbR7I8jLLRkfiZs+elcVRWXxMIU2k+eTJE5aW06fPWBoQFXE+2pK8IFpS/MSPkMsLdtgmbaSfPPEde5dp5viZN48wFtn5QgghhGhfsI2wZ1hjmvWmV6xYaQ9H2d9oWiY+YrgAmUy3Ox2Jj0IIIYQQYye1C4cTH91PrfZjNduqeD7CnL9EBfGy2ujC8UI8AwP92eeNwXjSfDnsoxz4xB8CYOlItq+0OQxpWISDqElYiIWIsU6xfGotVyieK4QQQoj2g3t7q8THlk27Jm+eQT6bkNe2BYPNnRBCCCGEqI3UhhrJVaPoD7sUgRPnwiP7EQuLfsfjEBGnTJlaGnEYRxSWE/0BIiGOtA31NzweHyBe8iMDx7Yf87yl+LFanBBCCCHEcLRwzcdoPOVGS2+qj9dvlBuyQgghhBCiFqLd1Ej7KbfP8rjq4YphFYn70+1yP+nx0VE5PiGEEEKIRqIXzrQYnmDzxJv1iHgCLYQQQgghaqFZD64R6+L07nq5WhlOKBytiDicYDnadAkhhBBCjIaWio9jMcIaCxbZ6Ay58UC+p0+bbouZ33LLLWH+/PhmRCGEEEIIMTLNsSNbZ6cOl7/G51sIIYQQoj5o5GMCT4PLnwg3XoicNWumvZjmiSeeCMuXr7B9mg4jhBBCCCGEEEIIIboBiY8J5U+Xx7qWTu0gMk6ePCUsWrQorFq1KsyePbt0RAghhBBCCCGEEEKIzmfC9evXNcyujly6dCkcOHAgnDx50kY0zpgxo3RkaDHHEY4+9ZzvcX8lv0IIIYQQvYDbQ9hH/f39Ye/evWZbLVu2LKxdu9beQu2zRAafGQshhBBCiGGI2tPVq1fD1q1bw5w5fWHFipVh1qxZtr/RSHysM8OLj9WKOh9tKYQQQgghsI0QH6+VxMeDYdmypRIfhRBCCCFGTbSrWik+atp1WzCcMCmEEEII0WtkdtEEt48qOSGEEEII0Slo5GOdGc20ayGEEEIIUYUJE8K1a4x83BMO2sjHStOuNfRRCCGEEGJkNO26q6guPgohhBBCiNFwrTTtWuKjEEIIIcT4kPjYRaTi4+bNm018dAMZpVkIIYQQQowMdnAc+bgvHDyYv3BmypSpITOuck9CCCGEEGIY8oe2iI/btm0LfX2Ijyu05mOnk1Ze3JZxLIQQQggxOuIUoYkTJmWfmK1uT9XXtsJUG8m1IySrUlpT1650Sjo7FZWvqESxXXRK2+jUdNdKt+evHalXmXNapbAa6YpU8lN02V/zC3FwXD4GETurGeKjRj7WmYsXL9oT+qNHj4Rbb701TJs2zSo3PqBvfIUKIYQQQnQDEzNDuH9gIBw8eDAcPXI0LFq8yJ7QT5kypeSjyWDPlTbbhcLviYr4INFGUPxBUzuVEiU7ub6ojEUlOrldFNPeTe25u6/XfCZo+1BJaxtLMi2YJldVMZ216IbUAf4QGa9cuRK++OKLsHDhorB27Zowe/Zs2x/DbVxdSXysC17bN8L58xesIr/88suwdOnSzECebJU4loYshBBCCNGL2FP47F9mp4bTZ06Hs2fPhr7ZfWHuvLlh0qRJJV9NBnuugUZ5JzLWkRLVfog2Y+RFL6DyFdWo1Dboawd/zrYp3d6mK+eP0WilzQ6nWv2J5kJ74pphSZsjR46EdevWhU2bNtnaj/QDsZYaV1cSH+vAjRveMSA+Xgy7du0K3377bVizZk2YOnVKdty8CSGEEEKIETCTKjOs+Nc/0B9OnDgRTp06FebOmWNP6SdPmWz+ROfCD9Ehv6m75Vd2G6DyFVWp9MO0A9pGt7fpYv6oJT0sEPWFkY/oVqz5eC3s27c3rFq1OmzcuDH09c3Kjnt7k/jYRgwtrthVRK34wsVLYf/+/eH4sePhjjtvD9OnTYuehBBCCCHEKJgQ+vv77UV+hw8dDosXL84M5ZXxbdclH/Wgo3/fZQUxUlk0On+VtIxaKCarnnUqhpYvqIxFJ7eLbu8z0vx1Xd4qNbwWUzcdPgunmfVlSSyks9b7cMxffOHMjp07w7x588Lq1avDrFkz40ETwdPAxlIg1ZH4OGoorvIii1WE+BjCxcuXwsEDB8OpU7ztekvjxEfVmhBCCCG6FP8BcO1af9i3b184dOigLWcTZ5VMLRna8Sm+EEIIIcR4GevDtJaQmD+1JTsqVpx2+Vrpbdez+8KqlSvDzFmMfIQbYeJgaPisr4016dlnn/11aVuMGa/GYE/oz507Gy5fuhyWLlsaJk+enFVfVoF1bsj1bQZCCCGEEO0FwuL16wPh7NkzmW11LszKjGOe0sc1HzvpF4IQQgghxPgZq/WDJsW52FYD/f3hyOEjYdrUqaFvTp8tFRipFnq5+jRWLUriYx2IwmOsgoFr/ZmRfC5cvnTJntAjPo65hVRBwqMQ3UlxMWaN6BFC9Dq8cObMmVx8nDu32gtnMqO6zvaWEEIIIXqHTvntZSJi3KyZCdlJnDMxy2P/wEA4cuRwmD59emZXzQlTp0zNjkVVa6gpxd48Nt/K99SOpl2PGoqrWGR5hVy6dMnWJjp5kmnXm61Ci4KCEO2GRC4hhBDthC2+n92beCPj3r17w6FDhwanXU9LlrTx+5dsLSGEEEJ0O65G+a/3Wn/Fu12Fu3Llik275i3XK1euCjNnzox+CJkAcYNmle/IGbqnNiaWPkUGFVJv49UrGNtYTq49XfZHtD2N6J/KqS18T0dj0yI6jaxFlLaaQ9oO1R67k2r3puL+tP7VDoQQQgghcoa3kycMHnPdyrBdbNdXJ5D4mEBZV7F1a6BChda3roRoELRduXZ3ef9U+fj4nVPpWOoijU2LXOe57K8ZL81yUP69ufE3znVLPsbvaiH3nxvW+T45OTk5OTk5uZ52rkkVtCmExsx6Kn1z/0U4qfzEQjCjQuJjGUMLtxaotFhdscLsO5Pq45Zte3XWywkhOp2sXxj8sdwe1PbwBSFUvZAox+6eg+2nGe2jGEcU6LsDXV+RUjlY42JjaJ0PRWUnhBBCiO4mNXmxfIZzRumEVKOyRSBLn6Ut++tmVzUH/jlatObjMCAMDJ32k1eN43vweeny5XDgwP7BNR9nTJ+RHUNkwGd9SCteCNG9eL/SCqrFXblfFCJHbUTUjawd5Ws+HgxLly4La9esDVOnTaWhlTxF7GtmQMfl0oUQQgghuhfMnnJLaGQwzyeEieHylcvh00+3h9mzWfNxpa35iO3uFlT85G99baoOH/k42uKuF0MrofKe3JV/G+qg0idnuh933U5zarVYmu1fsuXlUim99c9D/eqimDa+t3+Zj43yvA334GFEfWa4kxtNFnWl2CUqiZEYaxtpYWtvC8aS/54qsxu1tCv3w2d0ZkyXXH68V+mO/A9t9w3OF21nwsTsI7r6xkfbbFTYvQJllpYj9RX3tRxLSiFtg3gaS24wze7Kod2nbiyM9bzRkMdROR/tSnm5+n0jrbda8jKyv7GFO1Yqhc1U2/iZHi9vG41KV4y7/j9vPL3lLq3PbmVoroe68kLP2h9/7UDpeOkz3c6/1ZeOHfno0xXLO/FmMbTIfM/ly5fD/v37w6mTp8LmLaWRj1la42DWctKUc5TvPmKE7MWspXPxI63IcTNpzqgZOn4+Y9neyH7UxHjta9tBe/C0xpsWCfW024ft8+uiHhTjHA/lafOyJ476pbdtIHOlfA3mL9uXliC749Tl8ZWrEN1DPkNgvP1Nr5D3L/zv1jKbEK71l0Y+Hoxvu167dm2YOnVq6TiUymGQ/B5jhVNG9Ft+73E/xXC6jVguMeudm1eziUvJj31FWt/kr855ywIneMIlaO+fYjzjtVdJe7SPcARVKby656nboMyyIvJyogy9GFtddmn9Ut8TJ8aE2Xfq21pXZfBy48b1Uhi2x/Y7ldpKkXgefuMn8dZy3njwvBKN57/dScuXNJP2NNleZpXyEg/lZZqGNTyNb6de/oPBZ/HR5mK7QvyMu6MfPOX15vvrCeFez+LO/tu2xz9ePL3gSWbX9evx+sm+Za4xZdxqas9VqX6tjieEK1cvh23btoe+vsojHyPl3+qBxMc6c+nSpXDgwIF82vWMKD5WYmjSYwfB/jpf6x0HZZA2zXrVc9puimF62VeiHeqjeto9cfW/wadxjp0YBkERDDe7cpKbYheRll3etsZTjkJ0O1wzukZGR/eXWT7tupr46PiP6rw86Huxy/gBgj02adKkwf2O99HdTPH+0+n5Jf046i6KOXneIvW1K4jryy+/DEeOHLE2uGbNmqw9Tbc4xmMfcS7t85tvvgnHjx8LS5YsycJeaz8CU7q9fY4XquDMmbPhq6++CqdPnw533XWXlSX726Hozpw5E3bs2GH1vW7durBo0aIwefJkOxbrFjf0dwkMrfv0e21tz8MYT1utlXYp89GSl5H9tbI6ePBgdu/Zk/Uxk8L69evC/PkLhpRhbXWWg/fDh4+E3bt32/att94W5s2bl8UxcdjzxgLhxzCzexz3x1J7YR/Hyn+P5X1mMU/1SpeHS3gxDeXxjAfCStNZDN+P1TPOToZyuHL1Sti2dVuYM6cvrFi5MsyaOasp5TPp2Wef/XVpuyNpt0bU398fzp07Z8YEBsqUKVNKR4ZC0q9d6w/Hjh3LOrhDdm40OHRheL3yWc869vD4IYIxYKNUT53KbijzS/HQeUW/7UZaFoyw3bNnj+WBH1NTp04bPFZP0jjHRx4GaT98+LDd1DG+pk+f3pC0twq/4aUu7rePwe+lj2Gp981ZiHYjvUbSfkLUSveXmd+vz58/H2bPnm0/1IoiYt6OMoP6ypWwb9++8O6774bXX389vPnmm+H9998Pn376qd13CA9ba+joye4sy4GBAbMxP/roI3s4Tr4RYvmx28mQftz58xfC559/Hj755BMTqhnFMWlSFHbqBW3mvffeCx988IG1veXLl2dtaFbp6NihzZ49e9bSvnXrVks3YdPWiQsblfiwk7zNi6FQjsePH7drffv27faAYvHixRyJHloIfRQDUl588W/Z9XfQ0rVw4UKzf73/8nSSD34Tcq1+/fXXYdasWdZXlV+rsZ8bTd68f3TXSIpxNTq+epGn16dCBxOz3333PauTZcuWDYqEKfQNR48eCW+99bY9JOP3JNdrkbwsJpjwSFulPaxevTrMnTt3MM564XHF7Tx+j4cBPp999ln4+OOPw8WLF60/495QKR2V9o0FDyemwzbrRgwzD3+4TxHL4vrAdXugNm3atOy+Oadq/debzrY8OhzuORjJGE2vvPKKfWI4UfGx8uOTgV7k6tWrNsoBQxkxt55QttEYP2idPw7ht5PKmh9i77zzjhnDCHnkp13T7x0Zn6SRp9IY2i+++KL9QGTofzcRs3sjXL4cR0EzogHBNR7Ln8zxUSqaYenVPkB0Pzyk4773t7/9LWzbtm3w/idErdBeoot9Kj/yERr/+Mc/hueee85+WGFcs3/nzp3h+eefD3/+859N2OHBY2xu3d3HYh/wo5jr7NVXX7X7Etdap1K8JyLeUc/UKwLehQsX6nrf9D4JQfDEiRMWPmVaLxAvCJM2ShyETR3F+nrF7CRsYjE82PHYlwhFqc3VSogfsYo6PXXqtPU5/O6jzlO8vbKf3z5cp3/961/Nvi/6HTVZEXg5UEa0Na7/RtqWhE2b5R7PZyPjqifF9kI74ro8depk1Xywn2uUe8sLL7xgIni1/Pp+2kAM91TDrm2Pi/Zz8eKlrC4uD/ZbZLO//5oJ9X/60x/Dhx9+aL8r8YufixcvWN7Tfm681xLpId8InbH9jT/MFMK3PGdBkg9vf2meRXvQseJjpzUivyjswkjgOxehd9Dl5Cp+Efa7azVpWtLkFPOb+ivifv0Y5YFAxQ8EbsR0JJXOGxsxTXRIV65cHjRSwNNbTLuT5qF+6akNj5N0UR6kG4cx4dSa5nS70jn1xINP46Ot+42tlug9vR7GaCC+4fKYhh0de+M5xXNTf5WIfhlZy5PuU3ZDZ+QNBjHHiucmQVekWjytJOYxJrxYPrUxlnNE66l/ndHPf/HFF+Gll16yUWkj9WUpWSsqbXUvY7u+eg36VT4n2INKRGx+uDOyZMGCBeGBBx4I3/3uU5n7bnj44YfDqlWr7P5z/vy5UnvjZHfD4/13pX55yP5ss7ivfNtdHmZ6vEjx2HB+IQ0T8YMRVIyoY/SOj6SKx/N0pNSz7RXDLuLpHMlfNZhhRF1Tt4w6YkRZtbBqjQcvqT+2KQ9sr0rlUkuY6Xlp+OVhR6GJkanU15IlS62+Ko165LzUVSMej3GOl2px+f5Kx5zUzzDeBv2kFM+NLt92KMdUMIE0rLQO2E6/g8eR4vuKzkm/p8d9H7DtdezfU1L/1D3X6YoVK6zufX/qZ+infVSmlEXKBWH2jTfesCngiJDV8LhS5/udSscdRCYevL///nvZ527rc6O/Yhh5OOXEuhmujvwc/3R/xWOpG45Kx9kX6608DSn0pdQTa+ZRZ4wiS0njTuPgWk9/27q/oqtEfty3K58P/P7ggRwPZhA7YxvkvjAp6y/nZf3mahuJ66Pe8PP662/YvZR7qrfZkfD4qoG9x0hLfhMdOnQwEQXztIJ/T/en7WCo3/zT9mX/eCBF+mnrp0/nebbj5jcPG9Lt0RDTVL1tdBJjLYOx0MEjH8sbTqdBgyX9XOwMud6yZYutIVOcSuT4hed59u80enY1oyyIoxgP3z0t0ZUOJBTTTCfAJ3hwHrbvR5hiuDs/THmK5J2UHx8PhMHNYtGiheHOO+8054a4k6YZ0vS58/3NwKMhXuLkh8Qdd9wRNm3aZDeNmP7ox+F7Mc2pGw2j9V8Jwohpnxk2bNgQ7rnnHpt+QtorkZZtmm5Py2jLvnief4di2Jkv81d0gJ+8DVe+/jjOTZs1oniyyA/dPGxIt5tBmreY3jQ/5WlrFmOvy9ZQufwq05zyHDkd9aXe7YR+neuEH0R8FsNPv1eKu97pqRf1Tle75rM9oP3H2QxMUeWBDw8ssae+//3vhx/+8Ifh4YcfCQ899FD43ve+F3784x+HRx55JKxfvyHMnh2nzVa7jtJyT4+zv9p1N7g/OxV/7neof76Xh1ktvnTb/RX9up90v/tDjKM8nn766fD444/bj2RfEgjveXiVwyzG77if9Ljj+zzs4fzm8ZfHWytz5swxe+KZZ56xtdaxMdIwfLMYj1NpX/Yt/q2QFvb5fg/Tw0gp7q8Ufkp6nDqivT755JNWd/xWAA8v9zu07DgUXZrO6NJ9o8FPGRqXhz80HU4lfyWvI+JhVoZjhBvDjvHk8Xmc0V+eNif3V9qRMVw+Uqqly89Pw4E8rjxMjruw4/uwhxEen3jiifCjH/3IttmXhodf385nDnk+KqcLGOnGSEoeziBEMcqWcGKaop80bWmc4H5SUj8xnOjJf8MxFXnXrl0mRqaUx0MeyvvJGKSHax+DeJwebxo/FI9D+j2Nx7fj96Hnsd9/H5qXBL6zn74UAe8HP/iBOdbzzM8pT5PjxzjsflLcfzynPN14z495+EPjAL6fPHkivP322zaVn5Hb/nua+8Kdd94Vfvazn4X77rvPppTjHz+vvPKyjSZHxEvDTONI0wPp/hT/jvjI76GXX37Z7tXF0fcensdROa4YVumj4C8/zihO8ktbZyBI8TqD9FxcDL90cBQQtYfR6aTl00g6fs3HdoMn6fyI4iJL13yMjTq/MC5ciNM3GHbNEyGemiAisVZN9BMvJBoznTj+eHpBh8YPNaYRcT4j9yZPnhLjyU5rRLvJL8po4HNRkwbySj4x9EkPNzLSzfqDfrPkHD455un2H5p0PFOnTrEOEAYG+rOwT5sfpkTTcRAXZcL6GXSCuPSp/Wgh/cRP2TH0m7jpcLlZOB4u+aPM8UseSDNpO3r0aCmvwZ5wjTUto4XyonyIn3Ig3nnz5lr6KZ8siQZp8XKnfmg7GBykHSGXc8kbQjeu1rSPJ4+pyOCjAKlX2jxPeR32A3FxjqedPJN2zsWIId21rk2BH7zFzwlWjoRD2+Lai/Ua46BeCZvryesVx42Lp8SUoZcj51GO+PX1pfhO+XKcp77caNlm/SHgGNczYU+ZUumFCTleFkD6s7+2PTLcBGN+c2I+3AFpJb+UA9uUJ+kaiXh+DCMNr3b8nNJn9p/yZZo6aeG6ZL/XbzXXLEgbaaLNeJ/h1021dMTyZ6s+6SQsj4s2S1qoO3ZNnpxfw8OlqR7EoOsXPtcU61pxrTBi4O677x68Z0IaX3o9pq7ZVEqDO6e4Xe5ivtJ9tVCrv26Ea5C+gTZfXPPRy4X+2Ed3cF9BYOSlE4yI4/7IvZp7DSPjsM3wM316vlYy9xVGfNC/Hzt2NNuO95rYV08xf9yTfHosx+gPuD9xX2O/99n0837fwtZjv99T2CYeHPcizuN8/LKP65s+xuMEv3/ih3B5MQkv12C/90dAGWGvcI+hrNzWiveoSSWba6qVIfvo9+lLDh2K9gF59vhxfs35PZP7pJcNcXDM/QHlQdmQJ7dbY7gxr55WzqNO4733iOUJv9grHM/jtmCHwPleNv5JXihb7EPqmfohTOIgbtJAPNFujjZEmkcgfo5TzpQd5Xnt2tXB8mPaPtOhGWHJS0PY72XMca+z69exk88O2o7sJx6/l2ATuB1BnOyLL5w5HpYtW25hkwfqgvrCViKtlCthkp9Lly5aXRw9GtNJW/B0ZqViDn8cYz064uNHOHn3/YSBf5yXgUO6SRujhvB3+fIVa3eEQ/smPs4h7V6H7CePnl+O49L2i1/ywHVBGj3NxIcf6om2c+5cvIb+//buu8my47wP/8FmALuLjF1gFzkHIgMMABOYxUxJpORAueyf5SpX2SWXy/7PRb0AvwSXXGXJtkhZpCIzQYokSIJEDkQGFlhgkXNYLDbgdz/d88w9c+fOzJ2ZOzN3Zp4vcHbOPafD008/3f09T3efQyfBmaTNDl1X9jfeeLNcj3pUJnWk3i0q2HT4ppJf1VHlvfQpfMgGYSs17LMlDzqSZuhGGLIoY9jJCy/UhREbN24of194QRq1P3j5ZbZT25s0xOPMEY79uB621rZHeSmnuH5zrNOR+NFG2IV4nr1cUzfiSYPMvXBPf+D9gibE7SiTtr4x4niOFE7a6oAulMM5+ULPwjhcU359h3BR99JTX088sbvTF99Zxnf6OfLIzUWWyC/0Kb6yvPpqnXxs204gzv1Vh/IK+aTBVsLupB/25p58oi8UR9hONpPyUe5qW9UGok3RsffrS9eHYWKxB9SoVR/yl5dxRp0JD9KVVrUtbfCFTvg15Rn3oYceLucxTkk3+uSwRfq3Zdo9MsuLbbAv94RXVuEd+ggQlvycfPIxNpLP2ElG8gkjPtktaKF/OuMs9joyeVW5qo7UK5mUyZgaejh48FCpk+ib2HbcgyjTrl27ShuwK8HCE311rXPtt7YzdUWG2o7qc5ZyRN0Kw1kt3DPPxHj4fCk3+xTWObu79dZbSn9tgVfYJtk8I7322uuduE+V+lYn2lXouC37IOiINA7yLReQlb7YTdht1c/CY9l+7XpUwYAZuwGh92vX1SZr5/nQQw92BoBbSsMxeCMXZuavuuqqYvwRR1jv6vFuPw3MCknvyPJ+CY2cU+Paa68tq+A0rIg3TEgzGpQGzylo8EKQNFLLqHU6SD35bXOKGRSHTsmWOo4Y5SW38p5++unN1VdfXWZ1lVknc8cdtlrfUvJRTuU3A2z7ibyOOmpr87nPfX580JwtdEreNYjoqSsd0hlnnNH8wR98paRPfcrquo5dOZGZ8847r8hnEFJW5TNTRPc6bVgI3QekrfO2jPyuu+4spItuzjnnnKJDdkB+ckfHqXw6eZ29wcTAIR0djBWTVgrolNv2tlCI+iS/jk5+6tCs/vnnnz+m++7skw6RrfziF78os6fig8GKzGzswgsv6FypTtZBIF1h1avVMQZldsgeH3nk4TKY042VIdpufISITjl9f/vbe0s8bZt8HuDOOuus5oorrij6F1YdsXNlZSv0z+a0WzZD1+yZk0XcqVEdiCDd2aHrfOyNq/weptiPcpAPKTvttFM79nDFOBnoRSdF/8xBli7acSMPemSn9IsYqxOkRn9Gp+73R1c/bCdsfiGg3ahL/Rxb0XZ8RVP9B4mLsg1qi7NFTb62C/XFweKvPpSe2K2xhn311hH7dcwkm3j0OFUdix9yDAseIL///R+Udx4bO7761a+O22DIG7JPJxcstB2AvMjD/vrpoVeWuq2qW5Zahnrejt/WfYRNdKHdTfW167ALvOsb3/hGGa+vu+66smqMQzvud3Xf1XvAxMeuXY+VdmWsxFmkf8opOzt992XNueee02ljR5WHNw/vwh1xhEmzw8pv3MAEpr4BVyGLsc5YY5zT3zvIbty2GkM+4vgdnFGeymZMOffcc8f5I86hXHiUhz/6sGrznHPOLeniUOAB0/ijDekrpHvcccd2dPHR8mB2002/6vRZmwpnsKJKH2JME4eTSf7SfPe73114kb7Yg6Z08AhlFY6jgm49NBuH61i5ppQJV63ybS6y6tPpXnnkizdKl268Wke6OAFwyuDB9Bi8aiZIm/7xUjtljB24Df6Av+EOHAb4s/GObPpNHCLyoWM8/P777yt1u3v3E+U3/ZP3fe+zXf+U5lvf+lanfDd14r67rKqlG32XOuTsli49k0fZ1Bkn2OWXX9ZJ64jihCCjMsfKHzbBZnB6eiCXFaoWFtxww4+LrrwuAH/AhZTTg7s88Vi2IYyyqDf8ggxhV+wwOLrxgYzsLnisflecNp+mU2Wjr7vvvqtzvr+MddogGdkX3obDsFv24zp9KS9urC7lxw7ZAdvFi+QLbEZd4VrqRzhlI6vyaGucFeqPfV966SXFph5++JESRhulO2Vmh8pCh3/1V39V8tH+gU1KQz3bcaO8p5+u/6hbY9WzfNS7cR5fU1Z6kq76V16OI/UhLXLoi3CXK664vCPDe0o8q8vYkA8gyc9zg2cE+uVs+rM/+7NiA9qCOlI/yqF8wtGpeNK2XRT3UA72oW3bKk03eCtbYOPqCifWD4hPr/3GQTpjq+Jpx/olZfQMQSfqUjugw3AQcTqbJNfW1VPIp66ko60/+OADHTmrU4u+tD22QN7bb7+t08c8X+yNDsJG1bcvSAvzwAMPlnL64Ip+j+2o17Vr6/NYoPbfvhL9dLE35WF77JzdXXTRhSX+ySfvKLaj/enbTjzxhDIGa2/6O3UnnDZFB9IVXrnZgHS1X+WkG7Ipq/J97nOfKzak7qCKVMds8b1jWPr6hnbffuedd3RkvrvUvbjvetfFxXbuvvueUpd/+Id/WNKFPXv0tbeXPMmhXWrv6pf+cD3lVjbt/6STthc+71yfSrf6WfUg/29+85vlnjrXv6tzedGztqqPZFcXXnhh0WP0F9qrOjEOGJMuueRdRY/CGzs+9alPFVmAnGxG36a96MPogW7phlzqzHZrYfQB5JC2PkB94NR0In/yaC/kH/cVXHN16VPWrV1X2oy6ogP6lQeZPvShD5V68jz361/XD8yRTR7k8eoVdmyhk/rw3QQctLahU4ttCqvuB0N/PrFcoNz6ebr0tesdO3bOouzzQ658HDI0FsauEelADb5tRGO0DdNMj4rXyBw6GJ1d24mokTzxxJNlIDITodHpDM0kmWUzQPitcWqk0h822mkaYHU+3/72twuh4GwxGCqvmQadonIbaMTTqWvgXsSr89fBuC8eomEg12kYMA1oHEDyENdAYRAVXhiNwteYzjqrktd+A+xMkId0yUUGnbKtCNdd9/4J5AsMFAZHA7aBhaw6b2WldwOsQd8gEw+OCwlOI7ZlFoz8Biegazpqy2DmnU15+bEvftIXIhSkFejc4Ntro4GwwWGUS570p26VgWz0h/AgXpFH/GVH3gNH9+rFoLNt24nlnP4NkmecceZAskU5/HWoV6QJUUSmkc8g60irgZKdqtfIj0P8L//yL8ugiQgalJ0b0DnOdu7cUQZiaUhfm3RIyzWDvfQMgHSuvqTRxkR9V8fhIOWbjMlxOUHeftvKnpeL3dCrNqkN6lPYkD6EHshRo3bjd1KboyxdRHzphz0gDuqCLD/96U9LH6EfU9/sGdH0om8PvN2jvrTdQXbpseHe9jsseED04IrM/vznPyukRX+g75av1dvyjvY3Xz1NB2XVftipdl3Je3V+yD/00O4L2KE+zyoFOmOvdFj16K9rVsHsLXGkIX4vanpRtuGQLv2BceOxx3aVhwZO+nZ/FDZrrNEnsIWQOQ6/2RLd6J/7yT4McDrSs37LCqCqw7Yc1TYd7JscwpNdX9ENX8MIr0xsGDzwLpTsyx10z0bVsz7UAwY7b7c1Nq4v0Z978MKljHu1P6vtsnM6joirfesTcRrtSXsxvvjrwZhtbtp0eBk7pSWsh6jbb7+j9AugL9AnaIvsmcODHMJzaOjHjA/SkK9JNQ5IabmnfPpedqFtcz4YH4wZ5PPAhkexF44Ar4x5/vkXykMWXnDCCSeWsuqjpOvhkUOF/R133PFl7Ke7G2/8RbnmAVF++hAcQb7k0x7pURvEucLh9A//8A+lzMokH+WVvnJKx3sJ6cy73WzXu7PzoKkMtR0cVs45d+mD/MKS1Qdi6Ee7xcM4KuhC3uSJeuuFdCDuK5uxTJoevj3UaqfGeA/F6gZnIqs6I7syqA+25B7b+bu/+9syySh9YfU3jz++u9Q/TqBulcX4JA9tl77p7Mwzzyh6YJd0TBZcmTz0LU0y0qX6Ec5Y9+qrrxQ7w0VBWIc6+dGPbihlkxedsRf5cWrKU5rsg0zGTmniJ7iysTU+MKQPUm/0rD7l74j8yChugE7pR9hf/eqX5UFe+q7j0M7pgsxk0ZfRV63nXeVcPdv+Tk42xn7IWq8fWTggxya51Le+z0OwxQHakfKzPzbHRrSBe+75bcmTDA7h1MGxx+Kyx5WwHBfskoz63bAROuAYtPpTXap3tiY8p5F2x+bULTn9Jrt2iCsrI9m8w1D65NdOOGbsQPrJT/6p8Cr9BrnJpb2qY+VznY15dnDPb2WWLscMWYJbype+9A0cTvJnT66RV9nYLD1qs+rSO/ToUtn8baNT/E75nyu6s8qLXGRUXnxUmZ27rx+UV/AwcqlrtqC9sBV1I5w+af/+AyU/5dC2LBA5cKAuHnCoE7ZLVrJJ0zhIX/QhffeE1cfLw9G7Myhsj3NKvtLFW/WR9ME+TIq4BnT6ne98p8hO33RN5+zToU4c6lAYNvDTn/5TJ+xrxTZwZn1WPBOQSV3QV4zT9Nr5t8jGHuRHLk499ajf0QbZvzTCMfzYY48Xedmka8Yr6dLft771N6Wf0IZ27Di5tFk2o52pIzaizjne+AX0CfoI4fQ7wkZexkr5+O2IPsc9elIf+ihpKTMnO9sjh7/VRraUe1ZkG2s4RumbAz3Ko92zTXZo3PUsQR79k4PelZXeY5WhNOnIcx2nl/Lqr03wkNUzEltjE2z+xU5ffNaZZxWZ1K1nBmVje3b/KLfysSV1oD7kqZ3U59x1nb7urE49Ht+R877mb//2b0uc448/odhVODHj2SzqeDp0go/bgLjlrF5YFog2ZayM/kC9LQbS+ThkIFs6AI2LEbcfpAIqXGccnZ+OUUPXKevcIk4YhmXBPPhPPvlEc9ll9b02Zqo0fA1GIzMjpVOCaAQQDcHfduOYa0NRLh2Bzkrn9YUvfKHM+HIgafAauw7s7LPPKgOBB16dhIGPzJ/+9KdLxywugye/hu63TsS5tHT07knLLM77339dKaNOTaelk5mt7CBeDLbi6zTN2JsRiTRDPzp0nZwDwTAbbXZS54qYGbA01vPOM4u5sA488eXh5cAcnvLVceowkEd1T/6AwR9hM7CQwbtjzAp5CDFoILNsj377dbIhb/yVxlzLIB7ZYuD0F/kxwJkppdt2fvJCRNiNQfYzn/l088EPfqjMzJGfI0/9GWQGQTtt0D7ZsIHQ4Kvu1S09GvTojT3GqlADLfKAfLFfHy+4qGPDx3ce6rRbRFRb5EgV3nkQbDauPGZMzTSynVNOPaXUY2zVDpAvZJwvQo9ItMFbWT1Ye9cK4ka/CLPZVDat30FKevPv/T1bO6jhndW+TB8hb22Ks9HhAQLoxmw0IsYukcy/+7u/K/IiY7fc4ril/PX75pt/UwiZdLVpfWrXluvKyMh7PmC75GErHvKRZVtCyO2wbQi5Eg6B8ncm4jJbPQbEYWPKa8bbQ7H69dCAJFtNgDxDyBNt6cc//kmxgarHelS93lIe+oTTByN88ugvX4wt89NpoDofHyr2qc2F81HeJt6MJ+qf/NUObhu3BX/jt75YWY0b+sQ26DqO+dgDWY3DHjB+3HnIvP2O28fzjyN06UuRdImM6zs4rTlBenWvPoRRXv2xOInJ0Ob6OR+B7ty3hYrucTCrF/CIXluo9lvrP+IZizgNOEL0QZ/61CfL+9YuvPCiQsRtWZPvySef1OkH6qokdeah5tpr39d88pOfKv2nfI0F+oKrrrqyw9M+VfgayINdx7ig/7PLQzuWl/EHzzEuS1d7gHBG6NucGy+t3LD9j62YmGaXxirt1sOYtE1OX3XV1WXc16fKV1tyj97Iq/zsT98hb7xS+vgBPXiox0310ewa9/K+TDxCOOMFx6xJcGGVBVdl56+/9npZwSi8VS3CGluVDS8+/IjDm1tvu7W5/766Uqa+l/O94+M7edVdba+1rupRfwfiunFF2Y3d+IQ05Ke87Ea68ohVaDEZQG56VaccoeSnC2HJf/75FxTd0om+RX+Pl0qD3Piw8hpn2Zyy0a8VYw8++FDhaPRGn+JxBOpnjXH0zX7Iyg7JYCzzW9rhYNCv4T7snjMDdxGO3VhhhU97+LZzIOIbr3C/mHhWZ95Fh4NrF1b7cIBYFUtuZZNPgE7Zc9g6rkZm9UkvwoaTAy+3Copu2TZOpDw4GrtVBxwT7JO84suT7h955NESfvt2D/xbi86EJz/bJbM2of2QV3u0OokcVlepQ+3+qKMqL1YP+mh2oC60KwcbVGdWJKpDtkUP5CebZyjls8rQGKS+2BTORxfSxvnpU1h1Kl3lYVvqSh+in/A8RG7pqAsHTuie+PLUfpSPLsglTbZkDGCP2h0HoL4ER6M747u6B+X5VKd/kRfbICPbIAdnzjHHTNwZ5n5wGH0Y/ZBbveGl8tVOOAPpT57k03+xffGNsXSgfeG1N97483KdHdIbO1RXdEdfbIr82rz0tCnlVu/6SboQnwx06R5dqRfPCOQ3ZrchfPSj9HvxxRd12spZJbwyqX/6VFZ5WLDDDtQHnq/M0tQWxbECFlfTx+kL8bvPf/7zJawV78YZdcPO6Ggq5yOwY84z7U0fwlZxFiulbTnX3ulJG1Sf+iB9Mttge/7iCtq8NkX/V155VdG/to8P0z/bA7agjOxFWPWgDtgAmbVFtqEviXIISwZ9rfZJ1nvuubtTt4+U8lk9es45Z5cxR32Lq60pz6md5xbPoMqpr1WPbEE5H3jg/o693lHqjE1Lq21/6kyaJs3wU22LHNdf/+FOfueOjSWPlT5Y/bCHKE+0B/2Csgurb/ObHXzpS18q/ai+mu2Rif3FmKMfU6d2tHlG0/bxBLbOXv/gD/6gtAG2R+8cvoPyMPYY9e+8/l4+IK8xYymcjzO7dlcsug8k7WOxwLh1YhqpRtke+CciSNdhZYDVQZ9//nmlcWloGqYO18DWi4jnaP+Oco5dnhXEkQZDJYNG669GSx7XdU4+6V/JS32XkAHAAGRgca5DFVdnimjr3HVWOlkDpDBmTZEXnfK2bdvHHv4rSYoyzRbi6YilQ//krWUaC9BBrx3oOMlL9zG46qikhUgiWl2ddhNyHscwUPWzpchOF9XZMjntyE54g2TYthVatooZnNUZPUxld706mA+kRQ6EgM7JHo7DkK0XZNcJ0q33iYDyimsA8nc2eqWnbvDq+GFrVisgFOxS3apXOjE4sk0dM4KAhLJJNnvaaac3J5908viDEhiokcewYeRCPdE3+4mHHHIfc/Qxxe6mwlQ6mS3IY4C27eIb3/hGIVf6CoSEQ9egjRDaEkZWsgfCbtuyzEamiBfp6AvCifv1r3+9zAZrO3SC6JHls5/9bCHTyINBkINWXdNx9zinEAiTG87VGd2yFfl084622K73uYHtIjLaPVm/+MUvNl/4whc7BO49pe/2EPaP//gPzZ//+Z+XlRFIJbsNeQKhi8Bs9BkQ3diBOHoIo7Pf+73fK+SarqwC9ID7f//v/y0rE3bterRjz3U1DCJZ9dbWZz3oVL9QSf/UtKCKPH+dBujDu37qUd+vFTApZIuo+g07UAf1mCi79muc0Nb66T3+zkHl49Av6DPldU7H9s4+a6IO2/IYrzxw6Aeq7CF3PSKsczbMCTA1BxhtRFuPYymgbumPDdUx4+AkWap89ZxJ+K0/5GDx4GNb9dVXX9NccsmlnTo5s4wLtm9rN5wftuLiWeLpv133qgrjQPAfK7DY4UUXXdzhC5eUvtbBbowpHgyjb7ANV9zY6sVucCQPXWzemBOTV9LUPuWr39TnkMmDPZn8laZDGzj99DOKM8hDo/7U2BkQBrTzGGM5lzyoGZfZo7ykwyHBWSOOh2ZOD3Iqrwc+8nNkkSc4KBnxWk5SOmTnuJM+yzggzUOdMf3wTYeXdHE/ZVF/2pb2Ygx1T33VI+qy9j1jRZgA4eMIOKc7cpNB2nSN/5DFQ61xkk45b4zP7373NSWs+uQUYAPKrN+NtCfmU2XzMy7FfQeb9Le+X+ypkocHdHmceuppxVb8lkfUx1gq42mUX2Pn9EunZCNj2J8xnB3gLVZT4iTK6AGejQnDZtkEu1VHVpdVbhRl6cIlelcv4ewJzoMP69vUk3pmt8GR8SROJ6vbrDLE79lGPNjSt8O5spCTM8jWbnJIkw2Sm7zkjnGeDYUcDuU3dqhHbbnKfVinrjZ2ynlVcbKQi25xN4fyaFsmodU7p4xyGuP9dZ3etAW6xFvYp3px/+gOf6P7cI6oT/mxD+GN/95nqc3L1315ksv4Rm/aRdRHODulrxzyZjOOKE/UD53RBZu8uGM32ov+RTmNOfJWJnIEyOxQHnavLsmKu4jPDqTruU0/KCye7q8deuTRf+hTOaK1X+VhO57zLDBhd+xPnRSO22lzJkfVmXxjDGcb8pafg52QV98Yz4WhL/lHuSH0QH8cRPovky8ccFH/7Cz6aGE9c9At+1QX2j57ZYvqlPzKzR7YIvtQt3SsbvR56of8UR8zIeTU10uXbrQL7U6a9IDnyke6wlpl6dUfHL/qTt1EGtoKnbEdtkheZVVG9cIGlY/MbIEO6Va/SmZ17lAPyh02wN5rmaqOpYezWIWondEHOYwflRseVerYzkPxOCDJp+6MjcqpfOxJ/UWaDr/ZlGcntiFt9mGrs/pk+ybBjCNkJJsySl9engXYHQe8+jU20Ye26vmsk0WpX/lLr9pI5bN0pzyc1NqkuA7p1smLp0taUTeesel+UEQZRwVVltGRZyqsYufjZOOahb0NHVMZcHRkGocGqRHp9F3TgLds2Vwatobfi97yRFqBubYXjVZHZpAggzR1dhq6Rr2304kasAxWSK1twjqe6MAjvAdiMAgEcQ0ZHb06cQ366WlwdB0igzZQZTSbGJ01fSt/KWtnYCDOVLJFXnF/GIi0pkqSCOxFJ2+gIbMZuL/5m79tfvCDHxaHFJ2ro6nQljuOuSLqcaJu+tu7a/JiS4jCkZuPLLNcHCkcV1YLeSBjW3OFbOVRSdEJpV5BvRpsDVbSpx+DolVMBkE2TC66FV841xAc+jQQ9pYpfsb10GNPsHG474h2Mh8gdog9pyOCpnzICeL6nve8t0PK6gOEdx/Jq+q+K2OvLHHMHtX5aJC3SsQMLrKoL7N6ARFDzhAiuiQn3SLGSDV5HWYu4/CaBH/dRxrUJTkDE+Wdq9xdiE8utkKueCgNAmlld6zQ9OA3nX1OlG32EI8Ncl4g7OrUw6sHTLpA2qwINYPugZoDT1uiZ3oLfbb1ylGBZEtvqhW5bZmnst/ZQnrGAvWtP6VjYIvqk7497Cpfu/7f//4PlL9RBg8J+jpp9UIebRueK2LM8oDiwbPqbqJdOmIlMaLugcBDh/Duxd84/GbDnEXGmZWA3j5wMaBerQLmuNDX6F96OdHE+q/nwuq7o3/34OSBzj22qA49xChTfVg13teHKffE0Rb9Fs9rYYy77NY1Nk0mthNjSkCfpb3FAxEblYZ+0TWcyJjiYdQDlpVCVgD/7Gc/Lf2oh7V46O46rKqdSpet6k+7Ze5CGcjFWeChjdPCqnireq1okjadOOQRskZ6ymybq614nEa20pFTuvJvj5XKJZ40yEkH2jungAdl8YxRxngyeKjtOhB66w2cTy5TL8SXv3KSR56gnZHHPXVCf/TsL70bE4Uht3pRl8rUq0fp12PswgS5uvxVPH+tuos8yBNpshNjSHViTb3iRhogvLGSnYXtWc2mnByJwuHcnMnus9M2b1E213AdcafWZU2LHsgbepEGOeUnDbL7LZxrbNhrf/AP9vNCxzbol2PLSjTbW9W1LaNkVP+27oauxJdX2Jo6YDvK4LpyR3tp12O7DRjzOHaFFc4hDTpWn9oxmdi2vxw6VhqaFP3ud79bZGSH0Yf4G2M6OYw10qY/aVtpyAGkXjgzvTLoO9/5dmmzHKu2q4Lw6p8zJcpALqs+lTXasvN+EIcOHM5B+dWBOqp29vqEfqai6racdcI42vDKA3pQH5w8VsMpw3e/+71On/O98sygPtUV+egR71D/uKUw6hTnoEu6MnlYUfOSf8hATziJ3Te4in7HLpeJ8SfrQLlwGl/Q/uEPf1TsSb2Fg9t98oUtsUey1rZhMrM61LS9qFOvoWGn6lVfH/2/g3xkVWd+9+ptOtAXmawW1HeqZzIAuzXWRBus9VY/ZMYmOXn1hexQn69/pHsyeBUNO3FOVmmHzNKSD9tgc9PZUi+ibMI7um1K/JoGuY1PODC7Due9gx3iO9pXO89ILw720K4jUJ6wPZOBViUqN7swmf7oo7tKnXGGi2fc4Lwn4y9+cWOxHfbHlrpjR007yhW6J6d33Nd3Px4sq17F/9GPflj0Tv8RZ1BEXqODUZNnMlax87Ffo1j8CotGGEc/kA2piI4z4LoHRY1KIwp0y1M7azMTBtvomOcL+Znp08kEqiyV3JjVBuWJDl5nGIMlCBcET8fTO1hWvdQ0evUSZZsLogOq6ZbTKSGMvHR6HvQrUeuW1dHWZ1tW15W9vYKuE6Lcmzsm2snYn75QTgTFQ3nM9upYOUgMaP7q5Hv1DtInM5tRBmWZj84DIXeUw9+pkkUEyH3t+64tdoK4GoDrO4x+Mj5DO1e5xGOPBlP1276mXqUdBx2pvyDYAVkLT7f05WijnUYc08F9JNCL5hGXfnUzKKRFLgQZeULA/Ea0zJ4iDgb6qF+ougx9vlPKHHbgrzQH0XeUtX2IR9fksMXKxxKUEXlBJj38aivRj/lrewY5zR5PdSgL0qIPiXwc0f5sfxueDdPJgQ5Rfb04A8z2IsrqDElFyuoqgvqAFiAX+eoXQ/eWc5iPONJkH+pG+ekBAUSiEVFyODhDPAiaBBKmV390X/VYP3YgfthDQD7qSv04n78eu9B+9FNmnD0Qa3sBZWR33rsWsmv33aP+dl1fhjSG/QTCDmp7qjYyV0jbAxo9y5fuQoY4Qqf0LU9tLMLbEt8b1l/hrRKaT3tfSkSbax9LAQ+YsWKPTvUt7KdXNvWo3aif6DP8DdvwOxDnbbupcaoTS17da5UruN7mCsYMf9liO51Ab37t3+JYnWFFDEeG/obTT3vR34RTKSB9eXsANV6104Lyu/O/lTactRwAVr/jCficduaB3lbBuqKkyhvla6cX5+61i6W8bR2AazF2Cu/cg6ptq5zw+ioP3sZ421fVX+2HJsof8gwKMsYY3ZY95HGtyt8dp3rzdK0dF3rl6O0z/W7z2ogvWs2n/JyA3jz6IeKqW+USJ+RmB+3fDvlrA739oj7R9alssqLbJuTFtqUJ/rpGDtejbiNf0ca/Zdr5I//QUaTBRkyWmYBky8HDlMO9tl2DOhQmyg1tmwpZx25NiYnlrY6Q0I+4cR930j442bSzgDJrX+SJsPoebcgWVU4NHIDDxJZu7daXtoUNvdUVp1X2aou1rJHeRBknot+90DtMHbWbdqTRjVfjhi7a36EVVPlNqFlB7BmUM0692Tpru6vwni84jDgDTdgHxO+VmcPMpNv114t/fsnXNmIOT32dcbYdZ6xoZZUlB+Utt9xcwuCTJifPOMN23LpaGiI8XbMlz8/gPrui864eapsJ+2yjXS/d8LNDV8e9qGnFvUif/v3tlqVyZ3bIwW1reGnrnTKxwXZ7gGpPEz/WIz3l6yd/+5pxof6t13rDy9d7bS+44PyifysR1bsxik0Yf7XRiNeWy7V6xPnYjTHE/VoPEbZOIHGum1w/66yzS1szYWYXkslbzzfyN5nBfkyc9XKpXv3Y2aCt2t6Nd3r++PnPbyyOSJxsNjxXOHKSeRQwUe6qw1FE90l6iAijScyMMBR/NYr27zivuqwOyN4BeSqIaruqB1PvN9CxI+MIUTuPuUA0s1rkbaM3Pb91jMIhOvHQDcoUv4VpE1UQV3LRYc5N5q4Ndu2xm04c9Vo33XYWEaZdN9KKoxfCkNnsiyXkVijY+ujBvU/wWaIrM1uo8ky2m/hrwDKwe7jwXhWrhwwOiL0HDNupPIT1Ql2ZSbRCzco5D9DzAVkcIWf92z38jnAB9mB2+SMfub7IbtWW2Tb2/NOf1venzeZhvVf3ndprydLNNxD16144+OmlXedOyeCohHLq935GWuBvvzzNVHrnlMHcDJ4HzX6EaBBIXv1bUeh9MAZuhBkh9rED24MNtIgiJwinU7tsyKR6N6vNDthD2Eof0Seglm9iOITEA7N3T33oQx8udYkwqEczvEiD2U4vz67blt4oD8IeRn/5y18UmePwXh2Hcy9/J1tbfn/9rjZ81/iWwHYdzAbieVjzMK4f1XbIS39+79v3duMdbN4Hqnycaewl5EEmxb3jDl8RrC+xr31f1dNsIElx6S5WtYb+rBDmQETIPdB7MLDN2pcokUQPQVV/3aOtU6SfnO125ZwjTV+hrF5qz5k5LHgw4ITQN1kJ1QbbR3C9j0g5yUn3cZjxDtnZUd26150AEJ9Dkk1ZuWGLFhuOepktpG3bpDbTzrt9xDX6YseIrHqpMlf5I4xzhJndc2K2ZU/MHh6QY9ufvoNNGOvUeX2grquxvDtbHWoTxmUrhjzQcH5xYrsG2hnOxK60Z86IcOgxoX79eP8+pssXwvYE0SfJj53EBIl+K5zRHqb14cY8/bC24AHUA5NVt5wBsfoq8vTXdkSvWpgsB3Ty7/yvfyeL8lhFIk08gbPFVkTvuZSv+5wN5OJEj35Uv6CvcE3frs/TliOP/nlPBDl9TVxZjPGcGcpi/JMufTjUh3YczuJSgCFBenSl/o3f6sJXjU0UsRn1Im82RJZe4ONkjnBshp0ZO6VFZvGoIxxW7MyHdaI82j1dytfE40ygAvpt67jqpd4DdqNO1FNMztCjvMjGxvTr7b6+F5FW5NWbZ/yWd+Qf8FubMREW7Qv3VMdeEeLB31jJYceBwAkZzkdo59NGXG/fj/zjYNt0q++NMrqu/dCD8tMPZ7vJObJpR77ajpuwRW0B57zmmquLM5GDQnk6uRW7jeewKL86Zv/aT7Ql7SomDuTZlb0egZBb2vVvvdYP6k+ZjPNhP/LGKaw+lofytPuECue1voKbSMshvvKIx4FEL8Zi9aIceARdWMFvVT9diS8sZ5gwHEH4HcePVZMmjuXlkD67rm0jnFuHOukc3fhSOHugM5xQuzde05v2pwi1HLUse/Y81em37y19lLzlSyYOUNuCu2WOv9XZ1P4N3XB13FB29hHjRchp4rNO1L9crk1VL70Qju3TpXKzu+AeDnkZW+ySYZ/k0T/QLVk4VHE4uqUfZdRWvErAivbyrNERRbx2WaCfjMK4rr71Vf3CQFyONCN86MN144HXyFiAhFcZZ5XR81p7ArmdR5yHvNUm6gpO99gre1J2jkbvGmV3nl3UsX6D/WmLdCoNTsfrrru29CX+0rd3T+L90q31Xvm3vKIfkDcZ6VEf5N3M7Ft4tqe/nK5f7EWUrVXccbR1sBRY4uynxUTv0ZCx1IofdWjf4USKYzqd9d4THvrHqTP8GpKvR/393/9dIXUGrIg3F8hqkGolkwauIzEoI1wGzZDVCiKdr45Ah6vjDZBPZ2TWSaeBNLU7g0HF75Wzt9x+t49Abzwyx9FGb7wAWZFJ26P+6q/+qvnVr24q5Y8OfBBMlXYX9V6EaYdtn9O9hzEPLR/84AfLYIboqQuDKnuAyM9B33Wb9t8UB8uePU+Oh5kLIt0upk6nHZb9+FInEmfwJbv3m5CP48UqMnUyk1zdeuuWMZ5f2vnFuSPiGJDYJrLqYQJpCFtgm+qVPEGw22mRnx1rhx7aDIhTQXq2Stnq893v2sLyj8WBIU6k2S3HIKj5IwO20xrIkWpOSNfYZ6yC5biiz2hj8nOOMKl/X+fkuFL+iun1DV3nclcfQWqRqk996neKPZrBVEYOTtvqHRwDHuT0CwiN98Qgtt4943Bej/piaeHiwYWO6Fu9kNkX7Th4ou+ZnQ4rant+ppPerzvp2Z5xQ3EGIIAeNqzeCQc5R1psgQkon7rUnqwMcB7tbrbikJ8NcgTSlS1inFucA3ShnSBjCBvnBELOgXDiiSeM6fK0sh2te5xarnn3Tu/WICAn2+Cs/vu///sO2by7U57hrH6URDgu2IHVTwHpO9zXtkL2iUfXLjzYIsVsPuKrNw8znLOxpYtdePBpiz+oTUjbw6q8bJNmf5NlqocvKh5+eHXcCD/xftW5g/zqgA1Lf642OjcsZl4LhyiDvlb784DiXD9Sv07ri/D3d44Hiw18//s/KH0a57uHXHavDrQh9706QT/MacBB7KMqbFA9eg81vRnLe3UX13rvcYbEtTg6FloeRj3scD5rz/KUt9VS3pWnfZJN3Ogv2IhDXA4I/Vo8LEfeJp3DudiG3/VeXd3EuaiM9MMhy6liDNPmhNUPeCA0/mpPdKOv4bT10Ek3Dzz4QHNCp2+JV19A5NGG9OKQN5mV1/ZJfalrnAD6zggPxoF4hQS+0juGRpoB+Ubersfvdhho38MzPYhafceJ48vOJoqU04O18cMEljroTU/fqu0a3+lSPfpatgl/zq/qcBC+fjzIYRxV58IoO10aqzh8TRQF5BEHqIO23G054jo9OldvHBjqk40Zx+Whrm+44UdFTroVZzpEuv5GXhDX2zIE/CYHqFN9nLFfW+OEi/B+cxTQa/R94jnacrkeR+dXvTiGkCHkcDindzZjksdzj7r0W58AZCKb9sWJQbccwuKxfzIYO3AgPE9/Im227aiyVDj3JV661T7YkDToXrmiLDW+8pG3n84m12eUi3wxpnmmM4EV9oM7KeczzzxbxtK6+6K/I1ebxlukqWzsWrtSRnGNsxC7IIQns98mdMjjmt/KKu9w5tKnvKJsyh665NR76KEHS151guWJsXZ2R3HsRXx6jnJXBCevvzjDtBHyS58s0sNRtKuwHfdDh/4G4lr7CJ5p0oA8dbx4oNiMZzdljK/wt1Q5CZEnGfxVJul6BtPe8G19njpTX74a7XU9lXfXLdQWiwivX9c+I11lq5Pob4yXO/Jz9IKs7euxMMLKUemoy2j/wvWGjzzCRtic9iqcOtVm9C/V2XxPCW8MNQa07Q3av9WvcqpHcekiuDk+ZPw2LrEvehHe85X82RDdkIEe6fO+++4v4fCs6pSs73yWHpmUO54X5UWP7FV8/TpeAOKrr9DrXDCx3BNtbqlQ2840RruEWJCvXUeBR7XQCwkNwcOhQczAFo0+DJBOhDHg6vB1vPff/0DpDDgFNED3NSANATREA6hGxFOvgUtPPoiFDkKnFStHQu+Img70G9/4RmngOgcdhkbWlmc2UC55aswcWvIFHa4OwnUdhOX5BhMdgIaufDoSOgEd2ve+993SmZrR8BAfugKyK7MOih4MEP7qtIQbxL763ad3ZTBgkckgQxe2+ErbIR+HMPSHRCoP/SmDshpEkUYdnlU7E2WvL6n2ropf/vJX5cEFgTe408dsoRxkJBvZ2Q3nURAphFbnGYMeGelPGB02YqzODRrO6RVB8hDsvX9hTyAvg8wPfviD5jc3/6ZZ15HXEnVlnw/YNPslv7zpnXzskd23bT5kQObVF9061Ad7QFjp0scBkP+ZIL22LWg3999/XxmEDHbaHJ3Rr7omG516sTIbdp0eXedMp+twKCEqVqlcc827i2M08qFPZSXrI488XAZcdQDqSbheWyAXomNQRHw5V7Tptm21yzE1uoMdfSqbOvZAgjQorwdp8pCRrt1Xx5GX8tG1hxb2EsRI+ecKspNFnWk30d+pA+2bztQJO0CgPdC6Hy+X73doV9UpcOS4PsU3sWF1mpWRrnPEccLTR2BQXZq1t2qOPZJPWmZiHc7lzyb0e+30QR50jKj7kp82ILyHn7CH2YCOwmmgv9WfXnnlFWULk68z0qU6kjZdy1+7F44+++kwDjLFZFHoRn/h4d/DDvKmXXDutG1yPtCmpYv0e5eRLT1RjyE7mZSLjGwwjrbsnJfKyLZCdu320UcfKQ/bVkvoM2zP8sGAdtuL8DNBHHbrgYLdWe3aliEO94TR3vT9YcMTZe6WQ3jtUhtryzKoXPPFYuUzH2jT2h579FBPt+06rH1efRedVyB4z5bxhe16ODKOs7F4AFRmDmT9q36B7j2M4TbiaF8cgX6zyVhpKE+rVD1Iq1v1p+8xfsUYoW1Ef6O94gLyBHbKDuXhuvQ8EImn75endLRFEwjCk1VZcCtt3vZ9nDFWdklDfvpMfbVwYaPtPkZ+8iCfe+vXc9DeViZT6IaM4uMXyqWda1NsXjulC/cdnHLGUO8afP917y+rkNQL2ZVNu8UPlRXoVhmN/Zx80pVfvMdZmuLRhbaub6U/4ycHsrFI+Rz6tTboR7+qjoWnO/UqLWmyHV9x9UEO0B/LD4cjBx3rY9gOri0dZWUDHFb06b426p460IeLp+71M77YTx9WaZOVrpUVf7ngAl+QPafYrPFBXbJJ5Rfn7rvvKeM9HSmb8ksbH8AvXKNL+g1+In9pstsY71ynBzyErOqeXUr73k7/J09lsvuBXTqMwWzH33Z7olMcgI70z2vWrmkuOP+CUp/ueeagW2X3xWF6VDZcQj7Kohz6PhyKHtQNvbZtndw+PKE8ykknwqlnNhr6FYdO9d3KLU0Im9UW9at0oYzCKv/zzz9X5LnttltLfmzisssuLROf8ggHYdiKfBzC+k1H7FX6ysaBy5msbYgvrjzF97oABxshk3ToyrOD5xvlEF94soqvLbqu/ZGZHnBi9aiN4R5XXHFlqR+OEl8H93zBASd9ZdWn0as6MPmoPpVL3gHlgNpWPNdU+diGZ1Af2SCPNoBfkF+90y9dyEe7UZ9kMRlr0hpXpV/htRP2SAblo386e/BBjrz7S9/ALnA9/Za4P/vZz0sbcF8a6tXzYLvvIjPx/WXP2qg2yDZNDInn3HX2wj58+Is86pA+tSeygTJ7dqJ7O4OUR7mDi3iuoxt1oi0rg3zZPt3qC4LnVRXX57Nnnnm67G6QllWKyilPtk8WNq+epOv5l83IU7h4d7g+Isah6IdidaF6wdHZiDrUb2g/ZIpnUzpSBnHl7bk22hBd+Jq8ejAJi+cpu/oTx0d86E5/L7y6F0c/RrfqQ3h6E1e59I/+6nPYeTynTwXPPsZwNkW35NfPaF/sz7hBV2yGjkzk4M5sX/7GJfnTZeyWIjtd6DfI73lcWqBOlEG/GfbpI6DiGHvEJ4f0lBFHVnfRtgdBu51VW+22tThGFWRTJ8quTrU/dbAYWBDn42qGTgpp0FEbDDSUQFS0jtdDPecU4/eJeo0DudaJ6px0NDoiHZmVZ7YPShchtR2HfQv/29/eUzpiHZAOH8L4bR2xzc8MNYOy+knjci7MbBpFhNdZ6uwdCJEDlFsjdl2j1ekxZB2iMuvwNXgdgDAeZl2zvNqDM6Ip/cjHXwOwMHQjrk5Sh6Sj1YlM18n1Qlgr5cxkhd516Dp39UHfBiQdM53rRJVVXchbecI5o6wGvZtvvqV0iAZbOg192oYpHZ0moomYO6Q5qM5764csBkSreNgOMmVQMjCQH/klJ13rOHXoyqaD5oSx6kNZ6F09KYtOFplQpsgLMSLzTR09PbXnqY69nNWpn/d0Bl5Op2pXswWZ6MMqO7LTcxBENk1uv+nVIESX2oGVYgYpA6nBgT4NiIiV1XPsfRAbiLLRKRjcreCiN45VbYKdGnDZJ716LyHSguySRz5sUR3Q3113Ic+3lTZ48cXvKvKoX4i6E8eDnLJwgngwER/pYDe+cBsQR1rahjAGAqsUkbAo46C20wk59reLkEdZ6A/RQaqDzHhYIT89AF0YzOlfO9TOEW5OtvlAEVQDedgdPejnOLU8NJKF/eo7XXcfeZrqcL9tv/6yNzpnL2as1S9ipMyzh3Sr7ujHQ4R2Q1ZkVD80E0lBtrQ9ulQuD9banbqYK/RRHu70S7YcSRdppAuyhq0DnZCzn/7aR5Ql4oqnfd57729LG7QyyipathB2Mj+80yH2r5QHMu9ypWckll7I4CCPtjCIHQT5ZgqKoL/X5m699ZbOWPhWsV+ys6tA2M0gEFYeM8niIDPZlWUQ2YWrsnfteOHRJsbqfDHynBuMS9M7H6vsbJ9DTFv3oISDqIuwaW3YuIFzaDvxwKPtaM/qQx079HUedozvHlJr34ebHOq0lSNK++Pkq+3Yipf6IRXX3JMm/RrXpKdv02+ob2MMzsEpZgwST3nIJ68Y38I2yKUcoCzKJS19m7yMVR64jfvuiatPr7JVuCcPfb6HcWObd8/VdmMrqQ+fHFcmMfRRxgdyhW6if5GGPORJN7iNcZvu5SE9eZBPXYH6I7fykTmcY9Kq+q5p0rcV5NKWN86HL8hb36NO6TTq03n81u+rI2Om9F2XvnJ4V5j0QVh1woZCFnIqY9iActKd39JTJ2xKPB8H8ToL8YQlmxWx3vOnD8Vl6VcZ1I06Nr65RwY6UHZ5ONigfk/ZzzyTQ/zcEp7snSKUsUJ6ZCS7PKXNnqJ+lZ0epeWefORHZsfWjsxbtm5ptm/bXsrCRqMtGdOUU/0FQqfqTT3s3LGz1GfYdNQzh4UtmPJzPeo5dCBvebAPYdRz53ZHbh/h2F7q1FfhhZOeNiQPcZUv2i69u04XrpNJfniKciqze3Fd3bBh6ZKJLo2R8aG4GH/DltWJdKLcdKwutAVpKwMduyfueeedW2yNzsQhu7TI61y9yg/vIIdzkAbdSzP6MGkqh9+ukz3q3peH2QV74aDzLMieOSTlJT2yeQefr8+rW+n04wBxaOfSE1894PZk0rboIdpA7Mpzru61c21BfvW91ibkal8pLfWiXw3HmzI46Fl44dgF/bGH0JVDGOWqk6iXlvuhA8XQ5+p7yR2yB9gFG9bnaG+Oo446upTfPWN+9PPKw5boR5miXYUNCN/u4+gebxAu+lphpAP1T9WTdMmpPw/nKd1JV52QWbrsTLqe2aXJYRZ6lbayixu2Fbplu/oJdsemrTBVV9JRd9IGzxziRPlCz8rv3N+jjj6qOW1sZX20Lf1O9PnaqTGOrCV8J0/pqb+oM88F0Tdz+JFDXAj9qIM4B2WqtuW7EfWjVZ615EtH2qu/kY5w9EdfbEPbUIboO8mh3PRlzPMBQH/J7Z6/wrNl5aAPeck34pNPfP20D3Fqg+INimhnUU5/22UeZZBTH7IUzsfDOkbc7aGGhPFOr6P/TjXU81UCTkcPvmYWdFqMuD0IqGjOBw/GnC86CofBxzsUvAScQWjoBi6dSziyOKC+9KUvFQMB76OwdJszJN6HIK6OCchhe9E3v/nN0nj/5E/+pKSrsUan0JZtEHgY5bTjLOIcMdAAMsJpwkmk47BCU6dBFrrw8M1xhPDIU6PX0Vi1gxiGnqLR0hMnmHw4H3V07im7LY4xOE2HdtnEjZkaDiZy0Ln6cq8+WLxTZEI4dFLCcFKSm9PXAKFhKivHnqXzyuidEbWzrPo0U2br1F/8xV90ZFzT/Mt/+dXyMKGTHlTfbV2Auud4pQ9OM/frS53rag8dhw5VPRuk6J3eODw4p4WPQ+duEDNYsC/5RH6ho69//evFsWkL5+///u+XzlmYucDgZluXVaAhO73To4EoBhIyIU/0pDPkOGUD6kl5DETKaMBWxiB0MJNsUT7w0Kc9aYehB/aoHXL+GVC1E7LQj7yFdd19OpIeW/CQIBzbUAY2VDq+DpSb/GxfXSivOAZQceQRcgvLLv/2b/+mk88dpR6/8pWvlL8QbbptEzOjK0svIh35kstvstExsGFff/u7v/v7zvX1ze/+7u+VNh2kYCZ998dEeeQZ6cS5Wf0DB3ygCoGvg+BMebXvS0c9mnD5n//zf5Zrn//85xvvDvWhhsBs5acnhz6nPThPlU7ol25NVPz1X3+z2PMHPvD+Tr3+Qal7NjdbOUDfKF2oxGqiA16ajipCtO16Pj2ij6ikTxnYrfGDgxDx/t3f/d0yLrk/F9mh6qbm5UX82gcng3YdNjaXtGs5axmd679sczcGGi+MncYsY0ik3w4/CHrjTQ9he8N1r80ureFC3hPz7Sfr6IC9G8esuNLvh/OgF1Em/aV+AF9xcFxqv3iGsd4YaEzTnsWhD+OMiSmHPl77ZCvCiyecrXkc2cZj+RuPoh0b01wXzhimbUJc12aMd+T43//7fxe7xysuv/yyzr21JU9jiDwd4odsyqJPNnaJL19H3Heu3SirvJTNtcqRat1K331yuCcv1+jG6ieTpvKkG0fkD/Rf9fhyKb80lFE4uvEblBVvivt1TKz9J7noWHjy6cfkbeeAlVyh70hTWBOQxmp9jsnzGPNjKzP5HNKSL55Ix8onfvDN0CewDWVRdjoTvl2HZHJfmcWRFpnUd423t8gnHueLsomjbqJ84tCBNIRz+C1v+apLaYnrHhuTv98hk3PhxCM/XSofPQrTrd+6o8d16UdZ6UQaZLCCbm8nzJrDqg3ieL7GzAGoX9S3hy2BapeWug7urT7pwLn8Qrdh6+J4JYdyyVs+5CQ/OYRXnkiPDZBVOegfog6jfFVnBztl8+G4t0r+JhfCrpTZF3A5t8hBHvmrB+mHfUddyo+uI36UWfvy/j3jkThR78JLRzhpSsu569H/RBpkCduJemQ3kR/H6ksvvVzCSrvqrMadaFfV0Ukej+fSUM9eIYPX4JreheeavsrfdluUZqQbcN651EF9PqRnXJzM6onzKvStnNJVV3YjWEXe1kWpk077e+3V10oYaUR9hwMv2hO9S0vbkCcZObDoLvTlL32Jb5zevKVjD512VaQtQleuUFF3kkhPuvL18UJfG3cuHBkjfR8HJDubibairuWrHG1biHK7Z+EO/qk86kk5IOotEDoF6XrWlY94ka64yi5df+lGOd2XZ1sO5Q2d0S2bMDbQDf3TrfTFk5a/roWNQpRbPPqWnzp37YUXXiy2Rj/btp3YSfOokk67zdW6YyPdr28rMxshJ3lBv/w//sf/KM9AODYnr3SrrXX9ECFXQD2xPXUojDQ9d4deyUJX8tX2N26sE2DKEm1OuYVxaK+y8EqctuOW3RjT5CM/7W/79pNKGPlGXdOXMkvfQQ9k7pV7alTODDVO/T14/KUDGekSF9m6dUuZ7GBri4EFdT4uB+UPGzrG6ZyP0SA8GAkbDTXgt0MnEA1SY9QR6aA5LtqdWnT+OjuNGMTXwM2uf/3rf1lWvf3hH/5hcdpJd6I8swMZ5KnDkqfGChqzaxq0hk/26CjIosPjwHGfscdApSPQ2NsIfchL+CAT8jAjc/LJdUZ0Zvua2CmIT4YgB4FIR4fL+UsunR25I7yO1zVh6U9ZOX8NzGbVlNk9cTjObLH00G4W/1/8i3/eeVg6vYSZre6Fly55yUH3BrkYANrQgbIBDjPx2IWOVxw2RDZ6Uz71wxYMZMI6pKkz/va3v10cJUgCYor4R7nnAvE4Sq1CQyCtsjBex8SEepE3WyJbDMraSAwOyu96lM/fInvnP//PhJBdOTi46OTtt+sqkahXcoSODWDyCBsO/RvEXn2tMygePFTC9NqwfKQVCCIhrjK5p09Q1nYnbwDl1GczyqytIpjCkAtqst20Zwflr3F7ZWwj9GDCwzv+yITsfvGLXywztO7P1Q4GwWDpTxzce8N7QP72t79THOhm0f/gD/5g3Dk8V9lDrppnTaMmFelN1GfIxnbp8K//+q/LmPDlL/9+8/73f6DYHSyULruydvOoPyfKCf1kEJcd2LLyjW98o6z6NYHyO7/zO6VfgLnK3pZLu2Lv2gdb17ZN2LSTbpeljd5ytcPp6zhOyX7zzb8pTs1Pf/ozxWkVfR4IH+eDoB22n0ydEJ0wVab23zba5Q+EHP3THD7a5V8O0I9O53zsLU/8ZcMOduavujdOxnjdjVf+dMJMfP+V8DHWxjVw3tZdpNVNr/vwEtfjmj7hz//8zwvhN7mnXVlNJ2/35dfOUzKSda4c0A4DkXbkFdd6EXJAO7z2otzSVOZIrxOjhO2EHg8X6YcM3XAT87faZOx0HO510+7Wj8O1dpr6BSuibc0zyW2iUB9R04+EJ5Yx0g+ELO1rzl3vDdu+HjbgWreM/dODqeLE70Bcc9AlRJmhN7zf0L7fGyYQYd1jJyarPYvgKVZO4RzC4DDf+c53yqT6VVddWXhG16lb/kxAO902ZnPduetR19AuN0QYR8SNtAL90qzhy5VyPeK086xhuvYVYSDSDNkcEa6dH0S8dhoRxM+I716k4Qi410aNW+Wsv7v5tfNiKxzxnI+cPJ/73OfKWOl6u1wQeUd8cB55Ce+3uA5ho82XEK37NV7XngVpJTupvJGO352QnaNbB2yy9r8RZqLO3XNU1LhthCwQcVzDFzjaIMKEDO04bbgOoafedDm96mrwdnkm1k8/9AsX8aUb9TVdunG96p+9TKzfQG9cf8Yujd+LOPFbmuQIGaL8DtfacrjWlllYvz3HeKbxjMsB+b73vbf52Mc+XvqQSC/it9MLuBbpCiNOt94rXHcfIu9IO5KMsbqWR1m7YzVE3u7HuCmfyCviyidkiDhTyd6LCOdvLwaJv9Qgo/pcMc7H1YypnY9VzTo0v6Ph9YPr7cbgt0YS18Oo/W034G7DM+N0oLwvxmwZsv3Hf/zHZWm9MNKCuTaOtiwO5xByguttOd3TAYS80Ql0ZZ4M8aQX+QWUZ66I9KaCPKNcQF7h29egXVbl8Ftc4TlufvCD73f0f3PzhS98oaxuQACFiXBzQcg+XRpkJA9EeDL16p0OpeFaG+wWybGy0+pCH3nhYOsNN1uIHzJMJ7sj5OqVPcrmmKsOQVpx1Dzl170nX+mHLIGpdNmWuY0adbIN90ubc1h7ta1e58/JYysJiBdpLTTI5EHfKkyrxjhiraq2VYmTFnrLOQoImejZalOyW61ntYwjJkkWE3TJqeadTB6iTWD83u/9XumH2c0o6jFAdmOZ1b4mIjhuff1Sn2ACYz6yt+1eOo52mxsG2LDXOVhJ7EX8ZubZsQmXCvJPbrOJ0cRMzsflAjZu4rLtfPT+uX5jbPt3bTLVXtvtZyUiykdP2rCHI/VdJyYmPqQmJiJ0ZzLTrhe7czgKtBnjD9hxZWLm5JNP6vTpHxx36iZGE+rUs1M4H/HCz372s6VOpxq/xMmxLTEssCdjsG3/3sNoHLYrUJ/8mc98pmzJn7zQamUhyhZ9LNTx2Fm3vbXbXjvsKIJ8S+V8zHc+DhkGCQ+cHtwMDrFKsd0m2WN46fsd4dBog5HEtXYDd134auT1utvCmGF33WBlmyeHU20sE2c4ZovIEybLwqnSlT3yijhkoBNlcW0m1PeOTNTPfCDPdlr9jrZc8u/qt4soj79tHXiIRvzYgRWRZuytjGvH701rMKi3Kp9869/JR28+EZ7OHfQfcpO1hiv/lr9hv1Y3sRsz5nOTt4uwObKY9ewnd6+Oa3g6jnfCkL2+i2W+8oQsDoj6cz3u1fNytdwD1+RfbZge6wqa6RBpCCeuQ7ki3dANveszDOBW6VllGIO5+205FhryJAsnK0eZrd8eXKocow2yG0ytDmbD3utGdjbWuds5FrcMdEiXHCVezN/dnj/aCJvkACBv2GQ4oOeLsKX4G21uWKB3/bCmHa9Q4ODpttd8OFtOMFZZCcceOZBNJuhLlwuiH3fom5B9K/q83sVX0/X1EW4mDLOdjCLafYK6jl0nxt3EzAg703+bPLR7xy4S9mZXDmckXvfud7+njO2x8yMxmlA3xjPvXTYBoz14r53txqpt8tH5J5EYItgU56NXvJnQ8D54/bHX2OBWdvKsFrurxeyWtV+549qo64R8+pYV887H1QwPmv1WPrZJ5XQG2Us+ZzLe9v12XOecjxxJZEDWhe1Nf76YWK7ybzl3fZBytuNMh35yz6SbqTAxrd50a5qRdlfOqfPqTc/DhfdlWDLvXSTDIM01D3ZUZRlUb72QjvhtmaXVXZGLsL5SzhH/sN/5YGJe/WXuDSNYvVZlrde6cem2lmPswhzQW65Iv+ZXrkzIE2qciDfx3nRolyHS8Me5hywDgNWPbMcgYPbJw3UNu3ggnwd9csR7Y8gSq9268o8eyOUIp5m/+r22s6+3PhcadKkfVrfaUpek1fofZYRNeu+Q9+6wA33ZsOo/6qKm5+i29fmC3jkf6V47ove2HQyrDInFwUpa+ahf/eY3v1VeaWDVo5f1+0I3pFlWdPsGOwYWv99eCTCGew7hePTXmBh9oYlxk3P69O6ETGK0UDmC+tH/+WCjba4mAu1I8uqk7tjZRptnJhLDAT7Nt+F1DfwcnOAmz9or0ld6Px1tqpbT+cTyTrwPk8OMEsiZ265XCKZyPs4XYczSap/PhPrOCKgDkmMY8vSiitRtZMPMI9KaqINypfyeDdrln0rGdj7+8397tdpUGIvWefCtThDpIA5T5TN7VDIS8g0TvXrxu53P8MowM2Qru5Aj8u6Vp/17tuiXZuTVvtebR/s+zEaGCNuO73z8+pitQeTdDrs4qDYWaJevLeuogVj9hrJx3Y4VarHkn5ifbcUT29RiyzMXkI0Tj6yxAh2q7I7hyN7WhfP56iTSa0Oaku1zK7EMsDKcj9W2fVBLWazkVBZOBI7xtM+JiP5gGH3CakGvrvw2iaT9cB4AW3OEwyD1O9qIdvDUU3ua559/oaxU9e7/2v9N5GuB4T53JBK1n9CPmNTACy1IcLC1Lk9cLRMZtd3N1G9GGxzV/pVcI+l8pLiqsxyYBsVCOR8TSwMOoc5j69ivRCKRSCQSi4mVsvIxoDwe2DiAHOn8SSQS04ET2cHBM1Of4V4+dyYWA9UO+zvBE6ONpXQ+Tuumrn1bkqLE6kU6HhOJRCKRSAwLVp5xnnqNQToeE4nETOBwzD4jMWrg5E7HY2K2mGGNbHZwiUQikUgkFgb5HJVYjUgHQiKRSCQSyw0crulxnQ8G3qBfvdup7EQikUgkEolEIpFIJBKJxGpArvQcBhbs7aAL6agMR+goO0PNak+c2U5rTSQSiUSijSRyiZmASgWfmsytEolEIhHIhUKJxMJgpTWt3r5isfqOgZ2PcyF82QF2kapIJBKJRCKRmC36c08cM3lmIpFIJBKJhUb4wlbeBGgtz2JxqgVb+RgVsxCFGLXKJ0bIEn99yTAwSrImEolEIpFILAf0cqt0NiYSiUQikUjMDW2fVPio2sdC47BDhw4tGJMLkrgYBVlK1OIdVsq7d+/e5sknn2xeeuml5vLLL2vWr99QwiQSiUQikUgkZoeDBw82TzzxROFW27dvb0455ZTyxehEIpFIJBKJxOyBW91xx+3NkUdubnbs2NH5e+TYnYXFgjkfF8rx2E53FJ2bb775ZrN79+7m2WefbS644IJm48aNxTlJ1JA3kUgkEolEIjEzEOQ9e/Y0zzzzTHPCCScUkrxu3bqxu4lEIpFIJFYq+vl50qcyP6xZs6Z5++23m/vuu7c55phjy6Qu5+Ni+NQW1Pm4EAXoTXeh8pkrXn/99ebhhx9qHn10V3PyySc3GzZs6MhHzolbsROJRCKRSCQSkxG8zl/OxxdffLF5+eWXm6OOOqo57rjjmrVr144/fORDyOJhOr6d9ZBIJBKJYSLHnOGDTjkf9+/fX3aVnHrqqc3ZZ5/dbNmyZVp9DwsLuu16NYLz8aGHOB8fbU466aTxrUHZQBKJRCKRSCQGByJs4rbtfDz22GMnOB8XgSsvOOZLEds6SLqZSCQSiUSiH/Aqh5WPdpVwPp577rnpfFyusO36sccea55++unmrLPOKtuuIZ2PiUQikUgkEoMDET5w4EDhVM8991xZ9Whi17ZrvCpIdKKL2fDNmXQ3VVrteMlvE4lEIpFYHgjetG/fvubBBx8sr7M544wzxt/5uNCcKp2PQ0Z8cMYs/bve9a6y7TqRSCQSiUQiMXtwPnqX9tNPP1U+OLNzZ35wJpFIJBKJRGKusO36zjvvLDtKdu7c2RxxxBEL7niEdD4OGZyP9s/bHnTJJZc0mzZtKtdzZjiRSCQSiURidkCQu87Hk8oWIc7HWPmYmIxBOOegukv+mkgkEonEykCM/VY+cj7abh1fu14MTrVm7O+CAnFpk5eVTBajnFHm3rInEolEIpFIJKbHRP70TmOu3Psf29fjPI+JxyDoF6/fkUgkEolEYmWgd1zvdcst9Li/KM5Hzsa2w3GlkpkkaYlEIpFIJBLDRdKrRCKRSCQSibmDr6rtr6q/x34sEhbF+ZhIJBKJRCKRSCQSiUQikUgkVh/S+ZhIJBKJRCKRSCQSiUQikUisULR3Iy/FqxDT+bjC0bu8NpFIJBKJRGIlIXnOXDC79zr2CxvX6vXZ10E7fk0jkUgkEonEQqCfs3Gx/Y/pfBwi4t2WS+FFnhqVzI2USIlEIpFIJBJDQDi+2s6r0XBojbIzjW7q3/LvNHrq1WOc98aZOon+N6bLcyK64ZLLJhKJRCIxfyyVvyqdjysYldhVwxqY4yUSiUQikUgsKwTXmdnhOLjTa74YtcnoLroq6MoXumvrZypdta9PN/Fe0xv70YN2vKnid1Io8SO/qdJKJBKJRCIx+kjn4wrG9IQukUgkEolEYnmjzXXWrFkz6WjzoKmcacNEW574PWpoy9jvCPS713twEAb63XdMjRpXkH7xDjusW4+JRCKRSCSWN3I0X8HoJXGJRCKRSCQSKwWz4TmDhhsG3n777ebFF1/sHC80b721d1GcnrNFyNTWS1s/bZn7hXG00f4t7qFDh8r5VOGBc7Fen3yvF1OlkUgkEolEYnngsA45GD1GtIyxd+/e5sknnyyk85JLLmk2bdpUrndJnvNyWtAmUs4jXJsUtlF/1nARBtpxwe+DBw82+/btKwRw8+bN5Xo7DPSmPwikUWehJ26nibRCtrmknVh5qLbgrGujw7CNdrqJhUPUGWSbHgzDtPNhobaXlVF/U5VlJZUx0W1HBw4caB5//PHmqaeearZv396cdtppzfr168u9qG88580332xeeeWV5q233prg+BL2yCOPbLZs2dJs2LChXIu0IdJwzX/+n8qOIl7c96eVVPnd+bfwwJtuuqnIcdlllzWnnnrquMyB3rj90E/W9u/5Qlovv/xy8+qrrzZr165ttm7dWvji2rVrmkOde+6vOaxz3inHa6+9Vjjupk0bO2G2NOvWrSv3yeTgcJWOOnAIu3Hjxuboo48ux1FHHTVBB6+//nrz0ksvFZ7aTqeiyy/JdcQRR5Q0pDfM8idGA1Gn3fpfnliO5VgMmSUdzXal1HUisZyh/Rmz77jjjs64v6XZsWNn4UkV2ugC9gcdQjHWHSSGgZmdjyqzVqpr7c7XeYSrmFj5Nbxwa6YM175OhocffrjIdO211xbS9847hzqHNIStec6EKhci35VvzRrxJpPgSDeRCFS7DTurDxSD2N1MmJhuYuHQfQhc2foetm06Gx19jaJMs0G7vTuH3rpa7mXsD2VdSeUZHFHPgzgfkej777+/+c1vftM8/fTT5XrbOXbcccc1F154YXPOOecUJ1Z7G2/bjoSPOJMxuS+MvyFr/L7vvvuab37zm2US+BOf+ETzrne9a5wPBnrjToeQqcbpylExWa7eNOvlei8g7P79+5sbb/x586tf3VR0eumllzaXX355c+yxx46FqnjjjTeaO++8s3DKk046qThUjz/++HKPY5LT8aGHHmruvffeon8OYGWXh3KLc/755zdnnXVW0T+HovrioN2zZ894WHXtXN0JAxyP4l1zzTXNtm3bBtJXYnmh2reziTa63LA8yzE87jMIVkpdJxLLGdr71M7HhUVuu14kqORux17P2+8iinsTf0907h22xvVaZe1w3fD1unTFQwYZFXIX6cT7c9pxZkKNW8OKW0l7N247b9dnk3Zi5WOiLQzPNtLGFgsrt03Xvq3bxw4LVVejpa9RlGk2aNvfVPa43MvYC/bJRGP8TkwNTitOLw4yjr/nn3++OMCshuTcwoN+/OMfl3tvvPF6x1bGIvaADQVHmozJfWGto7ZjsIIDTf7hhIs67FeX/fOaiIlh5DV22kFvkiFLhKky1vNApMdx+Oiju5pf/OIXRT8///nPxyetu+nUh5Tdu3ePOyDpNWCi++abb25uuOGG5tZbb22effbZEsdKU07E5557rlx3n3NYeDLRi3ysgOTcdP2ee+4pdfXoo482r7zycllt6ejVY2Jlodpj28aXJ5ZbOfr1DQuNlVLXiURibkjn4yJDp4vsIVzIlFlnW05sUUG8OAwPHTo4Flr4Gsdx8MDBQsKEczhHCGPgEMYKRe8Xcu+ZZ54pqwUeffSR5oUXXhjfCoPkHeikVQeAmdEme+RFOh3K0U4DMXzzzTcKkRQukRguOiRpARxFidWNbvdW+9lEYtSQdjkz6Agn4ew65ZRTmuuuu6759Kc/3XzmM59pPvrRj5ZVelbacW7hQfN54JZX79EPrseEbYSZKk7v70A7/MQwfrvfnRSenM9gE804nrj0hzPeddddxYHodxvC4aeuBy/EXzl0f/azn5W4O3bsaD784Q8XvTs++9nPFv3bds4JbJXlPffcXXio1ZDqSbjPf/7zY+FOKdu+7Rz61Kd+p8S3ctSKTFvCZyjKSKHNnROrE2kDiUQiMRFrv/a1r/3p2HliCDD7zvHHuWh7CCIcQAANRO4ha5yDSHDMJiPFZu63bNlatpnYchJxOBlt5zZrfPfddzcPPPBAiY8IHnnk5vIeo27a9za//e29ZfuLbTAvv/xKmYF+4oknyoH0HX744SWPQRDkFeH08vSHHnq4eeyxx0r8WKLrHrKqXLZGebfPoOmvbCAey4gtLwBmevAZFMHhhpVeYnDUPmDsxwpC9G3DwCjqx5iQ7WX5Ypj2uVyh+PgFrmRik2Mqtu3W+1U/Jj9xKRwH93r3u9/dnHfeeeWcM1LcBx98sBP/yOacc84t24pDv9IX/+DBA4VTRbupR0l+HBEe14t4/rYdf2Dl5W9/+9tyfu65547zQUG87Uj8SAMivzbIEXn1C2tMdC2uQ4SNMvTKFYhr4uKfdEdG71SkK/ztxBNPHN8qbrLcakQORFvYlQnPE+9HP/pR8/jjjzXnn39B85GPfKQ4CjkWhXNwSPqLGz/yyCOdtPZ16mRns337tuaYY44t+QqPpz722OOdun65ed/7rm3e+973Njt37iz31Ve8r3O5YDnJmhg+tEGY2g7CMbl0dkK2OBKBfG5LrHxo8/gLX5Jx3+SeMXYxkM7HIQPpm875CEj0D37wg+aWW24pzjqE2MGpaMbZ+xTbe++tIrTN5Rvf+Ebzq1/9qnm5Q8ye2vNUiYMIMhbvQULG5RvbjsxCP/PM051rb5V3+dj6YgWkcCeccEIh8IOC6AZSpPC2225vfv7znxXii4CCMtmuQz7G7L1KHJwrDTOTiYkQvAbNgWy+SIK0cjDbdpSYG1K/iUEQjqpRQ5WpOvumcj6CcLgXzmNiFInGTTjPcDBh8SX3OL0uuOCCThrHjMVuCi/Cm26+2eTuPYWMS5MDbt269eU8Div9du9+vGwjttXYRDDOh7zjPJx9gG+ZUKbbcD7iYQcPHioTyeIHB/TRFffkR1b54FEmdHHCX//6183tt99e5FdO4Wpa9cEBPzSprBzSve2224pT0H1hp3qgkI/0lF3a3ktphaJ8fYSGzLiiMnE+chzu2fNkcSTieJyP8vvpT39anINWPNJt/WDN2hLPX/m7BibYpX/88ScUnsu5qY4c8lDep59+qrnoIu/nPHf8/lRO1ERiVBF9Rj8EB4K066XFRD5at6FnnSRWOtj4qnM+9j58rpSGPojz0f1f/vKX5X2MiBXCd9lllxai7N07TzzxZHkxum1C9MTBiNyJ40XgH/jAB8p96ZmJZjinn356IX9B9E488YRO2hsLqRXui1/8YocAn9OcccYZhVwilDGjPRO6dbWmEF6rMHfteqw4S81oH3PMMYW8emeQsFYceDk4WVYKig461UeXjrb9Ou/88atca8P9uN6OMyoYRZmWAqEHmKouE8MDe1vtNpdIjApGvS0O4nw0Scv5yBkoXMTZtWtX2THCEchpdvXV13T40hmFbOMywn/ve98r7zu0W2TXrkfLNdwKxAmuJD0Ow+9857uFj0mb449jk+MvCHxM9obz0YdW8EEycq59+9vfLs5EcewU4dQTnvMyJoXlTybvPxQGl5OX3Syqi/NO2raSC2eVpSMmn5WFk4/sOFq/hwp68/CBiyrLRRddVPgoByuZyHvyySeXMtVrDzdPPllXPnI+SpsD9qGHHuxwvrObK6+8svBWjkKyte0KF1YnyswxynF55plnFudogAOV/E899XRzwQUXlvt02R6fE4mVAG0jjsTSoaq/XQ9ZJ4nVAXa+VM7HfOfjEgCRQsIQNF9tvPrqq5v3vvd9xalo1tiMM4KGGHNm2kaEVCKQn/rUp4pzD8l773vfU5x/iCnyy4gQPM7Fiy++uDn7bF91PKaQdaTysssu7xDLS4qj0vaW2SDeHYRsIp1k2LhxQ4dE/2Pz3e9+t/nFL27shHqnI9cVZcaaHCuOMLaKQxcxPtW/y2ewUi9RN+1yJOgkH3ISiURiuSAeFP3FqTjJ8CG7S77xjW80/+f//J/mr/7qr4pD8bjjji3beDm8cCvcybsKOd841D70oQ81H/3ox8rkrvdvm/R1zzuu43U5nI7euS2MdxSKc8KJJ5Q83bOqsc19nJMNP+Pgk9/LL79UnHzXX399OXAyDrlwNArvYcCEtHcfCvPJT36y8D4OOhO/drVYKWgyG0fkhPTg8L73VS7Jaeg6Zx55BwH92f5s27S8pclZWj/QQ89dXQNZ8NUNGzaWyW/80L0of3CN0AEuisfSPY5Lp23UeDkGJxKJxUI+ACUSi40ldT6O8ZeCICsrHUHEANnlKLRl2hbr4447vpBQJA2p43xEWM22e38QR+PZZ59diLMZciRxx46TS1pIJiInLgK6ceOmQgQ5Aa0QiDgOpDZmpmcL8cxYI87XXPPuMrPufT/PP/9Cmam+4ooryzsrVyKCVHf1FiR77Hof0tzWcbH3ERnnlKWLHHyrPtpHYthot4VEIpEYBtr9inMcxepB3MpEqS3P/ppw5Ri0epDDjkPROYcihxgHH2eiw3sLTQTjN5x3MSFsEtgKRel97GMfK+E++rHqgLSy0dZlDjuOy/YQa3yRn1WLnIunnXZ68/73v79M4r7nPe/p8KYrisyck7YlKwPn31VXXdVce+21ZTLZeys5TvG3F17w0cGXCkdUZukfffRRzWWXXVZkIZe4nH3kJc8gkBbeaOcKp6fft9xyc7N79xPj+bTLhZ86XMcz6zg6EeI5QLmCe4rXuVuutzEWdFUg9JJILDSiHabNTcRUekk9JRILhyVzPlaSsvoe8it5q84qTjyEE5kE5A1Z9Nd2F6sjHWa3HcLbggLSMNvM0bdu3dpCjoXp12FKI0hhO//ZQPg4ODRt20bq16xZW7bnIJS2yCDgkddCoso/+8FhrvEGKdMgIfy31FiM+lmOiLaRSCQSieWA7lhubPexGDsyTOLG166/8IUvNL/7u79bVg1y2t12261lezbOZLUhxxxnm90hHH5W8HFc4jcccbYkVefj88VxiIOZBI5X3ZxwfIcLnXNu+W3VJQekCeMy3o+NKWSzFVx8TszYkm2lo4MD1DXOTn+lAyahOSytqPRaG1uprWI00SxMOP5wyJ07Tymv1TGpjZ+ZrCafMJHeTCAnLscZa2Unvdhmbds62XDJNtMxmW3iHF8la3UoTkbogBycsMF1vU9zImbPzZYzVhrfmCu/Tiwuaj0lRgmrpU7a5XQ+23LX8Gm/yx257XqJoAFx4iGybQKClEFvA4VeohKzyMggUijcIFymnfZsESQS2bR6AJlUhiCfttMEFppY1WLMvizzKH4pU7tccV7/Ti7vQusgkZgr5tMPzAXZFhKjjcVtD8sPo6gf4/HY6RjWrl1XVjnaUcIBF6+hsZX4qKO2Nk8//UzZKfLqq/UdkhxmJoHFwaf0U5x5Jns513Aczr4336wOP/e8G8lfYcXhgHPNbzwonH1+O/AzqxQ53vCmeA+lj/TdeOONZUWlPMixYcP6Ep8T85/+6Z+an/zkJ2WbtXd/h7z67m7//U7hjbUMm4s8fpMvZKxOw+nRHg9wOjtrvGOcHu655+5ykD0gvB013vEIdudw0uKA8gyEDmKrNWeuMnL00m8bRIiyxZFYXhiVKkvbmYhoh+22majop5fF1NPqsdVsk4mKdD4uAXRq/Tob13o7PEQSgbSVOl6iHkBmXUPqggx3Uq83O0BAxZeusIHIY9AOT3hRQm7E2MoB23Gkf8UVl5frtieZpR803fkg1LQIWSUSKxbtttrb9yQSqwm1KeSAMhWWQj/6p5n5RLvfquf6MtzEYZIXNzrmmKOLI43zjhPw0KF3xp1zHH8mUAN4Vuw4waOsgOQok5ZwOFB7lR8OFlugpRk7VAIhB6fb5s1HlhWFtlzbUu3wjsaPf/zjzSc+8YnmvPPOL+n7YjWnI5ltCf/Sl75UwtjyHU67ysnKaUfOmIyuegP3e/v1np8TEPoWx8pEedkSvn//gQ7fu7XsciFbpCs/75bkgLQyMj68Qzc1TJUBrAbFDzlVOXq975zTNpFYOCxuf7VcEG0ysfRo99UrH/MrYx1TpJH2u9yRzsclRBC96Q7EF/m0fcb7iszYI3bIMZLnGtKLAMZXA8WDIN379r1Vthe9+eYbhTgjysIM2tkJV5Os7+kxc23W/s4772quueaa5stf/kpZVSAPM/lkCixUh0qebkc0OOYSJ5FYHUiinljdGBs6E1NgOegHt8FxOMlwIwcn4nPPPV8OnIrzK1ZHcuT5srTViOKIawWfCVYr/fAvYf21HdmEr3u+Ph2OSKsSXeOMk6bwIUtwLfls3erVORvKZLFtzRyQDiszbdu2nVt8zlDOPPE4Kn0t2/sepYGDtR2f0yHyj2MQRDhlwTu9O9L7JunHCk3lbqdlezoHJT38+te/Lh/owU3p/cCBg+WvreS33npr4Y10duGFF5U0cdROjmPHwvHFxOJglPh1lSPtKZEYJbT7h1HqLxKLi7Vf+9rX/nTsPDEEIK4IK/Lo/YeVXFVEI7Mt55ZbbilhkU2kEiFGypDg22+/vRBT7+8xMyyeNBE7M/YcihyAv/zlL8p7g7zf58Mf/nDJD2o2dZuLcMigWee33tpX0kHEzcybzR8UZLBSAPH89a9vKtuBbGf68pe/PO74lBeCihgjlrNJf7aYT4cVxDk7vcRqBvvPNpBIVGR7mB5LqR+TrTgMx58VebYY40wQMuE7HIDei2gLMK5jIpTDzNZmnMV1zjKTprZk41LewygOZx+nIw7jHYvexXjkkUc0H/jAB5vzzjuv5IvbyMMKP2l5X6QPzPgqtmvS9LVp/IfDzZeixZGnexx6ZLICUFz3nn76qcIHf/ObXxeZ8ThlI7dVgmTEA3Ev4W7q8C/64JDkHAzedcIJxxc5jzjiyHJf/lYq4nt4pvxrHRZ1FfhNBrtWpMHRWdOoE9nkdY7HmviWHv7k/d7CccjalYPr4bXue3+liWj5+3gOHdxwww3lnZXK52OFH/zgB8d5b5ePVW5MFmWKd072riJNLD+o48XrOzjau/1CohcLr5/2M1Y+b02Ptl5SRzMj7Wl4oEPjv/EWzzApajxfDMzK+RiVDlnx/TGI85EDEdlFvJBCzrtwPiLCvsDoS4uce0gnYuev+w888EAhubbjeHcRQsnx6GXpQdJiYPFb/sgnwos0c26aofZScsR1EITc0iE3Auy9Sp///OcKOSR7bJ+JF6Z7n084Q0cNypP2u3oxOnWfJDkxyjDep21Oh6keqgtX6lzujDRjVxJzQYzV0zkfQRjci7MLx/EXD8F7whGGo1jFxzlolSGnmpWEHGjvvHOo2bOHU/Dh8a3D+MsHP/ihsqoPKcen5C0ejsdZh4/ha7gRZ6AvWON0OJsPw3DG4WC2L1vRKC9yhJOTE5LzUn7HHHNscczZjuxBQHk4HMPZKbwybywfGtxSuBcOJy28C+c688yzinz0JS4+2Rllikze4ciZ2G7ToTflkIZw0m1v6ya/8uCf0vSBQ+E4VMkhjDLJn37ohs6VXboOurA1m+59CEgZJz7kVKco56OycsziwCbg2xw6sdxQOQ6wk/YzJLg2fISDfW5pT9WnLyWG++w9P/0MAumHnP4udH5zRcgY+l2qeh9lHU2H4drlYJDNQuS11DawFFDWpXI+HtYhKRNHgxmwGitoNuB0RHiRrUsuuWTC6r/QmTCceHS5c+eO5oQTTiykMMgzsoYcc0qKL5w4CB2yity5hsiaPUbkGE2ndkoeqrRm5eXnr5d4HJUIMvKKBIrDARn1OQjCOWqLEQNFDmOGHNkNQo1AIo3kTztJJPpjIfvSbtrl33KeSMwGbIhtxt/EZEylm4Vs26sRuAcnHP7BiYe/cAa29Yw/caA99tiuDhd5pXCSNWvqewl9VRlH4oDDf/AqcYTBi6QrfRwGGedEE9YKRo7O6rRryj2OsSeffKJz7CnnOBUuZSKYbBxx0uaoi5WCJpKFcT22beOJzl0L2fA55+LgkPiUcCaMOfp27Di5c69OcnOO4oDywRudyyc4o7Iol23P0lVueUFbb8qEVwqLs7V3rUT44KYxeS2cOohJZ+lJhyxWSMYqUrwVV+Qk5ZykI1vXo+6k74hz4TlzlT04cNvJvFQI+RKzR1t3HOH+D4yiTkexrskEVay0w+EjjDJ1OxusJLvslmX12ICy4gd2x27dil/sHB/TFxqzdj4mpsd0zsc2VDiY1UWuwvAROETbdcf4oN25jwCKF3GROiTOIZy4NXyQuvqxGfEckYf8pB2EelCIL4/IR/7+WjVQ79eHBISeTKNAGhMrF+yx2vtyxMQVAcNGtPXlq5/EUqLdtootdU47I0r5negi29niYCbnYwD3wHX8bdeNozohK++p1dW17+Bd4naudLhL5V9tDhYQPjgVLuZ+cDGcJ8KTQZrQzbc62sSN/FwLThbhIOLLw7kw8gFp+C2se+SP8gUiH39dDz7mdy8OHCDLwfFwUYb4K07IE3mHrH63yxy64aQkO73gwcI7hHWEHDWu83pNHtJpy5yYjNBfG1EPo4yJ9Z5IjAbSLlc31H+t+tVT/2zdGL0snI/ZQKfHTM7HauBVd/5WfU7cftm9PlHPEbd9r32OsFUI13UsRhoRvwKZbP+ePSJu5Bu/69+ucyWRGA4mb+GpJjeTDU9sXxPbwdKg3W4XAqNQxsTyRdhP2tH0iHYMqaeFA4fUdM7HsNM4poJwEacGq2H7xWnXbRvtvOI8rvdD7/36c3J+AeHaeQS68Wu+04Xp3vNrYl4Rpgu/J8sTcSeHnxq9snTl6J9O+z45BIk02vETk9FPn8tBV225V1PdRrnTnkcTWT+JOt44Wx02wNaXyvk4q6Vv/Qa7xUevDKMg08ygu2rYXRLGaVevl58FvR1fW+eRRqB7Xmelu3HrX/cjj25eNc541Fki0oh0QL5tueu91dF4E4uHXputNjeznfXGq5hjA0gkVgF6x6FEf8TY16uv1N/ioJ/+2xwljtrf1z6/c2Xseg1brnX+4khtnhRHP8S9yLcdrjdOJ+TYtUizG7+Let6+HudtudrXA/G7uwOlHS/u1aNzt4TpwvUaZzIm2rD0I49+6K0DaK/i7MrQH9PcSvRB2/bjWA5YLnIuFKZrA4nEcsFKbcfZPBcHs3I+jsIgxzCi865kppyOPNp6a/9tH9CPoMW1CDMZE9Nunwf5a1+P9OP3bBDpOPrJGpjqeiIxV7RtbzbojVPPZ2/7w8RcyjEbLGTaidWDtKO5Ice/xcVM/anqiCpZc9iawot648z0O9C+3o8DTYozfntyehFfEpFOpB9he39D7++KbnjlizK20SNqB5PTDvSWzW6a9o6aXnTL0o0T55FHbz7xuzdOO15i5aGfLax0RJnTpkcTWTezQ7vPXilIG1g8zMr5OApoG0caSiKRSCQSiUQikUgkEolEIjG6WHbOx0QikUgkEolEIpFIJBKJRCKxPLAsnY+xLWMlLvtNJBKJRCKRSCQSiUQikUgkVgpy5WMikUgkEolEIpFIJBKJRCKRWBAsS+djvOsx3/eYSCQSiUQikUgkEolEIpFIjC7m5HzM7c6JRCKRSCQSiUQikUgkEolEYibM2vn4Tue/RCKRSCQSiUQikUgkEolEIpGYCfPadp0ffUkkEolEIpFIJBKJRCKRSCQSU+GwQ4cOLYj3MJySq+29jHv37m327HmyefHFl5pLLrmk2bRp09idRCKRSCQSiUQb7Unsfpxx//79ze7duzvcak+zbdu25rTTTms2bNgwdjeRSCQSicR8MdWCsvzGxsqBOo76fPvtt5s77rij2bp1a7Nz587miCOOKNcXGul8HCKUmfPxySefbF56qTofN27cOHY3kUgkEolEIjEVejmj3/v3v908/njb+XhqcT5O8ZyUSCQSiUQikehBpVj1o81vvfVWc9dddzZbtlTn45FHHlnCLCzeWVjn42pyPAbeeOON5pFHHimz9Dk7n0gkEolEIjEAOpSxQ4nHfnR55MGDB5pnn32uefHFF5tjjjmmOfHEE5t169aNT3InEolEIpFIJGYGXuWw8vHRRx9tTj755Obss89uNm/eXO4vrA9vAZ2PUIV3tvKdkCpJeV9//fXmwQcfbB566KFm27YTm/XrOR+9G7OGSyQSiUQikUhMRhDetmOxw1PLbpJXX321bA/igFy7du3Y3YlIh2QikUgkEolEf6BZuNb+/QfKjpKzzjqrOe+885otW7aMc6iFcz520l5o5yMsZAFGBeF8fPPNN4sX+YknnmjOOOOMsa1B9cM8q0EPiUQikUgkEsPCwYMHm2eeeWZ85aOt11Y+JhKJRCKRSCQGQ/ijHFY+2q1r5eOZZ57ZbN5s2/XC+6oW1Pm4GtF+5+PFF180tvIxkUgkEolEIjFbHDhwoEzoPvXUU8XxeMopp3S41fqxu4lEIpFIJBKJ2cDH/O6+++4JH5xZjIVy6XwcMtpfu770Uh+c2TS+AjQxGdXGc0VoIpFIJBKJyThwYH/PB2emf5/2cuVc/Uj/SipLP/SWbyXpIJFIJBKJUUOMs92vXW9pduxI5+OyRax8tD2I83HTpsPL+4oS/VFtfOENPZFIJBKJxPICImx2/vHHHy/cavv27ePOx6mcUotBnhcC/cqzXMvSKU2nPGOnU6Bf2Tqx/DMBy1cHiUQikUiMHoyr+/btG3M+Lu7KxzVjfxNDRq28WoHOkzxNhdRLIpFIJBKJyagOuXoEl5rpSCw95rxYca7xEolEIpFIjDzm5HzMLRBzQz+SvNqPRCKRSAwHxuY4EomVA1xh5fOFlcSR+pWl9+iHQcMlEonEQmMin1ocbrVQHG6h0u2Hms/i5DVbhB4WSxejjqUYY5dk5eNCVfgoGXsadyKRSCQSo4scn5cXklclEolEYmmw2E6a5TTW5bi8nLHY/sc5OR/n4iWdbJRppIlEIpFIDAu5Wmj2SMK8PJH1lkgkEomFRC+fWgxuVfM0xo1dGBJ6yzJM9Mpa81l4Xc0FoYeF0sVywlLpYJ4rHwdrGb0kcSGMsmtIaUyJRCKRSCT6I/hWlzckEolEIpFI9MPiTHZVOmIV4XLnJ4ujr/ljuci5sjDufOQgnO1MsuCDxFmMBpSz4IlEIpFY7ajj7diPRF8kXUgkEolEIjETqn9kcfwMNYuF85nUsgy/HL1+nsXS12wxsfy1XhOLj3HnY6/hDIK5xEksLaLhTWyAiUQikVgJqH372I85YeLYkGNFYpQR9llttGunlZq+0xw6dKgcXRsW9lD5u5Dox42Xazuaiud3r0/UfUX9rcyh/97zfshnikQiMUrQJ8Wx3LFY5RhVfU2UazoZu2PUKJWjytR/7FxOWJIPziSWBtrPmjVrxg6NbuzGomJq0plIJBKJpcbEscH5KJLIRALiYaIea8bPqx0H36nXodKPhbXnyCtkid/LBV1ddR2GbbQ5nKA1/GETrjuN35Gev1EX7WvtI66tBLSLEbpMJBKJxKjDeFTPst8ePtL5uIrw1lv7ml27djWPPvpo88orr3Ya1uJXf7bhRCKRGHW0H/5XhiMgsbIxlcOq7dhydB2RC2vXr7zySnPHHXc0t912W/Pcc881Bw8eHMt3eSB0FfpqP4BNLEfVZYQP+B1HO53eYypMd2/5YCWUIbFSkU6VRGI6ZP+9UDjs0KFD2fsMEXv37m2efPLJ5sUXX2wuueSSZtOmTWN3lhYGGTL9+Mc3NPv3H2iuuuqq5txzzy33zGovJtEjy8oglolEIpFIJBYSBw4caB5//PHCrbZv396cdtppzYYNG8buVuAxnHyPPfZY8/LLL4/zGseGDeubY445tjn55JOaY489tlm3bv2CPXgHt3nkkUeaH/7wh0WOa6+9tjnnnHOajRs3lnujjP379zfPPPNM0TUdn3HGGR3dHTNBX85x3d27dzdPPPFEc+SRRzann356c/zxxzfr10/UrfTU3QsvvFDun3zyyR39r2ueeuqpUldvvPHGWMi6M0ee0hP2hBNOaI444vCOTpf/OonQSXLfxKiATVZzTJtMJKbCKLWTYcpiLHr77bfLJOnWrVuaHTt2dsbbIxZljFr7ta997U/HzhNDAJL82muvFWK2bdu2QrKgl3i069a1eoxdKBB+ogF0w9WwcUxlg/V+DS9/hPxHP7qhEPRTTjmlY2g7SrhqzFMkMgPmEneueS0l5qOjRCKRGASL1c+MYn822n3s5PE4sXjgwLOSELfavHlzc/TRRzdr167t3AletaaQ6Hvuuaf57ne/2/zyl79oHnzwoWbXrkc7fx9sfvvb35bzt9/e34m/pRDsGn96sMk2prLPCOd2DXJYca79+te/LjJzzLX54ETYjjt22sHkPAa3va4cg4VvI6KYpL7pppua733ve2WXzMk7Tm62nbhtPE1/1Qdn4j/90z81f/u3f9vcf//9xbHKYXj44ZyFEbZp3njjzebnP/95c+ONN5ZrnI9w882/af7xH/+h+c1vftM89NBD5ZDOfffdV/4+/fTTzb59+4ozU5rqay7lGhWQfaHlH9ReRxHtNtT5t5wnFhbVPlLXyx3aznLuGxcfdcydjc56+6Wl1Pmw8pWOHRkmG43fW7duLePtYpRrCacTDTS9x0pHLWOt2ErgGHAMuhahhkG7FNfF657X68LW8FIKh2TXYCIPYdtxzUK/9dZbxUkaaMebG7rpL39MV5aVVM5EYtSxOttbu7+eHsK1j8EwMf3B4y0sqhyDl31xUcUaTdlWNyrPAbbz5ptvNq+++mqHSG9qzj777OaKK65s3vWudxWn2KOP7mp+9KMflW3QHJmBXt4UP+dii6JENPERe0cg0q9/I99u/v1R77dlmwrtdOM8fk+HGqZyUk5TzlqOx4cffrg4BV997dVWuPr30KGDRdeclRyGHK1We+KXNd8SsqT5+uuvNy+88Hz5Sx9089prrzcvv/xKeejhnL3ggguaM888sziWTd7ffPPNzV//9V83N9zw4+bJJ58Y56yj2kcsNfrpZTnqKqs3kZgLsuEMitn2MTE+drF0uo4xeLljyZyPKr/3WMmoZKz77hwzuq91CB1C9uyzz5bjpZdeKltQkLUavhrZgQMHy3WEmfMQ4Xv++efL4bzXkSjawYMHShzE0EpHcZFCaSemRrXFycZY62JlNPpEYtShDa70MaEf2v3+dAj9TDwGU1g7jxJvJEhrlakrV1sm50srY5Ur+/+lQrX3/jYQNhOwSo7j8frrr28+97nPNb//+7/f/Jt/8/8173//+4vzi4MMb2qjbXthi73vKZzqnYWOCBthpkMtRi1LO347XlxvH2N3en73D+toY1D94Yi2UeOMW7ZsKdfuu/fe5umnnirnbUhOmpyFVkzYgn3rrbc2e/bsGeOkNd1Iv1cGXNT2aq8n+vznP9/883/+z5t//a//dfMf/+N/bP7kT/6k+chHru+ks7+smLzxxl+UlZbQW7ZERdR777FcsBxlTswN0/VHibki282gmH8/k/3UfLFk266j8tvHSsBU264Dymnm95577m6+/e3vlC1C3gtk+4p99xyKxx13XNlahJBKz/tyfvKTn5StMAjb97///eYf/uEfmp/+9KeF6B111FFlZj9w8OCh5rHHHm9+/OMfN9/61rdKXLPXZPLBGTKdf/75zc6dO8dizA+16uZWfzEAjUr9ryRbTCSWO7It9kf0U73HnNCJ1ok99mM0MLEszkdLvsTiAu/pv+26ayvBlbxH0H0r6U466aTijBTH1qIHH3ygvL/QPe9+jLg4GcebCdu9e98sk7zutZ2CbZu0xdsqS2FNJFsFGM7HAAeebeA4jvdr44Oxpcl7t/ExzlB/5S9u79ZiZXKfXPKTL1208yJrleFQOYR3CCvvXrl60c4PP8QzpXfhhRcUeZ9++qmO7NvLq3rarxEyef7b395bHIRWLLrm1T62tCurvyAtKyNxVZyTY1g6tsN7r6Rt2BdeeGFz4oknljgckkcffVR5r6d2Tybld987IPtvXU8sZ7SfA9rniZWDdn06z/qdH9rtJHU5Gujtu0a9LyMX7rEU267znY9DxnTOx6jQ/fvfbm655dYyA49sIXWIMIJ11113FQek9zFyKiKTZqLN/iKFyCqyiVDLx2yzvBA1BFt4hI6D0rYV4c4666ySr7SlxcCQvVFwPtKJIxopLIbhd2EGbrHzTCQS06H2C+Ws/F6pWApyMpG00vBo6nhpiZu8V7btLSfgNYM6H/EqHy3heBTWdeT6zjvvLCseOR7PO++8srKPjeFdthmbBP7BD35Q3hd5//33lbD4mTTCeSct7yK0xVhY27idP/747uJQPPLII5pNmzYWmfo5H8lsh8stt9zS3HDDDeVdiLfccnNxsHHSyctHCsVX3rvvvrtMTJtA/uUvf1m2jFsBePjhm4qTDhfkxLvxxp8XbqfsJp2lffvtt5c0hHNM5YAM/XkIoSOT4Jx8V199VSefI5qHH36kc/ed5tRTTys6E16Z6Ife/H3Xuy4p+qZn5cNnTYjjv5yg9957b9nO3XY+PvDAA4W/ygtHxUtDRruENm06vPymR2VWBvH9TawsMMGwQ3/raf2dSCSmRrSbxOywkPyyN81RrSNyLZXzcerp0MTQEca+du265qKLLhzfEvSFL3yhHJ/61KcKEbN1BSlDRhkB4u3czDfj+PjHP958+ctfbj7ykY90iNgRhQAixICMIrzIHgL4mc98uvmd3/mdEvass+rsNOfncDF/Q52NrVc9Vl3OH6PZKSQWEFnlCwLtMtvm7LAUpGRinqOv4xg3FxvzyXe47SDBZgdpK4LgSt5VyJn4//7f/2v+4i/+ovmzP/uz5s4772hOO+30Dve6qEzsqiOOs1/96lfN3//93xenG0ek19xwJnLgcTA+9tiu4nSMiV2OQA6+xx9/rHPtYLN371vFSWjCV1ovvPDimCxdmeOcE+1nP/tZiY/wc6RxsnmnoZ0sJow5DD0QeBUPB51wnKC44dtv72t+8YtflMloTjllffbZZ8pk9ve//4Py8RbOPxPSHJHykqbX7/QDHYSdy88OGb994fr0089ozjnn7OJwfOSRR0t5ORJ7QVbluPjii4tTl/ycqzhppD0deuu1LROHJoejfOkBB+4Nnxg+2nWwOOit06zjUUI2udFD9oPzw2z0N2hf2C/NrKf+SOfjEmDdurWFBJvtRYI5DJFFs8Fm9BFiJNU2oIAZYCTw4osvKi9Qt9LxwosubLZvP6kQMoQPpOVF4eKaYfY+Hdta5HXllVeV9BeVUwyMSs4Hb6jDa9DLp3OYmRAuLmFcpkgVLTBysJ0NlqL/WQ59XowHSyPr/PPNrngpcFhxFHK2WU1oEtZkLCfeiy++VELgUuqW484WbQ5Djje86tOf/nTz2c9+trn22mvLrhErDTn2rLjEsbwu5+677yorK6+99rrmc5/7fIkjLsflbbfdXvgXZxnzCROSp/w496xItLpAHp/85CfLpPMll1za4Wx7yz3bk8mH751zzjkl3Ec/+tHyDsSrrrqq3ONcJbM0fcH7jTde7/DGVwrXM9FswpkzEK+0MpJDsh+kFTLGlnXb0uXL2YlfckTik1ZA2lbdj2NIh6PwsssuK9ujyRcrTaeDvOOASDv+qgOOTY5fMqjbxOIg6iSxOlHbYLTH8icxYtDvJuaO2elvsEbQTjPrZ2qk83HR0DVcX6lGHM1Im1k3Y24m3Kw10mwmGZHlSAQGHM5HTkvLYzkqD9+0qVxzjoSCuAiibTnIo1l1W32QZdt+hK/blbryzNdhNd/4s8XqbNAcj2OnicQIQrvMwTax2mE87LaF7LQXE3TPsYfrWOH47ne/uzjvPvCBDzSnnnpq2ZpslaJX23iFDSeZXSYcbJx211xzTXP55Zc31113XXPllVcWXnX//fcXTmVC+IEHHuxce7u59NJLywdsONuuuebq5oMf/GDZWSLdCN/pEcuYHfyIAzOchrYke7XO5s1Hlq3WfvtCN1k4H8XB37ybm9zB8ZTN8eab9X2RwRHXr9/QSW9ncU46rr766uaKK64o7w/HJWPFYG/3XG30sHKfbPgneXBM+XH6bd++rcM/DyuOU7JZfSlapBV9vjje/UjvYAcPZ6bVob35Tg/tp6bP2aiMwWFjq31iYRF2kVhdiLYcGOu6EolVjewPh490Pi4SdOIMGKk0g27rjI/NeF+QrTxmvTkOkT3ky3kgHmY2btxQVkoG1qxZW4goQiaecLZUI2zr1q0v7w5qA4FFEBFJDtDJmP1IE4NVEOzEwiDU20sOejHxftZJP6StLgTaOk39JlYrJtp+7WqyPSwG9Ot4UDjBPvShD5VVhZ/5zGfKa2re9773FYed1Yy2JFsNaCsv5xbnI2cgziS+HSLexW2yFl+zgo9D0Xl9T/fO8lobYTkNt2/3QZZTiwy2G3M0guEY33LdKkTOPR9q2b378Q4HvLFslf7hD39QHHUvvvhCkYWMHH/SsGLTFmvvlvynf/ppc/vtPkr4XHEA4nkxlnHMkZ8cVab6/iblwAmsxKzcsssPgiu4zknIaUo2MtKRbeAmxJ9++pnO9ddLGKtJqyPTo8NELiK5Y445uqwC9Y5L73g0wf7ss88VvjkTdwnUIgl7WEfnLxWnL+7KkdrLaRMLheyzViOm4sb1etpEIpEYDtL5uMAIvhXEi1PR9hbv4kEgr7vu2uZf/st/2Xz1q39UCLJt1cislY4Qg4G/nI1IWD+4Lw9OR3FjxrgXrvsadhshm6ymGnymg/iDEsthYDHzGhUMquN2mLnW5+pA6mVYYGNtM0u7S6xeTOyn6/nqG6+WGiZkTczGl67rVuKzm1NPPaU4ATkIY+XgO+8cKmHb3Eq9xSpDfZkvOoezTzhcrI3ID/fC8erkce0Dwx44+aTx1lve0/hcceQ9+ugjnWNX88ILzzdHHrm5OO1sWyajbcsmqDkAOSI5Qq2Q3Lx5S8k/+ljpy1dZOSHBPdfJFVwy5OgFR6f3hlv5yMlom7YdOX/zN3/T/MM//EOZIOd05Xwl8/PPv1DKJz35OOrkd50Q5wC18vLEE09obrvt1ub2228ruobJMtT2Etf9Ja+/6oZu5OkjPpyr+bGZxYG6DPuCyfWWWOmIdhl20DKHRGJVIbu/4WPknI9BZpYCE/MelhxhtTUtJM1sO/J75plnNe997/ua008/vZBj5HHXrsfKu20i7/agX2eu+yPCIZtm5m21MVsfxFN6CKDDNpi4Du1yLweSMZx6WZlo6ybIQ2Iiqk5SL8NCr52l3SUSicVG9DnR/0x2vNUdH8GjOBHjC8tW14WDDIyjHH44VOVUdXu0OK+9/toYj+ryMc5CzjlOOU5CXM5QLB15ysOqPdxMnu9973uaP/qjP2r+7b/9t+X41//63zRf/epXywS0Ld04IIegNDnyvvKVrzRf+tKXyscGOSilH5CHI8od6OUC7d8BZfDhGqseOWGvuOLysv3c+yWtHL3++uubT3ziE83HPvax4vjkCLQCUnmhX36x8vTd735PeR/ljTf+onn44YfK6st2eOf0YsJ8w4aNRc8BDlHb4634tNXbKlTvMFcH/cqRGC7UTb+6Taw+hC207SGRWE3I7m/4GDnno/5tqTq5iR2s87HTIaBtvGbIES3vB0L8zPDa6nLTTTcVEmgLdpvYtvXRjwS0r61fv644M5E65NUL1xHZp59+qny9keNT8HYcyddjiAVOJBKJRCKRWATgNDiM1YW2VFtVaNuyw+pBjiz8igPQh1ms0PNhlaOPPqZsD8aPrP7zXki/bTt+8803yrscbbG2IpFTbd9b+8pWaCsChfWBGTtZfOHZykPOQVuEq0xdrsUp6f2NMcn8zDPPdvjahsIH8UArHeUf71rk4OTkc19cjk/OP+Vpb+sOyCfy8lcajvb1XkgfR3zwwQfKV6U/8YlPNp/97GfKVnV/HZ///OfKb+9yxCU5H196ydezq77baTt3jZOQE9UWbI7dhx56uMRtc0znyupL33fddVfZ6o0Df+9732v+9//+i+Z//a//VbbHe+8lR6b3eIYzOZFIJBKJxPLE2q997Wt/OnY+IhglB9jsZUF8EUOkDllCHAPIlgOB4gx8/PHdhbwinL7IiMQidLbk+FKhmV6z5WZ+zQK//vprZSba1hMkz6w8B6OXlF9wwQWF9HoXDwLs3q5djxbShyzeccednfweK0TQzPuFF15YiHAljso5SnpPJBKJRCKRqCv0bP3FrTi2vMuwvVIOrzKJyzl3xx13lL94EUcdp55ruBanoI/KcIo55wi0WtFOFM5KW44jPAfm+edfUD4+wzEnLG6F2+FUwkpf2Pvuu69Zt25t+ViND71wVvqwjK9Xkws3izQiPt73yCMPF8ebw2S01YXC4Y1kEs6EMdl98MVfB+CHyuDdiu4556jDD5VJPDLaBWPLuXTxw+ChwuCWP/nJT0o5Lrvs0uZ977u2yOBDhVYwWpGozM5ffe3V5tFHHi3c8thjjymvB8I/OU45ZU877bRSvspxvaN8YymHd5rjtuqLzGeddVa5/sAD9xeHY3xlmxOUHsjy5JN7Sr6XXHJJ+WDQeeedV+o9kUgkEonE/BE8AFeI90Qbm11faIyg87EiZlMXQwnDxHTOR4jtN2a8EWrEVBzhTjrppOaiiy7uGMCWQo6RRQZhdlgYXz80myw+/TAa95BN5Ex86fsdL+Y222y7i3ROP/2MTpiTC1E0449kJhKJRCKRSIwqpnY+dnkiToTv4EVWN/o4n7+4kDicY1dddWVxaFnFGE414WJCV1xAwnEqX8vmMONU41w8/PAjyipEcb2+5sCBgx051pT0LrnkXc3ll1/WbN9+UlmliJuRxz1pcEiSR3x8T17iy9c1O1bkiTdKXxh8TtmFlSaO5+vT3n949tnnlDTFJ4Py+ehN8EO8Tzyv9OHwO+6448f15K9033jj9aLXYzrpXHHlleXDO/Lu5d107XCdbnBTeUvfb3zSSlJxA+SlV/GU+8yzziyT3rZQK5svdpOF/tWnOnJOX3ThS+K+OE4m+uHQhJA/kUgkEonE3GAcNYYvhfPxsA4B6b8fY44YFjGQDsw9rSjW4pIUTkczvbZRI7lIq7KEXhzObalR4cIhgUgaMoeAWZ2IjHFCIm5Imln4gwcPdEjnzkLqgOPSdTPbwjsifV8klI5ZaSQYqUNCEVJpOpdX6DmRSCQSiURi1GDy1Qo53IqTi6Ot7ejCe/AovAqn4vRrIyZ9w9EYjjRAvq3mw5f8lQ5nmS8325ItXoTFl/Ap72LEveQnrXCg4WzeYSg8GaxmlB6+JV/XcTDxyYkvgnuRhocAcM+HaITz7sQjjji8wxHrdm4yc8jVlZRvNq+88mqRU/wNG+pHcvbufavx9WoOTg8V+F4g9IUnSp9+ySgcXXWBu9bwylNlebuEoyP6cj3Sp4uAOOQIXflddbS1nMd16fktX4eHH4f05BF8NyBN4ROJRCKRSMwNxlHjr90buAv/kjF3McbXoTofw5HVX3D3Fo8whCxmS8dOFwW9zkeEcCogkAggWQvxWts5Dqsz3ZWMBeHtfmymTe4g4tfwa8bLDe7JI9IXt6uXuv2mHT6RSCQSiURilDCI8xHwmeBEvQiO1A7bPg8+BoWPjYWNMBDpRj4RPpyZ7fARBqQFcS/itu/35tfOw7nrwf/8jjQ7vzphupPbca382/kTcbv3unDPAdOFieshb4SN+FPFdS3kj98hd5StF+20+qWZSCQSiURifjC+LpXzcWhvb26Ti15UgjL2Y5GxVPkOAjO6CLTD+do11TloC00laF3HaZDTqsvuQd+u++t3G4iqtM2kxxYe14Io94ZPJBKJRCKRGCUE3+mH9j28Br+xRTq4Tv3d4VdjvAciTjteLx8LXgXtsOBehA9uFWEDIYsD2mm04/fmV8NUbieu9Nv5OKIs9ai/Y7I6IBn3a7pjF/ugnV67jAHXA8LVvKqs7bj9IL0IF3HCGem3ckeavWlPlWYikUgkEonli6E4H4OwzJUsiN+P9MwHQV6Gne4w0Vtu51WH8ydd0oqZ5amOUdZNIpFIJBKJxFQIDuNvHJ1f5VpwwMqpKiaG6/4OtO+3jzb8bvOoXvTed9Q0+qfde9Q0Jq6ObB/94tSjRB1Dr/NuMqcUJ9A+nw795HEo22wgP/HeeWey/hKJRCKRSKxczNv5GKRlItGZiF4C2MagpGeumE6uYaI3F7/jGByVRFZSRi9z103ofKYjkUgkEolEYrkheEx71R/qVI9e51yXT3Xj1VV20L4/F/TmE3l0j4lbq6c7JkJ6ccwdven2y2ty3hPhvjL0Hp07NcAETNR9P730jzc9ZpIxkUgkEonE1GiPouW8MzzPbUSeG+btfMQD5kMGVhqRaFfe+N+BOeNEXYxxtUQikUgkEolVia6zqj/mypV6HWODoC1H93Ri/Klkbec33QHdJJzEMXdEuvNFr6xTpTvF5XljqvwSiUQikUjMAp3htJddDO6zmvt4PIRt1/MjRDATsRx1REVFBcbRxqCVudx1kUgkEolEIrFS0eVpwdXq7+Hyt4lpDjfthcdylj2RSCQSiZWItj+qPSpPOJ+bT3FgDPVr16sX75RKo8i3pvjadSo5kUgkEolEYjY4rDlwYP/Y1673NNu3b2tOO+308hGWZFaJRCKRSCQSg6M4Gg9b0+x/e1/52vWWLVuanTu7X7uuzGrhJgzXfu1rX/vTsfPEnDBWRWNu4v0dkvzqa682e/fuLSR53fp1SY8TiUQikUgk5oBDhw42r7zySvPaa681mzcf2Rx99NHN2nW+Ip3sKpFIJBKJRGI24GQ8ePBA88yzTzcbN25stmzd0qxfvz48kyXMQjkgh/K16+WP+RPYuvYxDuA5rkcikUgkEolEYi4Y41aFTrU5VfKrRCKRSCQSicHRj0f5uzicKrdddxAvzJz7O2nEr3H37n1zbNv1S80ll45tuy7pe+dNCTJSGMbLu2sak8vXL+1Rfu9PV97RrKvE8DDZDr04f+x0kcHu5tMupmp/icTyANttt784T5ueiO74BLXf6P5e7piaL9h2faBsu96zJ7Zdnza27TqxGtHPVpYrprb7+aOd9ihz70QisbKgv1lJ/fTKQh0L1NHbb+9r7rzrzmbL5i3Njh2x7brc7mDhxowldT6GYY7CoDh/WcR7p2y3Hnc+lnc+bmw6Oq4hRqCcbbQrfjrZ6Gb8fidS59GwmuRilWcszzaGqkt1P2J1MzQMqLveQaLz2O+fZYmBytITpmA2NtCJL4USYy62U7Kv7aqPJLNDKUufMiYSywBhtqy43XaXcx+0MOjopjR1Shk7h7n0P3PFWL8XqFkPKf/etMf+lUd1Pu4u3Grc+bhxYwkxQReJVYOs8gEwgaeM/zM3TGqfnbTmkdxQ0K/P6O0PO2HKn/JvxbyfH8bSLDkutQ4GQY+e+qGv7hKJQdExMFYWduTvTDaXWCKUiqnPn/v27WvuuuuuZsuWra13PpZQC4olcz7O39k3PAxHltrU9u59qxDkl17qOh8lX3JY+qJOi6nEK7JXFU1ELXL5u5BF65c1tPOcUsYBMFaEBS/HUmBg3fXBctRFv7L0K8cg4cb5ZRudQMLpM+L+pH5jLEygBJsmLShpDRqvB2NRC0agO00k5oTxcXIMTDntuSL6gtLW6aSlqOl0FPH6Yba6nSKZgumS6tuPToWehOLngf0Hmsd27272FOfj9ub0005r1m9YP3Y3sdrR1847xtM2p75hVjiiuPSgvc9bB5MUOiIIuaaTaZAwMyD6zNCjv22VzAa9/W+/fnK2fTSEbG30SXoSZDWX/BIJCP6WdrR4GJRbTaqPTry4xvl4xx13NVu3hvPx8M49NwdMfI5YUudjLfzSW+mE1RZzajXdOJyPtga9/PLLzWWXXdasW5ev1UwkEolEIpGYCw4eOtTsfuLJ8rXrk046qTn1lJ3NurXJrRKJRCKRSCTmgoMHDzW3335Hs3nz5mbHjh0t5yMsnHsw3/k4hvk4Q/kuw1P8xhtvNrt27Wqefvrp5txzz202bFhf7o+6ksPWipwzCdsJ29ZSLf/YjxZaPt2Knnh90YkzU/YwKb8+8frJNCUGzHe5YRA9waDhlgNmrPcByzaQ/QxBT7IZNI3p6mn83hBkSiQWDbNpAInxdj5pfF0E9PY/Cy1Dza++8/GZZ55pnn/++ea4444tqx/XrVtXwswVS6G/xPAwiC0utr3OFYsiZycP2aTdzw/qqq3D3robFL31UJLpSWuudTUsmRKJuYIJvlP+KT8TC4B+7byfutvXRInDv/v3728eeOCB5oQTTmjOOOOMZvORR5aEuz6xhUE6H4eAWkm1ll577bVSkQ8//HCzbdu2Zu3ateV6IpFIJBKJRGJw4FZWPr7y8svNqx1+ZYb+6KOPbtauqSsf57Jbpb3bJZFIJBKJRGK5ozh8Z4A3cobz8cCB/WWx3Jlnntmce+55zdatWwqnavu1FgLpfBwa6jvg3njjjeahhx4qqx8tYV2/3srHVHEikUgkEonEoEB+i/Px4MHmhRdeKO/SPuqoo5rjjj++Wbd27RhBHgs8CyQlSyQSiUQisaLQ4UMz0Zuu89H7tPeX75SceuqpzVlnndVs2bKlOWxsYnchkc7HIaDtXPTyzscff7xsD7r44ouaTZsOL9eFSSdkIpFIJBKJxGCozscDzRNPPNHs2fNUc+KJJzannHJKs2HDhrEQKwf9OOJCrj5IzB3J5xOJRCIxaphpZMIoDusEQi3e2revufe3v22OOeaYwqsOL1+7rpxjIUe4dD4OCSoLGXnrrbea3bt3lxn6Sy+9tNm0adNYiMGQlZFIJBKJRCJRYXZ+9xO7m6f2PFVeZ3PKqac069fPz/lY6HU69hKJRCKRSKwScDzWk6bZv29fc+dddzVbt2xtduw4OZ2PyxPvNG++ubcsYW07H2czQ5qVkUgkEolEYtWjw4FtEArn4549e5pt27Y3pw7B+ZhIJBKJRCKx2sC/iFu9/fbbzR133lm2W+/cuaM54vAjys2FnpZN5+OQoCL5GPfu3Vu2B3E+XnLJJbNa+agisjISiUQikUisdiDAuNX+/QfKjpLifNy+rbyfaMP6DcmXEolEIpFIJGaBcD7ue/vt5s477xhzPu5sjjjiCHcr9yohFwYL/1bJVQCV2K6mfEdPIpFIJBKJxNzRnpCt5/6rSMdjIpFIJBKJREU4DWc6oN81xGr8fAGRzschoO6qTiqcSCQSiUQikUgkEolEIpFYPPQ6FfseYy4r5+G+Kh+h8XfsWEjktushwrsdbbu2NejFF1+c07brRCKRSCQSiUSHpHZYsG3Xj5dt108227d752Pddj3KCD630CR+IVBl75ZgOZYhkUgkEonVhkHHa7t0yzsf77ij2bp1S7NjR912vRi7d3Pl4xChwuZTaUnwEolEIpFIJLrAjcaPd5YLV3pnXOblhiIz3+OYroPbrvHXvUQikUgkEiOF5TI+58rHIcPKR1+7nsvKx0QikUgkEolEFwcO1A/OPGnl47btzWmnnTqyX7suhPqdd8Ynou2IKVhGjrsqs6M7oT6pPIlEIpFIJJYljOm58jGRSCQSiUQikeiHZeD3Qtvb3B2RL8fY71HHVM5F19PxmEgkEolEYj5I52MikUgkEolEIjEUjDkcW8dyQDgXybtmzZpyLCf5E4lEIpFIjDaG6Hyss6I5Mzo4qq6m11fqNJFIJBKJRGJmhLNsumOhIQ/bmbx+56WXXmz27Xtr7M6oYSK3JHc4HDlQ2/wzdFfvQTdu+950RyKRSCQSidWNad/5iHQMShjaDrLVTDJm887HNqmbCtPrFTGsZ0nsEolEIpFIrDR45+Pjjz/e7Nmzp3ztut87H3Glffv2dTjYm83bb+9vOty28KI4cDHvM1q/fv14+IVApWKHNc8880xz5513dvI51Jx//gXNSSed1Kxbt66EGT66XHAqDMIRQ4evv/76+CHeli1bOsfm5sgjNzcbNlS9Cxu6xXvfeOONZv/+/eV63FPejRs3TtA7LJTuE4lEIpFIzAxj9FK983EA56OzEETQ6YSqBGgxBB9VzPaDM20SNrXe+ut1sLiJRCKRSCQSyxOcWpyPTz31VF/nI/4jzKOPPlqI9HPPPVv4kVV8nbvN2rVrmxNPPKE577zzm1NPPbVDsA8v1xcCwcXuvffe5lvf+lZz8ODB5pOf/GRz8cUXj/HBYfPkmR2PMFV+cZ2cL7zwQvPAAw80Dz/8cDnHZ90+/PDDmxNOOLE555xzmrPOOqs5+uijJzhS77///ubWW28tcaDqvSmOx2OPPbbEOf3005vNmzd37llRWW4nEolEIpFYAhj7l8r5uPZrX/van46dT0IVoAoRjq7phcqtFWboX3vttULatm3bNuNMd/udOnFMRt0KU856wvYeiUQikUgkEisFVjG+8sorZSUeB9bRRx9VHIoB3AeJvuuuu5rvfOc7zW233d4899zzzUsvvVwmg++7777mt7/9beFmRx21tXMcPWEl3jARPOzZZ58tpH7//rebs88+pzhN8cFwvA2Pr/Xngr3HVIh7vib+k5/8pPnhD39Y5H755ZeL3t98c2+za9euoj+69Cxw1FFHNUceecQ4L+V4/Lu/+7uifw5Ik+8cxY888khxwloFyoF53HHHFYdkIpFIJBKJpYOx36Sj8dm4vHXr1sKLpuMLw8K0zsc2ZiIws0WvM3MxCrsYmI3zcaoy9+p6NjoaJEwikUgkEonEcsBUzsc2j7Ty8bHHHitONFucr7/++ubDH/5wc/nllzennHJKcYhZGWnF5Mknn1yI9kLwpUjz+eefLw47OO+88wofXL8eHxwulw5Ic7pjOnAY/vCHP2h+/OMfdzjr2uZ977u2+ehHP9pce+21zRVXXFHk93BCf7t2PVrCbNu2vTnyyCNLfCslH3rooeJg/fjHP9586EMfKvGslMSFOSHVj/vHHHNMqbuZZEokEolEIrEwMAaPvPNx2BiEEC1HDOJ8VG6k+aWXXiozzL/4xS+aW265pWwrYgjHH3/8uH5CR9JlIMIJ4708ZpR//vOflzQQXVthGFDMRicSi43BVkgvD6yksiQSicRyxVTOxzZPivdCcj7iXldffXVz/vnnNzt27Cjbft96663mwQcfLCvwzj333LIdOPr2djoTj4njwMxHCVnCP/fcc80999xT4suvOh8rsZ/uaKPf/TgCvb9nA/HoBQf9/ve/X5yJn/jEJ5sPfOADxXF4wgknFD5Khzt37iw6995N29q3bj2qID+45AAAFjxJREFUOfHEE8s7IMP5qIzXXXddc+GFFxYHrzg48NNPP13y4XwUZ6FWnSYWD8mPEolEYvlC373qnI8rFTM5H1UqIo3Afe9732t+9atfNU89tadscbG1xft2OA8RY8YQA7wtRcjd3/zN35SwyJ5ZdTPRyLYZ/zPOOKMQxXQ+JpYK+qzab/lneb8Dti12EuxEIpFYGky37Tr65nA+OkzEcjxydAmHh+FMjzzycHGkcY5ZgSeuA6cymXv77beNbxMG74Zctw4Zj/GgrrC0pdgW49tvv73wMnJxwrUnf3udj9u344Pry2/p33nnHWV7uPclyh/p5xgVn0zKbEWiLeO2Nft4jbIpp3DCO+cIfPTRXc2bb75Z0rn77ruLbE888US5rwz9nH2RBzmteMRJr7nm6rLqkZNQHLI46NBHZzZt2ji+pVpZvT/TdbrFXenduy2Dh0pDeDoiC45K//HRmsTyRW075az8Ztft34lEIpEYXejD0/m4QoBgTeV8jArlSPzpT39aHI8qHBH2TiDnDz74QIcEPlVI3THHHN0hfTU+wmvrCuejGWTk08zyGWec3iHY28o7eM4+++zyN8hvIrH4YOPRcdW/i9GRLQy6ci/fMiQSicTyxqDORxOxHF12htji/NZbe4ujjEOOIxBvuvzyK5ozzzyzvFgdrxLnZz/7WdlFcu+995VJYJO64q1Zs7Y41DZs8J7Cwwq3k453I/76178uTjfhTf6++uorhcP5IjTe18/5eODAwbL6krPvjjvuLKTfqkAycBySL7aDcwbedNNNZbcLR6L0yMUBieOZoKYX6Vm5yLH68MOPlLJyWHIG2l2zadPhhRf2OiDlofzkF59DkOPRKlEfxomJbxDWQR/k9O5HH44544wzy3scycWJKg3ORfHVlTLcfPPNRRarKC+77LKyJT7qLrHcMZkXRXtMJBKJxOhCX71Uzsf0Ui0ykEUvIjdjroK9F8e7ibwjx9/zz7+gOBkRyddff6PEqaRvTSGDyC9jMavvfUYf+chHm4997GPNJz7xiTJbXb8k2CWNicRSYjkT0WxHiUQiMeqo/XTwpH373ir86YYbftx885vfar7xjW80f/mXf1lWNOJIVt9xYOJRHHqcjjfeeGOZMPZuSM43jklOPU5GTjUTviaNcbOf//xn5Zow5557TpkA5sS79dbbml/+8lfjqybbqPytKc44+YmP6Jt4xuU47Tgqf/Ob35RX6LzzzqFSDnkK552L4bjjLOSQjK3ML7/8SkfWhzrXbi1xlfG0004r+rA7xmrOF1+sX6HuBYctByXHLidr75ZoY2B7HORU5PSkvzfeqCstlR3C+cuR+4//+I/l8BEaqzbp6oILLigT5r1O0MRyxUTbgOXM9xKJRCKxOEjn4yKD8xFpNJON6CGVVi4iZ4jZlVdeWQbw3bufaF599dWxWF0gbsIhcoioLS+2uDiXRmf4n0QIEkuLDkXLOlnGSEKdSCQSo4j6ao82Dh16p6wwtPqRQ5GDDu86dOhg4VScbXGPM9E7s/Gqj3/8Y81XvvKV5stf/nLz2c9+trzz0Io+jj5ONlugbWd+/PHdZeXkF77wheb3f//L5fBxFlyMU9Fh1R8YOwwfnI/yc49Tk5PTh1k+8pGPlLjvfe97C3+zYtGqQjteTj55R/ngyyc/+Ynmgx/8QHPNNdcUfmi7+PPPP1fk4ZxUroMHD5TVlpdfcXnzxS9+sfnd3/3dEtdqBum98sqrfccxeuHkrCtF15fwZA308hb3OEqF5Wys+R8qaXPmkonD00rKeK2Q1Zwf/OAHm3e/+90T3rOZWF7otYXedpf1mkgkhoN8Xl7JMJak83GREAO3v1YvOrzcu71NGnmMl5IjuwhhGwZ3RI7TEtEVzzVHpBG/EyOEsX60l7wlRhvZlhKJRGKU0e2fja8cYJx4l156afPP/tk/a/7Tf/pPzX/+z/+5+ff//t83l112eVn9aMuzrctW+3EuckaazL3iiisL/zKZe845ZzeXXHJJcbRZzcdpybEmHn7mvYbx0Rp87F3veldZwcjRaSu2NHvHjtiGjNdZOQh4Hjk48Dj+/H722WeKU8/vukLzUJmMtjKSvPW1Pm8VZ6bygrBWbJ537nllezOZODiVhSNWWPrplcn258MPP6KsaAyHLFlAWLwy9Bp/lVFYuqHreLUQvZx++unNhz/8oeJslDeOy+noIzQmyIVNHrQykPwokUgsBAwROU6sTES9pvNxkUHxZowRPMQvnIZgIEfoIMIEhHOIgyi235kjXDbU0UWQtCRqiUQikUgMD73jKp7EKeZdhBxxdopcfvnlZSUgpxwHoBWPnIkOXIujrD2h6x2PHItHHbW1ONp8NCUmhDnUbIXmSItxXX4mkonC8fjGG/WVOQFbkzkNpSPvr3/9681/+2//rfmv//W/Nv/lv/yX5r//9//e/OhHPyryvPba68UJ6J2Tti275/jzP//zEubRRx8pDsA2fMiGvPG+SOXYuHFDmaz2Wxlt5e4FHmm7tXicoLZtxzbqDlst/wbvlI58ycgZ60M2oQf8Uxh65OT1SiBOR/qwTfzll18a56nJVZcn1H8g6zGRSCQSs4VxpHCUsd+JRQKlI69IISLXJpHIWZ0FP1hmvM0k9wMy6AAEoE0KEolEIpFIJFYzwjmCK3GQcUZyPuJLvgyNbx1++KbyO7YPB8R1bd++t0t8nI2DkYONI8/RhrjVwVdXIfZyN/FcN3F8wgnHN+9//3XNH/7hHzb/4l/88+arX/1q86/+1b9q/viP/7j5oz/6o+aqq64qTk7vobQl3GrCf/fv/l1xVv6H//AfykdhOEpr+RyV/7V5IRx2WHdnTOWIk3kivViRaJWkd1XaVs4BWcvXjtuUVY8cog899GCHt+7t6LJ+6DAgnPyV3dZw5eD4laavenO+ttNLLD+wOf9lPSYSiURirkjn4yIhBmrkDDE7/vjjCsmzpQfRNKgjZ7bWILxeGh5bcwC5dZTBf+yAJADLA1lPiUQikUgsLHAjjjIr+MJRyJHo4zIcbDjY1q1byqq9bdu2F6egD9Q8/vhjnThvl/hW9tlibbUjHubgaHO073nXorStpvTFa+M87ib9NuTJeYn7bdy4qTn66GPKtu5rr72urMi0MtN7JM8++6ziDMQJn3nm6Y4sh8q7J23z5oQkc3BBeQWv6OWFbXSvT75HLisfvUuSA9L7Gn1Qhy6svgz9cTb6iriPyeza9VizY8fOIpO4AXmETByQHI9WQdrNwwHpXZecvolljo4Z9bOzRCKRSCR60eUgXaz92te+9qdj54khAFGr7+TZW94fZGY5EMQM2X3uuWc7hPfRDhmr23PeeOP1QtBuuOGGMjvuy9ennnrq+Ay6dJFbL/L2fiLvF0Jmg/AtR1TZnaVjLpFIJBI5LiQmg7PNrhDvTeQIPProo8pqQgj+c+DA/uI089EWjkFOQRO8tjnfdtttzU033dQ8/czTxYnn/Y47duwo/IpDkkPNV6N9mMWEsC80iyMPH3rBt6x+5BTkaKwfcanhpe8r1bZDn3jiCc173vOeDnc7rWxPvvvuu4vs5513bnPSSds75wfLBwefffa5wuncE47MPkbDaXrCCSeWNnDfffeXvPA8ZZaf9Mgmro8VWs1Jfu+CtOXZNXJKl7PV+yc5/DgwlZezsQ26U0YrKeUtPx9D3LPnqaI7aXC03nHH7eNf6eZAtaXaey7FkwbHpDKQk67IRbd2+IR88q6O2bo1fDlz19WKqK/6Z/nUHVuDtLdEYnlgufUxyxH6Q+O+MZpfyths3F6IfrK3PovzMcn+8DCV85GOHQiYa2a/vf/nmWeebZ56yqz544XAiff+97+/Q46vGHuHUK0T6SKtZqYvuuiiQiYRu+WOtLtEYjSR40JiqZB2l2hjEOejVYj4lElajjPvXrRN2G8Hx+HZZ51dHGf4E6LNsWdlntWM4XjjKONcRMJtHRaeM82kcEz4mjx+4ond5RCeA9H7Ja++uuuolP+uXY+WdM4++5zieKvOujWFy3FyytM7EZ3jeByEViDidngk598LLzzfPPvssyUsR6JybN58ZEmTI5CjVTjpn3322UVG+nrppRdL+TvilutWIgL5gd6ozl9low/viaQLenBwPHJg4qb0v3PnzvJlbh/04eyMOiC/8N47Sbf+4rnKUVdx1o/oiOOg84V4wJkv6piX/c50qPpZnjrKuk0k5ob2uLHQ/eRy7mOWE+h5MZyP/epzwsrHhTSm1YKpnI9tIGy2qyC07nvvo1n7Y445tkNer2o+9KEPlXscldHIkUlGwjAuvPDCQjSdL2ey1M8gE4nE0qFfX5LjQmIxkeNCoheDOB89G+FDeFF9tc3x5S9HGKfZZZddVhxnVgdKQzxht207sbwL0jlwxHEAWvF49dVXFx4nL+E59jgZ8be1a+uHVqQlTSsecbOYNMbXOBpxtdNOO60Qe05J8YUJfof02+Vi67XVhGTmnOOoDGcnXinu+eefV1ZR7tx5SpGRHOHk8zt4IZX4SrYP0dCD/OXZD8KSVzls+aYL5/HxQ39PPvmk5pJLLi1bxMlIp6F3f21xpzflIAe5XSebc+kpP1lw2+p8LNFHAB6qu8JUuUZGuMQQETabSCRmh96mk21p+UMdLtbKx14c1iF11Z29ojGRXCwkOB3NmlvV6J0+CFkvkEnEE6GMA3lT+UhuzAoL5wC/EXCzxwidw73sABKJxLAQ/Q60+55EIrF4yLF9IvAjq/Cs5KvOPK+kqc4xCF0h0viUv224j1s5cK+4FhBeHhEvdqhE+HZf6LzN3QBhj/ARJiaMIfKGdvz2/XZ+IH6EC3sQJtKPvCIf8eIaCON6hHU4d/RCnEhXnJANn3V906aNnbyVkXzdctR4oXfO1ipjlAGiHP6Swf0KciytjYcuyJ1Yuch6TnQx/36HHfXrR1c6RrcdRV0sl/bdaztLI7d65FPyYTvvqfYu55g4XGisCudjJUnOFl6hgzgf24hKrjJOls/1uBd/43yUEPL0K0Mbbofog8ZZSLTlSSQSicTioz2mjcK4kBgtzOR87MV0ttPmTs6FnSp8O2wb7fD9wvSmG2EiWjvKVHlPB+n15gG9srjXe21ymCpPTat7DhG2N4/J1/3uhpkcv6bbPnevBuvGSyQWAv3sOLH6EHYAaQtzw6i1pYl1Wv4t56OLGD8nyrkU+pTnUjkfV8XXrqsiJypT5beNdqnQliPO2weEIcTfuD5KINsgBtsWfdA4vejVT/t8tphjtKFhPrInEonESkC7D5zruDAfLHJ2iVlitjYR42q/o41Isl84x1SYKUzI2hvGaW+UdlqDHtCbR1xvo9+10GUcnSuttMqfSenF77jWjRton/eLP3bSQZxH3isNE/UyN7TT6NXlsLBQ6Y4iJtvr8sNqqq+FQtjBcreFpcSo6W9inS6XeiXv6rbHVeF87Ida4WM/EiON3kE36i0a7HKtyyjTaux4Rhlhb22bSyQSKxfZ1FcrcuxNDBfD4A3tNNDDlcQRk1vNDcvVDrK+E4k2og2vnD59Lli1zseK1V35yxf9ZgqWc13mwDxXBLEZPrnJOkkkEolEIrGUWFnPKb3UPR1Tg2L52EGbk+fiikRiIrJNrHrnYxe1o8xBcDlgpZCV7ICGizbhmT+ybhKJ1YlcqZFIJGaP4CDD7D9qWiupP1qd2wznguU8DrWrOOs7kZiMlde3D450PrawjPv5FQ0D1+TBa2VUVi1XDsxzRX/bmB8izWGnm0gkRh/JAxKJxChhJfdJybOmwvKt9FqnWa+JRD+0u7zVyjfT+TiGdDYsH+TAluhFtN9sw4lEYj7IfiSRSMwFC8FDFqo/Wqh0E8NC1k8isRIRDsfV3AcfdvDgwaKG7OTmjnfGZqhocO/evc2TT+5pXnzxxeaSSy9pNm3a1DG0VeraTiQSiUQikZgjOvS8OXDgQPP47sebPXv2NNu3bW9OO+3UZv36DePcK5FIJBKJRCIxM/Aqfr99b+9r7rzzzmbLli3Nzp07myMOP6I6s8bCLBTW/mkHY+fpgJwTKvkNErz/4P7m1ddea/a+tbfZtm1bs27duiTIiUQikUgkEnPAoUOHmldefaV5rcOtNm/Z3Bx11FHNmrVrk1slEolEIpFIzAaHVR/jwYMHmqefeabZsHFDs3Xr1mb9hvVjt8P1uDB+wbLtms8xHY/zBxocrsg4SyQSiUQikUjMFcGp6tH9N5FIJBKJRCIxOIJH1fOK7pWFxmGHDh1anJxWOKIay7brPU82L774UnPpJZeWbdeH3jnUtz77OXwPLVLFzxcLuRx3FDHIg07VyES9LOQD0vKtg8la6VeWwXS+uuwwkVitqMNltPex3mHhutfEKKBT3fr4A/v3N4/v3l22XW/bvq057dTTmvXrzdCHAeQ4kEgkEolEYvViUCbE/+S/t9/e19xx5x3N5s1bmlNOOaU54ojD3S3/LSTS+ThEeBx6a+9bxfn4EufjpZc2GzduHLs7M6IiZq6QfiH6GcpCVu3E/JY294pBtTIXDFKWwXUwLM0Mq3T90Zv6MPXbm9bgupuIucYbBQyiu7mWZSHT7oe52sFywHKxp5WOto1lnawORJ3vD+fjU3ua7du3N6edemqzYf2G8cnahSbKicRyRW/LWMi+s18rzL567ljMukskEssb0V/Mhg29vf/t5s47uu98PPzwwxdlJ3Q6H4eFMS1yPu5+cnfzwvMvNBdffHFZ+TgooiKyQhIrGf36tfwmUyKRSCQmoDNWIML7397f7N69u3n66afKu7RPOeXUZsOGDfkxv0QikUgkEokOPF4P6jrErfbt29fcc/c9zdajtjan7DylOeLIIzrxD2veOWxhuVU6H4eAw96pVW3l49439zaPPPJI88TuJ5pTTzt1fOVjP5JcZuvHrMTdspGs/j8ter3SEa+NxfBcB/rlDwslw1QPHO38ppJpqbGY9TJXDFqfc37w6yTTXqky7LpaFjoeRHc9ehoUg9bLsPQ0ZztYJlgO9pRIrFh0mp+vXT//3PPNyy+/3Bx99NHN8ccfXz7ml0gkpsek8XmOvGIwdNhcLx1Y0PxWNvpxq+QjiURiKkTvMGgvUXaVPPZ4s/2k7c0ZZ5zZbN585Hgfs5AOyHQ+DgPvdIbWTl1xorzx2hvNgw8+2Nx999114IiBomh5sqqL42UcYxVe/p0KNa9eTByk+ocZFla6s2GhMEzSsNzroK2LtKc+oJ5Uy5Ijif5oYKo+Iutn5SLqvDguSj1nh5hIzAXj/aemVMjFQqLlgFyU/FY22mNfjneJRGImzNhLtDvoMV514YUXNueee27Zfq2fKb6pBexu0vk4RBhkDRRm6Tt6rZWXSCQSiUQikZgH2kw4uVUikUgkEonEfGEnydq1a8f9WP5byMmOdD4uEHKGKpFIrDZ8+MMfHjtLJBKJRCKRWD748Y9/PHaWSCQSqwfvvHOouyiyg3Q+JnqQjs1EIjF6uP76dD4mEolEIpFYfrjhhnQ+JhKJ5Yq5u/QmvuKh/FvOFwLpfEwkEonEUHD99dePnSUSiUQikUgsH9xwww1jZ4lEIrGcwJ03iEuPU3EpF7E1zf8PQX1KNyDjEGQAAAAASUVORK5CYII=)"
      ],
      "metadata": {
        "id": "t2wkHi-e6RA6"
      },
      "id": "t2wkHi-e6RA6"
    },
    {
      "cell_type": "markdown",
      "source": [
        "# Loops"
      ],
      "metadata": {
        "id": "55FV-vpY8XEU"
      },
      "id": "55FV-vpY8XEU"
    },
    {
      "cell_type": "code",
      "source": [
        "secret = 'swordfish'\n",
        "pw = ''\n",
        "auth = False\n",
        "count = 0\n",
        "max_attempt = 5\n",
        "\n",
        "while pw != secret:\n",
        "  count+=1\n",
        "  if count > max_attempt : break\n",
        "  if count == 3: continue\n",
        "  pw = input(f\"{count}: What's the secret word? \")\n",
        "else:\n",
        "  auth = True\n",
        "\n",
        "print('Authorized' if auth else 'Calling the FBI')\n"
      ],
      "metadata": {
        "id": "zrp29HeDu3Gm",
        "colab": {
          "base_uri": "https://localhost:8080/"
        },
        "outputId": "3cdaa98c-e7b4-48de-a8dc-12029499da57"
      },
      "id": "zrp29HeDu3Gm",
      "execution_count": 149,
      "outputs": [
        {
          "output_type": "stream",
          "name": "stdout",
          "text": [
            "1: What's the secret word? 1\n",
            "2: What's the secret word? 2\n",
            "4: What's the secret word? 3\n",
            "5: What's the secret word? swordfish\n",
            "Authorized\n"
          ]
        }
      ]
    }
  ],
  "metadata": {
    "kernelspec": {
      "display_name": "Python 3 (ipykernel)",
      "language": "python",
      "name": "python3"
    },
    "language_info": {
      "codemirror_mode": {
        "name": "ipython",
        "version": 3
      },
      "file_extension": ".py",
      "mimetype": "text/x-python",
      "name": "python",
      "nbconvert_exporter": "python",
      "pygments_lexer": "ipython3",
      "version": "3.9.7"
    },
    "colab": {
      "provenance": [],
      "collapsed_sections": [
        "FimjXajgfchz"
      ],
      "include_colab_link": true
    }
  },
  "nbformat": 4,
  "nbformat_minor": 5
}