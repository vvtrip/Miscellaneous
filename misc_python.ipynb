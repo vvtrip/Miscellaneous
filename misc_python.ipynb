{
  "cells": [
    {
      "cell_type": "markdown",
      "source": [
        "# Basic Data types"
      ],
      "metadata": {
        "id": "FimjXajgfchz"
      },
      "id": "FimjXajgfchz"
    },
    {
      "cell_type": "code",
      "execution_count": null,
      "id": "203decd8",
      "metadata": {
        "colab": {
          "base_uri": "https://localhost:8080/",
          "height": 36
        },
        "id": "203decd8",
        "outputId": "cc11affe-69f9-4f4a-8724-83dfaa57239a"
      },
      "outputs": [
        {
          "output_type": "execute_result",
          "data": {
            "text/plain": [
              "'aceg'"
            ],
            "application/vnd.google.colaboratory.intrinsic+json": {
              "type": "string"
            }
          },
          "metadata": {},
          "execution_count": 1
        }
      ],
      "source": [
        "#jump characters in string by specifying step, here step is 2 (default is 1)\n",
        "x = 'abcdefgh'\n",
        "x[::2]"
      ]
    },
    {
      "cell_type": "code",
      "execution_count": null,
      "id": "9f98dda0",
      "metadata": {
        "colab": {
          "base_uri": "https://localhost:8080/"
        },
        "id": "9f98dda0",
        "outputId": "297259d9-a45a-4774-991f-8f72ebaeb669"
      },
      "outputs": [
        {
          "output_type": "stream",
          "name": "stdout",
          "text": [
            "5.551115123125783e-17\n"
          ]
        }
      ],
      "source": [
        "print(0.1 + 0.2 - 0.3)\n",
        "#this has to do with floating point accuracy and computer's abilities to represent\n",
        "#numbers in memory. CHECK - https://docs.python.org/2/tutorial/floatingpoint.html"
      ]
    },
    {
      "cell_type": "code",
      "source": [
        "#formatted string\n",
        "print('The {}'.format('fox'))\n",
        "print('The {} {} {}'.format('fox','brown','quick'))\n",
        "print('The {1} {2} {0}'.format('fox','brown','quick')) #using index position\n",
        "print('The {q} {b} {f}'.format(f='fox',b='brown',q='quick'))\n",
        "f='fox';b='brown';q='quick'\n",
        "print(f'The {f} {q} {b}') #known as f strings"
      ],
      "metadata": {
        "colab": {
          "base_uri": "https://localhost:8080/"
        },
        "id": "Tma2m84TGm3v",
        "outputId": "cbcfef90-5b6c-41a9-896b-191435ede5b3"
      },
      "id": "Tma2m84TGm3v",
      "execution_count": null,
      "outputs": [
        {
          "output_type": "stream",
          "name": "stdout",
          "text": [
            "The fox\n",
            "The fox brown quick\n",
            "The brown quick fox\n",
            "The quick brown fox\n",
            "The fox quick brown\n"
          ]
        }
      ]
    },
    {
      "cell_type": "code",
      "source": [
        "#float fomratting\n",
        "\n",
        "# {value:width.precision f}\n",
        "x = 100/77\n",
        "\n",
        "print(f'value is {x:1.9f}') #can be used as an alternative of round()"
      ],
      "metadata": {
        "colab": {
          "base_uri": "https://localhost:8080/"
        },
        "id": "qhEfBi0tNoxl",
        "outputId": "701ed2b2-293b-4f3e-e40e-a2e2852e31c8"
      },
      "id": "qhEfBi0tNoxl",
      "execution_count": null,
      "outputs": [
        {
          "output_type": "stream",
          "name": "stdout",
          "text": [
            "value is 1.298701299\n"
          ]
        }
      ]
    },
    {
      "cell_type": "code",
      "source": [
        "num_list = [1,2,3,4,5,6,7]\n",
        "print(num_list.pop()) #returns last elements and also deletes it from the list\n",
        "print(num_list)"
      ],
      "metadata": {
        "colab": {
          "base_uri": "https://localhost:8080/"
        },
        "id": "9UIQo3lIP_8B",
        "outputId": "ff42e052-f4b9-482b-ec84-654504f55ca9"
      },
      "id": "9UIQo3lIP_8B",
      "execution_count": null,
      "outputs": [
        {
          "output_type": "stream",
          "name": "stdout",
          "text": [
            "7\n",
            "[1, 2, 3, 4, 5, 6]\n"
          ]
        }
      ]
    },
    {
      "cell_type": "code",
      "source": [
        "print(num_list.pop(0)) #position to delete\n",
        "num_list"
      ],
      "metadata": {
        "colab": {
          "base_uri": "https://localhost:8080/"
        },
        "id": "Sj4lDrcoTfdu",
        "outputId": "f48ad25d-3378-4b73-a8f6-a0fa049d68c3"
      },
      "id": "Sj4lDrcoTfdu",
      "execution_count": null,
      "outputs": [
        {
          "output_type": "stream",
          "name": "stdout",
          "text": [
            "1\n"
          ]
        },
        {
          "output_type": "execute_result",
          "data": {
            "text/plain": [
              "[2, 3, 4, 5, 6]"
            ]
          },
          "metadata": {},
          "execution_count": 6
        }
      ]
    },
    {
      "cell_type": "code",
      "source": [
        "my_list = ['a','e','b','x','c']\n",
        "print(my_list.sort()) #doesn't return anything as it sorts IN-PLACE\n",
        "print(my_list)\n",
        "\n",
        "#incorrect way of assignment\n",
        "my_list = ['a','e','b','x','c']\n",
        "my_sorted_list = my_list.sort()\n",
        "print(my_sorted_list)\n",
        "\n",
        "#but sort() makes changes to the list and that list can be stored or assigned or used\n",
        "my_list = ['a','e','b','x','c']\n",
        "my_list.sort()\n",
        "my_sorted_list = my_list\n",
        "print(my_sorted_list)"
      ],
      "metadata": {
        "colab": {
          "base_uri": "https://localhost:8080/"
        },
        "id": "uYqWWH79UkTI",
        "outputId": "298f18ef-4035-4b43-c046-9100bc647684"
      },
      "id": "uYqWWH79UkTI",
      "execution_count": null,
      "outputs": [
        {
          "output_type": "stream",
          "name": "stdout",
          "text": [
            "None\n",
            "['a', 'b', 'c', 'e', 'x']\n",
            "None\n",
            "['a', 'b', 'c', 'e', 'x']\n"
          ]
        }
      ]
    },
    {
      "cell_type": "code",
      "source": [
        "my_list = ['a','e','b','x','c']\n",
        "my_list.reverse()\n",
        "print(my_list)\n",
        "\n",
        "my_num_list = [1,4414235,4651353,43,3535,25,46,4365,6]\n",
        "my_num_list.sort()\n",
        "print(my_num_list)\n",
        "\n",
        "my_num_list = [1,4414235,4651353,43,3535,25,46,4365,6]\n",
        "print(my_num_list.reverse()) #reverse is jus tlike sort, INPLACE reversal\n",
        "print(my_num_list)"
      ],
      "metadata": {
        "colab": {
          "base_uri": "https://localhost:8080/"
        },
        "id": "K3vyqsjtUy6g",
        "outputId": "bd0d81b9-c8f9-4726-c3ee-fff2da974995"
      },
      "id": "K3vyqsjtUy6g",
      "execution_count": null,
      "outputs": [
        {
          "output_type": "stream",
          "name": "stdout",
          "text": [
            "['c', 'x', 'b', 'e', 'a']\n",
            "[1, 6, 25, 43, 46, 3535, 4365, 4414235, 4651353]\n",
            "None\n",
            "[6, 4365, 46, 25, 3535, 43, 4651353, 4414235, 1]\n"
          ]
        }
      ]
    },
    {
      "cell_type": "code",
      "source": [
        "#tuple has lesser felxibility than lists since it is immutableand also lesser functionality\n",
        "# still it is useful for scenarios where we won't want values to be altered by mistake\n",
        "\n",
        "t = ('a','a','b')\n",
        "print(t.count('a'))\n",
        "print(t.index('a'))#returns first index\n",
        "print(t.index('b'))"
      ],
      "metadata": {
        "colab": {
          "base_uri": "https://localhost:8080/"
        },
        "id": "xaZr76ECYE_-",
        "outputId": "ef99003b-c7b0-4ee4-c56a-0189405ed854"
      },
      "id": "xaZr76ECYE_-",
      "execution_count": null,
      "outputs": [
        {
          "output_type": "stream",
          "name": "stdout",
          "text": [
            "2\n",
            "0\n",
            "2\n"
          ]
        }
      ]
    },
    {
      "cell_type": "code",
      "source": [
        "# magic function to create new file with content\n",
        "\n",
        "%%writefile my_new_file.txt\n",
        "ONE ON FIRST\n",
        "TWO ON SECOND\n",
        "THREE ON THIRD"
      ],
      "metadata": {
        "colab": {
          "base_uri": "https://localhost:8080/"
        },
        "id": "2Nbq6FGXbmFV",
        "outputId": "228aca77-4469-429d-8ac3-e45c3605c78e"
      },
      "id": "2Nbq6FGXbmFV",
      "execution_count": null,
      "outputs": [
        {
          "output_type": "stream",
          "name": "stdout",
          "text": [
            "Overwriting my_new_file.txt\n"
          ]
        }
      ]
    },
    {
      "cell_type": "code",
      "source": [
        "import os;os.listdir()"
      ],
      "metadata": {
        "colab": {
          "base_uri": "https://localhost:8080/"
        },
        "id": "Z5Di9lGqdcW0",
        "outputId": "66e839a6-d244-4e94-9cbb-35500ee914be"
      },
      "id": "Z5Di9lGqdcW0",
      "execution_count": null,
      "outputs": [
        {
          "output_type": "execute_result",
          "data": {
            "text/plain": [
              "['.config', 'my_new_file.txt', 'sample_data']"
            ]
          },
          "metadata": {},
          "execution_count": 11
        }
      ]
    },
    {
      "cell_type": "code",
      "source": [
        "#tuple unpacking\n",
        "\n",
        "mylist = [(1,2), (3,4), (5,6), (7,8)]\n",
        "for (a, b) in mylist:\n",
        "  print(a)\n",
        "  print(b)\n",
        "\n",
        "#works  same without brackets as well\n",
        "mylist = [(1,2), (3,4), (5,6), (7,8)]\n",
        "for a,b in mylist:\n",
        "  print(a)\n",
        "  print(b)"
      ],
      "metadata": {
        "colab": {
          "base_uri": "https://localhost:8080/"
        },
        "id": "9cFX-9ixJuuA",
        "outputId": "bf95d94c-ca0d-45b6-8c58-bb7421a92134"
      },
      "id": "9cFX-9ixJuuA",
      "execution_count": null,
      "outputs": [
        {
          "output_type": "stream",
          "name": "stdout",
          "text": [
            "1\n",
            "2\n",
            "3\n",
            "4\n",
            "5\n",
            "6\n",
            "7\n",
            "8\n"
          ]
        }
      ]
    },
    {
      "cell_type": "code",
      "source": [
        "lst1 = [1, 2, 3, 4, 5, 6, 7] #takes elements based on smallest list which is passed to zip function. so takes 3 in lst1 as per lst2\n",
        "lst2 = ['a', 'b', 'c']\n",
        "for item in zip(lst1, lst2):\n",
        "  print(item)"
      ],
      "metadata": {
        "colab": {
          "base_uri": "https://localhost:8080/"
        },
        "id": "kaIvMe4L85ko",
        "outputId": "3d8e7bef-3edf-4156-aec5-88dcb23cf9c6"
      },
      "id": "kaIvMe4L85ko",
      "execution_count": null,
      "outputs": [
        {
          "output_type": "stream",
          "name": "stdout",
          "text": [
            "(1, 'a')\n",
            "(2, 'b')\n",
            "(3, 'c')\n"
          ]
        }
      ]
    },
    {
      "cell_type": "code",
      "source": [
        "['EVEN' if x%2==0 else 'ODD' for x in lst1]"
      ],
      "metadata": {
        "colab": {
          "base_uri": "https://localhost:8080/"
        },
        "id": "TyCO8wBFA-Ae",
        "outputId": "34395398-ce75-48e2-d1de-b46f35212dde"
      },
      "id": "TyCO8wBFA-Ae",
      "execution_count": null,
      "outputs": [
        {
          "output_type": "execute_result",
          "data": {
            "text/plain": [
              "['ODD', 'EVEN', 'ODD', 'EVEN', 'ODD', 'EVEN', 'ODD']"
            ]
          },
          "metadata": {},
          "execution_count": 5
        }
      ]
    },
    {
      "cell_type": "code",
      "source": [
        "[x*y for x in [2,4,6] for y in [1,10,1000]]"
      ],
      "metadata": {
        "colab": {
          "base_uri": "https://localhost:8080/"
        },
        "id": "Al_PRXLAELfV",
        "outputId": "15ed3f2a-ecda-4757-d75d-213402b18d88"
      },
      "id": "Al_PRXLAELfV",
      "execution_count": null,
      "outputs": [
        {
          "output_type": "execute_result",
          "data": {
            "text/plain": [
              "[2, 20, 2000, 4, 40, 4000, 6, 60, 6000]"
            ]
          },
          "metadata": {},
          "execution_count": 6
        }
      ]
    },
    {
      "cell_type": "code",
      "source": [
        "def myfunc(*args):\n",
        "  print(args)\n",
        "  return sum(args)\n",
        "\n",
        "myfunc(1,2,3,4,5,6)"
      ],
      "metadata": {
        "id": "Z3ttVJiGEZoc",
        "colab": {
          "base_uri": "https://localhost:8080/"
        },
        "outputId": "888230be-ecda-4c7c-ead0-b4ad0b80c3f0"
      },
      "id": "Z3ttVJiGEZoc",
      "execution_count": null,
      "outputs": [
        {
          "output_type": "stream",
          "name": "stdout",
          "text": [
            "(1, 2, 3, 4, 5, 6)\n"
          ]
        },
        {
          "output_type": "execute_result",
          "data": {
            "text/plain": [
              "21"
            ]
          },
          "metadata": {},
          "execution_count": 9
        }
      ]
    },
    {
      "cell_type": "code",
      "source": [
        "def myfunc(**kwargs):\n",
        "  print(kwargs)\n",
        "  if 'fruit' in kwargs:\n",
        "    print(f\"my fruit choice is {kwargs['fruit']}\")\n",
        "  else:\n",
        "    print('i did not find my fruit here')\n",
        "\n",
        "myfunc(fruit='apple', veggie = 'potato')"
      ],
      "metadata": {
        "colab": {
          "base_uri": "https://localhost:8080/"
        },
        "id": "YSPL5yN_9iwy",
        "outputId": "f86f9d73-d067-454b-be4a-86c4a78e24c3"
      },
      "id": "YSPL5yN_9iwy",
      "execution_count": null,
      "outputs": [
        {
          "output_type": "stream",
          "name": "stdout",
          "text": [
            "{'fruit': 'apple', 'veggie': 'potato'}\n",
            "my fruit choice is apple\n"
          ]
        }
      ]
    },
    {
      "cell_type": "code",
      "source": [
        "string = 'all lower'\n",
        "string.capitalize()"
      ],
      "metadata": {
        "colab": {
          "base_uri": "https://localhost:8080/",
          "height": 36
        },
        "id": "8ES8z8jI-VXb",
        "outputId": "ec7a351b-a7cc-4417-8a49-36e538191595"
      },
      "id": "8ES8z8jI-VXb",
      "execution_count": null,
      "outputs": [
        {
          "output_type": "execute_result",
          "data": {
            "text/plain": [
              "'All lower'"
            ],
            "application/vnd.google.colaboratory.intrinsic+json": {
              "type": "string"
            }
          },
          "metadata": {},
          "execution_count": 11
        }
      ]
    },
    {
      "cell_type": "code",
      "source": [
        "# comparison of current and next element\n",
        "# check if 3 comes with 3 in a list\n",
        "def has_33(nums):\n",
        "  for i in range(len(nums)-1):\n",
        "    if nums[i:i+2] == [3,3]:\n",
        "      return True\n",
        "  return False\n",
        "\n",
        "has_33([1,3,1,3,3])"
      ],
      "metadata": {
        "colab": {
          "base_uri": "https://localhost:8080/"
        },
        "id": "9U5Zipm0Gt09",
        "outputId": "7002806d-16d0-4201-c286-f37eae86c9ad"
      },
      "id": "9U5Zipm0Gt09",
      "execution_count": null,
      "outputs": [
        {
          "output_type": "execute_result",
          "data": {
            "text/plain": [
              "True"
            ]
          },
          "metadata": {},
          "execution_count": 14
        }
      ]
    },
    {
      "cell_type": "code",
      "source": [
        "nums = [1,2,3,4,5]\n",
        "def square_it(num):\n",
        "  return num**2\n",
        "\n",
        "list(map(square_it, nums))"
      ],
      "metadata": {
        "colab": {
          "base_uri": "https://localhost:8080/"
        },
        "id": "UD6JH8-cH_jl",
        "outputId": "215b0839-1451-4155-dd19-51e2b35cf2b7"
      },
      "id": "UD6JH8-cH_jl",
      "execution_count": null,
      "outputs": [
        {
          "output_type": "execute_result",
          "data": {
            "text/plain": [
              "[1, 4, 9, 16, 25]"
            ]
          },
          "metadata": {},
          "execution_count": 15
        }
      ]
    },
    {
      "cell_type": "code",
      "source": [
        "def check_even(num):\n",
        "  return num%2==0\n",
        "\n",
        "nums = [1,2,3,4,5,6]\n",
        "\n",
        "list(filter(check_even, nums))"
      ],
      "metadata": {
        "colab": {
          "base_uri": "https://localhost:8080/"
        },
        "id": "rgL_EttBOK72",
        "outputId": "76a7258d-5df7-4d77-e7dd-248b3318fceb"
      },
      "id": "rgL_EttBOK72",
      "execution_count": null,
      "outputs": [
        {
          "output_type": "execute_result",
          "data": {
            "text/plain": [
              "[2, 4, 6]"
            ]
          },
          "metadata": {},
          "execution_count": 17
        }
      ]
    },
    {
      "cell_type": "code",
      "source": [
        "# lambda same as function\n",
        "def square(num): return num**2\n",
        "squaree = lambda x: x**2\n",
        "print(square(2))\n",
        "print(squaree(2))"
      ],
      "metadata": {
        "colab": {
          "base_uri": "https://localhost:8080/"
        },
        "id": "kImpENF_Sfs6",
        "outputId": "9f85cea5-c805-41c5-871e-820ed283d5f5"
      },
      "id": "kImpENF_Sfs6",
      "execution_count": null,
      "outputs": [
        {
          "output_type": "stream",
          "name": "stdout",
          "text": [
            "4\n",
            "4\n"
          ]
        }
      ]
    },
    {
      "cell_type": "code",
      "source": [
        "print(list(map(lambda x:x**2, nums)))\n",
        "print(list(filter(lambda x:x%2==0, nums)))"
      ],
      "metadata": {
        "colab": {
          "base_uri": "https://localhost:8080/"
        },
        "id": "PbFTiHPxTTwp",
        "outputId": "ed93ca74-a1c9-4d1e-cc25-5f512c4905a1"
      },
      "id": "PbFTiHPxTTwp",
      "execution_count": null,
      "outputs": [
        {
          "output_type": "stream",
          "name": "stdout",
          "text": [
            "[1, 4, 9, 16, 25, 36]\n",
            "[2, 4, 6]\n"
          ]
        }
      ]
    },
    {
      "cell_type": "code",
      "source": [
        "# variable scope are checked in priority defined as LEGB:Local, Enclosed(function within function so parent function), Global and then Built in"
      ],
      "metadata": {
        "id": "3NtpOclKT1Tb"
      },
      "id": "3NtpOclKT1Tb",
      "execution_count": null,
      "outputs": []
    },
    {
      "cell_type": "markdown",
      "source": [
        "# OOPS"
      ],
      "metadata": {
        "id": "jCWKyFUb2oG3"
      },
      "id": "jCWKyFUb2oG3"
    },
    {
      "cell_type": "code",
      "source": [
        "class abc():\n",
        "  def __init__(self, p1, p2):\n",
        "    self.p1 = p1\n",
        "    self.p2 = p2\n",
        "\n",
        "  def show(self):\n",
        "    print(self.p1, self.p2)\n",
        "\n",
        "\n",
        "obj = abc(10,15)\n",
        "obj.show()"
      ],
      "metadata": {
        "colab": {
          "base_uri": "https://localhost:8080/"
        },
        "id": "DVSGoVcpIFMK",
        "outputId": "59a9c72f-25b0-4945-a9a6-3d9c23e6f052"
      },
      "id": "DVSGoVcpIFMK",
      "execution_count": null,
      "outputs": [
        {
          "output_type": "stream",
          "name": "stdout",
          "text": [
            "10 15\n"
          ]
        }
      ]
    },
    {
      "cell_type": "markdown",
      "source": [
        "INHERITANCE"
      ],
      "metadata": {
        "id": "XE7MfytV52nj"
      },
      "id": "XE7MfytV52nj"
    },
    {
      "cell_type": "code",
      "source": [
        "class Animal():\n",
        "\n",
        "    def __init__(self):\n",
        "        print('ANIMAL CREATED')\n",
        "\n",
        "    def who_am_i(self):\n",
        "        print('I am an animal')\n",
        "    def eat(self):\n",
        "        print('I am eating')\n",
        "\n",
        "myanimal = Animal()\n",
        "myanimal.eat()"
      ],
      "metadata": {
        "colab": {
          "base_uri": "https://localhost:8080/"
        },
        "id": "U3CX9aIS32QL",
        "outputId": "f308da36-6a01-49e2-dcb6-937f1e31d356"
      },
      "id": "U3CX9aIS32QL",
      "execution_count": null,
      "outputs": [
        {
          "output_type": "stream",
          "name": "stdout",
          "text": [
            "ANIMAL CREATED\n",
            "I am eating\n"
          ]
        }
      ]
    },
    {
      "cell_type": "code",
      "source": [
        "myanimal.who_am_i()"
      ],
      "metadata": {
        "colab": {
          "base_uri": "https://localhost:8080/"
        },
        "id": "AvRaWV7v38e5",
        "outputId": "88371721-5147-46a7-f0ab-8923d53a2825"
      },
      "id": "AvRaWV7v38e5",
      "execution_count": null,
      "outputs": [
        {
          "output_type": "stream",
          "name": "stdout",
          "text": [
            "I am an animal\n"
          ]
        }
      ]
    },
    {
      "cell_type": "code",
      "source": [
        "class Dog(Animal):\n",
        "\n",
        "    def __init__(self):\n",
        "        Animal.__init__(self)\n",
        "        print('Dog Created')\n",
        "\n",
        "    def eat(self):\n",
        "        print('I am a dog and eating')\n",
        "\n",
        "    def bark(self):\n",
        "        print('WOOF')\n",
        "\n",
        "mydog = Dog()\n",
        "mydog.eat()"
      ],
      "metadata": {
        "colab": {
          "base_uri": "https://localhost:8080/"
        },
        "id": "x_iRJcvj3_my",
        "outputId": "8a4e665b-97ab-4eb9-8b0c-111ba1ba1773"
      },
      "id": "x_iRJcvj3_my",
      "execution_count": null,
      "outputs": [
        {
          "output_type": "stream",
          "name": "stdout",
          "text": [
            "ANIMAL CREATED\n",
            "Dog Created\n",
            "I am a dog and eating\n"
          ]
        }
      ]
    },
    {
      "cell_type": "code",
      "source": [
        "mydog.who_am_i()"
      ],
      "metadata": {
        "colab": {
          "base_uri": "https://localhost:8080/"
        },
        "id": "CHc6tHKp4EOd",
        "outputId": "ef964412-1cf9-437d-9cff-fa82e3204ac4"
      },
      "id": "CHc6tHKp4EOd",
      "execution_count": null,
      "outputs": [
        {
          "output_type": "stream",
          "name": "stdout",
          "text": [
            "I am an animal\n"
          ]
        }
      ]
    },
    {
      "cell_type": "code",
      "source": [
        "mydog.bark()"
      ],
      "metadata": {
        "colab": {
          "base_uri": "https://localhost:8080/"
        },
        "id": "FI8WV_j_4Fqt",
        "outputId": "a1a58397-5087-4cea-dc44-5ec033707c6b"
      },
      "id": "FI8WV_j_4Fqt",
      "execution_count": null,
      "outputs": [
        {
          "output_type": "stream",
          "name": "stdout",
          "text": [
            "WOOF\n"
          ]
        }
      ]
    },
    {
      "cell_type": "markdown",
      "source": [
        "POLYMORPHISM"
      ],
      "metadata": {
        "id": "QFCQgbcN56gz"
      },
      "id": "QFCQgbcN56gz"
    },
    {
      "cell_type": "code",
      "source": [
        "class Animal():\n",
        "\n",
        "    def __init__(self, name):\n",
        "        self.name = name\n",
        "\n",
        "    def speak(self):\n",
        "      raise NotImplementedError('Subclass must implement this abstract method')\n",
        "\n",
        "myanimal = Animal('tom')\n",
        "myanimal.speak()"
      ],
      "metadata": {
        "id": "eXdMOjDh4JAl",
        "colab": {
          "base_uri": "https://localhost:8080/",
          "height": 341
        },
        "outputId": "828ac1a6-bce7-482c-9d51-c7ab227499b3"
      },
      "id": "eXdMOjDh4JAl",
      "execution_count": 2,
      "outputs": [
        {
          "output_type": "error",
          "ename": "NotImplementedError",
          "evalue": "ignored",
          "traceback": [
            "\u001b[0;31m---------------------------------------------------------------------------\u001b[0m",
            "\u001b[0;31mNotImplementedError\u001b[0m                       Traceback (most recent call last)",
            "\u001b[0;32m<ipython-input-2-1bb4eb990d7d>\u001b[0m in \u001b[0;36m<cell line: 10>\u001b[0;34m()\u001b[0m\n\u001b[1;32m      8\u001b[0m \u001b[0;34m\u001b[0m\u001b[0m\n\u001b[1;32m      9\u001b[0m \u001b[0mmyanimal\u001b[0m \u001b[0;34m=\u001b[0m \u001b[0mAnimal\u001b[0m\u001b[0;34m(\u001b[0m\u001b[0;34m'tom'\u001b[0m\u001b[0;34m)\u001b[0m\u001b[0;34m\u001b[0m\u001b[0;34m\u001b[0m\u001b[0m\n\u001b[0;32m---> 10\u001b[0;31m \u001b[0mmyanimal\u001b[0m\u001b[0;34m.\u001b[0m\u001b[0mspeak\u001b[0m\u001b[0;34m(\u001b[0m\u001b[0;34m)\u001b[0m\u001b[0;34m\u001b[0m\u001b[0;34m\u001b[0m\u001b[0m\n\u001b[0m",
            "\u001b[0;32m<ipython-input-2-1bb4eb990d7d>\u001b[0m in \u001b[0;36mspeak\u001b[0;34m(self)\u001b[0m\n\u001b[1;32m      5\u001b[0m \u001b[0;34m\u001b[0m\u001b[0m\n\u001b[1;32m      6\u001b[0m     \u001b[0;32mdef\u001b[0m \u001b[0mspeak\u001b[0m\u001b[0;34m(\u001b[0m\u001b[0mself\u001b[0m\u001b[0;34m)\u001b[0m\u001b[0;34m:\u001b[0m\u001b[0;34m\u001b[0m\u001b[0;34m\u001b[0m\u001b[0m\n\u001b[0;32m----> 7\u001b[0;31m       \u001b[0;32mraise\u001b[0m \u001b[0mNotImplementedError\u001b[0m\u001b[0;34m(\u001b[0m\u001b[0;34m'Subclass must implement this abstract method'\u001b[0m\u001b[0;34m)\u001b[0m\u001b[0;34m\u001b[0m\u001b[0;34m\u001b[0m\u001b[0m\n\u001b[0m\u001b[1;32m      8\u001b[0m \u001b[0;34m\u001b[0m\u001b[0m\n\u001b[1;32m      9\u001b[0m \u001b[0mmyanimal\u001b[0m \u001b[0;34m=\u001b[0m \u001b[0mAnimal\u001b[0m\u001b[0;34m(\u001b[0m\u001b[0;34m'tom'\u001b[0m\u001b[0;34m)\u001b[0m\u001b[0;34m\u001b[0m\u001b[0;34m\u001b[0m\u001b[0m\n",
            "\u001b[0;31mNotImplementedError\u001b[0m: Subclass must implement this abstract method"
          ]
        }
      ]
    },
    {
      "cell_type": "code",
      "source": [
        "class Dog(Animal):\n",
        "    #  no __init__ required\n",
        "    def speak(self):\n",
        "      return f\"{self.name} says WOOF!\"\n",
        "\n",
        "dg = Dog('tommy')\n",
        "dg.speak()"
      ],
      "metadata": {
        "colab": {
          "base_uri": "https://localhost:8080/",
          "height": 36
        },
        "id": "RGXCyNRi9Hrw",
        "outputId": "73ba13ee-1a83-427c-e133-e7988d792fdb"
      },
      "id": "RGXCyNRi9Hrw",
      "execution_count": 4,
      "outputs": [
        {
          "output_type": "execute_result",
          "data": {
            "text/plain": [
              "'tommy says WOOF!'"
            ],
            "application/vnd.google.colaboratory.intrinsic+json": {
              "type": "string"
            }
          },
          "metadata": {},
          "execution_count": 4
        }
      ]
    },
    {
      "cell_type": "markdown",
      "source": [
        "SPECIAL (MAGIC/DUNDER) METHODS"
      ],
      "metadata": {
        "id": "-HJf1Y1_Eflq"
      },
      "id": "-HJf1Y1_Eflq"
    },
    {
      "cell_type": "code",
      "source": [
        "class Book():\n",
        "\n",
        "    def __init__(self, title, author, pages):\n",
        "\n",
        "        self.title = title\n",
        "        self.author = author\n",
        "        self.pages = pages\n",
        "\n",
        "    def __str__(self):\n",
        "        return f\"{self.title} by {self.author}\"\n",
        "\n",
        "    def __len__(self):\n",
        "        return self.pages\n",
        "\n",
        "    def __del__(self):\n",
        "        print('A book object has been deleted')\n",
        "\n",
        "b = Book('Python rocks', 'Jose', 200)\n",
        "print(b, len(b))"
      ],
      "metadata": {
        "colab": {
          "base_uri": "https://localhost:8080/"
        },
        "id": "QSNC_-47DO2y",
        "outputId": "2613d48a-49ca-4211-c409-9bb7a6b0f235"
      },
      "id": "QSNC_-47DO2y",
      "execution_count": 8,
      "outputs": [
        {
          "output_type": "stream",
          "name": "stdout",
          "text": [
            "Python rocks by Jose 200\n"
          ]
        }
      ]
    },
    {
      "cell_type": "code",
      "source": [
        "del b"
      ],
      "metadata": {
        "colab": {
          "base_uri": "https://localhost:8080/"
        },
        "id": "9Il1lraqE030",
        "outputId": "77aa0073-21c3-4f26-d3be-3d8679ef5001"
      },
      "id": "9Il1lraqE030",
      "execution_count": 9,
      "outputs": [
        {
          "output_type": "stream",
          "name": "stdout",
          "text": [
            "A book object has been deleted\n"
          ]
        }
      ]
    },
    {
      "cell_type": "code",
      "source": [
        "b"
      ],
      "metadata": {
        "colab": {
          "base_uri": "https://localhost:8080/",
          "height": 180
        },
        "id": "dymfiB15E2uc",
        "outputId": "030d992b-01a8-4d7d-d823-518c103fe130"
      },
      "id": "dymfiB15E2uc",
      "execution_count": 10,
      "outputs": [
        {
          "output_type": "error",
          "ename": "NameError",
          "evalue": "ignored",
          "traceback": [
            "\u001b[0;31m---------------------------------------------------------------------------\u001b[0m",
            "\u001b[0;31mNameError\u001b[0m                                 Traceback (most recent call last)",
            "\u001b[0;32m<ipython-input-10-89e6c98d9288>\u001b[0m in \u001b[0;36m<cell line: 1>\u001b[0;34m()\u001b[0m\n\u001b[0;32m----> 1\u001b[0;31m \u001b[0mb\u001b[0m\u001b[0;34m\u001b[0m\u001b[0;34m\u001b[0m\u001b[0m\n\u001b[0m",
            "\u001b[0;31mNameError\u001b[0m: name 'b' is not defined"
          ]
        }
      ]
    },
    {
      "cell_type": "code",
      "source": [],
      "metadata": {
        "id": "oZH9JXVrE44s"
      },
      "id": "oZH9JXVrE44s",
      "execution_count": null,
      "outputs": []
    }
  ],
  "metadata": {
    "kernelspec": {
      "display_name": "Python 3 (ipykernel)",
      "language": "python",
      "name": "python3"
    },
    "language_info": {
      "codemirror_mode": {
        "name": "ipython",
        "version": 3
      },
      "file_extension": ".py",
      "mimetype": "text/x-python",
      "name": "python",
      "nbconvert_exporter": "python",
      "pygments_lexer": "ipython3",
      "version": "3.9.7"
    },
    "colab": {
      "provenance": []
    }
  },
  "nbformat": 4,
  "nbformat_minor": 5
}