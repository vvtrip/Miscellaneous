{
  "cells": [
    {
      "cell_type": "markdown",
      "source": [
        "# Basic Data types"
      ],
      "metadata": {
        "id": "FimjXajgfchz"
      },
      "id": "FimjXajgfchz"
    },
    {
      "cell_type": "code",
      "execution_count": null,
      "id": "203decd8",
      "metadata": {
        "colab": {
          "base_uri": "https://localhost:8080/",
          "height": 36
        },
        "id": "203decd8",
        "outputId": "cc11affe-69f9-4f4a-8724-83dfaa57239a"
      },
      "outputs": [
        {
          "output_type": "execute_result",
          "data": {
            "text/plain": [
              "'aceg'"
            ],
            "application/vnd.google.colaboratory.intrinsic+json": {
              "type": "string"
            }
          },
          "metadata": {},
          "execution_count": 1
        }
      ],
      "source": [
        "#jump characters in string by specifying step, here step is 2 (default is 1)\n",
        "x = 'abcdefgh'\n",
        "x[::2]"
      ]
    },
    {
      "cell_type": "code",
      "execution_count": null,
      "id": "9f98dda0",
      "metadata": {
        "colab": {
          "base_uri": "https://localhost:8080/"
        },
        "id": "9f98dda0",
        "outputId": "297259d9-a45a-4774-991f-8f72ebaeb669"
      },
      "outputs": [
        {
          "output_type": "stream",
          "name": "stdout",
          "text": [
            "5.551115123125783e-17\n"
          ]
        }
      ],
      "source": [
        "print(0.1 + 0.2 - 0.3)\n",
        "#this has to do with floating point accuracy and computer's abilities to represent\n",
        "#numbers in memory. CHECK - https://docs.python.org/2/tutorial/floatingpoint.html"
      ]
    },
    {
      "cell_type": "code",
      "source": [
        "#formatted string\n",
        "print('The {}'.format('fox'))\n",
        "print('The {} {} {}'.format('fox','brown','quick'))\n",
        "print('The {1} {2} {0}'.format('fox','brown','quick')) #using index position\n",
        "print('The {q} {b} {f}'.format(f='fox',b='brown',q='quick'))\n",
        "f='fox';b='brown';q='quick'\n",
        "print(f'The {f} {q} {b}') #known as f strings"
      ],
      "metadata": {
        "colab": {
          "base_uri": "https://localhost:8080/"
        },
        "id": "Tma2m84TGm3v",
        "outputId": "cbcfef90-5b6c-41a9-896b-191435ede5b3"
      },
      "id": "Tma2m84TGm3v",
      "execution_count": null,
      "outputs": [
        {
          "output_type": "stream",
          "name": "stdout",
          "text": [
            "The fox\n",
            "The fox brown quick\n",
            "The brown quick fox\n",
            "The quick brown fox\n",
            "The fox quick brown\n"
          ]
        }
      ]
    },
    {
      "cell_type": "code",
      "source": [
        "#float fomratting\n",
        "\n",
        "# {value:width.precision f}\n",
        "x = 100/77\n",
        "\n",
        "print(f'value is {x:1.9f}') #can be used as an alternative of round()"
      ],
      "metadata": {
        "colab": {
          "base_uri": "https://localhost:8080/"
        },
        "id": "qhEfBi0tNoxl",
        "outputId": "701ed2b2-293b-4f3e-e40e-a2e2852e31c8"
      },
      "id": "qhEfBi0tNoxl",
      "execution_count": null,
      "outputs": [
        {
          "output_type": "stream",
          "name": "stdout",
          "text": [
            "value is 1.298701299\n"
          ]
        }
      ]
    },
    {
      "cell_type": "code",
      "source": [
        "num_list = [1,2,3,4,5,6,7]\n",
        "print(num_list.pop()) #returns last elements and also deletes it from the list\n",
        "print(num_list)"
      ],
      "metadata": {
        "colab": {
          "base_uri": "https://localhost:8080/"
        },
        "id": "9UIQo3lIP_8B",
        "outputId": "ff42e052-f4b9-482b-ec84-654504f55ca9"
      },
      "id": "9UIQo3lIP_8B",
      "execution_count": null,
      "outputs": [
        {
          "output_type": "stream",
          "name": "stdout",
          "text": [
            "7\n",
            "[1, 2, 3, 4, 5, 6]\n"
          ]
        }
      ]
    },
    {
      "cell_type": "code",
      "source": [
        "print(num_list.pop(0)) #position to delete\n",
        "num_list"
      ],
      "metadata": {
        "colab": {
          "base_uri": "https://localhost:8080/"
        },
        "id": "Sj4lDrcoTfdu",
        "outputId": "f48ad25d-3378-4b73-a8f6-a0fa049d68c3"
      },
      "id": "Sj4lDrcoTfdu",
      "execution_count": null,
      "outputs": [
        {
          "output_type": "stream",
          "name": "stdout",
          "text": [
            "1\n"
          ]
        },
        {
          "output_type": "execute_result",
          "data": {
            "text/plain": [
              "[2, 3, 4, 5, 6]"
            ]
          },
          "metadata": {},
          "execution_count": 6
        }
      ]
    },
    {
      "cell_type": "code",
      "source": [
        "my_list = ['a','e','b','x','c']\n",
        "print(my_list.sort()) #doesn't return anything as it sorts IN-PLACE\n",
        "print(my_list)\n",
        "\n",
        "#incorrect way of assignment\n",
        "my_list = ['a','e','b','x','c']\n",
        "my_sorted_list = my_list.sort()\n",
        "print(my_sorted_list)\n",
        "\n",
        "#but sort() makes changes to the list and that list can be stored or assigned or used\n",
        "my_list = ['a','e','b','x','c']\n",
        "my_list.sort()\n",
        "my_sorted_list = my_list\n",
        "print(my_sorted_list)"
      ],
      "metadata": {
        "colab": {
          "base_uri": "https://localhost:8080/"
        },
        "id": "uYqWWH79UkTI",
        "outputId": "298f18ef-4035-4b43-c046-9100bc647684"
      },
      "id": "uYqWWH79UkTI",
      "execution_count": null,
      "outputs": [
        {
          "output_type": "stream",
          "name": "stdout",
          "text": [
            "None\n",
            "['a', 'b', 'c', 'e', 'x']\n",
            "None\n",
            "['a', 'b', 'c', 'e', 'x']\n"
          ]
        }
      ]
    },
    {
      "cell_type": "code",
      "source": [
        "my_list = ['a','e','b','x','c']\n",
        "my_list.reverse()\n",
        "print(my_list)\n",
        "\n",
        "my_num_list = [1,4414235,4651353,43,3535,25,46,4365,6]\n",
        "my_num_list.sort()\n",
        "print(my_num_list)\n",
        "\n",
        "my_num_list = [1,4414235,4651353,43,3535,25,46,4365,6]\n",
        "print(my_num_list.reverse()) #reverse is jus tlike sort, INPLACE reversal\n",
        "print(my_num_list)"
      ],
      "metadata": {
        "colab": {
          "base_uri": "https://localhost:8080/"
        },
        "id": "K3vyqsjtUy6g",
        "outputId": "bd0d81b9-c8f9-4726-c3ee-fff2da974995"
      },
      "id": "K3vyqsjtUy6g",
      "execution_count": null,
      "outputs": [
        {
          "output_type": "stream",
          "name": "stdout",
          "text": [
            "['c', 'x', 'b', 'e', 'a']\n",
            "[1, 6, 25, 43, 46, 3535, 4365, 4414235, 4651353]\n",
            "None\n",
            "[6, 4365, 46, 25, 3535, 43, 4651353, 4414235, 1]\n"
          ]
        }
      ]
    },
    {
      "cell_type": "code",
      "source": [
        "#tuple has lesser felxibility than lists since it is immutableand also lesser functionality\n",
        "# still it is useful for scenarios where we won't want values to be altered by mistake\n",
        "\n",
        "t = ('a','a','b')\n",
        "print(t.count('a'))\n",
        "print(t.index('a'))#returns first index\n",
        "print(t.index('b'))"
      ],
      "metadata": {
        "colab": {
          "base_uri": "https://localhost:8080/"
        },
        "id": "xaZr76ECYE_-",
        "outputId": "ef99003b-c7b0-4ee4-c56a-0189405ed854"
      },
      "id": "xaZr76ECYE_-",
      "execution_count": null,
      "outputs": [
        {
          "output_type": "stream",
          "name": "stdout",
          "text": [
            "2\n",
            "0\n",
            "2\n"
          ]
        }
      ]
    },
    {
      "cell_type": "code",
      "source": [
        "# magic function to create new file with content\n",
        "\n",
        "%%writefile my_new_file.txt\n",
        "ONE ON FIRST\n",
        "TWO ON SECOND\n",
        "THREE ON THIRD"
      ],
      "metadata": {
        "colab": {
          "base_uri": "https://localhost:8080/"
        },
        "id": "2Nbq6FGXbmFV",
        "outputId": "228aca77-4469-429d-8ac3-e45c3605c78e"
      },
      "id": "2Nbq6FGXbmFV",
      "execution_count": null,
      "outputs": [
        {
          "output_type": "stream",
          "name": "stdout",
          "text": [
            "Overwriting my_new_file.txt\n"
          ]
        }
      ]
    },
    {
      "cell_type": "code",
      "source": [
        "import os;os.listdir()"
      ],
      "metadata": {
        "colab": {
          "base_uri": "https://localhost:8080/"
        },
        "id": "Z5Di9lGqdcW0",
        "outputId": "66e839a6-d244-4e94-9cbb-35500ee914be"
      },
      "id": "Z5Di9lGqdcW0",
      "execution_count": null,
      "outputs": [
        {
          "output_type": "execute_result",
          "data": {
            "text/plain": [
              "['.config', 'my_new_file.txt', 'sample_data']"
            ]
          },
          "metadata": {},
          "execution_count": 11
        }
      ]
    },
    {
      "cell_type": "code",
      "source": [
        "#tuple unpacking\n",
        "\n",
        "mylist = [(1,2), (3,4), (5,6), (7,8)]\n",
        "for (a, b) in mylist:\n",
        "  print(a)\n",
        "  print(b)\n",
        "\n",
        "#works  same without brackets as well\n",
        "mylist = [(1,2), (3,4), (5,6), (7,8)]\n",
        "for a,b in mylist:\n",
        "  print(a)\n",
        "  print(b)"
      ],
      "metadata": {
        "colab": {
          "base_uri": "https://localhost:8080/"
        },
        "id": "9cFX-9ixJuuA",
        "outputId": "bf95d94c-ca0d-45b6-8c58-bb7421a92134"
      },
      "id": "9cFX-9ixJuuA",
      "execution_count": null,
      "outputs": [
        {
          "output_type": "stream",
          "name": "stdout",
          "text": [
            "1\n",
            "2\n",
            "3\n",
            "4\n",
            "5\n",
            "6\n",
            "7\n",
            "8\n"
          ]
        }
      ]
    },
    {
      "cell_type": "code",
      "source": [
        "lst1 = [1, 2, 3, 4, 5, 6, 7] #takes elements based on smallest list which is passed to zip function. so takes 3 in lst1 as per lst2\n",
        "lst2 = ['a', 'b', 'c']\n",
        "for item in zip(lst1, lst2):\n",
        "  print(item)"
      ],
      "metadata": {
        "colab": {
          "base_uri": "https://localhost:8080/"
        },
        "id": "kaIvMe4L85ko",
        "outputId": "3d8e7bef-3edf-4156-aec5-88dcb23cf9c6"
      },
      "id": "kaIvMe4L85ko",
      "execution_count": null,
      "outputs": [
        {
          "output_type": "stream",
          "name": "stdout",
          "text": [
            "(1, 'a')\n",
            "(2, 'b')\n",
            "(3, 'c')\n"
          ]
        }
      ]
    },
    {
      "cell_type": "code",
      "source": [
        "['EVEN' if x%2==0 else 'ODD' for x in lst1]"
      ],
      "metadata": {
        "colab": {
          "base_uri": "https://localhost:8080/"
        },
        "id": "TyCO8wBFA-Ae",
        "outputId": "34395398-ce75-48e2-d1de-b46f35212dde"
      },
      "id": "TyCO8wBFA-Ae",
      "execution_count": null,
      "outputs": [
        {
          "output_type": "execute_result",
          "data": {
            "text/plain": [
              "['ODD', 'EVEN', 'ODD', 'EVEN', 'ODD', 'EVEN', 'ODD']"
            ]
          },
          "metadata": {},
          "execution_count": 5
        }
      ]
    },
    {
      "cell_type": "code",
      "source": [
        "[x*y for x in [2,4,6] for y in [1,10,1000]]"
      ],
      "metadata": {
        "colab": {
          "base_uri": "https://localhost:8080/"
        },
        "id": "Al_PRXLAELfV",
        "outputId": "15ed3f2a-ecda-4757-d75d-213402b18d88"
      },
      "id": "Al_PRXLAELfV",
      "execution_count": null,
      "outputs": [
        {
          "output_type": "execute_result",
          "data": {
            "text/plain": [
              "[2, 20, 2000, 4, 40, 4000, 6, 60, 6000]"
            ]
          },
          "metadata": {},
          "execution_count": 6
        }
      ]
    },
    {
      "cell_type": "code",
      "source": [
        "def myfunc(*args):\n",
        "  print(args)\n",
        "  return sum(args)\n",
        "\n",
        "myfunc(1,2,3,4,5,6)"
      ],
      "metadata": {
        "id": "Z3ttVJiGEZoc",
        "colab": {
          "base_uri": "https://localhost:8080/"
        },
        "outputId": "888230be-ecda-4c7c-ead0-b4ad0b80c3f0"
      },
      "id": "Z3ttVJiGEZoc",
      "execution_count": null,
      "outputs": [
        {
          "output_type": "stream",
          "name": "stdout",
          "text": [
            "(1, 2, 3, 4, 5, 6)\n"
          ]
        },
        {
          "output_type": "execute_result",
          "data": {
            "text/plain": [
              "21"
            ]
          },
          "metadata": {},
          "execution_count": 9
        }
      ]
    },
    {
      "cell_type": "code",
      "source": [
        "def myfunc(**kwargs):\n",
        "  print(kwargs)\n",
        "  if 'fruit' in kwargs:\n",
        "    print(f\"my fruit choice is {kwargs['fruit']}\")\n",
        "  else:\n",
        "    print('i did not find my fruit here')\n",
        "\n",
        "myfunc(fruit='apple', veggie = 'potato')"
      ],
      "metadata": {
        "colab": {
          "base_uri": "https://localhost:8080/"
        },
        "id": "YSPL5yN_9iwy",
        "outputId": "f86f9d73-d067-454b-be4a-86c4a78e24c3"
      },
      "id": "YSPL5yN_9iwy",
      "execution_count": null,
      "outputs": [
        {
          "output_type": "stream",
          "name": "stdout",
          "text": [
            "{'fruit': 'apple', 'veggie': 'potato'}\n",
            "my fruit choice is apple\n"
          ]
        }
      ]
    },
    {
      "cell_type": "code",
      "source": [
        "string = 'all lower'\n",
        "string.capitalize()"
      ],
      "metadata": {
        "colab": {
          "base_uri": "https://localhost:8080/",
          "height": 36
        },
        "id": "8ES8z8jI-VXb",
        "outputId": "ec7a351b-a7cc-4417-8a49-36e538191595"
      },
      "id": "8ES8z8jI-VXb",
      "execution_count": null,
      "outputs": [
        {
          "output_type": "execute_result",
          "data": {
            "text/plain": [
              "'All lower'"
            ],
            "application/vnd.google.colaboratory.intrinsic+json": {
              "type": "string"
            }
          },
          "metadata": {},
          "execution_count": 11
        }
      ]
    },
    {
      "cell_type": "code",
      "source": [
        "# comparison of current and next element\n",
        "# check if 3 comes with 3 in a list\n",
        "def has_33(nums):\n",
        "  for i in range(len(nums)-1):\n",
        "    if nums[i:i+2] == [3,3]:\n",
        "      return True\n",
        "  return False\n",
        "\n",
        "has_33([1,3,1,3,3])"
      ],
      "metadata": {
        "colab": {
          "base_uri": "https://localhost:8080/"
        },
        "id": "9U5Zipm0Gt09",
        "outputId": "7002806d-16d0-4201-c286-f37eae86c9ad"
      },
      "id": "9U5Zipm0Gt09",
      "execution_count": null,
      "outputs": [
        {
          "output_type": "execute_result",
          "data": {
            "text/plain": [
              "True"
            ]
          },
          "metadata": {},
          "execution_count": 14
        }
      ]
    },
    {
      "cell_type": "code",
      "source": [
        "nums = [1,2,3,4,5]\n",
        "def square_it(num):\n",
        "  return num**2\n",
        "\n",
        "list(map(square_it, nums))"
      ],
      "metadata": {
        "colab": {
          "base_uri": "https://localhost:8080/"
        },
        "id": "UD6JH8-cH_jl",
        "outputId": "215b0839-1451-4155-dd19-51e2b35cf2b7"
      },
      "id": "UD6JH8-cH_jl",
      "execution_count": null,
      "outputs": [
        {
          "output_type": "execute_result",
          "data": {
            "text/plain": [
              "[1, 4, 9, 16, 25]"
            ]
          },
          "metadata": {},
          "execution_count": 15
        }
      ]
    },
    {
      "cell_type": "code",
      "source": [
        "def check_even(num):\n",
        "  return num%2==0\n",
        "\n",
        "nums = [1,2,3,4,5,6]\n",
        "\n",
        "list(filter(check_even, nums))"
      ],
      "metadata": {
        "colab": {
          "base_uri": "https://localhost:8080/"
        },
        "id": "rgL_EttBOK72",
        "outputId": "76a7258d-5df7-4d77-e7dd-248b3318fceb"
      },
      "id": "rgL_EttBOK72",
      "execution_count": null,
      "outputs": [
        {
          "output_type": "execute_result",
          "data": {
            "text/plain": [
              "[2, 4, 6]"
            ]
          },
          "metadata": {},
          "execution_count": 17
        }
      ]
    },
    {
      "cell_type": "code",
      "source": [
        "# lambda same as function\n",
        "def square(num): return num**2\n",
        "squaree = lambda x: x**2\n",
        "print(square(2))\n",
        "print(squaree(2))"
      ],
      "metadata": {
        "colab": {
          "base_uri": "https://localhost:8080/"
        },
        "id": "kImpENF_Sfs6",
        "outputId": "9f85cea5-c805-41c5-871e-820ed283d5f5"
      },
      "id": "kImpENF_Sfs6",
      "execution_count": null,
      "outputs": [
        {
          "output_type": "stream",
          "name": "stdout",
          "text": [
            "4\n",
            "4\n"
          ]
        }
      ]
    },
    {
      "cell_type": "code",
      "source": [
        "print(list(map(lambda x:x**2, nums)))\n",
        "print(list(filter(lambda x:x%2==0, nums)))"
      ],
      "metadata": {
        "colab": {
          "base_uri": "https://localhost:8080/"
        },
        "id": "PbFTiHPxTTwp",
        "outputId": "ed93ca74-a1c9-4d1e-cc25-5f512c4905a1"
      },
      "id": "PbFTiHPxTTwp",
      "execution_count": null,
      "outputs": [
        {
          "output_type": "stream",
          "name": "stdout",
          "text": [
            "[1, 4, 9, 16, 25, 36]\n",
            "[2, 4, 6]\n"
          ]
        }
      ]
    },
    {
      "cell_type": "code",
      "source": [
        "# variable scope are checked in priority defined as LEGB:Local, Enclosed(function within function so parent function), Global and then Built in"
      ],
      "metadata": {
        "id": "3NtpOclKT1Tb"
      },
      "id": "3NtpOclKT1Tb",
      "execution_count": null,
      "outputs": []
    },
    {
      "cell_type": "markdown",
      "source": [
        "# OOPS"
      ],
      "metadata": {
        "id": "jCWKyFUb2oG3"
      },
      "id": "jCWKyFUb2oG3"
    },
    {
      "cell_type": "code",
      "source": [
        "class abc():\n",
        "  def __init__(self, p1, p2):\n",
        "    self.p1 = p1\n",
        "    self.p2 = p2\n",
        "\n",
        "  def show(self):\n",
        "    print(self.p1, self.p2)\n",
        "\n",
        "\n",
        "obj = abc(10,15)\n",
        "obj.show()"
      ],
      "metadata": {
        "colab": {
          "base_uri": "https://localhost:8080/"
        },
        "id": "DVSGoVcpIFMK",
        "outputId": "59a9c72f-25b0-4945-a9a6-3d9c23e6f052"
      },
      "id": "DVSGoVcpIFMK",
      "execution_count": null,
      "outputs": [
        {
          "output_type": "stream",
          "name": "stdout",
          "text": [
            "10 15\n"
          ]
        }
      ]
    },
    {
      "cell_type": "markdown",
      "source": [
        "INHERITANCE"
      ],
      "metadata": {
        "id": "XE7MfytV52nj"
      },
      "id": "XE7MfytV52nj"
    },
    {
      "cell_type": "code",
      "source": [
        "class Animal():\n",
        "\n",
        "    def __init__(self):\n",
        "        print('ANIMAL CREATED')\n",
        "\n",
        "    def who_am_i(self):\n",
        "        print('I am an animal')\n",
        "    def eat(self):\n",
        "        print('I am eating')\n",
        "\n",
        "myanimal = Animal()\n",
        "myanimal.eat()"
      ],
      "metadata": {
        "colab": {
          "base_uri": "https://localhost:8080/"
        },
        "id": "U3CX9aIS32QL",
        "outputId": "f308da36-6a01-49e2-dcb6-937f1e31d356"
      },
      "id": "U3CX9aIS32QL",
      "execution_count": null,
      "outputs": [
        {
          "output_type": "stream",
          "name": "stdout",
          "text": [
            "ANIMAL CREATED\n",
            "I am eating\n"
          ]
        }
      ]
    },
    {
      "cell_type": "code",
      "source": [
        "myanimal.who_am_i()"
      ],
      "metadata": {
        "colab": {
          "base_uri": "https://localhost:8080/"
        },
        "id": "AvRaWV7v38e5",
        "outputId": "88371721-5147-46a7-f0ab-8923d53a2825"
      },
      "id": "AvRaWV7v38e5",
      "execution_count": null,
      "outputs": [
        {
          "output_type": "stream",
          "name": "stdout",
          "text": [
            "I am an animal\n"
          ]
        }
      ]
    },
    {
      "cell_type": "code",
      "source": [
        "class Dog(Animal):\n",
        "\n",
        "    def __init__(self):\n",
        "        Animal.__init__(self)\n",
        "        print('Dog Created')\n",
        "\n",
        "    def eat(self):\n",
        "        print('I am a dog and eating')\n",
        "\n",
        "    def bark(self):\n",
        "        print('WOOF')\n",
        "\n",
        "mydog = Dog()\n",
        "mydog.eat()"
      ],
      "metadata": {
        "colab": {
          "base_uri": "https://localhost:8080/"
        },
        "id": "x_iRJcvj3_my",
        "outputId": "8a4e665b-97ab-4eb9-8b0c-111ba1ba1773"
      },
      "id": "x_iRJcvj3_my",
      "execution_count": null,
      "outputs": [
        {
          "output_type": "stream",
          "name": "stdout",
          "text": [
            "ANIMAL CREATED\n",
            "Dog Created\n",
            "I am a dog and eating\n"
          ]
        }
      ]
    },
    {
      "cell_type": "code",
      "source": [
        "mydog.who_am_i()"
      ],
      "metadata": {
        "colab": {
          "base_uri": "https://localhost:8080/"
        },
        "id": "CHc6tHKp4EOd",
        "outputId": "ef964412-1cf9-437d-9cff-fa82e3204ac4"
      },
      "id": "CHc6tHKp4EOd",
      "execution_count": null,
      "outputs": [
        {
          "output_type": "stream",
          "name": "stdout",
          "text": [
            "I am an animal\n"
          ]
        }
      ]
    },
    {
      "cell_type": "code",
      "source": [
        "mydog.bark()"
      ],
      "metadata": {
        "colab": {
          "base_uri": "https://localhost:8080/"
        },
        "id": "FI8WV_j_4Fqt",
        "outputId": "a1a58397-5087-4cea-dc44-5ec033707c6b"
      },
      "id": "FI8WV_j_4Fqt",
      "execution_count": null,
      "outputs": [
        {
          "output_type": "stream",
          "name": "stdout",
          "text": [
            "WOOF\n"
          ]
        }
      ]
    },
    {
      "cell_type": "markdown",
      "source": [
        "POLYMORPHISM"
      ],
      "metadata": {
        "id": "QFCQgbcN56gz"
      },
      "id": "QFCQgbcN56gz"
    },
    {
      "cell_type": "code",
      "source": [
        "class Animal():\n",
        "\n",
        "    def __init__(self, name):\n",
        "        self.name = name\n",
        "\n",
        "    def speak(self):\n",
        "      raise NotImplementedError('Subclass must implement this abstract method')\n",
        "\n",
        "myanimal = Animal('tom')\n",
        "myanimal.speak()"
      ],
      "metadata": {
        "id": "eXdMOjDh4JAl",
        "colab": {
          "base_uri": "https://localhost:8080/",
          "height": 341
        },
        "outputId": "828ac1a6-bce7-482c-9d51-c7ab227499b3"
      },
      "id": "eXdMOjDh4JAl",
      "execution_count": null,
      "outputs": [
        {
          "output_type": "error",
          "ename": "NotImplementedError",
          "evalue": "ignored",
          "traceback": [
            "\u001b[0;31m---------------------------------------------------------------------------\u001b[0m",
            "\u001b[0;31mNotImplementedError\u001b[0m                       Traceback (most recent call last)",
            "\u001b[0;32m<ipython-input-2-1bb4eb990d7d>\u001b[0m in \u001b[0;36m<cell line: 10>\u001b[0;34m()\u001b[0m\n\u001b[1;32m      8\u001b[0m \u001b[0;34m\u001b[0m\u001b[0m\n\u001b[1;32m      9\u001b[0m \u001b[0mmyanimal\u001b[0m \u001b[0;34m=\u001b[0m \u001b[0mAnimal\u001b[0m\u001b[0;34m(\u001b[0m\u001b[0;34m'tom'\u001b[0m\u001b[0;34m)\u001b[0m\u001b[0;34m\u001b[0m\u001b[0;34m\u001b[0m\u001b[0m\n\u001b[0;32m---> 10\u001b[0;31m \u001b[0mmyanimal\u001b[0m\u001b[0;34m.\u001b[0m\u001b[0mspeak\u001b[0m\u001b[0;34m(\u001b[0m\u001b[0;34m)\u001b[0m\u001b[0;34m\u001b[0m\u001b[0;34m\u001b[0m\u001b[0m\n\u001b[0m",
            "\u001b[0;32m<ipython-input-2-1bb4eb990d7d>\u001b[0m in \u001b[0;36mspeak\u001b[0;34m(self)\u001b[0m\n\u001b[1;32m      5\u001b[0m \u001b[0;34m\u001b[0m\u001b[0m\n\u001b[1;32m      6\u001b[0m     \u001b[0;32mdef\u001b[0m \u001b[0mspeak\u001b[0m\u001b[0;34m(\u001b[0m\u001b[0mself\u001b[0m\u001b[0;34m)\u001b[0m\u001b[0;34m:\u001b[0m\u001b[0;34m\u001b[0m\u001b[0;34m\u001b[0m\u001b[0m\n\u001b[0;32m----> 7\u001b[0;31m       \u001b[0;32mraise\u001b[0m \u001b[0mNotImplementedError\u001b[0m\u001b[0;34m(\u001b[0m\u001b[0;34m'Subclass must implement this abstract method'\u001b[0m\u001b[0;34m)\u001b[0m\u001b[0;34m\u001b[0m\u001b[0;34m\u001b[0m\u001b[0m\n\u001b[0m\u001b[1;32m      8\u001b[0m \u001b[0;34m\u001b[0m\u001b[0m\n\u001b[1;32m      9\u001b[0m \u001b[0mmyanimal\u001b[0m \u001b[0;34m=\u001b[0m \u001b[0mAnimal\u001b[0m\u001b[0;34m(\u001b[0m\u001b[0;34m'tom'\u001b[0m\u001b[0;34m)\u001b[0m\u001b[0;34m\u001b[0m\u001b[0;34m\u001b[0m\u001b[0m\n",
            "\u001b[0;31mNotImplementedError\u001b[0m: Subclass must implement this abstract method"
          ]
        }
      ]
    },
    {
      "cell_type": "code",
      "source": [
        "class Dog(Animal):\n",
        "    #  no __init__ required\n",
        "    def speak(self):\n",
        "      return f\"{self.name} says WOOF!\"\n",
        "\n",
        "dg = Dog('tommy')\n",
        "dg.speak()"
      ],
      "metadata": {
        "colab": {
          "base_uri": "https://localhost:8080/",
          "height": 36
        },
        "id": "RGXCyNRi9Hrw",
        "outputId": "73ba13ee-1a83-427c-e133-e7988d792fdb"
      },
      "id": "RGXCyNRi9Hrw",
      "execution_count": null,
      "outputs": [
        {
          "output_type": "execute_result",
          "data": {
            "text/plain": [
              "'tommy says WOOF!'"
            ],
            "application/vnd.google.colaboratory.intrinsic+json": {
              "type": "string"
            }
          },
          "metadata": {},
          "execution_count": 4
        }
      ]
    },
    {
      "cell_type": "markdown",
      "source": [
        "SPECIAL (MAGIC/DUNDER) METHODS"
      ],
      "metadata": {
        "id": "-HJf1Y1_Eflq"
      },
      "id": "-HJf1Y1_Eflq"
    },
    {
      "cell_type": "code",
      "source": [
        "class Book():\n",
        "\n",
        "    def __init__(self, title, author, pages):\n",
        "\n",
        "        self.title = title\n",
        "        self.author = author\n",
        "        self.pages = pages\n",
        "\n",
        "    def __str__(self):\n",
        "        return f\"{self.title} by {self.author}\"\n",
        "\n",
        "    def __len__(self):\n",
        "        return self.pages\n",
        "\n",
        "    def __del__(self):\n",
        "        print('A book object has been deleted')\n",
        "\n",
        "b = Book('Python rocks', 'Jose', 200)\n",
        "print(b, len(b))"
      ],
      "metadata": {
        "colab": {
          "base_uri": "https://localhost:8080/"
        },
        "id": "QSNC_-47DO2y",
        "outputId": "2613d48a-49ca-4211-c409-9bb7a6b0f235"
      },
      "id": "QSNC_-47DO2y",
      "execution_count": null,
      "outputs": [
        {
          "output_type": "stream",
          "name": "stdout",
          "text": [
            "Python rocks by Jose 200\n"
          ]
        }
      ]
    },
    {
      "cell_type": "code",
      "source": [
        "del b"
      ],
      "metadata": {
        "colab": {
          "base_uri": "https://localhost:8080/"
        },
        "id": "9Il1lraqE030",
        "outputId": "77aa0073-21c3-4f26-d3be-3d8679ef5001"
      },
      "id": "9Il1lraqE030",
      "execution_count": null,
      "outputs": [
        {
          "output_type": "stream",
          "name": "stdout",
          "text": [
            "A book object has been deleted\n"
          ]
        }
      ]
    },
    {
      "cell_type": "code",
      "source": [
        "b"
      ],
      "metadata": {
        "colab": {
          "base_uri": "https://localhost:8080/",
          "height": 180
        },
        "id": "dymfiB15E2uc",
        "outputId": "030d992b-01a8-4d7d-d823-518c103fe130"
      },
      "id": "dymfiB15E2uc",
      "execution_count": null,
      "outputs": [
        {
          "output_type": "error",
          "ename": "NameError",
          "evalue": "ignored",
          "traceback": [
            "\u001b[0;31m---------------------------------------------------------------------------\u001b[0m",
            "\u001b[0;31mNameError\u001b[0m                                 Traceback (most recent call last)",
            "\u001b[0;32m<ipython-input-10-89e6c98d9288>\u001b[0m in \u001b[0;36m<cell line: 1>\u001b[0;34m()\u001b[0m\n\u001b[0;32m----> 1\u001b[0;31m \u001b[0mb\u001b[0m\u001b[0;34m\u001b[0m\u001b[0;34m\u001b[0m\u001b[0m\n\u001b[0m",
            "\u001b[0;31mNameError\u001b[0m: name 'b' is not defined"
          ]
        }
      ]
    },
    {
      "cell_type": "code",
      "source": [
        "#one.py\n",
        "\n",
        "def func():\n",
        "  print(\"func() in one.py\")\n",
        "\n",
        "print('top level in one.py')\n",
        "\n",
        "if __name__ == '__main__':\n",
        "  print('one.py is being run directly')\n",
        "else:\n",
        "  print('one.py has been imported')\n",
        "\n"
      ],
      "metadata": {
        "colab": {
          "base_uri": "https://localhost:8080/"
        },
        "id": "oZH9JXVrE44s",
        "outputId": "f3a9995f-c6fa-49f0-a8e1-4eb99bd88c93"
      },
      "id": "oZH9JXVrE44s",
      "execution_count": null,
      "outputs": [
        {
          "output_type": "stream",
          "name": "stdout",
          "text": [
            "top level in one.py\n",
            "one.py is being run directly\n"
          ]
        }
      ]
    },
    {
      "cell_type": "code",
      "source": [
        "class ONEE():\n",
        "\n",
        "  def func(self):\n",
        "    print(\"func() in one.py\")\n",
        "\n",
        "print('top level in one.py')\n",
        "\n",
        "if __name__ == '__main__':\n",
        "  print('one.py is being run directly')\n",
        "else:\n",
        "  print('one.py has been imported')"
      ],
      "metadata": {
        "colab": {
          "base_uri": "https://localhost:8080/"
        },
        "id": "vexIPwnkL4Pz",
        "outputId": "1b226ca0-a605-484c-cbc1-7accbc715b76"
      },
      "id": "vexIPwnkL4Pz",
      "execution_count": null,
      "outputs": [
        {
          "output_type": "stream",
          "name": "stdout",
          "text": [
            "top level in one.py\n",
            "one.py is being run directly\n"
          ]
        }
      ]
    },
    {
      "cell_type": "code",
      "source": [
        "\n",
        "one = ONEE() # can import python files in notebook but this file name is two.py and instead pf creating above object we we import one.py as import one and output would be different\n",
        "\n",
        "print('top level in two.py')\n",
        "\n",
        "one.func()\n",
        "\n",
        "if __name__ == '__main__':\n",
        "  print('two.py is being run directly')\n",
        "else:\n",
        "  print('two.py has been imported')"
      ],
      "metadata": {
        "colab": {
          "base_uri": "https://localhost:8080/"
        },
        "id": "4O8EEaywLDVx",
        "outputId": "a676cb82-b086-4fe2-d728-a5660b640d1e"
      },
      "id": "4O8EEaywLDVx",
      "execution_count": null,
      "outputs": [
        {
          "output_type": "stream",
          "name": "stdout",
          "text": [
            "top level in two.py\n",
            "func() in one.py\n",
            "two.py is being run directly\n"
          ]
        }
      ]
    },
    {
      "cell_type": "markdown",
      "source": [
        "# ERRORS AND EXCEPTION HANDELING"
      ],
      "metadata": {
        "id": "vfES906sNITB"
      },
      "id": "vfES906sNITB"
    },
    {
      "cell_type": "code",
      "source": [
        "try:\n",
        "  result = 10+'10'\n",
        "except:\n",
        "  print('incorrect addition')\n",
        "else:\n",
        "  print('correct addition')\n",
        "  print(result)\n"
      ],
      "metadata": {
        "colab": {
          "base_uri": "https://localhost:8080/"
        },
        "id": "CTSYXhe0MU7A",
        "outputId": "5ba86c3f-bd87-48e6-892f-c01d8b5c35c4"
      },
      "id": "CTSYXhe0MU7A",
      "execution_count": null,
      "outputs": [
        {
          "output_type": "stream",
          "name": "stdout",
          "text": [
            "incorrect addition\n"
          ]
        }
      ]
    },
    {
      "cell_type": "code",
      "source": [
        "try:\n",
        "  result = 10+10\n",
        "except:\n",
        "  print('incorrect addition')\n",
        "else:\n",
        "  print('correct addition')\n",
        "  print(result)\n"
      ],
      "metadata": {
        "colab": {
          "base_uri": "https://localhost:8080/"
        },
        "id": "wzFHxX8DOa2m",
        "outputId": "074bc074-e4fd-4cb8-caca-a8a3e3b45cda"
      },
      "id": "wzFHxX8DOa2m",
      "execution_count": null,
      "outputs": [
        {
          "output_type": "stream",
          "name": "stdout",
          "text": [
            "correct addition\n",
            "20\n"
          ]
        }
      ]
    },
    {
      "cell_type": "code",
      "source": [
        "try:\n",
        "  result = 10+'10'\n",
        "except:\n",
        "  print('incorrect addition')\n",
        "finally:\n",
        "  print('executing anyway')\n",
        "  print(result)\n"
      ],
      "metadata": {
        "colab": {
          "base_uri": "https://localhost:8080/"
        },
        "id": "zYlSzdmwOgoW",
        "outputId": "660bc93b-8043-4d33-b55b-d0420ebb0d28"
      },
      "id": "zYlSzdmwOgoW",
      "execution_count": null,
      "outputs": [
        {
          "output_type": "stream",
          "name": "stdout",
          "text": [
            "incorrect addition\n",
            "executing anyway\n",
            "20\n"
          ]
        }
      ]
    },
    {
      "cell_type": "code",
      "source": [
        "def ask_for_int():\n",
        "\n",
        "  while True:\n",
        "    try:\n",
        "      result = int(input('please provide number'))\n",
        "    except:\n",
        "      print('whoops! that is not a number')\n",
        "      continue\n",
        "    else:\n",
        "      print('thank you!')\n",
        "      break\n",
        "    finally:\n",
        "      print('end of try/except/finally')\n",
        "      print('i will always run at the end!')\n",
        "\n",
        "ask_for_int()"
      ],
      "metadata": {
        "colab": {
          "base_uri": "https://localhost:8080/"
        },
        "id": "P6BtIlrgPImC",
        "outputId": "3773cc79-e592-487e-92ac-42d65b716db0"
      },
      "id": "P6BtIlrgPImC",
      "execution_count": null,
      "outputs": [
        {
          "output_type": "stream",
          "name": "stdout",
          "text": [
            "please provide numberq\n",
            " whoops! that is not a number\n",
            " end of try/except/finally\n",
            "i will always run at the end!\n",
            "please provide numberq\n",
            " whoops! that is not a number\n",
            " end of try/except/finally\n",
            "i will always run at the end!\n",
            "please provide number2\n",
            "thank you!\n",
            " end of try/except/finally\n",
            "i will always run at the end!\n"
          ]
        }
      ]
    },
    {
      "cell_type": "code",
      "source": [
        "s = 'monty python'\n",
        "print(s.capitalize())\n",
        "print(s.title())"
      ],
      "metadata": {
        "colab": {
          "base_uri": "https://localhost:8080/"
        },
        "id": "MS9ZjlCHWhh9",
        "outputId": "010f26f5-c732-4999-b6ce-9d722b0971c8"
      },
      "id": "MS9ZjlCHWhh9",
      "execution_count": null,
      "outputs": [
        {
          "output_type": "stream",
          "name": "stdout",
          "text": [
            "Monty python\n",
            "Monty Python\n"
          ]
        }
      ]
    },
    {
      "cell_type": "markdown",
      "source": [
        "DECORATOR"
      ],
      "metadata": {
        "id": "KMyTuxgunF5m"
      },
      "id": "KMyTuxgunF5m"
    },
    {
      "cell_type": "code",
      "source": [
        "def a_decorator(a_func):\n",
        "  def wrap_function():\n",
        "    print('something above')\n",
        "    a_func()\n",
        "    print('something below')\n",
        "\n",
        "  return wrap_function\n",
        "\n",
        "@a_decorator #comment out this line to revert the changes. useful when want to switch on/off new changes to an existing function during dev/experimentation\n",
        "def sample_func():\n",
        "  print('i want to be decorated')\n",
        "\n",
        "sample_func()"
      ],
      "metadata": {
        "colab": {
          "base_uri": "https://localhost:8080/"
        },
        "id": "UMH6n6pUfsfS",
        "outputId": "6f1b3ef3-5e03-41b8-f5c4-2b10f2753b94"
      },
      "id": "UMH6n6pUfsfS",
      "execution_count": null,
      "outputs": [
        {
          "output_type": "stream",
          "name": "stdout",
          "text": [
            "something above\n",
            "i want to be decorated\n",
            "something below\n"
          ]
        }
      ]
    },
    {
      "cell_type": "markdown",
      "source": [
        "GENERATOR"
      ],
      "metadata": {
        "id": "LolP9C7vnDDA"
      },
      "id": "LolP9C7vnDDA"
    },
    {
      "cell_type": "code",
      "source": [
        "def gen_fibon(n):\n",
        "\n",
        "  a = 1\n",
        "  b = 1\n",
        "\n",
        "  for i in range(n):\n",
        "    yield a\n",
        "    a,b = b,a+b\n",
        "\n",
        "for number in gen_fibon(10):\n",
        "  print(number)"
      ],
      "metadata": {
        "colab": {
          "base_uri": "https://localhost:8080/"
        },
        "id": "hHux8z_mkRvp",
        "outputId": "a01ca0be-056a-422a-9996-c9fc02613425"
      },
      "id": "hHux8z_mkRvp",
      "execution_count": null,
      "outputs": [
        {
          "output_type": "stream",
          "name": "stdout",
          "text": [
            "1\n",
            "1\n",
            "2\n",
            "3\n",
            "5\n",
            "8\n",
            "13\n",
            "21\n",
            "34\n",
            "55\n"
          ]
        }
      ]
    },
    {
      "cell_type": "code",
      "source": [
        "def simple_gen():\n",
        "  for x in range(3):\n",
        "    yield x"
      ],
      "metadata": {
        "id": "0pQI3Zo4l39S"
      },
      "id": "0pQI3Zo4l39S",
      "execution_count": null,
      "outputs": []
    },
    {
      "cell_type": "code",
      "source": [
        "for number in simple_gen():\n",
        "  print(number)"
      ],
      "metadata": {
        "colab": {
          "base_uri": "https://localhost:8080/"
        },
        "id": "OOzeUuJumUAV",
        "outputId": "3994c1ba-2104-45ea-870b-5101b95ddc05"
      },
      "id": "OOzeUuJumUAV",
      "execution_count": null,
      "outputs": [
        {
          "output_type": "stream",
          "name": "stdout",
          "text": [
            "0\n",
            "1\n",
            "2\n"
          ]
        }
      ]
    },
    {
      "cell_type": "code",
      "source": [
        "g=simple_gen()"
      ],
      "metadata": {
        "id": "63jcTa64maZG"
      },
      "id": "63jcTa64maZG",
      "execution_count": null,
      "outputs": []
    },
    {
      "cell_type": "code",
      "source": [
        "g"
      ],
      "metadata": {
        "colab": {
          "base_uri": "https://localhost:8080/"
        },
        "id": "hWFqFzEwmdol",
        "outputId": "fb9e4861-3778-4378-a6f8-df2fe9c99604"
      },
      "id": "hWFqFzEwmdol",
      "execution_count": null,
      "outputs": [
        {
          "output_type": "execute_result",
          "data": {
            "text/plain": [
              "<generator object simple_gen at 0x7e86ac0cb1b0>"
            ]
          },
          "metadata": {},
          "execution_count": 56
        }
      ]
    },
    {
      "cell_type": "code",
      "source": [
        "print(next(g))"
      ],
      "metadata": {
        "colab": {
          "base_uri": "https://localhost:8080/"
        },
        "id": "hMSwpGgImfJd",
        "outputId": "ae78f426-172b-4fbc-e2c0-5662b70e4c54"
      },
      "id": "hMSwpGgImfJd",
      "execution_count": null,
      "outputs": [
        {
          "output_type": "stream",
          "name": "stdout",
          "text": [
            "0\n"
          ]
        }
      ]
    },
    {
      "cell_type": "code",
      "source": [
        "s = 'string'\n",
        "s = iter(s) #makes it a generator sort of\n"
      ],
      "metadata": {
        "id": "lJIrGlipmgqm"
      },
      "id": "lJIrGlipmgqm",
      "execution_count": null,
      "outputs": []
    },
    {
      "cell_type": "code",
      "source": [
        "next(s)"
      ],
      "metadata": {
        "colab": {
          "base_uri": "https://localhost:8080/",
          "height": 36
        },
        "id": "1h2JT0T5m1oC",
        "outputId": "be46377c-5ac5-4442-bd9d-249765efe8f2"
      },
      "id": "1h2JT0T5m1oC",
      "execution_count": null,
      "outputs": [
        {
          "output_type": "execute_result",
          "data": {
            "text/plain": [
              "'s'"
            ],
            "application/vnd.google.colaboratory.intrinsic+json": {
              "type": "string"
            }
          },
          "metadata": {},
          "execution_count": 59
        }
      ]
    },
    {
      "cell_type": "code",
      "source": [
        "my_list = [1,2,3,4,5]\n",
        "\n",
        "gencomp = (item for item in my_list if item>3) #a generator instead of list\n",
        "\n",
        "print(next(gencomp))\n",
        "print(list(gencomp))"
      ],
      "metadata": {
        "colab": {
          "base_uri": "https://localhost:8080/"
        },
        "id": "o_cpONlrm25J",
        "outputId": "2a5fc757-b669-4e01-c6b4-3be84571e39d"
      },
      "id": "o_cpONlrm25J",
      "execution_count": null,
      "outputs": [
        {
          "output_type": "stream",
          "name": "stdout",
          "text": [
            "4\n",
            "[5]\n"
          ]
        }
      ]
    },
    {
      "cell_type": "markdown",
      "source": [
        "# Collections Module - Counter"
      ],
      "metadata": {
        "id": "Kk8Q2qUzCGGH"
      },
      "id": "Kk8Q2qUzCGGH"
    },
    {
      "cell_type": "code",
      "source": [
        "# counter\n",
        "from collections import Counter"
      ],
      "metadata": {
        "id": "wtF9GYXkoK2J"
      },
      "id": "wtF9GYXkoK2J",
      "execution_count": null,
      "outputs": []
    },
    {
      "cell_type": "code",
      "source": [
        "l = [1,1,1,1,1,1,12,12,2,2,2,23,3,3,3,4,4,4,44]\n",
        "Counter(l)"
      ],
      "metadata": {
        "colab": {
          "base_uri": "https://localhost:8080/"
        },
        "id": "UpA497_fCJM0",
        "outputId": "da4178df-269f-44df-aa4c-a1a65a8a661b"
      },
      "id": "UpA497_fCJM0",
      "execution_count": null,
      "outputs": [
        {
          "output_type": "execute_result",
          "data": {
            "text/plain": [
              "Counter({1: 6, 12: 2, 2: 3, 23: 1, 3: 3, 4: 3, 44: 1})"
            ]
          },
          "metadata": {},
          "execution_count": 2
        }
      ]
    },
    {
      "cell_type": "code",
      "source": [
        "s = 'sgoadgjksnfkjskjdnfksjdfnksdjfnksdjn'\n",
        "Counter(s)"
      ],
      "metadata": {
        "colab": {
          "base_uri": "https://localhost:8080/"
        },
        "id": "qx5XUZ5KCMKt",
        "outputId": "12021633-d066-4e6a-c5ee-94d7d42fee75"
      },
      "id": "qx5XUZ5KCMKt",
      "execution_count": null,
      "outputs": [
        {
          "output_type": "execute_result",
          "data": {
            "text/plain": [
              "Counter({'s': 6,\n",
              "         'g': 2,\n",
              "         'o': 1,\n",
              "         'a': 1,\n",
              "         'd': 5,\n",
              "         'j': 6,\n",
              "         'k': 6,\n",
              "         'n': 5,\n",
              "         'f': 4})"
            ]
          },
          "metadata": {},
          "execution_count": 3
        }
      ]
    },
    {
      "cell_type": "code",
      "source": [
        "s = 'How many times does each word show up in this sentence show show up up and tell me me me'\n",
        "words = s.split()\n",
        "\n",
        "Counter(words)"
      ],
      "metadata": {
        "colab": {
          "base_uri": "https://localhost:8080/"
        },
        "id": "CrLy1j8PCMc8",
        "outputId": "a749ce11-100e-4118-d388-77f660a95ff1"
      },
      "id": "CrLy1j8PCMc8",
      "execution_count": null,
      "outputs": [
        {
          "output_type": "execute_result",
          "data": {
            "text/plain": [
              "Counter({'How': 1,\n",
              "         'many': 1,\n",
              "         'times': 1,\n",
              "         'does': 1,\n",
              "         'each': 1,\n",
              "         'word': 1,\n",
              "         'show': 3,\n",
              "         'up': 3,\n",
              "         'in': 1,\n",
              "         'this': 1,\n",
              "         'sentence': 1,\n",
              "         'and': 1,\n",
              "         'tell': 1,\n",
              "         'me': 3})"
            ]
          },
          "metadata": {},
          "execution_count": 4
        }
      ]
    },
    {
      "cell_type": "code",
      "source": [
        "c = Counter(words)\n",
        "c.most_common(2)"
      ],
      "metadata": {
        "colab": {
          "base_uri": "https://localhost:8080/"
        },
        "id": "thF5cjGCCNDs",
        "outputId": "b1a3aa58-ca80-45e6-ebca-3ce1e94a2f4b"
      },
      "id": "thF5cjGCCNDs",
      "execution_count": null,
      "outputs": [
        {
          "output_type": "execute_result",
          "data": {
            "text/plain": [
              "[('show', 3), ('up', 3)]"
            ]
          },
          "metadata": {},
          "execution_count": 5
        }
      ]
    },
    {
      "cell_type": "code",
      "source": [
        "sum(c.values())"
      ],
      "metadata": {
        "colab": {
          "base_uri": "https://localhost:8080/"
        },
        "id": "Mp8CUBHyCNY2",
        "outputId": "460d87d9-193e-44ec-d4d2-633210933e45"
      },
      "id": "Mp8CUBHyCNY2",
      "execution_count": null,
      "outputs": [
        {
          "output_type": "execute_result",
          "data": {
            "text/plain": [
              "20"
            ]
          },
          "metadata": {},
          "execution_count": 6
        }
      ]
    },
    {
      "cell_type": "markdown",
      "source": [
        "# Collections Module - Defaultdict"
      ],
      "metadata": {
        "id": "7-4SSG4rCYRI"
      },
      "id": "7-4SSG4rCYRI"
    },
    {
      "cell_type": "code",
      "source": [
        "from collections import defaultdict"
      ],
      "metadata": {
        "id": "M7LeNYnhCNsV"
      },
      "id": "M7LeNYnhCNsV",
      "execution_count": null,
      "outputs": []
    },
    {
      "cell_type": "code",
      "source": [
        "d = {'k1':1}"
      ],
      "metadata": {
        "id": "d5kwul0vCOAN"
      },
      "id": "d5kwul0vCOAN",
      "execution_count": null,
      "outputs": []
    },
    {
      "cell_type": "code",
      "source": [
        "d['k1']"
      ],
      "metadata": {
        "colab": {
          "base_uri": "https://localhost:8080/"
        },
        "id": "t8A44U-dCOJV",
        "outputId": "175c6943-65c8-4fd1-a915-bf3704f3f168"
      },
      "id": "t8A44U-dCOJV",
      "execution_count": null,
      "outputs": [
        {
          "output_type": "execute_result",
          "data": {
            "text/plain": [
              "1"
            ]
          },
          "metadata": {},
          "execution_count": 9
        }
      ]
    },
    {
      "cell_type": "code",
      "source": [
        "d['k2']"
      ],
      "metadata": {
        "colab": {
          "base_uri": "https://localhost:8080/",
          "height": 180
        },
        "id": "gMumKs-DCOU0",
        "outputId": "6d9a7553-b510-4c77-941c-cc7d52fea41b"
      },
      "id": "gMumKs-DCOU0",
      "execution_count": null,
      "outputs": [
        {
          "output_type": "error",
          "ename": "KeyError",
          "evalue": "ignored",
          "traceback": [
            "\u001b[0;31m---------------------------------------------------------------------------\u001b[0m",
            "\u001b[0;31mKeyError\u001b[0m                                  Traceback (most recent call last)",
            "\u001b[0;32m<ipython-input-10-b2441cdc6b89>\u001b[0m in \u001b[0;36m<cell line: 1>\u001b[0;34m()\u001b[0m\n\u001b[0;32m----> 1\u001b[0;31m \u001b[0md\u001b[0m\u001b[0;34m[\u001b[0m\u001b[0;34m'k2'\u001b[0m\u001b[0;34m]\u001b[0m\u001b[0;34m\u001b[0m\u001b[0;34m\u001b[0m\u001b[0m\n\u001b[0m",
            "\u001b[0;31mKeyError\u001b[0m: 'k2'"
          ]
        }
      ]
    },
    {
      "cell_type": "code",
      "source": [
        "d = defaultdict(object)"
      ],
      "metadata": {
        "id": "SYfuJeRCCOe0"
      },
      "id": "SYfuJeRCCOe0",
      "execution_count": null,
      "outputs": []
    },
    {
      "cell_type": "code",
      "source": [
        "d['one']"
      ],
      "metadata": {
        "id": "4dEgE1paCOok"
      },
      "id": "4dEgE1paCOok",
      "execution_count": null,
      "outputs": []
    },
    {
      "cell_type": "code",
      "source": [
        "for item in d:\n",
        "    print (item)"
      ],
      "metadata": {
        "id": "gLj1eCtPCOyc"
      },
      "id": "gLj1eCtPCOyc",
      "execution_count": null,
      "outputs": []
    },
    {
      "cell_type": "code",
      "source": [
        "d = defaultdict(lambda:0)\n",
        "d['one']"
      ],
      "metadata": {
        "id": "nzBDaro3CO9M"
      },
      "id": "nzBDaro3CO9M",
      "execution_count": null,
      "outputs": []
    },
    {
      "cell_type": "code",
      "source": [
        "d['two'] = 2"
      ],
      "metadata": {
        "id": "QdK869fyCPHM"
      },
      "id": "QdK869fyCPHM",
      "execution_count": null,
      "outputs": []
    },
    {
      "cell_type": "code",
      "source": [
        "d"
      ],
      "metadata": {
        "id": "tytnnDPqCPRN"
      },
      "id": "tytnnDPqCPRN",
      "execution_count": null,
      "outputs": []
    },
    {
      "cell_type": "markdown",
      "source": [
        "# Collections Module - OrderedDict"
      ],
      "metadata": {
        "id": "DTD6-bFwCsNh"
      },
      "id": "DTD6-bFwCsNh"
    },
    {
      "cell_type": "code",
      "source": [
        "d = {}\n",
        "\n",
        "d['a'] = 1\n",
        "d['b'] = 2\n",
        "d['c'] = 3\n",
        "d['d'] = 4\n",
        "d['e'] = 5"
      ],
      "metadata": {
        "id": "wO0JB59pCo1p"
      },
      "id": "wO0JB59pCo1p",
      "execution_count": null,
      "outputs": []
    },
    {
      "cell_type": "code",
      "source": [
        "d"
      ],
      "metadata": {
        "id": "G9GrUGgJCpH5"
      },
      "id": "G9GrUGgJCpH5",
      "execution_count": null,
      "outputs": []
    },
    {
      "cell_type": "code",
      "source": [
        "for k,v in d.items():\n",
        "    print (k,v)"
      ],
      "metadata": {
        "id": "oCCuqpUqCpZJ"
      },
      "id": "oCCuqpUqCpZJ",
      "execution_count": null,
      "outputs": []
    },
    {
      "cell_type": "code",
      "source": [
        "from collections import OrderedDict"
      ],
      "metadata": {
        "id": "H27cQnTzCpmw"
      },
      "id": "H27cQnTzCpmw",
      "execution_count": null,
      "outputs": []
    },
    {
      "cell_type": "code",
      "source": [
        "d = OrderedDict()"
      ],
      "metadata": {
        "id": "920ueiO2Cpxh"
      },
      "id": "920ueiO2Cpxh",
      "execution_count": null,
      "outputs": []
    },
    {
      "cell_type": "code",
      "source": [
        "d['a'] = 1\n",
        "d['b'] = 2\n",
        "d['c'] = 3\n",
        "d['d'] = 4\n",
        "d['e'] = 5"
      ],
      "metadata": {
        "id": "oEQIt-pfCp9B"
      },
      "id": "oEQIt-pfCp9B",
      "execution_count": null,
      "outputs": []
    },
    {
      "cell_type": "code",
      "source": [
        "for k,v in d.items():\n",
        "    print(k,v)"
      ],
      "metadata": {
        "colab": {
          "base_uri": "https://localhost:8080/"
        },
        "id": "tswd9Qn6CqHy",
        "outputId": "47f9fe49-0c3c-4608-b5be-0fa535d9a37f"
      },
      "id": "tswd9Qn6CqHy",
      "execution_count": null,
      "outputs": [
        {
          "output_type": "stream",
          "name": "stdout",
          "text": [
            "k1 1\n",
            "a 1\n",
            "b 2\n",
            "c 3\n",
            "d 4\n",
            "e 5\n"
          ]
        }
      ]
    },
    {
      "cell_type": "code",
      "source": [
        "d1 = OrderedDict()\n",
        "d1['a'] = 1\n",
        "d1['b'] = 2\n",
        "\n",
        "d2 = OrderedDict()\n",
        "d2['b'] = 2\n",
        "d2['a'] = 1"
      ],
      "metadata": {
        "colab": {
          "base_uri": "https://localhost:8080/",
          "height": 252
        },
        "id": "Xvq6sC5zCqqA",
        "outputId": "d8235fce-7a99-49ef-c62d-d71da07465b6"
      },
      "id": "Xvq6sC5zCqqA",
      "execution_count": null,
      "outputs": [
        {
          "output_type": "error",
          "ename": "NameError",
          "evalue": "ignored",
          "traceback": [
            "\u001b[0;31m---------------------------------------------------------------------------\u001b[0m",
            "\u001b[0;31mNameError\u001b[0m                                 Traceback (most recent call last)",
            "\u001b[0;32m<ipython-input-13-df764047f32f>\u001b[0m in \u001b[0;36m<cell line: 1>\u001b[0;34m()\u001b[0m\n\u001b[0;32m----> 1\u001b[0;31m \u001b[0md1\u001b[0m \u001b[0;34m=\u001b[0m \u001b[0mOrderedDict\u001b[0m\u001b[0;34m(\u001b[0m\u001b[0;34m)\u001b[0m\u001b[0;34m\u001b[0m\u001b[0;34m\u001b[0m\u001b[0m\n\u001b[0m\u001b[1;32m      2\u001b[0m \u001b[0md1\u001b[0m\u001b[0;34m[\u001b[0m\u001b[0;34m'a'\u001b[0m\u001b[0;34m]\u001b[0m \u001b[0;34m=\u001b[0m \u001b[0;36m1\u001b[0m\u001b[0;34m\u001b[0m\u001b[0;34m\u001b[0m\u001b[0m\n\u001b[1;32m      3\u001b[0m \u001b[0md1\u001b[0m\u001b[0;34m[\u001b[0m\u001b[0;34m'b'\u001b[0m\u001b[0;34m]\u001b[0m \u001b[0;34m=\u001b[0m \u001b[0;36m2\u001b[0m\u001b[0;34m\u001b[0m\u001b[0;34m\u001b[0m\u001b[0m\n\u001b[1;32m      4\u001b[0m \u001b[0;34m\u001b[0m\u001b[0m\n\u001b[1;32m      5\u001b[0m \u001b[0md2\u001b[0m \u001b[0;34m=\u001b[0m \u001b[0mOrderedDict\u001b[0m\u001b[0;34m(\u001b[0m\u001b[0;34m)\u001b[0m\u001b[0;34m\u001b[0m\u001b[0;34m\u001b[0m\u001b[0m\n",
            "\u001b[0;31mNameError\u001b[0m: name 'OrderedDict' is not defined"
          ]
        }
      ]
    },
    {
      "cell_type": "code",
      "source": [
        "print (d1 == d2)"
      ],
      "metadata": {
        "id": "IfmhrJkSCq0o"
      },
      "id": "IfmhrJkSCq0o",
      "execution_count": null,
      "outputs": []
    },
    {
      "cell_type": "markdown",
      "source": [
        "# Collections Module - namedtuple"
      ],
      "metadata": {
        "id": "fos_HN5RC_ak"
      },
      "id": "fos_HN5RC_ak"
    },
    {
      "cell_type": "code",
      "source": [
        "t = (1,2,3)"
      ],
      "metadata": {
        "id": "lOSn41lmCq-w"
      },
      "id": "lOSn41lmCq-w",
      "execution_count": null,
      "outputs": []
    },
    {
      "cell_type": "code",
      "source": [
        "t[0]"
      ],
      "metadata": {
        "id": "PmHyg9c4CrIh"
      },
      "id": "PmHyg9c4CrIh",
      "execution_count": null,
      "outputs": []
    },
    {
      "cell_type": "code",
      "source": [
        "from collections import namedtuple"
      ],
      "metadata": {
        "id": "7oaTYVOQCrSJ"
      },
      "id": "7oaTYVOQCrSJ",
      "execution_count": null,
      "outputs": []
    },
    {
      "cell_type": "code",
      "source": [
        "Dog = namedtuple('Dog', 'age breed name')"
      ],
      "metadata": {
        "id": "UhopcdysCrbS"
      },
      "id": "UhopcdysCrbS",
      "execution_count": null,
      "outputs": []
    },
    {
      "cell_type": "code",
      "source": [
        "sam = Dog(age=2, breed='Lab', name='Sammy')"
      ],
      "metadata": {
        "id": "Xwe5tIAxDHiS"
      },
      "id": "Xwe5tIAxDHiS",
      "execution_count": null,
      "outputs": []
    },
    {
      "cell_type": "code",
      "source": [
        "sam"
      ],
      "metadata": {
        "colab": {
          "base_uri": "https://localhost:8080/",
          "height": 180
        },
        "id": "PQtx7pEVDH2b",
        "outputId": "67233005-f9f4-4c61-d35b-34ca279d526a"
      },
      "id": "PQtx7pEVDH2b",
      "execution_count": null,
      "outputs": [
        {
          "output_type": "error",
          "ename": "NameError",
          "evalue": "ignored",
          "traceback": [
            "\u001b[0;31m---------------------------------------------------------------------------\u001b[0m",
            "\u001b[0;31mNameError\u001b[0m                                 Traceback (most recent call last)",
            "\u001b[0;32m<ipython-input-14-7a416e70e7e9>\u001b[0m in \u001b[0;36m<cell line: 1>\u001b[0;34m()\u001b[0m\n\u001b[0;32m----> 1\u001b[0;31m \u001b[0msam\u001b[0m\u001b[0;34m\u001b[0m\u001b[0;34m\u001b[0m\u001b[0m\n\u001b[0m",
            "\u001b[0;31mNameError\u001b[0m: name 'sam' is not defined"
          ]
        }
      ]
    },
    {
      "cell_type": "code",
      "source": [
        "sam.age"
      ],
      "metadata": {
        "id": "IaYFgV0RDIDs"
      },
      "id": "IaYFgV0RDIDs",
      "execution_count": null,
      "outputs": []
    },
    {
      "cell_type": "code",
      "source": [
        "sam[0]"
      ],
      "metadata": {
        "id": "uhCkNJxMDIaF"
      },
      "id": "uhCkNJxMDIaF",
      "execution_count": null,
      "outputs": []
    },
    {
      "cell_type": "code",
      "source": [
        "Cat = namedtuple('Cat', 'fur claws name')"
      ],
      "metadata": {
        "id": "qIchVidlDIzB"
      },
      "id": "qIchVidlDIzB",
      "execution_count": null,
      "outputs": []
    },
    {
      "cell_type": "code",
      "source": [
        "\n",
        "c = Cat(fur='Fuzzy', claws=False, name='Kitty')"
      ],
      "metadata": {
        "colab": {
          "base_uri": "https://localhost:8080/",
          "height": 180
        },
        "id": "9sTSRhaYDJDi",
        "outputId": "fc1ebf0f-d850-4e60-c223-007194e63836"
      },
      "id": "9sTSRhaYDJDi",
      "execution_count": null,
      "outputs": [
        {
          "output_type": "error",
          "ename": "NameError",
          "evalue": "ignored",
          "traceback": [
            "\u001b[0;31m---------------------------------------------------------------------------\u001b[0m",
            "\u001b[0;31mNameError\u001b[0m                                 Traceback (most recent call last)",
            "\u001b[0;32m<ipython-input-15-218a2254daf2>\u001b[0m in \u001b[0;36m<cell line: 1>\u001b[0;34m()\u001b[0m\n\u001b[0;32m----> 1\u001b[0;31m \u001b[0mc\u001b[0m \u001b[0;34m=\u001b[0m \u001b[0mCat\u001b[0m\u001b[0;34m(\u001b[0m\u001b[0mfur\u001b[0m\u001b[0;34m=\u001b[0m\u001b[0;34m'Fuzzy'\u001b[0m\u001b[0;34m,\u001b[0m \u001b[0mclaws\u001b[0m\u001b[0;34m=\u001b[0m\u001b[0;32mFalse\u001b[0m\u001b[0;34m,\u001b[0m \u001b[0mname\u001b[0m\u001b[0;34m=\u001b[0m\u001b[0;34m'Kitty'\u001b[0m\u001b[0;34m)\u001b[0m\u001b[0;34m\u001b[0m\u001b[0;34m\u001b[0m\u001b[0m\n\u001b[0m",
            "\u001b[0;31mNameError\u001b[0m: name 'Cat' is not defined"
          ]
        }
      ]
    },
    {
      "cell_type": "code",
      "source": [
        "c"
      ],
      "metadata": {
        "colab": {
          "base_uri": "https://localhost:8080/"
        },
        "id": "-SwyzlzeDJdY",
        "outputId": "e98ced79-c3a4-41cd-c2d1-b96d86c1823f"
      },
      "id": "-SwyzlzeDJdY",
      "execution_count": null,
      "outputs": [
        {
          "output_type": "execute_result",
          "data": {
            "text/plain": [
              "Counter({'How': 1,\n",
              "         'many': 1,\n",
              "         'times': 1,\n",
              "         'does': 1,\n",
              "         'each': 1,\n",
              "         'word': 1,\n",
              "         'show': 3,\n",
              "         'up': 3,\n",
              "         'in': 1,\n",
              "         'this': 1,\n",
              "         'sentence': 1,\n",
              "         'and': 1,\n",
              "         'tell': 1,\n",
              "         'me': 3})"
            ]
          },
          "metadata": {},
          "execution_count": 16
        }
      ]
    },
    {
      "cell_type": "markdown",
      "source": [
        "# Datetime"
      ],
      "metadata": {
        "id": "ln8jZ0q2DWnH"
      },
      "id": "ln8jZ0q2DWnH"
    },
    {
      "cell_type": "code",
      "source": [
        "import datetime"
      ],
      "metadata": {
        "id": "W2cxIH17DJv2"
      },
      "id": "W2cxIH17DJv2",
      "execution_count": null,
      "outputs": []
    },
    {
      "cell_type": "code",
      "source": [
        "\n",
        "t = datetime.time(5,25,1)"
      ],
      "metadata": {
        "id": "imWtWU4sDJ_P"
      },
      "id": "imWtWU4sDJ_P",
      "execution_count": null,
      "outputs": []
    },
    {
      "cell_type": "code",
      "source": [
        "print (t)"
      ],
      "metadata": {
        "colab": {
          "base_uri": "https://localhost:8080/"
        },
        "id": "zcG2hTdvDKmi",
        "outputId": "18a37811-d6c5-4d4b-b1f1-2cf110052ee6"
      },
      "id": "zcG2hTdvDKmi",
      "execution_count": null,
      "outputs": [
        {
          "output_type": "stream",
          "name": "stdout",
          "text": [
            "05:25:01\n"
          ]
        }
      ]
    },
    {
      "cell_type": "code",
      "source": [
        "t.min"
      ],
      "metadata": {
        "colab": {
          "base_uri": "https://localhost:8080/"
        },
        "id": "xH3L-NhJDLBk",
        "outputId": "83bbe3d0-26be-44b2-8d09-cda5a413a301"
      },
      "id": "xH3L-NhJDLBk",
      "execution_count": null,
      "outputs": [
        {
          "output_type": "execute_result",
          "data": {
            "text/plain": [
              "datetime.time(0, 0)"
            ]
          },
          "metadata": {},
          "execution_count": 20
        }
      ]
    },
    {
      "cell_type": "code",
      "source": [
        "datetime.time"
      ],
      "metadata": {
        "colab": {
          "base_uri": "https://localhost:8080/"
        },
        "id": "HEzqSLgsDLRm",
        "outputId": "21f6e92b-f78d-4450-c994-74280c871c33"
      },
      "id": "HEzqSLgsDLRm",
      "execution_count": null,
      "outputs": [
        {
          "output_type": "execute_result",
          "data": {
            "text/plain": [
              "datetime.time"
            ]
          },
          "metadata": {},
          "execution_count": 21
        }
      ]
    },
    {
      "cell_type": "code",
      "source": [
        "print(datetime.time.min)"
      ],
      "metadata": {
        "colab": {
          "base_uri": "https://localhost:8080/"
        },
        "id": "7kzWvPGpDLiG",
        "outputId": "15710fa0-ece1-4f9d-8409-5b508339b142"
      },
      "id": "7kzWvPGpDLiG",
      "execution_count": null,
      "outputs": [
        {
          "output_type": "stream",
          "name": "stdout",
          "text": [
            "00:00:00\n"
          ]
        }
      ]
    },
    {
      "cell_type": "code",
      "source": [
        "print(datetime.time.max)"
      ],
      "metadata": {
        "colab": {
          "base_uri": "https://localhost:8080/"
        },
        "id": "0u2TU-vvDL-5",
        "outputId": "4c680c4b-8198-4683-dfb2-7779845342aa"
      },
      "id": "0u2TU-vvDL-5",
      "execution_count": null,
      "outputs": [
        {
          "output_type": "stream",
          "name": "stdout",
          "text": [
            "23:59:59.999999\n"
          ]
        }
      ]
    },
    {
      "cell_type": "code",
      "source": [
        "today = datetime.date.today()"
      ],
      "metadata": {
        "id": "QhZuMmxuDin5"
      },
      "id": "QhZuMmxuDin5",
      "execution_count": null,
      "outputs": []
    },
    {
      "cell_type": "code",
      "source": [
        "print(today)"
      ],
      "metadata": {
        "colab": {
          "base_uri": "https://localhost:8080/"
        },
        "id": "FY0Fl2fzDizh",
        "outputId": "40511d64-3a12-47f7-e07e-810bee30fef4"
      },
      "id": "FY0Fl2fzDizh",
      "execution_count": null,
      "outputs": [
        {
          "output_type": "stream",
          "name": "stdout",
          "text": [
            "2023-10-18\n"
          ]
        }
      ]
    },
    {
      "cell_type": "code",
      "source": [
        "today.timetuple()"
      ],
      "metadata": {
        "colab": {
          "base_uri": "https://localhost:8080/"
        },
        "id": "n_F_fh1mDi-R",
        "outputId": "21926b37-6678-4f56-cddd-4488ec2fb23a"
      },
      "id": "n_F_fh1mDi-R",
      "execution_count": null,
      "outputs": [
        {
          "output_type": "execute_result",
          "data": {
            "text/plain": [
              "time.struct_time(tm_year=2023, tm_mon=10, tm_mday=18, tm_hour=0, tm_min=0, tm_sec=0, tm_wday=2, tm_yday=291, tm_isdst=-1)"
            ]
          },
          "metadata": {},
          "execution_count": 26
        }
      ]
    },
    {
      "cell_type": "code",
      "source": [
        "today.day"
      ],
      "metadata": {
        "colab": {
          "base_uri": "https://localhost:8080/"
        },
        "id": "MkylqLw9DjJ4",
        "outputId": "ad68e0d5-711e-4751-c192-8faa84546dd4"
      },
      "id": "MkylqLw9DjJ4",
      "execution_count": null,
      "outputs": [
        {
          "output_type": "execute_result",
          "data": {
            "text/plain": [
              "18"
            ]
          },
          "metadata": {},
          "execution_count": 27
        }
      ]
    },
    {
      "cell_type": "code",
      "source": [
        "print(datetime.date.min)"
      ],
      "metadata": {
        "colab": {
          "base_uri": "https://localhost:8080/"
        },
        "id": "8C5w8rwXDjUB",
        "outputId": "eb1abae9-18d1-47ab-c69f-c1eb2792cc2a"
      },
      "id": "8C5w8rwXDjUB",
      "execution_count": null,
      "outputs": [
        {
          "output_type": "stream",
          "name": "stdout",
          "text": [
            "0001-01-01\n"
          ]
        }
      ]
    },
    {
      "cell_type": "code",
      "source": [
        "d1 = datetime.date(2015, 3, 11)\n",
        "print(d1)"
      ],
      "metadata": {
        "colab": {
          "base_uri": "https://localhost:8080/"
        },
        "id": "C7006hclDjcS",
        "outputId": "397ad72b-323d-4892-ad56-2795a5e0a726"
      },
      "id": "C7006hclDjcS",
      "execution_count": null,
      "outputs": [
        {
          "output_type": "stream",
          "name": "stdout",
          "text": [
            "2015-03-11\n"
          ]
        }
      ]
    },
    {
      "cell_type": "code",
      "source": [
        "d2 = d1.replace(year=1990)"
      ],
      "metadata": {
        "id": "l73BQxVzDjjh"
      },
      "id": "l73BQxVzDjjh",
      "execution_count": null,
      "outputs": []
    },
    {
      "cell_type": "code",
      "source": [
        "d2"
      ],
      "metadata": {
        "colab": {
          "base_uri": "https://localhost:8080/"
        },
        "id": "bkpv4BMKDjqB",
        "outputId": "627fcdac-467d-41be-f1bc-987dc184cdb0"
      },
      "id": "bkpv4BMKDjqB",
      "execution_count": null,
      "outputs": [
        {
          "output_type": "execute_result",
          "data": {
            "text/plain": [
              "datetime.date(1990, 3, 11)"
            ]
          },
          "metadata": {},
          "execution_count": 31
        }
      ]
    },
    {
      "cell_type": "code",
      "source": [
        "d1-d2"
      ],
      "metadata": {
        "colab": {
          "base_uri": "https://localhost:8080/"
        },
        "id": "vznDYpCzDjww",
        "outputId": "4cb5fa0a-bf78-4072-90a5-d4c144d41426"
      },
      "id": "vznDYpCzDjww",
      "execution_count": null,
      "outputs": [
        {
          "output_type": "execute_result",
          "data": {
            "text/plain": [
              "datetime.timedelta(days=9131)"
            ]
          },
          "metadata": {},
          "execution_count": 32
        }
      ]
    },
    {
      "cell_type": "markdown",
      "source": [
        "# Timing your code - timeit module"
      ],
      "metadata": {
        "id": "eLIjVZYeD4D6"
      },
      "id": "eLIjVZYeD4D6"
    },
    {
      "cell_type": "code",
      "source": [
        "import timeit"
      ],
      "metadata": {
        "id": "fBf_EXnIDj3Y"
      },
      "id": "fBf_EXnIDj3Y",
      "execution_count": null,
      "outputs": []
    },
    {
      "cell_type": "code",
      "source": [
        "'0-1-2-3-....-99'"
      ],
      "metadata": {
        "colab": {
          "base_uri": "https://localhost:8080/",
          "height": 36
        },
        "id": "iusN_XA5Dj-E",
        "outputId": "2273f7b8-221f-4fe2-fd1e-e13935a6ac45"
      },
      "id": "iusN_XA5Dj-E",
      "execution_count": null,
      "outputs": [
        {
          "output_type": "execute_result",
          "data": {
            "text/plain": [
              "'0-1-2-3-....-99'"
            ],
            "application/vnd.google.colaboratory.intrinsic+json": {
              "type": "string"
            }
          },
          "metadata": {},
          "execution_count": 34
        }
      ]
    },
    {
      "cell_type": "code",
      "source": [
        "\n",
        "timeit.timeit('\"-\".join(str(n) for n in range(100))',number=10000)"
      ],
      "metadata": {
        "colab": {
          "base_uri": "https://localhost:8080/"
        },
        "id": "t8C0AK98DkDw",
        "outputId": "fcaf3745-9d52-4815-bfa2-383afafa5885"
      },
      "id": "t8C0AK98DkDw",
      "execution_count": null,
      "outputs": [
        {
          "output_type": "execute_result",
          "data": {
            "text/plain": [
              "0.12951064699996095"
            ]
          },
          "metadata": {},
          "execution_count": 35
        }
      ]
    },
    {
      "cell_type": "code",
      "source": [
        "timeit.timeit('\"-\".join([str(n) for n in range(100)])',number=10000)"
      ],
      "metadata": {
        "colab": {
          "base_uri": "https://localhost:8080/"
        },
        "id": "bLS6RKK9DkJ7",
        "outputId": "ad361acc-ccfa-4376-c935-125059fd3b6f"
      },
      "id": "bLS6RKK9DkJ7",
      "execution_count": null,
      "outputs": [
        {
          "output_type": "execute_result",
          "data": {
            "text/plain": [
              "0.10365587100000084"
            ]
          },
          "metadata": {},
          "execution_count": 36
        }
      ]
    },
    {
      "cell_type": "code",
      "source": [
        "%timeit \"-\".join(str(n) for n in range(100))"
      ],
      "metadata": {
        "colab": {
          "base_uri": "https://localhost:8080/"
        },
        "id": "w-wZ2FJhDkQZ",
        "outputId": "a6904bfb-9219-47c4-e67e-ae097dd11483"
      },
      "id": "w-wZ2FJhDkQZ",
      "execution_count": null,
      "outputs": [
        {
          "output_type": "stream",
          "name": "stdout",
          "text": [
            "12.2 µs ± 2.53 µs per loop (mean ± std. dev. of 7 runs, 100000 loops each)\n"
          ]
        }
      ]
    },
    {
      "cell_type": "code",
      "source": [
        "%timeit \"-\".join([str(n) for n in range(100)])"
      ],
      "metadata": {
        "colab": {
          "base_uri": "https://localhost:8080/"
        },
        "id": "2IjJTJrtDkWJ",
        "outputId": "344d6653-bad1-4c7d-fe5e-0ff5435a6c86"
      },
      "id": "2IjJTJrtDkWJ",
      "execution_count": null,
      "outputs": [
        {
          "output_type": "stream",
          "name": "stdout",
          "text": [
            "11.3 µs ± 2.22 µs per loop (mean ± std. dev. of 7 runs, 100000 loops each)\n"
          ]
        }
      ]
    },
    {
      "cell_type": "markdown",
      "source": [
        "# Regular Expressions"
      ],
      "metadata": {
        "id": "HOKTlIYLEGpj"
      },
      "id": "HOKTlIYLEGpj"
    },
    {
      "cell_type": "code",
      "source": [
        "import re"
      ],
      "metadata": {
        "id": "1wnvXSPgDkcK"
      },
      "id": "1wnvXSPgDkcK",
      "execution_count": null,
      "outputs": []
    },
    {
      "cell_type": "code",
      "source": [
        "\n",
        "patterns = ['term1', 'term2']"
      ],
      "metadata": {
        "id": "r-EceR72DkiA"
      },
      "id": "r-EceR72DkiA",
      "execution_count": null,
      "outputs": []
    },
    {
      "cell_type": "code",
      "source": [
        "text = 'This is a string with term1, but not the other term'"
      ],
      "metadata": {
        "id": "xvmTX-bqDkoL"
      },
      "id": "xvmTX-bqDkoL",
      "execution_count": null,
      "outputs": []
    },
    {
      "cell_type": "code",
      "source": [
        "for pattern in patterns:\n",
        "    print('Searching for \"%s\" in:\\n \"%s\"\\n' %(pattern,text))\n",
        "\n",
        "    #Check for match\n",
        "    if re.search(pattern,text):\n",
        "        print('Match was found. \\n')\n",
        "    else:\n",
        "        print('No Match was found.\\n')"
      ],
      "metadata": {
        "colab": {
          "base_uri": "https://localhost:8080/"
        },
        "id": "ZgJbY7_eDlQV",
        "outputId": "0c900038-974a-4e9a-eb68-02ece0241ad6"
      },
      "id": "ZgJbY7_eDlQV",
      "execution_count": null,
      "outputs": [
        {
          "output_type": "stream",
          "name": "stdout",
          "text": [
            "Searching for \"term1\" in:\n",
            " \"This is a string with term1, but not the other term\"\n",
            "\n",
            "Match was found. \n",
            "\n",
            "Searching for \"term2\" in:\n",
            " \"This is a string with term1, but not the other term\"\n",
            "\n",
            "No Match was found.\n",
            "\n"
          ]
        }
      ]
    },
    {
      "cell_type": "code",
      "source": [
        "print(re.search('h', 'w'))"
      ],
      "metadata": {
        "colab": {
          "base_uri": "https://localhost:8080/"
        },
        "id": "nlMYa2BSDlVi",
        "outputId": "543fb2a7-f236-4570-df59-5e1ff7f22d19"
      },
      "id": "nlMYa2BSDlVi",
      "execution_count": null,
      "outputs": [
        {
          "output_type": "stream",
          "name": "stdout",
          "text": [
            "None\n"
          ]
        }
      ]
    },
    {
      "cell_type": "code",
      "source": [
        "match = re.search(patterns[0],text)\n"
      ],
      "metadata": {
        "id": "v6B4oyafDlaj"
      },
      "id": "v6B4oyafDlaj",
      "execution_count": null,
      "outputs": []
    },
    {
      "cell_type": "code",
      "source": [
        "type(match)"
      ],
      "metadata": {
        "colab": {
          "base_uri": "https://localhost:8080/"
        },
        "id": "ZJc9jrwODle0",
        "outputId": "90926764-6dea-46da-e86b-0cc6fe991774"
      },
      "id": "ZJc9jrwODle0",
      "execution_count": null,
      "outputs": [
        {
          "output_type": "execute_result",
          "data": {
            "text/plain": [
              "re.Match"
            ]
          },
          "metadata": {},
          "execution_count": 45
        }
      ]
    },
    {
      "cell_type": "code",
      "source": [
        "match.start()"
      ],
      "metadata": {
        "colab": {
          "base_uri": "https://localhost:8080/"
        },
        "id": "X941m5WpDliy",
        "outputId": "cfb4af4d-e87f-4c72-d5d3-63f618ce2675"
      },
      "id": "X941m5WpDliy",
      "execution_count": null,
      "outputs": [
        {
          "output_type": "execute_result",
          "data": {
            "text/plain": [
              "22"
            ]
          },
          "metadata": {},
          "execution_count": 46
        }
      ]
    },
    {
      "cell_type": "code",
      "source": [
        "match.end()"
      ],
      "metadata": {
        "colab": {
          "base_uri": "https://localhost:8080/"
        },
        "id": "Lcy90-wNDlnh",
        "outputId": "fc7f54a8-01e9-4f71-a7a4-9dc48e29c376"
      },
      "id": "Lcy90-wNDlnh",
      "execution_count": null,
      "outputs": [
        {
          "output_type": "execute_result",
          "data": {
            "text/plain": [
              "27"
            ]
          },
          "metadata": {},
          "execution_count": 47
        }
      ]
    },
    {
      "cell_type": "code",
      "source": [
        "split_term = '@'\n",
        "\n",
        "phrase = 'What is your email, is it hello@gmail.com?'"
      ],
      "metadata": {
        "id": "K24u32hhDlri"
      },
      "id": "K24u32hhDlri",
      "execution_count": null,
      "outputs": []
    },
    {
      "cell_type": "code",
      "source": [
        "re.split(split_term, phrase)"
      ],
      "metadata": {
        "colab": {
          "base_uri": "https://localhost:8080/"
        },
        "id": "yqyFaJ9fDlvt",
        "outputId": "eeaac055-0686-4814-f7e9-50726c638755"
      },
      "id": "yqyFaJ9fDlvt",
      "execution_count": null,
      "outputs": [
        {
          "output_type": "execute_result",
          "data": {
            "text/plain": [
              "['What is your email, is it hello', 'gmail.com?']"
            ]
          },
          "metadata": {},
          "execution_count": 49
        }
      ]
    },
    {
      "cell_type": "code",
      "source": [
        "'hello world'.split()"
      ],
      "metadata": {
        "colab": {
          "base_uri": "https://localhost:8080/"
        },
        "id": "iNRaui58Dl0x",
        "outputId": "16bf2774-4aa8-4ded-9d06-9850ec0a0a9c"
      },
      "id": "iNRaui58Dl0x",
      "execution_count": null,
      "outputs": [
        {
          "output_type": "execute_result",
          "data": {
            "text/plain": [
              "['hello', 'world']"
            ]
          },
          "metadata": {},
          "execution_count": 50
        }
      ]
    },
    {
      "cell_type": "code",
      "source": [
        "re.findall('match', 'Here is one match, here is another match')"
      ],
      "metadata": {
        "colab": {
          "base_uri": "https://localhost:8080/"
        },
        "id": "Bg9Q1HZXDl5S",
        "outputId": "3d0dd805-e61d-4e17-be93-2420e628e703"
      },
      "id": "Bg9Q1HZXDl5S",
      "execution_count": null,
      "outputs": [
        {
          "output_type": "execute_result",
          "data": {
            "text/plain": [
              "['match', 'match']"
            ]
          },
          "metadata": {},
          "execution_count": 51
        }
      ]
    },
    {
      "cell_type": "code",
      "source": [
        "def multi_re_find(patterns,phrase):\n",
        "    '''\n",
        "    Takes in a list of regex patterns\n",
        "    Prints a list of all matches\n",
        "    '''\n",
        "    for pattern in patterns:\n",
        "        print('Searching the phrase using the re check: %r' %(pattern))\n",
        "        print(re.findall(pattern,phrase))\n",
        "        print('\\n')"
      ],
      "metadata": {
        "id": "LLCm35vkDl89"
      },
      "id": "LLCm35vkDl89",
      "execution_count": null,
      "outputs": []
    },
    {
      "cell_type": "code",
      "source": [
        "test_phrase = 'sdsd..sssddd...sdddsddd...dsds...dsssss...sdddd'\n",
        "\n",
        "test_patterns = [ 'sd*',     # s followed by zero or more d's\n",
        "                'sd+',          # s followed by one or more d's\n",
        "                'sd?',          # s followed by zero or one d's\n",
        "                'sd{3}',        # s followed by three d's\n",
        "                'sd{2,3}',      # s followed by two to three d's\n",
        "                ]\n",
        "\n",
        "multi_re_find(test_patterns,test_phrase)"
      ],
      "metadata": {
        "colab": {
          "base_uri": "https://localhost:8080/"
        },
        "id": "J5QvuS3gDmBZ",
        "outputId": "73af21f5-dce1-45c6-8542-335edad5a8f7"
      },
      "id": "J5QvuS3gDmBZ",
      "execution_count": null,
      "outputs": [
        {
          "output_type": "stream",
          "name": "stdout",
          "text": [
            "Searching the phrase using the re check: 'sd*'\n",
            "['sd', 'sd', 's', 's', 'sddd', 'sddd', 'sddd', 'sd', 's', 's', 's', 's', 's', 's', 'sdddd']\n",
            "\n",
            "\n",
            "Searching the phrase using the re check: 'sd+'\n",
            "['sd', 'sd', 'sddd', 'sddd', 'sddd', 'sd', 'sdddd']\n",
            "\n",
            "\n",
            "Searching the phrase using the re check: 'sd?'\n",
            "['sd', 'sd', 's', 's', 'sd', 'sd', 'sd', 'sd', 's', 's', 's', 's', 's', 's', 'sd']\n",
            "\n",
            "\n",
            "Searching the phrase using the re check: 'sd{3}'\n",
            "['sddd', 'sddd', 'sddd', 'sddd']\n",
            "\n",
            "\n",
            "Searching the phrase using the re check: 'sd{2,3}'\n",
            "['sddd', 'sddd', 'sddd', 'sddd']\n",
            "\n",
            "\n"
          ]
        }
      ]
    },
    {
      "cell_type": "code",
      "source": [
        "# character sets\n",
        "test_phrase = 'sdsd..sssddd...sdddsddd...dsds...dsssss...sdddd'\n",
        "\n",
        "test_patterns = ['[sd]',    # either s or d\n",
        "                's[sd]+']   # s followed by one or more s or d\n",
        "\n",
        "multi_re_find(test_patterns,test_phrase)"
      ],
      "metadata": {
        "colab": {
          "base_uri": "https://localhost:8080/"
        },
        "id": "8ZfoYfrZDmF6",
        "outputId": "58bdab46-5e15-4538-bf9a-a13ca222256f"
      },
      "id": "8ZfoYfrZDmF6",
      "execution_count": null,
      "outputs": [
        {
          "output_type": "stream",
          "name": "stdout",
          "text": [
            "Searching the phrase using the re check: '[sd]'\n",
            "['s', 'd', 's', 'd', 's', 's', 's', 'd', 'd', 'd', 's', 'd', 'd', 'd', 's', 'd', 'd', 'd', 'd', 's', 'd', 's', 'd', 's', 's', 's', 's', 's', 's', 'd', 'd', 'd', 'd']\n",
            "\n",
            "\n",
            "Searching the phrase using the re check: 's[sd]+'\n",
            "['sdsd', 'sssddd', 'sdddsddd', 'sds', 'sssss', 'sdddd']\n",
            "\n",
            "\n"
          ]
        }
      ]
    },
    {
      "cell_type": "code",
      "source": [
        "# exclusion\n",
        "test_phrase = 'This is a string! But it has punctuation. How can we remove it?'"
      ],
      "metadata": {
        "id": "Axq4eoJLDmJi"
      },
      "id": "Axq4eoJLDmJi",
      "execution_count": null,
      "outputs": []
    },
    {
      "cell_type": "code",
      "source": [
        "re.findall('[^!.? ]+',test_phrase)"
      ],
      "metadata": {
        "colab": {
          "base_uri": "https://localhost:8080/"
        },
        "id": "ULc_fzdgDmNA",
        "outputId": "435f0f66-bfcb-49e6-c62d-839e18474f61"
      },
      "id": "ULc_fzdgDmNA",
      "execution_count": null,
      "outputs": [
        {
          "output_type": "execute_result",
          "data": {
            "text/plain": [
              "['This',\n",
              " 'is',\n",
              " 'a',\n",
              " 'string',\n",
              " 'But',\n",
              " 'it',\n",
              " 'has',\n",
              " 'punctuation',\n",
              " 'How',\n",
              " 'can',\n",
              " 'we',\n",
              " 'remove',\n",
              " 'it']"
            ]
          },
          "metadata": {},
          "execution_count": 56
        }
      ]
    },
    {
      "cell_type": "code",
      "source": [
        "# character ranges\n",
        "test_phrase = 'This is an example sentence. Lets see if we can find some letters.'\n",
        "\n",
        "test_patterns=['[a-z]+',      # sequences of lower case letters\n",
        "               '[A-Z]+',      # sequences of upper case letters\n",
        "               '[a-zA-Z]+',   # sequences of lower or upper case letters\n",
        "               '[A-Z][a-z]+'] # one upper case letter followed by lower case letters\n",
        "\n",
        "multi_re_find(test_patterns,test_phrase)"
      ],
      "metadata": {
        "colab": {
          "base_uri": "https://localhost:8080/"
        },
        "id": "0PRPyDfIDmQT",
        "outputId": "8fc65ba6-b4bf-45a0-e813-cac2ce2be688"
      },
      "id": "0PRPyDfIDmQT",
      "execution_count": null,
      "outputs": [
        {
          "output_type": "stream",
          "name": "stdout",
          "text": [
            "Searching the phrase using the re check: '[a-z]+'\n",
            "['his', 'is', 'an', 'example', 'sentence', 'ets', 'see', 'if', 'we', 'can', 'find', 'some', 'letters']\n",
            "\n",
            "\n",
            "Searching the phrase using the re check: '[A-Z]+'\n",
            "['T', 'L']\n",
            "\n",
            "\n",
            "Searching the phrase using the re check: '[a-zA-Z]+'\n",
            "['This', 'is', 'an', 'example', 'sentence', 'Lets', 'see', 'if', 'we', 'can', 'find', 'some', 'letters']\n",
            "\n",
            "\n",
            "Searching the phrase using the re check: '[A-Z][a-z]+'\n",
            "['This', 'Lets']\n",
            "\n",
            "\n"
          ]
        }
      ]
    },
    {
      "cell_type": "code",
      "source": [
        "# escape codes\n",
        "test_phrase = 'This is a string with some numbers 1233 and a symbol #hashtag'\n",
        "\n",
        "test_patterns=[ r'\\d+', # sequence of digits\n",
        "                r'\\D+', # sequence of non-digits\n",
        "                r'\\s+', # sequence of whitespace\n",
        "                r'\\S+', # sequence of non-whitespace\n",
        "                r'\\w+', # alphanumeric characters\n",
        "                r'\\W+', # non-alphanumeric\n",
        "                ]\n",
        "\n",
        "multi_re_find(test_patterns,test_phrase)"
      ],
      "metadata": {
        "colab": {
          "base_uri": "https://localhost:8080/"
        },
        "id": "sWSvP6q3DmTP",
        "outputId": "3ae00554-0be2-46fa-f777-e051ae572e38"
      },
      "id": "sWSvP6q3DmTP",
      "execution_count": null,
      "outputs": [
        {
          "output_type": "stream",
          "name": "stdout",
          "text": [
            "Searching the phrase using the re check: '\\\\d+'\n",
            "['1233']\n",
            "\n",
            "\n",
            "Searching the phrase using the re check: '\\\\D+'\n",
            "['This is a string with some numbers ', ' and a symbol #hashtag']\n",
            "\n",
            "\n",
            "Searching the phrase using the re check: '\\\\s+'\n",
            "[' ', ' ', ' ', ' ', ' ', ' ', ' ', ' ', ' ', ' ', ' ']\n",
            "\n",
            "\n",
            "Searching the phrase using the re check: '\\\\S+'\n",
            "['This', 'is', 'a', 'string', 'with', 'some', 'numbers', '1233', 'and', 'a', 'symbol', '#hashtag']\n",
            "\n",
            "\n",
            "Searching the phrase using the re check: '\\\\w+'\n",
            "['This', 'is', 'a', 'string', 'with', 'some', 'numbers', '1233', 'and', 'a', 'symbol', 'hashtag']\n",
            "\n",
            "\n",
            "Searching the phrase using the re check: '\\\\W+'\n",
            "[' ', ' ', ' ', ' ', ' ', ' ', ' ', ' ', ' ', ' ', ' #']\n",
            "\n",
            "\n"
          ]
        }
      ]
    },
    {
      "cell_type": "markdown",
      "source": [
        "# Philosphy"
      ],
      "metadata": {
        "id": "vAO22FZAqaS3"
      },
      "id": "vAO22FZAqaS3"
    },
    {
      "cell_type": "code",
      "source": [
        "import this"
      ],
      "metadata": {
        "colab": {
          "base_uri": "https://localhost:8080/"
        },
        "id": "O0CeCcTCqiXn",
        "outputId": "0edfd418-719a-41a6-d362-a76213d8e5dc"
      },
      "id": "O0CeCcTCqiXn",
      "execution_count": null,
      "outputs": [
        {
          "output_type": "stream",
          "name": "stdout",
          "text": [
            "The Zen of Python, by Tim Peters\n",
            "\n",
            "Beautiful is better than ugly.\n",
            "Explicit is better than implicit.\n",
            "Simple is better than complex.\n",
            "Complex is better than complicated.\n",
            "Flat is better than nested.\n",
            "Sparse is better than dense.\n",
            "Readability counts.\n",
            "Special cases aren't special enough to break the rules.\n",
            "Although practicality beats purity.\n",
            "Errors should never pass silently.\n",
            "Unless explicitly silenced.\n",
            "In the face of ambiguity, refuse the temptation to guess.\n",
            "There should be one-- and preferably only one --obvious way to do it.\n",
            "Although that way may not be obvious at first unless you're Dutch.\n",
            "Now is better than never.\n",
            "Although never is often better than *right* now.\n",
            "If the implementation is hard to explain, it's a bad idea.\n",
            "If the implementation is easy to explain, it may be a good idea.\n",
            "Namespaces are one honking great idea -- let's do more of those!\n"
          ]
        }
      ]
    },
    {
      "cell_type": "markdown",
      "source": [
        "# indentation and sequence"
      ],
      "metadata": {
        "id": "yY21JqCGvOw_"
      },
      "id": "yY21JqCGvOw_"
    },
    {
      "cell_type": "code",
      "source": [
        "import platform\n",
        "\n",
        "def main():\n",
        "    message()\n",
        "\n",
        "def message():\n",
        "    print('This is python version {}'.format(platform.python_version()))\n",
        "    print('line2')\n",
        "    print('line3')\n",
        "print('line4')\n",
        "\n",
        "if __name__ == '__main__': main()\n"
      ],
      "metadata": {
        "colab": {
          "base_uri": "https://localhost:8080/"
        },
        "id": "Hs8wcECIqkff",
        "outputId": "0837ad82-d839-4854-fbc0-d07cbdf5c1fc"
      },
      "id": "Hs8wcECIqkff",
      "execution_count": null,
      "outputs": [
        {
          "output_type": "stream",
          "name": "stdout",
          "text": [
            "line4\n",
            "This is python version 3.10.12\n",
            "line2\n",
            "line3\n"
          ]
        }
      ]
    },
    {
      "cell_type": "markdown",
      "source": [
        "# blocks and scope"
      ],
      "metadata": {
        "id": "X-RB9bvlycI6"
      },
      "id": "X-RB9bvlycI6"
    },
    {
      "cell_type": "code",
      "source": [
        "#blocks do not define scope of the variable\n",
        "x = 42\n",
        "y = 73\n",
        "\n",
        "if x < y:\n",
        "    z = 112\n",
        "    print('x < y: x is {} and y is {}'.format(x, y))\n",
        "\n",
        "print(z)"
      ],
      "metadata": {
        "colab": {
          "base_uri": "https://localhost:8080/"
        },
        "id": "cV5WLBppvYn9",
        "outputId": "a93ac1cb-1d81-48ae-da76-5d1d3d86531c"
      },
      "id": "cV5WLBppvYn9",
      "execution_count": null,
      "outputs": [
        {
          "output_type": "stream",
          "name": "stdout",
          "text": [
            "x < y: x is 42 and y is 73\n",
            "112\n"
          ]
        }
      ]
    },
    {
      "cell_type": "markdown",
      "source": [
        "# None"
      ],
      "metadata": {
        "id": "8Vr1Q89G2cPk"
      },
      "id": "8Vr1Q89G2cPk"
    },
    {
      "cell_type": "code",
      "source": [
        "def func(n = 1):\n",
        "  print(n)\n",
        "\n",
        "x = func(42)\n",
        "print(x)"
      ],
      "metadata": {
        "colab": {
          "base_uri": "https://localhost:8080/"
        },
        "id": "z6DwCZ4VyqNt",
        "outputId": "ace5814a-b930-4b23-f327-33e419795afa"
      },
      "id": "z6DwCZ4VyqNt",
      "execution_count": null,
      "outputs": [
        {
          "output_type": "stream",
          "name": "stdout",
          "text": [
            "42\n",
            "None\n"
          ]
        }
      ]
    },
    {
      "cell_type": "code",
      "source": [
        "def func(n = 1):\n",
        "  print(n)\n",
        "  return n\n",
        "\n",
        "x = func(42)\n",
        "print(x)"
      ],
      "metadata": {
        "colab": {
          "base_uri": "https://localhost:8080/"
        },
        "id": "8kzhhfZF2nm4",
        "outputId": "9a5b9723-2b13-4f6b-e6f7-93e9bc4824a6"
      },
      "id": "8kzhhfZF2nm4",
      "execution_count": null,
      "outputs": [
        {
          "output_type": "stream",
          "name": "stdout",
          "text": [
            "42\n",
            "42\n"
          ]
        }
      ]
    },
    {
      "cell_type": "markdown",
      "source": [
        "# String format\n"
      ],
      "metadata": {
        "id": "7V7MGxe1in4J"
      },
      "id": "7V7MGxe1in4J"
    },
    {
      "cell_type": "code",
      "source": [
        "print(\"{} {}\".format(8,9))"
      ],
      "metadata": {
        "id": "zs7KUN_c2quw",
        "colab": {
          "base_uri": "https://localhost:8080/"
        },
        "outputId": "925cceda-d45d-449f-c007-cbd24b7142ee"
      },
      "id": "zs7KUN_c2quw",
      "execution_count": 1,
      "outputs": [
        {
          "output_type": "stream",
          "name": "stdout",
          "text": [
            "8 9\n"
          ]
        }
      ]
    },
    {
      "cell_type": "code",
      "source": [
        "print(\"{1} {0}\".format(8,9)) #swapping positions"
      ],
      "metadata": {
        "colab": {
          "base_uri": "https://localhost:8080/"
        },
        "id": "UsDJvTW9irGz",
        "outputId": "72ccfc86-3bff-4042-ab41-14bd98e97b44"
      },
      "id": "UsDJvTW9irGz",
      "execution_count": 2,
      "outputs": [
        {
          "output_type": "stream",
          "name": "stdout",
          "text": [
            "9 8\n"
          ]
        }
      ]
    },
    {
      "cell_type": "code",
      "source": [
        "print(\"'{0:10}' '{1:10}'\".format('8','9')) # adds 9 space afer the character by default"
      ],
      "metadata": {
        "colab": {
          "base_uri": "https://localhost:8080/"
        },
        "id": "n81MxadUiji9",
        "outputId": "805e57be-986f-4992-daed-a9422019670b"
      },
      "id": "n81MxadUiji9",
      "execution_count": 11,
      "outputs": [
        {
          "output_type": "stream",
          "name": "stdout",
          "text": [
            "'8         ' '9         '\n"
          ]
        }
      ]
    },
    {
      "cell_type": "code",
      "source": [
        "print(\"'{0:>10}' '{1:<10}'\".format('8','9')) #> adds before (left) align), < adds after (right align)"
      ],
      "metadata": {
        "colab": {
          "base_uri": "https://localhost:8080/"
        },
        "id": "6Yi6SvDni7JG",
        "outputId": "8cea276a-c298-4136-f22c-7ef3340381d1"
      },
      "id": "6Yi6SvDni7JG",
      "execution_count": 13,
      "outputs": [
        {
          "output_type": "stream",
          "name": "stdout",
          "text": [
            "'         8' '9         '\n"
          ]
        }
      ]
    },
    {
      "cell_type": "code",
      "source": [
        "print(\"'{0:>10}' '{1:<10}'\".format('8','98765'))"
      ],
      "metadata": {
        "colab": {
          "base_uri": "https://localhost:8080/"
        },
        "id": "rzOUmlEejoSy",
        "outputId": "c498e96b-fe18-4404-968d-7c11f2893fc5"
      },
      "id": "rzOUmlEejoSy",
      "execution_count": 14,
      "outputs": [
        {
          "output_type": "stream",
          "name": "stdout",
          "text": [
            "'         8' '98765     '\n"
          ]
        }
      ]
    },
    {
      "cell_type": "code",
      "source": [
        "print(\"'{0:0>10}' '{1:<10}'\".format('8','98765')) #adds remaining space with 0"
      ],
      "metadata": {
        "colab": {
          "base_uri": "https://localhost:8080/"
        },
        "id": "90B4FJ-Pj7fK",
        "outputId": "7c3ac664-fa91-4c72-fd01-678107c685a8"
      },
      "id": "90B4FJ-Pj7fK",
      "execution_count": 15,
      "outputs": [
        {
          "output_type": "stream",
          "name": "stdout",
          "text": [
            "'0000000008' '98765     '\n"
          ]
        }
      ]
    },
    {
      "cell_type": "code",
      "source": [
        "print(\"'{0:0>10}' '{1:<10}'\".format('8','987654321010101010101'))"
      ],
      "metadata": {
        "colab": {
          "base_uri": "https://localhost:8080/"
        },
        "id": "m-lUfshdj_kq",
        "outputId": "7e6f0060-3f9d-483e-a426-b91c8a3cad92"
      },
      "id": "m-lUfshdj_kq",
      "execution_count": 16,
      "outputs": [
        {
          "output_type": "stream",
          "name": "stdout",
          "text": [
            "'0000000008' '987654321010101010101'\n"
          ]
        }
      ]
    },
    {
      "cell_type": "code",
      "source": [
        "a=8;b=987654321010101010101\n",
        "\n",
        "print(f\"'{a:0>10}' '{b:<10}'\") #alternate way with f string"
      ],
      "metadata": {
        "colab": {
          "base_uri": "https://localhost:8080/"
        },
        "id": "Hl1oyJRikLFz",
        "outputId": "4b2d1eb7-7ff2-422c-9053-1ed692a6108f"
      },
      "id": "Hl1oyJRikLFz",
      "execution_count": 18,
      "outputs": [
        {
          "output_type": "stream",
          "name": "stdout",
          "text": [
            "'0000000008' '987654321010101010101'\n"
          ]
        }
      ]
    },
    {
      "cell_type": "code",
      "source": [
        "a = 0.1; b= 0.1 ; c = 0.1 ; d = 0.3\n",
        "\n",
        "print( a + b + c - d) #python by default sacrificing accuracy for precison for such floating point calculation ex - upto 17 places afer decimal it is precise"
      ],
      "metadata": {
        "colab": {
          "base_uri": "https://localhost:8080/"
        },
        "id": "eG5wAgL4kz-x",
        "outputId": "6d1c8ba5-2755-46c6-f075-30e0e3cd7f18"
      },
      "id": "eG5wAgL4kz-x",
      "execution_count": 20,
      "outputs": [
        {
          "output_type": "stream",
          "name": "stdout",
          "text": [
            "5.551115123125783e-17\n"
          ]
        }
      ]
    },
    {
      "cell_type": "code",
      "source": [
        "#above problem is solved by sing decimal object provind nuber as a string\n",
        "from decimal import *\n",
        "\n",
        "a = Decimal('0.1'); b= Decimal('0.1') ; c = Decimal('0.1') ; d = Decimal('0.3')\n",
        "print( a + b + c - d)"
      ],
      "metadata": {
        "colab": {
          "base_uri": "https://localhost:8080/"
        },
        "id": "YuA1CuYblwmn",
        "outputId": "ce5c8e4a-e956-467a-9be0-2b0d35184630"
      },
      "id": "YuA1CuYblwmn",
      "execution_count": 23,
      "outputs": [
        {
          "output_type": "stream",
          "name": "stdout",
          "text": [
            "0.0\n"
          ]
        }
      ]
    },
    {
      "cell_type": "markdown",
      "source": [
        "# id and type"
      ],
      "metadata": {
        "id": "NY-QzfTPpt0I"
      },
      "id": "NY-QzfTPpt0I"
    },
    {
      "cell_type": "code",
      "source": [
        "x = (1, 'two', 3.0, [4, 'four'], 5)\n",
        "y = (1, 'two', 3.0, [4, 'four'], 5)\n",
        "\n",
        "# == checks for the value\n",
        "\n",
        "if x == y:\n",
        "  print(True)\n",
        "else:\n",
        "  print(False)\n",
        "\n",
        "# is checks for id\n",
        "print(id(x))\n",
        "print(id(y))\n",
        "if x is y:\n",
        "  print(True)\n",
        "else:\n",
        "  print(False)\n",
        "\n",
        "# but literals have same id  so literal 1 has same id\n",
        "if x[0] == y[0]:\n",
        "  print(True)\n",
        "else:\n",
        "  print(False)\n",
        "\n",
        "print(id(x[0]))\n",
        "print(id(y[0]))\n",
        "if x[0] is y[0]:\n",
        "  print(True)\n",
        "else:\n",
        "  print(False)\n",
        "\n",
        "x = (1, 'ram', 3.0, [4, 'four'], 5)\n",
        "y = (1, 'ram', 3.0, [4, 'four'], 5)\n",
        "\n",
        "if x[1] is y[1]:\n",
        "  print(True)\n",
        "else:\n",
        "  print(False)\n",
        "\n",
        "if type(x) == tuple: #this one depends on python version\n",
        "  print('yes')\n",
        "else:\n",
        "  print('no')\n",
        "\n",
        "if isinstance(x,tuple):\n",
        "  print('yes')\n",
        "else:\n",
        "  print('no')\n"
      ],
      "metadata": {
        "colab": {
          "base_uri": "https://localhost:8080/"
        },
        "id": "GCoulR-9nLMh",
        "outputId": "c29163cd-b773-43b1-9716-769b6aa628cc"
      },
      "id": "GCoulR-9nLMh",
      "execution_count": 39,
      "outputs": [
        {
          "output_type": "stream",
          "name": "stdout",
          "text": [
            "True\n",
            "137495512291968\n",
            "137495512425200\n",
            "False\n",
            "True\n",
            "137496784224496\n",
            "137496784224496\n",
            "True\n",
            "True\n",
            "yes\n",
            "yes\n"
          ]
        }
      ]
    },
    {
      "cell_type": "markdown",
      "source": [
        "# Conditional one line check"
      ],
      "metadata": {
        "id": "vWW0AqSzu5wE"
      },
      "id": "vWW0AqSzu5wE"
    },
    {
      "cell_type": "code",
      "source": [
        "hungry = 0\n",
        "\n",
        "x = 'yes hungry' if hungry else 'not hungry'\n",
        "print(x)"
      ],
      "metadata": {
        "colab": {
          "base_uri": "https://localhost:8080/"
        },
        "id": "KKLi9seKsDd5",
        "outputId": "4a90fd47-3d60-474b-de80-d9ec2bd695df"
      },
      "id": "KKLi9seKsDd5",
      "execution_count": 42,
      "outputs": [
        {
          "output_type": "stream",
          "name": "stdout",
          "text": [
            "not hungry\n"
          ]
        }
      ]
    },
    {
      "cell_type": "code",
      "source": [],
      "metadata": {
        "id": "zrp29HeDu3Gm"
      },
      "id": "zrp29HeDu3Gm",
      "execution_count": null,
      "outputs": []
    }
  ],
  "metadata": {
    "kernelspec": {
      "display_name": "Python 3 (ipykernel)",
      "language": "python",
      "name": "python3"
    },
    "language_info": {
      "codemirror_mode": {
        "name": "ipython",
        "version": 3
      },
      "file_extension": ".py",
      "mimetype": "text/x-python",
      "name": "python",
      "nbconvert_exporter": "python",
      "pygments_lexer": "ipython3",
      "version": "3.9.7"
    },
    "colab": {
      "provenance": [],
      "collapsed_sections": [
        "FimjXajgfchz",
        "jCWKyFUb2oG3",
        "vfES906sNITB",
        "Kk8Q2qUzCGGH",
        "7-4SSG4rCYRI",
        "DTD6-bFwCsNh",
        "fos_HN5RC_ak",
        "ln8jZ0q2DWnH",
        "eLIjVZYeD4D6"
      ]
    }
  },
  "nbformat": 4,
  "nbformat_minor": 5
}