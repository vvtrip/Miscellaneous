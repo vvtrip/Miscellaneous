{
  "cells": [
    {
      "cell_type": "markdown",
      "source": [
        "# Basic Data types"
      ],
      "metadata": {
        "id": "FimjXajgfchz"
      },
      "id": "FimjXajgfchz"
    },
    {
      "cell_type": "code",
      "execution_count": 1,
      "id": "203decd8",
      "metadata": {
        "colab": {
          "base_uri": "https://localhost:8080/",
          "height": 36
        },
        "id": "203decd8",
        "outputId": "cc11affe-69f9-4f4a-8724-83dfaa57239a"
      },
      "outputs": [
        {
          "output_type": "execute_result",
          "data": {
            "text/plain": [
              "'aceg'"
            ],
            "application/vnd.google.colaboratory.intrinsic+json": {
              "type": "string"
            }
          },
          "metadata": {},
          "execution_count": 1
        }
      ],
      "source": [
        "#jump characters in string by specifying step, here step is 2 (default is 1)\n",
        "x = 'abcdefgh'\n",
        "x[::2]"
      ]
    },
    {
      "cell_type": "code",
      "execution_count": 2,
      "id": "9f98dda0",
      "metadata": {
        "colab": {
          "base_uri": "https://localhost:8080/"
        },
        "id": "9f98dda0",
        "outputId": "297259d9-a45a-4774-991f-8f72ebaeb669"
      },
      "outputs": [
        {
          "output_type": "stream",
          "name": "stdout",
          "text": [
            "5.551115123125783e-17\n"
          ]
        }
      ],
      "source": [
        "print(0.1 + 0.2 - 0.3)\n",
        "#this has to do with floating point accuracy and computer's abilities to represent\n",
        "#numbers in memory. CHECK - https://docs.python.org/2/tutorial/floatingpoint.html"
      ]
    },
    {
      "cell_type": "code",
      "source": [
        "#formatted string\n",
        "print('The {}'.format('fox'))\n",
        "print('The {} {} {}'.format('fox','brown','quick'))\n",
        "print('The {1} {2} {0}'.format('fox','brown','quick')) #using index position\n",
        "print('The {q} {b} {f}'.format(f='fox',b='brown',q='quick'))\n",
        "f='fox';b='brown';q='quick'\n",
        "print(f'The {f} {q} {b}') #known as f strings"
      ],
      "metadata": {
        "colab": {
          "base_uri": "https://localhost:8080/"
        },
        "id": "Tma2m84TGm3v",
        "outputId": "cbcfef90-5b6c-41a9-896b-191435ede5b3"
      },
      "id": "Tma2m84TGm3v",
      "execution_count": 3,
      "outputs": [
        {
          "output_type": "stream",
          "name": "stdout",
          "text": [
            "The fox\n",
            "The fox brown quick\n",
            "The brown quick fox\n",
            "The quick brown fox\n",
            "The fox quick brown\n"
          ]
        }
      ]
    },
    {
      "cell_type": "code",
      "source": [
        "#float fomratting\n",
        "\n",
        "# {value:width.precision f}\n",
        "x = 100/77\n",
        "\n",
        "print(f'value is {x:1.9f}') #can be used as an alternative of round()"
      ],
      "metadata": {
        "colab": {
          "base_uri": "https://localhost:8080/"
        },
        "id": "qhEfBi0tNoxl",
        "outputId": "701ed2b2-293b-4f3e-e40e-a2e2852e31c8"
      },
      "id": "qhEfBi0tNoxl",
      "execution_count": 4,
      "outputs": [
        {
          "output_type": "stream",
          "name": "stdout",
          "text": [
            "value is 1.298701299\n"
          ]
        }
      ]
    },
    {
      "cell_type": "code",
      "source": [
        "num_list = [1,2,3,4,5,6,7]\n",
        "print(num_list.pop()) #returns last elements and also deletes it from the list\n",
        "print(num_list)"
      ],
      "metadata": {
        "colab": {
          "base_uri": "https://localhost:8080/"
        },
        "id": "9UIQo3lIP_8B",
        "outputId": "ff42e052-f4b9-482b-ec84-654504f55ca9"
      },
      "id": "9UIQo3lIP_8B",
      "execution_count": 5,
      "outputs": [
        {
          "output_type": "stream",
          "name": "stdout",
          "text": [
            "7\n",
            "[1, 2, 3, 4, 5, 6]\n"
          ]
        }
      ]
    },
    {
      "cell_type": "code",
      "source": [
        "print(num_list.pop(0)) #position to delete\n",
        "num_list"
      ],
      "metadata": {
        "colab": {
          "base_uri": "https://localhost:8080/"
        },
        "id": "Sj4lDrcoTfdu",
        "outputId": "f48ad25d-3378-4b73-a8f6-a0fa049d68c3"
      },
      "id": "Sj4lDrcoTfdu",
      "execution_count": 6,
      "outputs": [
        {
          "output_type": "stream",
          "name": "stdout",
          "text": [
            "1\n"
          ]
        },
        {
          "output_type": "execute_result",
          "data": {
            "text/plain": [
              "[2, 3, 4, 5, 6]"
            ]
          },
          "metadata": {},
          "execution_count": 6
        }
      ]
    },
    {
      "cell_type": "code",
      "source": [
        "my_list = ['a','e','b','x','c']\n",
        "print(my_list.sort()) #doesn't return anything as it sorts IN-PLACE\n",
        "print(my_list)\n",
        "\n",
        "#incorrect way of assignment\n",
        "my_list = ['a','e','b','x','c']\n",
        "my_sorted_list = my_list.sort()\n",
        "print(my_sorted_list)\n",
        "\n",
        "#but sort() makes changes to the list and that list can be stored or assigned or used\n",
        "my_list = ['a','e','b','x','c']\n",
        "my_list.sort()\n",
        "my_sorted_list = my_list\n",
        "print(my_sorted_list)"
      ],
      "metadata": {
        "colab": {
          "base_uri": "https://localhost:8080/"
        },
        "id": "uYqWWH79UkTI",
        "outputId": "298f18ef-4035-4b43-c046-9100bc647684"
      },
      "id": "uYqWWH79UkTI",
      "execution_count": 7,
      "outputs": [
        {
          "output_type": "stream",
          "name": "stdout",
          "text": [
            "None\n",
            "['a', 'b', 'c', 'e', 'x']\n",
            "None\n",
            "['a', 'b', 'c', 'e', 'x']\n"
          ]
        }
      ]
    },
    {
      "cell_type": "code",
      "source": [
        "my_list = ['a','e','b','x','c']\n",
        "my_list.reverse()\n",
        "print(my_list)\n",
        "\n",
        "my_num_list = [1,4414235,4651353,43,3535,25,46,4365,6]\n",
        "my_num_list.sort()\n",
        "print(my_num_list)\n",
        "\n",
        "my_num_list = [1,4414235,4651353,43,3535,25,46,4365,6]\n",
        "print(my_num_list.reverse()) #reverse is jus tlike sort, INPLACE reversal\n",
        "print(my_num_list)"
      ],
      "metadata": {
        "colab": {
          "base_uri": "https://localhost:8080/"
        },
        "id": "K3vyqsjtUy6g",
        "outputId": "bd0d81b9-c8f9-4726-c3ee-fff2da974995"
      },
      "id": "K3vyqsjtUy6g",
      "execution_count": 8,
      "outputs": [
        {
          "output_type": "stream",
          "name": "stdout",
          "text": [
            "['c', 'x', 'b', 'e', 'a']\n",
            "[1, 6, 25, 43, 46, 3535, 4365, 4414235, 4651353]\n",
            "None\n",
            "[6, 4365, 46, 25, 3535, 43, 4651353, 4414235, 1]\n"
          ]
        }
      ]
    },
    {
      "cell_type": "code",
      "source": [
        "#tuple has lesser felxibility than lists since it is immutableand also lesser functionality\n",
        "# still it is useful for scenarios where we won't want values to be altered by mistake\n",
        "\n",
        "t = ('a','a','b')\n",
        "print(t.count('a'))\n",
        "print(t.index('a'))#returns first index\n",
        "print(t.index('b'))"
      ],
      "metadata": {
        "colab": {
          "base_uri": "https://localhost:8080/"
        },
        "id": "xaZr76ECYE_-",
        "outputId": "ef99003b-c7b0-4ee4-c56a-0189405ed854"
      },
      "id": "xaZr76ECYE_-",
      "execution_count": 9,
      "outputs": [
        {
          "output_type": "stream",
          "name": "stdout",
          "text": [
            "2\n",
            "0\n",
            "2\n"
          ]
        }
      ]
    },
    {
      "cell_type": "code",
      "source": [
        "# magic function to create new file with content\n",
        "\n",
        "%%writefile my_new_file.txt\n",
        "ONE ON FIRST\n",
        "TWO ON SECOND\n",
        "THREE ON THIRD"
      ],
      "metadata": {
        "colab": {
          "base_uri": "https://localhost:8080/"
        },
        "id": "2Nbq6FGXbmFV",
        "outputId": "228aca77-4469-429d-8ac3-e45c3605c78e"
      },
      "id": "2Nbq6FGXbmFV",
      "execution_count": 10,
      "outputs": [
        {
          "output_type": "stream",
          "name": "stdout",
          "text": [
            "Overwriting my_new_file.txt\n"
          ]
        }
      ]
    },
    {
      "cell_type": "code",
      "source": [
        "import os;os.listdir()"
      ],
      "metadata": {
        "colab": {
          "base_uri": "https://localhost:8080/"
        },
        "id": "Z5Di9lGqdcW0",
        "outputId": "66e839a6-d244-4e94-9cbb-35500ee914be"
      },
      "id": "Z5Di9lGqdcW0",
      "execution_count": 11,
      "outputs": [
        {
          "output_type": "execute_result",
          "data": {
            "text/plain": [
              "['.config', 'my_new_file.txt', 'sample_data']"
            ]
          },
          "metadata": {},
          "execution_count": 11
        }
      ]
    }
  ],
  "metadata": {
    "kernelspec": {
      "display_name": "Python 3 (ipykernel)",
      "language": "python",
      "name": "python3"
    },
    "language_info": {
      "codemirror_mode": {
        "name": "ipython",
        "version": 3
      },
      "file_extension": ".py",
      "mimetype": "text/x-python",
      "name": "python",
      "nbconvert_exporter": "python",
      "pygments_lexer": "ipython3",
      "version": "3.9.7"
    },
    "colab": {
      "provenance": []
    }
  },
  "nbformat": 4,
  "nbformat_minor": 5
}