{
 "cells": [
  {
   "cell_type": "markdown",
   "id": "d0f28f98-8762-4c4e-a3aa-26408c2d88a8",
   "metadata": {},
   "source": [
    "# Estimation theory intro"
   ]
  },
  {
   "cell_type": "markdown",
   "id": "41745c29-f8ec-4d32-b3bb-ad8714ec6dcd",
   "metadata": {},
   "source": [
    "**Estimation theory** offers methods not only for estimating parameters but also for assessing the goodness of estimates and making confidence statements. Estimation goes beyond simply obtaining point estimates, and also requires understanding the uncertainty surrounding those estimates and making confidence statements about where the true value may lie."
   ]
  },
  {
   "cell_type": "markdown",
   "id": "fa92cf03-fdc6-4c8d-8492-03c0bcc56b1b",
   "metadata": {},
   "source": [
    "Estimation involves using **data** to determine the value of unknown parameters. Known information, which can include prior knowledge of parameters or processes, is also taken into account. **Data** is considered the \"food\" for estimation, and an estimator is used to process this data and determine an estimate of the parameters. \n",
    "\n",
    "- However, the estimator can never reach the true value of the parameters from finite samples, and the estimate will depend on the **model** used to connect the known data to the unknown parameters. The **model** acts as a bridge between the known and unknowns, allowing estimation to occur."
   ]
  },
  {
   "cell_type": "markdown",
   "id": "091fc72e-8361-440f-a2ce-89098d993916",
   "metadata": {},
   "source": [
    "The role of **constraints** in estimation exercises \n",
    "- constraints are a part of the model and are used to ensure that estimated values, such as average temperature or spectral densities, meet certain conditions."
   ]
  },
  {
   "cell_type": "markdown",
   "id": "c739fde6-05b2-4289-bb5d-73f02aba0e35",
   "metadata": {},
   "source": [
    "The idea of an **objective function(loss function)**\n",
    "- It acts as a guide to help estimate values as close to the truth as possible. A metric for proximity or distance is needed to define what \"close\" means, some common metrics include the Euclidean norm and squared distance.\n",
    "- There is an optimization problem involved in estimation, as there may be multiple solutions and the optimizer must choose the best one without knowing the truth.\n",
    "\n",
    "The formula or expression that results from combining the objective function, model, and uncertainty assumptions is called the **estimator.**"
   ]
  },
  {
   "cell_type": "markdown",
   "id": "5d9afd6f-20b1-4ed6-b90b-abffab72b548",
   "metadata": {},
   "source": [
    "Let's consider a problem of estimating an unknown constant signal (c) from N observations or measurements (y). Despite having N observations, we can only find the best estimate and cannot obtain the absolute truth due to uncertainties. To estimate the unknown signal, we require a mapping from the known measurements to the unknown space, which is represented by the model y = C + e, where let e be Gaussian white noise. The assumption of white noise may not always be correct and that the model can be modified based on the nature of the parameters entering it."
   ]
  },
  {
   "cell_type": "markdown",
   "id": "ddc6250e-86ec-4eb3-aa85-8c5e43124b59",
   "metadata": {},
   "source": [
    "Instead of trying to drive the estimates directly to the true values, we should find representatives of the estimates and the true values, and drive them close to each other in hopes that the estimates will also approach the true values. We can have a measurement as the representative of the true value, and constructs a representative of the estimate by making a prediction based on the current estimate and the model. The quality of the final estimate depends on the accuracy of the model used to construct the representative of the estimate."
   ]
  },
  {
   "cell_type": "markdown",
   "id": "a0d0ce08-7dc5-4aab-9bf6-23ed6e1af4d8",
   "metadata": {},
   "source": [
    "We can transform the problem of estimating a parameter C by minimizing the difference between the predicted value y hat and the actual measurement. Instead of focusing on driving theta hat (an estimate of C) close to C naught, the goal is now to drive y hat of each observation as close as possible to the corresponding measurement y. This change is beneficial because it is a well-posed problem that deals with knowns. \n",
    "\n",
    "- **The choice of a measure of distance between y hat and y is the squared Euclidean distance, which is more mathematically friendly for optimization**. - The objective is to minimize the collective squared distance between all observations.\n",
    "- The solution to this standard least squares problem is the **sample mean, which is the best estimate of C in the least square sense**."
   ]
  },
  {
   "cell_type": "markdown",
   "id": "6454b711-fe55-4184-b9d4-115c0a021197",
   "metadata": {},
   "source": [
    "Linear estimator that takes in data, model and objective function, to produce an estimate is a linear function of the observations and has advantages in implementation. Changing the objective function can change results. \n",
    "- The Manhattan distance or taxi driver's distance is a 1-norm measure. The solution to minimizing this distance is the sample median, which is the optimal estimate in the 1-norm sense. \n",
    "- Changing the objective function can lead to different estimates and the optimality of each estimate in its respective sense."
   ]
  },
  {
   "cell_type": "markdown",
   "id": "628f24a8-c8d1-4001-a215-dcbac052957e",
   "metadata": {},
   "source": [
    "The estimated value depends on the objective function. Examples of estimators - sample mean and sample median. The choice of estimator depends on the objective. "
   ]
  },
  {
   "cell_type": "markdown",
   "id": "76b06ba8-823e-4cfe-b6ea-d7a3dbb2571e",
   "metadata": {},
   "source": [
    "Whether the sample median is a linear or non-linear estimator can be determined by the superposition principle. Since median involves sorting opeartion , sorted(A) + sorted(B) = sorted(A+B) doesn't true hold. So sample median is a non-linear estimator\n",
    "- Non-linear estimators can be more difficult to analyze in terms of their goodness, making them painful to work with, but they are not necessarily bad."
   ]
  },
  {
   "cell_type": "markdown",
   "id": "cb548787-cec7-4223-9cd2-36b91c4dcb2f",
   "metadata": {},
   "source": [
    "While sample mean is sensitive to outliers or extreme values, making it less robust, sample median is more tolerant to such values. This property is referred to as the **breakdown point**"
   ]
  },
  {
   "cell_type": "markdown",
   "id": "cf4a7b52-03ae-4f5c-9fc2-848222bf61b1",
   "metadata": {},
   "source": [
    "**In estimation theory, it is impossible for a single estimator to have all desirable properties such as efficiency, consistency, robustness, ease of implementation, and optimal estimation. Therefore, one has to make sacrifices and choose what is most important.**"
   ]
  },
  {
   "cell_type": "code",
   "execution_count": null,
   "id": "f80f5a58-66e4-477a-9a99-ce96b906b141",
   "metadata": {},
   "outputs": [],
   "source": []
  }
 ],
 "metadata": {
  "kernelspec": {
   "display_name": "Python 3 (ipykernel)",
   "language": "python",
   "name": "python3"
  },
  "language_info": {
   "codemirror_mode": {
    "name": "ipython",
    "version": 3
   },
   "file_extension": ".py",
   "mimetype": "text/x-python",
   "name": "python",
   "nbconvert_exporter": "python",
   "pygments_lexer": "ipython3",
   "version": "3.10.1"
  }
 },
 "nbformat": 4,
 "nbformat_minor": 5
}
